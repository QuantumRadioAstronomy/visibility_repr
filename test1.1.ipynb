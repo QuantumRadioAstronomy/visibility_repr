{
 "cells": [
  {
   "cell_type": "markdown",
   "id": "2a6105cd",
   "metadata": {},
   "source": [
    "# Naive representation"
   ]
  },
  {
   "cell_type": "code",
   "execution_count": 1,
   "id": "ad6cbc81",
   "metadata": {},
   "outputs": [],
   "source": [
    "import numpy as np\n",
    "import matplotlib.pyplot as plt\n",
    "import struct\n",
    "\n",
    "import qiskit\n",
    "from qiskit import *"
   ]
  },
  {
   "cell_type": "code",
   "execution_count": 2,
   "id": "253aa61f",
   "metadata": {},
   "outputs": [],
   "source": [
    "# float to binary \n",
    "def float_to_bin_real(num):\n",
    "    return format(struct.unpack('!I', struct.pack('!f', num))[0], '032b')\n",
    "def float_to_bin_imag(num):\n",
    "    return format(struct.unpack('!I', struct.pack('!f', num))[0], '032b')\n",
    "\n",
    "# binary to float\n",
    "def bin_to_float_real(binary):\n",
    "    return struct.unpack('!f',struct.pack('!I', int(binary, 2)))[0]\n",
    "def bin_to_float_imag(binary):\n",
    "    return struct.unpack('!f',struct.pack('!I', int(binary, 2)))[0]\n",
    "\n",
    "# reverse a string (for the measurement step readout)\n",
    "def reverse(string):\n",
    "    string = string[::-1]\n",
    "    return string"
   ]
  },
  {
   "cell_type": "code",
   "execution_count": 3,
   "id": "21863931",
   "metadata": {},
   "outputs": [
    {
     "name": "stdout",
     "output_type": "stream",
     "text": [
      "[[-9.79822502e-03+9.91198421e-03j -3.26865329e-03-7.41205225e-03j\n",
      "   2.70620501e-03-1.67917330e-02j -7.22035719e-03-6.20893715e-03j\n",
      "   1.06661944e-02-6.90225186e-03j  9.75444717e+01+2.02453003e+01j\n",
      "   6.98550720e+01+4.02459068e+01j  7.07066804e-03-1.15218554e-02j\n",
      "  -8.63064139e-04+7.44694797e-03j -4.76524280e-03+1.48997363e-02j]\n",
      " [-1.34093314e-02+2.01784428e-02j  3.71163548e-03+1.12595903e-02j\n",
      "  -1.39087101e-03-4.53997683e-03j  2.18777191e-02-1.71075501e-02j\n",
      "   7.11918948e-03-6.72707893e-03j  2.06085033e+01+2.75555382e+01j\n",
      "  -9.32152662e-03+1.78378075e-02j  1.12778712e-02+1.27095904e-04j\n",
      "  -4.25450783e-03-4.19848785e-03j  1.53271900e-02-1.44975074e-02j]\n",
      " [ 3.72063019e-03-3.59393540e-04j  1.63484272e-02-1.52307493e-03j\n",
      "  -1.64198801e-02-2.75165634e-03j -6.23528147e-03+4.38940432e-03j\n",
      "  -4.84450767e-03-8.90939869e-03j -1.59791892e-03-2.29314528e-03j\n",
      "   1.87524012e-03-3.75279854e-03j  2.13133171e-03-8.90138932e-03j\n",
      "   8.32952347e+01+5.38020477e+01j -8.14855006e-03+9.53827985e-03j]\n",
      " [-1.78647228e-02-7.38463830e-04j  1.58512723e-02-1.14323981e-02j\n",
      "   6.47429563e-03+3.30056157e-03j -9.63883847e-03+1.62416045e-02j\n",
      "  -8.45255563e-04-1.63660645e-02j  8.87392275e-03+5.70521317e-03j\n",
      "   1.10521528e-03-5.75801032e-03j  8.05066712e-03+1.29916216e-03j\n",
      "  -1.20159909e-02-9.05316602e-03j  1.21212173e-02+7.96264689e-03j]\n",
      " [ 2.41151452e-02-2.80389306e-03j  8.52834154e-03+7.38265086e-03j\n",
      "  -1.44395267e-03-4.92729107e-03j  1.84689350e-02-1.35540543e-02j\n",
      "  -4.07298980e-03-1.20046912e-02j  9.81408055e-04-7.28210295e-03j\n",
      "   3.62856756e-03+1.06334072e-02j -1.59722101e-02+1.24058605e-03j\n",
      "  -5.73813915e-03+6.73631672e-04j  4.04567574e-04+1.40330521e-02j]\n",
      " [-1.56718269e-02+6.20538648e-03j  1.73610309e-03-4.09351382e-03j\n",
      "  -1.55290717e-03-6.67303149e-03j  3.13195423e-03-1.47039746e-03j\n",
      "  -8.18075519e-03-7.73434155e-03j -1.18755391e-02+2.49625044e-03j\n",
      "   1.27817345e+01+3.90619621e+01j -6.90109422e-03+9.30031296e-03j\n",
      "   1.62733793e-02-1.89189538e-02j -1.40015781e-02+1.24475472e-02j]\n",
      " [-4.40078788e-04-1.17052523e-02j -4.03437251e-03+4.53053927e-03j\n",
      "   7.02252612e-03+4.13922919e-03j  1.83558846e+01+6.21985359e+01j\n",
      "   7.49611893e+01+4.19734802e+01j -3.66830057e-03+4.61032242e-03j\n",
      "  -5.64159034e-03-6.53872441e-04j  1.29728122e-02+1.88782159e-02j\n",
      "   8.44000606e-04-9.22637340e-03j  1.21572036e-02+1.96983963e-02j]\n",
      " [-2.78792717e-03+7.53848348e-03j -1.92621052e-02+8.93031992e-03j\n",
      "   1.51958154e-03-1.91087425e-02j  1.20577672e-02-6.82284078e-03j\n",
      "  -5.58232283e-03+8.70360818e-04j  1.08143795e-04+9.75425262e-03j\n",
      "  -5.65877371e-03+1.94220617e-03j  3.37945274e-03+1.21882455e-02j\n",
      "   3.70483322e-04+3.33133433e-03j -6.34451956e-03-7.88899604e-03j]\n",
      " [-6.03595399e-04-9.08868574e-03j -1.29352994e-02+8.27843044e-03j\n",
      "   6.97661819e+01+4.75466843e+01j  9.81837540e+01+3.11836357e+01j\n",
      "   9.84839172e+01+4.74635811e+01j  6.90460578e-03-1.03745675e-02j\n",
      "  -2.20165439e-02+9.67377622e-04j -3.30627407e-03-1.05111003e-02j\n",
      "  -4.77214437e-03-2.55890172e-02j -2.38374225e-03-3.19055724e-03j]\n",
      " [ 5.06720738e-03-7.94242695e-03j -1.71911288e-02+2.45896564e-03j\n",
      "   4.02479479e-03-8.33908748e-03j -3.77270393e-03-2.02556867e-02j\n",
      "  -7.09207449e-03+2.95562996e-03j  1.50069280e-03-1.00206072e-02j\n",
      "  -4.55053244e-03-8.87588831e-04j -2.02371944e-02+7.72313273e-04j\n",
      "  -1.37700131e-02-2.55014771e-03j  4.30788752e-03-1.67461839e-02j]]\n"
     ]
    }
   ],
   "source": [
    "# image of the sky filled with double precision complex floats (single precision for reals/imaginaries)\n",
    "# few pixels are set to relatively large complex random values in random spots (image sources)\n",
    "# relatively small complex values are added (white noise from background radiations) \n",
    "\n",
    "n = 10 #number of antennas\n",
    "\n",
    "sky_image = np.zeros((n, n), dtype='complex64')\n",
    "mask = np.zeros((n, n), dtype='bool')\n",
    "stars = np.random.randint(1, 11) #random number of sources\n",
    "radius = 1 #np.random.randint(1, 3) #with random radius\n",
    "\n",
    "for i in range(0, stars):\n",
    "    index_i = np.random.randint(0, sky_image.shape[0]-radius)\n",
    "    index_j = np.random.randint(0, sky_image.shape[1]-radius)\n",
    "    for j in range(0, radius):\n",
    "        for k in range(0, radius):\n",
    "            sky_image[index_i+j][index_j+k] = complex(np.random.rand()*100, np.random.rand()*100)\n",
    "            mask[index_i+j][index_j+k] = True\n",
    "            \n",
    "sky_image.real += np.random.randn(n,n)/100\n",
    "sky_image.imag += np.random.randn(n,n)/100\n",
    "\n",
    "print(sky_image)"
   ]
  },
  {
   "cell_type": "code",
   "execution_count": 4,
   "id": "bd84db7e",
   "metadata": {},
   "outputs": [
    {
     "data": {
      "image/png": "[encoded data removed]",
      "text/plain": [
       "<Figure size 432x288 with 2 Axes>"
      ]
     },
     "metadata": {
      "needs_background": "light"
     },
     "output_type": "display_data"
    }
   ],
   "source": [
    "modulus = np.absolute(sky_image)\n",
    "plt.imshow(modulus, cmap='Reds') \n",
    "cbar = plt.colorbar()"
   ]
  },
  {
   "cell_type": "code",
   "execution_count": 5,
   "id": "77e72e60",
   "metadata": {},
   "outputs": [
    {
     "name": "stdout",
     "output_type": "stream",
     "text": [
      "[[ 643.7584   +411.1549j    -225.33534  -333.1932j\n",
      "   -88.98122  +105.397224j  -110.20474   -27.835077j\n",
      "    83.09289   -98.903435j   174.32013  +128.75827j\n",
      "   -94.47449   +41.705338j   -26.935934  +23.747908j\n",
      "    47.23707  -220.3309j    -402.75348   -30.389072j ]\n",
      " [  89.9775   +231.77287j    202.39081   +95.11207j\n",
      "    50.64444  -118.94358j   -238.05106  +103.54119j\n",
      "    20.86412  -180.61154j    -69.40714   +44.4379j\n",
      "   311.1107    +98.79856j   -217.59717   -17.61589j\n",
      "   179.6043   +121.14652j   -329.4414   -377.36835j  ]\n",
      " [  15.322249   -6.1139126j -134.45415   +72.088745j\n",
      "   413.8403    -44.78994j   -236.1586   +176.74115j\n",
      "    63.57953  -130.4623j    -179.12587   -92.76046j\n",
      "    40.337418  +48.900375j   140.64883   +30.838135j\n",
      "   117.64861  +178.56563j   -241.42104  -232.53665j  ]\n",
      " [-136.06383  -138.99283j   -244.76573  +123.83774j\n",
      "   299.6417   -142.22275j    -45.892567 +120.47535j\n",
      "    96.29936   +65.96723j   -141.69608   -30.73815j\n",
      "     7.310904 -138.517j     -174.98811   -66.647644j\n",
      "   319.93115  +314.4978j      20.538034 -107.694916j ]\n",
      " [ 342.2849   -192.60092j   -625.4333     -4.665792j\n",
      "   258.3235     -3.8376663j  -79.69267   -19.55037j\n",
      "   177.74747    +2.4231594j  -15.184665 +125.53759j\n",
      "  -105.379654  +32.993515j    26.333143 -305.83105j\n",
      "  -187.89995   +90.52556j    208.41954  +275.6148j   ]\n",
      " [ 577.1137   +278.04944j   -117.33785  -229.8355j\n",
      "  -212.44235   +50.224506j    -2.5603926 -21.412521j\n",
      "    16.676401  -75.87293j    190.16583  +105.83739j\n",
      "   -69.082565  +34.734314j   -67.812294  +79.00037j\n",
      "    72.74299  -323.99933j   -386.8469   +102.88139j  ]\n",
      " [  49.71883  +289.77866j    201.46999   +67.43102j\n",
      "    66.988106 -139.59993j   -238.81796  +172.04895j\n",
      "   -19.824873 -279.42352j     22.015707 +142.45718j\n",
      "   178.81084   +30.24926j    -69.668564   +2.824419j\n",
      "    47.451324 +149.32355j   -238.52753  -435.35568j  ]\n",
      " [ -75.46375   -61.895588j    -2.759266  +97.980484j\n",
      "   266.288     -22.587896j  -104.58866  +106.25016j\n",
      "   -26.708986  -29.809656j  -139.70209  -193.22836j\n",
      "    41.67054  +119.15273j    123.49435    +8.83011j\n",
      "   118.956795 +152.02081j   -201.57098  -176.5059j   ]\n",
      " [-150.39058    -4.578001j  -271.6911    +19.351946j\n",
      "   341.96414   -86.1316j     -72.61751  +112.8417j\n",
      "    81.7992    +43.85006j    -76.41526    -8.889198j\n",
      "   -98.979675 -130.45576j    -53.20017  -122.959404j\n",
      "   213.70383  +418.95847j     85.47892  -242.10785j  ]\n",
      " [ 317.68326  -201.82837j   -559.8225    -25.286987j\n",
      "   177.3797    +65.25232j    -13.980737 -137.01753j\n",
      "   153.41614  +149.33636j    -41.7556    -21.367004j\n",
      "   -37.882732 +149.6802j     -56.98316  -374.46896j\n",
      "  -120.611946 +110.81053j    182.20883  +285.02612j  ]]\n"
     ]
    }
   ],
   "source": [
    "visibilities = np.fft.fft2(sky_image).astype('complex64')\n",
    "print(visibilities)"
   ]
  },
  {
   "cell_type": "code",
   "execution_count": 6,
   "id": "3570e801",
   "metadata": {},
   "outputs": [
    {
     "data": {
      "image/png": "[encoded data removed]",
      "text/plain": [
       "<Figure size 432x288 with 2 Axes>"
      ]
     },
     "metadata": {
      "needs_background": "light"
     },
     "output_type": "display_data"
    }
   ],
   "source": [
    "modulus = np.absolute(visibilities)\n",
    "plt.imshow(modulus, cmap='Blues')\n",
    "plt.colorbar();"
   ]
  },
  {
   "cell_type": "code",
   "execution_count": 7,
   "id": "6f6306ea",
   "metadata": {},
   "outputs": [
    {
     "name": "stdout",
     "output_type": "stream",
     "text": [
      "Reals MSE: 4.4048847e-13\n",
      "Imaginaries MSE: 2.2017705e-13\n"
     ]
    }
   ],
   "source": [
    "sanity = np.fft.ifft2(visibilities).astype('complex64')\n",
    "\n",
    "test1_real = ((sky_image.real - sanity.real)**2).mean()\n",
    "test1_imag = ((sky_image.imag - sanity.imag)**2).mean()\n",
    " \n",
    "print('Reals MSE: '+ str(test1_real))\n",
    "print('Imaginaries MSE: '+ str(test1_imag))"
   ]
  },
  {
   "cell_type": "code",
   "execution_count": 8,
   "id": "5d00d3fc",
   "metadata": {},
   "outputs": [],
   "source": [
    "from numpy import pi\n",
    "# importing Qiskit\n",
    "from qiskit import QuantumCircuit, transpile, Aer, IBMQ\n",
    "from qiskit.providers.ibmq import least_busy\n",
    "from qiskit.tools.monitor import job_monitor\n",
    "from qiskit.visualization import plot_histogram, plot_bloch_multivector"
   ]
  },
  {
   "cell_type": "code",
   "execution_count": 9,
   "id": "ce856250",
   "metadata": {},
   "outputs": [],
   "source": [
    "# encoding binary data onto qubits\n",
    "def binary_encode(qc, binary, off_set):\n",
    "    \n",
    "    for i in range(0, len(binary)):\n",
    "        qc.reset(off_set+i) # set quantum state |0> by default for all qubits\n",
    "\n",
    "        if binary[i]=='1':\n",
    "            qc.x(off_set+i) # act as a CX (controlled X gate)\n",
    "    \n",
    "    off_set += len(binary)\n",
    "\n",
    "    return off_set"
   ]
  },
  {
   "cell_type": "code",
   "execution_count": 10,
   "id": "8f61f4e5",
   "metadata": {},
   "outputs": [],
   "source": [
    "number_of_entries = visibilities.shape[0] * visibilities.shape[1]\n",
    "number_of_bits_real = 32\n",
    "number_of_bits_imag = 32\n",
    "number_of_bits = number_of_bits_real + number_of_bits_imag\n",
    "off_set = 0\n",
    "\n",
    "# encoding (n bits encoded onto n qubits)\n",
    "qc = QuantumCircuit(number_of_entries*number_of_bits)\n",
    "for i in range(0, visibilities.shape[0]):\n",
    "    for j in range(0, visibilities.shape[1]):\n",
    "            binary_real = float_to_bin_real(visibilities[i, j].real)\n",
    "            binary_imag = float_to_bin_imag(visibilities[i, j].imag)\n",
    "            binary = binary_real+binary_imag\n",
    "            off_set = binary_encode(qc, binary, off_set)"
   ]
  },
  {
   "cell_type": "code",
   "execution_count": 14,
   "id": "f87021fd",
   "metadata": {},
   "outputs": [
    {
     "name": "stderr",
     "output_type": "stream",
     "text": [
      "Simulation failed and returned the following error message:\n",
      "ERROR:  [Experiment 0] Insufficient memory to run circuit circuit-87 using the statevector simulator. Required memory: 281474976710656M, max memory: 8112M\n"
     ]
    },
    {
     "ename": "QiskitError",
     "evalue": "'ERROR:  [Experiment 0] Insufficient memory to run circuit circuit-87 using the statevector simulator. Required memory: 281474976710656M, max memory: 8112M ,  ERROR: Insufficient memory to run circuit circuit-87 using the statevector simulator. Required memory: 281474976710656M, max memory: 8112M'",
     "output_type": "error",
     "traceback": [
      "\u001b[1;31m---------------------------------------------------------------------------\u001b[0m",
      "\u001b[1;31mQiskitError\u001b[0m                               Traceback (most recent call last)",
      "\u001b[1;32m<ipython-input-14-bfd4a2117048>\u001b[0m in \u001b[0;36m<module>\u001b[1;34m\u001b[0m\n\u001b[0;32m      3\u001b[0m \u001b[0mqc_init\u001b[0m \u001b[1;33m=\u001b[0m \u001b[0mqc\u001b[0m\u001b[1;33m.\u001b[0m\u001b[0mcopy\u001b[0m\u001b[1;33m(\u001b[0m\u001b[1;33m)\u001b[0m\u001b[1;33m\u001b[0m\u001b[1;33m\u001b[0m\u001b[0m\n\u001b[0;32m      4\u001b[0m \u001b[0mqc_init\u001b[0m\u001b[1;33m.\u001b[0m\u001b[0msave_statevector\u001b[0m\u001b[1;33m(\u001b[0m\u001b[1;33m)\u001b[0m\u001b[1;33m\u001b[0m\u001b[1;33m\u001b[0m\u001b[0m\n\u001b[1;32m----> 5\u001b[1;33m \u001b[0mstatevector\u001b[0m \u001b[1;33m=\u001b[0m \u001b[0msim\u001b[0m\u001b[1;33m.\u001b[0m\u001b[0mrun\u001b[0m\u001b[1;33m(\u001b[0m\u001b[0mqc_init\u001b[0m\u001b[1;33m,\u001b[0m \u001b[0mshots\u001b[0m\u001b[1;33m=\u001b[0m\u001b[1;36m1\u001b[0m\u001b[1;33m)\u001b[0m\u001b[1;33m.\u001b[0m\u001b[0mresult\u001b[0m\u001b[1;33m(\u001b[0m\u001b[1;33m)\u001b[0m\u001b[1;33m.\u001b[0m\u001b[0mget_statevector\u001b[0m\u001b[1;33m(\u001b[0m\u001b[1;33m)\u001b[0m\u001b[1;33m\u001b[0m\u001b[1;33m\u001b[0m\u001b[0m\n\u001b[0m\u001b[0;32m      6\u001b[0m \u001b[0mplot_bloch_multivector\u001b[0m\u001b[1;33m(\u001b[0m\u001b[0mstatevector\u001b[0m\u001b[1;33m)\u001b[0m\u001b[1;33m\u001b[0m\u001b[1;33m\u001b[0m\u001b[0m\n",
      "\u001b[1;32m~\\anaconda3\\lib\\site-packages\\qiskit\\result\\result.py\u001b[0m in \u001b[0;36mget_statevector\u001b[1;34m(self, experiment, decimals)\u001b[0m\n\u001b[0;32m    312\u001b[0m         \u001b[1;32mtry\u001b[0m\u001b[1;33m:\u001b[0m\u001b[1;33m\u001b[0m\u001b[1;33m\u001b[0m\u001b[0m\n\u001b[0;32m    313\u001b[0m             return postprocess.format_statevector(\n\u001b[1;32m--> 314\u001b[1;33m                 \u001b[0mself\u001b[0m\u001b[1;33m.\u001b[0m\u001b[0mdata\u001b[0m\u001b[1;33m(\u001b[0m\u001b[0mexperiment\u001b[0m\u001b[1;33m)\u001b[0m\u001b[1;33m[\u001b[0m\u001b[1;34m\"statevector\"\u001b[0m\u001b[1;33m]\u001b[0m\u001b[1;33m,\u001b[0m \u001b[0mdecimals\u001b[0m\u001b[1;33m=\u001b[0m\u001b[0mdecimals\u001b[0m\u001b[1;33m\u001b[0m\u001b[1;33m\u001b[0m\u001b[0m\n\u001b[0m\u001b[0;32m    315\u001b[0m             )\n\u001b[0;32m    316\u001b[0m         \u001b[1;32mexcept\u001b[0m \u001b[0mKeyError\u001b[0m \u001b[1;32mas\u001b[0m \u001b[0mex\u001b[0m\u001b[1;33m:\u001b[0m\u001b[1;33m\u001b[0m\u001b[1;33m\u001b[0m\u001b[0m\n",
      "\u001b[1;32m~\\anaconda3\\lib\\site-packages\\qiskit\\result\\result.py\u001b[0m in \u001b[0;36mdata\u001b[1;34m(self, experiment)\u001b[0m\n\u001b[0;32m    185\u001b[0m         \"\"\"\n\u001b[0;32m    186\u001b[0m         \u001b[1;32mtry\u001b[0m\u001b[1;33m:\u001b[0m\u001b[1;33m\u001b[0m\u001b[1;33m\u001b[0m\u001b[0m\n\u001b[1;32m--> 187\u001b[1;33m             \u001b[1;32mreturn\u001b[0m \u001b[0mself\u001b[0m\u001b[1;33m.\u001b[0m\u001b[0m_get_experiment\u001b[0m\u001b[1;33m(\u001b[0m\u001b[0mexperiment\u001b[0m\u001b[1;33m)\u001b[0m\u001b[1;33m.\u001b[0m\u001b[0mdata\u001b[0m\u001b[1;33m.\u001b[0m\u001b[0mto_dict\u001b[0m\u001b[1;33m(\u001b[0m\u001b[1;33m)\u001b[0m\u001b[1;33m\u001b[0m\u001b[1;33m\u001b[0m\u001b[0m\n\u001b[0m\u001b[0;32m    188\u001b[0m         \u001b[1;32mexcept\u001b[0m \u001b[1;33m(\u001b[0m\u001b[0mKeyError\u001b[0m\u001b[1;33m,\u001b[0m \u001b[0mTypeError\u001b[0m\u001b[1;33m)\u001b[0m \u001b[1;32mas\u001b[0m \u001b[0mex\u001b[0m\u001b[1;33m:\u001b[0m\u001b[1;33m\u001b[0m\u001b[1;33m\u001b[0m\u001b[0m\n\u001b[0;32m    189\u001b[0m             \u001b[1;32mraise\u001b[0m \u001b[0mQiskitError\u001b[0m\u001b[1;33m(\u001b[0m\u001b[1;34mf'No data for experiment \"{repr(experiment)}\"'\u001b[0m\u001b[1;33m)\u001b[0m \u001b[1;32mfrom\u001b[0m \u001b[0mex\u001b[0m\u001b[1;33m\u001b[0m\u001b[1;33m\u001b[0m\u001b[0m\n",
      "\u001b[1;32m~\\anaconda3\\lib\\site-packages\\qiskit\\result\\result.py\u001b[0m in \u001b[0;36m_get_experiment\u001b[1;34m(self, key)\u001b[0m\n\u001b[0;32m    395\u001b[0m         \u001b[0mresult_status\u001b[0m \u001b[1;33m=\u001b[0m \u001b[0mgetattr\u001b[0m\u001b[1;33m(\u001b[0m\u001b[0mself\u001b[0m\u001b[1;33m,\u001b[0m \u001b[1;34m\"status\"\u001b[0m\u001b[1;33m,\u001b[0m \u001b[1;34m\"Result was not successful\"\u001b[0m\u001b[1;33m)\u001b[0m\u001b[1;33m\u001b[0m\u001b[1;33m\u001b[0m\u001b[0m\n\u001b[0;32m    396\u001b[0m         \u001b[0mexp_status\u001b[0m \u001b[1;33m=\u001b[0m \u001b[0mgetattr\u001b[0m\u001b[1;33m(\u001b[0m\u001b[0mexp\u001b[0m\u001b[1;33m,\u001b[0m \u001b[1;34m\"status\"\u001b[0m\u001b[1;33m,\u001b[0m \u001b[1;34m\"Experiment was not successful\"\u001b[0m\u001b[1;33m)\u001b[0m\u001b[1;33m\u001b[0m\u001b[1;33m\u001b[0m\u001b[0m\n\u001b[1;32m--> 397\u001b[1;33m         \u001b[1;32mraise\u001b[0m \u001b[0mQiskitError\u001b[0m\u001b[1;33m(\u001b[0m\u001b[0mresult_status\u001b[0m\u001b[1;33m,\u001b[0m \u001b[1;34m\", \"\u001b[0m\u001b[1;33m,\u001b[0m \u001b[0mexp_status\u001b[0m\u001b[1;33m)\u001b[0m\u001b[1;33m\u001b[0m\u001b[1;33m\u001b[0m\u001b[0m\n\u001b[0m",
      "\u001b[1;31mQiskitError\u001b[0m: 'ERROR:  [Experiment 0] Insufficient memory to run circuit circuit-87 using the statevector simulator. Required memory: 281474976710656M, max memory: 8112M ,  ERROR: Insufficient memory to run circuit circuit-87 using the statevector simulator. Required memory: 281474976710656M, max memory: 8112M'"
     ]
    }
   ],
   "source": [
    "#RUNNING THIS CELL OUTPUTS MEMORY ISSUE\n",
    "sim = Aer.get_backend(\"aer_simulator\")\n",
    "qc_init = qc.copy()\n",
    "qc_init.save_statevector()\n",
    "statevector = sim.run(qc_init, shots=1).result().get_statevector()\n",
    "plot_bloch_multivector(statevector)"
   ]
  },
  {
   "cell_type": "code",
   "execution_count": null,
   "id": "d4b2d35f",
   "metadata": {},
   "outputs": [],
   "source": [
    "# measurement\n",
    "#qc.measure_all()\n",
    "#backend = Aer.get_backend('aer_simulator') # Qiskit's staple simulator (CHOICE MOTIVATION?)\n",
    "#job = backend.run(qc, shots=1, memory=True) \n",
    "#output = job.result().get_memory()[0]\n",
    "#out = reverse(output)\n",
    "\n",
    "# readout\n",
    "chunks_real = []\n",
    "chunks_imag = []\n",
    "for i in range(0, number_of_entries):\n",
    "    chunks_real.append(out[number_of_bits*i:(number_of_bits*i)+number_of_bits_real]) # real parts represented every 64 bits starting from the first one\n",
    "    chunks_imag.append(out[(number_of_bits*i)+number_of_bits_imag:(number_of_bits*i)+number_of_bits_imag+number_of_bits_imag]) # imaginary parts represented every 64 bits starting after the first occurence of a real part \n",
    "\n",
    "readout = []\n",
    "for i in range(0, len(chunks_real)):\n",
    "    readout.append(complex(bin_to_float_real(chunks_real[i]), bin_to_float_imag(chunks_imag[i]))) \n",
    "\n",
    "readout = np.array(readout).reshape(n , n).astype('complex64')\n",
    "print(readout)"
   ]
  },
  {
   "cell_type": "code",
   "execution_count": null,
   "id": "6aa9775a",
   "metadata": {},
   "outputs": [],
   "source": [
    "fidelity = np.fft.ifft2(readout).astype('complex64')"
   ]
  },
  {
   "cell_type": "code",
   "execution_count": null,
   "id": "ea5b9246",
   "metadata": {},
   "outputs": [],
   "source": [
    "test2_real = ((sky_image.real - fidelity.real)**2).mean()\n",
    "test2_imag = ((sky_image.imag - fidelity.imag)**2).mean()\n",
    "\n",
    "print('Reals MSE: '+ str(test2_real))\n",
    "print('Imaginaries MSE: '+ str(test2_imag))"
   ]
  },
  {
   "cell_type": "code",
   "execution_count": null,
   "id": "16cce23f",
   "metadata": {},
   "outputs": [],
   "source": [
    "fig, axs = plt.subplots(1, 2, figsize=(15,5))\n",
    "modulus1 = np.absolute(sky_image)\n",
    "modulus2 = np.absolute(fidelity)\n",
    "\n",
    "axs[0].imshow(modulus1, cmap='Reds')\n",
    "axs[1].imshow(modulus2, cmap='Reds')\n",
    "\n",
    "axs[0].set_title(\"Original image\")\n",
    "axs[1].set_title(\"Reconstructed image\")\n",
    "\n",
    "for ax in axs.flat:\n",
    "    ax.set(xlabel=n, ylabel=n)"
   ]
  },
  {
   "cell_type": "code",
   "execution_count": null,
   "id": "6e7a063f",
   "metadata": {},
   "outputs": [],
   "source": []
  }
 ],
 "metadata": {
  "kernelspec": {
   "display_name": "Python 3",
   "language": "python",
   "name": "python3"
  },
  "language_info": {
   "codemirror_mode": {
    "name": "ipython",
    "version": 3
   },
   "file_extension": ".py",
   "mimetype": "text/x-python",
   "name": "python",
   "nbconvert_exporter": "python",
   "pygments_lexer": "ipython3",
   "version": "3.8.8"
  }
 },
 "nbformat": 4,
 "nbformat_minor": 5
}
