{
 "cells": [
  {
   "cell_type": "markdown",
   "id": "b4824755",
   "metadata": {},
   "source": [
    "# Less Naive representation pipeline (pennylane)\n",
    "\n",
    "Main steps:\n",
    "\n",
    "* input: image of the sky (frequency domain)\n",
    "* apply 2D Fourier transform --> visibilities (Fourier domain)\n",
    "* encode classical visibilities data into qbits (non-conventional domain)\n",
    "* measure qbits (back to conventional domain)\n",
    "* apply 2D Inverse Fourier transform --> original image?"
   ]
  },
  {
   "cell_type": "code",
   "execution_count": 2,
   "id": "04ee6ebe",
   "metadata": {},
   "outputs": [],
   "source": [
    "import numpy as np\n",
    "import math\n",
    "import sys\n",
    "#\n",
    "import pennylane as qml\n",
    "from pennylane.optimize import AdamOptimizer, GradientDescentOptimizer\n",
    "from pennylane.templates.embeddings import AmplitudeEmbedding"
   ]
  },
  {
   "cell_type": "markdown",
   "id": "3bd5e888",
   "metadata": {},
   "source": [
    "## Generating an artificial image of the sky"
   ]
  },
  {
   "cell_type": "code",
   "execution_count": 4,
   "id": "9af37941",
   "metadata": {},
   "outputs": [
    {
     "name": "stdout",
     "output_type": "stream",
     "text": [
      "[[2.84653180e+01+5.57985789e+01j 2.84653180e+01+5.57985789e+01j\n",
      "  5.56671510e-03+4.25495340e-03j 2.84653180e+01+5.57985789e+01j]\n",
      " [2.84653180e+01+5.57985789e+01j 2.83450815e-03+1.44317511e-03j\n",
      "  3.29997304e-03+7.75675381e-03j 3.98866258e-03+8.48295479e-03j]\n",
      " [4.49326327e-03+9.01956359e-03j 7.24373391e-03+1.56689646e-03j\n",
      "  6.17452219e-03+4.51461759e-03j 7.38879222e-03+9.80845703e-03j]\n",
      " [2.84653180e+01+5.57985789e+01j 7.86494639e-03+7.26794462e-04j\n",
      "  2.21786548e-03+6.67424981e-03j 3.84445068e-03+9.42341614e-03j]]\n"
     ]
    }
   ],
   "source": [
    "#image of the sky filled with single precision complex floats\n",
    "#pixels are set to low complex random values (image background) \n",
    "#few pixels are set to larger complex random values in a specified ellipse area (image source/subject)\n",
    "\n",
    "n = 4\n",
    "image = np.zeros((n, n), dtype=complex)\n",
    "image.real = np.random.rand(n , n) / 100\n",
    "image.imag = np.random.rand(n , n) / 100\n",
    "\n",
    "h, w = image.shape\n",
    "mask = circular_mask(h, w, radius=h/2)\n",
    "sky_image = image.copy()\n",
    "sky_image[~mask] = complex(np.random.rand() * 100, np.random.rand() * 100)\n",
    "print(sky_image)"
   ]
  },
  {
   "cell_type": "markdown",
   "id": "749432b8",
   "metadata": {},
   "source": [
    "## Applying 2D Fourier transform (visibilities)"
   ]
  },
  {
   "cell_type": "code",
   "execution_count": 5,
   "id": "08b6f95d",
   "metadata": {},
   "outputs": [
    {
     "name": "stdout",
     "output_type": "stream",
     "text": [
      "[[142.38150758+279.05656628j  85.35921031+167.37883438j\n",
      "   28.45390527 +55.79934733j  85.40716624+167.38427694j]\n",
      " [ 85.37707891+167.37888621j  28.47376628 +55.7890992j\n",
      "  -28.45447999 -55.8024511j   28.44693386 +55.792703j  ]\n",
      " [ 28.47213465 +55.79323603j -28.45955332 -55.78088649j\n",
      "  -85.38133738-167.38367755j -28.47454301 -55.78690929j]\n",
      " [ 85.37536207+167.37127797j  28.46558199 +55.79024867j\n",
      "  -28.45709316 -55.79051443j  28.45944817 +55.7872251j ]]\n"
     ]
    }
   ],
   "source": [
    "visibilities = np.fft.fft2(sky_image)\n",
    "print(visibilities)"
   ]
  },
  {
   "cell_type": "markdown",
   "id": "8558fbb3",
   "metadata": {},
   "source": [
    "### Sanity check"
   ]
  },
  {
   "cell_type": "code",
   "execution_count": 6,
   "id": "aa7a59e8",
   "metadata": {},
   "outputs": [
    {
     "name": "stdout",
     "output_type": "stream",
     "text": [
      "[[2.84653180e+01+5.57985789e+01j 2.84653180e+01+5.57985789e+01j\n",
      "  5.56671510e-03+4.25495340e-03j 2.84653180e+01+5.57985789e+01j]\n",
      " [2.84653180e+01+5.57985789e+01j 2.83450815e-03+1.44317511e-03j\n",
      "  3.29997304e-03+7.75675381e-03j 3.98866258e-03+8.48295479e-03j]\n",
      " [4.49326327e-03+9.01956359e-03j 7.24373391e-03+1.56689646e-03j\n",
      "  6.17452219e-03+4.51461759e-03j 7.38879222e-03+9.80845703e-03j]\n",
      " [2.84653180e+01+5.57985789e+01j 7.86494639e-03+7.26794462e-04j\n",
      "  2.21786548e-03+6.67424981e-03j 3.84445068e-03+9.42341614e-03j]]\n",
      "\n",
      "Reals MSE: 7.213723938185513e-30\n",
      "Imaginaries MSE: 1.7278693134916627e-29\n"
     ]
    }
   ],
   "source": [
    "img = np.fft.ifft2(visibilities)\n",
    "print(img)\n",
    "test_real = ((sky_image.real - img.real)**2).mean()\n",
    "test_imag = ((sky_image.imag - img.imag)**2).mean()\n",
    "\n",
    "print()\n",
    " \n",
    "print('Reals MSE: '+ str(test_real))\n",
    "print('Imaginaries MSE: ' + str(test_imag))"
   ]
  },
  {
   "cell_type": "markdown",
   "id": "ada93768",
   "metadata": {},
   "source": [
    "## Classical data encoding/decoding"
   ]
  },
  {
   "cell_type": "code",
   "execution_count": 7,
   "id": "49aa4a9c",
   "metadata": {
    "scrolled": true
   },
   "outputs": [
    {
     "name": "stdout",
     "output_type": "stream",
     "text": [
      "[[ 1]\n",
      " [ 1]\n",
      " [-1]\n",
      " [ 1]]\n",
      "[[142.38150758+279.05656628j  85.35921031+167.37883438j\n",
      "   28.45390527 +55.79934733j  85.40716624+167.38427694j]\n",
      " [ 85.37707891+167.37888621j  28.47376628 +55.7890992j\n",
      "  -28.45447999 -55.8024511j   28.44693386 +55.792703j  ]\n",
      " [ 28.47213465 +55.79323603j -28.45955332 -55.78088649j\n",
      "  -85.38133738-167.38367755j -28.47454301 -55.78690929j]\n",
      " [ 85.37536207+167.37127797j  28.46558199 +55.79024867j\n",
      "  -28.45709316 -55.79051443j  28.45944817 +55.7872251j ]]\n"
     ]
    }
   ],
   "source": [
    "# Amplitude embedding encodes a normalized 2^n-dimensional feature vector into the state of n qbits (uses log2(n) qbits for n classical data)\n",
    "data_dimension = visibilities.shape[0]*visibilities.shape[1]\n",
    "data = visibilities.flatten()\n",
    "\n",
    "#normalization to prepare a qstate with measurement probabilites summing up to 1 (SUM (amplitudes²) = 1)\n",
    "norm = qml.math.sum(qml.math.abs(data) ** 2)\n",
    "normalized_data = data / qml.math.sqrt(norm)\n",
    "\n",
    "wires = range(int(math.log2(data_dimension))) # set the number of qbits (no padding needed if outputs an integer)\n",
    "amp_dev = qml.device('default.qubit', wires, shots=1)\n",
    "\n",
    "@qml.qnode(amp_dev)\n",
    "def amp_encoding(data):\n",
    "    AmplitudeEmbedding(data, wires) # normalize = True\n",
    "    return qml.sample(qml.PauliX(0)), qml.sample(qml.PauliX(1)), qml.sample(qml.PauliX(2)), qml.sample(qml.PauliX(3))\n",
    "\n",
    "result = amp_encoding(normalized_data)\n",
    "print(result)\n",
    "readout = amp_dev.state\n",
    "\n",
    "readout = readout*qml.math.sqrt(norm) # denormalization of the measurement outcomes\n",
    "readout = np.array(readout).reshape(n , n)\n",
    "print(readout)"
   ]
  },
  {
   "cell_type": "markdown",
   "id": "59f8ac30",
   "metadata": {},
   "source": [
    "## Applying 2D Inverse Fourier transform (+ fidelity test)"
   ]
  },
  {
   "cell_type": "code",
   "execution_count": 8,
   "id": "e18b327f",
   "metadata": {},
   "outputs": [
    {
     "name": "stdout",
     "output_type": "stream",
     "text": [
      "float64\n",
      "Reals MSE: 5.827872898453068e-30\n",
      "Imaginaries MSE: 1.4526298503144218e-29\n"
     ]
    }
   ],
   "source": [
    "img = np.fft.ifft2(readout)\n",
    "\n",
    "test_real = ((sky_image.real - img.real)**2).mean()\n",
    "test_imag = ((sky_image.imag - img.imag)**2).mean()\n",
    "\n",
    "print(test_real.dtype)\n",
    "\n",
    "print('Reals MSE: '+ str(test_real))\n",
    "print('Imaginaries MSE: ' + str(test_imag))"
   ]
  },
  {
   "cell_type": "markdown",
   "id": "9fadfdd6",
   "metadata": {},
   "source": [
    "## Utils"
   ]
  },
  {
   "cell_type": "markdown",
   "id": "617273aa",
   "metadata": {},
   "source": [
    "### Quantum"
   ]
  },
  {
   "cell_type": "markdown",
   "id": "416ad687",
   "metadata": {},
   "source": [
    "### Classical"
   ]
  },
  {
   "cell_type": "code",
   "execution_count": 3,
   "id": "b1c860bb",
   "metadata": {},
   "outputs": [],
   "source": [
    "#creates a circular mask over a 2D array\n",
    "def circular_mask(h, w, center=None, radius=None):\n",
    "    if center is None: #image center\n",
    "        center = (int(w/2), int(h/2))\n",
    "    if radius is None: #smallest distance between center and image bounderies\n",
    "        radius = min(center[0], center[1], w-center[0], h-center[1])\n",
    "        \n",
    "    Y, X = np.ogrid[:h, :w]\n",
    "    dist_from_center = np.sqrt((X - center[0])**2 + (Y-center[1])**2)\n",
    "    mask = dist_from_center <= radius\n",
    "    \n",
    "    return mask"
   ]
  },
  {
   "cell_type": "code",
   "execution_count": null,
   "id": "fc3de505",
   "metadata": {},
   "outputs": [],
   "source": []
  }
 ],
 "metadata": {
  "kernelspec": {
   "display_name": "Python 3",
   "language": "python",
   "name": "python3"
  },
  "language_info": {
   "codemirror_mode": {
    "name": "ipython",
    "version": 3
   },
   "file_extension": ".py",
   "mimetype": "text/x-python",
   "name": "python",
   "nbconvert_exporter": "python",
   "pygments_lexer": "ipython3",
   "version": "3.8.8"
  }
 },
 "nbformat": 4,
 "nbformat_minor": 5
}
