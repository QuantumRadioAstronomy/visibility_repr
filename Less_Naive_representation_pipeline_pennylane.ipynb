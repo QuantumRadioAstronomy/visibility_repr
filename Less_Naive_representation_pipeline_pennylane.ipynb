{
 "cells": [
  {
   "cell_type": "markdown",
   "id": "b4824755",
   "metadata": {},
   "source": [
    "# Less Naive representation pipeline (pennylane)\n",
    "\n",
    "Main steps:\n",
    "\n",
    "* input: image of the sky (frequency domain)\n",
    "* apply 2D Fourier transform --> visibilities (Fourier domain)\n",
    "* encode classical visibilities data into qbits (non-conventional domain)\n",
    "* measure qbits (back to conventional domain)\n",
    "* apply 2D Inverse Fourier transform --> original image?"
   ]
  },
  {
   "cell_type": "code",
   "execution_count": 8,
   "id": "04ee6ebe",
   "metadata": {},
   "outputs": [],
   "source": [
    "import numpy as np\n",
    "import math\n",
    "import sys\n",
    "\n",
    "import pennylane as qml\n",
    "from pennylane.optimize import AdamOptimizer, GradientDescentOptimizer\n",
    "from pennylane.templates.embeddings import AmplitudeEmbedding"
   ]
  },
  {
   "cell_type": "markdown",
   "id": "3bd5e888",
   "metadata": {},
   "source": [
    "## Generating an artificial image of the sky"
   ]
  },
  {
   "cell_type": "code",
   "execution_count": 9,
   "id": "9af37941",
   "metadata": {},
   "outputs": [
    {
     "name": "stdout",
     "output_type": "stream",
     "text": [
      "[[7.52049287e+01+3.92567195e+01j 7.52049287e+01+3.92567195e+01j\n",
      "  2.10011972e-03+5.64683378e-03j 7.52049287e+01+3.92567195e+01j]\n",
      " [7.52049287e+01+3.92567195e+01j 5.59381000e-03+9.88065794e-03j\n",
      "  4.81266261e-03+4.03659038e-03j 1.28731096e-03+4.97256302e-03j]\n",
      " [5.47536652e-03+5.55599580e-03j 4.80591316e-04+3.00519627e-03j\n",
      "  9.92923345e-03+2.35517000e-03j 5.70890525e-03+5.70785346e-03j]\n",
      " [7.52049287e+01+3.92567195e+01j 1.81465751e-04+6.62067001e-03j\n",
      "  6.49627203e-03+9.61707685e-03j 4.30099389e-03+2.42986853e-04j]]\n"
     ]
    }
   ],
   "source": [
    "#image of the sky filled with single precision complex floats\n",
    "#pixels are set to low complex random values (image background) \n",
    "#few pixels are set to larger complex random values in a specified ellipse area (image source/subject)\n",
    "\n",
    "n = 4\n",
    "image = np.zeros((n, n), dtype=complex)\n",
    "image.real = np.random.rand(n , n) / 100\n",
    "image.imag = np.random.rand(n , n) / 100\n",
    "\n",
    "h, w = image.shape\n",
    "mask = circular_mask(h, w, radius=h/2)\n",
    "sky_image = image.copy()\n",
    "sky_image[~mask] = complex(np.random.rand() * 100, np.random.rand() * 100)\n",
    "print(sky_image)"
   ]
  },
  {
   "cell_type": "markdown",
   "id": "749432b8",
   "metadata": {},
   "source": [
    "## Applying 2D Fourier transform (visibilities)"
   ]
  },
  {
   "cell_type": "code",
   "execution_count": 10,
   "id": "08b6f95d",
   "metadata": {},
   "outputs": [
    {
     "name": "stdout",
     "output_type": "stream",
     "text": [
      "[[ 376.07101004+196.3412392j   225.60550618+117.75910023j\n",
      "    75.21618924 +39.25350126j  225.58833994+117.74901754j]\n",
      " [ 225.59770109+117.75846613j   75.20713953 +39.24242953j\n",
      "   -75.2256137  -39.24618853j   75.21858627 +39.24994698j]\n",
      " [  75.20595036 +39.24362002j  -75.21416215 -39.24009658j\n",
      "  -225.60341612-117.7572504j   -75.18618528 -39.25092715j]\n",
      " [ 225.59288293+117.75989623j   75.21283061 +39.24285757j\n",
      "   -75.19847359 -39.25435307j   75.19057324 +39.25625337j]]\n"
     ]
    }
   ],
   "source": [
    "visibilities = np.fft.fft2(sky_image)\n",
    "print(visibilities)"
   ]
  },
  {
   "cell_type": "markdown",
   "id": "8558fbb3",
   "metadata": {},
   "source": [
    "### Sanity check"
   ]
  },
  {
   "cell_type": "code",
   "execution_count": 11,
   "id": "aa7a59e8",
   "metadata": {},
   "outputs": [
    {
     "name": "stdout",
     "output_type": "stream",
     "text": [
      "[[7.52049287e+01+3.92567195e+01j 7.52049287e+01+3.92567195e+01j\n",
      "  2.10011972e-03+5.64683378e-03j 7.52049287e+01+3.92567195e+01j]\n",
      " [7.52049287e+01+3.92567195e+01j 5.59381000e-03+9.88065794e-03j\n",
      "  4.81266261e-03+4.03659038e-03j 1.28731096e-03+4.97256302e-03j]\n",
      " [5.47536652e-03+5.55599580e-03j 4.80591316e-04+3.00519627e-03j\n",
      "  9.92923345e-03+2.35517000e-03j 5.70890525e-03+5.70785346e-03j]\n",
      " [7.52049287e+01+3.92567195e+01j 1.81465751e-04+6.62067001e-03j\n",
      "  6.49627203e-03+9.61707685e-03j 4.30099389e-03+2.42986853e-04j]]\n",
      "\n",
      "Reals MSE: 1.3994970470124195e-29\n",
      "Imaginaries MSE: 1.2308736175238762e-29\n"
     ]
    }
   ],
   "source": [
    "img = np.fft.ifft2(visibilities)\n",
    "print(img)\n",
    "test_real = ((sky_image.real - img.real)**2).mean()\n",
    "test_imag = ((sky_image.imag - img.imag)**2).mean()\n",
    "\n",
    "print()\n",
    " \n",
    "print('Reals MSE: '+ str(test_real))\n",
    "print('Imaginaries MSE: ' + str(test_imag))"
   ]
  },
  {
   "cell_type": "markdown",
   "id": "ada93768",
   "metadata": {},
   "source": [
    "## Classical data encoding/decoding"
   ]
  },
  {
   "cell_type": "code",
   "execution_count": 12,
   "id": "49aa4a9c",
   "metadata": {},
   "outputs": [
    {
     "name": "stdout",
     "output_type": "stream",
     "text": [
      "[[ 376.07101004+196.3412392j   225.60550618+117.75910023j\n",
      "    75.21618924 +39.25350126j  225.58833994+117.74901754j]\n",
      " [ 225.59770109+117.75846613j   75.20713953 +39.24242953j\n",
      "   -75.2256137  -39.24618853j   75.21858627 +39.24994698j]\n",
      " [  75.20595036 +39.24362002j  -75.21416215 -39.24009658j\n",
      "  -225.60341612-117.7572504j   -75.18618528 -39.25092715j]\n",
      " [ 225.59288293+117.75989623j   75.21283061 +39.24285757j\n",
      "   -75.19847359 -39.25435307j   75.19057324 +39.25625337j]]\n"
     ]
    }
   ],
   "source": [
    "# Amplitude embedding encodes a normalized 2^n-dimensional feature vector into the state of n qbits (uses log2(n) qbits for n classical data)\n",
    "data_dimension = visibilities.shape[0]*visibilities.shape[1]\n",
    "data = visibilities.flatten()\n",
    "\n",
    "#normalization to prepare a qstate with measurement probabilites summing up to 1 (SUM (amplitudes²) = 1)\n",
    "norm = qml.math.sum(qml.math.abs(data) ** 2)\n",
    "normalized_data = data / qml.math.sqrt(norm)\n",
    "\n",
    "wires = range(int(math.log2(data_dimension))) # set the number of qbits (no padding needed if outputs an integer)\n",
    "amp_dev = qml.device('default.qubit', wires, shots=1)\n",
    "\n",
    "@qml.qnode(amp_dev)\n",
    "def amp_encoding(data):\n",
    "    AmplitudeEmbedding(data, wires) # normalize = True\n",
    "    return qml.sample(qml.PauliX(0)), qml.sample(qml.PauliX(1)), qml.sample(qml.PauliX(2)), qml.sample(qml.PauliX(3))\n",
    "\n",
    "amp_encoding(normalized_data)\n",
    "readout = amp_dev.state\n",
    "\n",
    "readout = readout*qml.math.sqrt(norm) # denormalization of the measurement outcomes\n",
    "readout = np.array(readout).reshape(n , n)\n",
    "print(readout)"
   ]
  },
  {
   "cell_type": "markdown",
   "id": "59f8ac30",
   "metadata": {},
   "source": [
    "## Applying 2D Inverse Fourier transform (+ fidelity test)"
   ]
  },
  {
   "cell_type": "code",
   "execution_count": 13,
   "id": "e18b327f",
   "metadata": {},
   "outputs": [
    {
     "name": "stdout",
     "output_type": "stream",
     "text": [
      "\n",
      "Reals MSE: 7.494740320319906e-29\n",
      "Imaginaries MSE: 1.8811157149976167e-29\n"
     ]
    }
   ],
   "source": [
    "img = np.fft.ifft2(readout)\n",
    "\n",
    "test_real = ((sky_image.real - img.real)**2).mean()\n",
    "test_imag = ((sky_image.imag - img.imag)**2).mean()\n",
    "\n",
    "print()\n",
    "\n",
    "print('Reals MSE: '+ str(test_real))\n",
    "print('Imaginaries MSE: ' + str(test_imag))"
   ]
  },
  {
   "cell_type": "markdown",
   "id": "9fadfdd6",
   "metadata": {},
   "source": [
    "## Utils"
   ]
  },
  {
   "cell_type": "markdown",
   "id": "617273aa",
   "metadata": {},
   "source": [
    "### Quantum"
   ]
  },
  {
   "cell_type": "markdown",
   "id": "416ad687",
   "metadata": {},
   "source": [
    "### Classical"
   ]
  },
  {
   "cell_type": "code",
   "execution_count": 14,
   "id": "b1c860bb",
   "metadata": {},
   "outputs": [],
   "source": [
    "#creates a circular mask over a 2D array\n",
    "def circular_mask(h, w, center=None, radius=None):\n",
    "    if center is None: #image center\n",
    "        center = (int(w/2), int(h/2))\n",
    "    if radius is None: #smallest distance between center and image bounderies\n",
    "        radius = min(center[0], center[1], w-center[0], h-center[1])\n",
    "        \n",
    "    Y, X = np.ogrid[:h, :w]\n",
    "    dist_from_center = np.sqrt((X - center[0])**2 + (Y-center[1])**2)\n",
    "    mask = dist_from_center <= radius\n",
    "    \n",
    "    return mask"
   ]
  },
  {
   "cell_type": "code",
   "execution_count": null,
   "id": "fc3de505",
   "metadata": {},
   "outputs": [],
   "source": []
  }
 ],
 "metadata": {
  "kernelspec": {
   "display_name": "Python 3",
   "language": "python",
   "name": "python3"
  },
  "language_info": {
   "codemirror_mode": {
    "name": "ipython",
    "version": 3
   },
   "file_extension": ".py",
   "mimetype": "text/x-python",
   "name": "python",
   "nbconvert_exporter": "python",
   "pygments_lexer": "ipython3",
   "version": "3.8.8"
  }
 },
 "nbformat": 4,
 "nbformat_minor": 5
}
