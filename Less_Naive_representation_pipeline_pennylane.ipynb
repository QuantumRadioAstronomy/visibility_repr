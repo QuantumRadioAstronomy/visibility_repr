{
 "cells": [
  {
   "cell_type": "markdown",
   "id": "b4824755",
   "metadata": {},
   "source": [
    "# Less Naive representation pipeline (pennylane)\n",
    "\n",
    "Main steps:\n",
    "\n",
    "* input: image of the sky (frequency domain)\n",
    "* apply 2D Fourier transform --> visibilities (Fourier domain)\n",
    "* encode classical visibilities data into qbits (non-conventional domain)\n",
    "* measure qbits (back to conventional domain)\n",
    "* apply 2D Inverse Fourier transform --> original image?"
   ]
  },
  {
   "cell_type": "code",
   "execution_count": 8,
   "id": "04ee6ebe",
   "metadata": {},
   "outputs": [],
   "source": [
    "import numpy as np\n",
    "import math\n",
    "import sys\n",
    "\n",
    "import pennylane as qml\n",
    "from pennylane import numpy as pnp\n",
    "#from pennylane.templates.embeddings import AmplitudeEmbedding"
   ]
  },
  {
   "cell_type": "markdown",
   "id": "3bd5e888",
   "metadata": {},
   "source": [
    "## Generating an artificial image of the sky"
   ]
  },
  {
   "cell_type": "code",
   "execution_count": 14,
   "id": "9af37941",
   "metadata": {},
   "outputs": [
    {
     "name": "stdout",
     "output_type": "stream",
     "text": [
      "[[2.7510828e+01+2.8234703e+01j 2.7510828e+01+2.8234703e+01j\n",
      "  3.6175237e-03+6.4585963e-03j 2.7510828e+01+2.8234703e+01j]\n",
      " [2.7510828e+01+2.8234703e+01j 4.3533933e-03+4.4468590e-03j\n",
      "  6.9055124e-03+3.3520055e-03j 8.2349451e-03+6.3901028e-04j]\n",
      " [4.6377857e-03+6.7809406e-03j 7.5805178e-03+4.4731712e-03j\n",
      "  3.4381095e-03+1.3682940e-03j 6.6085169e-03+6.2355092e-03j]\n",
      " [2.7510828e+01+2.8234703e+01j 8.3669601e-03+7.8799566e-03j\n",
      "  1.0267316e-03+8.3748708e-03j 1.2169689e-03+6.1689648e-03j]]\n"
     ]
    }
   ],
   "source": [
    "#image of the sky filled with single precision complex floats\n",
    "#pixels are set to low complex random values (image background) \n",
    "#few pixels are set to larger complex random values in a specified ellipse area (image source/subject)\n",
    "\n",
    "n = 4\n",
    "image = np.zeros((n, n), dtype='complex64')\n",
    "image.real = np.random.rand(n , n) / 100\n",
    "image.imag = np.random.rand(n , n) / 100\n",
    "\n",
    "h, w = image.shape\n",
    "mask = circular_mask(h, w, radius=h/2)\n",
    "sky_image = image.copy()\n",
    "sky_image[~mask] = complex(np.random.rand() * 100, np.random.rand() * 100)\n",
    "print(sky_image)"
   ]
  },
  {
   "cell_type": "markdown",
   "id": "749432b8",
   "metadata": {},
   "source": [
    "## Applying 2D Fourier transform (visibilities)"
   ]
  },
  {
   "cell_type": "code",
   "execution_count": 15,
   "id": "08b6f95d",
   "metadata": {},
   "outputs": [
    {
     "name": "stdout",
     "output_type": "stream",
     "text": [
      "[[137.61012 +141.22969j   82.525894 +84.687096j  27.494093 +28.231194j\n",
      "   82.51838  +84.69558j ]\n",
      " [ 82.49985  +84.68282j   27.523829 +28.227585j -27.497158 -28.22856j\n",
      "   27.49824  +28.229836j]\n",
      " [ 27.506605 +28.229158j -27.512594 -28.221725j -82.52074  -84.6928j\n",
      "  -27.498032 -28.226318j]\n",
      " [ 82.527824 +84.70059j   27.491718 +28.220022j -27.505037 -28.22281j\n",
      "   27.510258 +28.213884j]]\n"
     ]
    }
   ],
   "source": [
    "visibilities = np.fft.fft2(sky_image).astype('complex64')\n",
    "print(visibilities)"
   ]
  },
  {
   "cell_type": "markdown",
   "id": "8558fbb3",
   "metadata": {},
   "source": [
    "### Sanity check"
   ]
  },
  {
   "cell_type": "code",
   "execution_count": 16,
   "id": "aa7a59e8",
   "metadata": {},
   "outputs": [
    {
     "name": "stdout",
     "output_type": "stream",
     "text": [
      "[[2.7510828e+01+2.8234703e+01j 2.7510828e+01+2.8234703e+01j\n",
      "  3.6168098e-03+6.4579248e-03j 2.7510828e+01+2.8234703e+01j]\n",
      " [2.7510828e+01+2.8234703e+01j 4.3535233e-03+4.4466257e-03j\n",
      "  6.9049597e-03+3.3512115e-03j 8.2349777e-03+6.3836575e-04j]\n",
      " [4.6381950e-03+6.7812204e-03j 7.5801611e-03+4.4734478e-03j\n",
      "  3.4377575e-03+1.3681650e-03j 6.6078901e-03+6.2355995e-03j]\n",
      " [2.7510828e+01+2.8234703e+01j 8.3670616e-03+7.8800917e-03j\n",
      "  1.0260344e-03+8.3749294e-03j 1.2164116e-03+6.1689615e-03j]]\n",
      "\n",
      "Reals MSE: 1.5322406e-13\n",
      "Imaginaries MSE: 1.0952636e-13\n"
     ]
    }
   ],
   "source": [
    "img = np.fft.ifft2(visibilities).astype('complex64')\n",
    "print(img)\n",
    "test_real = ((sky_image.real - img.real)**2).mean()\n",
    "test_imag = ((sky_image.imag - img.imag)**2).mean()\n",
    "\n",
    "print()\n",
    " \n",
    "print('Reals MSE: '+ str(test_real))\n",
    "print('Imaginaries MSE: ' + str(test_imag))"
   ]
  },
  {
   "cell_type": "markdown",
   "id": "ada93768",
   "metadata": {},
   "source": [
    "## Classical data encoding/decoding"
   ]
  },
  {
   "cell_type": "code",
   "execution_count": 36,
   "id": "49aa4a9c",
   "metadata": {
    "scrolled": true
   },
   "outputs": [
    {
     "name": "stdout",
     "output_type": "stream",
     "text": [
      "[ 0.39027768+0.40054318j  0.23405266+0.24018206j  0.07797632+0.08006682j\n",
      "  0.23403133+0.24020612j  0.23397878+0.24016994j  0.07806065+0.08005659j\n",
      " -0.07798501-0.08005935j  0.07798808+0.08006296j  0.0780118 +0.08006105j\n",
      " -0.07802879-0.08003996j -0.23403803-0.24019825j -0.07798749-0.08005299j\n",
      "  0.23405813+0.24022034j  0.07796958+0.08003514j -0.07800736-0.08004304j\n",
      "  0.07802217+0.08001773j]\n",
      "\n",
      "[[137.61012 +141.22969j   82.525894 +84.687096j  27.494093 +28.231194j\n",
      "   82.51838  +84.69558j ]\n",
      " [ 82.49985  +84.68282j   27.523829 +28.227587j -27.497158 -28.228561j\n",
      "   27.498241 +28.229836j]\n",
      " [ 27.506605 +28.22916j  -27.512594 -28.221725j -82.52074  -84.69281j\n",
      "  -27.498034 -28.22632j ]\n",
      " [ 82.527824 +84.70059j   27.491718 +28.220022j -27.505037 -28.22281j\n",
      "   27.51026  +28.213886j]]\n"
     ]
    }
   ],
   "source": [
    "# Amplitude embedding encodes a normalized 2^n-dimensional feature vector into the state of n qbits (uses log2(n) qbits for n classical data)\n",
    "n = visibilities.shape[0]*visibilities.shape[1]\n",
    "data = visibilities.flatten()\n",
    "\n",
    "#normalization to prepare a qstate with measurement probabilites summing up to 1 (SUM (amplitudes²) = 1)\n",
    "norm = qml.math.sum(qml.math.abs(data) ** 2)\n",
    "normalized_data = data / qml.math.sqrt(norm)\n",
    "\n",
    "wires = range(int(math.log2(n))) # set the number of qbits (no padding needed if outputs an integer=integer.0)\n",
    "amp_dev = qml.device('default.qubit', wires)\n",
    "\n",
    "@qml.qnode(amp_dev)\n",
    "def amp_encoding(data):\n",
    "    qml.AmplitudeEmbedding(data, wires) # normalize = True\n",
    "    return qml.state() #qml.expval(qml.PauliZ(wires=wires))\n",
    "\n",
    "results = amp_encoding(normalized_data).astype('complex64')\n",
    "print(results)\n",
    "\n",
    "print()\n",
    "\n",
    "results = results*qml.math.sqrt(norm) # denormalization of the measurements outcomes\n",
    "results = np.array(results).reshape(sky_image.shape[0] , sky_image.shape[1])\n",
    "print(results)"
   ]
  },
  {
   "cell_type": "markdown",
   "id": "59f8ac30",
   "metadata": {},
   "source": [
    "## Applying 2D Inverse Fourier transform (+ fidelity test)"
   ]
  },
  {
   "cell_type": "code",
   "execution_count": 43,
   "id": "e18b327f",
   "metadata": {},
   "outputs": [
    {
     "name": "stdout",
     "output_type": "stream",
     "text": [
      "[[2.7510828e+01+2.8234703e+01j 2.7510828e+01+2.8234703e+01j\n",
      "  3.6166906e-03+6.4573288e-03j 2.7510828e+01+2.8234703e+01j]\n",
      " [2.7510828e+01+2.8234703e+01j 4.3535233e-03+4.4456720e-03j\n",
      "  6.9049597e-03+3.3514500e-03j 8.2347393e-03+6.3812733e-04j]\n",
      " [4.6378374e-03+6.7806244e-03j 7.5800419e-03+4.4742823e-03j\n",
      "  3.4381151e-03+1.3682842e-03j 6.6080093e-03+6.2357187e-03j]\n",
      " [2.7510828e+01+2.8234703e+01j 8.3673000e-03+7.8796148e-03j\n",
      "  1.0257959e-03+8.3751678e-03j 1.2164116e-03+6.1682463e-03j]]\n",
      "\n",
      "Reals MSE: 1.7794387e-13\n",
      "Imaginaries MSE: 3.8772224e-13\n"
     ]
    }
   ],
   "source": [
    "img = np.fft.ifft2(results).astype('complex64')\n",
    "print(img)\n",
    "test_real = ((sky_image.real - img.real)**2).mean()\n",
    "test_imag = ((sky_image.imag - img.imag)**2).mean()\n",
    "\n",
    "print()\n",
    "\n",
    "print('Reals MSE: '+ str(test_real))\n",
    "print('Imaginaries MSE: ' + str(test_imag))"
   ]
  },
  {
   "cell_type": "markdown",
   "id": "9fadfdd6",
   "metadata": {},
   "source": [
    "## Utils"
   ]
  },
  {
   "cell_type": "markdown",
   "id": "617273aa",
   "metadata": {},
   "source": [
    "### Quantum"
   ]
  },
  {
   "cell_type": "markdown",
   "id": "416ad687",
   "metadata": {},
   "source": [
    "### Classical"
   ]
  },
  {
   "cell_type": "code",
   "execution_count": 9,
   "id": "b1c860bb",
   "metadata": {},
   "outputs": [],
   "source": [
    "#creates a circular mask over a 2D array\n",
    "def circular_mask(h, w, center=None, radius=None):\n",
    "    if center is None: #image center\n",
    "        center = (int(w/2), int(h/2))\n",
    "    if radius is None: #smallest distance between center and image bounderies\n",
    "        radius = min(center[0], center[1], w-center[0], h-center[1])\n",
    "        \n",
    "    Y, X = np.ogrid[:h, :w]\n",
    "    dist_from_center = np.sqrt((X - center[0])**2 + (Y-center[1])**2)\n",
    "    mask = dist_from_center <= radius\n",
    "    \n",
    "    return mask"
   ]
  },
  {
   "cell_type": "code",
   "execution_count": null,
   "id": "fc3de505",
   "metadata": {},
   "outputs": [],
   "source": []
  }
 ],
 "metadata": {
  "kernelspec": {
   "display_name": "Python 3",
   "language": "python",
   "name": "python3"
  },
  "language_info": {
   "codemirror_mode": {
    "name": "ipython",
    "version": 3
   },
   "file_extension": ".py",
   "mimetype": "text/x-python",
   "name": "python",
   "nbconvert_exporter": "python",
   "pygments_lexer": "ipython3",
   "version": "3.8.8"
  }
 },
 "nbformat": 4,
 "nbformat_minor": 5
}
