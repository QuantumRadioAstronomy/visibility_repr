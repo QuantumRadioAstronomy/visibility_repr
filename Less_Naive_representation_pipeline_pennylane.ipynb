{
 "cells": [
  {
   "cell_type": "markdown",
   "id": "b4824755",
   "metadata": {},
   "source": [
    "# Less Naive representation pipeline (pennylane)\n",
    "\n",
    "Main steps:\n",
    "\n",
    "* input: image of the sky (frequency domain)\n",
    "* apply 2D Fourier transform --> visibilities (Fourier domain)\n",
    "* encode classical visibilities data into qbits (non-conventional domain)\n",
    "* measure qbits (back to conventional domain)\n",
    "* apply 2D Inverse Fourier transform --> original image?"
   ]
  },
  {
   "cell_type": "code",
   "execution_count": 21,
   "id": "04ee6ebe",
   "metadata": {},
   "outputs": [],
   "source": [
    "import numpy as np\n",
    "import math\n",
    "import sys\n",
    "\n",
    "import pennylane as qml\n",
    "from pennylane.optimize import AdamOptimizer, GradientDescentOptimizer\n",
    "from pennylane.templates.embeddings import AmplitudeEmbedding"
   ]
  },
  {
   "cell_type": "markdown",
   "id": "3bd5e888",
   "metadata": {},
   "source": [
    "## Generating an artificial image of the sky"
   ]
  },
  {
   "cell_type": "code",
   "execution_count": 22,
   "id": "9af37941",
   "metadata": {},
   "outputs": [
    {
     "name": "stdout",
     "output_type": "stream",
     "text": [
      "[[9.03018518e+01+7.13215916e+01j 9.03018518e+01+7.13215916e+01j\n",
      "  6.12378151e-03+5.82795563e-04j 9.03018518e+01+7.13215916e+01j]\n",
      " [9.03018518e+01+7.13215916e+01j 2.56325549e-03+6.65787144e-03j\n",
      "  6.29310156e-03+9.05023573e-03j 3.06964087e-03+9.50770866e-03j]\n",
      " [9.13070683e-04+6.11993091e-03j 7.38098334e-03+7.06396292e-03j\n",
      "  8.97665017e-03+7.08359559e-03j 1.96924033e-03+4.70749384e-03j]\n",
      " [9.03018518e+01+7.13215916e+01j 8.18975824e-03+7.20385564e-03j\n",
      "  8.85601289e-03+3.38293620e-04j 8.66337052e-04+4.61125914e-03j]]\n"
     ]
    }
   ],
   "source": [
    "#image of the sky filled with single precision complex floats\n",
    "#pixels are set to low complex random values (image background) \n",
    "#few pixels are set to larger complex random values in a specified ellipse area (image source/subject)\n",
    "\n",
    "n = 4\n",
    "image = np.zeros((n, n), dtype=complex)\n",
    "image.real = np.random.rand(n , n) / 100\n",
    "image.imag = np.random.rand(n , n) / 100\n",
    "\n",
    "h, w = image.shape\n",
    "mask = circular_mask(h, w, radius=h/2)\n",
    "sky_image = image.copy()\n",
    "sky_image[~mask] = complex(np.random.rand() * 100, np.random.rand() * 100)\n",
    "print(sky_image)"
   ]
  },
  {
   "cell_type": "markdown",
   "id": "749432b8",
   "metadata": {},
   "source": [
    "## Applying 2D Fourier transform (visibilities)"
   ]
  },
  {
   "cell_type": "code",
   "execution_count": 23,
   "id": "08b6f95d",
   "metadata": {},
   "outputs": [
    {
     "name": "stdout",
     "output_type": "stream",
     "text": [
      "[[ 451.56446083+356.67088496j  270.87831815+213.94161101j\n",
      "    90.3089752  +71.30501429j  270.87411969+213.96606857j]\n",
      " [ 270.90550164+213.9463687j    90.30055299 +71.33026373j\n",
      "   -90.29190604 -71.32330115j   90.28960632 +71.30855537j]\n",
      " [  90.29737742 +71.30978015j  -90.29827634 -71.31234423j\n",
      "  -270.89935224-213.94416775j  -90.30350376 -71.31515482j]\n",
      " [ 270.87937683+213.93439648j   90.30231726 +71.32450468j\n",
      "   -90.30062899 -71.32158058j   90.32268982 +71.32456606j]]\n"
     ]
    }
   ],
   "source": [
    "visibilities = np.fft.fft2(sky_image)\n",
    "print(visibilities)"
   ]
  },
  {
   "cell_type": "markdown",
   "id": "8558fbb3",
   "metadata": {},
   "source": [
    "### Sanity check"
   ]
  },
  {
   "cell_type": "code",
   "execution_count": 24,
   "id": "aa7a59e8",
   "metadata": {},
   "outputs": [
    {
     "name": "stdout",
     "output_type": "stream",
     "text": [
      "[[9.03018518e+01+7.13215916e+01j 9.03018518e+01+7.13215916e+01j\n",
      "  6.12378151e-03+5.82795563e-04j 9.03018518e+01+7.13215916e+01j]\n",
      " [9.03018518e+01+7.13215916e+01j 2.56325549e-03+6.65787144e-03j\n",
      "  6.29310156e-03+9.05023573e-03j 3.06964087e-03+9.50770866e-03j]\n",
      " [9.13070683e-04+6.11993091e-03j 7.38098334e-03+7.06396292e-03j\n",
      "  8.97665017e-03+7.08359559e-03j 1.96924033e-03+4.70749384e-03j]\n",
      " [9.03018518e+01+7.13215916e+01j 8.18975824e-03+7.20385564e-03j\n",
      "  8.85601289e-03+3.38293620e-04j 8.66337052e-04+4.61125914e-03j]]\n",
      "\n",
      "Reals MSE: 7.377717416395818e-29\n",
      "Imaginaries MSE: 1.7509392055706546e-29\n"
     ]
    }
   ],
   "source": [
    "img = np.fft.ifft2(visibilities)\n",
    "print(img)\n",
    "test_real = ((sky_image.real - img.real)**2).mean()\n",
    "test_imag = ((sky_image.imag - img.imag)**2).mean()\n",
    "\n",
    "print()\n",
    " \n",
    "print('Reals MSE: '+ str(test_real))\n",
    "print('Imaginaries MSE: ' + str(test_imag))"
   ]
  },
  {
   "cell_type": "markdown",
   "id": "ada93768",
   "metadata": {},
   "source": [
    "## Classical data encoding/decoding"
   ]
  },
  {
   "cell_type": "code",
   "execution_count": 32,
   "id": "49aa4a9c",
   "metadata": {
    "scrolled": true
   },
   "outputs": [
    {
     "name": "stdout",
     "output_type": "stream",
     "text": [
      "[[-1]\n",
      " [-1]\n",
      " [ 1]\n",
      " [ 1]]\n",
      "[[ 451.56446083+356.67088496j  270.87831815+213.94161101j\n",
      "    90.3089752  +71.30501429j  270.87411969+213.96606857j]\n",
      " [ 270.90550164+213.9463687j    90.30055299 +71.33026373j\n",
      "   -90.29190604 -71.32330115j   90.28960632 +71.30855537j]\n",
      " [  90.29737742 +71.30978015j  -90.29827634 -71.31234423j\n",
      "  -270.89935224-213.94416775j  -90.30350376 -71.31515482j]\n",
      " [ 270.87937683+213.93439648j   90.30231726 +71.32450468j\n",
      "   -90.30062899 -71.32158058j   90.32268982 +71.32456606j]]\n"
     ]
    }
   ],
   "source": [
    "# Amplitude embedding encodes a normalized 2^n-dimensional feature vector into the state of n qbits (uses log2(n) qbits for n classical data)\n",
    "data_dimension = visibilities.shape[0]*visibilities.shape[1]\n",
    "data = visibilities.flatten()\n",
    "\n",
    "#normalization to prepare a qstate with measurement probabilites summing up to 1 (SUM (amplitudes²) = 1)\n",
    "norm = qml.math.sum(qml.math.abs(data) ** 2)\n",
    "normalized_data = data / qml.math.sqrt(norm)\n",
    "\n",
    "wires = range(int(math.log2(data_dimension))) # set the number of qbits (no padding needed if outputs an integer)\n",
    "amp_dev = qml.device('default.qubit', wires, shots=1)\n",
    "\n",
    "@qml.qnode(amp_dev)\n",
    "def amp_encoding(data):\n",
    "    AmplitudeEmbedding(data, wires) # normalize = True\n",
    "    return qml.sample(qml.PauliX(0)), qml.sample(qml.PauliX(1)), qml.sample(qml.PauliX(2)), qml.sample(qml.PauliX(3))\n",
    "\n",
    "result = amp_encoding(normalized_data)\n",
    "print(result)\n",
    "readout = amp_dev.state\n",
    "\n",
    "readout = readout*qml.math.sqrt(norm) # denormalization of the measurement outcomes\n",
    "readout = np.array(readout).reshape(n , n)\n",
    "print(readout)"
   ]
  },
  {
   "cell_type": "markdown",
   "id": "59f8ac30",
   "metadata": {},
   "source": [
    "## Applying 2D Inverse Fourier transform (+ fidelity test)"
   ]
  },
  {
   "cell_type": "code",
   "execution_count": 33,
   "id": "e18b327f",
   "metadata": {},
   "outputs": [
    {
     "name": "stdout",
     "output_type": "stream",
     "text": [
      "\n",
      "Reals MSE: 7.722935544102369e-29\n",
      "Imaginaries MSE: 2.630356133070539e-29\n"
     ]
    }
   ],
   "source": [
    "img = np.fft.ifft2(readout)\n",
    "\n",
    "test_real = ((sky_image.real - img.real)**2).mean()\n",
    "test_imag = ((sky_image.imag - img.imag)**2).mean()\n",
    "\n",
    "print()\n",
    "\n",
    "print('Reals MSE: '+ str(test_real))\n",
    "print('Imaginaries MSE: ' + str(test_imag))"
   ]
  },
  {
   "cell_type": "markdown",
   "id": "9fadfdd6",
   "metadata": {},
   "source": [
    "## Utils"
   ]
  },
  {
   "cell_type": "markdown",
   "id": "617273aa",
   "metadata": {},
   "source": [
    "### Quantum"
   ]
  },
  {
   "cell_type": "markdown",
   "id": "416ad687",
   "metadata": {},
   "source": [
    "### Classical"
   ]
  },
  {
   "cell_type": "code",
   "execution_count": 14,
   "id": "b1c860bb",
   "metadata": {},
   "outputs": [],
   "source": [
    "#creates a circular mask over a 2D array\n",
    "def circular_mask(h, w, center=None, radius=None):\n",
    "    if center is None: #image center\n",
    "        center = (int(w/2), int(h/2))\n",
    "    if radius is None: #smallest distance between center and image bounderies\n",
    "        radius = min(center[0], center[1], w-center[0], h-center[1])\n",
    "        \n",
    "    Y, X = np.ogrid[:h, :w]\n",
    "    dist_from_center = np.sqrt((X - center[0])**2 + (Y-center[1])**2)\n",
    "    mask = dist_from_center <= radius\n",
    "    \n",
    "    return mask"
   ]
  },
  {
   "cell_type": "code",
   "execution_count": null,
   "id": "fc3de505",
   "metadata": {},
   "outputs": [],
   "source": []
  }
 ],
 "metadata": {
  "kernelspec": {
   "display_name": "Python 3",
   "language": "python",
   "name": "python3"
  },
  "language_info": {
   "codemirror_mode": {
    "name": "ipython",
    "version": 3
   },
   "file_extension": ".py",
   "mimetype": "text/x-python",
   "name": "python",
   "nbconvert_exporter": "python",
   "pygments_lexer": "ipython3",
   "version": "3.8.8"
  }
 },
 "nbformat": 4,
 "nbformat_minor": 5
}
