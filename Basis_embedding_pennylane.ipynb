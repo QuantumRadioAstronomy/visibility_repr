{
 "cells": [
  {
   "cell_type": "markdown",
   "id": "b4824755",
   "metadata": {},
   "source": [
    "# Basis embedding (pennylane)\n",
    "\n",
    "Main steps:\n",
    "\n",
    "* initialize an image of the sky (frequency domain)\n",
    "* apply 2D FT --> visibilities (Fourier domain)\n",
    "* encode visibilities data into qubits using amplitude embedding (non-conventional domain)\n",
    "* measure qubits on simulator --> expected outcomes (back to conventional domain)\n",
    "* apply 2D IFT --> fidelity computation\n",
    "\n",
    "Basis embedding:\n",
    "\n",
    "* from https://docs.pennylane.ai/en/stable/code/api/pennylane.BasisEmbedding.html\n",
    "* literature: https://hillside.net/plop/2020/papers/weigold.pdf"
   ]
  },
  {
   "cell_type": "code",
   "execution_count": 1,
   "id": "04ee6ebe",
   "metadata": {},
   "outputs": [],
   "source": [
    "import numpy as np\n",
    "import matplotlib.pyplot as plt\n",
    "import struct\n",
    "\n",
    "import pennylane as qml\n",
    "from pennylane import numpy as pnp"
   ]
  },
  {
   "cell_type": "markdown",
   "id": "3fa12c9f",
   "metadata": {},
   "source": [
    "### Prerequisites"
   ]
  },
  {
   "cell_type": "code",
   "execution_count": 2,
   "id": "b1c860bb",
   "metadata": {},
   "outputs": [],
   "source": [
    "# float to binary \n",
    "def float_to_bin_real(num):\n",
    "    return format(struct.unpack('!I', struct.pack('!f', num))[0], '032b')\n",
    "def float_to_bin_imag(num):\n",
    "    return format(struct.unpack('!I', struct.pack('!f', num))[0], '032b')\n",
    "\n",
    "# binary to float\n",
    "def bin_to_float_real(binary):\n",
    "    return struct.unpack('!f',struct.pack('!I', int(binary, 2)))[0]\n",
    "def bin_to_float_imag(binary):\n",
    "    return struct.unpack('!f',struct.pack('!I', int(binary, 2)))[0]"
   ]
  },
  {
   "cell_type": "markdown",
   "id": "3bd5e888",
   "metadata": {},
   "source": [
    "## 1) Generating an artificial image of the sky (frequency domain)"
   ]
  },
  {
   "cell_type": "code",
   "execution_count": 3,
   "id": "ab6279d2",
   "metadata": {},
   "outputs": [
    {
     "name": "stdout",
     "output_type": "stream",
     "text": [
      "[[ 5.6622345e-03+6.77522225e-03j  6.8021758e-04+9.32586659e-03j\n",
      "  -3.7889394e-03+2.80926260e-03j  6.1393414e+01+8.14401531e+00j\n",
      "   1.9869662e-03-2.13948451e-02j -2.0478482e-03-1.64958313e-02j\n",
      "   1.1224177e-02-1.42890457e-02j  5.1469300e-03-2.32168147e-03j\n",
      "  -1.5632289e-02-1.91560499e-02j -5.1635057e-03-4.40850900e-03j]\n",
      " [-7.1028559e-03-1.10338740e-02j -4.1071582e-03+1.51233450e-02j\n",
      "  -1.5167798e-02-1.73813407e-03j -1.3598283e-02-3.89357936e-03j\n",
      "   1.7435705e-02+2.00421195e-02j  5.9414772e+01+6.71427612e+01j\n",
      "   1.4949139e-02+2.19756039e-03j -1.3939207e-02-2.47657951e-03j\n",
      "   1.4594443e-02-7.40341237e-03j -6.4117429e-03+4.06338647e-03j]\n",
      " [-5.4500955e-03+3.27111385e-03j  7.4222535e-03+3.27955908e-03j\n",
      "  -4.4280649e-03-2.71119513e-02j  4.5804805e-03-2.88866460e-03j\n",
      "  -1.2371549e-03+9.63141560e-04j  8.5931933e-03+1.39449351e-02j\n",
      "  -1.9568710e-03-8.57281499e-03j  9.7258110e+01+8.30566692e+00j\n",
      "  -2.2889287e-04-2.41841096e-03j -4.0749353e-03+1.01239905e-02j]\n",
      " [-2.3593010e-02+5.35332086e-03j  3.3879730e+01+1.93315105e+01j\n",
      "   6.1176815e+01+8.58728104e+01j -1.4126891e-02-3.72433057e-03j\n",
      "  -5.7926308e-03+7.18423026e-03j -4.0558726e-03+3.47843021e-03j\n",
      "   8.9767640e-03+2.60922220e-03j -4.5524454e-03-4.22668550e-03j\n",
      "  -4.5939437e-03+4.77511063e-03j  3.2690577e-03-8.01521726e-03j]\n",
      " [ 4.2055226e-03-9.67674796e-03j  1.8028041e-03-3.28442594e-03j\n",
      "   8.6073204e+01+3.92357039e+00j  3.0643393e-03+1.12196831e-02j\n",
      "  -8.2759717e-03-2.56619323e-02j  5.7191132e-03+2.81898491e-03j\n",
      "  -1.1264979e-02-1.78998969e-02j  6.2029990e-03-1.74542312e-02j\n",
      "  -1.4320468e-03+4.96758893e-03j  6.6784729e-04+6.46289811e-03j]\n",
      " [-7.6005734e-03+5.95051749e-03j -8.8578463e-03+6.00954425e-03j\n",
      "   5.3796917e-03+1.25842690e-02j  1.0467992e-02+2.47805053e-03j\n",
      "   6.3508041e+01+3.80560226e+01j -1.1572092e-03+1.83370942e-03j\n",
      "  -9.8173395e-03-3.24077508e-03j -3.6362521e-03+6.11069426e-03j\n",
      "  -1.1130091e-02-1.21159165e-03j -5.9099207e-03-5.36445994e-03j]\n",
      " [ 5.4785069e-03-3.69116664e-03j -1.0459614e-03-2.48505943e-03j\n",
      "  -3.9389264e-03-5.08134626e-03j -2.8294476e-03+1.36719644e-02j\n",
      "   2.4402610e-03+2.37235031e-03j -4.1236663e-03-1.29074939e-02j\n",
      "   2.8315727e-03-5.40232658e-03j -6.7055942e-03+6.51478767e-03j\n",
      "  -6.3003600e-03+2.70754751e-03j  4.1257292e-03-1.91795658e-02j]\n",
      " [ 5.8593384e+01+1.95709095e+01j  1.3534305e-02+1.66656522e-04j\n",
      "  -9.6179098e-03-3.42282094e-03j -6.0388483e-03+1.19435266e-02j\n",
      "   1.5854379e-03+1.30851408e-02j  5.2928566e-03+5.02325594e-03j\n",
      "  -1.1931807e-02+1.97406542e-02j  7.7924813e-04-9.89378523e-03j\n",
      "   2.7173564e-03-2.54741265e-03j  2.7159939e-03+7.59014254e-03j]\n",
      " [-3.7298275e-03-4.91003375e-05j  7.5401557e-03-3.81150027e-03j\n",
      "   2.7228917e-03+1.86961219e-02j  5.6809827e-04+1.07061854e-02j\n",
      "  -1.6891140e-02+1.54707404e-02j  1.3070694e-02+1.75050050e-02j\n",
      "   1.1101089e-02-1.24827316e-02j -6.3277045e-03-1.20481411e-02j\n",
      "  -1.7654572e-02-5.05393930e-03j  1.1621910e-02+7.78042711e-03j]\n",
      " [-1.0151182e-02+1.66513491e-02j  2.4045401e-03+1.09642688e-02j\n",
      "   8.3326437e-03+3.66771943e-03j  1.7764115e-04-1.15552600e-02j\n",
      "  -2.7313686e-03+6.14903460e-04j -5.2820011e-03-1.71876289e-02j\n",
      "  -5.3039882e-03+7.14627327e-03j  1.2152275e-02+3.32553685e-03j\n",
      "   4.0515447e-03-9.77783650e-03j  6.7662988e-03+1.16521688e-02j]]\n"
     ]
    }
   ],
   "source": [
    "#image of the sky filled with double precision complex floats ('complex64')\n",
    "#pixels are set to low complex random values (image background/noise) \n",
    "#few pixels are set to larger complex random values in a specified ellipse area (image source/subject)\n",
    "n = 10 #20\n",
    "sky_image = np.zeros((n, n), dtype='complex64')\n",
    "mask = np.zeros((n, n), dtype='bool')\n",
    "number_of_stars = np.random.randint(3, 11)\n",
    "radius = np.random.randint(1, 3)\n",
    "\n",
    "for i in range(0, number_of_stars):\n",
    "    index_i = np.random.randint(0, sky_image.shape[0]-radius)\n",
    "    index_j = np.random.randint(0, sky_image.shape[1]-radius)\n",
    "    for j in range(0, radius):\n",
    "        for k in range(0, radius):\n",
    "            sky_image[index_i+j][index_j+k] = complex(np.random.rand()*100, np.random.rand()*100)\n",
    "            mask[index_i+j][index_j+k] = True\n",
    "            \n",
    "sky_image.real += np.random.randn(n,n)/100\n",
    "sky_image.imag += np.random.randn(n,n)/100\n",
    "\n",
    "print(sky_image)"
   ]
  },
  {
   "cell_type": "code",
   "execution_count": 4,
   "id": "10402deb",
   "metadata": {},
   "outputs": [
    {
     "data": {
      "image/png": "[encoded data removed]",
      "text/plain": [
       "<Figure size 432x288 with 2 Axes>"
      ]
     },
     "metadata": {
      "needs_background": "light"
     },
     "output_type": "display_data"
    }
   ],
   "source": [
    "modulus = np.absolute(sky_image)\n",
    "plt.imshow(modulus, cmap='Blues')\n",
    "plt.colorbar();"
   ]
  },
  {
   "cell_type": "markdown",
   "id": "749432b8",
   "metadata": {},
   "source": [
    "## 2) Applying a 2D FT (Fourier domain)"
   ]
  },
  {
   "cell_type": "code",
   "execution_count": 5,
   "id": "08b6f95d",
   "metadata": {},
   "outputs": [
    {
     "name": "stdout",
     "output_type": "stream",
     "text": [
      "[[ 5.2121075e+02+250.34808j    9.0752884e+01-203.177j\n",
      "  -6.4291222e+01 -60.9527j     1.9413639e+01-128.24171j\n",
      "   3.7128223e+01+264.664j      1.7289974e+01 +44.42118j\n",
      "   2.3022467e+02-118.47514j    1.5612500e+01 -73.96637j\n",
      "  -1.3436304e+02 +98.04195j   -1.4746739e+02+123.18233j  ]\n",
      " [ 8.9965019e+01-227.4102j    -1.8182835e+02 +27.613943j\n",
      "  -1.8213492e+02+172.33246j   -1.1108002e+02+140.14565j\n",
      "   3.4984070e+02  -6.0435843j -2.9961575e+02 -26.371725j\n",
      "  -9.9752113e+01+131.29637j   -1.3511414e+01 +12.340539j\n",
      "   9.6143417e+01+275.32605j   -1.5376685e+01  -2.0651634j]\n",
      " [-1.8445488e+01 -49.986797j  -8.0428627e+01 -78.96198j\n",
      "   8.1175819e+01+153.98389j   -6.5293381e+01 -78.6979j\n",
      "   4.2348910e-02-263.93277j   -8.0464027e+01+124.42413j\n",
      "  -2.8095517e+00 +19.648338j  -2.7528555e+00 -99.78988j\n",
      "   1.7151147e+02-290.2106j    -3.6152719e+02 +60.65258j  ]\n",
      " [ 6.4127502e+01 -15.10064j    7.5557846e+01 -30.125853j\n",
      "   1.9344962e+02-171.862j     -4.5087952e+01+210.91908j\n",
      "   1.2445664e+02-224.81181j   -1.4656366e+01 -48.743176j\n",
      "   1.6548042e+02 +88.60071j   -6.0795044e+01 -84.31498j\n",
      "  -2.5540493e+01-156.52269j    1.1180122e+02+245.69122j  ]\n",
      " [ 1.9542540e+02+103.40537j   -9.7670036e+01 -46.95799j\n",
      "  -7.2173775e+01 -80.95309j    1.1637326e+02+193.68338j\n",
      "  -1.8462737e+02 +10.230938j  -1.2146786e+01+127.79268j\n",
      "   8.6367897e+01 -10.457551j   1.0097892e+01+289.61844j\n",
      "  -7.0571442e+01-159.23781j    2.3690434e+01+191.00835j  ]\n",
      " [-3.1773458e+01-209.80925j   -1.2829802e+02 +99.99564j\n",
      "  -3.2685214e+02-115.48203j    9.3619438e+01+207.6131j\n",
      "   1.0641479e+02 -20.012903j  -1.6265271e+02 -69.74536j\n",
      "  -7.1263641e+01-100.745834j   1.0629704e+02 +35.105133j\n",
      "  -2.6616119e+02 +12.438801j   9.5282173e+01 -35.26931j  ]\n",
      " [-2.6030596e+01 -43.697975j   1.6312822e+02 +73.409645j\n",
      "  -4.7955845e+01+153.82846j    3.2856790e+02-237.01385j\n",
      "  -4.1402252e+01-250.5623j    -3.3912815e+01 +82.39417j\n",
      "  -1.6920515e+02 -42.42552j    3.3542883e+02  -6.0907493j\n",
      "   3.0570175e+01-162.43549j   -1.7194577e+02 -64.15133j  ]\n",
      " [ 3.9337620e+01+104.460144j   3.9720734e+02-135.63347j\n",
      "  -8.4923393e+01 -66.33635j   -1.7390361e+02 +39.777313j\n",
      "  -1.4612787e+01 +67.256966j   1.5116838e+02+153.10631j\n",
      "   3.0216032e+01+210.94905j    1.2837199e+02-310.3973j\n",
      "  -2.0161612e+02+113.83586j    8.8220535e+01+325.84924j  ]\n",
      " [-4.7823788e+01 -29.238512j  -2.7688138e+02-389.31232j\n",
      "  -2.5162315e+02+342.2449j     1.0462931e+02+220.65193j\n",
      "  -4.6368176e+01  -6.841395j   1.1974059e+02-229.61383j\n",
      "  -2.3338931e+02+115.69265j   -1.6876013e+02+103.560104j\n",
      "   5.7294796e+01 +57.270657j   1.5455659e+02  +1.8606707j]\n",
      " [-1.7207817e+02+197.87839j   -7.3673805e+01 +74.57102j\n",
      "   2.1126880e+02 -32.113148j   1.8182605e+02-141.79674j\n",
      "  -6.3844753e+01-128.49983j   -2.9867627e+02-239.41809j\n",
      "   1.7637839e+02+314.99045j    1.9497389e+02-160.8908j\n",
      "  -1.0621647e+02-215.05258j   -4.4816105e+01-287.47736j  ]]\n"
     ]
    }
   ],
   "source": [
    "visibilities = np.fft.fft2(sky_image).astype('complex64')\n",
    "print(visibilities)"
   ]
  },
  {
   "cell_type": "code",
   "execution_count": 6,
   "id": "1448ea25",
   "metadata": {},
   "outputs": [
    {
     "data": {
      "image/png": "[encoded data removed]",
      "text/plain": [
       "<Figure size 432x288 with 2 Axes>"
      ]
     },
     "metadata": {
      "needs_background": "light"
     },
     "output_type": "display_data"
    }
   ],
   "source": [
    "modulus = np.absolute(visibilities)\n",
    "plt.imshow(modulus, cmap='Blues')\n",
    "plt.colorbar();"
   ]
  },
  {
   "cell_type": "markdown",
   "id": "8558fbb3",
   "metadata": {},
   "source": [
    "### Sanity check"
   ]
  },
  {
   "cell_type": "code",
   "execution_count": 7,
   "id": "aa7a59e8",
   "metadata": {},
   "outputs": [
    {
     "name": "stdout",
     "output_type": "stream",
     "text": [
      "Reals MSE: 1.7696477e-13\n",
      "Imaginaries MSE: 1.5393183e-13\n"
     ]
    }
   ],
   "source": [
    "img = np.fft.ifft2(visibilities).astype('complex64')\n",
    "\n",
    "test_real = ((sky_image.real - img.real)**2).mean()\n",
    "test_imag = ((sky_image.imag - img.imag)**2).mean()\n",
    "\n",
    "print('Reals MSE: '+ str(test_real))\n",
    "print('Imaginaries MSE: ' + str(test_imag))"
   ]
  },
  {
   "cell_type": "markdown",
   "id": "ada93768",
   "metadata": {},
   "source": [
    "## 3) Data encoding: basis embedding (non-conventional domain)"
   ]
  },
  {
   "cell_type": "code",
   "execution_count": 8,
   "id": "49aa4a9c",
   "metadata": {
    "scrolled": true
   },
   "outputs": [
    {
     "ename": "ValueError",
     "evalue": "Maximum allowed dimension exceeded",
     "output_type": "error",
     "traceback": [
      "\u001b[1;31m---------------------------------------------------------------------------\u001b[0m",
      "\u001b[1;31mValueError\u001b[0m                                Traceback (most recent call last)",
      "\u001b[1;32m<ipython-input-8-9f195f9c4a01>\u001b[0m in \u001b[0;36m<module>\u001b[1;34m\u001b[0m\n\u001b[0;32m     29\u001b[0m \u001b[1;31m# n bits encoded onto n quibts\u001b[0m\u001b[1;33m\u001b[0m\u001b[1;33m\u001b[0m\u001b[1;33m\u001b[0m\u001b[0m\n\u001b[0;32m     30\u001b[0m \u001b[0mwires\u001b[0m \u001b[1;33m=\u001b[0m \u001b[0mrange\u001b[0m\u001b[1;33m(\u001b[0m\u001b[0mlen\u001b[0m\u001b[1;33m(\u001b[0m\u001b[0mini\u001b[0m\u001b[1;33m)\u001b[0m\u001b[1;33m)\u001b[0m\u001b[1;33m\u001b[0m\u001b[1;33m\u001b[0m\u001b[0m\n\u001b[1;32m---> 31\u001b[1;33m \u001b[0mbas_dev\u001b[0m \u001b[1;33m=\u001b[0m \u001b[0mqml\u001b[0m\u001b[1;33m.\u001b[0m\u001b[0mdevice\u001b[0m\u001b[1;33m(\u001b[0m\u001b[1;34m'default.qubit'\u001b[0m\u001b[1;33m,\u001b[0m \u001b[0mwires\u001b[0m\u001b[1;33m)\u001b[0m \u001b[1;31m# simulator (MOTIVATION?)\u001b[0m\u001b[1;33m\u001b[0m\u001b[1;33m\u001b[0m\u001b[0m\n\u001b[0m\u001b[0;32m     32\u001b[0m \u001b[1;33m\u001b[0m\u001b[0m\n\u001b[0;32m     33\u001b[0m \u001b[1;31m# encoding\u001b[0m\u001b[1;33m\u001b[0m\u001b[1;33m\u001b[0m\u001b[1;33m\u001b[0m\u001b[0m\n",
      "\u001b[1;32m~\\anaconda3\\lib\\site-packages\\pennylane\\__init__.py\u001b[0m in \u001b[0;36mdevice\u001b[1;34m(name, *args, **kwargs)\u001b[0m\n\u001b[0;32m    324\u001b[0m \u001b[1;33m\u001b[0m\u001b[0m\n\u001b[0;32m    325\u001b[0m         \u001b[1;31m# Construct the device\u001b[0m\u001b[1;33m\u001b[0m\u001b[1;33m\u001b[0m\u001b[1;33m\u001b[0m\u001b[0m\n\u001b[1;32m--> 326\u001b[1;33m         \u001b[0mdev\u001b[0m \u001b[1;33m=\u001b[0m \u001b[0mplugin_device_class\u001b[0m\u001b[1;33m(\u001b[0m\u001b[1;33m*\u001b[0m\u001b[0margs\u001b[0m\u001b[1;33m,\u001b[0m \u001b[1;33m**\u001b[0m\u001b[0moptions\u001b[0m\u001b[1;33m)\u001b[0m\u001b[1;33m\u001b[0m\u001b[1;33m\u001b[0m\u001b[0m\n\u001b[0m\u001b[0;32m    327\u001b[0m \u001b[1;33m\u001b[0m\u001b[0m\n\u001b[0;32m    328\u001b[0m         \u001b[1;31m# Once the device is constructed, we set its custom expansion function if\u001b[0m\u001b[1;33m\u001b[0m\u001b[1;33m\u001b[0m\u001b[1;33m\u001b[0m\u001b[0m\n",
      "\u001b[1;32m~\\anaconda3\\lib\\site-packages\\pennylane\\devices\\default_qubit.py\u001b[0m in \u001b[0;36m__init__\u001b[1;34m(self, wires, r_dtype, c_dtype, shots, analytic)\u001b[0m\n\u001b[0;32m    182\u001b[0m         \u001b[1;31m# Create the initial state. Internally, we store the\u001b[0m\u001b[1;33m\u001b[0m\u001b[1;33m\u001b[0m\u001b[1;33m\u001b[0m\u001b[0m\n\u001b[0;32m    183\u001b[0m         \u001b[1;31m# state as an array of dimension [2]*wires.\u001b[0m\u001b[1;33m\u001b[0m\u001b[1;33m\u001b[0m\u001b[1;33m\u001b[0m\u001b[0m\n\u001b[1;32m--> 184\u001b[1;33m         \u001b[0mself\u001b[0m\u001b[1;33m.\u001b[0m\u001b[0m_state\u001b[0m \u001b[1;33m=\u001b[0m \u001b[0mself\u001b[0m\u001b[1;33m.\u001b[0m\u001b[0m_create_basis_state\u001b[0m\u001b[1;33m(\u001b[0m\u001b[1;36m0\u001b[0m\u001b[1;33m)\u001b[0m\u001b[1;33m\u001b[0m\u001b[1;33m\u001b[0m\u001b[0m\n\u001b[0m\u001b[0;32m    185\u001b[0m         \u001b[0mself\u001b[0m\u001b[1;33m.\u001b[0m\u001b[0m_pre_rotated_state\u001b[0m \u001b[1;33m=\u001b[0m \u001b[0mself\u001b[0m\u001b[1;33m.\u001b[0m\u001b[0m_state\u001b[0m\u001b[1;33m\u001b[0m\u001b[1;33m\u001b[0m\u001b[0m\n\u001b[0;32m    186\u001b[0m \u001b[1;33m\u001b[0m\u001b[0m\n",
      "\u001b[1;32m~\\anaconda3\\lib\\site-packages\\pennylane\\devices\\default_qubit.py\u001b[0m in \u001b[0;36m_create_basis_state\u001b[1;34m(self, index)\u001b[0m\n\u001b[0;32m    674\u001b[0m         \u001b[0mNote\u001b[0m\u001b[1;33m:\u001b[0m \u001b[0mThis\u001b[0m \u001b[0mfunction\u001b[0m \u001b[0mdoes\u001b[0m \u001b[1;32mnot\u001b[0m \u001b[0msupport\u001b[0m \u001b[0mbroadcasted\u001b[0m \u001b[0minputs\u001b[0m \u001b[0myet\u001b[0m\u001b[1;33m.\u001b[0m\u001b[1;33m\u001b[0m\u001b[1;33m\u001b[0m\u001b[0m\n\u001b[0;32m    675\u001b[0m         \"\"\"\n\u001b[1;32m--> 676\u001b[1;33m         \u001b[0mstate\u001b[0m \u001b[1;33m=\u001b[0m \u001b[0mnp\u001b[0m\u001b[1;33m.\u001b[0m\u001b[0mzeros\u001b[0m\u001b[1;33m(\u001b[0m\u001b[1;36m2\u001b[0m\u001b[1;33m**\u001b[0m\u001b[0mself\u001b[0m\u001b[1;33m.\u001b[0m\u001b[0mnum_wires\u001b[0m\u001b[1;33m,\u001b[0m \u001b[0mdtype\u001b[0m\u001b[1;33m=\u001b[0m\u001b[0mnp\u001b[0m\u001b[1;33m.\u001b[0m\u001b[0mcomplex128\u001b[0m\u001b[1;33m)\u001b[0m\u001b[1;33m\u001b[0m\u001b[1;33m\u001b[0m\u001b[0m\n\u001b[0m\u001b[0;32m    677\u001b[0m         \u001b[0mstate\u001b[0m\u001b[1;33m[\u001b[0m\u001b[0mindex\u001b[0m\u001b[1;33m]\u001b[0m \u001b[1;33m=\u001b[0m \u001b[1;36m1\u001b[0m\u001b[1;33m\u001b[0m\u001b[1;33m\u001b[0m\u001b[0m\n\u001b[0;32m    678\u001b[0m         \u001b[0mstate\u001b[0m \u001b[1;33m=\u001b[0m \u001b[0mself\u001b[0m\u001b[1;33m.\u001b[0m\u001b[0m_asarray\u001b[0m\u001b[1;33m(\u001b[0m\u001b[0mstate\u001b[0m\u001b[1;33m,\u001b[0m \u001b[0mdtype\u001b[0m\u001b[1;33m=\u001b[0m\u001b[0mself\u001b[0m\u001b[1;33m.\u001b[0m\u001b[0mC_DTYPE\u001b[0m\u001b[1;33m)\u001b[0m\u001b[1;33m\u001b[0m\u001b[1;33m\u001b[0m\u001b[0m\n",
      "\u001b[1;31mValueError\u001b[0m: Maximum allowed dimension exceeded"
     ]
    }
   ],
   "source": [
    "# vectorize input data\n",
    "data = visibilities.flatten()\n",
    "\n",
    "# get binary representations of real and imaginary parts\n",
    "data_reals = []\n",
    "data_imags = []\n",
    "for i in range(0, len(data)):\n",
    "    data_reals.append(float_to_bin_real(data[i].real))\n",
    "    data_imags.append(float_to_bin_imag(data[i].imag))\n",
    "\n",
    "# combine binary representations into a single array (reals then imaginaries)\n",
    "data_binaries = data_reals + data_imags \n",
    "\n",
    "# sparse all binary representations strings into single characters\n",
    "data_binary = []\n",
    "for i in range(0, len(data_binaries)):\n",
    "    data_binary.append([*data_binaries[i]])\n",
    "\n",
    "# get rid of generated sub-arrays\n",
    "inp = []\n",
    "for i in range(0, len(data_binary)):\n",
    "    inp += data_binary[i]\n",
    "\n",
    "# make all character-strings integers\n",
    "ini = []\n",
    "for i in range(0, len(inp)):\n",
    "    ini.append(int(inp[i]))\n",
    "\n",
    "# n bits encoded onto n quibts\n",
    "wires = range(len(ini)) \n",
    "bas_dev = qml.device('default.qubit', wires) # simulator (MOTIVATION?)\n",
    "\n",
    "# encoding\n",
    "@qml.qnode(bas_dev)\n",
    "def basis_encoding(data):\n",
    "    qml.BasisEmbedding(data, wires)\n",
    "    return qml.state\n",
    "\n",
    "readout = basis_encoding(ini)\n",
    "print(readout)"
   ]
  },
  {
   "cell_type": "markdown",
   "id": "59f8ac30",
   "metadata": {},
   "source": [
    "## 4) Applying 2D IFT (fidelity test)"
   ]
  },
  {
   "cell_type": "code",
   "execution_count": null,
   "id": "e18b327f",
   "metadata": {},
   "outputs": [],
   "source": [
    "img = np.fft.ifft2(readout).astype('complex64')\n",
    "\n",
    "test_real = ((sky_image.real - img.real)**2).mean()\n",
    "test_imag = ((sky_image.imag - img.imag)**2).mean()\n",
    "\n",
    "print('Reals MSE: '+ str(test_real))\n",
    "print('Imaginaries MSE: '+ str(test_imag))"
   ]
  },
  {
   "cell_type": "code",
   "execution_count": null,
   "id": "fc3de505",
   "metadata": {},
   "outputs": [],
   "source": [
    "fig, axs = plt.subplots(1, 2, figsize=(15,5))\n",
    "modulus1 = np.absolute(img)\n",
    "modulus2 = np.absolute(sky_image)\n",
    "\n",
    "axs[0].imshow(modulus1, cmap='Blues')\n",
    "axs[1].imshow(modulus2, cmap='Blues')\n",
    "\n",
    "axs[0].set_title(\"Reconstructed image\")\n",
    "axs[1].set_title(\"Original image\")\n",
    "\n",
    "for ax in axs.flat:\n",
    "    ax.set(xlabel='n', ylabel='n')"
   ]
  },
  {
   "cell_type": "code",
   "execution_count": null,
   "id": "f9a5521b",
   "metadata": {},
   "outputs": [],
   "source": []
  }
 ],
 "metadata": {
  "kernelspec": {
   "display_name": "Python 3",
   "language": "python",
   "name": "python3"
  },
  "language_info": {
   "codemirror_mode": {
    "name": "ipython",
    "version": 3
   },
   "file_extension": ".py",
   "mimetype": "text/x-python",
   "name": "python",
   "nbconvert_exporter": "python",
   "pygments_lexer": "ipython3",
   "version": "3.8.8"
  }
 },
 "nbformat": 4,
 "nbformat_minor": 5
}
