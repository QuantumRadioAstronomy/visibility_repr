{
 "cells": [
  {
   "cell_type": "markdown",
   "id": "b4824755",
   "metadata": {},
   "source": [
    "# Basis embedding (pennylane)\n",
    "\n",
    "Main steps:\n",
    "\n",
    "* initialize an image of the sky (frequency domain)\n",
    "* apply 2D FT --> visibilities (Fourier domain)\n",
    "* encode visibilities data into qubits using amplitude embedding (non-conventional domain)\n",
    "* measure qubits on simulator --> expected outcomes (back to conventional domain)\n",
    "* apply 2D IFT --> fidelity computation\n",
    "\n",
    "Basis embedding:\n",
    "\n",
    "* from https://docs.pennylane.ai/en/stable/code/api/pennylane.BasisEmbedding.html\n",
    "* literature: https://hillside.net/plop/2020/papers/weigold.pdf"
   ]
  },
  {
   "cell_type": "code",
   "execution_count": 1,
   "id": "04ee6ebe",
   "metadata": {},
   "outputs": [],
   "source": [
    "import numpy as np\n",
    "import matplotlib.pyplot as plt\n",
    "import struct\n",
    "\n",
    "import pennylane as qml\n",
    "from pennylane import numpy as pnp"
   ]
  },
  {
   "cell_type": "markdown",
   "id": "3fa12c9f",
   "metadata": {},
   "source": [
    "### Prerequisites"
   ]
  },
  {
   "cell_type": "code",
   "execution_count": 2,
   "id": "b1c860bb",
   "metadata": {},
   "outputs": [],
   "source": [
    "# float to binary \n",
    "def float_to_bin_real(num):\n",
    "    return format(struct.unpack('!I', struct.pack('!f', num))[0], '032b')\n",
    "def float_to_bin_imag(num):\n",
    "    return format(struct.unpack('!I', struct.pack('!f', num))[0], '032b')\n",
    "\n",
    "# binary to float\n",
    "def bin_to_float_real(binary):\n",
    "    return struct.unpack('!f',struct.pack('!I', int(binary, 2)))[0]\n",
    "def bin_to_float_imag(binary):\n",
    "    return struct.unpack('!f',struct.pack('!I', int(binary, 2)))[0]"
   ]
  },
  {
   "cell_type": "markdown",
   "id": "3bd5e888",
   "metadata": {},
   "source": [
    "## 1) Generating an artificial image of the sky (frequency domain)"
   ]
  },
  {
   "cell_type": "code",
   "execution_count": 3,
   "id": "ab6279d2",
   "metadata": {},
   "outputs": [
    {
     "name": "stdout",
     "output_type": "stream",
     "text": [
      "[[ 9.8587456e+01+3.3782639e+01j  3.8334026e+01+1.1626357e+01j\n",
      "   6.7983337e+01+6.2818794e+01j  6.8105250e-03+6.4782505e-03j]\n",
      " [ 5.0832559e-03-2.4537353e-03j  8.8615257e+01+1.8924772e+01j\n",
      "  -2.6433768e-03-3.7006193e-04j -8.8249857e-04+1.8508667e-02j]\n",
      " [-7.6915044e-03-2.3537755e-03j  3.2168404e+01+3.2203594e+01j\n",
      "   5.4618446e+01+4.7412281e+01j  9.6801883e-03-4.3218578e-03j]\n",
      " [-1.2925935e-02+7.7506769e-03j -1.8307939e-02-1.1260473e-02j\n",
      "   1.6206575e-03+5.1165307e-03j  7.5174887e-03+6.0825865e-03j]]\n"
     ]
    }
   ],
   "source": [
    "#image of the sky filled with double precision complex floats ('complex64')\n",
    "#pixels are set to low complex random values (image background/noise) \n",
    "#few pixels are set to larger complex random values in a specified ellipse area (image source/subject)\n",
    "n = 4 #20\n",
    "sky_image = np.zeros((n, n), dtype='complex64')\n",
    "mask = np.zeros((n, n), dtype='bool')\n",
    "number_of_stars = np.random.randint(3, 11)\n",
    "radius = np.random.randint(1, 3)\n",
    "\n",
    "for i in range(0, number_of_stars):\n",
    "    index_i = np.random.randint(0, sky_image.shape[0]-radius)\n",
    "    index_j = np.random.randint(0, sky_image.shape[1]-radius)\n",
    "    for j in range(0, radius):\n",
    "        for k in range(0, radius):\n",
    "            sky_image[index_i+j][index_j+k] = complex(np.random.rand()*100, np.random.rand()*100)\n",
    "            mask[index_i+j][index_j+k] = True\n",
    "            \n",
    "sky_image.real += np.random.randn(n,n)/100\n",
    "sky_image.imag += np.random.randn(n,n)/100\n",
    "\n",
    "print(sky_image)"
   ]
  },
  {
   "cell_type": "code",
   "execution_count": 4,
   "id": "10402deb",
   "metadata": {},
   "outputs": [
    {
     "data": {
      "image/png": "[encoded data removed]",
      "text/plain": [
       "<Figure size 432x288 with 2 Axes>"
      ]
     },
     "metadata": {
      "needs_background": "light"
     },
     "output_type": "display_data"
    }
   ],
   "source": [
    "modulus = np.absolute(sky_image)\n",
    "plt.imshow(modulus, cmap='Blues')\n",
    "plt.colorbar();"
   ]
  },
  {
   "cell_type": "markdown",
   "id": "749432b8",
   "metadata": {},
   "source": [
    "## 2) Applying a 2D FT (Fourier domain)"
   ]
  },
  {
   "cell_type": "code",
   "execution_count": 5,
   "id": "08b6f95d",
   "metadata": {},
   "outputs": [
    {
     "name": "stdout",
     "output_type": "stream",
     "text": [
      "[[380.2952   +206.79161j    38.687878 -235.52649j\n",
      "   62.05018   +81.25119j   -86.74555   +82.626015j ]\n",
      " [137.05556   -60.013844j  -24.004463   -6.7358932j\n",
      "   86.83314  +158.36937j   194.45554   +43.448303j ]\n",
      " [203.10574  +168.89532j     0.9236748 -58.346966j\n",
      "  239.27507  +119.107315j  -48.954075  -94.55572j  ]\n",
      " [ 99.190025 +117.26398j   153.2889    +31.155867j\n",
      "  124.76144   -18.853477j   17.181046   +5.645638j ]]\n"
     ]
    }
   ],
   "source": [
    "visibilities = np.fft.fft2(sky_image).astype('complex64')\n",
    "print(visibilities)"
   ]
  },
  {
   "cell_type": "code",
   "execution_count": 6,
   "id": "1448ea25",
   "metadata": {},
   "outputs": [
    {
     "data": {
      "image/png": "[encoded data removed]",
      "text/plain": [
       "<Figure size 432x288 with 2 Axes>"
      ]
     },
     "metadata": {
      "needs_background": "light"
     },
     "output_type": "display_data"
    }
   ],
   "source": [
    "modulus = np.absolute(visibilities)\n",
    "plt.imshow(modulus, cmap='Blues')\n",
    "plt.colorbar();"
   ]
  },
  {
   "cell_type": "markdown",
   "id": "8558fbb3",
   "metadata": {},
   "source": [
    "### Sanity check"
   ]
  },
  {
   "cell_type": "code",
   "execution_count": 7,
   "id": "aa7a59e8",
   "metadata": {},
   "outputs": [
    {
     "name": "stdout",
     "output_type": "stream",
     "text": [
      "Reals MSE: 9.618802e-13\n",
      "Imaginaries MSE: 3.2960283e-13\n"
     ]
    }
   ],
   "source": [
    "img = np.fft.ifft2(visibilities).astype('complex64')\n",
    "\n",
    "test_real = ((sky_image.real - img.real)**2).mean()\n",
    "test_imag = ((sky_image.imag - img.imag)**2).mean()\n",
    "\n",
    "print('Reals MSE: '+ str(test_real))\n",
    "print('Imaginaries MSE: ' + str(test_imag))"
   ]
  },
  {
   "cell_type": "code",
   "execution_count": 8,
   "id": "804aef95",
   "metadata": {},
   "outputs": [
    {
     "name": "stderr",
     "output_type": "stream",
     "text": [
      "C:\\Users\\roman\\anaconda3\\lib\\_collections_abc.py:832: MatplotlibDeprecationWarning: \n",
      "The animation.avconv_args rcparam was deprecated in Matplotlib 3.3 and will be removed two minor releases later.\n",
      "  self[key] = other[key]\n",
      "C:\\Users\\roman\\anaconda3\\lib\\_collections_abc.py:832: MatplotlibDeprecationWarning: \n",
      "The animation.avconv_path rcparam was deprecated in Matplotlib 3.3 and will be removed two minor releases later.\n",
      "  self[key] = other[key]\n",
      "C:\\Users\\roman\\anaconda3\\lib\\_collections_abc.py:832: MatplotlibDeprecationWarning: \n",
      "The animation.html_args rcparam was deprecated in Matplotlib 3.3 and will be removed two minor releases later.\n",
      "  self[key] = other[key]\n",
      "C:\\Users\\roman\\anaconda3\\lib\\_collections_abc.py:832: MatplotlibDeprecationWarning: \n",
      "The keymap.all_axes rcparam was deprecated in Matplotlib 3.3 and will be removed two minor releases later.\n",
      "  self[key] = other[key]\n",
      "C:\\Users\\roman\\anaconda3\\lib\\_collections_abc.py:832: MatplotlibDeprecationWarning: \n",
      "The savefig.jpeg_quality rcparam was deprecated in Matplotlib 3.3 and will be removed two minor releases later.\n",
      "  self[key] = other[key]\n",
      "C:\\Users\\roman\\anaconda3\\lib\\_collections_abc.py:832: MatplotlibDeprecationWarning: \n",
      "The text.latex.preview rcparam was deprecated in Matplotlib 3.3 and will be removed two minor releases later.\n",
      "  self[key] = other[key]\n"
     ]
    },
    {
     "data": {
      "text/plain": [
       "(<Figure size 432x504 with 1 Axes>,\n",
       " <matplotlib.axes._axes.Axes at 0x25f61b417c0>)"
      ]
     },
     "execution_count": 8,
     "metadata": {},
     "output_type": "execute_result"
    },
    {
     "data": {
      "image/png": "[encoded data removed]",
      "text/plain": [
       "<Figure size 432x504 with 1 Axes>"
      ]
     },
     "metadata": {},
     "output_type": "display_data"
    }
   ],
   "source": [
    "from pennylane.templates.embeddings import BasisEmbedding\n",
    "# quantum device where you want to run and how many Qubits\n",
    "dev = qml.device('default.qubit', wires=6)\n",
    "\n",
    "@qml.qnode(dev)\n",
    "def circuit(data):\n",
    "    for i in range(6):\n",
    "        qml.Hadamard(i)\n",
    "    for i in range(len(data)):\n",
    "        BasisEmbedding(features=data[i], wires=range(6),do_queue=True)\n",
    "    return  qml.state()\n",
    "\n",
    "data=[[1,0,1,1,1,0],\n",
    "      [1,0,0,0,0,1]]\n",
    "\n",
    "circuit(data)\n",
    "\n",
    "qml.draw_mpl(circuit)(data)"
   ]
  },
  {
   "cell_type": "markdown",
   "id": "ada93768",
   "metadata": {},
   "source": [
    "## 3) Data encoding: basis embedding (non-conventional domain)"
   ]
  },
  {
   "cell_type": "code",
   "execution_count": 14,
   "id": "49aa4a9c",
   "metadata": {
    "scrolled": true
   },
   "outputs": [
    {
     "name": "stdout",
     "output_type": "stream",
     "text": [
      "32\n"
     ]
    },
    {
     "ename": "ValueError",
     "evalue": "array is too big; `arr.size * arr.dtype.itemsize` is larger than the maximum possible size.",
     "output_type": "error",
     "traceback": [
      "\u001b[1;31m---------------------------------------------------------------------------\u001b[0m",
      "\u001b[1;31mValueError\u001b[0m                                Traceback (most recent call last)",
      "\u001b[1;32m<ipython-input-14-fb4e08233c12>\u001b[0m in \u001b[0;36m<module>\u001b[1;34m\u001b[0m\n\u001b[0;32m     30\u001b[0m \u001b[0mwires\u001b[0m \u001b[1;33m=\u001b[0m \u001b[0mrange\u001b[0m\u001b[1;33m(\u001b[0m\u001b[1;36m32\u001b[0m\u001b[1;33m)\u001b[0m\u001b[1;33m\u001b[0m\u001b[1;33m\u001b[0m\u001b[0m\n\u001b[0;32m     31\u001b[0m \u001b[0mprint\u001b[0m\u001b[1;33m(\u001b[0m\u001b[0mlen\u001b[0m\u001b[1;33m(\u001b[0m\u001b[0minp\u001b[0m\u001b[1;33m[\u001b[0m\u001b[1;36m0\u001b[0m\u001b[1;33m]\u001b[0m\u001b[1;33m)\u001b[0m\u001b[1;33m)\u001b[0m\u001b[1;33m\u001b[0m\u001b[1;33m\u001b[0m\u001b[0m\n\u001b[1;32m---> 32\u001b[1;33m \u001b[0mbas_dev\u001b[0m \u001b[1;33m=\u001b[0m \u001b[0mqml\u001b[0m\u001b[1;33m.\u001b[0m\u001b[0mdevice\u001b[0m\u001b[1;33m(\u001b[0m\u001b[1;34m'default.mixed'\u001b[0m\u001b[1;33m,\u001b[0m \u001b[0mwires\u001b[0m\u001b[1;33m)\u001b[0m \u001b[1;31m# simulator (MOTIVATION?)\u001b[0m\u001b[1;33m\u001b[0m\u001b[1;33m\u001b[0m\u001b[0m\n\u001b[0m\u001b[0;32m     33\u001b[0m \u001b[1;33m\u001b[0m\u001b[0m\n\u001b[0;32m     34\u001b[0m \u001b[1;31m# encoding\u001b[0m\u001b[1;33m\u001b[0m\u001b[1;33m\u001b[0m\u001b[1;33m\u001b[0m\u001b[0m\n",
      "\u001b[1;32m~\\anaconda3\\lib\\site-packages\\pennylane\\__init__.py\u001b[0m in \u001b[0;36mdevice\u001b[1;34m(name, *args, **kwargs)\u001b[0m\n\u001b[0;32m    324\u001b[0m \u001b[1;33m\u001b[0m\u001b[0m\n\u001b[0;32m    325\u001b[0m         \u001b[1;31m# Construct the device\u001b[0m\u001b[1;33m\u001b[0m\u001b[1;33m\u001b[0m\u001b[1;33m\u001b[0m\u001b[0m\n\u001b[1;32m--> 326\u001b[1;33m         \u001b[0mdev\u001b[0m \u001b[1;33m=\u001b[0m \u001b[0mplugin_device_class\u001b[0m\u001b[1;33m(\u001b[0m\u001b[1;33m*\u001b[0m\u001b[0margs\u001b[0m\u001b[1;33m,\u001b[0m \u001b[1;33m**\u001b[0m\u001b[0moptions\u001b[0m\u001b[1;33m)\u001b[0m\u001b[1;33m\u001b[0m\u001b[1;33m\u001b[0m\u001b[0m\n\u001b[0m\u001b[0;32m    327\u001b[0m \u001b[1;33m\u001b[0m\u001b[0m\n\u001b[0;32m    328\u001b[0m         \u001b[1;31m# Once the device is constructed, we set its custom expansion function if\u001b[0m\u001b[1;33m\u001b[0m\u001b[1;33m\u001b[0m\u001b[1;33m\u001b[0m\u001b[0m\n",
      "\u001b[1;32m~\\anaconda3\\lib\\site-packages\\pennylane\\devices\\default_mixed.py\u001b[0m in \u001b[0;36m__init__\u001b[1;34m(self, wires, r_dtype, c_dtype, shots, analytic, readout_prob)\u001b[0m\n\u001b[0;32m    200\u001b[0m \u001b[1;33m\u001b[0m\u001b[0m\n\u001b[0;32m    201\u001b[0m         \u001b[1;31m# Create the initial state.\u001b[0m\u001b[1;33m\u001b[0m\u001b[1;33m\u001b[0m\u001b[1;33m\u001b[0m\u001b[0m\n\u001b[1;32m--> 202\u001b[1;33m         \u001b[0mself\u001b[0m\u001b[1;33m.\u001b[0m\u001b[0m_state\u001b[0m \u001b[1;33m=\u001b[0m \u001b[0mself\u001b[0m\u001b[1;33m.\u001b[0m\u001b[0m_create_basis_state\u001b[0m\u001b[1;33m(\u001b[0m\u001b[1;36m0\u001b[0m\u001b[1;33m)\u001b[0m\u001b[1;33m\u001b[0m\u001b[1;33m\u001b[0m\u001b[0m\n\u001b[0m\u001b[0;32m    203\u001b[0m         \u001b[0mself\u001b[0m\u001b[1;33m.\u001b[0m\u001b[0m_pre_rotated_state\u001b[0m \u001b[1;33m=\u001b[0m \u001b[0mself\u001b[0m\u001b[1;33m.\u001b[0m\u001b[0m_state\u001b[0m\u001b[1;33m\u001b[0m\u001b[1;33m\u001b[0m\u001b[0m\n\u001b[0;32m    204\u001b[0m         \u001b[0mself\u001b[0m\u001b[1;33m.\u001b[0m\u001b[0mmeasured_wires\u001b[0m \u001b[1;33m=\u001b[0m \u001b[1;33m[\u001b[0m\u001b[1;33m]\u001b[0m\u001b[1;33m\u001b[0m\u001b[1;33m\u001b[0m\u001b[0m\n",
      "\u001b[1;32m~\\anaconda3\\lib\\site-packages\\pennylane\\devices\\default_mixed.py\u001b[0m in \u001b[0;36m_create_basis_state\u001b[1;34m(self, index)\u001b[0m\n\u001b[0;32m    216\u001b[0m             \u001b[0mrepresenting\u001b[0m \u001b[0mthe\u001b[0m \u001b[0mdensity\u001b[0m \u001b[0mmatrix\u001b[0m \u001b[0mof\u001b[0m \u001b[0mthe\u001b[0m \u001b[0mbasis\u001b[0m \u001b[0mstate\u001b[0m\u001b[1;33m.\u001b[0m\u001b[1;33m\u001b[0m\u001b[1;33m\u001b[0m\u001b[0m\n\u001b[0;32m    217\u001b[0m         \"\"\"\n\u001b[1;32m--> 218\u001b[1;33m         \u001b[0mrho\u001b[0m \u001b[1;33m=\u001b[0m \u001b[0mqnp\u001b[0m\u001b[1;33m.\u001b[0m\u001b[0mzeros\u001b[0m\u001b[1;33m(\u001b[0m\u001b[1;33m(\u001b[0m\u001b[1;36m2\u001b[0m\u001b[1;33m**\u001b[0m\u001b[0mself\u001b[0m\u001b[1;33m.\u001b[0m\u001b[0mnum_wires\u001b[0m\u001b[1;33m,\u001b[0m \u001b[1;36m2\u001b[0m\u001b[1;33m**\u001b[0m\u001b[0mself\u001b[0m\u001b[1;33m.\u001b[0m\u001b[0mnum_wires\u001b[0m\u001b[1;33m)\u001b[0m\u001b[1;33m,\u001b[0m \u001b[0mdtype\u001b[0m\u001b[1;33m=\u001b[0m\u001b[0mself\u001b[0m\u001b[1;33m.\u001b[0m\u001b[0mC_DTYPE\u001b[0m\u001b[1;33m)\u001b[0m\u001b[1;33m\u001b[0m\u001b[1;33m\u001b[0m\u001b[0m\n\u001b[0m\u001b[0;32m    219\u001b[0m         \u001b[0mrho\u001b[0m\u001b[1;33m[\u001b[0m\u001b[0mindex\u001b[0m\u001b[1;33m,\u001b[0m \u001b[0mindex\u001b[0m\u001b[1;33m]\u001b[0m \u001b[1;33m=\u001b[0m \u001b[1;36m1\u001b[0m\u001b[1;33m\u001b[0m\u001b[1;33m\u001b[0m\u001b[0m\n\u001b[0;32m    220\u001b[0m         \u001b[1;32mreturn\u001b[0m \u001b[0mqnp\u001b[0m\u001b[1;33m.\u001b[0m\u001b[0mreshape\u001b[0m\u001b[1;33m(\u001b[0m\u001b[0mrho\u001b[0m\u001b[1;33m,\u001b[0m \u001b[1;33m[\u001b[0m\u001b[1;36m2\u001b[0m\u001b[1;33m]\u001b[0m \u001b[1;33m*\u001b[0m \u001b[1;33m(\u001b[0m\u001b[1;36m2\u001b[0m \u001b[1;33m*\u001b[0m \u001b[0mself\u001b[0m\u001b[1;33m.\u001b[0m\u001b[0mnum_wires\u001b[0m\u001b[1;33m)\u001b[0m\u001b[1;33m)\u001b[0m\u001b[1;33m\u001b[0m\u001b[1;33m\u001b[0m\u001b[0m\n",
      "\u001b[1;32m~\\anaconda3\\lib\\site-packages\\autoray\\autoray.py\u001b[0m in \u001b[0;36mdo\u001b[1;34m(fn, like, *args, **kwargs)\u001b[0m\n\u001b[0;32m     77\u001b[0m     \"\"\"\n\u001b[0;32m     78\u001b[0m     \u001b[0mbackend\u001b[0m \u001b[1;33m=\u001b[0m \u001b[0mchoose_backend\u001b[0m\u001b[1;33m(\u001b[0m\u001b[0mfn\u001b[0m\u001b[1;33m,\u001b[0m \u001b[1;33m*\u001b[0m\u001b[0margs\u001b[0m\u001b[1;33m,\u001b[0m \u001b[0mlike\u001b[0m\u001b[1;33m=\u001b[0m\u001b[0mlike\u001b[0m\u001b[1;33m,\u001b[0m \u001b[1;33m**\u001b[0m\u001b[0mkwargs\u001b[0m\u001b[1;33m)\u001b[0m\u001b[1;33m\u001b[0m\u001b[1;33m\u001b[0m\u001b[0m\n\u001b[1;32m---> 79\u001b[1;33m     \u001b[1;32mreturn\u001b[0m \u001b[0mget_lib_fn\u001b[0m\u001b[1;33m(\u001b[0m\u001b[0mbackend\u001b[0m\u001b[1;33m,\u001b[0m \u001b[0mfn\u001b[0m\u001b[1;33m)\u001b[0m\u001b[1;33m(\u001b[0m\u001b[1;33m*\u001b[0m\u001b[0margs\u001b[0m\u001b[1;33m,\u001b[0m \u001b[1;33m**\u001b[0m\u001b[0mkwargs\u001b[0m\u001b[1;33m)\u001b[0m\u001b[1;33m\u001b[0m\u001b[1;33m\u001b[0m\u001b[0m\n\u001b[0m\u001b[0;32m     80\u001b[0m \u001b[1;33m\u001b[0m\u001b[0m\n\u001b[0;32m     81\u001b[0m \u001b[1;33m\u001b[0m\u001b[0m\n",
      "\u001b[1;31mValueError\u001b[0m: array is too big; `arr.size * arr.dtype.itemsize` is larger than the maximum possible size."
     ]
    }
   ],
   "source": [
    "from pennylane.templates.embeddings import BasisEmbedding\n",
    "\n",
    "# vectorize input data\n",
    "data = visibilities.flatten()\n",
    "\n",
    "# get binary representations of real and imaginary parts\n",
    "data_reals = []\n",
    "data_imags = []\n",
    "for i in range(0, len(data)):\n",
    "    data_reals.append(float_to_bin_real(data[i].real))\n",
    "    data_imags.append(float_to_bin_imag(data[i].imag))\n",
    "\n",
    "# combine binary representations into a single array (reals then imaginaries)\n",
    "data_binaries = data_reals + data_imags \n",
    "\n",
    "# sparse all binary representations strings into single characters\n",
    "data_binary = []\n",
    "for i in range(0, len(data_binaries)):\n",
    "    data_binary.append([*data_binaries[i]])\n",
    "\n",
    "# make all character-strings integers\n",
    "inp = []\n",
    "for i in range(0, len(data_binary)):\n",
    "    tmp = []\n",
    "    for j in range(0, len(data_binary[i])):  \n",
    "        tmp.append(int(data_binary[i][j]))\n",
    "    inp.append(tmp)\n",
    "\n",
    "# n bits encoded onto n quibts\n",
    "wires = range(32) \n",
    "print(len(inp[0]))\n",
    "bas_dev = qml.device('default.mixed', wires) # simulator (MOTIVATION?)\n",
    "\n",
    "# encoding\n",
    "@qml.qnode(bas_dev)\n",
    "def basis_encoding(inp):\n",
    "    for i in wires:\n",
    "        qml.Hadamard(i)\n",
    "    for i in range(len(inp)):\n",
    "        BasisEmbedding(features=inp[i], wires=wires, do_queue=True)\n",
    "    return qml.state()\n",
    "\n",
    "readout = basis_encoding(inp)\n",
    "print(readout)"
   ]
  },
  {
   "cell_type": "markdown",
   "id": "59f8ac30",
   "metadata": {},
   "source": [
    "## 4) Applying 2D IFT (fidelity test)"
   ]
  },
  {
   "cell_type": "code",
   "execution_count": null,
   "id": "e18b327f",
   "metadata": {},
   "outputs": [],
   "source": [
    "img = np.fft.ifft2(readout).astype('complex64')\n",
    "\n",
    "test_real = ((sky_image.real - img.real)**2).mean()\n",
    "test_imag = ((sky_image.imag - img.imag)**2).mean()\n",
    "\n",
    "print('Reals MSE: '+ str(test_real))\n",
    "print('Imaginaries MSE: '+ str(test_imag))"
   ]
  },
  {
   "cell_type": "code",
   "execution_count": null,
   "id": "fc3de505",
   "metadata": {},
   "outputs": [],
   "source": [
    "fig, axs = plt.subplots(1, 2, figsize=(15,5))\n",
    "modulus1 = np.absolute(img)\n",
    "modulus2 = np.absolute(sky_image)\n",
    "\n",
    "axs[0].imshow(modulus1, cmap='Blues')\n",
    "axs[1].imshow(modulus2, cmap='Blues')\n",
    "\n",
    "axs[0].set_title(\"Reconstructed image\")\n",
    "axs[1].set_title(\"Original image\")\n",
    "\n",
    "for ax in axs.flat:\n",
    "    ax.set(xlabel='n', ylabel='n')"
   ]
  },
  {
   "cell_type": "code",
   "execution_count": null,
   "id": "f9a5521b",
   "metadata": {},
   "outputs": [],
   "source": []
  }
 ],
 "metadata": {
  "kernelspec": {
   "display_name": "Python 3",
   "language": "python",
   "name": "python3"
  },
  "language_info": {
   "codemirror_mode": {
    "name": "ipython",
    "version": 3
   },
   "file_extension": ".py",
   "mimetype": "text/x-python",
   "name": "python",
   "nbconvert_exporter": "python",
   "pygments_lexer": "ipython3",
   "version": "3.8.8"
  }
 },
 "nbformat": 4,
 "nbformat_minor": 5
}
