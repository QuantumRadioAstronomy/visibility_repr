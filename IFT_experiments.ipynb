{
 "cells": [
  {
   "cell_type": "code",
   "execution_count": 1,
   "id": "416042c0",
   "metadata": {},
   "outputs": [],
   "source": [
    "import numpy as np\n",
    "import matplotlib.pyplot as plt\n",
    "import struct\n",
    "import math\n",
    "from statistics import mean, stdev\n",
    "\n",
    "import qiskit\n",
    "from qiskit import *\n",
    "\n",
    "import pennylane as qml\n",
    "from pennylane import numpy as pnp\n",
    "\n",
    "import warnings\n",
    "warnings.filterwarnings('ignore')\n",
    "from tqdm import tqdm"
   ]
  },
  {
   "cell_type": "code",
   "execution_count": 2,
   "id": "1a7a6653",
   "metadata": {},
   "outputs": [],
   "source": [
    "# float to binary \n",
    "def float_to_bin_real(num):\n",
    "    return format(struct.unpack('!I', struct.pack('!f', num))[0], '032b')\n",
    "def float_to_bin_imag(num):\n",
    "    return format(struct.unpack('!I', struct.pack('!f', num))[0], '032b')\n",
    "\n",
    "# binary to float\n",
    "def bin_to_float_real(binary):\n",
    "    return struct.unpack('!f',struct.pack('!I', int(binary, 2)))[0]\n",
    "def bin_to_float_imag(binary):\n",
    "    return struct.unpack('!f',struct.pack('!I', int(binary, 2)))[0]\n",
    "\n",
    "# reverse a string (for the measurement step readout)\n",
    "def reverse(string):\n",
    "    string = string[::-1]\n",
    "    return string"
   ]
  },
  {
   "cell_type": "code",
   "execution_count": 3,
   "id": "35c4df90",
   "metadata": {},
   "outputs": [],
   "source": [
    "def generate_img(n):\n",
    "\n",
    "    sky_image = np.zeros((n, n), dtype='complex64')\n",
    "    mask = np.zeros((n, n), dtype='bool')\n",
    "    stars = np.random.randint(1, 7) \n",
    "    radius = 1 \n",
    "\n",
    "    for i in range(0, stars):\n",
    "        index_i = np.random.randint(0, n-radius)\n",
    "        index_j = np.random.randint(0, n-radius)\n",
    "        for j in range(0, radius):\n",
    "            for k in range(0, radius):\n",
    "                sky_image[index_i+j][index_j+k] = complex(np.random.rand()*100, np.random.rand()*100)\n",
    "                mask[index_i+j][index_j+k] = True\n",
    "            \n",
    "    sky_image.real += np.random.randn(n,n)/100\n",
    "    sky_image.imag += np.random.randn(n,n)/100\n",
    "    \n",
    "    visibilities = np.fft.fft2(sky_image).astype('complex64')\n",
    "    \n",
    "    return sky_image, visibilities"
   ]
  },
  {
   "cell_type": "code",
   "execution_count": 4,
   "id": "bfb65987",
   "metadata": {},
   "outputs": [],
   "source": [
    "def binary_encode(qc, binary, off_set):\n",
    "    \n",
    "    for i in range(0, len(binary)):\n",
    "        qc.reset(off_set+i) \n",
    "\n",
    "        if binary[i]=='1':\n",
    "            qc.x(off_set+i) \n",
    "    \n",
    "    off_set += len(binary)\n",
    "\n",
    "    return off_set"
   ]
  },
  {
   "cell_type": "code",
   "execution_count": 5,
   "id": "10a80907",
   "metadata": {},
   "outputs": [],
   "source": [
    "def binary(img):\n",
    "    \n",
    "    number_of_pixels = img.shape[0]*img.shape[1]\n",
    "    number_of_bits_real = 32\n",
    "    number_of_bits_imag = 32\n",
    "    number_of_bits = number_of_bits_real + number_of_bits_imag\n",
    "    number_of_qbits = number_of_pixels*number_of_bits\n",
    "    off_set = 0\n",
    "\n",
    "    qc = QuantumCircuit(number_of_qbits)\n",
    "    for i in range(0, img.shape[0]):\n",
    "        for j in range(0, img.shape[1]):\n",
    "                binary_real = float_to_bin_real(img[i, j].real)\n",
    "                binary_imag = float_to_bin_imag(img[i, j].imag)\n",
    "                binary = binary_real+binary_imag\n",
    "                off_set = binary_encode(qc, binary, off_set)\n",
    "                \n",
    "    qc.measure_all()\n",
    "    backend = Aer.get_backend('aer_simulator') \n",
    "    job = backend.run(qc, shots=1, memory=True) \n",
    "    output = job.result().get_memory()[0]\n",
    "    out = reverse(output)\n",
    "    \n",
    "    chunks_real = []\n",
    "    chunks_imag = []\n",
    "    for i in range(0, number_of_pixels):\n",
    "        chunks_real.append(out[number_of_bits*i:(number_of_bits*i)+number_of_bits_real]) \n",
    "        chunks_imag.append(out[(number_of_bits*i)+number_of_bits_imag:(number_of_bits*i)+number_of_bits_imag+number_of_bits_imag]) \n",
    "\n",
    "    readout = []\n",
    "    for i in range(0, len(chunks_real)):\n",
    "        readout.append(complex(bin_to_float_real(chunks_real[i]), bin_to_float_imag(chunks_imag[i]))) \n",
    "\n",
    "    readout = np.array(readout).reshape(img.shape[0] , img.shape[1]).astype('complex64')\n",
    "    readout = np.fft.ifft2(readout).astype('complex64') #IFT\n",
    "    \n",
    "    return readout"
   ]
  },
  {
   "cell_type": "code",
   "execution_count": 6,
   "id": "24c5b3e7",
   "metadata": {},
   "outputs": [],
   "source": [
    "def MSE(img1, img2):\n",
    "    diff_real = (img1.real - img2.real)\n",
    "    diff_imag = (img1.imag - img2.imag)\n",
    "    diff_sum = diff_real + diff_imag\n",
    "    \n",
    "    mse = (diff_sum**2).mean()\n",
    "    \n",
    "    return mse"
   ]
  },
  {
   "cell_type": "code",
   "execution_count": 7,
   "id": "4b78d291",
   "metadata": {},
   "outputs": [
    {
     "name": "stderr",
     "output_type": "stream",
     "text": [
      "100%|████████████████████████████████████████████████████████████████████████████████████| 9/9 [11:16<00:00, 75.13s/it]"
     ]
    },
    {
     "name": "stdout",
     "output_type": "stream",
     "text": [
      "Basis results: \u001b[1m[(9.577728e-13, 8.8037216e-13), (9.689503e-13, 7.8417513e-13), (6.789412e-13, 5.75877e-13), (5.028152e-13, 3.5090526e-13), (3.5514687e-13, 2.3066285e-13), (2.5876482e-13, 1.5975609e-13), (2.3207193e-13, 1.4038723e-13), (1.7368042e-13, 9.595658e-14), (1.4768637e-13, 9.1425694e-14)]\u001b[0m\n",
      "\n",
      "Amplitude results: \u001b[1m[(6.4084437e-12, 1.4379955e-11), (7.8579174e-12, 1.3219338e-11), (3.3644146e-12, 4.4576252e-12), (3.8621203e-12, 5.7174578e-12), (3.8226614e-12, 5.5462436e-12), (2.0644207e-12, 2.9238385e-12), (9.216979e-13, 1.0753443e-12), (1.1774036e-12, 1.6761479e-12), (1.5857309e-12, 2.1842376e-12)]\u001b[0m\n"
     ]
    },
    {
     "name": "stderr",
     "output_type": "stream",
     "text": [
      "\n"
     ]
    }
   ],
   "source": [
    "img_sizes = [2, 3, 4, 5, 6, 7, 8, 9, 10]\n",
    "basis_results = []\n",
    "amplitude_results = []\n",
    "\n",
    "for i in tqdm(range(0, len(img_sizes))):\n",
    "    \n",
    "    iterations = 100\n",
    "    img_size = img_sizes[i]\n",
    "    binary_MSE = []\n",
    "    amplitude_MSE = []\n",
    "\n",
    "    for j in range(0, iterations):\n",
    "\n",
    "        initial, visibilities = generate_img(img_size) \n",
    "\n",
    "        # BINARY\n",
    "        binary_readout = binary(visibilities)\n",
    "\n",
    "        # AMPLITUDE\n",
    "        n_n = img_size*img_size\n",
    "        inp = visibilities.flatten()\n",
    "        norm = qml.math.sum(qml.math.abs(inp) ** 2)\n",
    "        number_of_qbits = math.ceil(math.log2(n_n))\n",
    "        wires = range(number_of_qbits)\n",
    "        amp_dev = qml.device('default.qubit', wires)\n",
    "        @qml.qnode(amp_dev)\n",
    "        def amp_encoding(data):\n",
    "            qml.AmplitudeEmbedding(data, wires, normalize=True, pad_with=0.)\n",
    "            return qml.state()\n",
    "        readout = amp_encoding(inp).astype('complex64')\n",
    "        readout.numpy()\n",
    "        readout = readout*qml.math.sqrt(norm) \n",
    "        readout = readout[:n_n] \n",
    "        readout = np.array(readout).reshape(img_size , img_size)\n",
    "        amplitude_readout = np.fft.ifft2(readout).astype('complex64')\n",
    "\n",
    "        binary_mse = MSE(initial, binary_readout)\n",
    "        amplitude_mse = MSE(initial, amplitude_readout)\n",
    "\n",
    "        binary_MSE.append(binary_mse)\n",
    "        amplitude_MSE.append(amplitude_mse)\n",
    "\n",
    "    binary_mean = mean(binary_MSE)\n",
    "    binary_std = np.std(binary_MSE)\n",
    "    amplitude_mean = mean(amplitude_MSE)\n",
    "    amplitude_std = np.std(amplitude_MSE)\n",
    "    \n",
    "    basis_results.append((binary_mean, binary_std))\n",
    "    amplitude_results.append((amplitude_mean, amplitude_std))\n",
    "\n",
    "print('Basis results: '+ '\\033[1m' + str(basis_results) + '\\033[0m')\n",
    "print()\n",
    "print('Amplitude results: '+ '\\033[1m' + str(amplitude_results) + '\\033[0m')"
   ]
  },
  {
   "cell_type": "code",
   "execution_count": 8,
   "id": "7a25acdf",
   "metadata": {},
   "outputs": [
    {
     "name": "stdout",
     "output_type": "stream",
     "text": [
      "Basis absolute mean: \u001b[1m4.750922e-13\u001b[0m\n",
      "\n",
      "Amplitude absolute mean: \u001b[1m3.4516457e-12\u001b[0m\n"
     ]
    }
   ],
   "source": [
    "basis_tmp = []\n",
    "for i in range(0, len(basis_results)):\n",
    "    basis_tmp.append(basis_results[i][0])\n",
    "basis_absolute_mean = mean(basis_tmp)\n",
    "\n",
    "amplitude_tmp = []\n",
    "for i in range(0, len(amplitude_results)):\n",
    "    amplitude_tmp.append(amplitude_results[i][0])\n",
    "amplitude_absolute_mean = mean(amplitude_tmp)\n",
    "\n",
    "print('Basis absolute mean: '+ '\\033[1m' + str(basis_absolute_mean) + '\\033[0m')\n",
    "print()\n",
    "print('Amplitude absolute mean: '+ '\\033[1m' + str(amplitude_absolute_mean) + '\\033[0m')"
   ]
  },
  {
   "cell_type": "code",
   "execution_count": null,
   "id": "cc875b62",
   "metadata": {},
   "outputs": [],
   "source": []
  }
 ],
 "metadata": {
  "kernelspec": {
   "display_name": "Python 3",
   "language": "python",
   "name": "python3"
  },
  "language_info": {
   "codemirror_mode": {
    "name": "ipython",
    "version": 3
   },
   "file_extension": ".py",
   "mimetype": "text/x-python",
   "name": "python",
   "nbconvert_exporter": "python",
   "pygments_lexer": "ipython3",
   "version": "3.8.8"
  }
 },
 "nbformat": 4,
 "nbformat_minor": 5
}
