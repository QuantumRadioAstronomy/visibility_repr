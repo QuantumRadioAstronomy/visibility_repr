{
 "cells": [
  {
   "cell_type": "markdown",
   "id": "2a6105cd",
   "metadata": {},
   "source": [
    "# Naive representation"
   ]
  },
  {
   "cell_type": "code",
   "execution_count": 1,
   "id": "ad6cbc81",
   "metadata": {},
   "outputs": [],
   "source": [
    "import numpy as np\n",
    "import matplotlib.pyplot as plt\n",
    "import struct\n",
    "\n",
    "import qiskit\n",
    "from qiskit import *"
   ]
  },
  {
   "cell_type": "code",
   "execution_count": 2,
   "id": "253aa61f",
   "metadata": {},
   "outputs": [],
   "source": [
    "# float to binary \n",
    "def float_to_bin_real(num):\n",
    "    return format(struct.unpack('!I', struct.pack('!f', num))[0], '032b')\n",
    "def float_to_bin_imag(num):\n",
    "    return format(struct.unpack('!I', struct.pack('!f', num))[0], '032b')\n",
    "\n",
    "# binary to float\n",
    "def bin_to_float_real(binary):\n",
    "    return struct.unpack('!f',struct.pack('!I', int(binary, 2)))[0]\n",
    "def bin_to_float_imag(binary):\n",
    "    return struct.unpack('!f',struct.pack('!I', int(binary, 2)))[0]\n",
    "\n",
    "# reverse a string (for the measurement step readout)\n",
    "def reverse(string):\n",
    "    string = string[::-1]\n",
    "    return string"
   ]
  },
  {
   "cell_type": "code",
   "execution_count": 3,
   "id": "21863931",
   "metadata": {},
   "outputs": [
    {
     "name": "stdout",
     "output_type": "stream",
     "text": [
      "[[ 2.41578557e-03+1.01084486e-02j -1.31078474e-02-1.50567980e-03j\n",
      "  -9.73134208e-03+1.53800026e-02j  1.99496816e-03-3.02145397e-03j\n",
      "   4.26936895e-03-2.54418631e-03j -5.29096741e-03+1.32190445e-02j\n",
      "   7.72594986e-03+1.26974760e-02j -2.52037663e-02+8.49493500e-03j\n",
      "   1.18997577e-03+1.79068837e-02j -6.21372601e-04-6.10934570e-03j]\n",
      " [ 3.06518562e-02+1.83622353e-02j -8.34406074e-03-3.78240040e-03j\n",
      "   2.30806391e-03+5.84462238e-03j  1.80206615e-02-2.07398329e-02j\n",
      "  -1.74365193e-02-5.56714507e-03j  8.83108843e-03-3.43317306e-03j\n",
      "  -5.10632480e-03+2.85854423e-03j  1.04323160e-02-1.25452236e-03j\n",
      "  -3.52235534e-03-9.87583306e-03j -6.53998600e-03-2.30445061e-03j]\n",
      " [ 1.95277797e-03-8.06403998e-03j  1.07609387e-02-5.84716490e-03j\n",
      "  -4.94860439e-03-1.25851613e-02j  1.86862666e-02+6.01698505e-03j\n",
      "  -3.76383285e-03-3.83363850e-03j  1.42012571e-03+5.07257719e-05j\n",
      "  -4.29514749e-03-3.10891145e-03j -1.65872108e-02-8.15075822e-03j\n",
      "   1.99589762e-03-3.32963490e-03j -1.11264279e-02+5.73895872e-03j]\n",
      " [ 2.44535389e-03+4.60847840e-03j  9.17689409e-03-5.72295766e-03j\n",
      "   1.85358971e-02-3.53670749e-03j -1.39028821e-02+6.41438784e-03j\n",
      "   4.96830698e-03+1.43368915e-03j -1.37989903e-02+1.42024038e-02j\n",
      "  -1.99079365e-02+1.08976681e-02j -5.67005202e-03+1.29285688e-02j\n",
      "   1.13619715e-02-1.39716838e-03j -8.31304304e-03+7.55803706e-03j]\n",
      " [-9.13532078e-03-1.37174083e-03j -5.62408986e-03+8.32012948e-03j\n",
      "  -5.44875069e-03-1.41464202e-02j -9.75951203e-04+2.21472308e-02j\n",
      "  -1.00289835e-02-1.15632620e-02j  1.72885577e-03+1.57134782e-03j\n",
      "  -1.16899461e-02+1.55789787e-02j -2.67395633e-03-4.35665622e-03j\n",
      "   5.95880440e-03+8.16232583e-04j -7.94199482e-03+1.47229880e-02j]\n",
      " [-1.71210207e-02-1.11838197e-02j  9.53368284e-03+1.50972353e-02j\n",
      "   3.91026167e-03+4.58671711e-03j -7.58272642e-03+1.95613001e-02j\n",
      "   2.11107426e+01+9.90751038e+01j  1.68383792e-02+1.31273922e-03j\n",
      "  -1.07442718e-02+9.99983633e-04j -4.91187675e-03-8.51618999e-04j\n",
      "  -1.38851432e-02-2.19107289e-02j  1.07115600e-02-1.45836780e-02j]\n",
      " [ 1.31374719e-02-1.25091951e-02j  9.90692340e-03+3.71014397e-03j\n",
      "  -2.24340037e-02-9.38985497e-03j  9.51806083e-03-2.16125092e-03j\n",
      "  -1.64945573e-02+1.87404454e-02j -4.05887002e-03-1.09807495e-02j\n",
      "   1.89303292e-03+9.39841208e-04j -5.75789576e-03+7.33322371e-03j\n",
      "   1.90213334e-03-8.68821051e-03j -8.31969269e-03+1.06179267e-02j]\n",
      " [ 1.35647003e-02+7.16577843e-03j  4.74128267e-03+1.85747333e-02j\n",
      "   6.10408420e-03-5.70176961e-03j  1.59685710e-03+7.79535761e-03j\n",
      "   2.00271676e-03+1.33981481e-02j -8.61087255e-03-6.86096773e-03j\n",
      "   3.92129598e-03-1.91066246e-02j  1.41156474e-02+1.19663519e-03j\n",
      "   1.03329178e-02+4.21913760e-03j -7.86850415e-03-1.07072368e-02j]\n",
      " [ 1.95631348e-02+2.88338051e-03j -1.96737386e-02+1.44387772e-02j\n",
      "   1.53051298e-02+1.47504616e-03j  1.58378296e-02+1.29777109e-02j\n",
      "   9.70619917e-03-1.97951170e-03j  2.71693245e-03+2.86071515e-03j\n",
      "  -9.63603146e-04+8.22963007e-03j  1.64395366e-02-1.44817540e-02j\n",
      "   3.94112756e-03+1.51708517e-02j  1.86154945e-03+1.95441619e-02j]\n",
      " [ 1.20558031e-03-1.48843350e-02j -8.75514743e-05-9.57835000e-03j\n",
      "   6.31315075e-03+2.70548207e-03j  3.54112755e-03-1.66994426e-02j\n",
      "  -1.41223930e-02+6.13215659e-03j  1.32093839e-02+8.99333041e-03j\n",
      "  -8.26323126e-03+1.19506354e-02j -1.89860966e-02+1.10546444e-02j\n",
      "   6.98243547e-03+5.47214365e-03j  7.60629261e-03-6.52866997e-03j]]\n"
     ]
    }
   ],
   "source": [
    "# image of the sky filled with double precision complex floats (single precision for reals/imaginaries)\n",
    "# few pixels are set to relatively large complex random values in random spots (image sources)\n",
    "# relatively small complex values are added (white noise from background radiations) \n",
    "\n",
    "n = 10 #number of antennas\n",
    "\n",
    "sky_image = np.zeros((n, n), dtype='complex64')\n",
    "mask = np.zeros((n, n), dtype='bool')\n",
    "stars = np.random.randint(1, 11) #random number of sources\n",
    "radius = 1 #np.random.randint(1, 3) #with random radius\n",
    "\n",
    "for i in range(0, stars):\n",
    "    index_i = np.random.randint(0, sky_image.shape[0]-radius)\n",
    "    index_j = np.random.randint(0, sky_image.shape[1]-radius)\n",
    "    for j in range(0, radius):\n",
    "        for k in range(0, radius):\n",
    "            sky_image[index_i+j][index_j+k] = complex(np.random.rand()*100, np.random.rand()*100)\n",
    "            mask[index_i+j][index_j+k] = True\n",
    "            \n",
    "sky_image.real += np.random.randn(n,n)/100\n",
    "sky_image.imag += np.random.randn(n,n)/100\n",
    "\n",
    "print(sky_image)"
   ]
  },
  {
   "cell_type": "code",
   "execution_count": 4,
   "id": "bd84db7e",
   "metadata": {},
   "outputs": [
    {
     "data": {
      "image/png": "[encoded data removed]",
      "text/plain": [
       "<Figure size 432x288 with 2 Axes>"
      ]
     },
     "metadata": {
      "needs_background": "light"
     },
     "output_type": "display_data"
    }
   ],
   "source": [
    "modulus = np.absolute(sky_image)\n",
    "plt.imshow(modulus, cmap='Reds') \n",
    "cbar = plt.colorbar()"
   ]
  },
  {
   "cell_type": "code",
   "execution_count": 5,
   "id": "77e72e60",
   "metadata": {},
   "outputs": [
    {
     "name": "stdout",
     "output_type": "stream",
     "text": [
      "[[  21.104912+99.22618j    41.254173-92.6964j    -87.68275 +50.76037j\n",
      "   100.74016 +10.571443j  -75.07215 -67.91703j    21.129618+98.9926j\n",
      "    41.28159 -92.515366j  -87.681335+50.710484j  100.72672 +10.526102j\n",
      "   -75.214134-67.70722j ]\n",
      " [ -21.092777-98.938j     -41.358505+92.57541j    87.79685 -50.630123j\n",
      "  -100.71641 -10.369172j   75.35857 +67.820656j  -21.051788-98.85317j\n",
      "   -40.943718+92.6986j     87.83982 -50.934994j -100.71771 -10.545178j\n",
      "    75.45585 +67.70801j ]\n",
      " [  20.853746+99.02115j    41.195198-92.66914j   -87.531624+50.665474j\n",
      "   100.72152 +10.379539j  -75.502815-67.70929j    21.041515+99.17173j\n",
      "    41.24009 -92.624344j  -87.70196 +50.55951j   100.824326+10.434176j\n",
      "   -75.31888 -67.77876j ]\n",
      " [ -21.141964-99.04441j   -40.99587 +92.60627j    87.70765 -50.680386j\n",
      "  -100.63861 -10.629571j   75.37039 +67.586945j  -20.946432-99.04409j\n",
      "   -41.236427+92.66229j    87.667   -50.733463j -100.72526 -10.466198j\n",
      "    75.50576 +67.80197j ]\n",
      " [  21.213484+99.10423j    41.22883 -92.606255j  -87.62867 +50.684696j\n",
      "   100.716415+10.502754j  -75.30931 -67.60674j    21.217865+99.000374j\n",
      "    40.896183-92.660355j  -87.768715+50.574173j  100.762474+10.494643j\n",
      "   -75.44001 -67.75947j ]\n",
      " [ -21.19305 -98.982254j  -41.298885+92.63171j    87.60701 -50.64009j\n",
      "  -100.74961 -10.541611j   75.40948 +67.522125j  -21.07339 -99.12927j\n",
      "   -41.30382 +92.62201j    87.91768 -50.76888j  -100.63344 -10.624363j\n",
      "    75.2899  +67.78041j ]\n",
      " [  21.024935+99.201004j   41.169506-92.60522j   -87.7196  +50.693077j\n",
      "   100.72959 +10.50858j   -75.4428  -67.5867j     21.144882+99.102875j\n",
      "    41.075134-92.47098j   -87.75412 +50.81446j   100.70651 +10.449043j\n",
      "   -75.465   -67.64663j ]\n",
      " [ -21.238424-98.88383j   -41.35404 +92.611435j   87.642006-50.743057j\n",
      "  -100.70664 -10.508268j   75.10702 +67.933014j  -20.956772-99.00356j\n",
      "   -41.124596+92.643265j   87.66507 -50.501904j -100.807014-10.602534j\n",
      "    75.336655+67.58899j ]\n",
      " [  21.108585+99.11122j    41.05788 -92.52828j   -87.449486+50.72605j\n",
      "   100.6206  +10.835625j  -75.296265-67.81399j    20.948177+99.080086j\n",
      "    41.078884-92.403786j  -87.80422 +50.669186j  100.65893 +10.547574j\n",
      "   -75.42388 -67.8662j  ]\n",
      " [ -21.003038-99.16903j   -41.180096+92.53047j    87.72294 -50.598522j\n",
      "  -100.69775 -10.703227j   75.2962  +67.79405j   -20.972692-98.892845j\n",
      "   -41.10731 +92.69066j    87.67731 -50.837093j -100.81437 -10.59567j\n",
      "    75.384094+67.8511j  ]]\n"
     ]
    }
   ],
   "source": [
    "visibilities = np.fft.fft2(sky_image).astype('complex64')\n",
    "print(visibilities)"
   ]
  },
  {
   "cell_type": "code",
   "execution_count": 6,
   "id": "3570e801",
   "metadata": {},
   "outputs": [
    {
     "data": {
      "image/png": "[encoded data removed]",
      "text/plain": [
       "<Figure size 432x288 with 2 Axes>"
      ]
     },
     "metadata": {
      "needs_background": "light"
     },
     "output_type": "display_data"
    }
   ],
   "source": [
    "modulus = np.absolute(visibilities)\n",
    "plt.imshow(modulus, cmap='Blues')\n",
    "plt.colorbar();"
   ]
  },
  {
   "cell_type": "code",
   "execution_count": 7,
   "id": "6f6306ea",
   "metadata": {},
   "outputs": [
    {
     "name": "stdout",
     "output_type": "stream",
     "text": [
      "Reals MSE: 3.332357e-14\n",
      "Imaginaries MSE: 2.493579e-14\n"
     ]
    }
   ],
   "source": [
    "sanity = np.fft.ifft2(visibilities).astype('complex64')\n",
    "\n",
    "test1_real = ((sky_image.real - sanity.real)**2).mean()\n",
    "test1_imag = ((sky_image.imag - sanity.imag)**2).mean()\n",
    " \n",
    "print('Reals MSE: '+ str(test1_real))\n",
    "print('Imaginaries MSE: '+ str(test1_imag))"
   ]
  },
  {
   "cell_type": "code",
   "execution_count": 8,
   "id": "5d00d3fc",
   "metadata": {},
   "outputs": [],
   "source": [
    "from numpy import pi\n",
    "# importing Qiskit\n",
    "from qiskit import QuantumCircuit, transpile, Aer, IBMQ\n",
    "from qiskit.providers.ibmq import least_busy\n",
    "from qiskit.tools.monitor import job_monitor\n",
    "from qiskit.visualization import plot_histogram, plot_bloch_multivector\n",
    "from qiskit.circuit.library import QFT"
   ]
  },
  {
   "cell_type": "code",
   "execution_count": 9,
   "id": "ce856250",
   "metadata": {},
   "outputs": [],
   "source": [
    "# encoding binary data onto qubits\n",
    "def binary_encode(qc, binary, off_set):\n",
    "    \n",
    "    for i in range(0, len(binary)):\n",
    "        qc.reset(off_set+i) # set quantum state |0> by default for all qubits\n",
    "\n",
    "        if binary[i]=='1':\n",
    "            qc.x(off_set+i) # act as a CX (controlled X gate)\n",
    "    \n",
    "    off_set += len(binary)\n",
    "\n",
    "    return off_set"
   ]
  },
  {
   "cell_type": "code",
   "execution_count": 10,
   "id": "92aebcca",
   "metadata": {},
   "outputs": [],
   "source": [
    "#https://qiskit.org/documentation/stubs/qiskit.circuit.library.QFT.html\n",
    "#https://quantumcomputinguk.org/tutorials/quantum-fourier-transform-in-qiskit"
   ]
  },
  {
   "cell_type": "code",
   "execution_count": 28,
   "id": "dec003fe",
   "metadata": {},
   "outputs": [
    {
     "data": {
      "text/plain": [
       "{'qiskit-terra': '0.23.1', 'qiskit-aer': '0.11.2', 'qiskit-ignis': None, 'qiskit-ibmq-provider': '0.20.0', 'qiskit': '0.41.0', 'qiskit-nature': None, 'qiskit-finance': None, 'qiskit-optimization': None, 'qiskit-machine-learning': None}"
      ]
     },
     "execution_count": 28,
     "metadata": {},
     "output_type": "execute_result"
    }
   ],
   "source": [
    "import qiskit\n",
    "qiskit.__qiskit_version__"
   ]
  },
  {
   "cell_type": "code",
   "execution_count": 25,
   "id": "a874db77",
   "metadata": {},
   "outputs": [],
   "source": [
    "import math\n",
    "\n",
    "# importing Qiskit\n",
    "from qiskit import Aer, IBMQ\n",
    "from qiskit import QuantumRegister, ClassicalRegister, QuantumCircuit, execute\n",
    "\n",
    "from qiskit.providers.ibmq import least_busy\n",
    "from qiskit.tools.monitor import job_monitor\n",
    "from qiskit.tools.visualization import plot_histogram"
   ]
  },
  {
   "cell_type": "code",
   "execution_count": 26,
   "id": "faf1a896",
   "metadata": {},
   "outputs": [],
   "source": [
    "\"\"\"\n",
    "def qft(circ, q, n):\n",
    "\n",
    "    for j in range(n):\n",
    "        for k in range(j):\n",
    "            circ.cp(math.pi/float(2**(j-k)), q[j], q[k])\n",
    "        circ.h(q[j])\n",
    "\"\"\"   \n",
    "pi = np.pi    \n",
    "def myQFT(qc, q, n):\n",
    "    for j in range(n):\n",
    "        for k in range(j):\n",
    "            qc.cp( pi/(2**(j-k)), q[j], q[k])\n",
    "        qc.h(q[j])"
   ]
  },
  {
   "cell_type": "code",
   "execution_count": 27,
   "id": "8f61f4e5",
   "metadata": {},
   "outputs": [
    {
     "ename": "OverflowError",
     "evalue": "int too large to convert to float",
     "output_type": "error",
     "traceback": [
      "\u001b[1;31m---------------------------------------------------------------------------\u001b[0m",
      "\u001b[1;31mOverflowError\u001b[0m                             Traceback (most recent call last)",
      "\u001b[1;32m<ipython-input-27-cafbf116b7ad>\u001b[0m in \u001b[0;36m<module>\u001b[1;34m\u001b[0m\n\u001b[0;32m     18\u001b[0m             \u001b[0moff_set\u001b[0m \u001b[1;33m=\u001b[0m \u001b[0mbinary_encode\u001b[0m\u001b[1;33m(\u001b[0m\u001b[0mqc\u001b[0m\u001b[1;33m,\u001b[0m \u001b[0mbinary\u001b[0m\u001b[1;33m,\u001b[0m \u001b[0moff_set\u001b[0m\u001b[1;33m)\u001b[0m\u001b[1;33m\u001b[0m\u001b[1;33m\u001b[0m\u001b[0m\n\u001b[0;32m     19\u001b[0m \u001b[1;33m\u001b[0m\u001b[0m\n\u001b[1;32m---> 20\u001b[1;33m \u001b[0mmyQFT\u001b[0m\u001b[1;33m(\u001b[0m\u001b[0mqc\u001b[0m\u001b[1;33m,\u001b[0m \u001b[0mq\u001b[0m\u001b[1;33m,\u001b[0m \u001b[0mnumber_of_qbits\u001b[0m\u001b[1;33m)\u001b[0m\u001b[1;33m\u001b[0m\u001b[1;33m\u001b[0m\u001b[0m\n\u001b[0m\u001b[0;32m     21\u001b[0m \u001b[1;32mfor\u001b[0m \u001b[0mi\u001b[0m \u001b[1;32min\u001b[0m \u001b[0mrange\u001b[0m\u001b[1;33m(\u001b[0m\u001b[0mnumber_of_qbits\u001b[0m\u001b[1;33m)\u001b[0m\u001b[1;33m:\u001b[0m\u001b[1;33m\u001b[0m\u001b[1;33m\u001b[0m\u001b[0m\n\u001b[0;32m     22\u001b[0m     \u001b[0mqc\u001b[0m\u001b[1;33m.\u001b[0m\u001b[0mmeasure\u001b[0m\u001b[1;33m(\u001b[0m\u001b[0mq\u001b[0m\u001b[1;33m[\u001b[0m\u001b[0mi\u001b[0m\u001b[1;33m]\u001b[0m\u001b[1;33m,\u001b[0m \u001b[0mc\u001b[0m\u001b[1;33m[\u001b[0m\u001b[0mi\u001b[0m\u001b[1;33m]\u001b[0m\u001b[1;33m)\u001b[0m\u001b[1;33m\u001b[0m\u001b[1;33m\u001b[0m\u001b[0m\n",
      "\u001b[1;32m<ipython-input-26-75f8614a6a35>\u001b[0m in \u001b[0;36mmyQFT\u001b[1;34m(qc, q, n)\u001b[0m\n\u001b[0;32m     11\u001b[0m     \u001b[1;32mfor\u001b[0m \u001b[0mj\u001b[0m \u001b[1;32min\u001b[0m \u001b[0mrange\u001b[0m\u001b[1;33m(\u001b[0m\u001b[0mn\u001b[0m\u001b[1;33m)\u001b[0m\u001b[1;33m:\u001b[0m\u001b[1;33m\u001b[0m\u001b[1;33m\u001b[0m\u001b[0m\n\u001b[0;32m     12\u001b[0m         \u001b[1;32mfor\u001b[0m \u001b[0mk\u001b[0m \u001b[1;32min\u001b[0m \u001b[0mrange\u001b[0m\u001b[1;33m(\u001b[0m\u001b[0mj\u001b[0m\u001b[1;33m)\u001b[0m\u001b[1;33m:\u001b[0m\u001b[1;33m\u001b[0m\u001b[1;33m\u001b[0m\u001b[0m\n\u001b[1;32m---> 13\u001b[1;33m             \u001b[0mqc\u001b[0m\u001b[1;33m.\u001b[0m\u001b[0mcp\u001b[0m\u001b[1;33m(\u001b[0m \u001b[0mpi\u001b[0m\u001b[1;33m/\u001b[0m\u001b[1;33m(\u001b[0m\u001b[1;36m2\u001b[0m\u001b[1;33m**\u001b[0m\u001b[1;33m(\u001b[0m\u001b[0mj\u001b[0m\u001b[1;33m-\u001b[0m\u001b[0mk\u001b[0m\u001b[1;33m)\u001b[0m\u001b[1;33m)\u001b[0m\u001b[1;33m,\u001b[0m \u001b[0mq\u001b[0m\u001b[1;33m[\u001b[0m\u001b[0mj\u001b[0m\u001b[1;33m]\u001b[0m\u001b[1;33m,\u001b[0m \u001b[0mq\u001b[0m\u001b[1;33m[\u001b[0m\u001b[0mk\u001b[0m\u001b[1;33m]\u001b[0m\u001b[1;33m)\u001b[0m\u001b[1;33m\u001b[0m\u001b[1;33m\u001b[0m\u001b[0m\n\u001b[0m\u001b[0;32m     14\u001b[0m         \u001b[0mqc\u001b[0m\u001b[1;33m.\u001b[0m\u001b[0mh\u001b[0m\u001b[1;33m(\u001b[0m\u001b[0mq\u001b[0m\u001b[1;33m[\u001b[0m\u001b[0mj\u001b[0m\u001b[1;33m]\u001b[0m\u001b[1;33m)\u001b[0m\u001b[1;33m\u001b[0m\u001b[1;33m\u001b[0m\u001b[0m\n",
      "\u001b[1;31mOverflowError\u001b[0m: int too large to convert to float"
     ]
    }
   ],
   "source": [
    "number_of_entries = visibilities.shape[0] * visibilities.shape[1]\n",
    "number_of_bits_real = 32\n",
    "number_of_bits_imag = 32\n",
    "number_of_bits = number_of_bits_real + number_of_bits_imag\n",
    "number_of_qbits = number_of_entries*number_of_bits\n",
    "off_set = 0\n",
    "\n",
    "q = QuantumRegister(number_of_qbits)\n",
    "c = ClassicalRegister(number_of_qbits)\n",
    "\n",
    "# encoding (n bits encoded onto n qubits)\n",
    "qc = QuantumCircuit(q, c)\n",
    "for i in range(0, visibilities.shape[0]):\n",
    "    for j in range(0, visibilities.shape[1]):\n",
    "            binary_real = float_to_bin_real(visibilities[i, j].real)\n",
    "            binary_imag = float_to_bin_imag(visibilities[i, j].imag)\n",
    "            binary = binary_real+binary_imag\n",
    "            off_set = binary_encode(qc, binary, off_set)\n",
    "            \n",
    "myQFT(qc, q, number_of_qbits)\n",
    "for i in range(number_of_qbits):\n",
    "    qc.measure(q[i], c[i])"
   ]
  },
  {
   "cell_type": "code",
   "execution_count": 12,
   "id": "d4b2d35f",
   "metadata": {},
   "outputs": [
    {
     "name": "stdout",
     "output_type": "stream",
     "text": [
      "[[  21.104912+99.22618j    41.254173-92.6964j    -87.68275 +50.76037j\n",
      "   100.74016 +10.571443j  -75.07215 -67.91703j    21.129618+98.9926j\n",
      "    41.28159 -92.515366j  -87.681335+50.710484j  100.72672 +10.526102j\n",
      "   -75.214134-67.70722j ]\n",
      " [ -21.092777-98.938j     -41.358505+92.57541j    87.79685 -50.630123j\n",
      "  -100.71641 -10.369172j   75.35857 +67.820656j  -21.051788-98.85317j\n",
      "   -40.943718+92.6986j     87.83982 -50.934994j -100.71771 -10.545178j\n",
      "    75.45585 +67.70801j ]\n",
      " [  20.853746+99.02115j    41.195198-92.66914j   -87.531624+50.665474j\n",
      "   100.72152 +10.379539j  -75.502815-67.70929j    21.041515+99.17173j\n",
      "    41.24009 -92.624344j  -87.70196 +50.55951j   100.824326+10.434176j\n",
      "   -75.31888 -67.77876j ]\n",
      " [ -21.141964-99.04441j   -40.99587 +92.60627j    87.70765 -50.680386j\n",
      "  -100.63861 -10.629571j   75.37039 +67.586945j  -20.946432-99.04409j\n",
      "   -41.236427+92.66229j    87.667   -50.733463j -100.72526 -10.466198j\n",
      "    75.50576 +67.80197j ]\n",
      " [  21.213484+99.10423j    41.22883 -92.606255j  -87.62867 +50.684696j\n",
      "   100.716415+10.502754j  -75.30931 -67.60674j    21.217865+99.000374j\n",
      "    40.896183-92.660355j  -87.768715+50.574173j  100.762474+10.494643j\n",
      "   -75.44001 -67.75947j ]\n",
      " [ -21.19305 -98.982254j  -41.298885+92.63171j    87.60701 -50.64009j\n",
      "  -100.74961 -10.541611j   75.40948 +67.522125j  -21.07339 -99.12927j\n",
      "   -41.30382 +92.62201j    87.91768 -50.76888j  -100.63344 -10.624363j\n",
      "    75.2899  +67.78041j ]\n",
      " [  21.024935+99.201004j   41.169506-92.60522j   -87.7196  +50.693077j\n",
      "   100.72959 +10.50858j   -75.4428  -67.5867j     21.144882+99.102875j\n",
      "    41.075134-92.47098j   -87.75412 +50.81446j   100.70651 +10.449043j\n",
      "   -75.465   -67.64663j ]\n",
      " [ -21.238424-98.88383j   -41.35404 +92.611435j   87.642006-50.743057j\n",
      "  -100.70664 -10.508268j   75.10702 +67.933014j  -20.956772-99.00356j\n",
      "   -41.124596+92.643265j   87.66507 -50.501904j -100.807014-10.602534j\n",
      "    75.336655+67.58899j ]\n",
      " [  21.108585+99.11122j    41.05788 -92.52828j   -87.449486+50.72605j\n",
      "   100.6206  +10.835625j  -75.296265-67.81399j    20.948177+99.080086j\n",
      "    41.078884-92.403786j  -87.80422 +50.669186j  100.65893 +10.547574j\n",
      "   -75.42388 -67.8662j  ]\n",
      " [ -21.003038-99.16903j   -41.180096+92.53047j    87.72294 -50.598522j\n",
      "  -100.69775 -10.703227j   75.2962  +67.79405j   -20.972692-98.892845j\n",
      "   -41.10731 +92.69066j    87.67731 -50.837093j -100.81437 -10.59567j\n",
      "    75.384094+67.8511j  ]]\n"
     ]
    }
   ],
   "source": [
    "# measurement\n",
    "qc.measure_all()\n",
    "simulator = Aer.get_backend('aer_simulator')\n",
    "circ = transpile(qc, simulator)\n",
    "result = simulator.run(circ, shots=1, memory=True).result()\n",
    "memory = result.get_memory(circ)[0]\n",
    "out = reverse(memory)\n",
    "\n",
    "#qc.measure_all()\n",
    "#backend = Aer.get_backend('aer_simulator') # Qiskit's staple simulator (CHOICE MOTIVATION?)\n",
    "#job = backend.run(qc, shots=1, memory=True) \n",
    "#output = job.result().get_memory()[0]\n",
    "#out = reverse(output)\n",
    "\n",
    "# readout\n",
    "chunks_real = []\n",
    "chunks_imag = []\n",
    "for i in range(0, number_of_entries):\n",
    "    chunks_real.append(out[number_of_bits*i:(number_of_bits*i)+number_of_bits_real]) # real parts represented every 64 bits starting from the first one\n",
    "    chunks_imag.append(out[(number_of_bits*i)+number_of_bits_imag:(number_of_bits*i)+number_of_bits_imag+number_of_bits_imag]) # imaginary parts represented every 64 bits starting after the first occurence of a real part \n",
    "\n",
    "readout = []\n",
    "for i in range(0, len(chunks_real)):\n",
    "    readout.append(complex(bin_to_float_real(chunks_real[i]), bin_to_float_imag(chunks_imag[i]))) \n",
    "\n",
    "readout = np.array(readout).reshape(n , n).astype('complex64')\n",
    "print(readout)"
   ]
  },
  {
   "cell_type": "code",
   "execution_count": 13,
   "id": "6aa9775a",
   "metadata": {},
   "outputs": [],
   "source": [
    "fidelity = np.fft.ifft2(readout).astype('complex64')"
   ]
  },
  {
   "cell_type": "code",
   "execution_count": 14,
   "id": "ea5b9246",
   "metadata": {},
   "outputs": [
    {
     "name": "stdout",
     "output_type": "stream",
     "text": [
      "Reals MSE: 3.332357e-14\n",
      "Imaginaries MSE: 2.493579e-14\n"
     ]
    }
   ],
   "source": [
    "test2_real = ((sky_image.real - fidelity.real)**2).mean()\n",
    "test2_imag = ((sky_image.imag - fidelity.imag)**2).mean()\n",
    "\n",
    "print('Reals MSE: '+ str(test2_real))\n",
    "print('Imaginaries MSE: '+ str(test2_imag))"
   ]
  },
  {
   "cell_type": "code",
   "execution_count": 15,
   "id": "16cce23f",
   "metadata": {},
   "outputs": [
    {
     "data": {
      "image/png": "[encoded data removed]",
      "text/plain": [
       "<Figure size 1080x360 with 2 Axes>"
      ]
     },
     "metadata": {
      "needs_background": "light"
     },
     "output_type": "display_data"
    }
   ],
   "source": [
    "fig, axs = plt.subplots(1, 2, figsize=(15,5))\n",
    "modulus1 = np.absolute(sky_image)\n",
    "modulus2 = np.absolute(fidelity)\n",
    "\n",
    "axs[0].imshow(modulus1, cmap='Reds')\n",
    "axs[1].imshow(modulus2, cmap='Reds')\n",
    "\n",
    "axs[0].set_title(\"Original image\")\n",
    "axs[1].set_title(\"Reconstructed image\")\n",
    "\n",
    "for ax in axs.flat:\n",
    "    ax.set(xlabel=n, ylabel=n)"
   ]
  },
  {
   "cell_type": "code",
   "execution_count": null,
   "id": "6e7a063f",
   "metadata": {},
   "outputs": [],
   "source": []
  }
 ],
 "metadata": {
  "kernelspec": {
   "display_name": "Python 3",
   "language": "python",
   "name": "python3"
  },
  "language_info": {
   "codemirror_mode": {
    "name": "ipython",
    "version": 3
   },
   "file_extension": ".py",
   "mimetype": "text/x-python",
   "name": "python",
   "nbconvert_exporter": "python",
   "pygments_lexer": "ipython3",
   "version": "3.8.8"
  }
 },
 "nbformat": 4,
 "nbformat_minor": 5
}
