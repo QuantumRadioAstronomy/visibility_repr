{
 "cells": [
  {
   "cell_type": "markdown",
   "id": "2a6105cd",
   "metadata": {},
   "source": [
    "# Naive representation"
   ]
  },
  {
   "cell_type": "code",
   "execution_count": null,
   "id": "ad6cbc81",
   "metadata": {},
   "outputs": [],
   "source": [
    "import numpy as np\n",
    "import matplotlib.pyplot as plt\n",
    "import struct\n",
    "\n",
    "import qiskit\n",
    "from qiskit import *"
   ]
  },
  {
   "cell_type": "code",
   "execution_count": null,
   "id": "253aa61f",
   "metadata": {},
   "outputs": [],
   "source": [
    "# float to binary \n",
    "def float_to_bin_real(num):\n",
    "    return format(struct.unpack('!I', struct.pack('!f', num))[0], '032b')\n",
    "def float_to_bin_imag(num):\n",
    "    return format(struct.unpack('!I', struct.pack('!f', num))[0], '032b')\n",
    "\n",
    "# binary to float\n",
    "def bin_to_float_real(binary):\n",
    "    return struct.unpack('!f',struct.pack('!I', int(binary, 2)))[0]\n",
    "def bin_to_float_imag(binary):\n",
    "    return struct.unpack('!f',struct.pack('!I', int(binary, 2)))[0]\n",
    "\n",
    "# reverse a string (for the measurement step readout)\n",
    "def reverse(string):\n",
    "    string = string[::-1]\n",
    "    return string"
   ]
  },
  {
   "cell_type": "code",
   "execution_count": null,
   "id": "21863931",
   "metadata": {},
   "outputs": [],
   "source": [
    "# image of the sky filled with double precision complex floats (single precision for reals/imaginaries)\n",
    "# few pixels are set to relatively large complex random values in random spots (image sources)\n",
    "# relatively small complex values are added (white noise from background radiations) \n",
    "\n",
    "n = 10 #number of antennas\n",
    "\n",
    "sky_image = np.zeros((n, n), dtype='complex64')\n",
    "mask = np.zeros((n, n), dtype='bool')\n",
    "stars = np.random.randint(1, 11) #random number of sources\n",
    "radius = 1 #np.random.randint(1, 3) #with random radius\n",
    "\n",
    "for i in range(0, stars):\n",
    "    index_i = np.random.randint(0, sky_image.shape[0]-radius)\n",
    "    index_j = np.random.randint(0, sky_image.shape[1]-radius)\n",
    "    for j in range(0, radius):\n",
    "        for k in range(0, radius):\n",
    "            sky_image[index_i+j][index_j+k] = complex(np.random.rand()*100, np.random.rand()*100)\n",
    "            mask[index_i+j][index_j+k] = True\n",
    "            \n",
    "sky_image.real += np.random.randn(n,n)/100\n",
    "sky_image.imag += np.random.randn(n,n)/100\n",
    "\n",
    "print(sky_image)"
   ]
  },
  {
   "cell_type": "code",
   "execution_count": null,
   "id": "bd84db7e",
   "metadata": {},
   "outputs": [],
   "source": [
    "modulus = np.absolute(sky_image)\n",
    "plt.imshow(modulus, cmap='Reds') \n",
    "cbar = plt.colorbar()"
   ]
  },
  {
   "cell_type": "code",
   "execution_count": null,
   "id": "77e72e60",
   "metadata": {},
   "outputs": [],
   "source": [
    "visibilities = np.fft.fft2(sky_image).astype('complex64')\n",
    "print(visibilities)"
   ]
  },
  {
   "cell_type": "code",
   "execution_count": null,
   "id": "3570e801",
   "metadata": {},
   "outputs": [],
   "source": [
    "modulus = np.absolute(visibilities)\n",
    "plt.imshow(modulus, cmap='Blues')\n",
    "plt.colorbar();"
   ]
  },
  {
   "cell_type": "code",
   "execution_count": null,
   "id": "6f6306ea",
   "metadata": {},
   "outputs": [],
   "source": [
    "sanity = np.fft.ifft2(visibilities).astype('complex64')\n",
    "\n",
    "test1_real = ((sky_image.real - sanity.real)**2).mean()\n",
    "test1_imag = ((sky_image.imag - sanity.imag)**2).mean()\n",
    " \n",
    "print('Reals MSE: '+ str(test1_real))\n",
    "print('Imaginaries MSE: '+ str(test1_imag))"
   ]
  },
  {
   "cell_type": "code",
   "execution_count": null,
   "id": "5d00d3fc",
   "metadata": {},
   "outputs": [],
   "source": [
    "from numpy import pi\n",
    "# importing Qiskit\n",
    "from qiskit import QuantumCircuit, transpile, Aer, IBMQ\n",
    "from qiskit.providers.ibmq import least_busy\n",
    "from qiskit.tools.monitor import job_monitor\n",
    "from qiskit.visualization import plot_histogram, plot_bloch_multivector"
   ]
  },
  {
   "cell_type": "code",
   "execution_count": null,
   "id": "ce856250",
   "metadata": {},
   "outputs": [],
   "source": [
    "# encoding binary data onto qubits\n",
    "def binary_encode(qc, binary, off_set):\n",
    "    \n",
    "    for i in range(0, len(binary)):\n",
    "        qc.reset(off_set+i) # set quantum state |0> by default for all qubits\n",
    "\n",
    "        if binary[i]=='1':\n",
    "            qc.x(off_set+i) # act as a CX (controlled X gate)\n",
    "    \n",
    "    off_set += len(binary)\n",
    "\n",
    "    return off_set"
   ]
  },
  {
   "cell_type": "code",
   "execution_count": null,
   "id": "8f61f4e5",
   "metadata": {},
   "outputs": [],
   "source": [
    "number_of_entries = visibilities.shape[0] * visibilities.shape[1]\n",
    "number_of_bits_real = 32\n",
    "number_of_bits_imag = 32\n",
    "number_of_bits = number_of_bits_real + number_of_bits_imag\n",
    "off_set = 0\n",
    "\n",
    "# encoding (n bits encoded onto n qubits)\n",
    "qc = QuantumCircuit(number_of_entries*number_of_bits)\n",
    "for i in range(0, visibilities.shape[0]):\n",
    "    for j in range(0, visibilities.shape[1]):\n",
    "            binary_real = float_to_bin_real(visibilities[i, j].real)\n",
    "            binary_imag = float_to_bin_imag(visibilities[i, j].imag)\n",
    "            binary = binary_real+binary_imag\n",
    "            off_set = binary_encode(qc, binary, off_set)"
   ]
  },
  {
   "cell_type": "code",
   "execution_count": null,
   "id": "d4b2d35f",
   "metadata": {},
   "outputs": [],
   "source": [
    "# measurement\n",
    "simulator = Aer.get_backend('aer_simulator')\n",
    "circ = transpile(qc, simulator)\n",
    "result = simulator.run(circ).result()\n",
    "counts = result.get_counts(circ)\n",
    "plot_histogram(counts, title='Test 2')\n",
    "\n",
    "#qc.measure_all()\n",
    "#backend = Aer.get_backend('aer_simulator') # Qiskit's staple simulator (CHOICE MOTIVATION?)\n",
    "#job = backend.run(qc, shots=1, memory=True) \n",
    "#output = job.result().get_memory()[0]\n",
    "#out = reverse(output)\n",
    "\n",
    "# readout\n",
    "chunks_real = []\n",
    "chunks_imag = []\n",
    "for i in range(0, number_of_entries):\n",
    "    chunks_real.append(out[number_of_bits*i:(number_of_bits*i)+number_of_bits_real]) # real parts represented every 64 bits starting from the first one\n",
    "    chunks_imag.append(out[(number_of_bits*i)+number_of_bits_imag:(number_of_bits*i)+number_of_bits_imag+number_of_bits_imag]) # imaginary parts represented every 64 bits starting after the first occurence of a real part \n",
    "\n",
    "readout = []\n",
    "for i in range(0, len(chunks_real)):\n",
    "    readout.append(complex(bin_to_float_real(chunks_real[i]), bin_to_float_imag(chunks_imag[i]))) \n",
    "\n",
    "readout = np.array(readout).reshape(n , n).astype('complex64')\n",
    "print(readout)"
   ]
  },
  {
   "cell_type": "code",
   "execution_count": null,
   "id": "6aa9775a",
   "metadata": {},
   "outputs": [],
   "source": [
    "fidelity = np.fft.ifft2(readout).astype('complex64')"
   ]
  },
  {
   "cell_type": "code",
   "execution_count": null,
   "id": "ea5b9246",
   "metadata": {},
   "outputs": [],
   "source": [
    "test2_real = ((sky_image.real - fidelity.real)**2).mean()\n",
    "test2_imag = ((sky_image.imag - fidelity.imag)**2).mean()\n",
    "\n",
    "print('Reals MSE: '+ str(test2_real))\n",
    "print('Imaginaries MSE: '+ str(test2_imag))"
   ]
  },
  {
   "cell_type": "code",
   "execution_count": null,
   "id": "16cce23f",
   "metadata": {},
   "outputs": [],
   "source": [
    "fig, axs = plt.subplots(1, 2, figsize=(15,5))\n",
    "modulus1 = np.absolute(sky_image)\n",
    "modulus2 = np.absolute(fidelity)\n",
    "\n",
    "axs[0].imshow(modulus1, cmap='Reds')\n",
    "axs[1].imshow(modulus2, cmap='Reds')\n",
    "\n",
    "axs[0].set_title(\"Original image\")\n",
    "axs[1].set_title(\"Reconstructed image\")\n",
    "\n",
    "for ax in axs.flat:\n",
    "    ax.set(xlabel=n, ylabel=n)"
   ]
  },
  {
   "cell_type": "code",
   "execution_count": null,
   "id": "6e7a063f",
   "metadata": {},
   "outputs": [],
   "source": []
  }
 ],
 "metadata": {
  "kernelspec": {
   "display_name": "Python 3",
   "language": "python",
   "name": "python3"
  },
  "language_info": {
   "codemirror_mode": {
    "name": "ipython",
    "version": 3
   },
   "file_extension": ".py",
   "mimetype": "text/x-python",
   "name": "python",
   "nbconvert_exporter": "python",
   "pygments_lexer": "ipython3",
   "version": "3.8.8"
  }
 },
 "nbformat": 4,
 "nbformat_minor": 5
}
