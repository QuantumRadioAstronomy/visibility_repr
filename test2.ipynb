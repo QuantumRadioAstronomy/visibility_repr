{
 "cells": [
  {
   "cell_type": "markdown",
   "id": "2a6105cd",
   "metadata": {},
   "source": [
    "# Naive representation"
   ]
  },
  {
   "cell_type": "code",
   "execution_count": 1,
   "id": "ad6cbc81",
   "metadata": {},
   "outputs": [],
   "source": [
    "import numpy as np\n",
    "import matplotlib.pyplot as plt\n",
    "import struct\n",
    "\n",
    "import qiskit\n",
    "from qiskit import *"
   ]
  },
  {
   "cell_type": "code",
   "execution_count": 2,
   "id": "253aa61f",
   "metadata": {},
   "outputs": [],
   "source": [
    "# float to binary \n",
    "def float_to_bin_real(num):\n",
    "    return format(struct.unpack('!I', struct.pack('!f', num))[0], '032b')\n",
    "def float_to_bin_imag(num):\n",
    "    return format(struct.unpack('!I', struct.pack('!f', num))[0], '032b')\n",
    "\n",
    "# binary to float\n",
    "def bin_to_float_real(binary):\n",
    "    return struct.unpack('!f',struct.pack('!I', int(binary, 2)))[0]\n",
    "def bin_to_float_imag(binary):\n",
    "    return struct.unpack('!f',struct.pack('!I', int(binary, 2)))[0]\n",
    "\n",
    "# reverse a string (for the measurement step readout)\n",
    "def reverse(string):\n",
    "    string = string[::-1]\n",
    "    return string"
   ]
  },
  {
   "cell_type": "code",
   "execution_count": 3,
   "id": "21863931",
   "metadata": {},
   "outputs": [
    {
     "name": "stdout",
     "output_type": "stream",
     "text": [
      "[[ 5.14690112e-03+1.05036153e-02j -1.01243230e-02+1.14227347e-02j\n",
      "  -5.89228282e-03-5.88601269e-03j  1.71917665e-03+4.72567836e-03j\n",
      "  -8.75546783e-03+1.03323972e-02j -1.15890019e-02-2.41379510e-03j\n",
      "  -4.89886058e-03-9.27943923e-03j  1.12785015e-03-1.72572322e-02j\n",
      "  -5.09621241e-05-1.91251002e-02j  9.56362765e-03+1.52911656e-02j]\n",
      " [ 9.10926514e+01+3.93541832e+01j  2.70720944e-03+3.04538454e-03j\n",
      "  -1.56138856e-02+2.20983499e-03j -9.42870695e-03+8.78419634e-03j\n",
      "  -3.68940178e-03+1.00500882e-02j -2.95070768e-03-6.12311671e-03j\n",
      "   1.04144681e-02+8.08280893e-03j -1.27931954e-02-3.27803078e-03j\n",
      "   8.43335316e-03-1.73714373e-03j -9.50016920e-03+1.97011488e-03j]\n",
      " [ 8.21080627e+01+5.05564728e+01j -1.38683906e-02-2.08460521e-02j\n",
      "   2.67090509e-03+8.86797346e-03j  8.80727835e-04-5.42564504e-03j\n",
      "   6.76319702e-03+8.18572007e-03j -2.45797518e-03-2.11730562e-02j\n",
      "   4.97089652e-03+2.37061596e-03j  5.92742115e-03-4.85933432e-03j\n",
      "   9.61425900e-03+4.56003072e-05j  1.56238545e-02+1.28463628e-02j]\n",
      " [ 3.11305933e-03-1.01445122e-02j  1.46120805e-02-7.28383288e-03j\n",
      "   1.51648093e-02+3.38311365e-04j  8.14141892e-03+1.26661223e-04j\n",
      "   1.71944196e-03-1.90811343e-02j  9.63264983e-03-1.87848676e-02j\n",
      "   7.20119197e-03+2.29419637e-02j  1.60829592e-02+5.22224233e-03j\n",
      "  -4.06289799e-03-1.38157150e-02j  1.32475980e-02-5.40260505e-03j]\n",
      " [-3.23894201e-03-4.71460546e-04j -1.08779081e-04+7.87802786e-03j\n",
      "  -1.16504133e-02-9.62984050e-04j  1.60878152e-03+7.35065620e-03j\n",
      "   1.40062543e-02+1.19950427e-02j -1.77399360e-03+2.26230104e-03j\n",
      "  -2.41507292e-02-5.81595255e-03j  1.18684573e-02+1.38211688e-02j\n",
      "   2.04972806e-03-5.33128204e-03j -2.06743996e-03+1.47963585e-02j]\n",
      " [ 9.50078392e+00+1.79134464e+01j  1.10042410e-03+4.59135743e-03j\n",
      "   9.17061698e-03+5.61360503e-03j  3.52801150e-03+5.03820740e-03j\n",
      "   3.66950338e-03+4.79516108e-03j  2.53314800e+01+9.96440506e+01j\n",
      "  -8.97917245e-03+2.50909245e-03j -9.60262865e-03+1.12122260e-02j\n",
      "   9.45468154e-03-9.28826071e-03j  2.00998578e-02+6.13993220e-03j]\n",
      " [-1.96168805e-03+1.09754130e-02j  5.36703568e+01+2.50666656e+01j\n",
      "  -9.23651620e-04+5.43451589e-03j -1.77232847e-02+9.53928474e-03j\n",
      "  -1.56490598e-02+9.30968486e-03j  3.55356885e-03-1.80756929e-03j\n",
      "   7.61466217e-04-1.71224754e-02j  9.44479275e-03+1.10086696e-02j\n",
      "   7.60780368e-03+7.36438483e-03j -4.06122860e-03+1.12887751e-02j]\n",
      " [ 2.47615604e+01+3.89133072e+01j  1.48631977e-02-3.49077559e-03j\n",
      "   1.13020907e-03-1.73270497e-02j  3.50500643e-03+1.28751795e-03j\n",
      "   8.84793243e+01+6.94386673e+01j -5.88949397e-03+5.95758623e-03j\n",
      "   2.34903046e-03+1.78775832e-03j  4.20160452e-03-1.31463902e-02j\n",
      "   7.67922448e-03-1.55551089e-02j  1.25542087e-02-9.93810315e-03j]\n",
      " [-1.31106284e-03+7.25159235e-03j  1.75854447e-03-2.34235963e-03j\n",
      "  -6.25362387e-03+1.41361924e-02j  2.13409010e-02+3.75278480e-03j\n",
      "   9.40095540e-03+2.13677529e-02j  2.04181904e-03-1.33784255e-02j\n",
      "   3.45601817e-03+1.84803791e-02j  9.04094521e-03-1.48221711e-02j\n",
      "  -1.56752225e-02+7.84242991e-03j  4.56318632e-03-2.24407949e-02j]\n",
      " [ 5.34934783e-03-2.14294437e-03j -1.03414971e-02-3.84930032e-03j\n",
      "   2.82726460e-03-1.17064165e-02j -1.48185911e-02-4.12271544e-03j\n",
      "  -8.85538291e-03-3.47098871e-03j  9.20185447e-03+1.14671588e-02j\n",
      "   5.79214888e-03+1.14561068e-02j  1.20773036e-02-1.06859850e-02j\n",
      "   1.22822560e-02-5.11994073e-03j  1.49894971e-03-1.93776414e-02j]]\n"
     ]
    }
   ],
   "source": [
    "# image of the sky filled with double precision complex floats (single precision for reals/imaginaries)\n",
    "# few pixels are set to relatively large complex random values in random spots (image sources)\n",
    "# relatively small complex values are added (white noise from background radiations) \n",
    "\n",
    "n = 10 #number of antennas\n",
    "\n",
    "sky_image = np.zeros((n, n), dtype='complex64')\n",
    "mask = np.zeros((n, n), dtype='bool')\n",
    "stars = np.random.randint(1, 11) #random number of sources\n",
    "radius = 1 #np.random.randint(1, 3) #with random radius\n",
    "\n",
    "for i in range(0, stars):\n",
    "    index_i = np.random.randint(0, sky_image.shape[0]-radius)\n",
    "    index_j = np.random.randint(0, sky_image.shape[1]-radius)\n",
    "    for j in range(0, radius):\n",
    "        for k in range(0, radius):\n",
    "            sky_image[index_i+j][index_j+k] = complex(np.random.rand()*100, np.random.rand()*100)\n",
    "            mask[index_i+j][index_j+k] = True\n",
    "            \n",
    "sky_image.real += np.random.randn(n,n)/100\n",
    "sky_image.imag += np.random.randn(n,n)/100\n",
    "\n",
    "print(sky_image)"
   ]
  },
  {
   "cell_type": "code",
   "execution_count": 4,
   "id": "bd84db7e",
   "metadata": {},
   "outputs": [
    {
     "data": {
      "image/png": "[encoded data removed]",
      "text/plain": [
       "<Figure size 432x288 with 2 Axes>"
      ]
     },
     "metadata": {
      "needs_background": "light"
     },
     "output_type": "display_data"
    }
   ],
   "source": [
    "modulus = np.absolute(sky_image)\n",
    "plt.imshow(modulus, cmap='Reds') \n",
    "cbar = plt.colorbar()"
   ]
  },
  {
   "cell_type": "code",
   "execution_count": 5,
   "id": "77e72e60",
   "metadata": {},
   "outputs": [
    {
     "name": "stdout",
     "output_type": "stream",
     "text": [
      "[[ 375.08282  +340.89624j   209.68008   -72.268166j\n",
      "   234.45415  +308.78363j   282.70718   -74.24744j\n",
      "    91.67337  +190.3144j    216.86311   +91.55765j\n",
      "   143.87894  +149.31676j   103.07198  +196.13672j\n",
      "   318.91772  +242.45618j    98.37216   +94.58786j ]\n",
      " [ -60.805294 -116.35334j   213.48294   +56.659325j\n",
      "    -4.959216 -200.80437j   200.94446  +169.2274j\n",
      "   183.18637  -270.7263j    106.23891   +60.602856j\n",
      "   243.4587   -229.39241j    60.3297   -119.296394j\n",
      "    92.777214 -133.74402j   126.45804  -121.719315j]\n",
      " [  76.07039  -243.38986j   -15.361105 -244.53015j\n",
      "   131.1457   -206.4542j   -150.15144  -320.62457j\n",
      "    96.80367   -11.338826j  -55.26124  -356.5785j\n",
      "    20.760414  +72.30361j   137.8213   -302.21722j\n",
      "     7.8952785 -71.31216j   162.53754  -233.24115j ]\n",
      " [  26.425243 -129.11543j   -87.9741    -10.393051j\n",
      "     5.7228217 -58.806038j   68.66929  -109.76475j\n",
      "  -131.83528  -172.61588j    91.464325  -47.528015j\n",
      "  -195.94778  -313.2601j    -50.926384  +90.36022j\n",
      "   -98.30431  -286.29736j  -161.82425  +113.30374j ]\n",
      " [-135.00278  +215.17104j   -78.69651  -125.62323j\n",
      "  -238.51471  +168.56976j   -70.385544  +75.01182j\n",
      "  -105.92862  +112.02261j  -128.42885  +119.69523j\n",
      "    79.22667  +123.80018j  -172.62425   -53.37266j\n",
      "    61.055397 +187.58571j  -141.8846   -204.6346j  ]\n",
      " [-103.52133  -189.47058j    71.01025  +151.07227j\n",
      "    10.330016 -294.1354j   -103.8739    +57.890797j\n",
      "    15.059167 -192.89148j  -160.1282    -40.39553j\n",
      "   -95.83199   -25.89074j   -19.590528   -8.266831j\n",
      "  -169.07816   -23.896769j  123.05709  +110.145096j]\n",
      " [  91.37166   +13.79337j  -147.23186   -94.95295j\n",
      "   137.49474  +193.70091j     3.3063629-190.23837j\n",
      "    71.06691  +195.94028j   156.85283  -208.00414j\n",
      "   -15.8952875 +17.70594j   101.266045 -123.416j\n",
      "    -3.3758225 -94.80904j   -86.963905  -53.43042j ]\n",
      " [ -68.8497    -21.46929j   -43.18222   -51.220863j\n",
      "  -262.1362    -75.33428j   -30.510004  +92.27631j\n",
      "  -286.45483  -144.41945j   -98.99792  +264.3348j\n",
      "  -108.55349  -133.11292j  -154.04489  +227.67465j\n",
      "    26.134771  -56.810627j -119.650894  +32.32355j ]\n",
      " [-233.33734  +261.46133j   -47.018204 +128.9054j\n",
      "   -90.580086 +123.683685j -144.7227   +101.76077j\n",
      "    20.382687 +100.71077j  -269.2141    -55.566143j\n",
      "   -53.694874 +224.43245j  -248.67964  -125.79761j\n",
      "  -210.3055   +323.7949j   -111.20363   -11.854268j]\n",
      " [  32.328793 -131.54033j   -74.03564  +262.83795j\n",
      "    76.68477   +41.455086j  -55.842995 +199.05196j\n",
      "    46.032715 +192.77599j   140.55968  +171.62955j\n",
      "   -17.305426 +113.80562j   243.63197  +218.15291j\n",
      "   -25.525206  -86.68475j   110.921074 +274.6294j  ]]\n"
     ]
    }
   ],
   "source": [
    "visibilities = np.fft.fft2(sky_image).astype('complex64')\n",
    "print(visibilities)"
   ]
  },
  {
   "cell_type": "code",
   "execution_count": 6,
   "id": "3570e801",
   "metadata": {},
   "outputs": [
    {
     "data": {
      "image/png": "[encoded data removed]",
      "text/plain": [
       "<Figure size 432x288 with 2 Axes>"
      ]
     },
     "metadata": {
      "needs_background": "light"
     },
     "output_type": "display_data"
    }
   ],
   "source": [
    "modulus = np.absolute(visibilities)\n",
    "plt.imshow(modulus, cmap='Blues')\n",
    "plt.colorbar();"
   ]
  },
  {
   "cell_type": "code",
   "execution_count": 7,
   "id": "6f6306ea",
   "metadata": {},
   "outputs": [
    {
     "name": "stdout",
     "output_type": "stream",
     "text": [
      "Reals MSE: 1.4355159e-13\n",
      "Imaginaries MSE: 1.2033583e-13\n"
     ]
    }
   ],
   "source": [
    "sanity = np.fft.ifft2(visibilities).astype('complex64')\n",
    "\n",
    "test1_real = ((sky_image.real - sanity.real)**2).mean()\n",
    "test1_imag = ((sky_image.imag - sanity.imag)**2).mean()\n",
    " \n",
    "print('Reals MSE: '+ str(test1_real))\n",
    "print('Imaginaries MSE: '+ str(test1_imag))"
   ]
  },
  {
   "cell_type": "code",
   "execution_count": 8,
   "id": "5d00d3fc",
   "metadata": {},
   "outputs": [],
   "source": [
    "from numpy import pi\n",
    "# importing Qiskit\n",
    "from qiskit import QuantumCircuit, transpile, Aer, IBMQ\n",
    "from qiskit.providers.ibmq import least_busy\n",
    "from qiskit.tools.monitor import job_monitor\n",
    "from qiskit.visualization import plot_histogram, plot_bloch_multivector"
   ]
  },
  {
   "cell_type": "code",
   "execution_count": 9,
   "id": "ce856250",
   "metadata": {},
   "outputs": [],
   "source": [
    "# encoding binary data onto qubits\n",
    "def binary_encode(qc, binary, off_set):\n",
    "    \n",
    "    for i in range(0, len(binary)):\n",
    "        qc.reset(off_set+i) # set quantum state |0> by default for all qubits\n",
    "\n",
    "        if binary[i]=='1':\n",
    "            qc.x(off_set+i) # act as a CX (controlled X gate)\n",
    "    \n",
    "    off_set += len(binary)\n",
    "\n",
    "    return off_set"
   ]
  },
  {
   "cell_type": "code",
   "execution_count": 10,
   "id": "8f61f4e5",
   "metadata": {},
   "outputs": [],
   "source": [
    "number_of_entries = visibilities.shape[0] * visibilities.shape[1]\n",
    "number_of_bits_real = 32\n",
    "number_of_bits_imag = 32\n",
    "number_of_bits = number_of_bits_real + number_of_bits_imag\n",
    "off_set = 0\n",
    "\n",
    "# encoding (n bits encoded onto n qubits)\n",
    "qc = QuantumCircuit(number_of_entries*number_of_bits)\n",
    "for i in range(0, visibilities.shape[0]):\n",
    "    for j in range(0, visibilities.shape[1]):\n",
    "            binary_real = float_to_bin_real(visibilities[i, j].real)\n",
    "            binary_imag = float_to_bin_imag(visibilities[i, j].imag)\n",
    "            binary = binary_real+binary_imag\n",
    "            off_set = binary_encode(qc, binary, off_set)"
   ]
  },
  {
   "cell_type": "code",
   "execution_count": 11,
   "id": "d4b2d35f",
   "metadata": {},
   "outputs": [
    {
     "ename": "QiskitError",
     "evalue": "'No counts for experiment \"<qiskit.circuit.quantumcircuit.QuantumCircuit object at 0x000002016B6B9040>\"'",
     "output_type": "error",
     "traceback": [
      "\u001b[1;31m---------------------------------------------------------------------------\u001b[0m",
      "\u001b[1;31mQiskitError\u001b[0m                               Traceback (most recent call last)",
      "\u001b[1;32m<ipython-input-11-f3673d0e8958>\u001b[0m in \u001b[0;36m<module>\u001b[1;34m\u001b[0m\n\u001b[0;32m      3\u001b[0m \u001b[0mcirc\u001b[0m \u001b[1;33m=\u001b[0m \u001b[0mtranspile\u001b[0m\u001b[1;33m(\u001b[0m\u001b[0mqc\u001b[0m\u001b[1;33m,\u001b[0m \u001b[0msimulator\u001b[0m\u001b[1;33m)\u001b[0m\u001b[1;33m\u001b[0m\u001b[1;33m\u001b[0m\u001b[0m\n\u001b[0;32m      4\u001b[0m \u001b[0mresult\u001b[0m \u001b[1;33m=\u001b[0m \u001b[0msimulator\u001b[0m\u001b[1;33m.\u001b[0m\u001b[0mrun\u001b[0m\u001b[1;33m(\u001b[0m\u001b[0mcirc\u001b[0m\u001b[1;33m)\u001b[0m\u001b[1;33m.\u001b[0m\u001b[0mresult\u001b[0m\u001b[1;33m(\u001b[0m\u001b[1;33m)\u001b[0m\u001b[1;33m\u001b[0m\u001b[1;33m\u001b[0m\u001b[0m\n\u001b[1;32m----> 5\u001b[1;33m \u001b[0mcounts\u001b[0m \u001b[1;33m=\u001b[0m \u001b[0mresult\u001b[0m\u001b[1;33m.\u001b[0m\u001b[0mget_counts\u001b[0m\u001b[1;33m(\u001b[0m\u001b[0mcirc\u001b[0m\u001b[1;33m)\u001b[0m\u001b[1;33m\u001b[0m\u001b[1;33m\u001b[0m\u001b[0m\n\u001b[0m\u001b[0;32m      6\u001b[0m \u001b[0mplot_histogram\u001b[0m\u001b[1;33m(\u001b[0m\u001b[0mcounts\u001b[0m\u001b[1;33m,\u001b[0m \u001b[0mtitle\u001b[0m\u001b[1;33m=\u001b[0m\u001b[1;34m'Test 2'\u001b[0m\u001b[1;33m)\u001b[0m\u001b[1;33m\u001b[0m\u001b[1;33m\u001b[0m\u001b[0m\n\u001b[0;32m      7\u001b[0m \u001b[1;33m\u001b[0m\u001b[0m\n",
      "\u001b[1;32m~\\anaconda3\\lib\\site-packages\\qiskit\\result\\result.py\u001b[0m in \u001b[0;36mget_counts\u001b[1;34m(self, experiment)\u001b[0m\n\u001b[0;32m    287\u001b[0m                 \u001b[0mdict_list\u001b[0m\u001b[1;33m.\u001b[0m\u001b[0mappend\u001b[0m\u001b[1;33m(\u001b[0m\u001b[0mstatevector\u001b[0m\u001b[1;33m.\u001b[0m\u001b[0mStatevector\u001b[0m\u001b[1;33m(\u001b[0m\u001b[0mvec\u001b[0m\u001b[1;33m)\u001b[0m\u001b[1;33m.\u001b[0m\u001b[0mprobabilities_dict\u001b[0m\u001b[1;33m(\u001b[0m\u001b[0mdecimals\u001b[0m\u001b[1;33m=\u001b[0m\u001b[1;36m15\u001b[0m\u001b[1;33m)\u001b[0m\u001b[1;33m)\u001b[0m\u001b[1;33m\u001b[0m\u001b[1;33m\u001b[0m\u001b[0m\n\u001b[0;32m    288\u001b[0m             \u001b[1;32melse\u001b[0m\u001b[1;33m:\u001b[0m\u001b[1;33m\u001b[0m\u001b[1;33m\u001b[0m\u001b[0m\n\u001b[1;32m--> 289\u001b[1;33m                 \u001b[1;32mraise\u001b[0m \u001b[0mQiskitError\u001b[0m\u001b[1;33m(\u001b[0m\u001b[1;34mf'No counts for experiment \"{repr(key)}\"'\u001b[0m\u001b[1;33m)\u001b[0m\u001b[1;33m\u001b[0m\u001b[1;33m\u001b[0m\u001b[0m\n\u001b[0m\u001b[0;32m    290\u001b[0m \u001b[1;33m\u001b[0m\u001b[0m\n\u001b[0;32m    291\u001b[0m         \u001b[1;31m# Return first item of dict_list if size is 1\u001b[0m\u001b[1;33m\u001b[0m\u001b[1;33m\u001b[0m\u001b[1;33m\u001b[0m\u001b[0m\n",
      "\u001b[1;31mQiskitError\u001b[0m: 'No counts for experiment \"<qiskit.circuit.quantumcircuit.QuantumCircuit object at 0x000002016B6B9040>\"'"
     ]
    }
   ],
   "source": [
    "# measurement\n",
    "simulator = Aer.get_backend('aer_simulator')\n",
    "circ = transpile(qc, simulator)\n",
    "result = simulator.run(circ).result()\n",
    "counts = result.get_counts(circ)\n",
    "plot_histogram(counts, title='Test 2')\n",
    "\n",
    "#qc.measure_all()\n",
    "#backend = Aer.get_backend('aer_simulator') # Qiskit's staple simulator (CHOICE MOTIVATION?)\n",
    "#job = backend.run(qc, shots=1, memory=True) \n",
    "#output = job.result().get_memory()[0]\n",
    "#out = reverse(output)\n",
    "\n",
    "# readout\n",
    "chunks_real = []\n",
    "chunks_imag = []\n",
    "for i in range(0, number_of_entries):\n",
    "    chunks_real.append(out[number_of_bits*i:(number_of_bits*i)+number_of_bits_real]) # real parts represented every 64 bits starting from the first one\n",
    "    chunks_imag.append(out[(number_of_bits*i)+number_of_bits_imag:(number_of_bits*i)+number_of_bits_imag+number_of_bits_imag]) # imaginary parts represented every 64 bits starting after the first occurence of a real part \n",
    "\n",
    "readout = []\n",
    "for i in range(0, len(chunks_real)):\n",
    "    readout.append(complex(bin_to_float_real(chunks_real[i]), bin_to_float_imag(chunks_imag[i]))) \n",
    "\n",
    "readout = np.array(readout).reshape(n , n).astype('complex64')\n",
    "print(readout)"
   ]
  },
  {
   "cell_type": "code",
   "execution_count": null,
   "id": "6aa9775a",
   "metadata": {},
   "outputs": [],
   "source": [
    "fidelity = np.fft.ifft2(readout).astype('complex64')"
   ]
  },
  {
   "cell_type": "code",
   "execution_count": null,
   "id": "ea5b9246",
   "metadata": {},
   "outputs": [],
   "source": [
    "test2_real = ((sky_image.real - fidelity.real)**2).mean()\n",
    "test2_imag = ((sky_image.imag - fidelity.imag)**2).mean()\n",
    "\n",
    "print('Reals MSE: '+ str(test2_real))\n",
    "print('Imaginaries MSE: '+ str(test2_imag))"
   ]
  },
  {
   "cell_type": "code",
   "execution_count": null,
   "id": "16cce23f",
   "metadata": {},
   "outputs": [],
   "source": [
    "fig, axs = plt.subplots(1, 2, figsize=(15,5))\n",
    "modulus1 = np.absolute(sky_image)\n",
    "modulus2 = np.absolute(fidelity)\n",
    "\n",
    "axs[0].imshow(modulus1, cmap='Reds')\n",
    "axs[1].imshow(modulus2, cmap='Reds')\n",
    "\n",
    "axs[0].set_title(\"Original image\")\n",
    "axs[1].set_title(\"Reconstructed image\")\n",
    "\n",
    "for ax in axs.flat:\n",
    "    ax.set(xlabel=n, ylabel=n)"
   ]
  },
  {
   "cell_type": "code",
   "execution_count": null,
   "id": "6e7a063f",
   "metadata": {},
   "outputs": [],
   "source": []
  }
 ],
 "metadata": {
  "kernelspec": {
   "display_name": "Python 3",
   "language": "python",
   "name": "python3"
  },
  "language_info": {
   "codemirror_mode": {
    "name": "ipython",
    "version": 3
   },
   "file_extension": ".py",
   "mimetype": "text/x-python",
   "name": "python",
   "nbconvert_exporter": "python",
   "pygments_lexer": "ipython3",
   "version": "3.8.8"
  }
 },
 "nbformat": 4,
 "nbformat_minor": 5
}
