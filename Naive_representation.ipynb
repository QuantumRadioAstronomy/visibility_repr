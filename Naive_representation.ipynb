{
 "cells": [
  {
   "cell_type": "markdown",
   "id": "2a6105cd",
   "metadata": {},
   "source": [
    "# Naive representation"
   ]
  },
  {
   "cell_type": "markdown",
   "id": "7f14d075",
   "metadata": {},
   "source": [
    "*First pipeline:*\n",
    "* **1. Data preparation (correlation step):**\n",
    "    * 1.1 image initialization (spatial domain)\n",
    "    * 1.2 Fourier transform (frequency domain)\n",
    "    \n",
    "    &rarr; simulates radio visibility data\n",
    "* **2. Data embedding (calibration step):**\n",
    "    * 2.1 data pre-processing\n",
    "    * 2.2 data encoding\n",
    "    \n",
    "    &rarr; embeds visibilities into qubits\n",
    "* **3. Data reading (imaging step):**\n",
    "    * 3.1 readout\n",
    "    * 3.2 inverse Fourier transform (spatial domain) - IFT\n",
    "    \n",
    "    &rarr; approximates science-ready intermediate product  \n",
    "\n",
    "*Second pipeline:*\n",
    "* **1. Data preparation (correlation step):**\n",
    "     * 1.1 image initialization (spatial domain)\n",
    "     * 1.2 Fourier transform (frequency domain)\n",
    "     \n",
    "     &rarr; simulates radio visibility data\n",
    "* **2. Data embedding (calibration step):**\n",
    "    * 2.1 data pre-processing\n",
    "    * 2.2 data encoding\n",
    "    * 2.3 quantum inverse Fourier transform - QFT\n",
    "    \n",
    "    &rarr; embeds visibilities into qubits and applies QFT on qubits\n",
    "* **3. Data reading (imaging step):**\n",
    "    * 3.1 readout\n",
    "    \n",
    "    &rarr; approximates science-ready intermediate product  "
   ]
  },
  {
   "cell_type": "markdown",
   "id": "a18aabdb",
   "metadata": {},
   "source": [
    "*Digital encoding (binary):*\n",
    "\n",
    "* circuit family #1 from [Cortese 2018](https://arxiv.org/abs/1803.01958)\n",
    "* to many features to simulate for PennyLane's implementation - Basis embedding ([Teamplates](https://docs.pennylane.ai/en/stable/introduction/templates.html))"
   ]
  },
  {
   "cell_type": "markdown",
   "id": "728a6fdf",
   "metadata": {},
   "source": [
    "#### Prerequisites"
   ]
  },
  {
   "cell_type": "code",
   "execution_count": 1,
   "id": "ad6cbc81",
   "metadata": {},
   "outputs": [],
   "source": [
    "import numpy as np\n",
    "import matplotlib.pyplot as plt\n",
    "import struct\n",
    "\n",
    "import qiskit\n",
    "from qiskit import *"
   ]
  },
  {
   "cell_type": "code",
   "execution_count": 2,
   "id": "253aa61f",
   "metadata": {},
   "outputs": [],
   "source": [
    "# float to binary \n",
    "def float_to_bin_real(num):\n",
    "    return format(struct.unpack('!I', struct.pack('!f', num))[0], '032b')\n",
    "def float_to_bin_imag(num):\n",
    "    return format(struct.unpack('!I', struct.pack('!f', num))[0], '032b')\n",
    "\n",
    "# binary to float\n",
    "def bin_to_float_real(binary):\n",
    "    return struct.unpack('!f',struct.pack('!I', int(binary, 2)))[0]\n",
    "def bin_to_float_imag(binary):\n",
    "    return struct.unpack('!f',struct.pack('!I', int(binary, 2)))[0]\n",
    "\n",
    "# reverse a string (for the measurement step readout)\n",
    "def reverse(string):\n",
    "    string = string[::-1]\n",
    "    return string"
   ]
  },
  {
   "cell_type": "markdown",
   "id": "d6af5b75",
   "metadata": {},
   "source": [
    "## 1. Data preparation (correlation step)"
   ]
  },
  {
   "cell_type": "markdown",
   "id": "f0eb0088",
   "metadata": {},
   "source": [
    "### 1.1 image initialization (spatial domain)"
   ]
  },
  {
   "cell_type": "code",
   "execution_count": 3,
   "id": "21863931",
   "metadata": {},
   "outputs": [
    {
     "name": "stdout",
     "output_type": "stream",
     "text": [
      "[[ 8.5281217e-03-4.1211052e-03j  9.1163591e-03-4.3895035e-03j\n",
      "   7.3536313e-03-6.2374109e-03j  7.8843534e-03+2.3263510e-02j\n",
      "   4.8486763e-03-2.3314536e-03j  1.4071392e-03-1.2335697e-02j\n",
      "   4.3414929e-03+4.6851924e-03j  9.9567940e+01+7.5203781e+01j\n",
      "   4.3096580e-03+6.3164928e-03j  3.7544670e-03+1.3052221e-02j]\n",
      " [ 7.7927583e-03+2.0291477e-02j  1.1277217e-02-4.3847864e-03j\n",
      "  -4.5368043e-03+2.5360975e-03j  2.0047489e-03+7.8407517e-03j\n",
      "  -3.9601228e-03+1.0440742e-02j  4.3326193e-03-2.2063479e-02j\n",
      "   9.1535700e-03+1.1612136e-02j -7.9397559e-03+6.5662214e-03j\n",
      "   1.3207512e-02-5.2267942e-04j -5.9969770e-03+3.5811338e-04j]\n",
      " [ 9.8798787e-03+3.3402147e-03j  8.3248001e-03-7.0324894e-03j\n",
      "  -1.1925634e-02-3.9729062e-03j -1.8844033e-04-1.7571053e-02j\n",
      "  -1.6112857e-02+9.5206527e-03j -2.0447848e-02+5.8112964e-03j\n",
      "   4.8359423e-03+5.5888309e-03j  1.5716300e-03-1.6197404e-02j\n",
      "  -4.3476992e-03+3.9870087e-05j -3.7378373e-03-5.4312074e-03j]\n",
      " [-2.9950855e-02-6.2172883e-03j -8.6678658e-03-5.2104467e-03j\n",
      "  -6.9063884e-05+6.3192053e-03j  1.0616997e-02-2.2504607e-03j\n",
      "   3.8611714e-03+7.3079899e-04j -1.3158931e-03-2.7960632e-03j\n",
      "   9.3126241e-03-3.5709240e-03j -4.6175607e-03+9.2938198e-03j\n",
      "   8.2663246e+01+3.8949062e+01j  5.1675178e-03+1.4786896e-02j]\n",
      " [ 7.5134293e+01+1.5905059e+01j -3.6166103e-03+1.3258226e-02j\n",
      "   6.7313886e-03-9.9000707e-03j  3.3117007e-03+3.9426829e-03j\n",
      "  -9.2788431e-04-1.8622620e-02j -4.1992627e-03+3.4270962e-03j\n",
      "  -2.3469764e-03+1.5560464e-02j  1.1673202e-03-4.4965260e-03j\n",
      "  -2.4631033e-03+1.2422195e-03j -1.5529100e-02-1.1537348e-02j]\n",
      " [ 5.0600301e-03-1.6419908e-02j -2.0275777e-03+1.1697676e-03j\n",
      "   1.0625551e-03+4.3510636e-03j  2.6437638e-03-1.0881243e-02j\n",
      "  -8.2060145e-03-8.7875994e-03j  1.1465154e-02+8.3499274e-04j\n",
      "   8.4218970e-03-4.5524715e-03j  1.5972465e-02+8.3652502e-03j\n",
      "  -1.1439008e-02+4.9962953e-04j  7.9192012e-04+7.5478051e-03j]\n",
      " [ 5.0291698e-03+5.7613910e-03j  3.1567265e-03-1.6133947e-02j\n",
      "   1.0946848e-02-4.1603227e-03j -2.4533747e-03-2.9711826e-03j\n",
      "   1.4618209e-02-9.9842912e-03j  1.9652450e-03-7.2493049e-04j\n",
      "  -1.9249860e-03-2.2633279e-04j  1.9561226e-02-4.5487381e-04j\n",
      "   4.2443024e-03+2.8221989e-02j  2.4295331e-03+8.0648838e-03j]\n",
      " [ 4.2380323e-04+6.1234669e-03j  5.3408619e+01+1.6963072e+01j\n",
      "   2.2617184e+01+6.6859657e+01j -2.9691202e-03-3.8639931e-03j\n",
      "   4.6839714e-03+1.4097313e-02j -1.3508820e-03+1.6078107e-03j\n",
      "   4.8390652e+01+8.3984184e+01j  9.3344692e-03-6.5021627e-03j\n",
      "  -2.6612782e-03-2.1974216e-03j -1.2262524e-02-2.3552310e-03j]\n",
      " [ 2.2056283e-02-2.8602744e-03j -5.7842904e-03-2.3625949e-03j\n",
      "  -6.3179042e-03+8.2151024e-03j -8.5978652e-04-3.3442464e-03j\n",
      "   9.6470633e+00+6.4187706e+01j -4.0955469e-03-1.1214399e-02j\n",
      "  -1.5885152e-02+3.3925476e-03j -1.2798493e-02-2.2675715e-02j\n",
      "   7.9294555e-03+2.1690235e-03j  1.1723601e-02+7.9039568e-03j]\n",
      " [-1.7196067e-02-1.5658187e-03j -5.9926854e-03-1.3074917e-02j\n",
      "  -7.7124252e-03-4.0009706e-03j -3.0142604e-03+1.8152369e-02j\n",
      "   2.5777859e-03-1.5547373e-02j -7.1030911e-03-1.5754273e-02j\n",
      "   8.7661631e-03+1.9234088e-03j  6.6954400e-03-1.2118368e-02j\n",
      "  -1.9412780e-02-2.0986728e-03j  8.6832588e-04-2.2790770e-03j]]\n"
     ]
    }
   ],
   "source": [
    "# image of the sky filled with double precision complex floats (single precision for reals/imaginaries)\n",
    "# few pixels are set to relatively large complex random values in random spots (image sources)\n",
    "# relatively small complex values are added (white noise from background radiations) \n",
    "\n",
    "n = 10 #number of antennas\n",
    "\n",
    "sky_image = np.zeros((n, n), dtype='complex64')\n",
    "mask = np.zeros((n, n), dtype='bool')\n",
    "stars = np.random.randint(1, 11) #random number of sources\n",
    "radius = 1 #np.random.randint(1, 3) #with random radius\n",
    "\n",
    "for i in range(0, stars):\n",
    "    index_i = np.random.randint(0, sky_image.shape[0]-radius)\n",
    "    index_j = np.random.randint(0, sky_image.shape[1]-radius)\n",
    "    for j in range(0, radius):\n",
    "        for k in range(0, radius):\n",
    "            sky_image[index_i+j][index_j+k] = complex(np.random.rand()*100, np.random.rand()*100)\n",
    "            mask[index_i+j][index_j+k] = True\n",
    "            \n",
    "sky_image.real += np.random.randn(n,n)/100\n",
    "sky_image.imag += np.random.randn(n,n)/100\n",
    "\n",
    "print(sky_image)"
   ]
  },
  {
   "cell_type": "code",
   "execution_count": 4,
   "id": "bd84db7e",
   "metadata": {},
   "outputs": [
    {
     "data": {
      "image/png": "[encoded data removed]",
      "text/plain": [
       "<Figure size 432x288 with 2 Axes>"
      ]
     },
     "metadata": {
      "needs_background": "light"
     },
     "output_type": "display_data"
    }
   ],
   "source": [
    "modulus = np.absolute(sky_image)\n",
    "plt.imshow(modulus, cmap='Reds') \n",
    "cbar = plt.colorbar()"
   ]
  },
  {
   "cell_type": "markdown",
   "id": "37d98bdc",
   "metadata": {},
   "source": [
    "### 1.2 Fourier transform (frequency domain)"
   ]
  },
  {
   "cell_type": "code",
   "execution_count": 5,
   "id": "77e72e60",
   "metadata": {},
   "outputs": [
    {
     "name": "stdout",
     "output_type": "stream",
     "text": [
      "[[ 391.47116  +362.01044j     26.433094  +62.458733j\n",
      "    39.3238   -190.47824j     97.01429   -76.05238j\n",
      "   -28.121805  -78.394875j    85.47888  +177.85106j\n",
      "   124.64247   -45.22381j     47.053333 +139.47754j\n",
      "  -151.68275   +31.367392j   119.84669  -223.92195j  ]\n",
      " [-196.46075   +23.04865j     44.46574   +59.511635j\n",
      "    -8.758356  +39.73131j     82.00489   -33.016636j\n",
      "   -25.97868   -80.71841j   -330.34583  -218.42194j\n",
      "   248.20683  -195.4821j      -2.4574573+188.40381j\n",
      "  -274.1504    -71.64658j    -50.74353  -281.19565j  ]\n",
      " [ -29.452484  -86.6j       -191.214    +158.13644j\n",
      "  -134.02133  -146.95923j    242.17026  +238.97308j\n",
      "    25.97709  +422.86133j   -162.22154  -146.82025j\n",
      "   120.26723   +49.042915j    45.139194  +56.65945j\n",
      "    58.102512 +143.13115j    106.63925   +74.768715j ]\n",
      " [ 411.22772   +93.867256j  -190.31544   +32.67573j\n",
      "    25.2376   -409.20792j     15.003268 -148.9976j\n",
      "   -25.931118  +64.86116j    105.66924   -21.432035j\n",
      "   -50.92776   -19.04073j     98.76406   -58.125847j\n",
      "  -168.00725   -63.42993j    162.4947   -136.95198j  ]\n",
      " [  35.004154 +220.66208j    -69.108025 +111.04285j\n",
      "    64.06218  +166.911j      -19.507868 -131.38004j\n",
      "  -143.17139    -8.29962j   -165.01492   -41.814003j\n",
      "    68.99044  -122.22628j     29.89127  +371.59912j\n",
      "  -375.5615   -100.82848j   -126.75641  -153.11867j  ]\n",
      " [ -22.662432  -51.474377j   -20.834194   -2.9047427j\n",
      "   -77.97333   +41.58587j    430.80957  +133.70193j\n",
      "     6.091179 +253.5127j    -114.94858  -167.88951j\n",
      "   289.89746  -181.11682j     60.056114 +189.0797j\n",
      "   180.55841   +17.133137j    21.142347  -72.57822j  ]\n",
      " [ 176.58392   +71.46701j   -223.77098    -9.330948j\n",
      "  -257.95615  -485.08322j     83.95153   +51.93485j\n",
      "   -98.70741   +87.155464j   -87.84649   +11.99611j\n",
      "   -18.319113  -40.110397j  -118.733406 -156.25174j\n",
      "   -58.510483  +81.42422j     89.13969  -183.90323j  ]\n",
      " [ 153.91199  +297.2353j      21.966402 +265.95282j\n",
      "   137.20673   -54.251133j   -92.7644    -23.557997j\n",
      "    36.943474  -12.701945j  -111.68711   +56.497456j\n",
      "   119.71734   +89.129776j   103.56622  +219.74226j\n",
      "  -407.5409    +62.793396j   118.98475  -136.60278j  ]\n",
      " [ -75.390594 -191.52048j    -53.947952  +35.007355j\n",
      "   106.80436   +58.376534j   220.10005   -71.823456j\n",
      "    40.36289  +166.24619j   -168.36926  -377.49792j\n",
      "   215.9417   -198.95125j    178.64716  +185.22484j\n",
      "   -95.977356 -166.78088j     15.004077 -103.44157j  ]\n",
      " [ 151.96216   +13.520947j  -366.5162     +1.9281567j\n",
      "  -257.71063  -214.6191j     188.51038   +83.64256j\n",
      "  -194.75218  +364.5617j     -46.321594  -24.719532j\n",
      "   -95.80237   -50.683212j   -78.11684   +58.08969j\n",
      "    45.530495  +43.36924j    -48.048386  +37.805466j ]]\n"
     ]
    }
   ],
   "source": [
    "visibilities = np.fft.fft2(sky_image).astype('complex64')\n",
    "print(visibilities)"
   ]
  },
  {
   "cell_type": "code",
   "execution_count": 6,
   "id": "3570e801",
   "metadata": {},
   "outputs": [
    {
     "data": {
      "image/png": "[encoded data removed]",
      "text/plain": [
       "<Figure size 432x288 with 2 Axes>"
      ]
     },
     "metadata": {
      "needs_background": "light"
     },
     "output_type": "display_data"
    }
   ],
   "source": [
    "modulus = np.absolute(visibilities)\n",
    "plt.imshow(modulus, cmap='Blues')\n",
    "plt.colorbar();"
   ]
  },
  {
   "cell_type": "markdown",
   "id": "54b17cf9",
   "metadata": {},
   "source": [
    "#### * Sanity check"
   ]
  },
  {
   "cell_type": "code",
   "execution_count": 7,
   "id": "6f6306ea",
   "metadata": {},
   "outputs": [
    {
     "name": "stdout",
     "output_type": "stream",
     "text": [
      "Reals MSE: 1.1772904e-13\n",
      "Imaginaries MSE: 1.749469e-13\n"
     ]
    }
   ],
   "source": [
    "img = np.fft.ifft2(visibilities).astype('complex64')\n",
    "\n",
    "test_real = ((sky_image.real - img.real)**2).mean()\n",
    "test_imag = ((sky_image.imag - img.imag)**2).mean()\n",
    " \n",
    "print('Reals MSE: '+ str(test_real))\n",
    "print('Imaginaries MSE: '+ str(test_imag))"
   ]
  },
  {
   "cell_type": "markdown",
   "id": "56a9e4a5",
   "metadata": {},
   "source": [
    "## 2. Data embedding (calibration step)"
   ]
  },
  {
   "cell_type": "markdown",
   "id": "0acdaf8f",
   "metadata": {},
   "source": [
    "### 2.1 data pre-processing\n",
    "### 2.2 data encoding"
   ]
  },
  {
   "cell_type": "code",
   "execution_count": 8,
   "id": "ce856250",
   "metadata": {},
   "outputs": [],
   "source": [
    "# encoding binary data onto qubits\n",
    "def binary_encode(qc, binary, off_set):\n",
    "    \n",
    "    for i in range(0, len(binary)):\n",
    "        qc.reset(off_set+i) # set quantum state |0> by default for all qubits\n",
    "\n",
    "        if binary[i]=='1':\n",
    "            qc.x(off_set+i) # act as a CX (controlled X gate)\n",
    "    \n",
    "    off_set += len(binary)\n",
    "\n",
    "    return off_set"
   ]
  },
  {
   "cell_type": "code",
   "execution_count": 9,
   "id": "8f61f4e5",
   "metadata": {},
   "outputs": [],
   "source": [
    "number_of_entries = visibilities.shape[0] * visibilities.shape[1]\n",
    "number_of_bits_real = 32\n",
    "number_of_bits_imag = 32\n",
    "number_of_bits = number_of_bits_real + number_of_bits_imag\n",
    "off_set = 0\n",
    "\n",
    "# encoding (n bits encoded onto n qubits)\n",
    "qc = QuantumCircuit(number_of_entries*number_of_bits)\n",
    "for i in range(0, visibilities.shape[0]):\n",
    "    for j in range(0, visibilities.shape[1]):\n",
    "            binary_real = float_to_bin_real(visibilities[i, j].real)\n",
    "            binary_imag = float_to_bin_imag(visibilities[i, j].imag)\n",
    "            binary = binary_real+binary_imag\n",
    "            off_set = binary_encode(qc, binary, off_set)"
   ]
  },
  {
   "cell_type": "markdown",
   "id": "2730c66b",
   "metadata": {},
   "source": [
    "## 3. Data reading"
   ]
  },
  {
   "cell_type": "markdown",
   "id": "89f96975",
   "metadata": {},
   "source": [
    "### 3.1 readout"
   ]
  },
  {
   "cell_type": "code",
   "execution_count": 10,
   "id": "d4b2d35f",
   "metadata": {},
   "outputs": [
    {
     "name": "stdout",
     "output_type": "stream",
     "text": [
      "[[ 391.47116  +362.01044j     26.433094  +62.458733j\n",
      "    39.3238   -190.47824j     97.01429   -76.05238j\n",
      "   -28.121805  -78.394875j    85.47888  +177.85106j\n",
      "   124.64247   -45.22381j     47.053333 +139.47754j\n",
      "  -151.68275   +31.367392j   119.84669  -223.92195j  ]\n",
      " [-196.46075   +23.04865j     44.46574   +59.511635j\n",
      "    -8.758356  +39.73131j     82.00489   -33.016636j\n",
      "   -25.97868   -80.71841j   -330.34583  -218.42194j\n",
      "   248.20683  -195.4821j      -2.4574573+188.40381j\n",
      "  -274.1504    -71.64658j    -50.74353  -281.19565j  ]\n",
      " [ -29.452484  -86.6j       -191.214    +158.13644j\n",
      "  -134.02133  -146.95923j    242.17026  +238.97308j\n",
      "    25.97709  +422.86133j   -162.22154  -146.82025j\n",
      "   120.26723   +49.042915j    45.139194  +56.65945j\n",
      "    58.102512 +143.13115j    106.63925   +74.768715j ]\n",
      " [ 411.22772   +93.867256j  -190.31544   +32.67573j\n",
      "    25.2376   -409.20792j     15.003268 -148.9976j\n",
      "   -25.931118  +64.86116j    105.66924   -21.432035j\n",
      "   -50.92776   -19.04073j     98.76406   -58.125847j\n",
      "  -168.00725   -63.42993j    162.4947   -136.95198j  ]\n",
      " [  35.004154 +220.66208j    -69.108025 +111.04285j\n",
      "    64.06218  +166.911j      -19.507868 -131.38004j\n",
      "  -143.17139    -8.29962j   -165.01492   -41.814003j\n",
      "    68.99044  -122.22628j     29.89127  +371.59912j\n",
      "  -375.5615   -100.82848j   -126.75641  -153.11867j  ]\n",
      " [ -22.662432  -51.474377j   -20.834194   -2.9047427j\n",
      "   -77.97333   +41.58587j    430.80957  +133.70193j\n",
      "     6.091179 +253.5127j    -114.94858  -167.88951j\n",
      "   289.89746  -181.11682j     60.056114 +189.0797j\n",
      "   180.55841   +17.133137j    21.142347  -72.57822j  ]\n",
      " [ 176.58392   +71.46701j   -223.77098    -9.330948j\n",
      "  -257.95615  -485.08322j     83.95153   +51.93485j\n",
      "   -98.70741   +87.155464j   -87.84649   +11.99611j\n",
      "   -18.319113  -40.110397j  -118.733406 -156.25174j\n",
      "   -58.510483  +81.42422j     89.13969  -183.90323j  ]\n",
      " [ 153.91199  +297.2353j      21.966402 +265.95282j\n",
      "   137.20673   -54.251133j   -92.7644    -23.557997j\n",
      "    36.943474  -12.701945j  -111.68711   +56.497456j\n",
      "   119.71734   +89.129776j   103.56622  +219.74226j\n",
      "  -407.5409    +62.793396j   118.98475  -136.60278j  ]\n",
      " [ -75.390594 -191.52048j    -53.947952  +35.007355j\n",
      "   106.80436   +58.376534j   220.10005   -71.823456j\n",
      "    40.36289  +166.24619j   -168.36926  -377.49792j\n",
      "   215.9417   -198.95125j    178.64716  +185.22484j\n",
      "   -95.977356 -166.78088j     15.004077 -103.44157j  ]\n",
      " [ 151.96216   +13.520947j  -366.5162     +1.9281567j\n",
      "  -257.71063  -214.6191j     188.51038   +83.64256j\n",
      "  -194.75218  +364.5617j     -46.321594  -24.719532j\n",
      "   -95.80237   -50.683212j   -78.11684   +58.08969j\n",
      "    45.530495  +43.36924j    -48.048386  +37.805466j ]]\n"
     ]
    }
   ],
   "source": [
    "# measurement\n",
    "qc.measure_all()\n",
    "backend = Aer.get_backend('aer_simulator') # Qiskit's staple simulator (CHOICE MOTIVATION?)\n",
    "job = backend.run(qc, shots=1, memory=True) \n",
    "output = job.result().get_memory()[0]\n",
    "out = reverse(output)\n",
    "\n",
    "# readout\n",
    "chunks_real = []\n",
    "chunks_imag = []\n",
    "for i in range(0, number_of_entries):\n",
    "    chunks_real.append(out[number_of_bits*i:(number_of_bits*i)+number_of_bits_real]) # real parts represented every 64 bits starting from the first one\n",
    "    chunks_imag.append(out[(number_of_bits*i)+number_of_bits_imag:(number_of_bits*i)+number_of_bits_imag+number_of_bits_imag]) # imaginary parts represented every 64 bits starting after the first occurence of a real part \n",
    "\n",
    "readout = []\n",
    "for i in range(0, len(chunks_real)):\n",
    "    readout.append(complex(bin_to_float_real(chunks_real[i]), bin_to_float_imag(chunks_imag[i]))) \n",
    "\n",
    "readout = np.array(readout).reshape(n , n).astype('complex64')\n",
    "print(readout)"
   ]
  },
  {
   "cell_type": "markdown",
   "id": "2f5fd4fd",
   "metadata": {},
   "source": [
    "### 3.2 inverse Fourier transform (spatial domain)"
   ]
  },
  {
   "cell_type": "code",
   "execution_count": 11,
   "id": "6aa9775a",
   "metadata": {},
   "outputs": [],
   "source": [
    "img = np.fft.ifft2(readout).astype('complex64')"
   ]
  },
  {
   "cell_type": "markdown",
   "id": "d1d05afe",
   "metadata": {},
   "source": [
    "#### fidelity test"
   ]
  },
  {
   "cell_type": "code",
   "execution_count": 12,
   "id": "ea5b9246",
   "metadata": {},
   "outputs": [
    {
     "name": "stdout",
     "output_type": "stream",
     "text": [
      "Reals MSE: 1.1772904e-13\n",
      "Imaginaries MSE: 1.749469e-13\n"
     ]
    }
   ],
   "source": [
    "test_real = ((sky_image.real - img.real)**2).mean()\n",
    "test_imag = ((sky_image.imag - img.imag)**2).mean()\n",
    "\n",
    "print('Reals MSE: '+ str(test_real))\n",
    "print('Imaginaries MSE: '+ str(test_imag))"
   ]
  },
  {
   "cell_type": "code",
   "execution_count": 13,
   "id": "16cce23f",
   "metadata": {},
   "outputs": [
    {
     "data": {
      "image/png": "[encoded data removed]",
      "text/plain": [
       "<Figure size 1080x360 with 2 Axes>"
      ]
     },
     "metadata": {
      "needs_background": "light"
     },
     "output_type": "display_data"
    }
   ],
   "source": [
    "fig, axs = plt.subplots(1, 2, figsize=(15,5))\n",
    "modulus1 = np.absolute(sky_image)\n",
    "modulus2 = np.absolute(img)\n",
    "\n",
    "axs[0].imshow(modulus1, cmap='Reds')\n",
    "axs[1].imshow(modulus2, cmap='Reds')\n",
    "\n",
    "axs[0].set_title(\"Original image\")\n",
    "axs[1].set_title(\"Reconstructed image\")\n",
    "\n",
    "for ax in axs.flat:\n",
    "    ax.set(xlabel=n, ylabel=n)"
   ]
  },
  {
   "cell_type": "code",
   "execution_count": null,
   "id": "6e7a063f",
   "metadata": {},
   "outputs": [],
   "source": []
  }
 ],
 "metadata": {
  "kernelspec": {
   "display_name": "Python 3",
   "language": "python",
   "name": "python3"
  },
  "language_info": {
   "codemirror_mode": {
    "name": "ipython",
    "version": 3
   },
   "file_extension": ".py",
   "mimetype": "text/x-python",
   "name": "python",
   "nbconvert_exporter": "python",
   "pygments_lexer": "ipython3",
   "version": "3.8.8"
  }
 },
 "nbformat": 4,
 "nbformat_minor": 5
}
