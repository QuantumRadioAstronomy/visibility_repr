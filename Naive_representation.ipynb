{
 "cells": [
  {
   "cell_type": "markdown",
   "id": "f73ca049",
   "metadata": {},
   "source": [
    "# Efficiently representing radio astronomy data in qbits"
   ]
  },
  {
   "cell_type": "markdown",
   "id": "9341e0ff",
   "metadata": {},
   "source": [
    "## Creating Antenna Fields"
   ]
  },
  {
   "cell_type": "code",
   "execution_count": 173,
   "id": "70df685f",
   "metadata": {},
   "outputs": [],
   "source": [
    "import numpy as np"
   ]
  },
  {
   "cell_type": "code",
   "execution_count": 174,
   "id": "85e84fab",
   "metadata": {},
   "outputs": [],
   "source": [
    "class Antenna:\n",
    "    #half-square complex values / other half conjugates\n",
    "    def __init__(self, x, y):\n",
    "        self.x = x\n",
    "        self.y = y\n",
    "        \n",
    "    def get_complex_value(self):\n",
    "        return complex(self.x, self.y)\n",
    "        \n",
    "    def __repr__(self):\n",
    "        return str(complex(self.x, self.y))\n",
    "  "
   ]
  },
  {
   "cell_type": "code",
   "execution_count": 175,
   "id": "023ba824",
   "metadata": {},
   "outputs": [
    {
     "name": "stdout",
     "output_type": "stream",
     "text": [
      "[(0.4060549702881697+0.25142779511850144j), (0.7641309880413082+0.1611412362519723j)]\n"
     ]
    }
   ],
   "source": [
    "antennas = []\n",
    "n = 2\n",
    "for i in range(0, n):\n",
    "    antennas.append(Antenna(np.random.rand(), np.random.rand()))\n",
    "                    \n",
    "print(antennas)"
   ]
  },
  {
   "cell_type": "code",
   "execution_count": 176,
   "id": "7a955e1a",
   "metadata": {},
   "outputs": [
    {
     "name": "stdout",
     "output_type": "stream",
     "text": [
      "[[[0.16488064 0.10209351 0.10209351 0.06321594]\n",
      "  [0.         0.         0.         0.        ]]\n",
      "\n",
      " [[0.31027919 0.19212377 0.0654322  0.04051539]\n",
      "  [0.58389617 0.12313301 0.12313301 0.0259665 ]]]\n"
     ]
    }
   ],
   "source": [
    "visibilities = np.zeros((n, n , 4)) #only looking at antennas inner loops\n",
    "XX = 0\n",
    "XY = 1\n",
    "YX = 2\n",
    "YY = 3\n",
    "\n",
    "for i in range(0, len(antennas)):\n",
    "    for j in range(0, i+1):\n",
    "        visibilities[i][j][XX] = antennas[i].x * antennas[j].x\n",
    "        #visibilities[j][i][XX] = np.conj(visibilities[i][j][XX])\n",
    "        visibilities[i][j][XY] = antennas[i].x * antennas[j].y\n",
    "        #visibilities[j][i][XY] = np.conj(visibilities[i][j][XY])\n",
    "        visibilities[i][j][YX] = antennas[i].y * antennas[j].x\n",
    "        #visibilities[j][i][YX] = np.conj(visibilities[i][j][YX])\n",
    "        visibilities[i][j][YY] = antennas[i].y * antennas[j].y\n",
    "        #visibilities[j][i][YY] = np.conj(visibilities[i][j][YY])\n",
    "\n",
    "print(visibilities)"
   ]
  },
  {
   "cell_type": "code",
   "execution_count": 177,
   "id": "fda5b0e7",
   "metadata": {},
   "outputs": [
    {
     "name": "stdout",
     "output_type": "stream",
     "text": [
      "[0.164880633354187, 0.10209350287914276, 0.10209350287914276, 0.06321593374013901, 0.3102791905403137, 0.19212377071380615, 0.06543219834566116, 0.04051538556814194, 0.5838961601257324, 0.12313301116228104, 0.12313301116228104, 0.025966497138142586]\n"
     ]
    }
   ],
   "source": [
    "zeros_amount = ((visibilities.shape[0] * visibilities.shape[1] * visibilities.shape[2]) - (visibilities.shape[0] * visibilities.shape[2])) / 2\n",
    "nonzero_values = int((visibilities.shape[0] * visibilities.shape[1] * visibilities.shape[2]) - zeros_amount)\n",
    "number_of_bits = 32\n",
    "off_set = 0\n",
    "qc = QuantumCircuit(nonzero_values*number_of_bits)\n",
    "for i in range(0, visibilities.shape[0]):\n",
    "    for j in range(0, i+1):\n",
    "        for k in range(0, visibilities.shape[2]):\n",
    "            binary = float_to_bin(visibilities[i, j, k])\n",
    "            off_set = encoding2(qc, binary, off_set)\n",
    "            \n",
    "qc.measure_all()\n",
    "#qc.draw('mpl')\n",
    "\n",
    "backend = Aer.get_backend('aer_simulator')\n",
    "job = backend.run(qc, shots=1, memory=True)\n",
    "output = job.result().get_memory()[0]\n",
    "out = reverse(output)\n",
    "\n",
    "chunks = []\n",
    "for i in range(0, nonzero_values):\n",
    "    chunks.append(out[number_of_bits*i:number_of_bits+(number_of_bits*i)])\n",
    "readout = []\n",
    "for i in range(0, len(chunks)):\n",
    "    readout.append(bin_to_float(chunks[i]))\n",
    "print(readout)    "
   ]
  },
  {
   "cell_type": "markdown",
   "id": "945b4b2a",
   "metadata": {},
   "source": [
    "## Naive representations"
   ]
  },
  {
   "cell_type": "code",
   "execution_count": 178,
   "id": "d7b1ddd0",
   "metadata": {},
   "outputs": [],
   "source": [
    "import qiskit\n",
    "from qiskit import *\n",
    "from qiskit.visualization import plot_histogram\n",
    "import numpy as np"
   ]
  },
  {
   "cell_type": "markdown",
   "id": "b27a7659",
   "metadata": {},
   "source": [
    "### Circuit family #1"
   ]
  },
  {
   "cell_type": "code",
   "execution_count": 179,
   "id": "a2da4b77",
   "metadata": {},
   "outputs": [],
   "source": [
    "def encoding2(qc, binary, off_set):\n",
    "    \n",
    "    for i in range(0, len(binary)):\n",
    "        qc.reset(off_set+i)\n",
    "\n",
    "        if binary[i]=='1':\n",
    "            qc.x(off_set+i)\n",
    "    \n",
    "    off_set += len(binary)\n",
    "    \n",
    "    \"\"\"\n",
    "    qc.barrier()\n",
    "    qc.measure_all()\n",
    "    qc.draw('mpl')\n",
    "\n",
    "    backend = Aer.get_backend('aer_simulator')\n",
    "    job = backend.run(qc, shots=1, memory=True)\n",
    "    output = job.result().get_memory()[0]\n",
    "    \"\"\"\n",
    "    return off_set"
   ]
  },
  {
   "cell_type": "markdown",
   "id": "e58b4b48",
   "metadata": {},
   "source": [
    "## Utils"
   ]
  },
  {
   "cell_type": "code",
   "execution_count": 181,
   "id": "dfffce06",
   "metadata": {},
   "outputs": [],
   "source": [
    "#float to binary / binary to float\n",
    "import struct\n",
    "\n",
    "def float_to_bin(num):\n",
    "    return format(struct.unpack('!I', struct.pack('!f', num))[0], '032b')\n",
    "\n",
    "def bin_to_float(binary):\n",
    "    return struct.unpack('!f',struct.pack('!I', int(binary, 2)))[0]"
   ]
  },
  {
   "cell_type": "code",
   "execution_count": 182,
   "id": "5f5b7358",
   "metadata": {},
   "outputs": [],
   "source": [
    "def reverse(string):\n",
    "    string = string[::-1]\n",
    "    return string"
   ]
  },
  {
   "cell_type": "code",
   "execution_count": null,
   "id": "193dbb2e",
   "metadata": {},
   "outputs": [],
   "source": []
  }
 ],
 "metadata": {
  "kernelspec": {
   "display_name": "Python 3",
   "language": "python",
   "name": "python3"
  },
  "language_info": {
   "codemirror_mode": {
    "name": "ipython",
    "version": 3
   },
   "file_extension": ".py",
   "mimetype": "text/x-python",
   "name": "python",
   "nbconvert_exporter": "python",
   "pygments_lexer": "ipython3",
   "version": "3.8.8"
  }
 },
 "nbformat": 4,
 "nbformat_minor": 5
}
