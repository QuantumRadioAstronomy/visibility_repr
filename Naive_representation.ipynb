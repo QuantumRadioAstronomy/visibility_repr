{
 "cells": [
  {
   "cell_type": "markdown",
   "id": "f73ca049",
   "metadata": {},
   "source": [
    "# Efficiently representing radio astronomy data in qbits"
   ]
  },
  {
   "cell_type": "markdown",
   "id": "9341e0ff",
   "metadata": {},
   "source": [
    "## Creating Antenna Fields"
   ]
  },
  {
   "cell_type": "code",
   "execution_count": 72,
   "id": "70df685f",
   "metadata": {},
   "outputs": [],
   "source": [
    "import numpy as np"
   ]
  },
  {
   "cell_type": "code",
   "execution_count": 80,
   "id": "85e84fab",
   "metadata": {},
   "outputs": [],
   "source": [
    "class Antenna:\n",
    "    #complex values + conjuguate\n",
    "    def __init__(self, x, y):\n",
    "        self.x = float(x)\n",
    "        self.y = float(y)\n",
    "        \n",
    "    def __str__(self):\n",
    "        return str(self.x) + ' + ' 'i' + str(self.y)\n",
    "        \n",
    "    def __repr__(self):\n",
    "        return str(self.x) + ' + ' 'i' + str(self.y)"
   ]
  },
  {
   "cell_type": "code",
   "execution_count": 81,
   "id": "023ba824",
   "metadata": {},
   "outputs": [
    {
     "name": "stdout",
     "output_type": "stream",
     "text": [
      "[0.4442244743428767 + i0.5963021662564955, 0.8696723866087108 + i0.03331905129731583, 0.002268543522779054 + i0.04810386758602503, 0.16825535857465412 + i0.6101183107067113, 0.5871773513159367 + i0.6466223719557734, 0.03237334336541253 + i0.9793791117604268, 0.3786484978953435 + i0.3461360703966949, 0.890896609450728 + i0.8165423037548988, 0.650134430634558 + i0.1259110438085873, 0.8171562181162236 + i0.23762505360587083]\n"
     ]
    }
   ],
   "source": [
    "antennas = []\n",
    "n = 10\n",
    "for i in range(0, n):\n",
    "    antennas.append(Antenna(np.random.rand(), np.random.rand()))\n",
    "    \n",
    "print(antennas)"
   ]
  },
  {
   "cell_type": "code",
   "execution_count": 83,
   "id": "7f87a34d",
   "metadata": {},
   "outputs": [
    {
     "name": "stdout",
     "output_type": "stream",
     "text": [
      "[[[0.         0.         0.         0.        ]\n",
      "  [0.01986822 0.         0.         0.        ]\n",
      "  [0.02868444 0.         0.         0.        ]\n",
      "  [0.36381487 0.         0.         0.        ]\n",
      "  [0.38558232 0.         0.         0.        ]\n",
      "  [0.58400589 0.         0.         0.        ]\n",
      "  [0.20640169 0.         0.         0.        ]\n",
      "  [0.48690594 0.         0.         0.        ]\n",
      "  [0.07508103 0.         0.         0.        ]\n",
      "  [0.14169633 0.         0.         0.        ]]\n",
      "\n",
      " [[0.01986822 0.         0.         0.        ]\n",
      "  [0.         0.         0.         0.        ]\n",
      "  [0.00160278 0.         0.         0.        ]\n",
      "  [0.02032856 0.         0.         0.        ]\n",
      "  [0.02154484 0.         0.         0.        ]\n",
      "  [0.03263198 0.         0.         0.        ]\n",
      "  [0.01153293 0.         0.         0.        ]\n",
      "  [0.02720641 0.         0.         0.        ]\n",
      "  [0.00419524 0.         0.         0.        ]\n",
      "  [0.00791744 0.         0.         0.        ]]\n",
      "\n",
      " [[0.02868444 0.         0.         0.        ]\n",
      "  [0.00160278 0.         0.         0.        ]\n",
      "  [0.         0.         0.         0.        ]\n",
      "  [0.02934905 0.         0.         0.        ]\n",
      "  [0.03110504 0.         0.         0.        ]\n",
      "  [0.04711192 0.         0.         0.        ]\n",
      "  [0.01665048 0.         0.         0.        ]\n",
      "  [0.03927884 0.         0.         0.        ]\n",
      "  [0.00605681 0.         0.         0.        ]\n",
      "  [0.01143068 0.         0.         0.        ]]\n",
      "\n",
      " [[0.36381487 0.         0.         0.        ]\n",
      "  [0.02032856 0.         0.         0.        ]\n",
      "  [0.02934905 0.         0.         0.        ]\n",
      "  [0.         0.         0.         0.        ]\n",
      "  [0.39451615 0.         0.         0.        ]\n",
      "  [0.59753713 0.         0.         0.        ]\n",
      "  [0.21118395 0.         0.         0.        ]\n",
      "  [0.49818741 0.         0.         0.        ]\n",
      "  [0.07682063 0.         0.         0.        ]\n",
      "  [0.1449794  0.         0.         0.        ]]\n",
      "\n",
      " [[0.38558232 0.         0.         0.        ]\n",
      "  [0.02154484 0.         0.         0.        ]\n",
      "  [0.03110504 0.         0.         0.        ]\n",
      "  [0.39451615 0.         0.         0.        ]\n",
      "  [0.         0.         0.         0.        ]\n",
      "  [0.63328844 0.         0.         0.        ]\n",
      "  [0.22381933 0.         0.         0.        ]\n",
      "  [0.52799452 0.         0.         0.        ]\n",
      "  [0.0814169  0.         0.         0.        ]\n",
      "  [0.15365368 0.         0.         0.        ]]\n",
      "\n",
      " [[0.58400589 0.         0.         0.        ]\n",
      "  [0.03263198 0.         0.         0.        ]\n",
      "  [0.04711192 0.         0.         0.        ]\n",
      "  [0.59753713 0.         0.         0.        ]\n",
      "  [0.63328844 0.         0.         0.        ]\n",
      "  [0.         0.         0.         0.        ]\n",
      "  [0.33899844 0.         0.         0.        ]\n",
      "  [0.79970448 0.         0.         0.        ]\n",
      "  [0.12331465 0.         0.         0.        ]\n",
      "  [0.23272501 0.         0.         0.        ]]\n",
      "\n",
      " [[0.20640169 0.         0.         0.        ]\n",
      "  [0.01153293 0.         0.         0.        ]\n",
      "  [0.01665048 0.         0.         0.        ]\n",
      "  [0.21118395 0.         0.         0.        ]\n",
      "  [0.22381933 0.         0.         0.        ]\n",
      "  [0.33899844 0.         0.         0.        ]\n",
      "  [0.         0.         0.         0.        ]\n",
      "  [0.28263474 0.         0.         0.        ]\n",
      "  [0.04358235 0.         0.         0.        ]\n",
      "  [0.0822506  0.         0.         0.        ]]\n",
      "\n",
      " [[0.48690594 0.         0.         0.        ]\n",
      "  [0.02720641 0.         0.         0.        ]\n",
      "  [0.03927884 0.         0.         0.        ]\n",
      "  [0.49818741 0.         0.         0.        ]\n",
      "  [0.52799452 0.         0.         0.        ]\n",
      "  [0.79970448 0.         0.         0.        ]\n",
      "  [0.28263474 0.         0.         0.        ]\n",
      "  [0.         0.         0.         0.        ]\n",
      "  [0.10281169 0.         0.         0.        ]\n",
      "  [0.19403091 0.         0.         0.        ]]\n",
      "\n",
      " [[0.07508103 0.         0.         0.        ]\n",
      "  [0.00419524 0.         0.         0.        ]\n",
      "  [0.00605681 0.         0.         0.        ]\n",
      "  [0.07682063 0.         0.         0.        ]\n",
      "  [0.0814169  0.         0.         0.        ]\n",
      "  [0.12331465 0.         0.         0.        ]\n",
      "  [0.04358235 0.         0.         0.        ]\n",
      "  [0.10281169 0.         0.         0.        ]\n",
      "  [0.         0.         0.         0.        ]\n",
      "  [0.02991962 0.         0.         0.        ]]\n",
      "\n",
      " [[0.14169633 0.         0.         0.        ]\n",
      "  [0.00791744 0.         0.         0.        ]\n",
      "  [0.01143068 0.         0.         0.        ]\n",
      "  [0.1449794  0.         0.         0.        ]\n",
      "  [0.15365368 0.         0.         0.        ]\n",
      "  [0.23272501 0.         0.         0.        ]\n",
      "  [0.0822506  0.         0.         0.        ]\n",
      "  [0.19403091 0.         0.         0.        ]\n",
      "  [0.02991962 0.         0.         0.        ]\n",
      "  [0.         0.         0.         0.        ]]]\n"
     ]
    }
   ],
   "source": [
    "matrix_form = np.zeros((n, n, 4)) \n",
    "XX = 0\n",
    "XY = 0\n",
    "YX = 0\n",
    "YY = 0\n",
    "\n",
    "for i in range(0, len(antennas)):\n",
    "    for j in range(0, i):\n",
    "        matrix_form[i][j][XX] = antennas[i].x * antennas[j].x\n",
    "        matrix_form[j][i][XX] = antennas[i].x * antennas[j].x\n",
    "        matrix_form[i][j][XY] = antennas[i].x * antennas[j].y\n",
    "        matrix_form[j][i][XY] = antennas[i].x * antennas[j].y\n",
    "        matrix_form[i][j][YX] = antennas[i].y * antennas[j].x\n",
    "        matrix_form[j][i][YX] = antennas[i].y * antennas[j].x\n",
    "        matrix_form[i][j][YY] = antennas[i].y * antennas[j].y\n",
    "        matrix_form[j][i][YY] = antennas[i].y * antennas[j].y\n",
    "     \n",
    "print(matrix_form)"
   ]
  },
  {
   "cell_type": "markdown",
   "id": "945b4b2a",
   "metadata": {},
   "source": [
    "## Naive representations"
   ]
  },
  {
   "cell_type": "code",
   "execution_count": 76,
   "id": "d7b1ddd0",
   "metadata": {},
   "outputs": [],
   "source": [
    "from qiskit import *\n",
    "from qiskit.visualization import plot_histogram\n",
    "import numpy as np"
   ]
  },
  {
   "cell_type": "markdown",
   "id": "b27a7659",
   "metadata": {},
   "source": [
    "### Circuit family #1"
   ]
  },
  {
   "cell_type": "code",
   "execution_count": 77,
   "id": "80d46660",
   "metadata": {},
   "outputs": [],
   "source": [
    "def encoding(inp):\n",
    "    \n",
    "    qc = QuantumCircuit(1, 1) \n",
    "    qc.reset(0)\n",
    "    \n",
    "    if inp=='1':\n",
    "        qc.x(0)\n",
    "    \n",
    "    qc.draw('mpl')\n",
    "        \n",
    "    return qc "
   ]
  },
  {
   "cell_type": "code",
   "execution_count": 78,
   "id": "2583ff90",
   "metadata": {},
   "outputs": [
    {
     "data": {
      "image/png": "[encoded data removed]",
      "text/plain": [
       "<Figure size 133.526x144.48 with 1 Axes>"
      ]
     },
     "metadata": {},
     "output_type": "display_data"
    },
    {
     "name": "stdout",
     "output_type": "stream",
     "text": [
      "\n",
      "\n"
     ]
    },
    {
     "data": {
      "image/png": "[encoded data removed]",
      "text/plain": [
       "<Figure size 193.726x144.48 with 1 Axes>"
      ]
     },
     "metadata": {},
     "output_type": "display_data"
    },
    {
     "name": "stdout",
     "output_type": "stream",
     "text": [
      "\n",
      "\n"
     ]
    }
   ],
   "source": [
    "#testing\n",
    "for inp in ['0', '1']:\n",
    "    qc = encoding(inp)\n",
    "    display(qc.draw(output='mpl'))\n",
    "    print('\\n')"
   ]
  },
  {
   "cell_type": "code",
   "execution_count": 71,
   "id": "84d924ad",
   "metadata": {},
   "outputs": [
    {
     "ename": "TypeError",
     "evalue": "object of type 'numpy.float64' has no len()",
     "output_type": "error",
     "traceback": [
      "\u001b[1;31m---------------------------------------------------------------------------\u001b[0m",
      "\u001b[1;31mTypeError\u001b[0m                                 Traceback (most recent call last)",
      "\u001b[1;32m<ipython-input-71-73c0802a9c51>\u001b[0m in \u001b[0;36m<module>\u001b[1;34m\u001b[0m\n\u001b[0;32m      2\u001b[0m     \u001b[1;32mfor\u001b[0m \u001b[0mj\u001b[0m \u001b[1;32min\u001b[0m \u001b[0mrange\u001b[0m\u001b[1;33m(\u001b[0m\u001b[1;36m0\u001b[0m\u001b[1;33m,\u001b[0m \u001b[0mlen\u001b[0m\u001b[1;33m(\u001b[0m\u001b[0mmatrix_form\u001b[0m\u001b[1;33m[\u001b[0m\u001b[1;36m1\u001b[0m\u001b[1;33m]\u001b[0m\u001b[1;33m)\u001b[0m\u001b[1;33m)\u001b[0m\u001b[1;33m:\u001b[0m\u001b[1;33m\u001b[0m\u001b[1;33m\u001b[0m\u001b[0m\n\u001b[0;32m      3\u001b[0m         \u001b[1;32mfor\u001b[0m \u001b[0mk\u001b[0m \u001b[1;32min\u001b[0m \u001b[0mrange\u001b[0m\u001b[1;33m(\u001b[0m\u001b[1;36m0\u001b[0m\u001b[1;33m,\u001b[0m \u001b[0mlen\u001b[0m\u001b[1;33m(\u001b[0m\u001b[0mmatrix_form\u001b[0m\u001b[1;33m[\u001b[0m\u001b[1;36m2\u001b[0m\u001b[1;33m]\u001b[0m\u001b[1;33m)\u001b[0m\u001b[1;33m)\u001b[0m\u001b[1;33m:\u001b[0m\u001b[1;33m\u001b[0m\u001b[1;33m\u001b[0m\u001b[0m\n\u001b[1;32m----> 4\u001b[1;33m             \u001b[1;32mfor\u001b[0m \u001b[0ml\u001b[0m \u001b[1;32min\u001b[0m \u001b[0mrange\u001b[0m\u001b[1;33m(\u001b[0m\u001b[1;36m0\u001b[0m\u001b[1;33m,\u001b[0m \u001b[0mlen\u001b[0m\u001b[1;33m(\u001b[0m\u001b[0mmatrix_form\u001b[0m\u001b[1;33m[\u001b[0m\u001b[0mi\u001b[0m\u001b[1;33m]\u001b[0m\u001b[1;33m[\u001b[0m\u001b[0mj\u001b[0m\u001b[1;33m]\u001b[0m\u001b[1;33m[\u001b[0m\u001b[0mk\u001b[0m\u001b[1;33m]\u001b[0m\u001b[1;33m)\u001b[0m\u001b[1;33m)\u001b[0m\u001b[1;33m:\u001b[0m \u001b[1;31m#pb\u001b[0m\u001b[1;33m\u001b[0m\u001b[1;33m\u001b[0m\u001b[0m\n\u001b[0m\u001b[0;32m      5\u001b[0m                 \u001b[0mprint\u001b[0m\u001b[1;33m(\u001b[0m\u001b[0mfloat_to_bin\u001b[0m\u001b[1;33m(\u001b[0m\u001b[0mmatrix_form\u001b[0m\u001b[1;33m[\u001b[0m\u001b[0mi\u001b[0m\u001b[1;33m]\u001b[0m\u001b[1;33m[\u001b[0m\u001b[0mj\u001b[0m\u001b[1;33m]\u001b[0m\u001b[1;33m[\u001b[0m\u001b[0mk\u001b[0m\u001b[1;33m]\u001b[0m\u001b[1;33m[\u001b[0m\u001b[0ml\u001b[0m\u001b[1;33m]\u001b[0m\u001b[1;33m)\u001b[0m\u001b[1;33m)\u001b[0m\u001b[1;33m\u001b[0m\u001b[1;33m\u001b[0m\u001b[0m\n",
      "\u001b[1;31mTypeError\u001b[0m: object of type 'numpy.float64' has no len()"
     ]
    }
   ],
   "source": [
    "for i in range(0, len(matrix_form[0])):\n",
    "    for j in range(0, len(matrix_form[1])):\n",
    "        for k in range(0, len(matrix_form[2])):\n",
    "            for l in range(0, len(matrix_form[i][j][k])): #pb\n",
    "                print(float_to_bin(matrix_form[i][j][k][l]))"
   ]
  },
  {
   "cell_type": "markdown",
   "id": "e58b4b48",
   "metadata": {},
   "source": [
    "## Utils"
   ]
  },
  {
   "cell_type": "code",
   "execution_count": 79,
   "id": "dfffce06",
   "metadata": {},
   "outputs": [],
   "source": [
    "#float to binary / binary to float\n",
    "import struct\n",
    "\n",
    "def float_to_bin(num):\n",
    "    return format(struct.unpack('!I', struct.pack('!f', num))[0], '032b')\n",
    "\n",
    "def bin_to_float(binary):\n",
    "    return struct.unpack('!f',struct.pack('!I', int(binary, 2)))[0]"
   ]
  },
  {
   "cell_type": "code",
   "execution_count": null,
   "id": "5f5b7358",
   "metadata": {},
   "outputs": [],
   "source": []
  }
 ],
 "metadata": {
  "kernelspec": {
   "display_name": "Python 3",
   "language": "python",
   "name": "python3"
  },
  "language_info": {
   "codemirror_mode": {
    "name": "ipython",
    "version": 3
   },
   "file_extension": ".py",
   "mimetype": "text/x-python",
   "name": "python",
   "nbconvert_exporter": "python",
   "pygments_lexer": "ipython3",
   "version": "3.8.8"
  }
 },
 "nbformat": 4,
 "nbformat_minor": 5
}
