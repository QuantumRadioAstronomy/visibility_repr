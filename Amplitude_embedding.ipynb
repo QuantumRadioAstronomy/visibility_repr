{
 "cells": [
  {
   "cell_type": "markdown",
   "id": "b4824755",
   "metadata": {},
   "source": [
    "# Amplitude embedding (simulator)\n",
    "\n",
    "Main steps:\n",
    "\n",
    "* initialize an image of the sky (frequency domain)\n",
    "* apply 2D FT --> visibilities (Fourier domain)\n",
    "* encode visibilities data into qubits using amplitude embedding (non-conventional domain)\n",
    "* measure qubits on simulator --> expected outcomes (back to conventional domain)\n",
    "* apply 2D IFT --> fidelity computation\n",
    "\n",
    "Amplitude embedding:\n",
    "\n",
    "* from https://docs.pennylane.ai/en/stable/code/api/pennylane.AmplitudeEmbedding.html\n",
    "* literature: https://hillside.net/plop/2020/papers/weigold.pdf"
   ]
  },
  {
   "cell_type": "code",
   "execution_count": 1,
   "id": "04ee6ebe",
   "metadata": {},
   "outputs": [],
   "source": [
    "import numpy as np\n",
    "import matplotlib.pyplot as plt\n",
    "import math\n",
    "\n",
    "import pennylane as qml\n",
    "from pennylane import numpy as pnp"
   ]
  },
  {
   "cell_type": "markdown",
   "id": "3bd5e888",
   "metadata": {},
   "source": [
    "## 1) Generating an artificial image of the sky (frequency domain)"
   ]
  },
  {
   "cell_type": "code",
   "execution_count": 2,
   "id": "9af37941",
   "metadata": {},
   "outputs": [
    {
     "name": "stdout",
     "output_type": "stream",
     "text": [
      "[[ 1.1206361e-02-3.15683428e-03j -6.4771902e-03-1.69084296e-02j\n",
      "  -1.2275677e-03-1.11372210e-02j  1.9714904e-03-6.31171465e-03j\n",
      "  -6.5205863e-04+8.43718741e-03j]\n",
      " [ 3.1964611e-03-1.77578756e-03j  1.6269542e-01+4.13703384e+01j\n",
      "   1.5050014e-03+8.26686528e-03j  2.3977261e-02+1.14738336e-02j\n",
      "  -7.3466953e-03+9.21519566e-03j]\n",
      " [ 1.0150625e-02-3.20342509e-03j -3.7182984e-03+6.08249521e-03j\n",
      "   2.0200418e-02+9.26561002e-03j -6.2760785e-03+1.24783665e-02j\n",
      "  -1.5182613e-02+1.39195751e-02j]\n",
      " [-1.1679788e-02-1.34440651e-02j  2.1248206e-03-2.33970396e-02j\n",
      "   5.1249542e+01+3.32813377e+01j  4.6655087e+01+6.91523438e+01j\n",
      "   3.5545919e-03+1.12418644e-02j]\n",
      " [-1.0265710e-02+1.15797026e-02j  9.8361215e-04+2.23967922e-03j\n",
      "  -2.4148781e-02-9.93605005e-04j  2.2522896e-04+1.01531502e-02j\n",
      "  -9.0153757e-03-1.43618407e-02j]]\n"
     ]
    }
   ],
   "source": [
    "#image of the sky filled with double precision complex floats ('complex64')\n",
    "#pixels are set to low complex random values (image background/noise) \n",
    "#few pixels are set to larger complex random values in a specified ellipse area (image source/subject)\n",
    "n = 5 #20\n",
    "sky_image = np.zeros((n, n), dtype='complex64')\n",
    "mask = np.zeros((n, n), dtype='bool')\n",
    "number_of_stars = np.random.randint(3, 11)\n",
    "radius = 1 #np.random.randint(1, 3)\n",
    "\n",
    "for i in range(0, number_of_stars):\n",
    "    index_i = np.random.randint(0, sky_image.shape[0]-radius)\n",
    "    index_j = np.random.randint(0, sky_image.shape[1]-radius)\n",
    "    for j in range(0, radius):\n",
    "        for k in range(0, radius):\n",
    "            sky_image[index_i+j][index_j+k] = complex(np.random.rand()*100, np.random.rand()*100)\n",
    "            mask[index_i+j][index_j+k] = True\n",
    "            \n",
    "sky_image.real += np.random.randn(n,n)/100\n",
    "sky_image.imag += np.random.randn(n,n)/100\n",
    "\n",
    "print(sky_image)"
   ]
  },
  {
   "cell_type": "code",
   "execution_count": 3,
   "id": "c34711ec",
   "metadata": {},
   "outputs": [
    {
     "data": {
      "image/png": "[encoded data removed]",
      "text/plain": [
       "<Figure size 432x288 with 2 Axes>"
      ]
     },
     "metadata": {
      "needs_background": "light"
     },
     "output_type": "display_data"
    }
   ],
   "source": [
    "modulus = np.absolute(sky_image)\n",
    "plt.imshow(modulus, cmap='Reds')\n",
    "plt.colorbar();"
   ]
  },
  {
   "cell_type": "markdown",
   "id": "749432b8",
   "metadata": {},
   "source": [
    "## 2) Applying a 2D FT (Fourier domain)"
   ]
  },
  {
   "cell_type": "code",
   "execution_count": 4,
   "id": "08b6f95d",
   "metadata": {},
   "outputs": [
    {
     "name": "stdout",
     "output_type": "stream",
     "text": [
      "[[  98.05043 +143.82368j    -60.98735  -72.98633j\n",
      "    88.5771    +2.4264278j  -28.258904  -6.0513163j\n",
      "   -97.36823  -67.26247j  ]\n",
      " [ -99.96532  -12.789784j   155.61658  -23.19692j\n",
      "   -97.69523  -24.739132j   -52.258484 -11.418291j\n",
      "    94.32034  +72.08266j  ]\n",
      " [ 151.83104  -95.10479j   -136.83237  +35.61912j\n",
      "    14.81903  -37.063084j    24.973875 +53.395332j\n",
      "   -54.797253 +43.1365j   ]\n",
      " [ -91.54297  +91.3656j      11.055208-108.9379j\n",
      "   -14.199031+113.68964j     12.29483  +17.318117j\n",
      "    82.56217 -113.58086j  ]\n",
      " [ -58.349075-127.440094j    31.055246+169.58084j\n",
      "     8.53261  -54.320415j    43.386242 -53.254227j\n",
      "   -24.540314 +65.62878j  ]]\n"
     ]
    }
   ],
   "source": [
    "visibilities = np.fft.fft2(sky_image).astype('complex64')\n",
    "print(visibilities)"
   ]
  },
  {
   "cell_type": "code",
   "execution_count": 5,
   "id": "ebc6146c",
   "metadata": {},
   "outputs": [
    {
     "data": {
      "image/png": "[encoded data removed]",
      "text/plain": [
       "<Figure size 432x288 with 2 Axes>"
      ]
     },
     "metadata": {
      "needs_background": "light"
     },
     "output_type": "display_data"
    }
   ],
   "source": [
    "modulus = np.absolute(visibilities)\n",
    "plt.imshow(modulus, cmap='Blues')\n",
    "plt.colorbar();"
   ]
  },
  {
   "cell_type": "markdown",
   "id": "8558fbb3",
   "metadata": {},
   "source": [
    "### Sanity check"
   ]
  },
  {
   "cell_type": "code",
   "execution_count": 6,
   "id": "aa7a59e8",
   "metadata": {},
   "outputs": [
    {
     "name": "stdout",
     "output_type": "stream",
     "text": [
      "Reals MSE: 1.845784e-13\n",
      "Imaginaries MSE: 1.622106e-13\n"
     ]
    }
   ],
   "source": [
    "img = np.fft.ifft2(visibilities).astype('complex64')\n",
    "\n",
    "test_real = ((sky_image.real - img.real)**2).mean()\n",
    "test_imag = ((sky_image.imag - img.imag)**2).mean()\n",
    " \n",
    "print('Reals MSE: '+ str(test_real))\n",
    "print('Imaginaries MSE: '+ str(test_imag))"
   ]
  },
  {
   "cell_type": "markdown",
   "id": "ada93768",
   "metadata": {},
   "source": [
    "## 3) Data encoding: amplitude embedding (non-conventional domain)"
   ]
  },
  {
   "cell_type": "code",
   "execution_count": 10,
   "id": "9ac8aef8",
   "metadata": {},
   "outputs": [
    {
     "name": "stdout",
     "output_type": "stream",
     "text": [
      "5\n"
     ]
    }
   ],
   "source": [
    "print(math.ceil(math.log2(25)))"
   ]
  },
  {
   "cell_type": "code",
   "execution_count": 25,
   "id": "49aa4a9c",
   "metadata": {
    "scrolled": true
   },
   "outputs": [
    {
     "name": "stdout",
     "output_type": "stream",
     "text": [
      "[[  98.05043 +143.82367j    -60.987347 -72.98632j\n",
      "    88.577095  +2.4264278j  -28.258904  -6.051316j\n",
      "   -97.36823  -67.26247j  ]\n",
      " [ -99.96532  -12.789784j   155.61658  -23.19692j\n",
      "   -97.69523  -24.73913j    -52.25848  -11.41829j\n",
      "    94.320335 +72.08265j  ]\n",
      " [ 151.83104  -95.10478j   -136.83237  +35.619118j\n",
      "    14.819029 -37.063084j    24.973873 +53.39533j\n",
      "   -54.79725  +43.136497j ]\n",
      " [ -91.54296  +91.3656j      11.055208-108.9379j\n",
      "   -14.19903 +113.68964j     12.29483  +17.318117j\n",
      "    82.56217 -113.58086j  ]\n",
      " [ -58.34907 -127.44009j     31.055246+169.58083j\n",
      "     8.53261  -54.320415j    43.386242 -53.254227j\n",
      "   -24.540312 +65.62878j  ]]\n"
     ]
    },
    {
     "name": "stderr",
     "output_type": "stream",
     "text": [
      "C:\\Users\\roman\\anaconda3\\lib\\_collections_abc.py:832: MatplotlibDeprecationWarning: \n",
      "The animation.avconv_args rcparam was deprecated in Matplotlib 3.3 and will be removed two minor releases later.\n",
      "  self[key] = other[key]\n",
      "C:\\Users\\roman\\anaconda3\\lib\\_collections_abc.py:832: MatplotlibDeprecationWarning: \n",
      "The animation.avconv_path rcparam was deprecated in Matplotlib 3.3 and will be removed two minor releases later.\n",
      "  self[key] = other[key]\n",
      "C:\\Users\\roman\\anaconda3\\lib\\_collections_abc.py:832: MatplotlibDeprecationWarning: \n",
      "The animation.html_args rcparam was deprecated in Matplotlib 3.3 and will be removed two minor releases later.\n",
      "  self[key] = other[key]\n",
      "C:\\Users\\roman\\anaconda3\\lib\\_collections_abc.py:832: MatplotlibDeprecationWarning: \n",
      "The keymap.all_axes rcparam was deprecated in Matplotlib 3.3 and will be removed two minor releases later.\n",
      "  self[key] = other[key]\n",
      "C:\\Users\\roman\\anaconda3\\lib\\_collections_abc.py:832: MatplotlibDeprecationWarning: \n",
      "The savefig.jpeg_quality rcparam was deprecated in Matplotlib 3.3 and will be removed two minor releases later.\n",
      "  self[key] = other[key]\n",
      "C:\\Users\\roman\\anaconda3\\lib\\_collections_abc.py:832: MatplotlibDeprecationWarning: \n",
      "The text.latex.preview rcparam was deprecated in Matplotlib 3.3 and will be removed two minor releases later.\n",
      "  self[key] = other[key]\n"
     ]
    },
    {
     "data": {
      "image/png": "[encoded data removed]",
      "text/plain": [
       "<Figure size 288x432 with 1 Axes>"
      ]
     },
     "metadata": {},
     "output_type": "display_data"
    }
   ],
   "source": [
    "# Amplitude embedding encodes a normalized 2^n-dimensional feature vector into the state of n qubits\n",
    "# --> uses log2(n) qubits for n classical data\n",
    "\n",
    "n = visibilities.shape[0]*visibilities.shape[1]\n",
    "data = visibilities.flatten()\n",
    "\n",
    "#normalization to prepare a qstate with measurement probabilites summing up to 1 (SUM (amplitudes²) = 1)\n",
    "norm = qml.math.sum(qml.math.abs(data) ** 2)\n",
    "normalized_data = data / qml.math.sqrt(norm)\n",
    "\n",
    "wires = range(math.ceil(math.log2(n))) # set the number of qubits (no padding needed if outputs an integer=integer.0)\n",
    "amp_dev = qml.device('default.qubit', wires)\n",
    "\n",
    "# encoding\n",
    "@qml.qnode(amp_dev)\n",
    "def amp_encoding(data):\n",
    "    qml.AmplitudeEmbedding(data, wires, normalize=True, pad_with=0.) \n",
    "    return qml.state()\n",
    "\n",
    "readout = amp_encoding(normalized_data).astype('complex64')\n",
    "qml.draw_mpl(amp_encoding)(normalized_data)\n",
    "readout = readout*qml.math.sqrt(norm) # denormalization of the measurements outcomes\n",
    "readout = readout[readout.nonzero()]\n",
    "readout = np.array(readout).reshape(sky_image.shape[0] , sky_image.shape[1])\n",
    "print(readout)"
   ]
  },
  {
   "cell_type": "markdown",
   "id": "59f8ac30",
   "metadata": {},
   "source": [
    "## 4) Applying 2D IFT (fidelity test)"
   ]
  },
  {
   "cell_type": "code",
   "execution_count": 26,
   "id": "e18b327f",
   "metadata": {},
   "outputs": [
    {
     "name": "stdout",
     "output_type": "stream",
     "text": [
      "Reals MSE: 4.514387e-13\n",
      "Imaginaries MSE: 1.160741e-12\n"
     ]
    }
   ],
   "source": [
    "img = np.fft.ifft2(readout).astype('complex64')\n",
    "\n",
    "test_real = ((sky_image.real - img.real)**2).mean()\n",
    "test_imag = ((sky_image.imag - img.imag)**2).mean()\n",
    "\n",
    "print('Reals MSE: '+ str(test_real))\n",
    "print('Imaginaries MSE: '+ str(test_imag))"
   ]
  },
  {
   "cell_type": "code",
   "execution_count": 27,
   "id": "fc3de505",
   "metadata": {},
   "outputs": [
    {
     "data": {
      "image/png": "[encoded data removed]",
      "text/plain": [
       "<Figure size 1080x360 with 2 Axes>"
      ]
     },
     "metadata": {
      "needs_background": "light"
     },
     "output_type": "display_data"
    }
   ],
   "source": [
    "fig, axs = plt.subplots(1, 2, figsize=(15,5))\n",
    "modulus1 = np.absolute(img)\n",
    "modulus2 = np.absolute(sky_image)\n",
    "\n",
    "axs[0].imshow(modulus1, cmap='Reds')\n",
    "axs[1].imshow(modulus2, cmap='Reds')\n",
    "\n",
    "axs[0].set_title(\"Reconstructed image\")\n",
    "axs[1].set_title(\"Original image\")\n",
    "\n",
    "for ax in axs.flat:\n",
    "    ax.set(xlabel='n', ylabel='n')"
   ]
  },
  {
   "cell_type": "code",
   "execution_count": null,
   "id": "0f7fab4d",
   "metadata": {},
   "outputs": [],
   "source": []
  }
 ],
 "metadata": {
  "kernelspec": {
   "display_name": "Python 3",
   "language": "python",
   "name": "python3"
  },
  "language_info": {
   "codemirror_mode": {
    "name": "ipython",
    "version": 3
   },
   "file_extension": ".py",
   "mimetype": "text/x-python",
   "name": "python",
   "nbconvert_exporter": "python",
   "pygments_lexer": "ipython3",
   "version": "3.8.8"
  }
 },
 "nbformat": 4,
 "nbformat_minor": 5
}
