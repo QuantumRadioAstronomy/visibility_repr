{
 "cells": [
  {
   "cell_type": "markdown",
   "id": "2a6105cd",
   "metadata": {},
   "source": [
    "# Naive representation"
   ]
  },
  {
   "cell_type": "markdown",
   "id": "7f14d075",
   "metadata": {},
   "source": [
    "*First pipeline:*\n",
    "* **1. Data preparation (correlation step):**\n",
    "    * 1.1 image initialization (spatial domain)\n",
    "    * 1.2 Fourier transform (frequency domain)\n",
    "    \n",
    "    &rarr; simulates radio visibility data\n",
    "* **2. Data embedding (calibration step):**\n",
    "    * 2.1 data pre-processing\n",
    "    * 2.2 data encoding\n",
    "    \n",
    "    &rarr; embeds visibilities into qubits\n",
    "* **3. Data reading (imaging step):**\n",
    "    * 3.1 readout\n",
    "    * 3.2 inverse Fourier transform (spatial domain) - IFT\n",
    "    \n",
    "    &rarr; approximates science-ready intermediate product  \n",
    "\n",
    "*Second pipeline:*\n",
    "* **1. Data preparation (correlation step):**\n",
    "     * 1.1 image initialization (spatial domain)\n",
    "     * 1.2 Fourier transform (frequency domain)\n",
    "     \n",
    "     &rarr; simulates radio visibility data\n",
    "* **2. Data embedding (calibration step):**\n",
    "    * 2.1 data pre-processing\n",
    "    * 2.2 data encoding\n",
    "    * 2.3 quantum inverse Fourier transform - QFT\n",
    "    \n",
    "    &rarr; embeds visibilities into qubits and applies QFT on qubits\n",
    "* **3. Data reading (imaging step):**\n",
    "    * 3.1 readout\n",
    "    \n",
    "    &rarr; approximates science-ready intermediate product  "
   ]
  },
  {
   "cell_type": "markdown",
   "id": "a18aabdb",
   "metadata": {},
   "source": [
    "*Digital encoding (binary):*\n",
    "\n",
    "* circuit family #1 from [Cortese 2018](https://arxiv.org/abs/1803.01958)\n",
    "* to many features to simulate for PennyLane's implementation - Basis embedding ([Teamplates](https://docs.pennylane.ai/en/stable/introduction/templates.html))"
   ]
  },
  {
   "cell_type": "markdown",
   "id": "728a6fdf",
   "metadata": {},
   "source": [
    "#### Prerequisites"
   ]
  },
  {
   "cell_type": "code",
   "execution_count": 1,
   "id": "ad6cbc81",
   "metadata": {},
   "outputs": [],
   "source": [
    "import numpy as np\n",
    "import matplotlib.pyplot as plt\n",
    "import struct\n",
    "\n",
    "import qiskit\n",
    "from qiskit import *"
   ]
  },
  {
   "cell_type": "code",
   "execution_count": 6,
   "id": "1cb82d33",
   "metadata": {},
   "outputs": [
    {
     "name": "stdout",
     "output_type": "stream",
     "text": [
      "\n",
      "Total count for 00 and 11 are: {'11': 976, '00': 1024}\n"
     ]
    },
    {
     "data": {
      "text/html": [
       "<pre style=\"word-wrap: normal;white-space: pre;background: #fff0;line-height: 1.1;font-family: &quot;Courier New&quot;,Courier,monospace\">     ┌───┐     ┌─┐   \n",
       "q_0: ┤ H ├──■──┤M├───\n",
       "     └───┘┌─┴─┐└╥┘┌─┐\n",
       "q_1: ─────┤ X ├─╫─┤M├\n",
       "          └───┘ ║ └╥┘\n",
       "c: 2/═══════════╩══╩═\n",
       "                0  1 </pre>"
      ],
      "text/plain": [
       "     ┌───┐     ┌─┐   \n",
       "q_0: ┤ H ├──■──┤M├───\n",
       "     └───┘┌─┴─┐└╥┘┌─┐\n",
       "q_1: ─────┤ X ├─╫─┤M├\n",
       "          └───┘ ║ └╥┘\n",
       "c: 2/═══════════╩══╩═\n",
       "                0  1 "
      ]
     },
     "execution_count": 6,
     "metadata": {},
     "output_type": "execute_result"
    }
   ],
   "source": [
    "from qiskit import QuantumCircuit, transpile\n",
    "from qiskit_aer import AerSimulator\n",
    "from qiskit.visualization import plot_histogram\n",
    "\n",
    "# Use Aer's AerSimulator\n",
    "simulator = AerSimulator()\n",
    "\n",
    "# Create a Quantum Circuit acting on the q register\n",
    "circuit = QuantumCircuit(2, 2)\n",
    "\n",
    "# Add a H gate on qubit 0\n",
    "circuit.h(0)\n",
    "\n",
    "# Add a CX (CNOT) gate on control qubit 0 and target qubit 1\n",
    "circuit.cx(0, 1)\n",
    "\n",
    "# Map the quantum measurement to the classical bits\n",
    "circuit.measure([0, 1], [0, 1])\n",
    "\n",
    "# Compile the circuit for the support instruction set (basis_gates)\n",
    "# and topology (coupling_map) of the backend\n",
    "compiled_circuit = transpile(circuit, simulator)\n",
    "\n",
    "# Execute the circuit on the aer simulator\n",
    "job = simulator.run(compiled_circuit, shots=2000)\n",
    "\n",
    "# Grab results from the job\n",
    "result = job.result()\n",
    "\n",
    "# Returns counts\n",
    "counts = result.get_counts(compiled_circuit)\n",
    "print(\"\\nTotal count for 00 and 11 are:\", counts)\n",
    "\n",
    "# Draw the circuit\n",
    "circuit.draw()"
   ]
  },
  {
   "cell_type": "code",
   "execution_count": 7,
   "id": "878a90c1",
   "metadata": {},
   "outputs": [
    {
     "data": {
      "image/png": "[encoded data removed]",
      "text/plain": [
       "<Figure size 504x360 with 1 Axes>"
      ]
     },
     "execution_count": 7,
     "metadata": {},
     "output_type": "execute_result"
    }
   ],
   "source": [
    "# Plot a histogram\n",
    "plot_histogram(counts)"
   ]
  },
  {
   "cell_type": "code",
   "execution_count": 2,
   "id": "253aa61f",
   "metadata": {},
   "outputs": [],
   "source": [
    "# float to binary \n",
    "def float_to_bin_real(num):\n",
    "    return format(struct.unpack('!I', struct.pack('!f', num))[0], '032b')\n",
    "def float_to_bin_imag(num):\n",
    "    return format(struct.unpack('!I', struct.pack('!f', num))[0], '032b')\n",
    "\n",
    "# binary to float\n",
    "def bin_to_float_real(binary):\n",
    "    return struct.unpack('!f',struct.pack('!I', int(binary, 2)))[0]\n",
    "def bin_to_float_imag(binary):\n",
    "    return struct.unpack('!f',struct.pack('!I', int(binary, 2)))[0]\n",
    "\n",
    "# reverse a string (for the measurement step readout)\n",
    "def reverse(string):\n",
    "    string = string[::-1]\n",
    "    return string"
   ]
  },
  {
   "cell_type": "markdown",
   "id": "d6af5b75",
   "metadata": {},
   "source": [
    "## 1. Data preparation (correlation step)"
   ]
  },
  {
   "cell_type": "markdown",
   "id": "f0eb0088",
   "metadata": {},
   "source": [
    "### 1.1 image initialization (spatial domain)"
   ]
  },
  {
   "cell_type": "code",
   "execution_count": 3,
   "id": "21863931",
   "metadata": {},
   "outputs": [
    {
     "name": "stdout",
     "output_type": "stream",
     "text": [
      "[[-1.48354145e-02-1.80587894e-03j  8.05676915e-03-2.17287801e-03j\n",
      "  -2.55730748e-02+1.82374998e-03j  5.63152771e+01+4.54035187e+01j\n",
      "   8.61209335e+01+7.20228851e-01j  9.71162459e-04-2.90457718e-03j\n",
      "   9.79115753e+01+6.35377655e+01j -1.20797651e-02-1.59326643e-02j\n",
      "  -3.83494003e-03+1.12760533e-02j  1.12375873e-03+9.36960801e-03j]\n",
      " [ 5.07846614e-03-1.76796305e-03j  8.28883591e+01+4.60038376e+01j\n",
      "   1.55200763e-03+2.95727747e-03j  4.17991308e-03+1.54866436e-02j\n",
      "  -1.81122348e-02+1.43156736e-03j  1.07698385e-02+8.45154282e-03j\n",
      "  -3.13004409e-03-3.30044655e-03j -4.64333949e-04-9.72938724e-03j\n",
      "   2.22692583e-02+8.93020164e-03j  9.08356451e-04-8.70635547e-03j]\n",
      " [-7.52315624e-03+1.56366522e-03j  2.33141519e-02-2.98882127e-02j\n",
      "  -3.39844916e-03-3.94708477e-03j  1.62087139e-02+1.42828748e-02j\n",
      "  -1.69280209e-02-7.79760443e-03j -3.93148046e-04-7.98822101e-03j\n",
      "  -3.91863938e-03-3.62431887e-03j  1.45370082e-03-4.01397329e-03j\n",
      "   1.26264868e-02-1.57096777e-02j  1.08364476e-02+4.75875335e-04j]\n",
      " [ 1.49876093e-02-2.47002486e-02j -7.50983041e-03+7.43444171e-03j\n",
      "   8.42284970e-03+1.16087561e-02j  5.48325432e-03-1.46554327e-02j\n",
      "  -7.28657702e-03-2.18433677e-03j  7.64699560e-03-2.15754774e-03j\n",
      "   4.58902400e-03-1.02159791e-02j -4.62701137e-04-3.69054032e-04j\n",
      "   4.80193971e-03+9.82960686e-04j  3.33913206e-03+1.14947408e-02j]\n",
      " [-7.59757636e-03-6.02746336e-03j -1.25810066e-02+9.23146307e-03j\n",
      "  -5.08763688e-03+8.14482011e-03j -9.52808245e-04+1.18804444e-02j\n",
      "   9.70736519e-03-5.75213169e-04j -1.43519659e-02+1.30486600e-02j\n",
      "   4.60043270e-03-6.54139230e-03j  1.76216271e-02+1.52108120e-02j\n",
      "   1.46335820e-02-4.78262734e-03j  7.29871495e-03-7.06104701e-03j]\n",
      " [-1.33864232e-03-5.91281382e-03j -3.22586182e-03+1.34646501e-02j\n",
      "   1.37318000e-02-2.12140679e-02j -1.73687357e-02-6.14441698e-03j\n",
      "   5.30941162e+01+7.52726974e+01j -2.96236016e-04-7.78685417e-03j\n",
      "   1.31370658e-02+2.83284718e-03j -7.99009949e-03-1.13160005e-02j\n",
      "  -2.06931643e-02+1.06991185e-02j -2.60347642e-05+3.95265815e-04j]\n",
      " [-1.13030579e-02+9.15936846e-03j -1.44393556e-02+1.34739671e-02j\n",
      "  -1.60596464e-02-9.25107114e-03j  3.00037256e-03-1.71947796e-02j\n",
      "   4.37532505e-03-2.13305908e-03j  9.27832443e-03-3.45777441e-03j\n",
      "   2.16840953e-03+1.02343811e-02j -9.00036097e-03+1.33806961e-02j\n",
      "   3.14609380e-03+6.74600853e-03j -6.66141370e-03+6.58186479e-03j]\n",
      " [ 5.95496327e-04-1.20765874e-02j  4.09378810e-03-3.65611259e-03j\n",
      "  -3.83016700e-03+7.19020376e-03j -7.44631467e-03-1.60772000e-02j\n",
      "   1.33497585e-02-2.89693614e-03j  3.84784583e-03+9.83759575e-03j\n",
      "  -2.21259706e-03+2.65325361e-04j  4.82019463e+01+4.06516800e+01j\n",
      "  -1.48943793e-02+2.41274517e-02j -2.61439988e-03-6.52392954e-03j]\n",
      " [-5.74893318e-03-1.34727294e-02j -6.43973413e-04+1.45023232e-02j\n",
      "   1.36828739e-02-6.57003198e-04j -1.17218425e-03-3.75629240e-03j\n",
      "  -1.03726294e-02+2.27259705e-03j  5.54831429e+01+4.47781601e+01j\n",
      "   9.61808302e-03+7.34835397e-03j -8.71543307e-03-8.24521203e-03j\n",
      "  -3.64228268e-03-1.08267833e-02j  1.26082608e-02-1.21151591e-02j]\n",
      " [ 6.16270292e-04-7.36926915e-04j  2.78416486e-03-2.11656210e-03j\n",
      "   8.18907656e-03+7.63048592e-04j  5.07538998e-03-9.08972509e-03j\n",
      "   1.20462179e-02-1.27763739e-02j  1.52890030e-02-1.08890971e-02j\n",
      "   1.06724035e-02-7.48491939e-03j -2.30124798e-02+4.71851183e-03j\n",
      "  -6.37495657e-03-5.05074300e-03j  8.01842101e-03+2.62203533e-02j]]\n"
     ]
    }
   ],
   "source": [
    "# image of the sky filled with double precision complex floats (single precision for reals/imaginaries)\n",
    "# few pixels are set to relatively large complex random values in random spots (image sources)\n",
    "# relatively small complex values are added (white noise from background radiations) \n",
    "\n",
    "n = 10 #number of antennas\n",
    "\n",
    "sky_image = np.zeros((n, n), dtype='complex64')\n",
    "mask = np.zeros((n, n), dtype='bool')\n",
    "stars = np.random.randint(1, 11) #random number of sources\n",
    "radius = 1 #np.random.randint(1, 3) #with random radius\n",
    "\n",
    "for i in range(0, stars):\n",
    "    index_i = np.random.randint(0, sky_image.shape[0]-radius)\n",
    "    index_j = np.random.randint(0, sky_image.shape[1]-radius)\n",
    "    for j in range(0, radius):\n",
    "        for k in range(0, radius):\n",
    "            sky_image[index_i+j][index_j+k] = complex(np.random.rand()*100, np.random.rand()*100)\n",
    "            mask[index_i+j][index_j+k] = True\n",
    "            \n",
    "sky_image.real += np.random.randn(n,n)/100\n",
    "sky_image.imag += np.random.randn(n,n)/100\n",
    "\n",
    "print(sky_image)"
   ]
  },
  {
   "cell_type": "code",
   "execution_count": 4,
   "id": "bd84db7e",
   "metadata": {},
   "outputs": [
    {
     "data": {
      "image/png": "[encoded data removed]",
      "text/plain": [
       "<Figure size 432x288 with 2 Axes>"
      ]
     },
     "metadata": {
      "needs_background": "light"
     },
     "output_type": "display_data"
    }
   ],
   "source": [
    "modulus = np.absolute(sky_image)\n",
    "plt.imshow(modulus, cmap='Reds') \n",
    "cbar = plt.colorbar()"
   ]
  },
  {
   "cell_type": "markdown",
   "id": "37d98bdc",
   "metadata": {},
   "source": [
    "### 1.2 Fourier transform (frequency domain)"
   ]
  },
  {
   "cell_type": "code",
   "execution_count": 5,
   "id": "77e72e60",
   "metadata": {},
   "outputs": [
    {
     "name": "stdout",
     "output_type": "stream",
     "text": [
      "[[ 480.04205  +316.29578j   -173.76476  -227.70288j\n",
      "    98.98489    -2.3072073j  129.4568    -59.630203j\n",
      "  -146.90222  -111.02941j     -5.7989984 -37.36861j\n",
      "  -195.43446   -46.569134j    23.829382 +166.86057j\n",
      "    40.75392   +67.20267j   -251.4373    -66.309326j ]\n",
      " [ 202.36772  +122.63828j    -81.447174 -213.16829j\n",
      "   155.02655   -90.45889j   -110.496     +34.056103j\n",
      "  -120.724556  -88.93913j     59.350582 -144.71437j\n",
      "  -292.4528   +307.1357j     188.5591    -39.662758j\n",
      "   -71.348114  +82.61835j     71.06712   +30.3993j   ]\n",
      " [ 276.40793   +55.62675j     -6.6169515-289.50238j\n",
      "  -145.78905   +47.715656j    44.095478   -9.345417j\n",
      "  -250.31015  -153.67871j    197.92332  +223.67061j\n",
      "  -362.52744   +15.306438j   268.7384   +117.24948j\n",
      "   126.23911   +17.042788j  -148.08467   -23.678745j ]\n",
      " [ 249.72449  -122.845474j  -206.68141   +20.667784j\n",
      "   -50.12668  -224.16434j    -93.952065 +174.90208j\n",
      "   -36.931713  -11.8482485j   12.170324 +100.919525j\n",
      "  -167.58414   +73.45047j    393.71768   +94.01792j\n",
      "   -87.753746  -58.60761j    -12.728695  -46.63833j  ]\n",
      " [ 289.33383  +118.38532j   -349.48544  -252.57121j\n",
      "     8.4096985 +17.931467j    -9.959892 +238.36302j\n",
      "  -159.97908   -78.71498j    184.80865  +160.61386j\n",
      "   -19.684357  -22.000237j   114.37543  +146.77594j\n",
      "   180.39     -230.60796j   -238.43646   -98.566124j ]\n",
      " [ 111.55884    -7.4601736j -257.29233   -87.05522j\n",
      "   100.686874 +101.9786j    -208.52847  +171.95064j\n",
      "   154.97742    +3.4920697j  150.08308   -14.549339j\n",
      "  -116.94634  +181.33075j    242.88406  -231.90485j\n",
      "    26.595423  -55.27118j   -204.68803   -62.165188j ]\n",
      " [ 227.35777  +229.638j     -187.56421  -145.53954j\n",
      "  -117.302055 +233.85048j    193.19087   +34.598377j\n",
      "   -32.815426  +25.221825j   246.75064   +49.450226j\n",
      "  -181.51767  -128.83685j    240.28604   -69.22683j\n",
      "   -22.916845  -26.893383j  -365.33704  -202.33679j  ]\n",
      " [  61.660027 +156.69794j   -171.21321   +71.767685j\n",
      "    92.20758   -44.834743j   130.48314  +218.28537j\n",
      "     4.981358  -50.50538j    200.07054  -178.58447j\n",
      "  -203.00215   +22.472j      251.52293   -85.483315j\n",
      "  -312.00797  -102.00751j    -54.51136    -7.946776j ]\n",
      " [ 193.71672  +204.59857j    -76.47846  -108.33407j\n",
      "   101.69947   +96.611336j   163.16373  +164.28996j\n",
      "  -102.835594 -322.7055j     280.33026   +74.37342j\n",
      "  -292.90182  -165.98842j     21.03063   +68.24319j\n",
      "     7.1932993-156.55551j   -295.4367   +145.69783j  ]\n",
      " [ 310.84677   +23.036674j   -89.896774 +105.19901j\n",
      "   199.81575   -86.06831j    -77.66126   +41.20009j\n",
      "   176.58728  -196.21626j    -48.939255  -45.036736j\n",
      "  -284.3394    -10.712164j   143.75531   -44.25102j\n",
      "  -104.12425   +75.31328j   -225.99696  +137.77576j  ]]\n"
     ]
    }
   ],
   "source": [
    "visibilities = np.fft.fft2(sky_image).astype('complex64')\n",
    "print(visibilities)"
   ]
  },
  {
   "cell_type": "code",
   "execution_count": 6,
   "id": "3570e801",
   "metadata": {},
   "outputs": [
    {
     "data": {
      "image/png": "[encoded data removed]",
      "text/plain": [
       "<Figure size 432x288 with 2 Axes>"
      ]
     },
     "metadata": {
      "needs_background": "light"
     },
     "output_type": "display_data"
    }
   ],
   "source": [
    "modulus = np.absolute(visibilities)\n",
    "plt.imshow(modulus, cmap='Blues')\n",
    "plt.colorbar();"
   ]
  },
  {
   "cell_type": "markdown",
   "id": "54b17cf9",
   "metadata": {},
   "source": [
    "#### * Sanity check"
   ]
  },
  {
   "cell_type": "code",
   "execution_count": 7,
   "id": "6f6306ea",
   "metadata": {},
   "outputs": [
    {
     "name": "stdout",
     "output_type": "stream",
     "text": [
      "Reals MSE: 1.384676e-13\n",
      "Imaginaries MSE: 2.0142006e-13\n"
     ]
    }
   ],
   "source": [
    "img = np.fft.ifft2(visibilities).astype('complex64')\n",
    "\n",
    "test_real = ((sky_image.real - img.real)**2).mean()\n",
    "test_imag = ((sky_image.imag - img.imag)**2).mean()\n",
    " \n",
    "print('Reals MSE: '+ str(test_real))\n",
    "print('Imaginaries MSE: '+ str(test_imag))"
   ]
  },
  {
   "cell_type": "markdown",
   "id": "56a9e4a5",
   "metadata": {},
   "source": [
    "## 2. Data embedding (calibration step)"
   ]
  },
  {
   "cell_type": "markdown",
   "id": "0acdaf8f",
   "metadata": {},
   "source": [
    "### 2.1 data pre-processing\n",
    "### 2.2 data encoding"
   ]
  },
  {
   "cell_type": "code",
   "execution_count": 8,
   "id": "ce856250",
   "metadata": {},
   "outputs": [],
   "source": [
    "# encoding binary data onto qubits\n",
    "def binary_encode(qc, binary, off_set):\n",
    "    \n",
    "    for i in range(0, len(binary)):\n",
    "        qc.reset(off_set+i) # set quantum state |0> by default for all qubits\n",
    "\n",
    "        if binary[i]=='1':\n",
    "            qc.x(off_set+i) # act as a CX (controlled X gate)\n",
    "    \n",
    "    off_set += len(binary)\n",
    "\n",
    "    return off_set"
   ]
  },
  {
   "cell_type": "code",
   "execution_count": 9,
   "id": "8f61f4e5",
   "metadata": {},
   "outputs": [],
   "source": [
    "number_of_entries = visibilities.shape[0] * visibilities.shape[1]\n",
    "number_of_bits_real = 32\n",
    "number_of_bits_imag = 32\n",
    "number_of_bits = number_of_bits_real + number_of_bits_imag\n",
    "off_set = 0\n",
    "\n",
    "# encoding (n bits encoded onto n qubits)\n",
    "qc = QuantumCircuit(number_of_entries*number_of_bits)\n",
    "for i in range(0, visibilities.shape[0]):\n",
    "    for j in range(0, visibilities.shape[1]):\n",
    "            binary_real = float_to_bin_real(visibilities[i, j].real)\n",
    "            binary_imag = float_to_bin_imag(visibilities[i, j].imag)\n",
    "            binary = binary_real+binary_imag\n",
    "            off_set = binary_encode(qc, binary, off_set)"
   ]
  },
  {
   "cell_type": "markdown",
   "id": "2730c66b",
   "metadata": {},
   "source": [
    "## 3. Data reading"
   ]
  },
  {
   "cell_type": "markdown",
   "id": "89f96975",
   "metadata": {},
   "source": [
    "### 3.1 readout"
   ]
  },
  {
   "cell_type": "code",
   "execution_count": 10,
   "id": "d4b2d35f",
   "metadata": {},
   "outputs": [
    {
     "name": "stdout",
     "output_type": "stream",
     "text": [
      "[[ 480.04205  +316.29578j   -173.76476  -227.70288j\n",
      "    98.98489    -2.3072073j  129.4568    -59.630203j\n",
      "  -146.90222  -111.02941j     -5.7989984 -37.36861j\n",
      "  -195.43446   -46.569134j    23.829382 +166.86057j\n",
      "    40.75392   +67.20267j   -251.4373    -66.309326j ]\n",
      " [ 202.36772  +122.63828j    -81.447174 -213.16829j\n",
      "   155.02655   -90.45889j   -110.496     +34.056103j\n",
      "  -120.724556  -88.93913j     59.350582 -144.71437j\n",
      "  -292.4528   +307.1357j     188.5591    -39.662758j\n",
      "   -71.348114  +82.61835j     71.06712   +30.3993j   ]\n",
      " [ 276.40793   +55.62675j     -6.6169515-289.50238j\n",
      "  -145.78905   +47.715656j    44.095478   -9.345417j\n",
      "  -250.31015  -153.67871j    197.92332  +223.67061j\n",
      "  -362.52744   +15.306438j   268.7384   +117.24948j\n",
      "   126.23911   +17.042788j  -148.08467   -23.678745j ]\n",
      " [ 249.72449  -122.845474j  -206.68141   +20.667784j\n",
      "   -50.12668  -224.16434j    -93.952065 +174.90208j\n",
      "   -36.931713  -11.8482485j   12.170324 +100.919525j\n",
      "  -167.58414   +73.45047j    393.71768   +94.01792j\n",
      "   -87.753746  -58.60761j    -12.728695  -46.63833j  ]\n",
      " [ 289.33383  +118.38532j   -349.48544  -252.57121j\n",
      "     8.4096985 +17.931467j    -9.959892 +238.36302j\n",
      "  -159.97908   -78.71498j    184.80865  +160.61386j\n",
      "   -19.684357  -22.000237j   114.37543  +146.77594j\n",
      "   180.39     -230.60796j   -238.43646   -98.566124j ]\n",
      " [ 111.55884    -7.4601736j -257.29233   -87.05522j\n",
      "   100.686874 +101.9786j    -208.52847  +171.95064j\n",
      "   154.97742    +3.4920697j  150.08308   -14.549339j\n",
      "  -116.94634  +181.33075j    242.88406  -231.90485j\n",
      "    26.595423  -55.27118j   -204.68803   -62.165188j ]\n",
      " [ 227.35777  +229.638j     -187.56421  -145.53954j\n",
      "  -117.302055 +233.85048j    193.19087   +34.598377j\n",
      "   -32.815426  +25.221825j   246.75064   +49.450226j\n",
      "  -181.51767  -128.83685j    240.28604   -69.22683j\n",
      "   -22.916845  -26.893383j  -365.33704  -202.33679j  ]\n",
      " [  61.660027 +156.69794j   -171.21321   +71.767685j\n",
      "    92.20758   -44.834743j   130.48314  +218.28537j\n",
      "     4.981358  -50.50538j    200.07054  -178.58447j\n",
      "  -203.00215   +22.472j      251.52293   -85.483315j\n",
      "  -312.00797  -102.00751j    -54.51136    -7.946776j ]\n",
      " [ 193.71672  +204.59857j    -76.47846  -108.33407j\n",
      "   101.69947   +96.611336j   163.16373  +164.28996j\n",
      "  -102.835594 -322.7055j     280.33026   +74.37342j\n",
      "  -292.90182  -165.98842j     21.03063   +68.24319j\n",
      "     7.1932993-156.55551j   -295.4367   +145.69783j  ]\n",
      " [ 310.84677   +23.036674j   -89.896774 +105.19901j\n",
      "   199.81575   -86.06831j    -77.66126   +41.20009j\n",
      "   176.58728  -196.21626j    -48.939255  -45.036736j\n",
      "  -284.3394    -10.712164j   143.75531   -44.25102j\n",
      "  -104.12425   +75.31328j   -225.99696  +137.77576j  ]]\n"
     ]
    }
   ],
   "source": [
    "# measurement\n",
    "qc.measure_all()\n",
    "backend = Aer.get_backend('aer_simulator') # Qiskit's staple simulator (CHOICE MOTIVATION?)\n",
    "job = backend.run(qc, shots=1, memory=True) \n",
    "output = job.result().get_memory()[0]\n",
    "out = reverse(output)\n",
    "\n",
    "# readout\n",
    "chunks_real = []\n",
    "chunks_imag = []\n",
    "for i in range(0, number_of_entries):\n",
    "    chunks_real.append(out[number_of_bits*i:(number_of_bits*i)+number_of_bits_real]) # real parts represented every 64 bits starting from the first one\n",
    "    chunks_imag.append(out[(number_of_bits*i)+number_of_bits_imag:(number_of_bits*i)+number_of_bits_imag+number_of_bits_imag]) # imaginary parts represented every 64 bits starting after the first occurence of a real part \n",
    "\n",
    "readout = []\n",
    "for i in range(0, len(chunks_real)):\n",
    "    readout.append(complex(bin_to_float_real(chunks_real[i]), bin_to_float_imag(chunks_imag[i]))) \n",
    "\n",
    "readout = np.array(readout).reshape(n , n).astype('complex64')\n",
    "print(readout)"
   ]
  },
  {
   "cell_type": "markdown",
   "id": "2f5fd4fd",
   "metadata": {},
   "source": [
    "### 3.2 inverse Fourier transform (spatial domain)"
   ]
  },
  {
   "cell_type": "code",
   "execution_count": 11,
   "id": "6aa9775a",
   "metadata": {},
   "outputs": [],
   "source": [
    "img = np.fft.ifft2(readout).astype('complex64')"
   ]
  },
  {
   "cell_type": "markdown",
   "id": "d1d05afe",
   "metadata": {},
   "source": [
    "#### fidelity test"
   ]
  },
  {
   "cell_type": "code",
   "execution_count": 12,
   "id": "ea5b9246",
   "metadata": {},
   "outputs": [
    {
     "name": "stdout",
     "output_type": "stream",
     "text": [
      "Reals MSE: 1.384676e-13\n",
      "Imaginaries MSE: 2.0142006e-13\n"
     ]
    }
   ],
   "source": [
    "test_real = ((sky_image.real - img.real)**2).mean()\n",
    "test_imag = ((sky_image.imag - img.imag)**2).mean()\n",
    "\n",
    "print('Reals MSE: '+ str(test_real))\n",
    "print('Imaginaries MSE: '+ str(test_imag))"
   ]
  },
  {
   "cell_type": "code",
   "execution_count": 13,
   "id": "16cce23f",
   "metadata": {},
   "outputs": [
    {
     "data": {
      "image/png": "[encoded data removed]",
      "text/plain": [
       "<Figure size 1080x360 with 2 Axes>"
      ]
     },
     "metadata": {
      "needs_background": "light"
     },
     "output_type": "display_data"
    }
   ],
   "source": [
    "fig, axs = plt.subplots(1, 2, figsize=(15,5))\n",
    "modulus1 = np.absolute(sky_image)\n",
    "modulus2 = np.absolute(img)\n",
    "\n",
    "axs[0].imshow(modulus1, cmap='Reds')\n",
    "axs[1].imshow(modulus2, cmap='Reds')\n",
    "\n",
    "axs[0].set_title(\"Original image\")\n",
    "axs[1].set_title(\"Reconstructed image\")\n",
    "\n",
    "for ax in axs.flat:\n",
    "    ax.set(xlabel=n, ylabel=n)"
   ]
  },
  {
   "cell_type": "code",
   "execution_count": null,
   "id": "6e7a063f",
   "metadata": {},
   "outputs": [],
   "source": []
  }
 ],
 "metadata": {
  "kernelspec": {
   "display_name": "Python 3",
   "language": "python",
   "name": "python3"
  },
  "language_info": {
   "codemirror_mode": {
    "name": "ipython",
    "version": 3
   },
   "file_extension": ".py",
   "mimetype": "text/x-python",
   "name": "python",
   "nbconvert_exporter": "python",
   "pygments_lexer": "ipython3",
   "version": "3.8.8"
  }
 },
 "nbformat": 4,
 "nbformat_minor": 5
}
