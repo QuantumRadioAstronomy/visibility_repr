{
 "cells": [
  {
   "cell_type": "markdown",
   "id": "2a6105cd",
   "metadata": {},
   "source": [
    "# Naive representation"
   ]
  },
  {
   "cell_type": "markdown",
   "id": "7f14d075",
   "metadata": {},
   "source": [
    "*First pipeline:*\n",
    "* **1. Data preparation (correlation step):**\n",
    "    * 1.1 image initialization (spatial domain)\n",
    "    * 1.2 Fourier transform (frequency domain)\n",
    "    \n",
    "    &rarr; simulates radio visibility data\n",
    "* **2. Data embedding (calibration step):**\n",
    "    * 2.1 data pre-processing\n",
    "    * 2.2 data encoding\n",
    "    \n",
    "    &rarr; embeds visibilities into qubits\n",
    "* **3. Data reading (imaging step):**\n",
    "    * 3.1 readout\n",
    "    * 3.2 inverse Fourier transform (spatial domain) - IFT\n",
    "    \n",
    "    &rarr; approximates science-ready intermediate product  \n",
    "\n",
    "*Second pipeline:*\n",
    "* **1. Data preparation (correlation step):**\n",
    "     * 1.1 image initialization (spatial domain)\n",
    "     * 1.2 Fourier transform (frequency domain)\n",
    "     \n",
    "     &rarr; simulates radio visibility data\n",
    "* **2. Data embedding (calibration step):**\n",
    "    * 2.1 data pre-processing\n",
    "    * 2.2 data encoding\n",
    "    * 2.3 quantum inverse Fourier transform - QFT\n",
    "    \n",
    "    &rarr; embeds visibilities into qubits and applies QFT on qubits\n",
    "* **3. Data reading (imaging step):**\n",
    "    * 3.1 readout\n",
    "    \n",
    "    &rarr; approximates science-ready intermediate product  "
   ]
  },
  {
   "cell_type": "markdown",
   "id": "a18aabdb",
   "metadata": {},
   "source": [
    "*Digital encoding (binary):*\n",
    "\n",
    "* circuit family #1 from [Cortese 2018](https://arxiv.org/abs/1803.01958)\n",
    "* to many features to simulate for PennyLane's implementation - Basis embedding ([Teamplates](https://docs.pennylane.ai/en/stable/introduction/templates.html))"
   ]
  },
  {
   "cell_type": "markdown",
   "id": "728a6fdf",
   "metadata": {},
   "source": [
    "#### Prerequisites"
   ]
  },
  {
   "cell_type": "code",
   "execution_count": 1,
   "id": "ad6cbc81",
   "metadata": {},
   "outputs": [],
   "source": [
    "import numpy as np\n",
    "import matplotlib.pyplot as plt\n",
    "import struct"
   ]
  },
  {
   "cell_type": "code",
   "execution_count": 2,
   "id": "253aa61f",
   "metadata": {},
   "outputs": [],
   "source": [
    "# float to binary \n",
    "def float_to_bin_real(num):\n",
    "    return format(struct.unpack('!I', struct.pack('!f', num))[0], '032b')\n",
    "def float_to_bin_imag(num):\n",
    "    return format(struct.unpack('!I', struct.pack('!f', num))[0], '032b')\n",
    "\n",
    "# binary to float\n",
    "def bin_to_float_real(binary):\n",
    "    return struct.unpack('!f',struct.pack('!I', int(binary, 2)))[0]\n",
    "def bin_to_float_imag(binary):\n",
    "    return struct.unpack('!f',struct.pack('!I', int(binary, 2)))[0]\n",
    "\n",
    "# reverse a string (for the measurement step readout)\n",
    "def reverse(string):\n",
    "    string = string[::-1]\n",
    "    return string"
   ]
  },
  {
   "cell_type": "markdown",
   "id": "d6af5b75",
   "metadata": {},
   "source": [
    "## 1. Data preparation (correlation step)"
   ]
  },
  {
   "cell_type": "markdown",
   "id": "f0eb0088",
   "metadata": {},
   "source": [
    "### 1.1 image initialization (spatial domain)"
   ]
  },
  {
   "cell_type": "code",
   "execution_count": 3,
   "id": "21863931",
   "metadata": {},
   "outputs": [
    {
     "name": "stdout",
     "output_type": "stream",
     "text": [
      "[[ 9.481986e+01+5.8326550e+01j -1.588721e-02-2.8795464e-02j]\n",
      " [ 1.675530e-02+1.2352988e-03j  6.247325e-03-2.0242833e-02j]]\n"
     ]
    }
   ],
   "source": [
    "# image of the sky filled with double precision complex floats (single precision for reals/imaginaries)\n",
    "# few pixels are set to relatively large complex random values in random spots (image sources)\n",
    "# relatively small complex values are added (white noise from background radiations) \n",
    "\n",
    "n = 2 #number of antennas\n",
    "\n",
    "sky_image = np.zeros((n, n), dtype='complex64')\n",
    "mask = np.zeros((n, n), dtype='bool')\n",
    "stars = np.random.randint(1, 11) #random number of sources\n",
    "radius = 1 #np.random.randint(1, 3) #with random radius\n",
    "\n",
    "for i in range(0, stars):\n",
    "    index_i = np.random.randint(0, sky_image.shape[0]-radius)\n",
    "    index_j = np.random.randint(0, sky_image.shape[1]-radius)\n",
    "    for j in range(0, radius):\n",
    "        for k in range(0, radius):\n",
    "            sky_image[index_i+j][index_j+k] = complex(np.random.rand()*100, np.random.rand()*100)\n",
    "            mask[index_i+j][index_j+k] = True\n",
    "            \n",
    "sky_image.real += np.random.randn(n,n)/100\n",
    "sky_image.imag += np.random.randn(n,n)/100\n",
    "\n",
    "print(sky_image)"
   ]
  },
  {
   "cell_type": "code",
   "execution_count": 4,
   "id": "bd84db7e",
   "metadata": {},
   "outputs": [
    {
     "data": {
      "image/png": "[encoded data removed]",
      "text/plain": [
       "<Figure size 432x288 with 2 Axes>"
      ]
     },
     "metadata": {
      "needs_background": "light"
     },
     "output_type": "display_data"
    }
   ],
   "source": [
    "modulus = np.absolute(sky_image)\n",
    "plt.imshow(modulus, cmap='Reds') \n",
    "cbar = plt.colorbar()"
   ]
  },
  {
   "cell_type": "markdown",
   "id": "37d98bdc",
   "metadata": {},
   "source": [
    "### 1.2 Fourier transform (frequency domain)"
   ]
  },
  {
   "cell_type": "code",
   "execution_count": 5,
   "id": "77e72e60",
   "metadata": {},
   "outputs": [
    {
     "name": "stdout",
     "output_type": "stream",
     "text": [
      "[[94.82698 +58.278748j 94.84626 +58.376823j]\n",
      " [94.780975+58.31676j  94.82524 +58.333866j]]\n"
     ]
    }
   ],
   "source": [
    "visibilities = np.fft.fft2(sky_image).astype('complex64')\n",
    "print(visibilities)"
   ]
  },
  {
   "cell_type": "code",
   "execution_count": 6,
   "id": "3570e801",
   "metadata": {},
   "outputs": [
    {
     "data": {
      "image/png": "[encoded data removed]",
      "text/plain": [
       "<Figure size 432x288 with 2 Axes>"
      ]
     },
     "metadata": {
      "needs_background": "light"
     },
     "output_type": "display_data"
    }
   ],
   "source": [
    "modulus = np.absolute(visibilities)\n",
    "plt.imshow(modulus, cmap='Blues')\n",
    "plt.colorbar();"
   ]
  },
  {
   "cell_type": "markdown",
   "id": "54b17cf9",
   "metadata": {},
   "source": [
    "#### * Sanity check"
   ]
  },
  {
   "cell_type": "code",
   "execution_count": 7,
   "id": "6f6306ea",
   "metadata": {},
   "outputs": [
    {
     "name": "stdout",
     "output_type": "stream",
     "text": [
      "Reals MSE: 4.913804e-13\n",
      "Imaginaries MSE: 1.2721855e-13\n"
     ]
    }
   ],
   "source": [
    "img = np.fft.ifft2(visibilities).astype('complex64')\n",
    "\n",
    "test_real = ((sky_image.real - img.real)**2).mean()\n",
    "test_imag = ((sky_image.imag - img.imag)**2).mean()\n",
    " \n",
    "print('Reals MSE: '+ str(test_real))\n",
    "print('Imaginaries MSE: '+ str(test_imag))"
   ]
  },
  {
   "cell_type": "markdown",
   "id": "56a9e4a5",
   "metadata": {},
   "source": [
    "## 2. Data embedding (calibration step)"
   ]
  },
  {
   "cell_type": "markdown",
   "id": "0acdaf8f",
   "metadata": {},
   "source": [
    "### 2.1 data pre-processing\n",
    "### 2.2 data encoding"
   ]
  },
  {
   "cell_type": "code",
   "execution_count": 20,
   "id": "315d49cd",
   "metadata": {},
   "outputs": [],
   "source": [
    "import qiskit\n",
    "from qiskit import *\n",
    "from qiskit.circuit.library import QFT\n",
    "from qiskit.quantum_info import Statevector\n",
    "from qiskit import QuantumCircuit, transpile\n",
    "from qiskit_aer import AerSimulator"
   ]
  },
  {
   "cell_type": "code",
   "execution_count": 15,
   "id": "dbaa0ac8",
   "metadata": {},
   "outputs": [],
   "source": [
    "def apply_iqft(given_circuit, measurement_qubits, n):\n",
    "\n",
    "    given_circuit.append(QFT(n).inverse(), measurement_qubits)\n",
    "    "
   ]
  },
  {
   "cell_type": "code",
   "execution_count": 16,
   "id": "ce856250",
   "metadata": {},
   "outputs": [],
   "source": [
    "# encoding binary data onto qubits\n",
    "def binary_encode(qc, binary, off_set):\n",
    "    \n",
    "    for i in range(0, len(binary)):\n",
    "        qc.reset(off_set+i) # set quantum state |0> by default for all qubits\n",
    "\n",
    "        if binary[i]=='1':\n",
    "            qc.x(off_set+i) # act as a CX (controlled X gate)\n",
    "    \n",
    "    off_set += len(binary)\n",
    "\n",
    "    return off_set"
   ]
  },
  {
   "cell_type": "code",
   "execution_count": 17,
   "id": "8f61f4e5",
   "metadata": {},
   "outputs": [],
   "source": [
    "number_of_entries = visibilities.shape[0] * visibilities.shape[1]\n",
    "number_of_bits_real = 32\n",
    "number_of_bits_imag = 32\n",
    "number_of_bits = number_of_bits_real + number_of_bits_imag\n",
    "off_set = 0\n",
    "\n",
    "# encoding (n bits encoded onto n qubits)\n",
    "qc = QuantumCircuit(number_of_entries*number_of_bits)\n",
    "for i in range(0, visibilities.shape[0]):\n",
    "    for j in range(0, visibilities.shape[1]):\n",
    "            binary_real = float_to_bin_real(visibilities[i, j].real)\n",
    "            binary_imag = float_to_bin_imag(visibilities[i, j].imag)\n",
    "            binary = binary_real+binary_imag\n",
    "            off_set = binary_encode(qc, binary, off_set)\n",
    "#qc.draw(output='text')\n",
    "apply_iqft(qc, range(number_of_entries*number_of_bits), number_of_entries*number_of_bits)\n",
    "#qc.draw(output='text')"
   ]
  },
  {
   "cell_type": "markdown",
   "id": "2730c66b",
   "metadata": {},
   "source": [
    "## 3. Data reading"
   ]
  },
  {
   "cell_type": "markdown",
   "id": "89f96975",
   "metadata": {},
   "source": [
    "### 3.1 readout"
   ]
  },
  {
   "cell_type": "code",
   "execution_count": 25,
   "id": "d4b2d35f",
   "metadata": {},
   "outputs": [
    {
     "name": "stderr",
     "output_type": "stream",
     "text": [
      "Simulation failed and returned the following error message:\n",
      "ERROR:  [Experiment 0] Insufficient memory to run circuit circuit-94 using the matrix_product_state simulator. Required memory: 8192M, max memory: 8112M\n"
     ]
    },
    {
     "ename": "TypeError",
     "evalue": "'Result' object is not subscriptable",
     "output_type": "error",
     "traceback": [
      "\u001b[1;31m---------------------------------------------------------------------------\u001b[0m",
      "\u001b[1;31mTypeError\u001b[0m                                 Traceback (most recent call last)",
      "\u001b[1;32m<ipython-input-25-4ec392e600a0>\u001b[0m in \u001b[0;36m<module>\u001b[1;34m\u001b[0m\n\u001b[0;32m     16\u001b[0m \u001b[0mchunks_imag\u001b[0m \u001b[1;33m=\u001b[0m \u001b[1;33m[\u001b[0m\u001b[1;33m]\u001b[0m\u001b[1;33m\u001b[0m\u001b[1;33m\u001b[0m\u001b[0m\n\u001b[0;32m     17\u001b[0m \u001b[1;32mfor\u001b[0m \u001b[0mi\u001b[0m \u001b[1;32min\u001b[0m \u001b[0mrange\u001b[0m\u001b[1;33m(\u001b[0m\u001b[1;36m0\u001b[0m\u001b[1;33m,\u001b[0m \u001b[0mnumber_of_entries\u001b[0m\u001b[1;33m)\u001b[0m\u001b[1;33m:\u001b[0m\u001b[1;33m\u001b[0m\u001b[1;33m\u001b[0m\u001b[0m\n\u001b[1;32m---> 18\u001b[1;33m     \u001b[0mchunks_real\u001b[0m\u001b[1;33m.\u001b[0m\u001b[0mappend\u001b[0m\u001b[1;33m(\u001b[0m\u001b[0mout\u001b[0m\u001b[1;33m[\u001b[0m\u001b[0mnumber_of_bits\u001b[0m\u001b[1;33m*\u001b[0m\u001b[0mi\u001b[0m\u001b[1;33m:\u001b[0m\u001b[1;33m(\u001b[0m\u001b[0mnumber_of_bits\u001b[0m\u001b[1;33m*\u001b[0m\u001b[0mi\u001b[0m\u001b[1;33m)\u001b[0m\u001b[1;33m+\u001b[0m\u001b[0mnumber_of_bits_real\u001b[0m\u001b[1;33m]\u001b[0m\u001b[1;33m)\u001b[0m \u001b[1;31m# real parts represented every 64 bits starting from the first one\u001b[0m\u001b[1;33m\u001b[0m\u001b[1;33m\u001b[0m\u001b[0m\n\u001b[0m\u001b[0;32m     19\u001b[0m     \u001b[0mchunks_imag\u001b[0m\u001b[1;33m.\u001b[0m\u001b[0mappend\u001b[0m\u001b[1;33m(\u001b[0m\u001b[0mout\u001b[0m\u001b[1;33m[\u001b[0m\u001b[1;33m(\u001b[0m\u001b[0mnumber_of_bits\u001b[0m\u001b[1;33m*\u001b[0m\u001b[0mi\u001b[0m\u001b[1;33m)\u001b[0m\u001b[1;33m+\u001b[0m\u001b[0mnumber_of_bits_imag\u001b[0m\u001b[1;33m:\u001b[0m\u001b[1;33m(\u001b[0m\u001b[0mnumber_of_bits\u001b[0m\u001b[1;33m*\u001b[0m\u001b[0mi\u001b[0m\u001b[1;33m)\u001b[0m\u001b[1;33m+\u001b[0m\u001b[0mnumber_of_bits_imag\u001b[0m\u001b[1;33m+\u001b[0m\u001b[0mnumber_of_bits_imag\u001b[0m\u001b[1;33m]\u001b[0m\u001b[1;33m)\u001b[0m \u001b[1;31m# imaginary parts represented every 64 bits starting after the first occurence of a real part\u001b[0m\u001b[1;33m\u001b[0m\u001b[1;33m\u001b[0m\u001b[0m\n\u001b[0;32m     20\u001b[0m \u001b[1;33m\u001b[0m\u001b[0m\n",
      "\u001b[1;31mTypeError\u001b[0m: 'Result' object is not subscriptable"
     ]
    }
   ],
   "source": [
    "# measurement\n",
    "qc.measure_all()\n",
    "simulator = AerSimulator(method='matrix_product_state')\n",
    "tqc = transpile(qc, simulator)\n",
    "out = simulator.run(tqc).result()\n",
    "#out = execute(qc,backend=simulator).result()\n",
    "\n",
    "#backend = Aer.get_backend('aer_simulator') # Qiskit's staple simulator (CHOICE MOTIVATION?)\n",
    "#job = backend.run(qc, shots=1, memory=True) \n",
    "#output = job.result().get_memory()[0]\n",
    "#out = reverse(output)\n",
    "#print(out)\n",
    "\n",
    "# readout\n",
    "chunks_real = []\n",
    "chunks_imag = []\n",
    "for i in range(0, number_of_entries):\n",
    "    chunks_real.append(out[number_of_bits*i:(number_of_bits*i)+number_of_bits_real]) # real parts represented every 64 bits starting from the first one\n",
    "    chunks_imag.append(out[(number_of_bits*i)+number_of_bits_imag:(number_of_bits*i)+number_of_bits_imag+number_of_bits_imag]) # imaginary parts represented every 64 bits starting after the first occurence of a real part \n",
    "\n",
    "readout = []\n",
    "for i in range(0, len(chunks_real)):\n",
    "    readout.append(complex(bin_to_float_real(chunks_real[i]), bin_to_float_imag(chunks_imag[i]))) \n",
    "\n",
    "readout = np.array(readout).reshape(n , n).astype('complex64')\n",
    "print(readout)"
   ]
  },
  {
   "cell_type": "markdown",
   "id": "2f5fd4fd",
   "metadata": {},
   "source": [
    "### 3.2 inverse Fourier transform (spatial domain)"
   ]
  },
  {
   "cell_type": "code",
   "execution_count": null,
   "id": "6aa9775a",
   "metadata": {},
   "outputs": [],
   "source": [
    "img = np.fft.ifft2(readout).astype('complex64')"
   ]
  },
  {
   "cell_type": "markdown",
   "id": "d1d05afe",
   "metadata": {},
   "source": [
    "#### fidelity test"
   ]
  },
  {
   "cell_type": "code",
   "execution_count": null,
   "id": "ea5b9246",
   "metadata": {},
   "outputs": [],
   "source": [
    "test_real = ((sky_image.real - img.real)**2).mean()\n",
    "test_imag = ((sky_image.imag - img.imag)**2).mean()\n",
    "\n",
    "print('Reals MSE: '+ str(test_real))\n",
    "print('Imaginaries MSE: '+ str(test_imag))"
   ]
  },
  {
   "cell_type": "code",
   "execution_count": null,
   "id": "16cce23f",
   "metadata": {},
   "outputs": [],
   "source": [
    "fig, axs = plt.subplots(1, 2, figsize=(15,5))\n",
    "modulus1 = np.absolute(sky_image)\n",
    "modulus2 = np.absolute(img)\n",
    "\n",
    "axs[0].imshow(modulus1, cmap='Reds')\n",
    "axs[1].imshow(modulus2, cmap='Reds')\n",
    "\n",
    "axs[0].set_title(\"Original image\")\n",
    "axs[1].set_title(\"Reconstructed image\")\n",
    "\n",
    "for ax in axs.flat:\n",
    "    ax.set(xlabel=n, ylabel=n)"
   ]
  },
  {
   "cell_type": "code",
   "execution_count": null,
   "id": "5c5caa25",
   "metadata": {},
   "outputs": [],
   "source": [
    "pi = np.pi\n",
    "n = 4\n",
    "\n",
    "def myQFT(n):\n",
    "    myQFT = QuantumCircuit(n)\n",
    "    for qbit in range(n):\n",
    "        myQFT.h(qbit)\n",
    "        for other_qbit in range(qbit+1, n):\n",
    "            myQFT.cp( pi/(2**(other_qbit-qbit)), other_qbit, qbit)\n",
    "    return myQFT\n",
    "myQFT = myQFT(n)\n",
    "display(myQFT.draw(output='latex'))\n",
    "display(QFT(n).draw(output='mpl'))"
   ]
  },
  {
   "cell_type": "code",
   "execution_count": null,
   "id": "6e7a063f",
   "metadata": {},
   "outputs": [],
   "source": []
  }
 ],
 "metadata": {
  "kernelspec": {
   "display_name": "Python 3",
   "language": "python",
   "name": "python3"
  },
  "language_info": {
   "codemirror_mode": {
    "name": "ipython",
    "version": 3
   },
   "file_extension": ".py",
   "mimetype": "text/x-python",
   "name": "python",
   "nbconvert_exporter": "python",
   "pygments_lexer": "ipython3",
   "version": "3.8.8"
  }
 },
 "nbformat": 4,
 "nbformat_minor": 5
}
