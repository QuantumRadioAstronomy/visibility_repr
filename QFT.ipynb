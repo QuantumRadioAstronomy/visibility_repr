{
 "cells": [
  {
   "cell_type": "markdown",
   "id": "2a6105cd",
   "metadata": {},
   "source": [
    "# Naive representation"
   ]
  },
  {
   "cell_type": "markdown",
   "id": "7f14d075",
   "metadata": {},
   "source": [
    "*First pipeline:*\n",
    "* **1. Data preparation (correlation step):**\n",
    "    * 1.1 image initialization (spatial domain)\n",
    "    * 1.2 Fourier transform (frequency domain)\n",
    "    \n",
    "    &rarr; simulates radio visibility data\n",
    "* **2. Data embedding (calibration step):**\n",
    "    * 2.1 data pre-processing\n",
    "    * 2.2 data encoding\n",
    "    \n",
    "    &rarr; embeds visibilities into qubits\n",
    "* **3. Data reading (imaging step):**\n",
    "    * 3.1 readout\n",
    "    * 3.2 inverse Fourier transform (spatial domain) - IFT\n",
    "    \n",
    "    &rarr; approximates science-ready intermediate product  \n",
    "\n",
    "*Second pipeline:*\n",
    "* **1. Data preparation (correlation step):**\n",
    "     * 1.1 image initialization (spatial domain)\n",
    "     * 1.2 Fourier transform (frequency domain)\n",
    "     \n",
    "     &rarr; simulates radio visibility data\n",
    "* **2. Data embedding (calibration step):**\n",
    "    * 2.1 data pre-processing\n",
    "    * 2.2 data encoding\n",
    "    * 2.3 quantum inverse Fourier transform - QFT\n",
    "    \n",
    "    &rarr; embeds visibilities into qubits and applies QFT on qubits\n",
    "* **3. Data reading (imaging step):**\n",
    "    * 3.1 readout\n",
    "    \n",
    "    &rarr; approximates science-ready intermediate product  "
   ]
  },
  {
   "cell_type": "markdown",
   "id": "a18aabdb",
   "metadata": {},
   "source": [
    "*Digital encoding (binary):*\n",
    "\n",
    "* circuit family #1 from [Cortese 2018](https://arxiv.org/abs/1803.01958)\n",
    "* to many features to simulate for PennyLane's implementation - Basis embedding ([Teamplates](https://docs.pennylane.ai/en/stable/introduction/templates.html))"
   ]
  },
  {
   "cell_type": "markdown",
   "id": "728a6fdf",
   "metadata": {},
   "source": [
    "#### Prerequisites"
   ]
  },
  {
   "cell_type": "code",
   "execution_count": 1,
   "id": "ad6cbc81",
   "metadata": {},
   "outputs": [],
   "source": [
    "import numpy as np\n",
    "import matplotlib.pyplot as plt\n",
    "import struct"
   ]
  },
  {
   "cell_type": "code",
   "execution_count": 2,
   "id": "253aa61f",
   "metadata": {},
   "outputs": [],
   "source": [
    "# float to binary \n",
    "def float_to_bin_real(num):\n",
    "    return format(struct.unpack('!I', struct.pack('!f', num))[0], '032b')\n",
    "def float_to_bin_imag(num):\n",
    "    return format(struct.unpack('!I', struct.pack('!f', num))[0], '032b')\n",
    "\n",
    "# binary to float\n",
    "def bin_to_float_real(binary):\n",
    "    return struct.unpack('!f',struct.pack('!I', int(binary, 2)))[0]\n",
    "def bin_to_float_imag(binary):\n",
    "    return struct.unpack('!f',struct.pack('!I', int(binary, 2)))[0]\n",
    "\n",
    "# reverse a string (for the measurement step readout)\n",
    "def reverse(string):\n",
    "    string = string[::-1]\n",
    "    return string"
   ]
  },
  {
   "cell_type": "markdown",
   "id": "d6af5b75",
   "metadata": {},
   "source": [
    "## 1. Data preparation (correlation step)"
   ]
  },
  {
   "cell_type": "markdown",
   "id": "f0eb0088",
   "metadata": {},
   "source": [
    "### 1.1 image initialization (spatial domain)"
   ]
  },
  {
   "cell_type": "code",
   "execution_count": 3,
   "id": "21863931",
   "metadata": {},
   "outputs": [
    {
     "name": "stdout",
     "output_type": "stream",
     "text": [
      "[[ 2.71809433e-04+3.03736306e-03j  7.67274620e-03-1.52999675e-02j\n",
      "  -1.10831717e-02-4.97136312e-03j -1.15607288e-02+6.78204559e-03j\n",
      "  -9.47227702e-03-5.60561148e-03j  1.51475985e-02-7.93049578e-03j\n",
      "  -5.91055211e-03-1.21705243e-02j  4.12776833e-03-1.34856384e-02j\n",
      "  -4.66974359e-03-8.23835749e-03j -8.54765624e-03-1.47792371e-03j]\n",
      " [ 6.11880003e-03-6.05211919e-03j  5.62547660e-03+1.20490184e-02j\n",
      "  -3.06193437e-03-3.68515076e-03j -6.81980862e-04-1.08139785e-02j\n",
      "  -6.17862912e-03-5.07723133e-04j  8.21981300e-03-8.34814366e-03j\n",
      "   2.35845149e-03-2.47863051e-03j -5.97251812e-03-6.56024972e-03j\n",
      "   4.20440221e-03+2.60555409e-02j  8.80858023e-03-8.11684818e-04j]\n",
      " [ 2.62587517e-03-8.63730349e-03j -3.62647325e-03-6.28115702e-03j\n",
      "   1.18688531e-02+3.60756600e-03j -1.55002456e-02+2.24983436e-03j\n",
      "  -1.27168568e-02+1.30801871e-02j -2.08388139e-02-1.01625547e-02j\n",
      "  -1.18708601e-02-7.77387014e-03j -5.85054746e-04-1.47651532e-03j\n",
      "   4.24560905e-03-1.78111903e-02j  1.14656966e-02+1.30032999e-02j]\n",
      " [ 1.18462332e-02-8.37379077e-04j  7.10955914e-03+1.61911000e-03j\n",
      "   9.56257433e-03-1.12224463e-02j -8.85210931e-03-8.19874369e-03j\n",
      "   4.18244768e-03+6.49055978e-03j  1.03735588e-02+8.27454217e-03j\n",
      "  -7.84249231e-03-4.65632882e-03j -8.07102770e-03+4.95317252e-03j\n",
      "  -3.95174557e-03-4.60036425e-03j  7.37030292e-03+8.65860097e-03j]\n",
      " [-1.50974635e-02-1.83196957e-04j  7.48013379e-03-8.34258273e-03j\n",
      "   5.95643158e+01+7.42288685e+00j -4.54344507e-03-1.31418863e-02j\n",
      "  -6.67646993e-03+1.05394814e-02j -1.08762819e-03-1.20821614e-02j\n",
      "  -1.21692587e-02+1.50885709e-04j -5.08685224e-03-1.07702683e-03j\n",
      "   6.63840398e-03+1.30589865e-02j -3.67211062e-04+9.65154730e-04j]\n",
      " [-1.73511785e-02+1.15147131e-02j  8.10803757e+01+1.85081978e+01j\n",
      "   3.75811476e-03-3.18388524e-03j  4.07873268e+01+4.22040596e+01j\n",
      "  -1.34656951e-02-4.16634139e-03j  4.73781954e-03+4.55068937e-03j\n",
      "  -1.62604880e-02+9.72378999e-03j  5.58670377e-03+6.08811853e-03j\n",
      "   4.90137143e-03+9.87593271e-03j -8.62382725e-03-1.27995275e-02j]\n",
      " [ 3.86744691e-03-8.18551518e-03j -5.87818678e-03+8.76809563e-03j\n",
      "  -2.11570915e-02-4.97577526e-03j -1.76314916e-02-1.06490171e-02j\n",
      "  -5.18384436e-03-6.34449488e-03j -6.20447192e-03-1.93511238e-04j\n",
      "  -1.51610347e-02+2.06689704e-02j  4.22968622e-03-2.56299525e-02j\n",
      "   9.38565820e-04-1.97783057e-02j -7.38744764e-03-5.52285323e-03j]\n",
      " [-2.51597725e-03-4.40045213e-03j  6.70454698e-03+1.73124031e-03j\n",
      "   1.07440650e-02+2.30929609e-02j  3.35864425e-02-2.04266533e-02j\n",
      "   5.08178584e-03+3.52129922e-04j -1.02225486e-02+4.84613422e-03j\n",
      "   6.93410402e-03-1.32387606e-02j -1.51987886e-02+1.20926546e-02j\n",
      "   3.06007569e-03+6.84354780e-03j -9.21847951e-03+9.21038620e-04j]\n",
      " [ 6.05996000e-04-1.59211457e-03j  6.99719833e-03-6.47550169e-03j\n",
      "   1.26079656e-03-6.68050442e-03j -8.67897761e-04-1.87527842e-03j\n",
      "   6.54369354e+01+3.58362732e+01j  1.05283698e-02-8.57026898e-04j\n",
      "   5.75471483e-03+4.20876453e-03j -1.64491963e-02+1.98892877e-03j\n",
      "  -2.95256707e-03-1.51284020e-02j -5.07258996e-03-2.66988925e-03j]\n",
      " [-5.67171350e-03-1.58612267e-03j -4.77269845e-04-9.09299217e-03j\n",
      "   6.98106736e-03-9.37905442e-03j -1.91591040e-03-4.91757703e-04j\n",
      "   2.58546062e-02-1.29556106e-02j -7.88345002e-03-8.75375886e-03j\n",
      "  -5.67182386e-03-2.43145437e-03j -1.63592864e-02+2.53559952e-03j\n",
      "  -5.35048405e-03-5.40555594e-03j -1.28550818e-02+5.73821086e-03j]]\n"
     ]
    }
   ],
   "source": [
    "# image of the sky filled with double precision complex floats (single precision for reals/imaginaries)\n",
    "# few pixels are set to relatively large complex random values in random spots (image sources)\n",
    "# relatively small complex values are added (white noise from background radiations) \n",
    "\n",
    "n = 10 #number of antennas\n",
    "\n",
    "sky_image = np.zeros((n, n), dtype='complex64')\n",
    "mask = np.zeros((n, n), dtype='bool')\n",
    "stars = np.random.randint(1, 11) #random number of sources\n",
    "radius = 1 #np.random.randint(1, 3) #with random radius\n",
    "\n",
    "for i in range(0, stars):\n",
    "    index_i = np.random.randint(0, sky_image.shape[0]-radius)\n",
    "    index_j = np.random.randint(0, sky_image.shape[1]-radius)\n",
    "    for j in range(0, radius):\n",
    "        for k in range(0, radius):\n",
    "            sky_image[index_i+j][index_j+k] = complex(np.random.rand()*100, np.random.rand()*100)\n",
    "            mask[index_i+j][index_j+k] = True\n",
    "            \n",
    "sky_image.real += np.random.randn(n,n)/100\n",
    "sky_image.imag += np.random.randn(n,n)/100\n",
    "\n",
    "print(sky_image)"
   ]
  },
  {
   "cell_type": "code",
   "execution_count": 4,
   "id": "bd84db7e",
   "metadata": {},
   "outputs": [
    {
     "data": {
      "image/png": "[encoded data removed]",
      "text/plain": [
       "<Figure size 432x288 with 2 Axes>"
      ]
     },
     "metadata": {
      "needs_background": "light"
     },
     "output_type": "display_data"
    }
   ],
   "source": [
    "modulus = np.absolute(sky_image)\n",
    "plt.imshow(modulus, cmap='Reds') \n",
    "cbar = plt.colorbar()"
   ]
  },
  {
   "cell_type": "markdown",
   "id": "37d98bdc",
   "metadata": {},
   "source": [
    "### 1.2 Fourier transform (frequency domain)"
   ]
  },
  {
   "cell_type": "code",
   "execution_count": 5,
   "id": "77e72e60",
   "metadata": {},
   "outputs": [
    {
     "name": "stdout",
     "output_type": "stream",
     "text": [
      "[[ 2.46719376e+02+103.79174j    9.76332550e+01-206.39006j\n",
      "  -7.28295975e+01 -49.236042j   2.37108064e+00 -46.96392j\n",
      "  -6.46595535e+01 -20.061861j   3.12756729e+00 -17.386547j\n",
      "  -1.10340187e+02 -37.324833j  -4.26681595e+01+113.910736j\n",
      "   1.04730582e+00  +2.5931027j -6.05540924e+01+156.89845j  ]\n",
      " [-1.79443985e+02 -28.512884j  -1.02148438e+02 +62.285423j\n",
      "  -4.75213242e+01+150.00002j    1.24274048e+02 +68.03668j\n",
      "  -4.41203737e+00 -33.441315j   6.42508011e+01 +92.976204j\n",
      "   1.05596817e+02-106.68323j   -7.77695236e+01 -13.0276785j\n",
      "   1.25905334e+02 +18.403086j  -8.49217033e+00-210.24422j  ]\n",
      " [ 5.91161652e+01+129.09778j    2.29042404e+02 -41.27382j\n",
      "  -2.15468483e+01-203.42946j   -5.70509262e+01  +7.4430456j\n",
      "  -1.06947571e-01-110.53823j   -1.84614182e+02  +7.8187594j\n",
      "   2.08741570e+01+127.80083j    8.61744785e+00 -40.18627j\n",
      "  -5.84290543e+01 +57.099396j   3.61110282e+00 +66.16922j  ]\n",
      " [-1.28145203e+02-182.66165j   -1.61695358e+02+116.8923j\n",
      "   1.68207207e+01 +59.456463j  -6.33407059e+01 +92.98086j\n",
      "   1.26877007e+02+131.63373j    1.15547768e+02 -61.009174j\n",
      "   4.65136337e+01 -52.18006j   -1.34919481e+01-103.61701j\n",
      "  -6.18991127e+01 +43.72059j    1.23056786e+02 -45.098167j ]\n",
      " [ 1.23628212e+02 +38.56495j    4.14061394e+01 -16.110838j\n",
      "   1.09878250e+02 -38.550865j  -5.70715094e+00-146.42259j\n",
      "  -5.96657944e+01 -56.149906j  -1.20221024e+02 -82.86035j\n",
      "  -1.66601685e+02+153.07552j    1.40161423e+02+124.87143j\n",
      "  -7.03899717e+00 -97.14937j   -5.58565025e+01+120.661095j ]\n",
      " [ 2.96386290e+00 -17.614618j  -1.10229134e+02 -37.186115j\n",
      "  -4.25396767e+01+113.863914j   8.79482627e-01  +2.59551j\n",
      "  -6.06765823e+01+156.73807j    2.46810028e+02+104.007164j\n",
      "   9.76340866e+01-206.45557j   -7.27257080e+01 -49.140118j\n",
      "   2.57914829e+00 -46.761776j  -6.46970215e+01 -20.188463j ]\n",
      " [ 6.42293854e+01 +93.06853j    1.05770004e+02-106.72807j\n",
      "  -7.79170074e+01 -13.022642j   1.25713676e+02 +18.603256j\n",
      "  -8.36458683e+00-209.94237j   -1.79595245e+02 -28.51924j\n",
      "  -1.02122368e+02 +62.408104j  -4.75596008e+01+149.97993j\n",
      "   1.24153580e+02 +68.13565j   -4.38019419e+00 -33.45776j  ]\n",
      " [-1.84552063e+02  +7.7663994j  2.09755554e+01+127.70093j\n",
      "   8.87266731e+00 -40.277683j  -5.83778038e+01 +56.98335j\n",
      "   3.77026010e+00 +66.19747j    5.90674515e+01+129.04485j\n",
      "   2.28916763e+02 -41.205956j  -2.14027481e+01-203.55241j\n",
      "  -5.68200226e+01  +7.5894465j -3.14675540e-01-110.45756j  ]\n",
      " [ 1.15341660e+02 -61.150494j   4.61392288e+01 -52.006683j\n",
      "  -1.33944998e+01-103.71437j   -6.19086647e+01 +43.71446j\n",
      "   1.23279846e+02 -45.006638j  -1.28424759e+02-182.46696j\n",
      "  -1.61764908e+02+116.850464j   1.70179081e+01 +59.575176j\n",
      "  -6.34157600e+01 +93.07034j    1.27005142e+02+131.57585j  ]\n",
      " [-1.20097664e+02 -82.94335j   -1.66769577e+02+153.05038j\n",
      "   1.40175034e+02+124.673416j  -7.18666840e+00 -97.061714j\n",
      "  -5.57856827e+01+120.71207j    1.23674545e+02 +38.42993j\n",
      "   4.14659157e+01 -16.088123j   1.09901993e+02 -38.404243j\n",
      "  -5.49707413e+00-146.45242j   -5.96166382e+01 -55.8966j   ]]\n"
     ]
    }
   ],
   "source": [
    "visibilities = np.fft.fft2(sky_image).astype('complex64')\n",
    "print(visibilities)"
   ]
  },
  {
   "cell_type": "code",
   "execution_count": 6,
   "id": "3570e801",
   "metadata": {},
   "outputs": [
    {
     "data": {
      "image/png": "[encoded data removed]",
      "text/plain": [
       "<Figure size 432x288 with 2 Axes>"
      ]
     },
     "metadata": {
      "needs_background": "light"
     },
     "output_type": "display_data"
    }
   ],
   "source": [
    "modulus = np.absolute(visibilities)\n",
    "plt.imshow(modulus, cmap='Blues')\n",
    "plt.colorbar();"
   ]
  },
  {
   "cell_type": "markdown",
   "id": "54b17cf9",
   "metadata": {},
   "source": [
    "#### * Sanity check"
   ]
  },
  {
   "cell_type": "code",
   "execution_count": 7,
   "id": "6f6306ea",
   "metadata": {},
   "outputs": [
    {
     "name": "stdout",
     "output_type": "stream",
     "text": [
      "Reals MSE: 5.6581682e-14\n",
      "Imaginaries MSE: 3.972789e-14\n"
     ]
    }
   ],
   "source": [
    "img = np.fft.ifft2(visibilities).astype('complex64')\n",
    "\n",
    "test_real = ((sky_image.real - img.real)**2).mean()\n",
    "test_imag = ((sky_image.imag - img.imag)**2).mean()\n",
    " \n",
    "print('Reals MSE: '+ str(test_real))\n",
    "print('Imaginaries MSE: '+ str(test_imag))"
   ]
  },
  {
   "cell_type": "markdown",
   "id": "56a9e4a5",
   "metadata": {},
   "source": [
    "## 2. Data embedding (calibration step)"
   ]
  },
  {
   "cell_type": "markdown",
   "id": "0acdaf8f",
   "metadata": {},
   "source": [
    "### 2.1 data pre-processing\n",
    "### 2.2 data encoding"
   ]
  },
  {
   "cell_type": "code",
   "execution_count": 8,
   "id": "dbb8310d",
   "metadata": {},
   "outputs": [],
   "source": [
    "from qiskit.circuit.library import QFT\n",
    "from qiskit.quantum_info import Statevector\n",
    "from qiskit import QuantumCircuit"
   ]
  },
  {
   "cell_type": "code",
   "execution_count": 13,
   "id": "5709d372",
   "metadata": {},
   "outputs": [
    {
     "ename": "MissingOptionalLibraryError",
     "evalue": "\"The 'pdflatex' library is required to use 'LaTeX circuit drawing'.  You will likely need to install a full LaTeX distribution for your system.\"",
     "output_type": "error",
     "traceback": [
      "\u001b[1;31m---------------------------------------------------------------------------\u001b[0m",
      "\u001b[1;31mMissingOptionalLibraryError\u001b[0m               Traceback (most recent call last)",
      "\u001b[1;32m<ipython-input-13-a2607e7e6bf5>\u001b[0m in \u001b[0;36m<module>\u001b[1;34m\u001b[0m\n\u001b[0;32m      8\u001b[0m             \u001b[0mmyQFT\u001b[0m\u001b[1;33m.\u001b[0m\u001b[0mcp\u001b[0m\u001b[1;33m(\u001b[0m \u001b[0mpi\u001b[0m\u001b[1;33m/\u001b[0m\u001b[1;33m(\u001b[0m\u001b[1;36m2\u001b[0m\u001b[1;33m**\u001b[0m\u001b[1;33m(\u001b[0m\u001b[0mother_qbit\u001b[0m\u001b[1;33m-\u001b[0m\u001b[0mqbit\u001b[0m\u001b[1;33m)\u001b[0m\u001b[1;33m)\u001b[0m\u001b[1;33m,\u001b[0m \u001b[0mother_qbit\u001b[0m\u001b[1;33m,\u001b[0m \u001b[0mqbit\u001b[0m\u001b[1;33m)\u001b[0m\u001b[1;33m\u001b[0m\u001b[1;33m\u001b[0m\u001b[0m\n\u001b[0;32m      9\u001b[0m     \u001b[1;32mreturn\u001b[0m \u001b[0mmyQFT\u001b[0m\u001b[1;33m\u001b[0m\u001b[1;33m\u001b[0m\u001b[0m\n\u001b[1;32m---> 10\u001b[1;33m \u001b[0mdisplay\u001b[0m\u001b[1;33m(\u001b[0m\u001b[0mmyQFT\u001b[0m\u001b[1;33m(\u001b[0m\u001b[0mn\u001b[0m\u001b[1;33m)\u001b[0m\u001b[1;33m.\u001b[0m\u001b[0mdraw\u001b[0m\u001b[1;33m(\u001b[0m\u001b[0moutput\u001b[0m\u001b[1;33m=\u001b[0m\u001b[1;34m'latex'\u001b[0m\u001b[1;33m)\u001b[0m\u001b[1;33m)\u001b[0m\u001b[1;33m\u001b[0m\u001b[1;33m\u001b[0m\u001b[0m\n\u001b[0m\u001b[0;32m     11\u001b[0m \u001b[0mdisplay\u001b[0m\u001b[1;33m(\u001b[0m\u001b[0mQFT\u001b[0m\u001b[1;33m(\u001b[0m\u001b[0mn\u001b[0m\u001b[1;33m)\u001b[0m\u001b[1;33m.\u001b[0m\u001b[0mdraw\u001b[0m\u001b[1;33m(\u001b[0m\u001b[0moutput\u001b[0m\u001b[1;33m=\u001b[0m\u001b[1;34m'mpl'\u001b[0m\u001b[1;33m)\u001b[0m\u001b[1;33m)\u001b[0m\u001b[1;33m\u001b[0m\u001b[1;33m\u001b[0m\u001b[0m\n",
      "\u001b[1;32m~\\anaconda3\\lib\\site-packages\\qiskit\\circuit\\quantumcircuit.py\u001b[0m in \u001b[0;36mdraw\u001b[1;34m(self, output, scale, filename, style, interactive, plot_barriers, reverse_bits, justify, vertical_compression, idle_wires, with_layout, fold, ax, initial_state, cregbundle, wire_order)\u001b[0m\n\u001b[0;32m   1894\u001b[0m         \u001b[1;32mfrom\u001b[0m \u001b[0mqiskit\u001b[0m\u001b[1;33m.\u001b[0m\u001b[0mvisualization\u001b[0m \u001b[1;32mimport\u001b[0m \u001b[0mcircuit_drawer\u001b[0m\u001b[1;33m\u001b[0m\u001b[1;33m\u001b[0m\u001b[0m\n\u001b[0;32m   1895\u001b[0m \u001b[1;33m\u001b[0m\u001b[0m\n\u001b[1;32m-> 1896\u001b[1;33m         return circuit_drawer(\n\u001b[0m\u001b[0;32m   1897\u001b[0m             \u001b[0mself\u001b[0m\u001b[1;33m,\u001b[0m\u001b[1;33m\u001b[0m\u001b[1;33m\u001b[0m\u001b[0m\n\u001b[0;32m   1898\u001b[0m             \u001b[0mscale\u001b[0m\u001b[1;33m=\u001b[0m\u001b[0mscale\u001b[0m\u001b[1;33m,\u001b[0m\u001b[1;33m\u001b[0m\u001b[1;33m\u001b[0m\u001b[0m\n",
      "\u001b[1;32m~\\anaconda3\\lib\\site-packages\\qiskit\\visualization\\circuit\\circuit_visualization.py\u001b[0m in \u001b[0;36mcircuit_drawer\u001b[1;34m(circuit, scale, filename, style, output, interactive, plot_barriers, reverse_bits, justify, vertical_compression, idle_wires, with_layout, fold, ax, initial_state, cregbundle, wire_order)\u001b[0m\n\u001b[0;32m    242\u001b[0m         )\n\u001b[0;32m    243\u001b[0m     \u001b[1;32melif\u001b[0m \u001b[0moutput\u001b[0m \u001b[1;33m==\u001b[0m \u001b[1;34m\"latex\"\u001b[0m\u001b[1;33m:\u001b[0m\u001b[1;33m\u001b[0m\u001b[1;33m\u001b[0m\u001b[0m\n\u001b[1;32m--> 244\u001b[1;33m         image = _latex_circuit_drawer(\n\u001b[0m\u001b[0;32m    245\u001b[0m             \u001b[0mcircuit\u001b[0m\u001b[1;33m,\u001b[0m\u001b[1;33m\u001b[0m\u001b[1;33m\u001b[0m\u001b[0m\n\u001b[0;32m    246\u001b[0m             \u001b[0mfilename\u001b[0m\u001b[1;33m=\u001b[0m\u001b[0mfilename\u001b[0m\u001b[1;33m,\u001b[0m\u001b[1;33m\u001b[0m\u001b[1;33m\u001b[0m\u001b[0m\n",
      "\u001b[1;32m~\\anaconda3\\lib\\site-packages\\qiskit\\utils\\lazy_tester.py\u001b[0m in \u001b[0;36mout\u001b[1;34m(*args, **kwargs)\u001b[0m\n\u001b[0;32m    146\u001b[0m                 \u001b[1;33m@\u001b[0m\u001b[0mfunctools\u001b[0m\u001b[1;33m.\u001b[0m\u001b[0mwraps\u001b[0m\u001b[1;33m(\u001b[0m\u001b[0mfunction\u001b[0m\u001b[1;33m)\u001b[0m\u001b[1;33m\u001b[0m\u001b[1;33m\u001b[0m\u001b[0m\n\u001b[0;32m    147\u001b[0m                 \u001b[1;32mdef\u001b[0m \u001b[0mout\u001b[0m\u001b[1;33m(\u001b[0m\u001b[1;33m*\u001b[0m\u001b[0margs\u001b[0m\u001b[1;33m,\u001b[0m \u001b[1;33m**\u001b[0m\u001b[0mkwargs\u001b[0m\u001b[1;33m)\u001b[0m\u001b[1;33m:\u001b[0m\u001b[1;33m\u001b[0m\u001b[1;33m\u001b[0m\u001b[0m\n\u001b[1;32m--> 148\u001b[1;33m                     \u001b[0mself\u001b[0m\u001b[1;33m.\u001b[0m\u001b[0mrequire_now\u001b[0m\u001b[1;33m(\u001b[0m\u001b[0mfeature\u001b[0m\u001b[1;33m)\u001b[0m\u001b[1;33m\u001b[0m\u001b[1;33m\u001b[0m\u001b[0m\n\u001b[0m\u001b[0;32m    149\u001b[0m                     \u001b[1;32mreturn\u001b[0m \u001b[0mfunction\u001b[0m\u001b[1;33m(\u001b[0m\u001b[1;33m*\u001b[0m\u001b[0margs\u001b[0m\u001b[1;33m,\u001b[0m \u001b[1;33m**\u001b[0m\u001b[0mkwargs\u001b[0m\u001b[1;33m)\u001b[0m\u001b[1;33m\u001b[0m\u001b[1;33m\u001b[0m\u001b[0m\n\u001b[0;32m    150\u001b[0m \u001b[1;33m\u001b[0m\u001b[0m\n",
      "\u001b[1;32m~\\anaconda3\\lib\\site-packages\\qiskit\\utils\\lazy_tester.py\u001b[0m in \u001b[0;36mrequire_now\u001b[1;34m(self, feature)\u001b[0m\n\u001b[0;32m    221\u001b[0m         \u001b[1;32mif\u001b[0m \u001b[0mself\u001b[0m\u001b[1;33m:\u001b[0m\u001b[1;33m\u001b[0m\u001b[1;33m\u001b[0m\u001b[0m\n\u001b[0;32m    222\u001b[0m             \u001b[1;32mreturn\u001b[0m\u001b[1;33m\u001b[0m\u001b[1;33m\u001b[0m\u001b[0m\n\u001b[1;32m--> 223\u001b[1;33m         raise MissingOptionalLibraryError(\n\u001b[0m\u001b[0;32m    224\u001b[0m             \u001b[0mlibname\u001b[0m\u001b[1;33m=\u001b[0m\u001b[0mself\u001b[0m\u001b[1;33m.\u001b[0m\u001b[0m_name\u001b[0m\u001b[1;33m,\u001b[0m \u001b[0mname\u001b[0m\u001b[1;33m=\u001b[0m\u001b[0mfeature\u001b[0m\u001b[1;33m,\u001b[0m \u001b[0mpip_install\u001b[0m\u001b[1;33m=\u001b[0m\u001b[0mself\u001b[0m\u001b[1;33m.\u001b[0m\u001b[0m_install\u001b[0m\u001b[1;33m,\u001b[0m \u001b[0mmsg\u001b[0m\u001b[1;33m=\u001b[0m\u001b[0mself\u001b[0m\u001b[1;33m.\u001b[0m\u001b[0m_msg\u001b[0m\u001b[1;33m\u001b[0m\u001b[1;33m\u001b[0m\u001b[0m\n\u001b[0;32m    225\u001b[0m         )\n",
      "\u001b[1;31mMissingOptionalLibraryError\u001b[0m: \"The 'pdflatex' library is required to use 'LaTeX circuit drawing'.  You will likely need to install a full LaTeX distribution for your system.\""
     ]
    }
   ],
   "source": [
    "pi = np.pi\n",
    "n = 4\n",
    "def myQFT(n):\n",
    "    myQFT = QuantumCircuit(n)\n",
    "    for qbit in range(n):\n",
    "        myQFT.h(qbit)\n",
    "        for other_qbit in range(qbit+1, n):\n",
    "            myQFT.cp( pi/(2**(other_qbit-qbit)), other_qbit, qbit)\n",
    "    return myQFT\n",
    "display(myQFT(n).draw(output='latex'))\n",
    "display(QFT(n).draw(output='mpl'))"
   ]
  },
  {
   "cell_type": "code",
   "execution_count": 10,
   "id": "ce856250",
   "metadata": {},
   "outputs": [],
   "source": [
    "# encoding binary data onto qubits\n",
    "def binary_encode(qc, binary, off_set):\n",
    "    \n",
    "    for i in range(0, len(binary)):\n",
    "        qc.reset(off_set+i) # set quantum state |0> by default for all qubits\n",
    "\n",
    "        if binary[i]=='1':\n",
    "            qc.x(off_set+i) # act as a CX (controlled X gate)\n",
    "    \n",
    "    off_set += len(binary)\n",
    "\n",
    "    return off_set"
   ]
  },
  {
   "cell_type": "code",
   "execution_count": 11,
   "id": "8f61f4e5",
   "metadata": {},
   "outputs": [],
   "source": [
    "number_of_entries = visibilities.shape[0] * visibilities.shape[1]\n",
    "number_of_bits_real = 32\n",
    "number_of_bits_imag = 32\n",
    "number_of_bits = number_of_bits_real + number_of_bits_imag\n",
    "off_set = 0\n",
    "\n",
    "# encoding (n bits encoded onto n qubits)\n",
    "qc = QuantumCircuit(number_of_entries*number_of_bits)\n",
    "for i in range(0, visibilities.shape[0]):\n",
    "    for j in range(0, visibilities.shape[1]):\n",
    "            binary_real = float_to_bin_real(visibilities[i, j].real)\n",
    "            binary_imag = float_to_bin_imag(visibilities[i, j].imag)\n",
    "            binary = binary_real+binary_imag\n",
    "            off_set = binary_encode(qc, binary, off_set)"
   ]
  },
  {
   "cell_type": "markdown",
   "id": "2730c66b",
   "metadata": {},
   "source": [
    "## 3. Data reading"
   ]
  },
  {
   "cell_type": "markdown",
   "id": "89f96975",
   "metadata": {},
   "source": [
    "### 3.1 readout"
   ]
  },
  {
   "cell_type": "code",
   "execution_count": 12,
   "id": "d4b2d35f",
   "metadata": {},
   "outputs": [
    {
     "ename": "NameError",
     "evalue": "name 'Aer' is not defined",
     "output_type": "error",
     "traceback": [
      "\u001b[1;31m---------------------------------------------------------------------------\u001b[0m",
      "\u001b[1;31mNameError\u001b[0m                                 Traceback (most recent call last)",
      "\u001b[1;32m<ipython-input-12-19ef04a28e5c>\u001b[0m in \u001b[0;36m<module>\u001b[1;34m\u001b[0m\n\u001b[0;32m      1\u001b[0m \u001b[1;31m# measurement\u001b[0m\u001b[1;33m\u001b[0m\u001b[1;33m\u001b[0m\u001b[1;33m\u001b[0m\u001b[0m\n\u001b[0;32m      2\u001b[0m \u001b[0mqc\u001b[0m\u001b[1;33m.\u001b[0m\u001b[0mmeasure_all\u001b[0m\u001b[1;33m(\u001b[0m\u001b[1;33m)\u001b[0m\u001b[1;33m\u001b[0m\u001b[1;33m\u001b[0m\u001b[0m\n\u001b[1;32m----> 3\u001b[1;33m \u001b[0mbackend\u001b[0m \u001b[1;33m=\u001b[0m \u001b[0mAer\u001b[0m\u001b[1;33m.\u001b[0m\u001b[0mget_backend\u001b[0m\u001b[1;33m(\u001b[0m\u001b[1;34m'aer_simulator'\u001b[0m\u001b[1;33m)\u001b[0m \u001b[1;31m# Qiskit's staple simulator (CHOICE MOTIVATION?)\u001b[0m\u001b[1;33m\u001b[0m\u001b[1;33m\u001b[0m\u001b[0m\n\u001b[0m\u001b[0;32m      4\u001b[0m \u001b[0mjob\u001b[0m \u001b[1;33m=\u001b[0m \u001b[0mbackend\u001b[0m\u001b[1;33m.\u001b[0m\u001b[0mrun\u001b[0m\u001b[1;33m(\u001b[0m\u001b[0mqc\u001b[0m\u001b[1;33m,\u001b[0m \u001b[0mshots\u001b[0m\u001b[1;33m=\u001b[0m\u001b[1;36m1\u001b[0m\u001b[1;33m,\u001b[0m \u001b[0mmemory\u001b[0m\u001b[1;33m=\u001b[0m\u001b[1;32mTrue\u001b[0m\u001b[1;33m)\u001b[0m\u001b[1;33m\u001b[0m\u001b[1;33m\u001b[0m\u001b[0m\n\u001b[0;32m      5\u001b[0m \u001b[0moutput\u001b[0m \u001b[1;33m=\u001b[0m \u001b[0mjob\u001b[0m\u001b[1;33m.\u001b[0m\u001b[0mresult\u001b[0m\u001b[1;33m(\u001b[0m\u001b[1;33m)\u001b[0m\u001b[1;33m.\u001b[0m\u001b[0mget_memory\u001b[0m\u001b[1;33m(\u001b[0m\u001b[1;33m)\u001b[0m\u001b[1;33m[\u001b[0m\u001b[1;36m0\u001b[0m\u001b[1;33m]\u001b[0m\u001b[1;33m\u001b[0m\u001b[1;33m\u001b[0m\u001b[0m\n",
      "\u001b[1;31mNameError\u001b[0m: name 'Aer' is not defined"
     ]
    }
   ],
   "source": [
    "# measurement\n",
    "qc.measure_all()\n",
    "backend = Aer.get_backend('aer_simulator') # Qiskit's staple simulator (CHOICE MOTIVATION?)\n",
    "job = backend.run(qc, shots=1, memory=True) \n",
    "output = job.result().get_memory()[0]\n",
    "out = reverse(output)\n",
    "\n",
    "# readout\n",
    "chunks_real = []\n",
    "chunks_imag = []\n",
    "for i in range(0, number_of_entries):\n",
    "    chunks_real.append(out[number_of_bits*i:(number_of_bits*i)+number_of_bits_real]) # real parts represented every 64 bits starting from the first one\n",
    "    chunks_imag.append(out[(number_of_bits*i)+number_of_bits_imag:(number_of_bits*i)+number_of_bits_imag+number_of_bits_imag]) # imaginary parts represented every 64 bits starting after the first occurence of a real part \n",
    "\n",
    "readout = []\n",
    "for i in range(0, len(chunks_real)):\n",
    "    readout.append(complex(bin_to_float_real(chunks_real[i]), bin_to_float_imag(chunks_imag[i]))) \n",
    "\n",
    "readout = np.array(readout).reshape(n , n).astype('complex64')\n",
    "print(readout)"
   ]
  },
  {
   "cell_type": "markdown",
   "id": "2f5fd4fd",
   "metadata": {},
   "source": [
    "### 3.2 inverse Fourier transform (spatial domain)"
   ]
  },
  {
   "cell_type": "code",
   "execution_count": null,
   "id": "6aa9775a",
   "metadata": {},
   "outputs": [],
   "source": [
    "img = np.fft.ifft2(readout).astype('complex64')"
   ]
  },
  {
   "cell_type": "markdown",
   "id": "d1d05afe",
   "metadata": {},
   "source": [
    "#### fidelity test"
   ]
  },
  {
   "cell_type": "code",
   "execution_count": null,
   "id": "ea5b9246",
   "metadata": {},
   "outputs": [],
   "source": [
    "test_real = ((sky_image.real - img.real)**2).mean()\n",
    "test_imag = ((sky_image.imag - img.imag)**2).mean()\n",
    "\n",
    "print('Reals MSE: '+ str(test_real))\n",
    "print('Imaginaries MSE: '+ str(test_imag))"
   ]
  },
  {
   "cell_type": "code",
   "execution_count": null,
   "id": "16cce23f",
   "metadata": {},
   "outputs": [],
   "source": [
    "fig, axs = plt.subplots(1, 2, figsize=(15,5))\n",
    "modulus1 = np.absolute(sky_image)\n",
    "modulus2 = np.absolute(img)\n",
    "\n",
    "axs[0].imshow(modulus1, cmap='Reds')\n",
    "axs[1].imshow(modulus2, cmap='Reds')\n",
    "\n",
    "axs[0].set_title(\"Original image\")\n",
    "axs[1].set_title(\"Reconstructed image\")\n",
    "\n",
    "for ax in axs.flat:\n",
    "    ax.set(xlabel=n, ylabel=n)"
   ]
  },
  {
   "cell_type": "code",
   "execution_count": null,
   "id": "6e7a063f",
   "metadata": {},
   "outputs": [],
   "source": []
  }
 ],
 "metadata": {
  "kernelspec": {
   "display_name": "Python 3",
   "language": "python",
   "name": "python3"
  },
  "language_info": {
   "codemirror_mode": {
    "name": "ipython",
    "version": 3
   },
   "file_extension": ".py",
   "mimetype": "text/x-python",
   "name": "python",
   "nbconvert_exporter": "python",
   "pygments_lexer": "ipython3",
   "version": "3.8.8"
  }
 },
 "nbformat": 4,
 "nbformat_minor": 5
}
