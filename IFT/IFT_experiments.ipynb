{
 "cells": [
  {
   "cell_type": "markdown",
   "id": "eb5a1557",
   "metadata": {},
   "source": [
    "# IFT experiments"
   ]
  },
  {
   "cell_type": "code",
   "execution_count": 1,
   "id": "416042c0",
   "metadata": {},
   "outputs": [],
   "source": [
    "import numpy as np\n",
    "import matplotlib.pyplot as plt\n",
    "import struct\n",
    "import math\n",
    "from statistics import mean, stdev\n",
    "import pandas as pd\n",
    "\n",
    "import qiskit\n",
    "from qiskit import *\n",
    "\n",
    "import pennylane as qml\n",
    "from pennylane import numpy as pnp\n",
    "\n",
    "import warnings\n",
    "warnings.filterwarnings('ignore')\n",
    "from tqdm import tqdm\n",
    "\n",
    "from matplotlib import rcParams\n",
    "rcParams['font.family'] = 'serif'\n",
    "rcParams['font.sans-serif'] = ['Times']"
   ]
  },
  {
   "cell_type": "code",
   "execution_count": 2,
   "id": "1a7a6653",
   "metadata": {},
   "outputs": [],
   "source": [
    "# float to binary \n",
    "def float_to_bin_real(num):\n",
    "    return format(struct.unpack('!I', struct.pack('!f', num))[0], '032b')\n",
    "def float_to_bin_imag(num):\n",
    "    return format(struct.unpack('!I', struct.pack('!f', num))[0], '032b')\n",
    "\n",
    "# binary to float\n",
    "def bin_to_float_real(binary):\n",
    "    return struct.unpack('!f',struct.pack('!I', int(binary, 2)))[0]\n",
    "def bin_to_float_imag(binary):\n",
    "    return struct.unpack('!f',struct.pack('!I', int(binary, 2)))[0]\n",
    "\n",
    "# reverse a string (for the measurement step readout)\n",
    "def reverse(string):\n",
    "    string = string[::-1]\n",
    "    return string"
   ]
  },
  {
   "cell_type": "code",
   "execution_count": 3,
   "id": "35c4df90",
   "metadata": {},
   "outputs": [],
   "source": [
    "def generate_img(n):\n",
    "\n",
    "    sky_image = np.zeros((n, n), dtype='complex64')\n",
    "    mask = np.zeros((n, n), dtype='bool')\n",
    "    stars = np.random.randint(1, 7) \n",
    "    radius = 1 \n",
    "\n",
    "    for i in range(0, stars):\n",
    "        index_i = np.random.randint(0, n-radius)\n",
    "        index_j = np.random.randint(0, n-radius)\n",
    "        for j in range(0, radius):\n",
    "            for k in range(0, radius):\n",
    "                sky_image[index_i+j][index_j+k] = complex(np.random.rand()*100, np.random.rand()*100)\n",
    "                mask[index_i+j][index_j+k] = True\n",
    "            \n",
    "    sky_image.real += np.random.randn(n,n)/100\n",
    "    sky_image.imag += np.random.randn(n,n)/100\n",
    "    \n",
    "    visibilities = np.fft.fft2(sky_image).astype('complex64')\n",
    "    \n",
    "    return sky_image, visibilities"
   ]
  },
  {
   "cell_type": "code",
   "execution_count": 4,
   "id": "bfb65987",
   "metadata": {},
   "outputs": [],
   "source": [
    "def binary_encode(qc, binary, off_set):\n",
    "    \n",
    "    for i in range(0, len(binary)):\n",
    "        qc.reset(off_set+i) \n",
    "\n",
    "        if binary[i]=='1':\n",
    "            qc.x(off_set+i) \n",
    "    \n",
    "    off_set += len(binary)\n",
    "\n",
    "    return off_set"
   ]
  },
  {
   "cell_type": "code",
   "execution_count": 5,
   "id": "10a80907",
   "metadata": {},
   "outputs": [],
   "source": [
    "def binary(img):\n",
    "    \n",
    "    number_of_pixels = img.shape[0]*img.shape[1]\n",
    "    number_of_bits_real = 32\n",
    "    number_of_bits_imag = 32\n",
    "    number_of_bits = number_of_bits_real + number_of_bits_imag\n",
    "    number_of_qbits = number_of_pixels*number_of_bits\n",
    "    off_set = 0\n",
    "\n",
    "    qc = QuantumCircuit(number_of_qbits)\n",
    "    for i in range(0, img.shape[0]):\n",
    "        for j in range(0, img.shape[1]):\n",
    "                binary_real = float_to_bin_real(img[i, j].real)\n",
    "                binary_imag = float_to_bin_imag(img[i, j].imag)\n",
    "                binary = binary_real+binary_imag\n",
    "                off_set = binary_encode(qc, binary, off_set)\n",
    "                \n",
    "    qc.measure_all()\n",
    "    backend = Aer.get_backend('aer_simulator') \n",
    "    job = backend.run(qc, shots=1, memory=True) \n",
    "    output = job.result().get_memory()[0]\n",
    "    out = reverse(output)\n",
    "    \n",
    "    chunks_real = []\n",
    "    chunks_imag = []\n",
    "    for i in range(0, number_of_pixels):\n",
    "        chunks_real.append(out[number_of_bits*i:(number_of_bits*i)+number_of_bits_real]) \n",
    "        chunks_imag.append(out[(number_of_bits*i)+number_of_bits_imag:(number_of_bits*i)+number_of_bits_imag+number_of_bits_imag]) \n",
    "\n",
    "    readout = []\n",
    "    for i in range(0, len(chunks_real)):\n",
    "        readout.append(complex(bin_to_float_real(chunks_real[i]), bin_to_float_imag(chunks_imag[i]))) \n",
    "\n",
    "    readout = np.array(readout).reshape(img.shape[0] , img.shape[1]).astype('complex64')\n",
    "    readout = np.fft.ifft2(readout).astype('complex64') #IFT\n",
    "    \n",
    "    return readout"
   ]
  },
  {
   "cell_type": "code",
   "execution_count": 6,
   "id": "24c5b3e7",
   "metadata": {},
   "outputs": [],
   "source": [
    "def MSE(img1, img2):\n",
    "    diff_real = (img1.real - img2.real)\n",
    "    diff_imag = (img1.imag - img2.imag)\n",
    "    diff_sum = diff_real + diff_imag\n",
    "    \n",
    "    mse = (diff_sum**2).mean()\n",
    "    \n",
    "    return mse"
   ]
  },
  {
   "cell_type": "code",
   "execution_count": 7,
   "id": "4b78d291",
   "metadata": {},
   "outputs": [
    {
     "name": "stderr",
     "output_type": "stream",
     "text": [
      "100%|███████████████████████████████████████████████████████████████████████████████████| 9/9 [17:43<00:00, 118.16s/it]"
     ]
    },
    {
     "name": "stdout",
     "output_type": "stream",
     "text": [
      "Binary results: \u001b[1m[(8.5621896e-13, 9.314769e-13), (1.0703947e-12, 1.031934e-12), (6.1530197e-13, 4.58401e-13), (4.3770998e-13, 3.0653821e-13), (3.7242133e-13, 2.3641687e-13), (2.614068e-13, 1.7096304e-13), (2.4939667e-13, 1.5502449e-13), (1.6328012e-13, 1.0042324e-13), (1.5487389e-13, 9.551141e-14)]\u001b[0m\n",
      "\n",
      "Amplitude results: \u001b[1m[(6.2157124e-12, 1.1456918e-11), (7.2550668e-12, 1.08247e-11), (2.6770112e-12, 3.4051492e-12), (3.5652857e-12, 4.4010702e-12), (3.8880626e-12, 5.241856e-12), (1.9368743e-12, 2.786322e-12), (9.452298e-13, 8.0635883e-13), (1.1540915e-12, 1.4901737e-12), (1.3168791e-12, 1.8783306e-12)]\u001b[0m\n"
     ]
    },
    {
     "name": "stderr",
     "output_type": "stream",
     "text": [
      "\n"
     ]
    }
   ],
   "source": [
    "img_sizes = [2, 3, 4, 5, 6, 7, 8, 9, 10]\n",
    "binary_results = []\n",
    "amplitude_results = []\n",
    "\n",
    "for i in tqdm(range(0, len(img_sizes))):\n",
    "    \n",
    "    iterations = 100\n",
    "    img_size = img_sizes[i]\n",
    "    binary_MSE = []\n",
    "    amplitude_MSE = []\n",
    "\n",
    "    for j in range(0, iterations):\n",
    "\n",
    "        initial, visibilities = generate_img(img_size) \n",
    "\n",
    "        # BINARY\n",
    "        binary_readout = binary(visibilities)\n",
    "\n",
    "        # AMPLITUDE\n",
    "        n_n = img_size*img_size\n",
    "        inp = visibilities.flatten()\n",
    "        norm = qml.math.sum(qml.math.abs(inp) ** 2)\n",
    "        number_of_qbits = math.ceil(math.log2(n_n))\n",
    "        wires = range(number_of_qbits)\n",
    "        amp_dev = qml.device('default.qubit', wires)\n",
    "        @qml.qnode(amp_dev)\n",
    "        def amp_encoding(data):\n",
    "            qml.AmplitudeEmbedding(data, wires, normalize=True, pad_with=0.)\n",
    "            return qml.state()\n",
    "        readout = amp_encoding(inp).astype('complex64')\n",
    "        readout.numpy()\n",
    "        readout = readout*qml.math.sqrt(norm) \n",
    "        readout = readout[:n_n] \n",
    "        readout = np.array(readout).reshape(img_size , img_size)\n",
    "        amplitude_readout = np.fft.ifft2(readout).astype('complex64')\n",
    "\n",
    "        binary_mse = MSE(initial, binary_readout)\n",
    "        amplitude_mse = MSE(initial, amplitude_readout)\n",
    "\n",
    "        binary_MSE.append(binary_mse)\n",
    "        amplitude_MSE.append(amplitude_mse)\n",
    "\n",
    "    binary_mean = mean(binary_MSE)\n",
    "    binary_std = np.std(binary_MSE)\n",
    "    amplitude_mean = mean(amplitude_MSE)\n",
    "    amplitude_std = np.std(amplitude_MSE)\n",
    "    \n",
    "    binary_results.append((binary_mean, binary_std))\n",
    "    amplitude_results.append((amplitude_mean, amplitude_std))\n",
    "\n",
    "print('Binary results: '+ '\\033[1m' + str(binary_results) + '\\033[0m')\n",
    "print()\n",
    "print('Amplitude results: '+ '\\033[1m' + str(amplitude_results) + '\\033[0m')"
   ]
  },
  {
   "cell_type": "code",
   "execution_count": 8,
   "id": "7a25acdf",
   "metadata": {},
   "outputs": [
    {
     "name": "stdout",
     "output_type": "stream",
     "text": [
      "Binary absolute mean: \u001b[1m4.645561e-13\u001b[0m\n",
      "Binary absolute std: \u001b[1m3.874099e-13\u001b[0m\n",
      "\n",
      "Amplitude absolute mean: \u001b[1m3.217135e-12\u001b[0m\n",
      "Amplitude absolute std: \u001b[1m4.6989864e-12\u001b[0m\n"
     ]
    }
   ],
   "source": [
    "binary_tmp = []\n",
    "for i in range(0, len(binary_results)):\n",
    "    binary_tmp.append(binary_results[i][0])\n",
    "binary_absolute_mean = mean(binary_tmp)\n",
    "\n",
    "amplitude_tmp = []\n",
    "for i in range(0, len(amplitude_results)):\n",
    "    amplitude_tmp.append(amplitude_results[i][0])\n",
    "amplitude_absolute_mean = mean(amplitude_tmp)\n",
    "\n",
    "binary_tmp2 = []\n",
    "for i in range(0, len(binary_results)):\n",
    "    binary_tmp2.append(binary_results[i][1])\n",
    "binary_absolute_std = mean(binary_tmp2)\n",
    "\n",
    "amplitude_tmp2 = []\n",
    "for i in range(0, len(amplitude_results)):\n",
    "    amplitude_tmp2.append(amplitude_results[i][1])\n",
    "amplitude_absolute_std = mean(amplitude_tmp2)\n",
    "\n",
    "print('Binary absolute mean: '+ '\\033[1m' + str(binary_absolute_mean) + '\\033[0m')\n",
    "print('Binary absolute std: '+ '\\033[1m' + str(binary_absolute_std) + '\\033[0m')\n",
    "print()\n",
    "print('Amplitude absolute mean: '+ '\\033[1m' + str(amplitude_absolute_mean) + '\\033[0m')\n",
    "print('Amplitude absolute std: '+ '\\033[1m' + str(amplitude_absolute_std) + '\\033[0m')"
   ]
  },
  {
   "cell_type": "code",
   "execution_count": 9,
   "id": "75fcde5e",
   "metadata": {},
   "outputs": [
    {
     "data": {
      "text/html": [
       "<div>\n",
       "<style scoped>\n",
       "    .dataframe tbody tr th:only-of-type {\n",
       "        vertical-align: middle;\n",
       "    }\n",
       "\n",
       "    .dataframe tbody tr th {\n",
       "        vertical-align: top;\n",
       "    }\n",
       "\n",
       "    .dataframe thead th {\n",
       "        text-align: right;\n",
       "    }\n",
       "</style>\n",
       "<table border=\"1\" class=\"dataframe\">\n",
       "  <thead>\n",
       "    <tr style=\"text-align: right;\">\n",
       "      <th></th>\n",
       "      <th>Binary</th>\n",
       "      <th>Amplitude</th>\n",
       "    </tr>\n",
       "    <tr>\n",
       "      <th>antennas</th>\n",
       "      <th></th>\n",
       "      <th></th>\n",
       "    </tr>\n",
       "  </thead>\n",
       "  <tbody>\n",
       "    <tr>\n",
       "      <th>2</th>\n",
       "      <td>8.562190e-13</td>\n",
       "      <td>6.215712e-12</td>\n",
       "    </tr>\n",
       "    <tr>\n",
       "      <th>3</th>\n",
       "      <td>1.070395e-12</td>\n",
       "      <td>7.255067e-12</td>\n",
       "    </tr>\n",
       "    <tr>\n",
       "      <th>4</th>\n",
       "      <td>6.153020e-13</td>\n",
       "      <td>2.677011e-12</td>\n",
       "    </tr>\n",
       "    <tr>\n",
       "      <th>5</th>\n",
       "      <td>4.377100e-13</td>\n",
       "      <td>3.565286e-12</td>\n",
       "    </tr>\n",
       "    <tr>\n",
       "      <th>6</th>\n",
       "      <td>3.724213e-13</td>\n",
       "      <td>3.888063e-12</td>\n",
       "    </tr>\n",
       "    <tr>\n",
       "      <th>7</th>\n",
       "      <td>2.614068e-13</td>\n",
       "      <td>1.936874e-12</td>\n",
       "    </tr>\n",
       "    <tr>\n",
       "      <th>8</th>\n",
       "      <td>2.493967e-13</td>\n",
       "      <td>9.452298e-13</td>\n",
       "    </tr>\n",
       "    <tr>\n",
       "      <th>9</th>\n",
       "      <td>1.632801e-13</td>\n",
       "      <td>1.154091e-12</td>\n",
       "    </tr>\n",
       "    <tr>\n",
       "      <th>10</th>\n",
       "      <td>1.548739e-13</td>\n",
       "      <td>1.316879e-12</td>\n",
       "    </tr>\n",
       "  </tbody>\n",
       "</table>\n",
       "</div>"
      ],
      "text/plain": [
       "                Binary     Amplitude\n",
       "antennas                            \n",
       "2         8.562190e-13  6.215712e-12\n",
       "3         1.070395e-12  7.255067e-12\n",
       "4         6.153020e-13  2.677011e-12\n",
       "5         4.377100e-13  3.565286e-12\n",
       "6         3.724213e-13  3.888063e-12\n",
       "7         2.614068e-13  1.936874e-12\n",
       "8         2.493967e-13  9.452298e-13\n",
       "9         1.632801e-13  1.154091e-12\n",
       "10        1.548739e-13  1.316879e-12"
      ]
     },
     "execution_count": 9,
     "metadata": {},
     "output_type": "execute_result"
    }
   ],
   "source": [
    "df_mean = pd.DataFrame({'antennas':['2','3','4','5','6','7','8','9','10'],\n",
    "                   'Binary':binary_tmp,\n",
    "                    'Amplitude':amplitude_tmp})\n",
    "df_mean = df_mean.set_index('antennas')\n",
    "df_mean"
   ]
  },
  {
   "cell_type": "code",
   "execution_count": 10,
   "id": "3e8d5000",
   "metadata": {},
   "outputs": [
    {
     "data": {
      "text/html": [
       "<div>\n",
       "<style scoped>\n",
       "    .dataframe tbody tr th:only-of-type {\n",
       "        vertical-align: middle;\n",
       "    }\n",
       "\n",
       "    .dataframe tbody tr th {\n",
       "        vertical-align: top;\n",
       "    }\n",
       "\n",
       "    .dataframe thead th {\n",
       "        text-align: right;\n",
       "    }\n",
       "</style>\n",
       "<table border=\"1\" class=\"dataframe\">\n",
       "  <thead>\n",
       "    <tr style=\"text-align: right;\">\n",
       "      <th></th>\n",
       "      <th>Binary</th>\n",
       "      <th>Amplitude</th>\n",
       "    </tr>\n",
       "    <tr>\n",
       "      <th>antennas</th>\n",
       "      <th></th>\n",
       "      <th></th>\n",
       "    </tr>\n",
       "  </thead>\n",
       "  <tbody>\n",
       "    <tr>\n",
       "      <th>2</th>\n",
       "      <td>9.314769e-13</td>\n",
       "      <td>1.145692e-11</td>\n",
       "    </tr>\n",
       "    <tr>\n",
       "      <th>3</th>\n",
       "      <td>1.031934e-12</td>\n",
       "      <td>1.082470e-11</td>\n",
       "    </tr>\n",
       "    <tr>\n",
       "      <th>4</th>\n",
       "      <td>4.584010e-13</td>\n",
       "      <td>3.405149e-12</td>\n",
       "    </tr>\n",
       "    <tr>\n",
       "      <th>5</th>\n",
       "      <td>3.065382e-13</td>\n",
       "      <td>4.401070e-12</td>\n",
       "    </tr>\n",
       "    <tr>\n",
       "      <th>6</th>\n",
       "      <td>2.364169e-13</td>\n",
       "      <td>5.241856e-12</td>\n",
       "    </tr>\n",
       "    <tr>\n",
       "      <th>7</th>\n",
       "      <td>1.709630e-13</td>\n",
       "      <td>2.786322e-12</td>\n",
       "    </tr>\n",
       "    <tr>\n",
       "      <th>8</th>\n",
       "      <td>1.550245e-13</td>\n",
       "      <td>8.063588e-13</td>\n",
       "    </tr>\n",
       "    <tr>\n",
       "      <th>9</th>\n",
       "      <td>1.004232e-13</td>\n",
       "      <td>1.490174e-12</td>\n",
       "    </tr>\n",
       "    <tr>\n",
       "      <th>10</th>\n",
       "      <td>9.551141e-14</td>\n",
       "      <td>1.878331e-12</td>\n",
       "    </tr>\n",
       "  </tbody>\n",
       "</table>\n",
       "</div>"
      ],
      "text/plain": [
       "                Binary     Amplitude\n",
       "antennas                            \n",
       "2         9.314769e-13  1.145692e-11\n",
       "3         1.031934e-12  1.082470e-11\n",
       "4         4.584010e-13  3.405149e-12\n",
       "5         3.065382e-13  4.401070e-12\n",
       "6         2.364169e-13  5.241856e-12\n",
       "7         1.709630e-13  2.786322e-12\n",
       "8         1.550245e-13  8.063588e-13\n",
       "9         1.004232e-13  1.490174e-12\n",
       "10        9.551141e-14  1.878331e-12"
      ]
     },
     "execution_count": 10,
     "metadata": {},
     "output_type": "execute_result"
    }
   ],
   "source": [
    "df_std = pd.DataFrame({'antennas':['2','3','4','5','6','7','8','9','10'],\n",
    "                   'Binary':binary_tmp2,\n",
    "                    'Amplitude':amplitude_tmp2})\n",
    "df_std = df_std.set_index('antennas')\n",
    "df_std"
   ]
  },
  {
   "cell_type": "code",
   "execution_count": 15,
   "id": "2f1bdf05",
   "metadata": {},
   "outputs": [
    {
     "data": {
      "image/png": "[encoded data removed]",
      "text/plain": [
       "<Figure size 432x288 with 1 Axes>"
      ]
     },
     "metadata": {
      "needs_background": "light"
     },
     "output_type": "display_data"
    }
   ],
   "source": [
    "x = img_sizes\n",
    "plt.plot(x, binary_tmp, label = \"Binary\", color='red')\n",
    "plt.plot(x, amplitude_tmp, label = \"QPIE\", color='blue')\n",
    "plt.xlabel('Number Of Antennas')\n",
    "plt.ylabel('Information Loss (MSE)')\n",
    "plt.legend(loc=0, frameon=False)\n",
    "\n",
    "plt.savefig('plot1.pdf')\n",
    "plt.show()"
   ]
  },
  {
   "cell_type": "code",
   "execution_count": 16,
   "id": "ca3329ae",
   "metadata": {},
   "outputs": [
    {
     "name": "stdout",
     "output_type": "stream",
     "text": [
      "2730.6666666666665\n",
      "\n",
      "5.222222222222222\n"
     ]
    }
   ],
   "source": [
    "binary_qubits = [256,576,1024,1600,2304,3136,4096,5184,6400]\n",
    "binary_qubits_mean = mean(binary_qubits)\n",
    "amplitude_qubits = [2,4,4,5,6,6,6,7,7]\n",
    "amplitude_qubits_mean = mean(amplitude_qubits)\n",
    "print(binary_qubits_mean)\n",
    "print()\n",
    "print(amplitude_qubits_mean)"
   ]
  },
  {
   "cell_type": "code",
   "execution_count": 17,
   "id": "8bded5d4",
   "metadata": {},
   "outputs": [
    {
     "data": {
      "image/png": "[encoded data removed]",
      "text/plain": [
       "<Figure size 432x288 with 2 Axes>"
      ]
     },
     "metadata": {
      "needs_background": "light"
     },
     "output_type": "display_data"
    }
   ],
   "source": [
    "new_binary_qubits = []\n",
    "for i in range(0, len(binary_qubits)):\n",
    "    new_binary_qubits.append(binary_qubits[i]/1000)\n",
    "    \n",
    "fig, ax1 = plt.subplots()\n",
    "\n",
    "ax1.set_xlabel('Number Of Antennas')\n",
    "\n",
    "lns1 = ax1.plot(new_binary_qubits, label='Binary', color='red')\n",
    "ax1.set_ylabel('Number Of Qubits (thousands)')\n",
    "ax1.tick_params(axis='y')\n",
    "\n",
    "ax2 = ax1.twinx()  \n",
    "\n",
    "lns2 = ax2.plot(amplitude_qubits, label='QPIE', color='blue')\n",
    "ax2.set_ylabel('Number Of Qubits (int)')\n",
    "ax2.tick_params(axis='y')\n",
    "\n",
    "fig.tight_layout() \n",
    "leg = lns1 + lns2\n",
    "labs = [l.get_label() for l in leg]\n",
    "ax1.legend(leg, labs, loc=0, frameon=False)\n",
    "\n",
    "plt.savefig('plot2.pdf')\n",
    "\n",
    "plt.show()"
   ]
  },
  {
   "cell_type": "code",
   "execution_count": null,
   "id": "7aa2c5ad",
   "metadata": {},
   "outputs": [],
   "source": []
  }
 ],
 "metadata": {
  "kernelspec": {
   "display_name": "Python 3",
   "language": "python",
   "name": "python3"
  },
  "language_info": {
   "codemirror_mode": {
    "name": "ipython",
    "version": 3
   },
   "file_extension": ".py",
   "mimetype": "text/x-python",
   "name": "python",
   "nbconvert_exporter": "python",
   "pygments_lexer": "ipython3",
   "version": "3.8.8"
  }
 },
 "nbformat": 4,
 "nbformat_minor": 5
}
