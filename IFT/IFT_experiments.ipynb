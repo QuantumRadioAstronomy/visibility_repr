{
 "cells": [
  {
   "cell_type": "markdown",
   "id": "eb5a1557",
   "metadata": {},
   "source": [
    "# IFT experiments"
   ]
  },
  {
   "cell_type": "code",
   "execution_count": 1,
   "id": "416042c0",
   "metadata": {},
   "outputs": [],
   "source": [
    "import numpy as np\n",
    "import matplotlib.pyplot as plt\n",
    "import struct\n",
    "import math\n",
    "from statistics import mean, stdev\n",
    "import pandas as pd\n",
    "\n",
    "import qiskit\n",
    "from qiskit import *\n",
    "\n",
    "import pennylane as qml\n",
    "from pennylane import numpy as pnp\n",
    "\n",
    "import warnings\n",
    "warnings.filterwarnings('ignore')\n",
    "from tqdm import tqdm\n",
    "\n",
    "from matplotlib import rcParams\n",
    "rcParams['font.family'] = 'serif'\n",
    "rcParams['font.sans-serif'] = ['Times']"
   ]
  },
  {
   "cell_type": "code",
   "execution_count": 2,
   "id": "1a7a6653",
   "metadata": {},
   "outputs": [],
   "source": [
    "# float to binary \n",
    "def float_to_bin_real(num):\n",
    "    return format(struct.unpack('!I', struct.pack('!f', num))[0], '032b')\n",
    "def float_to_bin_imag(num):\n",
    "    return format(struct.unpack('!I', struct.pack('!f', num))[0], '032b')\n",
    "\n",
    "# binary to float\n",
    "def bin_to_float_real(binary):\n",
    "    return struct.unpack('!f',struct.pack('!I', int(binary, 2)))[0]\n",
    "def bin_to_float_imag(binary):\n",
    "    return struct.unpack('!f',struct.pack('!I', int(binary, 2)))[0]\n",
    "\n",
    "# reverse a string (for the measurement step readout)\n",
    "def reverse(string):\n",
    "    string = string[::-1]\n",
    "    return string"
   ]
  },
  {
   "cell_type": "code",
   "execution_count": 3,
   "id": "35c4df90",
   "metadata": {},
   "outputs": [],
   "source": [
    "def generate_img(n):\n",
    "\n",
    "    sky_image = np.zeros((n, n), dtype='complex64')\n",
    "    mask = np.zeros((n, n), dtype='bool')\n",
    "    stars = np.random.randint(1, 7) \n",
    "    radius = 1 \n",
    "\n",
    "    for i in range(0, stars):\n",
    "        index_i = np.random.randint(0, n-radius)\n",
    "        index_j = np.random.randint(0, n-radius)\n",
    "        for j in range(0, radius):\n",
    "            for k in range(0, radius):\n",
    "                sky_image[index_i+j][index_j+k] = complex(np.random.rand()*100, np.random.rand()*100)\n",
    "                mask[index_i+j][index_j+k] = True\n",
    "            \n",
    "    sky_image.real += np.random.randn(n,n)/100\n",
    "    sky_image.imag += np.random.randn(n,n)/100\n",
    "    \n",
    "    visibilities = np.fft.fft2(sky_image).astype('complex64')\n",
    "    \n",
    "    return sky_image, visibilities"
   ]
  },
  {
   "cell_type": "code",
   "execution_count": 4,
   "id": "bfb65987",
   "metadata": {},
   "outputs": [],
   "source": [
    "def binary_encode(qc, binary, off_set):\n",
    "    \n",
    "    for i in range(0, len(binary)):\n",
    "        qc.reset(off_set+i) \n",
    "\n",
    "        if binary[i]=='1':\n",
    "            qc.x(off_set+i) \n",
    "    \n",
    "    off_set += len(binary)\n",
    "\n",
    "    return off_set"
   ]
  },
  {
   "cell_type": "code",
   "execution_count": 5,
   "id": "10a80907",
   "metadata": {},
   "outputs": [],
   "source": [
    "def binary(img):\n",
    "    \n",
    "    number_of_pixels = img.shape[0]*img.shape[1]\n",
    "    number_of_bits_real = 32\n",
    "    number_of_bits_imag = 32\n",
    "    number_of_bits = number_of_bits_real + number_of_bits_imag\n",
    "    number_of_qbits = number_of_pixels*number_of_bits\n",
    "    off_set = 0\n",
    "\n",
    "    qc = QuantumCircuit(number_of_qbits)\n",
    "    for i in range(0, img.shape[0]):\n",
    "        for j in range(0, img.shape[1]):\n",
    "                binary_real = float_to_bin_real(img[i, j].real)\n",
    "                binary_imag = float_to_bin_imag(img[i, j].imag)\n",
    "                binary = binary_real+binary_imag\n",
    "                off_set = binary_encode(qc, binary, off_set)\n",
    "                \n",
    "    qc.measure_all()\n",
    "    backend = Aer.get_backend('aer_simulator') \n",
    "    job = backend.run(qc, shots=1, memory=True) \n",
    "    output = job.result().get_memory()[0]\n",
    "    out = reverse(output)\n",
    "    \n",
    "    chunks_real = []\n",
    "    chunks_imag = []\n",
    "    for i in range(0, number_of_pixels):\n",
    "        chunks_real.append(out[number_of_bits*i:(number_of_bits*i)+number_of_bits_real]) \n",
    "        chunks_imag.append(out[(number_of_bits*i)+number_of_bits_imag:(number_of_bits*i)+number_of_bits_imag+number_of_bits_imag]) \n",
    "\n",
    "    readout = []\n",
    "    for i in range(0, len(chunks_real)):\n",
    "        readout.append(complex(bin_to_float_real(chunks_real[i]), bin_to_float_imag(chunks_imag[i]))) \n",
    "\n",
    "    readout = np.array(readout).reshape(img.shape[0] , img.shape[1]).astype('complex64')\n",
    "    readout = np.fft.ifft2(readout).astype('complex64') #IFT\n",
    "    \n",
    "    return readout"
   ]
  },
  {
   "cell_type": "code",
   "execution_count": 6,
   "id": "24c5b3e7",
   "metadata": {},
   "outputs": [],
   "source": [
    "def MSE(img1, img2):\n",
    "    diff_real = (img1.real - img2.real)\n",
    "    diff_imag = (img1.imag - img2.imag)\n",
    "    diff_sum = diff_real + diff_imag\n",
    "    \n",
    "    mse = (diff_sum**2).mean()\n",
    "    \n",
    "    return mse"
   ]
  },
  {
   "cell_type": "code",
   "execution_count": 7,
   "id": "4b78d291",
   "metadata": {},
   "outputs": [
    {
     "name": "stderr",
     "output_type": "stream",
     "text": [
      "100%|███████████████████████████████████████████████████████████████████████████████████| 9/9 [19:25<00:00, 129.55s/it]"
     ]
    },
    {
     "name": "stdout",
     "output_type": "stream",
     "text": [
      "Binary results: \u001b[1m[(7.4071305e-13, 9.318306e-13), (8.231957e-13, 7.0513517e-13), (6.184526e-13, 5.1074997e-13), (4.5845657e-13, 3.1678935e-13), (3.7541937e-13, 2.691695e-13), (2.8956012e-13, 1.9036347e-13), (2.1908499e-13, 1.4241265e-13), (1.6243966e-13, 8.473964e-14), (1.5101828e-13, 9.1092674e-14)]\u001b[0m\n",
      "\n",
      "Amplitude results: \u001b[1m[(4.505465e-12, 9.979801e-12), (7.559815e-12, 1.3129001e-11), (3.2380164e-12, 4.543424e-12), (2.7083034e-12, 4.0453205e-12), (3.2974413e-12, 4.0501955e-12), (2.2260022e-12, 2.9366544e-12), (9.871538e-13, 1.4415105e-12), (1.0470022e-12, 1.6801641e-12), (1.0763986e-12, 1.5058522e-12)]\u001b[0m\n"
     ]
    },
    {
     "name": "stderr",
     "output_type": "stream",
     "text": [
      "\n"
     ]
    }
   ],
   "source": [
    "img_sizes = [2, 3, 4, 5, 6, 7, 8, 9, 10]\n",
    "binary_results = []\n",
    "amplitude_results = []\n",
    "\n",
    "for i in tqdm(range(0, len(img_sizes))):\n",
    "    \n",
    "    iterations = 100\n",
    "    img_size = img_sizes[i]\n",
    "    binary_MSE = []\n",
    "    amplitude_MSE = []\n",
    "\n",
    "    for j in range(0, iterations):\n",
    "\n",
    "        initial, visibilities = generate_img(img_size) \n",
    "\n",
    "        # BINARY\n",
    "        binary_readout = binary(visibilities)\n",
    "\n",
    "        # AMPLITUDE\n",
    "        n_n = img_size*img_size\n",
    "        inp = visibilities.flatten()\n",
    "        norm = qml.math.sum(qml.math.abs(inp) ** 2)\n",
    "        number_of_qbits = math.ceil(math.log2(n_n))\n",
    "        wires = range(number_of_qbits)\n",
    "        amp_dev = qml.device('default.qubit', wires)\n",
    "        @qml.qnode(amp_dev)\n",
    "        def amp_encoding(data):\n",
    "            qml.AmplitudeEmbedding(data, wires, normalize=True, pad_with=0.)\n",
    "            return qml.state()\n",
    "        readout = amp_encoding(inp).astype('complex64')\n",
    "        readout.numpy()\n",
    "        readout = readout*qml.math.sqrt(norm) \n",
    "        readout = readout[:n_n] \n",
    "        readout = np.array(readout).reshape(img_size , img_size)\n",
    "        amplitude_readout = np.fft.ifft2(readout).astype('complex64')\n",
    "\n",
    "        binary_mse = MSE(initial, binary_readout)\n",
    "        amplitude_mse = MSE(initial, amplitude_readout)\n",
    "\n",
    "        binary_MSE.append(binary_mse)\n",
    "        amplitude_MSE.append(amplitude_mse)\n",
    "\n",
    "    binary_mean = mean(binary_MSE)\n",
    "    binary_std = np.std(binary_MSE)\n",
    "    amplitude_mean = mean(amplitude_MSE)\n",
    "    amplitude_std = np.std(amplitude_MSE)\n",
    "    \n",
    "    binary_results.append((binary_mean, binary_std))\n",
    "    amplitude_results.append((amplitude_mean, amplitude_std))\n",
    "\n",
    "print('Binary results: '+ '\\033[1m' + str(binary_results) + '\\033[0m')\n",
    "print()\n",
    "print('Amplitude results: '+ '\\033[1m' + str(amplitude_results) + '\\033[0m')"
   ]
  },
  {
   "cell_type": "code",
   "execution_count": 8,
   "id": "7a25acdf",
   "metadata": {},
   "outputs": [
    {
     "name": "stdout",
     "output_type": "stream",
     "text": [
      "Binary absolute mean: \u001b[1m4.2648225e-13\u001b[0m\n",
      "Binary absolute std: \u001b[1m3.6025366e-13\u001b[0m\n",
      "\n",
      "Amplitude absolute mean: \u001b[1m2.960622e-12\u001b[0m\n",
      "Amplitude absolute std: \u001b[1m4.812436e-12\u001b[0m\n"
     ]
    }
   ],
   "source": [
    "binary_tmp = []\n",
    "for i in range(0, len(binary_results)):\n",
    "    binary_tmp.append(binary_results[i][0])\n",
    "binary_absolute_mean = mean(binary_tmp)\n",
    "\n",
    "amplitude_tmp = []\n",
    "for i in range(0, len(amplitude_results)):\n",
    "    amplitude_tmp.append(amplitude_results[i][0])\n",
    "amplitude_absolute_mean = mean(amplitude_tmp)\n",
    "\n",
    "binary_tmp2 = []\n",
    "for i in range(0, len(binary_results)):\n",
    "    binary_tmp2.append(binary_results[i][1])\n",
    "binary_absolute_std = mean(binary_tmp2)\n",
    "\n",
    "amplitude_tmp2 = []\n",
    "for i in range(0, len(amplitude_results)):\n",
    "    amplitude_tmp2.append(amplitude_results[i][1])\n",
    "amplitude_absolute_std = mean(amplitude_tmp2)\n",
    "\n",
    "print('Binary absolute mean: '+ '\\033[1m' + str(binary_absolute_mean) + '\\033[0m')\n",
    "print('Binary absolute std: '+ '\\033[1m' + str(binary_absolute_std) + '\\033[0m')\n",
    "print()\n",
    "print('Amplitude absolute mean: '+ '\\033[1m' + str(amplitude_absolute_mean) + '\\033[0m')\n",
    "print('Amplitude absolute std: '+ '\\033[1m' + str(amplitude_absolute_std) + '\\033[0m')"
   ]
  },
  {
   "cell_type": "code",
   "execution_count": 9,
   "id": "75fcde5e",
   "metadata": {},
   "outputs": [
    {
     "data": {
      "text/html": [
       "<div>\n",
       "<style scoped>\n",
       "    .dataframe tbody tr th:only-of-type {\n",
       "        vertical-align: middle;\n",
       "    }\n",
       "\n",
       "    .dataframe tbody tr th {\n",
       "        vertical-align: top;\n",
       "    }\n",
       "\n",
       "    .dataframe thead th {\n",
       "        text-align: right;\n",
       "    }\n",
       "</style>\n",
       "<table border=\"1\" class=\"dataframe\">\n",
       "  <thead>\n",
       "    <tr style=\"text-align: right;\">\n",
       "      <th></th>\n",
       "      <th>Binary</th>\n",
       "      <th>Amplitude</th>\n",
       "    </tr>\n",
       "    <tr>\n",
       "      <th>antennas</th>\n",
       "      <th></th>\n",
       "      <th></th>\n",
       "    </tr>\n",
       "  </thead>\n",
       "  <tbody>\n",
       "    <tr>\n",
       "      <th>2</th>\n",
       "      <td>7.407130e-13</td>\n",
       "      <td>4.505465e-12</td>\n",
       "    </tr>\n",
       "    <tr>\n",
       "      <th>3</th>\n",
       "      <td>8.231957e-13</td>\n",
       "      <td>7.559815e-12</td>\n",
       "    </tr>\n",
       "    <tr>\n",
       "      <th>4</th>\n",
       "      <td>6.184526e-13</td>\n",
       "      <td>3.238016e-12</td>\n",
       "    </tr>\n",
       "    <tr>\n",
       "      <th>5</th>\n",
       "      <td>4.584566e-13</td>\n",
       "      <td>2.708303e-12</td>\n",
       "    </tr>\n",
       "    <tr>\n",
       "      <th>6</th>\n",
       "      <td>3.754194e-13</td>\n",
       "      <td>3.297441e-12</td>\n",
       "    </tr>\n",
       "    <tr>\n",
       "      <th>7</th>\n",
       "      <td>2.895601e-13</td>\n",
       "      <td>2.226002e-12</td>\n",
       "    </tr>\n",
       "    <tr>\n",
       "      <th>8</th>\n",
       "      <td>2.190850e-13</td>\n",
       "      <td>9.871538e-13</td>\n",
       "    </tr>\n",
       "    <tr>\n",
       "      <th>9</th>\n",
       "      <td>1.624397e-13</td>\n",
       "      <td>1.047002e-12</td>\n",
       "    </tr>\n",
       "    <tr>\n",
       "      <th>10</th>\n",
       "      <td>1.510183e-13</td>\n",
       "      <td>1.076399e-12</td>\n",
       "    </tr>\n",
       "  </tbody>\n",
       "</table>\n",
       "</div>"
      ],
      "text/plain": [
       "                Binary     Amplitude\n",
       "antennas                            \n",
       "2         7.407130e-13  4.505465e-12\n",
       "3         8.231957e-13  7.559815e-12\n",
       "4         6.184526e-13  3.238016e-12\n",
       "5         4.584566e-13  2.708303e-12\n",
       "6         3.754194e-13  3.297441e-12\n",
       "7         2.895601e-13  2.226002e-12\n",
       "8         2.190850e-13  9.871538e-13\n",
       "9         1.624397e-13  1.047002e-12\n",
       "10        1.510183e-13  1.076399e-12"
      ]
     },
     "execution_count": 9,
     "metadata": {},
     "output_type": "execute_result"
    }
   ],
   "source": [
    "df_mean = pd.DataFrame({'antennas':['2','3','4','5','6','7','8','9','10'],\n",
    "                   'Binary':binary_tmp,\n",
    "                    'Amplitude':amplitude_tmp})\n",
    "df_mean = df_mean.set_index('antennas')\n",
    "df_mean"
   ]
  },
  {
   "cell_type": "code",
   "execution_count": 10,
   "id": "3e8d5000",
   "metadata": {},
   "outputs": [
    {
     "data": {
      "text/html": [
       "<div>\n",
       "<style scoped>\n",
       "    .dataframe tbody tr th:only-of-type {\n",
       "        vertical-align: middle;\n",
       "    }\n",
       "\n",
       "    .dataframe tbody tr th {\n",
       "        vertical-align: top;\n",
       "    }\n",
       "\n",
       "    .dataframe thead th {\n",
       "        text-align: right;\n",
       "    }\n",
       "</style>\n",
       "<table border=\"1\" class=\"dataframe\">\n",
       "  <thead>\n",
       "    <tr style=\"text-align: right;\">\n",
       "      <th></th>\n",
       "      <th>Binary</th>\n",
       "      <th>Amplitude</th>\n",
       "    </tr>\n",
       "    <tr>\n",
       "      <th>antennas</th>\n",
       "      <th></th>\n",
       "      <th></th>\n",
       "    </tr>\n",
       "  </thead>\n",
       "  <tbody>\n",
       "    <tr>\n",
       "      <th>2</th>\n",
       "      <td>9.318306e-13</td>\n",
       "      <td>9.979801e-12</td>\n",
       "    </tr>\n",
       "    <tr>\n",
       "      <th>3</th>\n",
       "      <td>7.051352e-13</td>\n",
       "      <td>1.312900e-11</td>\n",
       "    </tr>\n",
       "    <tr>\n",
       "      <th>4</th>\n",
       "      <td>5.107500e-13</td>\n",
       "      <td>4.543424e-12</td>\n",
       "    </tr>\n",
       "    <tr>\n",
       "      <th>5</th>\n",
       "      <td>3.167893e-13</td>\n",
       "      <td>4.045321e-12</td>\n",
       "    </tr>\n",
       "    <tr>\n",
       "      <th>6</th>\n",
       "      <td>2.691695e-13</td>\n",
       "      <td>4.050196e-12</td>\n",
       "    </tr>\n",
       "    <tr>\n",
       "      <th>7</th>\n",
       "      <td>1.903635e-13</td>\n",
       "      <td>2.936654e-12</td>\n",
       "    </tr>\n",
       "    <tr>\n",
       "      <th>8</th>\n",
       "      <td>1.424127e-13</td>\n",
       "      <td>1.441511e-12</td>\n",
       "    </tr>\n",
       "    <tr>\n",
       "      <th>9</th>\n",
       "      <td>8.473964e-14</td>\n",
       "      <td>1.680164e-12</td>\n",
       "    </tr>\n",
       "    <tr>\n",
       "      <th>10</th>\n",
       "      <td>9.109267e-14</td>\n",
       "      <td>1.505852e-12</td>\n",
       "    </tr>\n",
       "  </tbody>\n",
       "</table>\n",
       "</div>"
      ],
      "text/plain": [
       "                Binary     Amplitude\n",
       "antennas                            \n",
       "2         9.318306e-13  9.979801e-12\n",
       "3         7.051352e-13  1.312900e-11\n",
       "4         5.107500e-13  4.543424e-12\n",
       "5         3.167893e-13  4.045321e-12\n",
       "6         2.691695e-13  4.050196e-12\n",
       "7         1.903635e-13  2.936654e-12\n",
       "8         1.424127e-13  1.441511e-12\n",
       "9         8.473964e-14  1.680164e-12\n",
       "10        9.109267e-14  1.505852e-12"
      ]
     },
     "execution_count": 10,
     "metadata": {},
     "output_type": "execute_result"
    }
   ],
   "source": [
    "df_std = pd.DataFrame({'antennas':['2','3','4','5','6','7','8','9','10'],\n",
    "                   'Binary':binary_tmp2,\n",
    "                    'Amplitude':amplitude_tmp2})\n",
    "df_std = df_std.set_index('antennas')\n",
    "df_std"
   ]
  },
  {
   "cell_type": "code",
   "execution_count": 14,
   "id": "2f1bdf05",
   "metadata": {},
   "outputs": [
    {
     "data": {
      "image/png": "[encoded data removed]",
      "text/plain": [
       "<Figure size 432x288 with 1 Axes>"
      ]
     },
     "metadata": {
      "needs_background": "light"
     },
     "output_type": "display_data"
    }
   ],
   "source": [
    "x = img_sizes\n",
    "plt.plot(x, binary_tmp, label = \"Binary\", color='red')\n",
    "plt.plot(x, amplitude_tmp, label = \"QPIE\", color='blue')\n",
    "plt.xlabel('Number Of Antennas')\n",
    "plt.ylabel('Information Loss (MSE)')\n",
    "plt.legend(loc=0, frameon=False)\n",
    "\n",
    "plt.savefig('plot1.pdf')\n",
    "plt.show()"
   ]
  },
  {
   "cell_type": "code",
   "execution_count": 15,
   "id": "ca3329ae",
   "metadata": {},
   "outputs": [
    {
     "name": "stdout",
     "output_type": "stream",
     "text": [
      "2730.6666666666665\n",
      "\n",
      "5.222222222222222\n"
     ]
    }
   ],
   "source": [
    "binary_qubits = [256,576,1024,1600,2304,3136,4096,5184,6400]\n",
    "binary_qubits_mean = mean(binary_qubits)\n",
    "amplitude_qubits = [2,4,4,5,6,6,6,7,7]\n",
    "amplitude_qubits_mean = mean(amplitude_qubits)\n",
    "print(binary_qubits_mean)\n",
    "print()\n",
    "print(amplitude_qubits_mean)"
   ]
  },
  {
   "cell_type": "code",
   "execution_count": 16,
   "id": "e1933c09",
   "metadata": {},
   "outputs": [
    {
     "data": {
      "image/png": "[encoded data removed]",
      "text/plain": [
       "<Figure size 432x288 with 1 Axes>"
      ]
     },
     "metadata": {
      "needs_background": "light"
     },
     "output_type": "display_data"
    }
   ],
   "source": [
    "x = img_sizes\n",
    "plt.plot(x, binary_qubits, label = \"Binary\", color='red')\n",
    "plt.plot(x, amplitude_qubits, label = \"QPIE\", color='blue')\n",
    "plt.xlabel('Number Of Antennas')\n",
    "plt.ylabel('Number Of Qubits')\n",
    "plt.legend(loc=0, frameon=False)\n",
    "plt.yscale(\"log\")  \n",
    "plt.savefig('plot2.pdf')\n",
    "plt.show()"
   ]
  },
  {
   "cell_type": "code",
   "execution_count": null,
   "id": "7aa2c5ad",
   "metadata": {},
   "outputs": [],
   "source": []
  }
 ],
 "metadata": {
  "kernelspec": {
   "display_name": "Python 3",
   "language": "python",
   "name": "python3"
  },
  "language_info": {
   "codemirror_mode": {
    "name": "ipython",
    "version": 3
   },
   "file_extension": ".py",
   "mimetype": "text/x-python",
   "name": "python",
   "nbconvert_exporter": "python",
   "pygments_lexer": "ipython3",
   "version": "3.8.8"
  }
 },
 "nbformat": 4,
 "nbformat_minor": 5
}
