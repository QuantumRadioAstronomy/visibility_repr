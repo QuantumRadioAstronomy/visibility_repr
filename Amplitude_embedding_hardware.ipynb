{
 "cells": [
  {
   "cell_type": "markdown",
   "id": "b4824755",
   "metadata": {},
   "source": [
    "# Amplitude embedding (quantum hardware)\n",
    "\n",
    "Main steps:\n",
    "\n",
    "* initialize an image of the sky (frequency domain)\n",
    "* apply 2D FT --> visibilities (Fourier domain)\n",
    "* encode visibilities data into qubits using amplitude embedding (non-conventional domain)\n",
    "* measure qubits on real quantum hardware --> expected outcomes (back to conventional domain)\n",
    "* apply 2D IFT --> fidelity computation"
   ]
  },
  {
   "cell_type": "code",
   "execution_count": 53,
   "id": "04ee6ebe",
   "metadata": {},
   "outputs": [],
   "source": [
    "import numpy as np\n",
    "import math\n",
    "import sys\n",
    "\n",
    "import pennylane as qml\n",
    "from pennylane import numpy as pnp"
   ]
  },
  {
   "cell_type": "markdown",
   "id": "3bd5e888",
   "metadata": {},
   "source": [
    "## 1) Generating an artificial image of the sky (frequency domain)"
   ]
  },
  {
   "cell_type": "code",
   "execution_count": 61,
   "id": "9af37941",
   "metadata": {},
   "outputs": [
    {
     "name": "stdout",
     "output_type": "stream",
     "text": [
      "[[6.9207565e+01+3.9058460e+01j 6.9207565e+01+3.9058460e+01j\n",
      "  7.1590641e-03+9.3000764e-03j 6.9207565e+01+3.9058460e+01j]\n",
      " [6.9207565e+01+3.9058460e+01j 2.2826253e-03+2.8941694e-03j\n",
      "  9.5535852e-03+9.7155832e-03j 1.7066648e-03+7.1718167e-03j]\n",
      " [9.1994358e-03+7.4965730e-03j 8.1475247e-03+5.7593943e-03j\n",
      "  8.1866635e-03+8.7047163e-03j 8.8655343e-03+5.7419911e-03j]\n",
      " [6.9207565e+01+3.9058460e+01j 2.4715678e-03+9.7065680e-03j\n",
      "  6.0474677e-03+7.9706488e-03j 7.8072539e-03+6.8479711e-03j]]\n"
     ]
    }
   ],
   "source": [
    "#image of the sky filled with single precision complex floats ('complex64')\n",
    "#pixels are set to low complex random values (image background/noise) \n",
    "#few pixels are set to larger complex random values in a specified ellipse area (image source/subject)\n",
    "\n",
    "n = 4\n",
    "image = np.zeros((n, n), dtype='complex64')\n",
    "image.real = np.random.rand(n , n) / 100\n",
    "image.imag = np.random.rand(n , n) / 100\n",
    "\n",
    "h, w = image.shape\n",
    "mask = circular_mask(h, w, radius=h/2)\n",
    "sky_image = image.copy()\n",
    "sky_image[~mask] = complex(np.random.rand() * 100, np.random.rand() * 100)\n",
    "print(sky_image)"
   ]
  },
  {
   "cell_type": "markdown",
   "id": "749432b8",
   "metadata": {},
   "source": [
    "## 2) Applying a 2D FT (Fourier domain)"
   ]
  },
  {
   "cell_type": "code",
   "execution_count": 62,
   "id": "08b6f95d",
   "metadata": {},
   "outputs": [
    {
     "name": "stdout",
     "output_type": "stream",
     "text": [
      "[[ 346.10925 +195.37361j   207.59955 +117.152664j   69.21643  +39.063526j\n",
      "   207.60236 +117.14171j ]\n",
      " [ 207.59071 +117.15976j    69.19172  +39.06029j   -69.19254  -39.063656j\n",
      "    69.203575 +39.047455j]\n",
      " [  69.21925  +39.051155j  -69.19667  -39.055325j -207.6165  -117.15244j\n",
      "   -69.19955  -39.04724j ]\n",
      " [ 207.6002  +117.1542j     69.20703  +39.03901j   -69.209015 -39.044064j\n",
      "    69.195244 +39.054718j]]\n"
     ]
    }
   ],
   "source": [
    "visibilities = np.fft.fft2(sky_image).astype('complex64')\n",
    "print(visibilities)"
   ]
  },
  {
   "cell_type": "markdown",
   "id": "8558fbb3",
   "metadata": {},
   "source": [
    "#### Sanity check"
   ]
  },
  {
   "cell_type": "code",
   "execution_count": 63,
   "id": "aa7a59e8",
   "metadata": {},
   "outputs": [
    {
     "name": "stdout",
     "output_type": "stream",
     "text": [
      "[[6.9207565e+01+3.9058460e+01j 6.9207565e+01+3.9058460e+01j\n",
      "  7.1587563e-03+9.3004704e-03j 6.9207565e+01+3.9058460e+01j]\n",
      " [6.9207565e+01+3.9058460e+01j 2.2823811e-03+2.8934479e-03j\n",
      "  9.5536709e-03+9.7155571e-03j 1.7068386e-03+7.1721077e-03j]\n",
      " [9.1996193e-03+7.4965954e-03j 8.1472397e-03+5.7590008e-03j\n",
      "  8.1849098e-03+8.7049007e-03j 8.8653564e-03+5.7418346e-03j]\n",
      " [6.9207565e+01+3.9058460e+01j 2.4712086e-03+9.7069740e-03j\n",
      "  6.0474873e-03+7.9703331e-03j 7.8065395e-03+6.8492889e-03j]]\n",
      "\n",
      "Reals MSE: 2.5334802e-13\n",
      "Imaginaries MSE: 1.8601434e-13\n"
     ]
    }
   ],
   "source": [
    "img = np.fft.ifft2(visibilities).astype('complex64')\n",
    "print(img)\n",
    "test_real = ((sky_image.real - img.real)**2).mean()\n",
    "test_imag = ((sky_image.imag - img.imag)**2).mean()\n",
    "\n",
    "print()\n",
    " \n",
    "print('Reals MSE: '+ str(test_real))\n",
    "print('Imaginaries MSE: ' + str(test_imag))"
   ]
  },
  {
   "cell_type": "markdown",
   "id": "ada93768",
   "metadata": {},
   "source": [
    "## 3) Data encoding: amplitude embedding (non-conventional domain)"
   ]
  },
  {
   "cell_type": "code",
   "execution_count": 64,
   "id": "49aa4a9c",
   "metadata": {
    "scrolled": true
   },
   "outputs": [
    {
     "name": "stdout",
     "output_type": "stream",
     "text": [
      "[ 0.48693717+0.27486891j  0.29206944+0.16482075j  0.0973798 +0.05495803j\n",
      "  0.2920734 +0.16480534j  0.29205701+0.16483073j  0.09734504+0.05495348j\n",
      " -0.0973462 -0.05495821j  0.09736172+0.05493542j  0.09738377+0.05494063j\n",
      " -0.09735201-0.05494649j -0.29209328-0.16482043j -0.09735605-0.05493512j\n",
      "  0.29207036+0.16482291j  0.09736659+0.05492354j -0.09736937-0.05493065j\n",
      "  0.09735   +0.05494564j]\n",
      "\n",
      "[[ 346.10925 +195.37361j   207.59955 +117.152664j   69.21643  +39.063526j\n",
      "   207.60236 +117.14171j ]\n",
      " [ 207.59071 +117.15976j    69.19172  +39.06029j   -69.19254  -39.063656j\n",
      "    69.203575 +39.047455j]\n",
      " [  69.21925  +39.051155j  -69.19667  -39.055325j -207.61649 -117.15244j\n",
      "   -69.19955  -39.04724j ]\n",
      " [ 207.6002  +117.1542j     69.20703  +39.03901j   -69.209015 -39.044064j\n",
      "    69.195244 +39.054718j]]\n"
     ]
    }
   ],
   "source": [
    "# Amplitude embedding encodes a normalized 2^n-dimensional feature vector into the state of n qbits (uses log2(n) qbits for n classical data)\n",
    "n = visibilities.shape[0]*visibilities.shape[1]\n",
    "data = visibilities.flatten()\n",
    "\n",
    "#normalization to prepare a qstate with measurement probabilites summing up to 1 (SUM (amplitudes²) = 1)\n",
    "norm = qml.math.sum(qml.math.abs(data) ** 2)\n",
    "normalized_data = data / qml.math.sqrt(norm)\n",
    "\n",
    "wires = range(int(math.log2(n))) # set the number of qbits (no padding needed if outputs an integer=integer.0)\n",
    "amp_dev = qml.device('default.qubit', wires)\n",
    "\n",
    "@qml.qnode(amp_dev)\n",
    "def amp_encoding(data):\n",
    "    qml.AmplitudeEmbedding(data, wires) # normalize = True\n",
    "    return qml.state() #qml.expval(qml.PauliZ(wires=wires))\n",
    "\n",
    "results = amp_encoding(normalized_data).astype('complex64')\n",
    "print(results)\n",
    "\n",
    "print()\n",
    "\n",
    "results = results*qml.math.sqrt(norm) # denormalization of the measurements outcomes\n",
    "results = np.array(results).reshape(sky_image.shape[0] , sky_image.shape[1])\n",
    "print(results)"
   ]
  },
  {
   "cell_type": "markdown",
   "id": "59f8ac30",
   "metadata": {},
   "source": [
    "## 4) Applying 2D IFT (fidelity test)"
   ]
  },
  {
   "cell_type": "code",
   "execution_count": 65,
   "id": "e18b327f",
   "metadata": {},
   "outputs": [
    {
     "name": "stdout",
     "output_type": "stream",
     "text": [
      "[[6.9207565e+01+3.9058460e+01j 6.9207565e+01+3.9058460e+01j\n",
      "  7.1597099e-03+9.3004704e-03j 6.9207565e+01+3.9058460e+01j]\n",
      " [6.9207565e+01+3.9058460e+01j 2.2833347e-03+2.8934479e-03j\n",
      "  9.5527172e-03+9.7155571e-03j 1.7077923e-03+7.1721077e-03j]\n",
      " [9.2005730e-03+7.4965954e-03j 8.1462860e-03+5.7590008e-03j\n",
      "  8.1858635e-03+8.7049007e-03j 8.8644028e-03+5.7418346e-03j]\n",
      " [6.9207565e+01+3.9058460e+01j 2.4721622e-03+9.7069740e-03j\n",
      "  6.0465336e-03+7.9703331e-03j 7.8074932e-03+6.8492889e-03j]]\n",
      "\n",
      "Reals MSE: 5.610047e-13\n",
      "Imaginaries MSE: 1.8601434e-13\n"
     ]
    }
   ],
   "source": [
    "img = np.fft.ifft2(results).astype('complex64')\n",
    "print(img)\n",
    "test_real = ((sky_image.real - img.real)**2).mean()\n",
    "test_imag = ((sky_image.imag - img.imag)**2).mean()\n",
    "\n",
    "print()\n",
    "\n",
    "print('Reals MSE: '+ str(test_real))\n",
    "print('Imaginaries MSE: ' + str(test_imag))"
   ]
  },
  {
   "cell_type": "markdown",
   "id": "9fadfdd6",
   "metadata": {},
   "source": [
    "## Utils"
   ]
  },
  {
   "cell_type": "markdown",
   "id": "617273aa",
   "metadata": {},
   "source": [
    "### Quantum"
   ]
  },
  {
   "cell_type": "markdown",
   "id": "416ad687",
   "metadata": {},
   "source": [
    "### Classical"
   ]
  },
  {
   "cell_type": "code",
   "execution_count": 60,
   "id": "b1c860bb",
   "metadata": {},
   "outputs": [],
   "source": [
    "#creates a circular mask over a 2D array\n",
    "def circular_mask(h, w, center=None, radius=None):\n",
    "    if center is None: #image center\n",
    "        center = (int(w/2), int(h/2))\n",
    "    if radius is None: #smallest distance between center and image bounderies\n",
    "        radius = min(center[0], center[1], w-center[0], h-center[1])\n",
    "        \n",
    "    Y, X = np.ogrid[:h, :w]\n",
    "    dist_from_center = np.sqrt((X - center[0])**2 + (Y-center[1])**2)\n",
    "    mask = dist_from_center <= radius\n",
    "    \n",
    "    return mask"
   ]
  },
  {
   "cell_type": "code",
   "execution_count": null,
   "id": "fc3de505",
   "metadata": {},
   "outputs": [],
   "source": []
  }
 ],
 "metadata": {
  "kernelspec": {
   "display_name": "Python 3",
   "language": "python",
   "name": "python3"
  },
  "language_info": {
   "codemirror_mode": {
    "name": "ipython",
    "version": 3
   },
   "file_extension": ".py",
   "mimetype": "text/x-python",
   "name": "python",
   "nbconvert_exporter": "python",
   "pygments_lexer": "ipython3",
   "version": "3.8.8"
  }
 },
 "nbformat": 4,
 "nbformat_minor": 5
}
