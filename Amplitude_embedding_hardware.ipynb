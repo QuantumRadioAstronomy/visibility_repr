{
 "cells": [
  {
   "cell_type": "markdown",
   "id": "b4824755",
   "metadata": {},
   "source": [
    "# Amplitude embedding (quantum hardware)\n",
    "\n",
    "Main steps:\n",
    "\n",
    "* initialize an image of the sky (frequency domain)\n",
    "* apply 2D FT --> visibilities (Fourier domain)\n",
    "* encode visibilities data into qubits using amplitude embedding (non-conventional domain)\n",
    "* measure qubits on real quantum hardware --> expected outcomes (back to conventional domain)\n",
    "* apply 2D IFT --> fidelity computation"
   ]
  },
  {
   "cell_type": "code",
   "execution_count": 2,
   "id": "04ee6ebe",
   "metadata": {},
   "outputs": [],
   "source": [
    "import numpy as np\n",
    "import math\n",
    "import sys\n",
    "\n",
    "import pennylane as qml\n",
    "from pennylane import numpy as pnp"
   ]
  },
  {
   "cell_type": "markdown",
   "id": "3bd5e888",
   "metadata": {},
   "source": [
    "## 1) Generating an artificial image of the sky (frequency domain)"
   ]
  },
  {
   "cell_type": "code",
   "execution_count": 11,
   "id": "9af37941",
   "metadata": {},
   "outputs": [
    {
     "name": "stdout",
     "output_type": "stream",
     "text": [
      "[[6.0586487e+01+9.7869774e+01j 6.0586487e+01+9.7869774e+01j\n",
      "  3.3984894e-03+2.9080615e-03j 6.0586487e+01+9.7869774e+01j]\n",
      " [6.0586487e+01+9.7869774e+01j 4.2823921e-03+5.6767180e-03j\n",
      "  3.0596580e-03+7.4592889e-03j 5.5594412e-03+7.5533462e-04j]\n",
      " [7.9118107e-03+8.4970510e-03j 7.3066009e-03+1.4608257e-04j\n",
      "  9.8789205e-05+5.6169359e-03j 6.2378724e-03+7.7958778e-03j]\n",
      " [6.0586487e+01+9.7869774e+01j 6.4992905e-03+6.9446545e-03j\n",
      "  9.1194632e-03+3.4152376e-03j 6.8530305e-03+5.4909494e-03j]]\n"
     ]
    }
   ],
   "source": [
    "#image of the sky filled with double precision complex floats ('complex64')\n",
    "#pixels are set to low complex random values (image background/noise) \n",
    "#few pixels are set to larger complex random values in a specified ellipse area (image source/subject)\n",
    "\n",
    "n = 4\n",
    "image = np.zeros((n, n), dtype='complex64')\n",
    "image.real = np.random.rand(n , n) / 100\n",
    "image.imag = np.random.rand(n , n) / 100\n",
    "\n",
    "h, w = image.shape\n",
    "mask = circular_mask(h, w, radius=h/2)\n",
    "sky_image = image.copy()\n",
    "sky_image[~mask] = complex(np.random.rand() * 100, np.random.rand() * 100)\n",
    "print(sky_image)"
   ]
  },
  {
   "cell_type": "markdown",
   "id": "749432b8",
   "metadata": {},
   "source": [
    "## 2) Applying a 2D FT (Fourier domain)"
   ]
  },
  {
   "cell_type": "code",
   "execution_count": 12,
   "id": "08b6f95d",
   "metadata": {},
   "outputs": [
    {
     "name": "stdout",
     "output_type": "stream",
     "text": [
      "[[ 302.99277 +489.40356j   181.75043 +293.59897j    60.573338 +97.87086j\n",
      "   181.75298 +293.59787j ]\n",
      " [ 181.73935 +293.59973j    60.579803 +97.85553j   -60.56751  -97.87049j\n",
      "    60.562656 +97.86032j ]\n",
      " [  60.57607  +97.865j     -60.58392  -97.861626j -181.75058 -293.59225j\n",
      "   -60.55587  -97.856224j]\n",
      " [ 181.74327 +293.5806j     60.586044 +97.87458j   -60.5876   -97.87559j\n",
      "    60.572594 +97.86551j ]]\n"
     ]
    }
   ],
   "source": [
    "visibilities = np.fft.fft2(sky_image).astype('complex64')\n",
    "print(visibilities)"
   ]
  },
  {
   "cell_type": "markdown",
   "id": "8558fbb3",
   "metadata": {},
   "source": [
    "#### Sanity check"
   ]
  },
  {
   "cell_type": "code",
   "execution_count": 13,
   "id": "aa7a59e8",
   "metadata": {},
   "outputs": [
    {
     "name": "stdout",
     "output_type": "stream",
     "text": [
      "[[6.0586487e+01+9.7869774e+01j 6.0586491e+01+9.7869774e+01j\n",
      "  3.3996105e-03+2.9053688e-03j 6.0586487e+01+9.7869774e+01j]\n",
      " [6.0586487e+01+9.7869774e+01j 4.2841434e-03+5.6753159e-03j\n",
      "  3.0596256e-03+7.4586868e-03j 5.5587292e-03+7.5483322e-04j]\n",
      " [7.9123974e-03+8.4977150e-03j 7.3082447e-03+1.4734268e-04j\n",
      "  9.7990036e-05+5.6166649e-03j 6.2353611e-03+7.7967644e-03j]\n",
      " [6.0586487e+01+9.7869774e+01j 6.5009594e-03+6.9441795e-03j\n",
      "  9.1183186e-03+3.4151077e-03j 6.8514347e-03+5.4893494e-03j]]\n",
      "\n",
      "Reals MSE: 2.251104e-12\n",
      "Imaginaries MSE: 9.700789e-13\n"
     ]
    }
   ],
   "source": [
    "img = np.fft.ifft2(visibilities).astype('complex64')\n",
    "print(img)\n",
    "test_real = ((sky_image.real - img.real)**2).mean()\n",
    "test_imag = ((sky_image.imag - img.imag)**2).mean()\n",
    "\n",
    "print()\n",
    " \n",
    "print('Reals MSE: '+ str(test_real))\n",
    "print('Imaginaries MSE: ' + str(test_imag))"
   ]
  },
  {
   "cell_type": "markdown",
   "id": "ada93768",
   "metadata": {},
   "source": [
    "## 3) Data encoding: amplitude embedding (non-conventional domain)"
   ]
  },
  {
   "cell_type": "code",
   "execution_count": 14,
   "id": "49aa4a9c",
   "metadata": {
    "scrolled": true
   },
   "outputs": [
    {
     "name": "stdout",
     "output_type": "stream",
     "text": [
      "[ 0.29430127+0.4753648j   0.17653683+0.28517696j  0.05883576+0.09506339j\n",
      "  0.17653932+0.28517589j  0.17652607+0.28517768j  0.05884204+0.0950485j\n",
      " -0.0588301 -0.09506303j  0.05882539+0.09505315j  0.05883842+0.0950577j\n",
      " -0.05884604-0.09505442j -0.17653698-0.28517044j -0.0588188 -0.09504917j\n",
      "  0.17652988+0.28515911j  0.05884811+0.095067j   -0.05884962-0.09506799j\n",
      "  0.05883504+0.0950582j ]\n",
      "\n",
      "[[ 302.99274 +489.40356j   181.75041 +293.59897j    60.573338 +97.87086j\n",
      "   181.75298 +293.59787j ]\n",
      " [ 181.73935 +293.5997j     60.579803 +97.85553j   -60.567505 -97.87049j\n",
      "    60.562656 +97.86032j ]\n",
      " [  60.576065 +97.865j     -60.58392  -97.86162j  -181.75056 -293.59225j\n",
      "   -60.55587  -97.856224j]\n",
      " [ 181.74327 +293.5806j     60.586044 +97.87458j   -60.5876   -97.87559j\n",
      "    60.572594 +97.86551j ]]\n"
     ]
    }
   ],
   "source": [
    "# Amplitude embedding encodes a normalized 2^n-dimensional feature vector into the state of n qbits (uses log2(n) qbits for n classical data)\n",
    "n = visibilities.shape[0]*visibilities.shape[1]\n",
    "data = visibilities.flatten()\n",
    "\n",
    "#normalization to prepare a qstate with measurement probabilites summing up to 1 (SUM (amplitudes²) = 1)\n",
    "norm = qml.math.sum(qml.math.abs(data) ** 2)\n",
    "normalized_data = data / qml.math.sqrt(norm)\n",
    "\n",
    "wires = range(int(math.log2(n))) # set the number of qbits (no padding needed if outputs an integer=integer.0)\n",
    "amp_dev = qml.device('default.qubit', wires)\n",
    "\n",
    "@qml.qnode(amp_dev)\n",
    "def amp_encoding(data):\n",
    "    qml.AmplitudeEmbedding(data, wires) # normalize = True\n",
    "    return qml.state() #qml.expval(qml.PauliZ(wires=wires))\n",
    "\n",
    "results = amp_encoding(normalized_data).astype('complex64')\n",
    "print(results)\n",
    "\n",
    "print()\n",
    "\n",
    "results = results*qml.math.sqrt(norm) # denormalization of the measurements outcomes\n",
    "results = np.array(results).reshape(sky_image.shape[0] , sky_image.shape[1])\n",
    "print(results)"
   ]
  },
  {
   "cell_type": "markdown",
   "id": "59f8ac30",
   "metadata": {},
   "source": [
    "## 4) Applying 2D IFT (fidelity test)"
   ]
  },
  {
   "cell_type": "code",
   "execution_count": 15,
   "id": "e18b327f",
   "metadata": {},
   "outputs": [
    {
     "name": "stdout",
     "output_type": "stream",
     "text": [
      "[[6.0586487e+01+9.7869766e+01j 6.0586487e+01+9.7869766e+01j\n",
      "  3.3996105e-03+2.9029846e-03j 6.0586483e+01+9.7869774e+01j]\n",
      " [6.0586487e+01+9.7869774e+01j 4.2858124e-03+5.6741238e-03j\n",
      "  3.0598640e-03+7.4594021e-03j 5.5594444e-03+7.5554848e-04j]\n",
      " [7.9100132e-03+8.5000992e-03j 7.3049068e-03+1.4829636e-04j\n",
      "  9.7513199e-05+5.6180954e-03j 6.2329769e-03+7.7996254e-03j]\n",
      " [6.0586483e+01+9.7869774e+01j 6.4988136e-03+6.9434643e-03j\n",
      "  9.1147423e-03+3.4153461e-03j 6.8483353e-03+5.4905415e-03j]]\n",
      "\n",
      "Reals MSE: 7.3972365e-12\n",
      "Imaginaries MSE: 1.12596816e-11\n"
     ]
    }
   ],
   "source": [
    "img = np.fft.ifft2(results).astype('complex64')\n",
    "print(img)\n",
    "test_real = ((sky_image.real - img.real)**2).mean()\n",
    "test_imag = ((sky_image.imag - img.imag)**2).mean()\n",
    "\n",
    "print()\n",
    "\n",
    "print('Reals MSE: '+ str(test_real))\n",
    "print('Imaginaries MSE: ' + str(test_imag))"
   ]
  },
  {
   "cell_type": "markdown",
   "id": "9fadfdd6",
   "metadata": {},
   "source": [
    "## Utils"
   ]
  },
  {
   "cell_type": "markdown",
   "id": "617273aa",
   "metadata": {},
   "source": [
    "### Quantum"
   ]
  },
  {
   "cell_type": "markdown",
   "id": "416ad687",
   "metadata": {},
   "source": [
    "### Classical"
   ]
  },
  {
   "cell_type": "code",
   "execution_count": 10,
   "id": "b1c860bb",
   "metadata": {},
   "outputs": [],
   "source": [
    "#creates a circular mask over a 2D array\n",
    "def circular_mask(h, w, center=None, radius=None):\n",
    "    if center is None: #image center\n",
    "        center = (int(w/2), int(h/2))\n",
    "    if radius is None: #smallest distance between center and image bounderies\n",
    "        radius = min(center[0], center[1], w-center[0], h-center[1])\n",
    "        \n",
    "    Y, X = np.ogrid[:h, :w]\n",
    "    dist_from_center = np.sqrt((X - center[0])**2 + (Y-center[1])**2)\n",
    "    mask = dist_from_center <= radius\n",
    "    \n",
    "    return mask"
   ]
  },
  {
   "cell_type": "code",
   "execution_count": null,
   "id": "fc3de505",
   "metadata": {},
   "outputs": [],
   "source": []
  }
 ],
 "metadata": {
  "kernelspec": {
   "display_name": "Python 3",
   "language": "python",
   "name": "python3"
  },
  "language_info": {
   "codemirror_mode": {
    "name": "ipython",
    "version": 3
   },
   "file_extension": ".py",
   "mimetype": "text/x-python",
   "name": "python",
   "nbconvert_exporter": "python",
   "pygments_lexer": "ipython3",
   "version": "3.8.8"
  }
 },
 "nbformat": 4,
 "nbformat_minor": 5
}
