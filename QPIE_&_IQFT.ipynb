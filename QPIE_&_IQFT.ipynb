{
 "cells": [
  {
   "cell_type": "markdown",
   "id": "256d343e",
   "metadata": {},
   "source": [
    "# QPIE and IQFT"
   ]
  },
  {
   "cell_type": "code",
   "execution_count": 32,
   "id": "336616b7",
   "metadata": {},
   "outputs": [],
   "source": [
    "import numpy as np\n",
    "from qiskit import QuantumCircuit, QuantumRegister, ClassicalRegister, Aer, execute\n",
    "from qiskit.visualization import plot_histogram\n",
    "from qiskit.circuit.library import QFT\n",
    "import matplotlib.pyplot as plt\n",
    "from qiskit.visualization import array_to_latex\n",
    "from scipy.fft import fft2, ifft2\n",
    "from skimage import io\n",
    "from skimage.transform import resize\n",
    "import h5py\n",
    "from skimage import color"
   ]
  },
  {
   "cell_type": "markdown",
   "id": "f57cfa1e",
   "metadata": {},
   "source": [
    "Quantum Probability Image Enconding (QPIE) is an image encoding for quantum computers, where the color information encoded in the amplitudes. The state is given by $|I\\rangle = \\sum_{i=0}^{2^{2n-1}}c_i|i\\rangle$, with $c_i = \\frac{I'(i)}{||I'||}$ and $I' = (I_{1,1},I_{2,1},...,I_{n,n})^T$ are is flatten image pixel values. "
   ]
  },
  {
   "cell_type": "code",
   "execution_count": 33,
   "id": "f6e3eb71",
   "metadata": {},
   "outputs": [],
   "source": [
    "def qpie_circuit(im): #for square image 2^n * 2^n\n",
    "\n",
    "    n = int(np.log2(len(im)))\n",
    "\n",
    "    vals = im.flatten()\n",
    "    vals = vals/np.linalg.norm(vals) #normalize coefficients\n",
    "\n",
    "    qc = QuantumCircuit(2*n)\n",
    "\n",
    "    qc.initialize(vals)\n",
    "\n",
    "    return qc"
   ]
  },
  {
   "cell_type": "code",
   "execution_count": 34,
   "id": "1963c2a3",
   "metadata": {},
   "outputs": [
    {
     "name": "stdout",
     "output_type": "stream",
     "text": [
      "float64\n"
     ]
    },
    {
     "data": {
      "image/png": "[encoded data removed]",
      "text/plain": [
       "<Figure size 432x288 with 1 Axes>"
      ]
     },
     "metadata": {
      "needs_background": "light"
     },
     "output_type": "display_data"
    }
   ],
   "source": [
    "im = np.zeros((32,32))\n",
    "im[5,6] = 1\n",
    "im[6,6] = 1\n",
    "im[5,7] = 1\n",
    "im[6,7] = 1\n",
    "im[7,8] = 1\n",
    "im[8,8] = 1\n",
    "im[7,9] = 1\n",
    "im[8,9] = 1\n",
    "im[11,12] = 1\n",
    "im[12,13] = 1\n",
    "im[13,13] = 1\n",
    "im[12,14] = 1\n",
    "plt.imshow(im,cmap='gray')\n",
    "print(im.dtype)"
   ]
  },
  {
   "cell_type": "code",
   "execution_count": 35,
   "id": "cf20b638",
   "metadata": {},
   "outputs": [
    {
     "name": "stdout",
     "output_type": "stream",
     "text": [
      "complex128\n"
     ]
    },
    {
     "data": {
      "text/plain": [
       "<matplotlib.image.AxesImage at 0x2ba141a46a0>"
      ]
     },
     "execution_count": 35,
     "metadata": {},
     "output_type": "execute_result"
    },
    {
     "data": {
      "image/png": "[encoded data removed]",
      "text/plain": [
       "<Figure size 432x288 with 1 Axes>"
      ]
     },
     "metadata": {
      "needs_background": "light"
     },
     "output_type": "display_data"
    }
   ],
   "source": [
    "ft = ifft2(im)\n",
    "print(ft.dtype)\n",
    "plt.imshow(np.abs(ft),cmap='gray')"
   ]
  },
  {
   "cell_type": "code",
   "execution_count": 36,
   "id": "e39e977c",
   "metadata": {},
   "outputs": [
    {
     "data": {
      "image/png": "[encoded data removed]",
      "text/plain": [
       "<Figure size 387.597x626.08 with 1 Axes>"
      ]
     },
     "execution_count": 36,
     "metadata": {},
     "output_type": "execute_result"
    }
   ],
   "source": [
    "qc = qpie_circuit(im)\n",
    "qc.draw('mpl')"
   ]
  },
  {
   "cell_type": "code",
   "execution_count": 37,
   "id": "76a58755",
   "metadata": {},
   "outputs": [],
   "source": [
    "def decode_out(qc,norm,fourier=False,fourier_inverse=False,shots_mult=1):\n",
    "    \n",
    "    n = qc.num_qubits\n",
    "    shots = shots_mult * 2**20 \n",
    "\n",
    "    backend = Aer.get_backend('qasm_simulator')\n",
    "    results = execute(qc, backend=backend, shots=shots, memory=True).result()\n",
    "    answer = results.get_counts()\n",
    "\n",
    "    outim = np.zeros((int(2**(n/2)), int(2**(n/2))))\n",
    "\n",
    "    b = 0\n",
    "    for i,j in np.ndindex(outim.shape):\n",
    "\n",
    "        bit = format(b, '0' + str(n) + 'b')\n",
    "        p_i = answer.get(bit,0)/shots\n",
    "        \n",
    "        if fourier:\n",
    "            pix_val = np.sqrt(p_i) * norm * 2**(n/2)\n",
    "        \n",
    "        elif fourier_inverse:\n",
    "            pix_val = np.sqrt(p_i) * norm / 2**(n/2)\n",
    "        else:\n",
    "            pix_val = np.sqrt(p_i) * norm\n",
    "            \n",
    "        outim[i,j] = (pix_val)\n",
    "\n",
    "        b+=1\n",
    "    \n",
    "    return outim"
   ]
  },
  {
   "cell_type": "code",
   "execution_count": 38,
   "id": "ec8f6a26",
   "metadata": {},
   "outputs": [
    {
     "name": "stdout",
     "output_type": "stream",
     "text": [
      "float64\n"
     ]
    },
    {
     "data": {
      "image/png": "[encoded data removed]",
      "text/plain": [
       "<Figure size 432x288 with 1 Axes>"
      ]
     },
     "metadata": {
      "needs_background": "light"
     },
     "output_type": "display_data"
    }
   ],
   "source": [
    "qc.measure_all() \n",
    "\n",
    "norm = (np.linalg.norm(im.flatten()))\n",
    "imout = decode_out(qc,norm)\n",
    "plt.imshow(imout,cmap='gray')\n",
    "print(imout.dtype)"
   ]
  },
  {
   "cell_type": "code",
   "execution_count": 39,
   "id": "59af0a37",
   "metadata": {},
   "outputs": [],
   "source": [
    "def MSE(im1,im2):\n",
    "\n",
    "    im = (im1-im2)**2\n",
    "    s = np.sum(im.flatten())/(len(im1**2))\n",
    "    return s"
   ]
  },
  {
   "cell_type": "code",
   "execution_count": 40,
   "id": "038d1b9f",
   "metadata": {},
   "outputs": [
    {
     "data": {
      "text/plain": [
       "8.343791881332062e-07"
      ]
     },
     "execution_count": 40,
     "metadata": {},
     "output_type": "execute_result"
    }
   ],
   "source": [
    "MSE(im, imout)"
   ]
  },
  {
   "cell_type": "code",
   "execution_count": 41,
   "id": "28018248",
   "metadata": {},
   "outputs": [
    {
     "data": {
      "text/plain": [
       "<matplotlib.image.AxesImage at 0x2ba15f70cd0>"
      ]
     },
     "execution_count": 41,
     "metadata": {},
     "output_type": "execute_result"
    },
    {
     "data": {
      "image/png": "[encoded data removed]",
      "text/plain": [
       "<Figure size 432x288 with 1 Axes>"
      ]
     },
     "metadata": {
      "needs_background": "light"
     },
     "output_type": "display_data"
    }
   ],
   "source": [
    "qc = qpie_circuit(ft)\n",
    "\n",
    "#qc.append(QFT(5,insert_barriers=True, name='QFT'),[0,1,2,3,4])\n",
    "#qc.append(QFT(5,insert_barriers=True, name='QFT'),[5,6,7,8,9])\n",
    "qc.append(QFT(5,insert_barriers=True, inverse=False, name='IQFT'),[0,1,2,3,4])\n",
    "qc.append(QFT(5,insert_barriers=True, inverse=False, name='IQFT'),[5,6,7,8,9])\n",
    "\n",
    "\n",
    "qc.measure_all()\n",
    "\n",
    "qc.draw('mpl')\n",
    "\n",
    "norm = (np.linalg.norm(ft.flatten()))\n",
    "imout = decode_out(qc,norm,fourier_inverse=True)\n",
    "plt.imshow(imout,cmap='gray')"
   ]
  },
  {
   "cell_type": "code",
   "execution_count": 42,
   "id": "18a50130",
   "metadata": {},
   "outputs": [
    {
     "data": {
      "text/plain": [
       "0.37500035762786865"
      ]
     },
     "execution_count": 42,
     "metadata": {},
     "output_type": "execute_result"
    }
   ],
   "source": [
    "MSE(im, imout)"
   ]
  },
  {
   "cell_type": "code",
   "execution_count": 28,
   "id": "d0bb630e",
   "metadata": {},
   "outputs": [
    {
     "data": {
      "text/plain": [
       "<matplotlib.image.AxesImage at 0x2ba14015400>"
      ]
     },
     "execution_count": 28,
     "metadata": {},
     "output_type": "execute_result"
    },
    {
     "data": {
      "image/png": "[encoded data removed]",
      "text/plain": [
       "<Figure size 432x288 with 1 Axes>"
      ]
     },
     "metadata": {
      "needs_background": "light"
     },
     "output_type": "display_data"
    }
   ],
   "source": [
    "fft = fft2(im)\n",
    "plt.imshow(np.abs(fft),cmap='gray')"
   ]
  },
  {
   "cell_type": "code",
   "execution_count": 29,
   "id": "74a14412",
   "metadata": {},
   "outputs": [
    {
     "data": {
      "text/plain": [
       "<matplotlib.image.AxesImage at 0x2ba1615dd60>"
      ]
     },
     "execution_count": 29,
     "metadata": {},
     "output_type": "execute_result"
    },
    {
     "data": {
      "image/png": "[encoded data removed]",
      "text/plain": [
       "<Figure size 432x288 with 1 Axes>"
      ]
     },
     "metadata": {
      "needs_background": "light"
     },
     "output_type": "display_data"
    }
   ],
   "source": [
    "ifft = ifft2(im)\n",
    "plt.imshow(np.abs(ifft),cmap='gray')"
   ]
  },
  {
   "cell_type": "code",
   "execution_count": 30,
   "id": "eda76166",
   "metadata": {},
   "outputs": [
    {
     "data": {
      "text/plain": [
       "383.2503662109375"
      ]
     },
     "execution_count": 30,
     "metadata": {},
     "output_type": "execute_result"
    }
   ],
   "source": [
    "MSE(np.abs(fft), np.abs(ifft))"
   ]
  },
  {
   "cell_type": "code",
   "execution_count": 31,
   "id": "d7bd54d0",
   "metadata": {},
   "outputs": [
    {
     "name": "stdout",
     "output_type": "stream",
     "text": [
      "[[1024. 1024. 1024. ... 1024. 1024. 1024.]\n",
      " [1024. 1024. 1024. ... 1024. 1024. 1024.]\n",
      " [1024. 1024. 1024. ... 1024. 1024. 1024.]\n",
      " ...\n",
      " [1024. 1024. 1024. ... 1024. 1024. 1024.]\n",
      " [1024. 1024. 1024. ... 1024. 1024. 1024.]\n",
      " [1024. 1024. 1024. ... 1024. 1024. 1024.]]\n"
     ]
    },
    {
     "name": "stderr",
     "output_type": "stream",
     "text": [
      "<ipython-input-31-d9496c0a76d9>:1: RuntimeWarning: invalid value encountered in true_divide\n",
      "  print(np.abs(fft)/np.abs(ifft))\n"
     ]
    }
   ],
   "source": [
    "print(np.abs(fft)/np.abs(ifft))"
   ]
  },
  {
   "cell_type": "code",
   "execution_count": null,
   "id": "9e782966",
   "metadata": {},
   "outputs": [],
   "source": []
  }
 ],
 "metadata": {
  "kernelspec": {
   "display_name": "Python 3",
   "language": "python",
   "name": "python3"
  },
  "language_info": {
   "codemirror_mode": {
    "name": "ipython",
    "version": 3
   },
   "file_extension": ".py",
   "mimetype": "text/x-python",
   "name": "python",
   "nbconvert_exporter": "python",
   "pygments_lexer": "ipython3",
   "version": "3.8.8"
  }
 },
 "nbformat": 4,
 "nbformat_minor": 5
}
