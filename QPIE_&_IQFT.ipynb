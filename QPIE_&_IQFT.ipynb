{
 "cells": [
  {
   "cell_type": "markdown",
   "id": "256d343e",
   "metadata": {},
   "source": [
    "# QPIE and IQFT"
   ]
  },
  {
   "cell_type": "code",
   "execution_count": 1,
   "id": "336616b7",
   "metadata": {},
   "outputs": [],
   "source": [
    "import numpy as np\n",
    "from qiskit import QuantumCircuit, QuantumRegister, ClassicalRegister, Aer, execute\n",
    "from qiskit.visualization import plot_histogram\n",
    "from qiskit.circuit.library import QFT\n",
    "import matplotlib.pyplot as plt\n",
    "from qiskit.visualization import array_to_latex\n",
    "from scipy.fft import fft2, ifft2\n",
    "from skimage import io\n",
    "from skimage.transform import resize\n",
    "import h5py\n",
    "from skimage import color"
   ]
  },
  {
   "cell_type": "markdown",
   "id": "f57cfa1e",
   "metadata": {},
   "source": [
    "Quantum Probability Image Enconding (QPIE) is an image encoding for quantum computers, where the color information encoded in the amplitudes. The state is given by $|I\\rangle = \\sum_{i=0}^{2^{2n-1}}c_i|i\\rangle$, with $c_i = \\frac{I'(i)}{||I'||}$ and $I' = (I_{1,1},I_{2,1},...,I_{n,n})^T$ are is flatten image pixel values. "
   ]
  },
  {
   "cell_type": "code",
   "execution_count": 2,
   "id": "f6e3eb71",
   "metadata": {},
   "outputs": [],
   "source": [
    "def qpie_circuit(im): #for square image 2^n * 2^n\n",
    "\n",
    "    n = int(np.log2(len(im)))\n",
    "\n",
    "    vals = im.flatten()\n",
    "    vals = vals/np.linalg.norm(vals) #normalize coefficients\n",
    "\n",
    "    qc = QuantumCircuit(2*n)\n",
    "\n",
    "    qc.initialize(vals)\n",
    "\n",
    "    return qc"
   ]
  },
  {
   "cell_type": "code",
   "execution_count": 20,
   "id": "1963c2a3",
   "metadata": {},
   "outputs": [],
   "source": [
    "# image of the sky filled with double precision complex floats (single precision for reals/imaginaries)\n",
    "# few pixels are set to relatively large complex random values in random spots (image sources)\n",
    "# relatively small complex values are added (white noise from background radiations) \n",
    "\n",
    "n = 32 #number of antennas\n",
    "\n",
    "sky_image = np.zeros((n, n), dtype='complex64')\n",
    "mask = np.zeros((n, n), dtype='bool')\n",
    "stars = np.random.randint(1, 7) #random number of sources\n",
    "radius = 1 \n",
    "\n",
    "for i in range(0, stars):\n",
    "    index_i = np.random.randint(0, n-radius)\n",
    "    index_j = np.random.randint(0, n-radius)\n",
    "    for j in range(0, radius):\n",
    "        for k in range(0, radius):\n",
    "            sky_image[index_i+j][index_j+k] = complex(np.random.rand()*100, np.random.rand()*100)\n",
    "            mask[index_i+j][index_j+k] = True\n",
    "            \n",
    "sky_image.real += np.random.randn(n,n)/100\n",
    "sky_image.imag += np.random.randn(n,n)/100"
   ]
  },
  {
   "cell_type": "code",
   "execution_count": 21,
   "id": "6115c7a5",
   "metadata": {},
   "outputs": [
    {
     "data": {
      "text/plain": [
       "<matplotlib.image.AxesImage at 0x226315779a0>"
      ]
     },
     "execution_count": 21,
     "metadata": {},
     "output_type": "execute_result"
    },
    {
     "data": {
      "image/png": "[encoded data removed]",
      "text/plain": [
       "<Figure size 432x288 with 1 Axes>"
      ]
     },
     "metadata": {
      "needs_background": "light"
     },
     "output_type": "display_data"
    }
   ],
   "source": [
    "plt.imshow(np.abs(sky_image),cmap='gray')"
   ]
  },
  {
   "cell_type": "code",
   "execution_count": 22,
   "id": "cf20b638",
   "metadata": {},
   "outputs": [
    {
     "name": "stdout",
     "output_type": "stream",
     "text": [
      "complex128\n"
     ]
    },
    {
     "data": {
      "text/plain": [
       "<matplotlib.image.AxesImage at 0x226315d81c0>"
      ]
     },
     "execution_count": 22,
     "metadata": {},
     "output_type": "execute_result"
    },
    {
     "data": {
      "image/png": "[encoded data removed]",
      "text/plain": [
       "<Figure size 432x288 with 1 Axes>"
      ]
     },
     "metadata": {
      "needs_background": "light"
     },
     "output_type": "display_data"
    }
   ],
   "source": [
    "ft = np.fft.ifftshift(sky_image)\n",
    "ft = np.fft.fft2(ft)\n",
    "ft = np.fft.fftshift(ft)\n",
    "print(ft.dtype)\n",
    "plt.imshow(np.abs(ft),cmap='gray')"
   ]
  },
  {
   "cell_type": "code",
   "execution_count": 23,
   "id": "76a58755",
   "metadata": {},
   "outputs": [],
   "source": [
    "def decode_out(qc,norm,fourier=False,fourier_inverse=False,shots_mult=1):\n",
    "    \n",
    "    n = qc.num_qubits\n",
    "    shots = shots_mult * 2**20 \n",
    "\n",
    "    backend = Aer.get_backend('qasm_simulator')\n",
    "    results = execute(qc, backend=backend, shots=shots, memory=True).result()\n",
    "    answer = results.get_counts()\n",
    "\n",
    "    outim = np.zeros((int(2**(n/2)), int(2**(n/2))))\n",
    "\n",
    "    b = 0\n",
    "    for i,j in np.ndindex(outim.shape):\n",
    "\n",
    "        bit = format(b, '0' + str(n) + 'b')\n",
    "        p_i = answer.get(bit,0)/shots\n",
    "        \n",
    "        if fourier:\n",
    "            pix_val = np.sqrt(p_i) * norm * 2**(n/2)\n",
    "        \n",
    "        elif fourier_inverse:\n",
    "            pix_val = np.sqrt(p_i) * norm / 2**(n/2)\n",
    "        else:\n",
    "            pix_val = np.sqrt(p_i) * norm\n",
    "            \n",
    "        outim[i,j] = (pix_val)\n",
    "\n",
    "        b+=1\n",
    "    \n",
    "    return outim"
   ]
  },
  {
   "cell_type": "code",
   "execution_count": 24,
   "id": "59af0a37",
   "metadata": {},
   "outputs": [],
   "source": [
    "def MSE(im1,im2):\n",
    "\n",
    "    im = (im1-im2)**2\n",
    "    s = np.sum(im.flatten())/(len(im1**2))\n",
    "    return s"
   ]
  },
  {
   "cell_type": "code",
   "execution_count": 25,
   "id": "28018248",
   "metadata": {},
   "outputs": [
    {
     "data": {
      "text/plain": [
       "<matplotlib.image.AxesImage at 0x2263199fa00>"
      ]
     },
     "execution_count": 25,
     "metadata": {},
     "output_type": "execute_result"
    },
    {
     "data": {
      "image/png": "[encoded data removed]",
      "text/plain": [
       "<Figure size 432x288 with 1 Axes>"
      ]
     },
     "metadata": {
      "needs_background": "light"
     },
     "output_type": "display_data"
    }
   ],
   "source": [
    "ft = np.fft.ifftshift(ft)\n",
    "qc = qpie_circuit(ft)\n",
    "\n",
    "#qc.append(QFT(5,insert_barriers=True, name='QFT'),[0,1,2,3,4])\n",
    "#qc.append(QFT(5,insert_barriers=True, name='QFT'),[5,6,7,8,9])\n",
    "qc.append(QFT(5,insert_barriers=True, inverse=False, name='IQFT'),[0,1,2,3,4])\n",
    "qc.append(QFT(5,insert_barriers=True, inverse=False, name='IQFT'),[5,6,7,8,9])\n",
    "\n",
    "\n",
    "qc.measure_all()\n",
    "\n",
    "qc.draw('mpl')\n",
    "\n",
    "norm = (np.linalg.norm(ft.flatten()))\n",
    "ift = np.fft.fftshift(decode_out(qc,norm,fourier_inverse=True))\n",
    "plt.imshow(np.abs(ift),cmap='gray')"
   ]
  },
  {
   "cell_type": "code",
   "execution_count": 26,
   "id": "18a50130",
   "metadata": {},
   "outputs": [
    {
     "data": {
      "text/plain": [
       "0.009786593374724898"
      ]
     },
     "execution_count": 26,
     "metadata": {},
     "output_type": "execute_result"
    }
   ],
   "source": [
    "MSE(np.abs(sky_image), np.abs(ift))"
   ]
  },
  {
   "cell_type": "code",
   "execution_count": null,
   "id": "800bb48e",
   "metadata": {},
   "outputs": [],
   "source": []
  }
 ],
 "metadata": {
  "kernelspec": {
   "display_name": "Python 3",
   "language": "python",
   "name": "python3"
  },
  "language_info": {
   "codemirror_mode": {
    "name": "ipython",
    "version": 3
   },
   "file_extension": ".py",
   "mimetype": "text/x-python",
   "name": "python",
   "nbconvert_exporter": "python",
   "pygments_lexer": "ipython3",
   "version": "3.8.8"
  }
 },
 "nbformat": 4,
 "nbformat_minor": 5
}
