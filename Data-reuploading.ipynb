{
 "cells": [
  {
   "cell_type": "code",
   "execution_count": 32,
   "id": "486618fa",
   "metadata": {},
   "outputs": [],
   "source": [
    "import numpy as np\n",
    "import matplotlib.pyplot as plt\n",
    "\n",
    "import pennylane as qml\n",
    "from pennylane import numpy as pnp\n",
    "from pennylane.optimize import AdamOptimizer, GradientDescentOptimizer"
   ]
  },
  {
   "cell_type": "markdown",
   "id": "411d56a3",
   "metadata": {},
   "source": [
    "## 1) Generating an artificial image of the sky (frequency domain)"
   ]
  },
  {
   "cell_type": "code",
   "execution_count": 33,
   "id": "c166b680",
   "metadata": {},
   "outputs": [
    {
     "name": "stdout",
     "output_type": "stream",
     "text": [
      "[[4.6084714e-03+9.7974697e-03j 6.5485048e-03+1.3066701e-03j\n",
      "  9.2066359e-03+6.3321684e-03j 4.3678214e-03+4.2592320e-03j\n",
      "  4.3743192e-03+6.4130574e-03j 4.8698713e-03+9.0742270e-03j\n",
      "  4.2364509e-03+7.1217273e-03j 4.9504330e-03+9.7150577e-04j\n",
      "  4.4534956e-03+7.6246588e-03j 5.1173274e-03+8.9141726e-03j]\n",
      " [3.1168738e-03+3.5816143e-04j 3.0896217e-03+7.9540247e-03j\n",
      "  5.4305885e-03+5.1871291e-03j 2.4948928e-03+1.2360025e-03j\n",
      "  3.6484669e-03+7.7051143e-03j 2.9453665e-03+7.4887197e-03j\n",
      "  5.9105866e-03+1.3095250e-03j 2.6085631e-03+8.4767779e-03j\n",
      "  1.9809683e-03+1.9095124e-03j 8.0105457e-03+6.4311130e-03j]\n",
      " [6.3556032e-03+1.5293519e-03j 8.8426536e-03+4.6882825e-03j\n",
      "  7.5550372e-04+8.5531631e-03j 1.2943048e-03+3.8687452e-03j\n",
      "  6.6330028e-03+7.0451098e-03j 6.6645099e-03+8.4460862e-03j\n",
      "  6.9489572e-03+1.9868030e-03j 8.4211063e-03+9.3901986e-03j\n",
      "  3.7788162e-03+7.7387993e-03j 1.9294961e-03+8.4210010e-03j]\n",
      " [2.2568628e-03+9.9647176e-03j 3.9231777e-03+1.8534559e-03j\n",
      "  3.8329221e-03+8.6749988e-03j 5.3836461e-03+6.1604078e-03j\n",
      "  3.6285347e-03+9.0433639e-03j 2.4639938e+01+4.8695263e+01j\n",
      "  7.3139364e-04+4.6333359e-03j 2.5306288e-03+5.6433072e-03j\n",
      "  8.2580457e-03+8.1240274e-03j 6.4952514e-04+4.9984846e-03j]\n",
      " [2.8371792e-03+9.8728146e-03j 7.4248654e-03+3.8429820e-03j\n",
      "  4.7533829e-03+5.8573480e-03j 1.5292428e-03+2.7225809e-03j\n",
      "  2.4639938e+01+4.8695263e+01j 2.4639938e+01+4.8695263e+01j\n",
      "  2.4639938e+01+4.8695263e+01j 1.6517154e-03+1.9445013e-03j\n",
      "  8.2980953e-03+7.7217156e-03j 3.2867563e-03+4.3390272e-03j]\n",
      " [2.3021628e-03+2.1289838e-03j 3.7916151e-03+1.0788030e-03j\n",
      "  6.3461154e-03+8.8235345e-03j 2.4639938e+01+4.8695263e+01j\n",
      "  2.4639938e+01+4.8695263e+01j 2.4639938e+01+4.8695263e+01j\n",
      "  2.4639938e+01+4.8695263e+01j 2.4639938e+01+4.8695263e+01j\n",
      "  6.4457795e-03+9.5027089e-03j 4.3003689e-03+1.2056315e-03j]\n",
      " [1.7338858e-03+8.4765973e-03j 4.5840051e-03+9.7052427e-03j\n",
      "  7.7283252e-03+8.6669754e-03j 4.6963338e-03+7.0157475e-03j\n",
      "  2.4639938e+01+4.8695263e+01j 2.4639938e+01+4.8695263e+01j\n",
      "  2.4639938e+01+4.8695263e+01j 7.3324438e-05+1.5127824e-03j\n",
      "  1.0800861e-03+4.1430509e-03j 1.0662427e-03+7.7198567e-03j]\n",
      " [3.5541945e-03+8.3439685e-03j 8.7855326e-04+9.4254753e-03j\n",
      "  9.1523686e-03+2.4070637e-03j 9.8522818e-03+2.8994496e-03j\n",
      "  6.9626663e-03+9.1990279e-03j 2.4639938e+01+4.8695263e+01j\n",
      "  7.2963410e-03+4.6114554e-03j 4.9820067e-03+3.0418439e-03j\n",
      "  6.6231959e-03+7.7640912e-03j 9.4104651e-03+5.7825060e-03j]\n",
      " [9.7851297e-03+7.5213239e-04j 7.2667754e-04+4.0111286e-03j\n",
      "  9.9900104e-03+9.0729129e-03j 7.4085221e-03+1.4344009e-03j\n",
      "  9.6612507e-03+2.1786534e-03j 6.7410707e-03+7.8345565e-03j\n",
      "  7.1332874e-03+8.4616840e-03j 5.6198626e-03+5.3355661e-03j\n",
      "  2.3387433e-03+7.7375746e-03j 3.0477648e-03+9.1941357e-03j]\n",
      " [4.6743350e-03+5.7115005e-03j 7.2240533e-04+1.4566907e-03j\n",
      "  6.3154948e-05+4.5830277e-03j 9.1274800e-03+3.3917269e-03j\n",
      "  7.6391897e-03+8.0547389e-03j 3.2253254e-03+8.5800514e-03j\n",
      "  7.8271804e-03+1.3283356e-03j 6.8105278e-03+3.4746253e-03j\n",
      "  6.2904721e-03+6.9151949e-03j 5.2636219e-03+6.0380292e-03j]]\n"
     ]
    }
   ],
   "source": [
    "#image of the sky filled with double precision complex floats ('complex64')\n",
    "#pixels are set to low complex random values (image background/noise) \n",
    "#few pixels are set to larger complex random values in a specified ellipse area (image source/subject)\n",
    "\n",
    "n = 10\n",
    "noise = np.zeros((n, n), dtype='complex64')\n",
    "noise.real = np.random.rand(n , n) / 100\n",
    "noise.imag = np.random.rand(n , n) / 100\n",
    "\n",
    "h, w = noise.shape\n",
    "mask = circular_mask(h, w, radius=h/5)\n",
    "sky_image = noise.copy()\n",
    "sky_image[mask] = complex(np.random.rand() * 100, np.random.rand() * 100)\n",
    "print(sky_image)"
   ]
  },
  {
   "cell_type": "code",
   "execution_count": 34,
   "id": "b49ff65a",
   "metadata": {},
   "outputs": [
    {
     "data": {
      "text/plain": [
       "<matplotlib.colorbar.Colorbar at 0x19e4e0f55b0>"
      ]
     },
     "execution_count": 34,
     "metadata": {},
     "output_type": "execute_result"
    },
    {
     "data": {
      "image/png": "[encoded data removed]",
      "text/plain": [
       "<Figure size 432x288 with 2 Axes>"
      ]
     },
     "metadata": {
      "needs_background": "light"
     },
     "output_type": "display_data"
    }
   ],
   "source": [
    "modulus = np.absolute(sky_image)\n",
    "plt.imshow(modulus, cmap='Blues')\n",
    "plt.colorbar()"
   ]
  },
  {
   "cell_type": "markdown",
   "id": "02146dab",
   "metadata": {},
   "source": [
    "## 2) Applying a 2D FT (Fourier domain)"
   ]
  },
  {
   "cell_type": "code",
   "execution_count": 35,
   "id": "b1bfe4f7",
   "metadata": {},
   "outputs": [
    {
     "name": "stdout",
     "output_type": "stream",
     "text": [
      "[[ 3.2074072e+02+6.33534363e+02j -2.5801489e+02-5.09900238e+02j\n",
      "   1.2894626e+02+2.54962296e+02j -3.7641357e+01-7.44368439e+01j\n",
      "   1.8786345e+01+3.72131042e+01j -2.4600138e+01-4.86444664e+01j\n",
      "   1.8841902e+01+3.72098999e+01j -3.7655247e+01-7.44541702e+01j\n",
      "   1.2901158e+02+2.54953720e+02j -2.5800293e+02-5.09868317e+02j]\n",
      " [-2.5795987e+02-5.09852814e+02j  1.9929944e+02+3.93889374e+02j\n",
      "  -7.9759384e+01-1.57556778e+02j -2.9833128e-03+3.76306707e-03j\n",
      "   9.3838377e+00+1.86313457e+01j -6.3746297e-03-1.35756768e-02j\n",
      "   9.4583921e+00+1.85672703e+01j  7.2443075e-02+6.33961149e-03j\n",
      "  -7.9695534e+01-1.57570496e+02j  1.9929062e+02+3.93871002e+02j]\n",
      " [ 1.2898007e+02+2.54936340e+02j -7.9704201e+01-1.57588837e+02j\n",
      "  -1.5248190e+01-3.01134415e+01j  6.4485458e+01+1.27470329e+02j\n",
      "  -4.9280941e+01-9.73484650e+01j  3.0400364e+01+6.02107925e+01j\n",
      "  -4.9331539e+01-9.73615799e+01j  6.4474648e+01+1.27493393e+02j\n",
      "  -1.5212850e+01-3.00739574e+01j -7.9702255e+01-1.57558594e+02j]\n",
      " [-3.7667324e+01-7.43882675e+01j  2.2770450e-02+1.25455819e-02j\n",
      "   6.4473480e+01+1.27500847e+02j -7.6137268e+01-1.50420883e+02j\n",
      "   3.0471708e+01+6.01843719e+01j -9.0608764e-03+1.94372572e-02j\n",
      "   3.0402611e+01+6.02026405e+01j -7.6173866e+01-1.50417603e+02j\n",
      "   6.4495224e+01+1.27519890e+02j -4.6423302e-04+7.85427261e-03j]\n",
      " [ 1.8853146e+01+3.72373886e+01j  9.3714952e+00+1.85739689e+01j\n",
      "  -4.9294994e+01-9.74152832e+01j  3.0438065e+01+6.02015457e+01j\n",
      "   3.9885880e+01+7.87924042e+01j -7.9725563e+01-1.57551605e+02j\n",
      "   3.9855595e+01+7.87569427e+01j  3.0452141e+01+6.01697083e+01j\n",
      "  -4.9283001e+01-9.73751221e+01j  9.4525166e+00+1.85907536e+01j]\n",
      " [-2.4626358e+01-4.86651268e+01j -3.3192020e-03-4.48186323e-03j\n",
      "   3.0493908e+01+6.01516113e+01j -4.9840312e-02-4.47374284e-02j\n",
      "  -7.9709106e+01-1.57554840e+02j  1.2319155e+02+2.43447784e+02j\n",
      "  -7.9721039e+01-1.57577896e+02j  3.7207618e-02+7.55452411e-03j\n",
      "   3.0470512e+01+6.02359695e+01j  1.0650858e-02+4.33746986e-02j]\n",
      " [ 1.8842087e+01+3.71806908e+01j  9.4259663e+00+1.85882740e+01j\n",
      "  -4.9273022e+01-9.73865051e+01j  3.0427887e+01+6.01435356e+01j\n",
      "   3.9877762e+01+7.88105392e+01j -7.9721619e+01-1.57524246e+02j\n",
      "   3.9881584e+01+7.88027039e+01j  3.0471960e+01+6.01974182e+01j\n",
      "  -4.9267906e+01-9.74073715e+01j  9.4038782e+00+1.85849323e+01j]\n",
      " [-3.7630447e+01-7.43500137e+01j  2.7426856e-02+1.14137195e-02j\n",
      "   6.4452980e+01+1.27535843e+02j -7.6164948e+01-1.50431778e+02j\n",
      "   3.0468576e+01+6.01773338e+01j  2.4473452e-04+4.60796617e-02j\n",
      "   3.0461916e+01+6.01899414e+01j -7.6124725e+01-1.50461807e+02j\n",
      "   6.4488388e+01+1.27487633e+02j  1.8676420e-03+6.31189719e-02j]\n",
      " [ 1.2896204e+02+2.54915573e+02j -7.9697723e+01-1.57549667e+02j\n",
      "  -1.5220886e+01-3.00726871e+01j  6.4452797e+01+1.27488052e+02j\n",
      "  -4.9265266e+01-9.73873520e+01j  3.0487402e+01+6.01878815e+01j\n",
      "  -4.9252487e+01-9.73729324e+01j  6.4507378e+01+1.27446426e+02j\n",
      "  -1.5240912e+01-3.00846634e+01j -7.9733475e+01-1.57580322e+02j]\n",
      " [-2.5796674e+02-5.09929962e+02j  1.9927866e+02+3.93926117e+02j\n",
      "  -7.9691147e+01-1.57542664e+02j  5.4187257e-02-1.65087655e-02j\n",
      "   9.3859673e+00+1.85805283e+01j -6.5489607e-03-5.04435822e-02j\n",
      "   9.4018068e+00+1.85956821e+01j -1.8305017e-02-4.99724299e-02j\n",
      "  -7.9701424e+01-1.57535049e+02j  1.9934500e+02+3.93902466e+02j]]\n"
     ]
    }
   ],
   "source": [
    "visibilities = np.fft.fft2(sky_image).astype('complex64')\n",
    "print(visibilities)"
   ]
  },
  {
   "cell_type": "markdown",
   "id": "6430946f",
   "metadata": {},
   "source": [
    "## 3) Source-finding classification"
   ]
  },
  {
   "cell_type": "markdown",
   "id": "139bc94a",
   "metadata": {},
   "source": [
    "### Training labels"
   ]
  },
  {
   "cell_type": "code",
   "execution_count": 40,
   "id": "cf1fc3e0",
   "metadata": {},
   "outputs": [
    {
     "data": {
      "image/png": "[encoded data removed]",
      "text/plain": [
       "<Figure size 288x288 with 1 Axes>"
      ]
     },
     "metadata": {
      "needs_background": "light"
     },
     "output_type": "display_data"
    },
    {
     "data": {
      "image/png": "[encoded data removed]",
      "text/plain": [
       "<Figure size 432x288 with 1 Axes>"
      ]
     },
     "metadata": {
      "needs_background": "light"
     },
     "output_type": "display_data"
    }
   ],
   "source": [
    "def labels(data, mask):\n",
    "    \n",
    "    Xvals, yvals = [], []\n",
    "    \n",
    "    for i in range(mask.shape[0]):\n",
    "        for j in range(mask.shape[1]):\n",
    "            if mask[i][j] == True:\n",
    "                label = 1\n",
    "            else:\n",
    "                label = 0\n",
    "        \n",
    "            yvals.append(label)\n",
    "            Xvals.append((data[i][j].real, data[i][j].imag))\n",
    "        \n",
    "    return pnp.array(Xvals, requires_grad=False), pnp.array(yvals, requires_grad=False)\n",
    "\n",
    "\n",
    "def plot_data(x, y, fig=None, ax=None):\n",
    "    \n",
    "    reds = y == 0\n",
    "    blues = y == 1\n",
    "    plt.scatter(x[reds, 0], x[reds, 1], c=\"red\", s=20, edgecolor=\"k\")\n",
    "    ax.set_xlabel(\"Re\")\n",
    "    ax.set_ylabel(\"Img\")\n",
    "    plt.show()\n",
    "    \n",
    "    plt.scatter(x[blues, 0], x[blues, 1], c=\"blue\", s=20, edgecolor=\"k\")\n",
    "    plt.show()\n",
    "    \n",
    "    \n",
    "Xdata, ydata = labels(visibilities, mask)\n",
    "fig, ax = plt.subplots(1, 1, figsize=(4, 4))\n",
    "plot_data(Xdata, ydata, fig=fig, ax=ax)\n",
    "\n",
    "\n",
    "# Define output labels as quantum state vectors\n",
    "def density_matrix(state):\n",
    "    \n",
    "    return state * pnp.conj(state).T\n",
    "\n",
    "\n",
    "label_0 = [[1], [0]]\n",
    "label_1 = [[0], [1]]\n",
    "state_labels = pnp.array([label_0, label_1], requires_grad=False)"
   ]
  },
  {
   "cell_type": "markdown",
   "id": "93ae5c8d",
   "metadata": {},
   "source": [
    "### Simple classifier with data reloading and fidelity loss"
   ]
  },
  {
   "cell_type": "code",
   "execution_count": 41,
   "id": "bdd700ee",
   "metadata": {},
   "outputs": [],
   "source": [
    "dev = qml.device(\"default.qubit\", wires=1)\n",
    "# Install any pennylane-plugin to run on some particular backend\n",
    "# https://docs.pennylane.ai/projects/qiskit/en/latest/\n",
    "# https://docs.pennylane.ai/en/stable/introduction/interfaces.html\n",
    "\n",
    "\n",
    "@qml.qnode(dev)\n",
    "def qcircuit(params, x, y):\n",
    "    \"\"\"A variational quantum circuit representing the Universal classifier.\n",
    "\n",
    "    Args:\n",
    "        params (array[float]): array of parameters\n",
    "        x (array[float]): single input vector\n",
    "        y (array[float]): single output state density matrix\n",
    "\n",
    "    Returns:\n",
    "        float: fidelity between output state and input\n",
    "    \"\"\"\n",
    "    for p in params:\n",
    "        qml.Rot(*x, wires=0)\n",
    "        qml.Rot(*p, wires=0)\n",
    "    return qml.expval(qml.Hermitian(y, wires=[0]))\n",
    "\n",
    "\n",
    "def cost(params, x, y, state_labels=None):\n",
    "    \"\"\"Cost function to be minimized.\n",
    "\n",
    "    Args:\n",
    "        params (array[float]): array of parameters\n",
    "        x (array[float]): 2-d array of input vectors\n",
    "        y (array[float]): 1-d array of targets\n",
    "        state_labels (array[float]): array of state representations for labels\n",
    "\n",
    "    Returns:\n",
    "        float: loss value to be minimized\n",
    "    \"\"\"\n",
    "    # Compute prediction for each input in data batch\n",
    "    loss = 0.0\n",
    "    dm_labels = [density_matrix(s) for s in state_labels]\n",
    "    for i in range(len(x)):\n",
    "        f = qcircuit(params, x[i], dm_labels[y[i]])\n",
    "        loss = loss + (1 - f) ** 2\n",
    "    return loss / len(x)"
   ]
  },
  {
   "cell_type": "markdown",
   "id": "0193c4c5",
   "metadata": {},
   "source": [
    "### Utility functions for testing and creating batches"
   ]
  },
  {
   "cell_type": "code",
   "execution_count": 42,
   "id": "0cc01f42",
   "metadata": {},
   "outputs": [],
   "source": [
    "def test(params, x, y, state_labels=None):\n",
    "    \"\"\"\n",
    "    Tests on a given set of data.\n",
    "\n",
    "    Args:\n",
    "        params (array[float]): array of parameters\n",
    "        x (array[float]): 2-d array of input vectors\n",
    "        y (array[float]): 1-d array of targets\n",
    "        state_labels (array[float]): 1-d array of state representations for labels\n",
    "\n",
    "    Returns:\n",
    "        predicted (array([int]): predicted labels for test data\n",
    "        output_states (array[float]): output quantum states from the circuit\n",
    "    \"\"\"\n",
    "    fidelity_values = []\n",
    "    dm_labels = [density_matrix(s) for s in state_labels]\n",
    "    predicted = []\n",
    "\n",
    "    for i in range(len(x)):\n",
    "        fidel_function = lambda y: qcircuit(params, x[i], y)\n",
    "        fidelities = [fidel_function(dm) for dm in dm_labels]\n",
    "        best_fidel = np.argmax(fidelities)\n",
    "\n",
    "        predicted.append(best_fidel)\n",
    "        fidelity_values.append(fidelities)\n",
    "\n",
    "    return pnp.array(predicted), pnp.array(fidelity_values)\n",
    "\n",
    "\n",
    "def accuracy_score(y_true, y_pred):\n",
    "    \"\"\"Accuracy score.\n",
    "\n",
    "    Args:\n",
    "        y_true (array[float]): 1-d array of targets\n",
    "        y_predicted (array[float]): 1-d array of predictions\n",
    "        state_labels (array[float]): 1-d array of state representations for labels\n",
    "\n",
    "    Returns:\n",
    "        score (float): the fraction of correctly classified samples\n",
    "    \"\"\"\n",
    "    score = y_true == y_pred\n",
    "    return score.sum() / len(y_true)\n",
    "\n",
    "\n",
    "def iterate_minibatches(inputs, targets, batch_size):\n",
    "    \"\"\"\n",
    "    A generator for batches of the input data\n",
    "\n",
    "    Args:\n",
    "        inputs (array[float]): input data\n",
    "        targets (array[float]): targets\n",
    "\n",
    "    Returns:\n",
    "        inputs (array[float]): one batch of input data of length `batch_size`\n",
    "        targets (array[float]): one batch of targets of length `batch_size`\n",
    "    \"\"\"\n",
    "    for start_idx in range(0, inputs.shape[0] - batch_size + 1, batch_size):\n",
    "        idxs = slice(start_idx, start_idx + batch_size)\n",
    "        yield inputs[idxs], targets[idxs]"
   ]
  },
  {
   "cell_type": "markdown",
   "id": "62bb8482",
   "metadata": {},
   "source": [
    "### Train a quantum classifier on the visibilities"
   ]
  },
  {
   "cell_type": "code",
   "execution_count": 43,
   "id": "b0fed5a7",
   "metadata": {},
   "outputs": [
    {
     "name": "stdout",
     "output_type": "stream",
     "text": [
      "Epoch:  0 | Cost: 0.145050 | Train accuracy: 0.612500 | Test Accuracy: 0.700000\n",
      "Epoch:  1 | Loss: 0.155677 | Train accuracy: 0.787500 | Test accuracy: 0.800000\n",
      "Epoch:  2 | Loss: 0.174045 | Train accuracy: 0.725000 | Test accuracy: 0.650000\n",
      "Epoch:  3 | Loss: 0.166796 | Train accuracy: 0.775000 | Test accuracy: 0.700000\n",
      "Epoch:  4 | Loss: 0.126578 | Train accuracy: 0.800000 | Test accuracy: 0.750000\n",
      "Epoch:  5 | Loss: 0.118317 | Train accuracy: 0.862500 | Test accuracy: 0.900000\n",
      "Epoch:  6 | Loss: 0.123193 | Train accuracy: 0.812500 | Test accuracy: 0.900000\n",
      "Epoch:  7 | Loss: 0.118005 | Train accuracy: 0.862500 | Test accuracy: 0.650000\n",
      "Epoch:  8 | Loss: 0.112225 | Train accuracy: 0.837500 | Test accuracy: 0.650000\n",
      "Epoch:  9 | Loss: 0.107619 | Train accuracy: 0.862500 | Test accuracy: 0.950000\n",
      "Epoch: 10 | Loss: 0.104449 | Train accuracy: 0.900000 | Test accuracy: 1.000000\n"
     ]
    }
   ],
   "source": [
    "# Generate training and test data\n",
    "X_data, y_data = labels(visibilities, mask)\n",
    "# = np.array(X_data)\n",
    "index = int(0.8*len(X_data))\n",
    "X_train, y_train = X_data[:index], y_data[:index]\n",
    "X_test, y_test = X_data[index:], y_data[index:]\n",
    "\n",
    "X_train = pnp.hstack((X_train, pnp.zeros((X_train.shape[0], 1), requires_grad=False)))\n",
    "X_test = pnp.hstack((X_test, pnp.zeros((X_test.shape[0], 1), requires_grad=False)))\n",
    "\n",
    "\n",
    "# Train using Adam optimizer and evaluate the classifier\n",
    "num_layers = 3\n",
    "learning_rate = 0.6\n",
    "epochs = 10\n",
    "batch_size = 32\n",
    "\n",
    "opt = AdamOptimizer(learning_rate, beta1=0.9, beta2=0.999)\n",
    "\n",
    "# initialize random weights\n",
    "params = pnp.random.uniform(size=(num_layers, 3), requires_grad=True)\n",
    "\n",
    "predicted_train, fidel_train = test(params, X_train, y_train, state_labels)\n",
    "accuracy_train = accuracy_score(y_train, predicted_train)\n",
    "\n",
    "predicted_test, fidel_test = test(params, X_test, y_test, state_labels)\n",
    "accuracy_test = accuracy_score(y_test, predicted_test)\n",
    "\n",
    "# save predictions with random weights for comparison\n",
    "initial_predictions = predicted_test\n",
    "\n",
    "loss = cost(params, X_test, y_test, state_labels)\n",
    "\n",
    "print(\n",
    "    \"Epoch: {:2d} | Cost: {:3f} | Train accuracy: {:3f} | Test Accuracy: {:3f}\".format(\n",
    "        0, loss, accuracy_train, accuracy_test\n",
    "    )\n",
    ")\n",
    "\n",
    "for it in range(epochs):\n",
    "    for Xbatch, ybatch in iterate_minibatches(X_train, y_train, batch_size=batch_size):\n",
    "        params, _, _, _ = opt.step(cost, params, Xbatch, ybatch, state_labels)\n",
    "\n",
    "    predicted_train, fidel_train = test(params, X_train, y_train, state_labels)\n",
    "    accuracy_train = accuracy_score(y_train, predicted_train)\n",
    "    loss = cost(params, X_train, y_train, state_labels)\n",
    "\n",
    "    predicted_test, fidel_test = test(params, X_test, y_test, state_labels)\n",
    "    accuracy_test = accuracy_score(y_test, predicted_test)\n",
    "    res = [it + 1, loss, accuracy_train, accuracy_test]\n",
    "    print(\n",
    "        \"Epoch: {:2d} | Loss: {:3f} | Train accuracy: {:3f} | Test accuracy: {:3f}\".format(\n",
    "            *res\n",
    "        )\n",
    "    )"
   ]
  },
  {
   "cell_type": "markdown",
   "id": "33430798",
   "metadata": {},
   "source": [
    "## Results"
   ]
  },
  {
   "cell_type": "code",
   "execution_count": 44,
   "id": "97633f29",
   "metadata": {},
   "outputs": [
    {
     "name": "stdout",
     "output_type": "stream",
     "text": [
      "Cost: 0.104449 | Train accuracy 0.900000 | Test Accuracy : 1.000000\n",
      "Learned weights\n",
      "Layer 0: [2.47686677 1.13890149 0.68296624]\n",
      "Layer 1: [0.53245594 1.05039669 1.81170193]\n",
      "Layer 2: [1.1737725  1.19656393 0.35140445]\n"
     ]
    },
    {
     "data": {
      "image/png": "[encoded data removed]",
      "text/plain": [
       "<Figure size 720x216 with 3 Axes>"
      ]
     },
     "metadata": {
      "needs_background": "light"
     },
     "output_type": "display_data"
    },
    {
     "data": {
      "image/png": "[encoded data removed]",
      "text/plain": [
       "<Figure size 432x288 with 1 Axes>"
      ]
     },
     "metadata": {
      "needs_background": "light"
     },
     "output_type": "display_data"
    },
    {
     "data": {
      "image/png": "[encoded data removed]",
      "text/plain": [
       "<Figure size 432x288 with 1 Axes>"
      ]
     },
     "metadata": {
      "needs_background": "light"
     },
     "output_type": "display_data"
    },
    {
     "data": {
      "image/png": "[encoded data removed]",
      "text/plain": [
       "<Figure size 432x288 with 1 Axes>"
      ]
     },
     "metadata": {
      "needs_background": "light"
     },
     "output_type": "display_data"
    },
    {
     "data": {
      "image/png": "[encoded data removed]",
      "text/plain": [
       "<Figure size 432x288 with 1 Axes>"
      ]
     },
     "metadata": {
      "needs_background": "light"
     },
     "output_type": "display_data"
    },
    {
     "data": {
      "image/png": "[encoded data removed]",
      "text/plain": [
       "<Figure size 432x288 with 1 Axes>"
      ]
     },
     "metadata": {
      "needs_background": "light"
     },
     "output_type": "display_data"
    },
    {
     "data": {
      "text/plain": [
       "<Figure size 432x288 with 0 Axes>"
      ]
     },
     "metadata": {},
     "output_type": "display_data"
    }
   ],
   "source": [
    "print(\n",
    "    \"Cost: {:3f} | Train accuracy {:3f} | Test Accuracy : {:3f}\".format(\n",
    "        loss, accuracy_train, accuracy_test\n",
    "    )\n",
    ")\n",
    "\n",
    "print(\"Learned weights\")\n",
    "for i in range(num_layers):\n",
    "    print(\"Layer {}: {}\".format(i, params[i]))\n",
    "\n",
    "\n",
    "fig, axes = plt.subplots(1, 3, figsize=(10, 3))\n",
    "plot_data(X_test, initial_predictions, fig, axes[0])\n",
    "plot_data(X_test, predicted_test, fig, axes[1])\n",
    "plot_data(X_test, y_test, fig, axes[2])\n",
    "axes[0].set_title(\"Predictions with random weights\")\n",
    "axes[1].set_title(\"Predictions after training\")\n",
    "axes[2].set_title(\"True test data\")\n",
    "plt.tight_layout()\n",
    "plt.show()"
   ]
  },
  {
   "cell_type": "markdown",
   "id": "a21babae",
   "metadata": {},
   "source": [
    "## Utils"
   ]
  },
  {
   "cell_type": "markdown",
   "id": "8204ef54",
   "metadata": {},
   "source": [
    "### Quantum"
   ]
  },
  {
   "cell_type": "markdown",
   "id": "3f3d40e7",
   "metadata": {},
   "source": [
    "### Classical"
   ]
  },
  {
   "cell_type": "code",
   "execution_count": 2,
   "id": "b144e919",
   "metadata": {},
   "outputs": [],
   "source": [
    "#creates a circular mask over a 2D array\n",
    "def circular_mask(h, w, center=None, radius=None):\n",
    "    if center is None: #image center\n",
    "        center = (int(w/2), int(h/2))\n",
    "    if radius is None: #smallest distance between center and image bounderies\n",
    "        radius = min(center[0], center[1], w-center[0], h-center[1])\n",
    "        \n",
    "    Y, X = np.ogrid[:h, :w]\n",
    "    dist_from_center = np.sqrt((X - center[0])**2 + (Y-center[1])**2)\n",
    "    mask = dist_from_center <= radius\n",
    "    \n",
    "    return mask"
   ]
  },
  {
   "cell_type": "code",
   "execution_count": null,
   "id": "1a90f8fb",
   "metadata": {},
   "outputs": [],
   "source": []
  }
 ],
 "metadata": {
  "kernelspec": {
   "display_name": "Python 3",
   "language": "python",
   "name": "python3"
  },
  "language_info": {
   "codemirror_mode": {
    "name": "ipython",
    "version": 3
   },
   "file_extension": ".py",
   "mimetype": "text/x-python",
   "name": "python",
   "nbconvert_exporter": "python",
   "pygments_lexer": "ipython3",
   "version": "3.8.8"
  }
 },
 "nbformat": 4,
 "nbformat_minor": 5
}
