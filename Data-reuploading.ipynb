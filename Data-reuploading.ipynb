{
 "cells": [
  {
   "cell_type": "code",
   "execution_count": 1,
   "id": "486618fa",
   "metadata": {},
   "outputs": [],
   "source": [
    "import numpy as np\n",
    "import matplotlib.pyplot as plt\n",
    "import random\n",
    "from tqdm import tqdm\n",
    "\n",
    "import pennylane as qml\n",
    "from pennylane import numpy as pnp\n",
    "from pennylane.optimize import AdamOptimizer, GradientDescentOptimizer"
   ]
  },
  {
   "cell_type": "markdown",
   "id": "411d56a3",
   "metadata": {},
   "source": [
    "## 1) Generating an artificial image of the sky (frequency domain)"
   ]
  },
  {
   "cell_type": "code",
   "execution_count": 2,
   "id": "c166b680",
   "metadata": {},
   "outputs": [
    {
     "name": "stdout",
     "output_type": "stream",
     "text": [
      "[[ 8.38266779e-03+1.23805674e-02j -6.68622041e-03-8.41651286e-04j\n",
      "   5.78507222e-03-1.35949925e-02j -2.66239932e-03-1.23632746e-02j\n",
      "  -1.75031386e-02-1.02102505e-02j -5.92487445e-03+5.42816985e-03j\n",
      "  -4.67129052e-03-1.12960525e-02j  9.45288315e-03+6.35459274e-03j\n",
      "   5.94043499e-03-3.85605963e-03j -7.93842785e-03-3.68373608e-03j\n",
      "  -3.75526521e-04+1.44112138e-02j -5.77366725e-03+9.25998669e-03j\n",
      "   6.64124126e-03+1.73435397e-02j  6.66224305e-03+8.56527127e-03j\n",
      "   9.81507078e-03+1.30783743e-03j -4.94105229e-03+2.24101520e-03j\n",
      "   1.57443043e-02-6.68880530e-03j  7.97130261e-03+1.77164357e-02j\n",
      "  -1.13576697e-02+2.37605944e-02j  1.34594524e-02+1.08366637e-02j]\n",
      " [ 1.18464166e-02-4.93730791e-03j  1.92633420e-02+2.74964911e-03j\n",
      "   2.56687850e-02+3.78465769e-03j  8.80937325e-04-7.95905106e-03j\n",
      "  -1.03336321e-02-1.99748250e-03j  5.22264326e-03-1.21356137e-02j\n",
      "   1.36181933e-03+1.85572691e-02j -1.73619725e-02+7.26049859e-03j\n",
      "  -7.49628153e-03+1.14404578e-02j -5.25426003e-04-6.86933054e-03j\n",
      "  -8.22836161e-03-1.97088327e-02j  1.32566663e-02-7.14338478e-03j\n",
      "   2.92475289e-03-1.15901446e-02j -3.67837562e-03+8.25398322e-03j\n",
      "  -7.89766945e-03+1.01748994e-03j  3.70611297e-03-9.11186449e-03j\n",
      "  -1.09839700e-02+8.54217913e-04j  1.04519939e-02+5.12656430e-03j\n",
      "   1.85913667e-02+6.88132551e-03j -4.23302781e-03-1.63841285e-02j]\n",
      " [-7.45722326e-03-3.91366100e-03j -2.40748487e-02-3.68407019e-03j\n",
      "  -2.09884485e-03-3.41078080e-03j -1.48164369e-02-6.52216258e-04j\n",
      "   5.13704168e-03+6.57589175e-03j  1.31540876e-02-2.55672056e-02j\n",
      "   2.15089414e-02-1.02042761e-02j  3.56049696e-03-9.62101668e-03j\n",
      "   6.36759913e-03-8.86618253e-03j -6.00428926e-03-8.57624784e-03j\n",
      "   1.12829423e-02-1.94013957e-03j  2.52859611e-02-6.29828172e-03j\n",
      "  -3.72409867e-03-2.81383144e-03j -3.62984464e-03-3.44203366e-03j\n",
      "  -1.16269067e-02+1.92219741e-03j  1.11243781e-02+1.19340420e-03j\n",
      "   8.42816383e-03+6.75297482e-03j -2.64489860e-03-5.14245685e-03j\n",
      "   4.70487960e-03+4.21157246e-03j -1.32079553e-02-2.38003582e-03j]\n",
      " [ 2.00742446e-02-3.91951762e-03j  7.68700056e-03+1.00753643e-03j\n",
      "   1.95840914e-02+2.88603734e-03j -7.13745086e-03-1.00740725e-02j\n",
      "   3.38908797e-03+4.96485410e-03j  3.12611548e-04-1.06206993e-02j\n",
      "   1.45095866e-02+8.83332733e-03j  1.42073259e-02+2.43255459e-02j\n",
      "   5.55923255e-03+1.93692889e-04j -1.82292459e-03-6.71490328e-03j\n",
      "  -7.01228902e-03-7.32381037e-03j  2.76466389e-03+1.70306824e-02j\n",
      "  -4.78529232e-03+9.45183728e-03j  1.10181049e-02+1.78005472e-02j\n",
      "   1.07379733e-02-1.41507238e-02j -1.28460908e-02+1.50552008e-03j\n",
      "  -1.83657650e-02-8.55710544e-03j -7.57537782e-03+1.32699199e-02j\n",
      "  -2.52573914e-03-9.41608753e-03j -1.77373625e-02+1.06322663e-02j]\n",
      " [ 5.07118925e-03-7.41101988e-03j  3.42756696e-03+2.07109237e-03j\n",
      "   8.13304447e-03+3.30793974e-03j -6.44043507e-03-3.07611655e-03j\n",
      "  -1.14980415e-02-4.45469236e-03j -2.57513626e-03-1.40593797e-02j\n",
      "   4.37025633e-03-1.51158631e-04j  2.50216154e-03-7.09274458e-03j\n",
      "   1.45034501e-02-1.36129605e-02j -1.54484937e-03+1.60345957e-02j\n",
      "  -4.15604748e-03-2.45745317e-03j  8.68294621e-04-8.24773742e-04j\n",
      "   3.08979652e-03+1.37147969e-02j -1.03068557e-02-6.76324498e-03j\n",
      "  -8.79959436e-04-1.20296730e-02j -1.69342282e-04-7.91402534e-03j\n",
      "   1.38351955e-02+8.17455468e-04j  1.27621647e-03+4.00738418e-03j\n",
      "   5.15057426e-03-1.42575651e-02j  4.53054905e-03-1.16886394e-02j]\n",
      " [ 2.51748320e-02-1.10297948e-02j -1.18969148e-02+8.76712240e-03j\n",
      "   2.46285694e-03+9.14231222e-03j -1.68872776e-03-2.59061111e-03j\n",
      "   1.72656518e-03+5.25545802e-05j  1.94914779e-03-1.69615392e-02j\n",
      "   1.78170912e-02-1.53079107e-02j -2.03392981e-03-1.65780671e-02j\n",
      "  -3.90836084e-03+7.75455125e-03j  2.06282046e-02-1.00847734e-02j\n",
      "  -1.32187881e-04+4.24468936e-03j  1.30499818e-03-3.34539358e-03j\n",
      "   1.82903539e-02-4.63531178e-05j  1.07677141e-03-1.74772684e-02j\n",
      "  -9.75951459e-03-4.50545689e-03j -5.02586365e-04+6.21381856e-04j\n",
      "   2.21379683e-03-8.22062604e-03j -2.57621100e-03-2.72706263e-02j\n",
      "  -4.20124875e-03-9.03058425e-03j -1.84855959e-03-6.16502482e-03j]\n",
      " [ 6.37314143e-03-1.19701186e-02j -1.51149612e-02+1.41330557e-02j\n",
      "   3.03405570e-03+1.53739639e-02j -6.46909093e-03+1.72813120e-03j\n",
      "   1.72874518e-02+4.12408123e-03j  6.80956244e-03+1.54695063e-05j\n",
      "  -1.59932841e-02-1.66348275e-02j -8.65287520e-03-3.60554550e-03j\n",
      "  -1.08751217e-02+3.75477155e-03j  1.03358096e-02-1.26295602e-02j\n",
      "  -1.05862692e-03+9.09276120e-03j -6.37531746e-04+2.08752207e-03j\n",
      "  -4.09028633e-03-1.16242133e-02j -9.97283217e-03-4.02657827e-03j\n",
      "  -2.83796657e-02+1.18073411e-02j  1.49955545e-02-2.16753874e-03j\n",
      "   1.98544171e-02-1.21751809e-02j  6.94897491e-03+2.99082813e-03j\n",
      "  -6.05144305e-04+1.07927481e-02j  7.68966554e-03-7.19446503e-03j]\n",
      " [ 1.50417881e-02-5.21919830e-03j -1.40489617e-04+1.19287670e-02j\n",
      "   2.79056206e+01+4.57893600e+01j  4.20754729e-03-2.89410446e-03j\n",
      "  -1.34920906e-02-1.63729992e-02j -1.05895139e-02-1.07535338e-02j\n",
      "   5.34179248e-03-2.57136358e-04j  6.07036008e-03-4.25495300e-03j\n",
      "   2.99402722e-03-1.18380375e-02j  1.07044028e-02-4.53812629e-03j\n",
      "  -1.52166595e-03-1.77637078e-02j  1.49529183e-03-1.21208970e-02j\n",
      "   1.66283231e-02+1.48616675e-02j  5.60799940e-03+5.64295985e-03j\n",
      "  -8.51807650e-03+5.60005545e-04j  1.52759356e-02-9.74345766e-03j\n",
      "  -5.02896542e-03+1.42711531e-02j  9.28476173e-03-1.18140029e-02j\n",
      "   9.69244167e-03-1.33160036e-03j  7.30532315e-03+1.73927322e-02j]\n",
      " [ 1.78050739e-03-2.15232540e-02j -1.20145595e-03-1.07375067e-02j\n",
      "  -1.58707164e-02-1.90697273e-03j -8.56866781e-03-3.05213127e-03j\n",
      "   8.51609092e-03-2.21991632e-02j -1.12682292e-02+1.31989764e-02j\n",
      "   5.48187690e-03+4.96313302e-03j -3.81474057e-03+5.19222952e-03j\n",
      "  -4.19155648e-03+1.99243193e-03j  1.10710170e-02-1.19896512e-02j\n",
      "  -7.02417782e-03+1.46100568e-02j  1.87352896e-02+8.93343892e-03j\n",
      "  -5.16927522e-03-4.42330865e-03j  1.81077491e-03-5.23912907e-03j\n",
      "   1.69617254e-02+1.69225328e-03j -4.24302928e-03-1.50172529e-03j\n",
      "   1.00668203e-02-1.69588107e-04j  1.94448084e-02+4.24073823e-03j\n",
      "   1.15763089e-02+5.31781116e-04j -1.71564764e-03+7.84602202e-03j]\n",
      " [ 9.90627613e-03-1.71212619e-03j -4.06420371e-03+1.08253341e-02j\n",
      "   1.63352881e-02-1.37347886e-02j  6.57285983e-03-2.34702649e-03j\n",
      "  -8.68360233e-03-4.61546192e-03j  8.02289695e-03+4.74991772e-04j\n",
      "   1.51651567e-02-3.02279857e-03j -9.01437644e-03+1.23619370e-03j\n",
      "  -5.51502267e-03+3.44871334e-03j  8.32935143e-03-7.81209348e-03j\n",
      "   3.21852247e-04-1.41528784e-04j -3.70878540e-03-1.77956466e-02j\n",
      "  -1.85579841e-03+1.23301446e-02j  2.81465100e-03+1.40375560e-02j\n",
      "  -1.64271425e-03+1.20657869e-02j -2.29411665e-03-9.36782733e-03j\n",
      "   1.22678187e-02+5.75467665e-03j  1.86060518e-02+1.00626806e-02j\n",
      "   5.68853924e-03+5.40304696e-04j -1.10493356e-03-7.27296853e-03j]\n",
      " [-7.69895362e-03-5.30639850e-03j -3.55747272e-03+2.53421273e-02j\n",
      "  -7.95540027e-03-8.96449201e-03j -2.63623544e-03+4.81352815e-03j\n",
      "  -2.01103687e-02+1.68296192e-02j -4.40776860e-03-5.34910941e-04j\n",
      "   9.81555041e-03+4.88371588e-03j -1.16704050e-02-1.65887717e-02j\n",
      "  -4.74799704e-03+1.04515143e-02j  8.31786264e-03+2.77007441e-03j\n",
      "   2.44161263e-02+5.72199095e-03j  1.87551265e-03+6.18464546e-03j\n",
      "  -3.80771095e-03+1.02641350e-02j -5.43816388e-03+1.00066606e-02j\n",
      "   2.49439925e-02-2.50329915e-03j  5.30483434e-03-3.88917280e-03j\n",
      "   2.45036534e-03-2.45065807e-04j -6.68775244e-03-8.15580133e-03j\n",
      "  -8.53583589e-03+3.25970631e-03j -6.05606753e-03+1.36859959e-03j]\n",
      " [-1.74425729e-02+8.02766625e-03j  3.97681026e-03-6.19068695e-03j\n",
      "  -1.59266088e-02+1.05241794e-04j  4.98589478e+01+4.86178970e+01j\n",
      "   1.35496967e-02+1.28470585e-02j  6.78209634e-03+2.07819650e-03j\n",
      "  -1.01880194e-03-1.73701830e-02j -1.83802973e-02+8.78029678e-04j\n",
      "  -1.16188750e-02-1.82850417e-02j -8.44299514e-03-1.33219911e-02j\n",
      "  -1.31444642e-02-7.66479759e-04j -1.05866289e-03-3.39096109e-03j\n",
      "  -1.26639083e-02+1.84449703e-02j  6.94256276e-04-1.14503242e-02j\n",
      "  -5.37118735e-03+2.47265808e-02j  2.60846876e-03+1.86334942e-02j\n",
      "  -1.48470316e-03-5.56287216e-03j  1.27685955e-02-1.10117544e-03j\n",
      "  -1.56811476e-02-2.21612607e-03j  5.49541228e-03-3.21550993e-03j]\n",
      " [-7.86085986e-03+1.21264474e-03j  6.19297847e-03-6.58934878e-04j\n",
      "  -2.60933244e-04+2.23818910e-03j  2.55967099e-02+6.21856796e-03j\n",
      "  -4.29673539e-03+2.42733043e-02j -6.06402243e-03-3.44520085e-03j\n",
      "  -3.94266518e-03+6.57450827e-03j -5.52409794e-03+1.84013566e-04j\n",
      "   3.54532385e-03-1.57448486e-03j  9.70375214e+01+5.81380806e+01j\n",
      "   1.91434287e-02+8.37123895e-04j -1.09187383e-02+1.19732844e-03j\n",
      "   1.65213328e-02-1.05132395e-02j  1.82659011e-02-4.59745666e-03j\n",
      "  -6.04548259e-03+1.54122235e-02j  7.60309584e-03+1.79517809e-02j\n",
      "   7.88535178e-03-1.17131649e-02j  2.08230186e-02-1.16226338e-02j\n",
      "   2.27794005e-03+6.91870518e-04j -5.13041904e-03-1.19332885e-02j]\n",
      " [-1.56082828e-02-3.42922169e-03j  8.94645043e-03+9.21941083e-03j\n",
      "   1.09791234e-02+4.86654928e-03j  1.48213310e-02+6.88804081e-03j\n",
      "  -9.93138924e-03+9.26952343e-03j  1.92349413e-04+1.60424896e-02j\n",
      "   7.42968125e-03-1.81147573e-03j  5.70354750e-04+2.38543795e-03j\n",
      "  -1.52855022e-02+1.42230629e-03j  5.12788678e-03-1.17409173e-02j\n",
      "   3.32000735e-03+1.95199437e-02j -1.43084833e-02-5.46686258e-03j\n",
      "  -4.91783116e-03-4.08260664e-03j -9.51693673e-03+1.16442796e-02j\n",
      "   1.92521117e-03+4.40882798e-03j  6.79509575e-03-1.75120384e-02j\n",
      "  -1.51358331e-02-1.95207959e-03j  1.07561247e-02-1.94019992e-02j\n",
      "  -2.59978836e-03+1.11126609e-03j -1.46859540e-02-7.88334291e-03j]\n",
      " [ 6.73715316e-04-1.93442299e-03j -6.63259719e-03-5.80922142e-03j\n",
      "   1.19109480e-02-8.19376321e-04j -1.32512832e-02-2.01882981e-03j\n",
      "  -1.49954883e-02-8.31778441e-03j  6.76061958e-03+1.24995969e-02j\n",
      "   2.44481545e-02+2.17430689e-03j -6.21486455e-03+2.03647558e-03j\n",
      "  -7.16809742e-03-5.44688245e-03j  5.66775165e-03-2.90520000e-03j\n",
      "  -3.91449168e-04+8.86207353e-03j -2.91265361e-03-8.59897677e-03j\n",
      "   9.66652180e-04+6.72225421e-03j  8.88322666e-03-1.31344637e-02j\n",
      "   9.33869835e-03-9.01864900e-04j  6.06148737e-04+1.31652392e-02j\n",
      "   1.28773842e-02-6.32910710e-03j -5.38153481e-03+4.25097765e-03j\n",
      "   8.66102520e-03-4.78482479e-03j -1.53286662e-02-2.99924263e-03j]\n",
      " [ 2.30470416e-03-3.73861892e-03j  1.83994311e-03+1.66246027e-03j\n",
      "  -8.83903075e-03+6.69689290e-03j -1.73918121e-02+8.09582998e-04j\n",
      "  -2.36871522e-02+6.74999785e-03j -3.21512041e-03+4.53864178e-03j\n",
      "  -3.45588732e-03-3.29680624e-03j -3.85362655e-03+5.37834316e-03j\n",
      "   1.05035503e-03-2.22513848e-03j -2.64407247e-02-8.82363040e-03j\n",
      "   1.42891181e-03-1.89816430e-02j  7.08445860e-03-9.78595018e-03j\n",
      "   9.38447751e-03-7.14475289e-03j -1.04284128e-02-3.58085148e-03j\n",
      "  -4.07136744e-03-7.11816223e-03j  1.10250600e-02-2.95565650e-03j\n",
      "  -7.37670693e-04+6.62010582e-03j -1.70610694e-03+1.55285082e-03j\n",
      "   1.07298112e-02+3.39726277e-04j  1.25861336e-02-8.88536684e-03j]\n",
      " [ 8.05612188e-03+7.38672074e-03j -4.35534772e-03+1.98878776e-02j\n",
      "  -9.04735457e-03-1.16201332e-02j -1.22699002e-02-1.54585792e-02j\n",
      "  -4.26379032e-03-6.24449924e-03j  7.63526605e-03-2.19468027e-02j\n",
      "  -1.20278848e-02+6.84705237e-03j -1.35229379e-02+1.73887369e-04j\n",
      "  -7.65474513e-03-6.51267404e-03j -5.43829426e-03-3.30256793e-04j\n",
      "  -1.05799297e-02-4.38241614e-03j  6.94976980e-03-3.64119420e-03j\n",
      "   1.76778133e-03-3.31586855e-03j -1.08245378e-02-4.65949764e-03j\n",
      "   1.23736775e-03-2.03503389e-03j  2.22158637e-02-1.11651262e-02j\n",
      "  -2.96637951e-03-1.39673415e-03j  2.35567684e-04+3.97256063e-03j\n",
      "  -9.69349965e-03+9.77156800e-04j -1.02024972e-02-1.35397911e-02j]\n",
      " [-6.38418505e-03+1.21342333e-03j  4.47991630e-03+7.93934613e-03j\n",
      "  -1.05773495e-03-1.01222768e-02j -3.18720043e-02+3.40784597e-03j\n",
      "   5.74805215e-03+1.55105153e-02j  1.65770727e-03+1.85943395e-02j\n",
      "  -8.00386816e-03-4.39960696e-03j  1.30047668e-02+4.68326639e-03j\n",
      "   9.10804141e-03-1.34356576e-03j -9.91530344e-03-9.72488150e-03j\n",
      "   6.17858954e-03+9.57115460e-03j  1.22518390e-02+5.79838874e-03j\n",
      "   7.12540653e-03-1.35116896e-03j  7.07777450e-03-4.04695049e-03j\n",
      "  -1.05232969e-02-4.69330326e-03j -2.32603736e-02+1.05414912e-02j\n",
      "  -4.18419065e-03+1.56845171e-02j  8.31644237e-03+5.54736657e-03j\n",
      "   1.57532450e-02-1.09817963e-02j  3.98330158e-04-7.51267129e-04j]\n",
      " [ 1.70064624e-02-1.74333882e-02j -2.67065014e-03-9.99747589e-03j\n",
      "  -3.14570661e-03+1.30282687e-02j  7.17230607e-03+1.56953081e-03j\n",
      "   4.43142606e-03+2.76024966e-03j  6.68993530e+01+1.00462408e+01j\n",
      "  -2.04571034e-03+1.25750841e-03j -7.40289409e-03+1.41592982e-05j\n",
      "   7.74317188e-03+6.66239671e-03j -1.78199168e-02+4.94612474e-03j\n",
      "   5.18868817e-03-1.84542581e-03j  6.84816251e-03-2.67828931e-03j\n",
      "   7.85873737e-03-3.79328616e-03j  4.08100942e-03-7.45291403e-03j\n",
      "  -9.96120274e-03-4.62294236e-04j -7.61868386e-03-1.33948552e-03j\n",
      "   1.78199483e-03-2.27446668e-02j  1.14182169e-02+2.13533593e-03j\n",
      "  -1.51225030e-02+4.52735275e-03j -8.38178489e-03-5.01445821e-03j]\n",
      " [ 5.76301757e-03+2.31790662e-04j -2.62726448e-03+9.34855174e-03j\n",
      "  -2.47805309e-03+6.41184393e-03j  4.52698255e-03+8.56109057e-03j\n",
      "  -6.98348321e-03+3.30621749e-03j  9.29371454e-03-6.89388905e-03j\n",
      "   2.05504752e-04+1.64166652e-02j -2.36617550e-02-1.66981167e-03j\n",
      "  -6.30605547e-03-4.28738911e-03j  6.66561397e-03+8.93097185e-03j\n",
      "  -9.84219741e-03+5.36021031e-03j  6.28681714e-03-1.60062441e-03j\n",
      "   8.85906816e-03+3.64229549e-03j  9.17525683e-03-1.68011547e-03j\n",
      "   1.39589142e-02+1.19771371e-02j -1.05639966e-02+7.26953615e-03j\n",
      "   2.58801654e-02+7.03611318e-03j -5.10089705e-03+8.18644557e-03j\n",
      "   4.55626333e-03-1.13713183e-02j  1.71279479e-02+4.63337172e-03j]]\n"
     ]
    }
   ],
   "source": [
    "#image of the sky filled with double precision complex floats ('complex64')\n",
    "#pixels are set to low complex random values (image background/noise) \n",
    "#few pixels are set to larger complex random values in a specified ellipse area (image source/subject)\n",
    "n = 20\n",
    "sky_image = np.zeros((n, n), dtype='complex64')\n",
    "mask = np.zeros((n, n), dtype='bool')\n",
    "number_of_stars = np.random.randint(3, 11)\n",
    "radius = np.random.randint(1, 3)\n",
    "\n",
    "for i in range(0, number_of_stars):\n",
    "    index_i = np.random.randint(0, sky_image.shape[0]-radius)\n",
    "    index_j = np.random.randint(0, sky_image.shape[1]-radius)\n",
    "    for j in range(0, radius):\n",
    "        for k in range(0, radius):\n",
    "            sky_image[index_i+j][index_j+k] = complex(np.random.rand()*100, np.random.rand()*100)\n",
    "            mask[index_i+j][index_j+k] = True\n",
    "            \n",
    "sky_image.real += np.random.randn(n,n)/100\n",
    "sky_image.imag += np.random.randn(n,n)/100\n",
    "\n",
    "print(sky_image)"
   ]
  },
  {
   "cell_type": "code",
   "execution_count": 3,
   "id": "b49ff65a",
   "metadata": {},
   "outputs": [
    {
     "data": {
      "image/png": "[encoded data removed]",
      "text/plain": [
       "<Figure size 432x288 with 2 Axes>"
      ]
     },
     "metadata": {
      "needs_background": "light"
     },
     "output_type": "display_data"
    }
   ],
   "source": [
    "modulus = np.absolute(sky_image)\n",
    "plt.imshow(modulus, cmap='Blues')\n",
    "plt.colorbar();"
   ]
  },
  {
   "cell_type": "markdown",
   "id": "02146dab",
   "metadata": {},
   "source": [
    "## 2) Applying a 2D FT (Fourier domain)"
   ]
  },
  {
   "cell_type": "code",
   "execution_count": 4,
   "id": "b1bfe4f7",
   "metadata": {},
   "outputs": [
    {
     "name": "stdout",
     "output_type": "stream",
     "text": [
      "[[ 241.97237   +162.39954j      53.809708  -142.91866j\n",
      "    60.68875    +19.199306j    -17.543806  -147.92075j\n",
      "   -22.730068   +56.317253j     -8.324382  -160.15134j\n",
      "  -189.7035    +112.45185j     104.77312    +65.69842j\n",
      "   -19.01168    +28.24252j     126.1107     -57.17237j\n",
      "  -185.70688    -70.84623j      45.252705  +184.202j\n",
      "    44.09614    -44.020386j     87.48549    +66.47139j\n",
      "    31.335312  -163.92044j     -47.563118   +68.386894j\n",
      "    90.87694   -153.25621j    -208.74689    -41.120148j\n",
      "   -50.98921    +52.871742j   -134.58165   +163.6251j    ]\n",
      " [-106.433784   -23.186335j     83.48725    -42.608418j\n",
      "  -195.71988    -71.68894j      23.483849  +177.85799j\n",
      "    26.645382   -40.80208j      67.830765   +51.532013j\n",
      "   -43.028027  -167.13441j    -133.9476    +170.42802j\n",
      "   138.25056    +27.299194j      0.91849333 +36.753593j\n",
      "   147.73647    -76.286575j   -108.24277    -61.80817j\n",
      "   114.5133      +1.7939435j  -130.28848   -186.76105j\n",
      "  -118.58675    +96.3493j     -108.83201    +47.265614j\n",
      "    67.28094   +271.53775j     215.43944   -100.40769j\n",
      "   -30.99437    -18.565214j     90.81453    -92.751015j  ]\n",
      " [ 113.22324    +15.239472j    -24.034441   +24.043009j\n",
      "    85.20196    -92.10041j    -211.92194     +0.8097328j\n",
      "    95.75176   +178.09132j      34.495117   -39.59635j\n",
      "   118.294914   +45.35229j      -3.7283392 -166.65376j\n",
      "   -11.411909   +68.64658j      43.00593   -190.35504j\n",
      "  -217.46588     +9.978735j    -46.210327   +57.28062j\n",
      "   -94.2244    +198.7916j      267.41125    +90.8454j\n",
      "     3.1493366 -136.48003j      69.73331    +15.375538j\n",
      "   -47.96507   -126.750656j     12.650265   +59.960835j\n",
      "   -44.506794  -160.01859j    -141.58324   +149.12122j   ]\n",
      " [ -83.42013   +217.49806j     141.56883     +0.33562055j\n",
      "    23.152174   +47.8171j      133.20085   -114.03701j\n",
      "  -107.18064    -31.72988j     118.4243     -48.104538j\n",
      "  -182.80714   -153.3678j      -93.77391   +115.183365j\n",
      "  -105.21553    +74.88428j     132.96465   +243.39397j\n",
      "   164.65114   -147.62431j     -34.530598    +8.62127j\n",
      "    68.45269   -103.14596j     -91.69874    +14.982337j\n",
      "    82.2105     -73.10503j    -199.69029    -21.700478j\n",
      "    75.75637   +145.21237j       2.1116443  -59.680668j\n",
      "    63.825603   +23.852434j   -107.872246  -139.51482j   ]\n",
      " [ -38.635345  -158.56972j      23.565638   +58.32193j\n",
      "   -14.020373  -210.63387j    -209.8563     +61.21202j\n",
      "   -40.207157   +59.99269j     -44.53314   +219.51805j\n",
      "   269.3327     +14.706957j    -43.311024  -114.29279j\n",
      "    77.37981     +8.136491j    -70.36127    -96.906105j\n",
      "    47.28993    +52.22243j     -79.266594  -149.44702j\n",
      "   -85.17041   +169.33781j     105.82206    -36.204098j\n",
      "   -29.41364    +21.434826j     35.96838   -112.783226j\n",
      "  -213.47261    +76.79526j     142.29558   +156.1621j\n",
      "    26.886436   -32.95764j     140.83209    +15.172605j  ]\n",
      " [ -64.290665  +125.763176j    -93.44463    +99.669174j\n",
      "   186.0544    +197.11975j     102.31834   -176.9493j\n",
      "   -28.84397    +35.873123j     43.96127   -106.66911j\n",
      "   -66.34716    +46.534573j     70.80801   -100.88071j\n",
      "  -187.79407    +26.396484j    115.53284    +97.74672j\n",
      "   -27.281498   -70.173004j     51.710728    -0.6604101j\n",
      "  -161.30992    -92.68129j     -21.008602  +246.88739j\n",
      "   135.69453    -26.624468j     47.756134   +51.131306j\n",
      "   107.46914   -145.59773j     -95.54546     -2.9814148j\n",
      "   106.6671     -96.56076j    -222.28136   -106.67529j   ]\n",
      " [ -80.804146   -78.87127j      82.42996     -0.61844486j\n",
      "   -82.79174    -61.265648j     77.428085   +33.29055j\n",
      "  -108.69327   -128.54413j     -24.53489   +171.30382j\n",
      "    82.653015   -82.57773j     -35.549507   +20.538355j\n",
      "   -17.035109  -116.56761j    -192.11447   +149.92564j\n",
      "   179.4786    +120.31014j      21.685175   -24.141853j\n",
      "   152.75871    -20.13806j     -68.81658   -140.53061j\n",
      "    52.91601    +37.092834j    -74.744644  -212.23625j\n",
      "  -187.40712   +107.76598j     -33.964737   +60.89827j\n",
      "     8.353926  +223.82487j     248.04489    -58.508232j  ]\n",
      " [  51.831093  -124.1841j     -161.70349    +68.668396j\n",
      "   138.69353    +40.451283j    -58.627857   -70.900215j\n",
      "    32.39766    -20.427921j   -197.57652    -32.332516j\n",
      "    47.870094  +255.48085j     121.64663    -50.67637j\n",
      "    71.48607    +46.53115j      73.98932   -167.48895j\n",
      "   -76.51207    +19.783514j     80.52827   -139.00642j\n",
      "  -245.78992    -49.287617j    -33.16815   +126.68529j\n",
      "   -74.26074   +119.78784j     222.57817   +136.61754j\n",
      "    33.58708   -185.50061j     -14.643995   +59.35612j\n",
      "    19.757975  -102.69653j     -32.235737   +68.767075j  ]\n",
      " [ -41.740868   +22.091257j    -69.593315  -104.94595j\n",
      "  -149.18954   +213.29509j     204.08398    +75.50574j\n",
      "    19.282057   -14.429884j    152.90413    -57.176014j\n",
      "   -92.14371   -113.93615j      74.36124     +7.8813634j\n",
      "  -132.06981   -195.16475j    -151.3661    +144.70358j\n",
      "   -28.021385   +59.715725j     60.33937   +211.46512j\n",
      "   204.99309   -121.40767j    -105.02446    -34.59181j\n",
      "    85.115944   -10.458826j    -83.56837    -24.095917j\n",
      "   100.561676    +6.553175j   -129.89357    -99.75488j\n",
      "    33.8694    +154.02386j      46.63315   -119.97634j   ]\n",
      " [ 101.271095   -69.70213j      93.19179    +34.809155j\n",
      "    34.31698   -178.16173j     -51.088436   +36.082294j\n",
      "    42.0203    -171.41893j    -250.29059    +12.572926j\n",
      "    -3.0328374 +118.020065j    -49.787037  +132.50232j\n",
      "   238.01228    +67.4129j      -33.847992  -172.67395j\n",
      "     5.257063   +77.9901j       -2.2507787  -90.90359j\n",
      "     6.96002    +79.32016j      26.45358   -140.77512j\n",
      "  -123.70609   +101.20865j     143.66917    -21.15491j\n",
      "   -88.37436    -62.145058j      8.959527   -33.9297j\n",
      "  -213.19685    +36.933186j    115.660095  +242.86522j   ]\n",
      " [  86.14356    -26.312899j   -182.73557   -160.99657j\n",
      "  -105.90636   +169.19673j     -22.87314    +56.17167j\n",
      "   106.24122   +183.8411j      144.86203   -168.1172j\n",
      "  -114.200096   +16.203505j     83.805756   -20.397486j\n",
      "   -72.45832    +11.78946j     114.48557    -26.135103j\n",
      "  -141.82169    -65.38375j      83.46782   +119.80782j\n",
      "     1.256925  -143.9465j      -47.445297   +24.850672j\n",
      "  -114.83446    -76.990845j    -88.757835  +259.1873j\n",
      "   213.70415    +25.074148j     20.42999     -4.210855j\n",
      "   142.26234    -93.021935j   -106.1536     -81.08924j   ]\n",
      " [ -22.675732  +137.75066j     231.66295     -3.2379467j\n",
      "   -94.51739   -139.43423j      30.248589   +89.44813j\n",
      "   -18.999846   -72.91485j      47.543526   +77.540794j\n",
      "    -2.971006  -148.08347j     -77.24315   +120.74366j\n",
      "   128.73528    -80.7424j     -114.062225   -44.516747j\n",
      "   -18.76915    -38.597164j   -207.2071    +107.594315j\n",
      "   176.23973   +209.63766j      76.20548    -80.51093j\n",
      "   110.80396    +17.076872j     -6.0192866 -176.43794j\n",
      "   -21.70288    +43.86081j      -4.26407   -190.01039j\n",
      "  -236.08112    +72.51067j      22.808924  +100.59571j   ]\n",
      " [  79.703804   -30.251501j    -51.019985   +42.697243j\n",
      "   117.93134    -61.502674j   -142.35799    -29.324413j\n",
      "   120.26122    +71.97404j     -49.681995  -152.66383j\n",
      "   -51.13578    +29.456692j   -149.72224    -36.5841j\n",
      "   -17.066378  +285.2346j      206.45808    -25.931868j\n",
      "    24.846336    +5.012717j    120.78709   -123.62887j\n",
      "  -109.03935    -45.44785j      86.69616    -62.260532j\n",
      "  -219.26636   -113.28412j     -54.386074  +177.66841j\n",
      "   -18.049099   +52.097027j    141.19954   +143.29465j\n",
      "    72.78498   -193.58116j    -108.12341    +67.16446j   ]\n",
      " [ -27.599735  +124.42959j      95.89878   -133.34105j\n",
      "  -133.22139    -19.824793j    -46.059406   -35.035866j\n",
      "  -178.92883   +172.42793j     223.1247    +159.15451j\n",
      "    49.416233   -83.49751j     120.88752     -5.1421037j\n",
      "   -44.072002  -161.25778j       8.233495   +41.91186j\n",
      "   -53.635563  -194.15271j    -202.93974   +124.76081j\n",
      "    41.81837    +76.25103j       4.5802536 +133.86823j\n",
      "   203.84184    -68.23869j    -141.53098    -89.27031j\n",
      "    57.855484   +92.10211j     -29.661068   -50.73801j\n",
      "    85.27091    +63.0623j      -32.921803  -146.34105j   ]\n",
      " [-170.30309    +13.308003j     58.984303  +287.31506j\n",
      "   184.75862    -71.95387j      31.411196   +12.811433j\n",
      "    91.11889   -146.24597j    -100.94273    -10.750371j\n",
      "    76.17046    -97.136795j   -239.70198    -56.25611j\n",
      "    -3.395602  +170.27277j     -15.614337   +46.13036j\n",
      "   161.73271    +93.77422j      -3.2751415 -195.90701j\n",
      "   -85.89112   +113.3639j       72.68429    -37.740906j\n",
      "   -21.110088   +65.13534j     109.213615   -95.951096j\n",
      "  -131.97675     +5.2551365j   141.08809    +15.36561j\n",
      "  -100.75144   -145.23448j     -54.12663    +35.15646j   ]\n",
      " [ 124.75142    -29.555809j    -75.216125  -136.29243j\n",
      "    36.306732   +31.230885j   -102.188255  -182.21162j\n",
      "  -155.66722   +164.76738j      52.426823   +46.40436j\n",
      "    29.559673  +122.25065j     157.58958   -121.50428j\n",
      "  -171.55598    -26.396803j     84.7151     +86.654434j\n",
      "   -33.287064   -26.14914j     116.697624   +37.721504j\n",
      "   -61.18783   -135.6713j       20.94468   +112.425j\n",
      "    48.85945   -173.39963j    -143.78537     +9.178767j\n",
      "   -71.368      -23.148216j   -132.33754   +225.80984j\n",
      "   252.85301    +96.73674j      22.325466   -78.21439j   ]\n",
      " [-241.23225     +4.143236j     42.78992   +147.73009j\n",
      "   -14.75638    +40.26341j     166.01608    +40.4839j\n",
      "   -76.20023   -174.33635j     -50.37733   +150.97342j\n",
      "    64.14333    -42.533672j     14.516514   +77.16119j\n",
      "    91.26367   -126.31891j    -111.1092     +34.800976j\n",
      "   142.13393    -45.8284j     -147.39832   -122.71611j\n",
      "   -54.939743   +41.402454j   -174.86066    +66.002686j\n",
      "   131.88016   +265.27124j     149.29433   -109.17081j\n",
      "    40.493954   +18.14065j      55.73723   -158.64366j\n",
      "   -82.53647    +19.787682j     54.980156  -126.576256j  ]\n",
      " [  96.86491   -157.74992j    -179.93983    +41.76433j\n",
      "   108.495735   +72.532906j    -28.851519    -1.8679001j\n",
      "   139.1002      +3.8237562j   -84.68654   -116.67726j\n",
      "    63.389748   +85.95532j      -8.53352   -196.88963j\n",
      "  -144.49677    +40.893406j    -90.78074     -3.8666787j\n",
      "   -71.84045   +262.30374j     261.25687    +28.279268j\n",
      "    -1.7377517  -64.16557j     120.36873    -53.67828j\n",
      "   -97.93855   -102.932434j     59.777634   +11.315194j\n",
      "  -144.74164   -156.02962j     -98.64955   +188.46072j\n",
      "    53.311203   +15.496634j     49.804466  +103.04766j   ]\n",
      " [  51.731075   +78.05169j      64.510254  -149.85542j\n",
      "   -81.70849    +56.43621j     125.01297   -103.56995j\n",
      "  -184.58945    -86.79109j     -53.94875    +47.040005j\n",
      "  -162.32584   +118.393776j    195.33092   +223.30396j\n",
      "   104.208405  -133.97662j      49.90546    +19.929035j\n",
      "    18.0194    -159.0244j      -56.015472   +43.05146j\n",
      "    25.6812    -148.01868j    -224.13821    +62.182384j\n",
      "    80.212875  +111.47473j     -16.239426   +33.71851j\n",
      "   153.75426    -11.459788j   -139.47525   -131.2362j\n",
      "    -5.401973  +174.98285j      54.093224   -45.211994j  ]\n",
      " [ -69.916405  -200.94955j    -135.71658    +70.29452j\n",
      "  -104.363106   +20.461708j     -2.5758195 +277.9851j\n",
      "   248.67178    -39.941383j    -20.058487   -43.604733j\n",
      "   108.25381    -75.72282j    -108.20577    -63.041805j\n",
      "    76.108444   -13.585562j   -177.103     -117.44221j\n",
      "   -36.50831   +192.57527j      44.803146   -14.243181j\n",
      "    63.01102    +78.59053j      27.487352  -173.5533j\n",
      "  -166.94312   +109.91738j     127.30977    +52.534462j\n",
      "   -16.810652   +19.784416j    149.70215    -35.784763j\n",
      "  -100.547585   -90.70419j      95.59003    +48.17851j   ]]\n"
     ]
    }
   ],
   "source": [
    "visibilities = np.fft.fft2(sky_image).astype('complex64')\n",
    "print(visibilities)"
   ]
  },
  {
   "cell_type": "code",
   "execution_count": 5,
   "id": "89293e90",
   "metadata": {},
   "outputs": [
    {
     "data": {
      "image/png": "[encoded data removed]",
      "text/plain": [
       "<Figure size 432x288 with 2 Axes>"
      ]
     },
     "metadata": {
      "needs_background": "light"
     },
     "output_type": "display_data"
    }
   ],
   "source": [
    "modulus = np.absolute(visibilities)\n",
    "plt.imshow(modulus, cmap='Blues')\n",
    "plt.colorbar();"
   ]
  },
  {
   "cell_type": "markdown",
   "id": "6430946f",
   "metadata": {},
   "source": [
    "## 3) Source-finding classification"
   ]
  },
  {
   "cell_type": "markdown",
   "id": "dadf682b",
   "metadata": {},
   "source": [
    "### Training labels"
   ]
  },
  {
   "cell_type": "code",
   "execution_count": 6,
   "id": "cf1fc3e0",
   "metadata": {},
   "outputs": [
    {
     "data": {
      "image/png": "[encoded data removed]",
      "text/plain": [
       "<Figure size 432x288 with 1 Axes>"
      ]
     },
     "metadata": {
      "needs_background": "light"
     },
     "output_type": "display_data"
    },
    {
     "data": {
      "image/png": "[encoded data removed]",
      "text/plain": [
       "<Figure size 432x288 with 1 Axes>"
      ]
     },
     "metadata": {
      "needs_background": "light"
     },
     "output_type": "display_data"
    },
    {
     "data": {
      "image/png": "[encoded data removed]",
      "text/plain": [
       "<Figure size 432x288 with 1 Axes>"
      ]
     },
     "metadata": {
      "needs_background": "light"
     },
     "output_type": "display_data"
    }
   ],
   "source": [
    "def labels(data, mask):\n",
    "    \n",
    "    Xvals, yvals = [], []\n",
    "    \n",
    "    for i in range(mask.shape[0]):\n",
    "        for j in range(mask.shape[1]):\n",
    "            if mask[i][j] == True:\n",
    "                label = 1\n",
    "            else:\n",
    "                label = 0\n",
    "        \n",
    "            yvals.append(label)\n",
    "            Xvals.append((data[i][j].real, data[i][j].imag))\n",
    "        \n",
    "    return pnp.array(Xvals, requires_grad=False), pnp.array(yvals, requires_grad=False)\n",
    "\n",
    "\n",
    "def plot_data(x, y, ax=None):\n",
    "    \n",
    "    reds = y == 0\n",
    "    blues = y == 1\n",
    "    plt.scatter(x[reds, 0], x[reds, 1], c=\"red\", s=20, edgecolor=\"k\")\n",
    "    plt.gca().set_xlabel(\"Re\")\n",
    "    plt.gca().set_ylabel(\"Img\")\n",
    "    plt.title('Noise')\n",
    "    plt.show()\n",
    "    \n",
    "    plt.scatter(x[blues, 0], x[blues, 1], c=\"blue\", s=20, edgecolor=\"k\")\n",
    "    plt.gca().set_xlabel(\"Re\")\n",
    "    plt.gca().set_ylabel(\"Img\")\n",
    "    plt.title('Source')\n",
    "    plt.show()\n",
    "    \n",
    "    plt.scatter(x[reds, 0], x[reds, 1], c=\"red\", s=20, edgecolor=\"k\")\n",
    "    plt.scatter(x[blues, 0], x[blues, 1], c=\"blue\", s=20, edgecolor=\"k\")\n",
    "    plt.gca().set_xlabel(\"Re\")\n",
    "    plt.gca().set_ylabel(\"Img\")\n",
    "    plt.title('Noise and Source')\n",
    "    plt.show()\n",
    "    \n",
    "Xdata, ydata = labels(visibilities, mask)\n",
    "plot_data(Xdata, ydata)\n",
    "\n",
    "\n",
    "# Define output labels as quantum state vectors\n",
    "def density_matrix(state):\n",
    "    \n",
    "    return state * pnp.conj(state).T\n",
    "\n",
    "\n",
    "label_0 = [[1], [0]]\n",
    "label_1 = [[0], [1]]\n",
    "state_labels = pnp.array([label_0, label_1], requires_grad=False)"
   ]
  },
  {
   "cell_type": "markdown",
   "id": "93ae5c8d",
   "metadata": {},
   "source": [
    "### Simple classifier with data reloading and fidelity loss"
   ]
  },
  {
   "cell_type": "code",
   "execution_count": 7,
   "id": "bdd700ee",
   "metadata": {},
   "outputs": [],
   "source": [
    "dev = qml.device(\"lightning.qubit\", wires=1)\n",
    "# Install any pennylane-plugin to run on some particular backend\n",
    "# https://docs.pennylane.ai/projects/qiskit/en/latest/\n",
    "# https://docs.pennylane.ai/en/stable/introduction/interfaces.html\n",
    "\n",
    "\n",
    "@qml.qnode(dev)\n",
    "def qcircuit(params, x, y):\n",
    "    \"\"\"A variational quantum circuit representing the Universal classifier.\n",
    "\n",
    "    Args:\n",
    "        params (array[float]): array of parameters\n",
    "        x (array[float]): single input vector\n",
    "        y (array[float]): single output state density matrix\n",
    "\n",
    "    Returns:\n",
    "        float: fidelity between output state and input\n",
    "    \"\"\"\n",
    "    for p in params:\n",
    "        qml.Rot(*x, wires=0)\n",
    "        qml.Rot(*p, wires=0)\n",
    "    return qml.expval(qml.Hermitian(y, wires=[0]))\n",
    "\n",
    "\n",
    "def cost(params, x, y, state_labels=None):\n",
    "    \"\"\"Cost function to be minimized.\n",
    "\n",
    "    Args:\n",
    "        params (array[float]): array of parameters\n",
    "        x (array[float]): 2-d array of input vectors\n",
    "        y (array[float]): 1-d array of targets\n",
    "        state_labels (array[float]): array of state representations for labels\n",
    "\n",
    "    Returns:\n",
    "        float: loss value to be minimized\n",
    "    \"\"\"\n",
    "    # Compute prediction for each input in data batch\n",
    "    loss = 0.0\n",
    "    dm_labels = [density_matrix(s) for s in state_labels]\n",
    "    for i in range(len(x)):\n",
    "        f = qcircuit(params, x[i], dm_labels[y[i]])\n",
    "        loss = loss + (1 - f) ** 2\n",
    "    return loss / len(x)"
   ]
  },
  {
   "cell_type": "markdown",
   "id": "0193c4c5",
   "metadata": {},
   "source": [
    "### Utility functions for testing and creating batches"
   ]
  },
  {
   "cell_type": "code",
   "execution_count": 8,
   "id": "0cc01f42",
   "metadata": {},
   "outputs": [],
   "source": [
    "def test(params, x, y, state_labels=None):\n",
    "    \"\"\"\n",
    "    Tests on a given set of data.\n",
    "\n",
    "    Args:\n",
    "        params (array[float]): array of parameters\n",
    "        x (array[float]): 2-d array of input vectors\n",
    "        y (array[float]): 1-d array of targets\n",
    "        state_labels (array[float]): 1-d array of state representations for labels\n",
    "\n",
    "    Returns:\n",
    "        predicted (array([int]): predicted labels for test data\n",
    "        output_states (array[float]): output quantum states from the circuit\n",
    "    \"\"\"\n",
    "    fidelity_values = []\n",
    "    dm_labels = [density_matrix(s) for s in state_labels]\n",
    "    predicted = []\n",
    "\n",
    "    for i in range(len(x)):\n",
    "        fidel_function = lambda y: qcircuit(params, x[i], y)\n",
    "        fidelities = [fidel_function(dm) for dm in dm_labels]\n",
    "        best_fidel = np.argmax(fidelities)\n",
    "\n",
    "        predicted.append(best_fidel)\n",
    "        fidelity_values.append(fidelities)\n",
    "\n",
    "    return pnp.array(predicted), pnp.array(fidelity_values)\n",
    "\n",
    "\n",
    "def accuracy_score(y_true, y_pred):\n",
    "    \"\"\"Accuracy score.\n",
    "\n",
    "    Args:\n",
    "        y_true (array[float]): 1-d array of targets\n",
    "        y_predicted (array[float]): 1-d array of predictions\n",
    "        state_labels (array[float]): 1-d array of state representations for labels\n",
    "\n",
    "    Returns:\n",
    "        score (float): the fraction of correctly classified samples\n",
    "    \"\"\"\n",
    "    score = y_true == y_pred\n",
    "    return score.sum() / len(y_true)\n",
    "\n",
    "\n",
    "def iterate_minibatches(inputs, targets, batch_size):\n",
    "    \"\"\"\n",
    "    A generator for batches of the input data\n",
    "\n",
    "    Args:\n",
    "        inputs (array[float]): input data\n",
    "        targets (array[float]): targets\n",
    "\n",
    "    Returns:\n",
    "        inputs (array[float]): one batch of input data of length `batch_size`\n",
    "        targets (array[float]): one batch of targets of length `batch_size`\n",
    "    \"\"\"\n",
    "    for start_idx in range(0, inputs.shape[0] - batch_size + 1, batch_size):\n",
    "        idxs = slice(start_idx, start_idx + batch_size)\n",
    "        yield inputs[idxs], targets[idxs]"
   ]
  },
  {
   "cell_type": "markdown",
   "id": "62bb8482",
   "metadata": {},
   "source": [
    "### Train a quantum classifier on the visibilities"
   ]
  },
  {
   "cell_type": "code",
   "execution_count": 9,
   "id": "b0fed5a7",
   "metadata": {},
   "outputs": [
    {
     "name": "stderr",
     "output_type": "stream",
     "text": [
      "\r",
      "0it [00:00, ?it/s]"
     ]
    },
    {
     "name": "stdout",
     "output_type": "stream",
     "text": [
      "Epoch:  0 | Cost: 0.200025 | Train accuracy: 0.781250 | Test Accuracy: 0.737500\n"
     ]
    },
    {
     "name": "stderr",
     "output_type": "stream",
     "text": [
      "5it [00:21,  4.26s/it]\n",
      "0it [00:00, ?it/s]"
     ]
    },
    {
     "name": "stdout",
     "output_type": "stream",
     "text": [
      "Epoch:  1 | Loss: 0.176507 | Train accuracy: 0.787500 | Test accuracy: 0.737500\n"
     ]
    },
    {
     "name": "stderr",
     "output_type": "stream",
     "text": [
      "5it [00:23,  4.66s/it]\n",
      "0it [00:00, ?it/s]"
     ]
    },
    {
     "name": "stdout",
     "output_type": "stream",
     "text": [
      "Epoch:  2 | Loss: 0.175501 | Train accuracy: 0.787500 | Test accuracy: 0.737500\n"
     ]
    },
    {
     "name": "stderr",
     "output_type": "stream",
     "text": [
      "5it [00:22,  4.58s/it]\n",
      "0it [00:00, ?it/s]"
     ]
    },
    {
     "name": "stdout",
     "output_type": "stream",
     "text": [
      "Epoch:  3 | Loss: 0.174513 | Train accuracy: 0.787500 | Test accuracy: 0.737500\n"
     ]
    },
    {
     "name": "stderr",
     "output_type": "stream",
     "text": [
      "5it [00:24,  4.97s/it]\n",
      "0it [00:00, ?it/s]"
     ]
    },
    {
     "name": "stdout",
     "output_type": "stream",
     "text": [
      "Epoch:  4 | Loss: 0.173544 | Train accuracy: 0.787500 | Test accuracy: 0.737500\n"
     ]
    },
    {
     "name": "stderr",
     "output_type": "stream",
     "text": [
      "5it [00:25,  5.01s/it]\n",
      "0it [00:00, ?it/s]"
     ]
    },
    {
     "name": "stdout",
     "output_type": "stream",
     "text": [
      "Epoch:  5 | Loss: 0.172598 | Train accuracy: 0.787500 | Test accuracy: 0.737500\n"
     ]
    },
    {
     "name": "stderr",
     "output_type": "stream",
     "text": [
      "5it [00:25,  5.00s/it]\n",
      "0it [00:00, ?it/s]"
     ]
    },
    {
     "name": "stdout",
     "output_type": "stream",
     "text": [
      "Epoch:  6 | Loss: 0.171673 | Train accuracy: 0.787500 | Test accuracy: 0.737500\n"
     ]
    },
    {
     "name": "stderr",
     "output_type": "stream",
     "text": [
      "5it [00:23,  4.67s/it]\n",
      "0it [00:00, ?it/s]"
     ]
    },
    {
     "name": "stdout",
     "output_type": "stream",
     "text": [
      "Epoch:  7 | Loss: 0.170770 | Train accuracy: 0.793750 | Test accuracy: 0.762500\n"
     ]
    },
    {
     "name": "stderr",
     "output_type": "stream",
     "text": [
      "5it [00:21,  4.38s/it]\n",
      "0it [00:00, ?it/s]"
     ]
    },
    {
     "name": "stdout",
     "output_type": "stream",
     "text": [
      "Epoch:  8 | Loss: 0.169888 | Train accuracy: 0.793750 | Test accuracy: 0.762500\n"
     ]
    },
    {
     "name": "stderr",
     "output_type": "stream",
     "text": [
      "5it [00:24,  4.94s/it]\n",
      "0it [00:00, ?it/s]"
     ]
    },
    {
     "name": "stdout",
     "output_type": "stream",
     "text": [
      "Epoch:  9 | Loss: 0.169029 | Train accuracy: 0.793750 | Test accuracy: 0.762500\n"
     ]
    },
    {
     "name": "stderr",
     "output_type": "stream",
     "text": [
      "5it [00:24,  4.95s/it]\n",
      "0it [00:00, ?it/s]"
     ]
    },
    {
     "name": "stdout",
     "output_type": "stream",
     "text": [
      "Epoch: 10 | Loss: 0.168190 | Train accuracy: 0.793750 | Test accuracy: 0.762500\n"
     ]
    },
    {
     "name": "stderr",
     "output_type": "stream",
     "text": [
      "5it [00:25,  5.04s/it]\n",
      "0it [00:00, ?it/s]"
     ]
    },
    {
     "name": "stdout",
     "output_type": "stream",
     "text": [
      "Epoch: 11 | Loss: 0.167373 | Train accuracy: 0.787500 | Test accuracy: 0.762500\n"
     ]
    },
    {
     "name": "stderr",
     "output_type": "stream",
     "text": [
      "5it [00:24,  4.88s/it]\n",
      "0it [00:00, ?it/s]"
     ]
    },
    {
     "name": "stdout",
     "output_type": "stream",
     "text": [
      "Epoch: 12 | Loss: 0.166576 | Train accuracy: 0.787500 | Test accuracy: 0.762500\n"
     ]
    },
    {
     "name": "stderr",
     "output_type": "stream",
     "text": [
      "5it [00:23,  4.73s/it]\n",
      "0it [00:00, ?it/s]"
     ]
    },
    {
     "name": "stdout",
     "output_type": "stream",
     "text": [
      "Epoch: 13 | Loss: 0.165798 | Train accuracy: 0.790625 | Test accuracy: 0.762500\n"
     ]
    },
    {
     "name": "stderr",
     "output_type": "stream",
     "text": [
      "5it [00:22,  4.56s/it]\n",
      "0it [00:00, ?it/s]"
     ]
    },
    {
     "name": "stdout",
     "output_type": "stream",
     "text": [
      "Epoch: 14 | Loss: 0.165040 | Train accuracy: 0.790625 | Test accuracy: 0.762500\n"
     ]
    },
    {
     "name": "stderr",
     "output_type": "stream",
     "text": [
      "5it [00:25,  5.05s/it]\n",
      "0it [00:00, ?it/s]"
     ]
    },
    {
     "name": "stdout",
     "output_type": "stream",
     "text": [
      "Epoch: 15 | Loss: 0.164301 | Train accuracy: 0.790625 | Test accuracy: 0.762500\n"
     ]
    },
    {
     "name": "stderr",
     "output_type": "stream",
     "text": [
      "5it [00:25,  5.15s/it]\n",
      "0it [00:00, ?it/s]"
     ]
    },
    {
     "name": "stdout",
     "output_type": "stream",
     "text": [
      "Epoch: 16 | Loss: 0.163580 | Train accuracy: 0.790625 | Test accuracy: 0.762500\n"
     ]
    },
    {
     "name": "stderr",
     "output_type": "stream",
     "text": [
      "5it [00:24,  4.90s/it]\n",
      "0it [00:00, ?it/s]"
     ]
    },
    {
     "name": "stdout",
     "output_type": "stream",
     "text": [
      "Epoch: 17 | Loss: 0.162876 | Train accuracy: 0.790625 | Test accuracy: 0.762500\n"
     ]
    },
    {
     "name": "stderr",
     "output_type": "stream",
     "text": [
      "5it [00:25,  5.19s/it]\n",
      "0it [00:00, ?it/s]"
     ]
    },
    {
     "name": "stdout",
     "output_type": "stream",
     "text": [
      "Epoch: 18 | Loss: 0.162190 | Train accuracy: 0.790625 | Test accuracy: 0.762500\n"
     ]
    },
    {
     "name": "stderr",
     "output_type": "stream",
     "text": [
      "5it [00:20,  4.09s/it]\n",
      "0it [00:00, ?it/s]"
     ]
    },
    {
     "name": "stdout",
     "output_type": "stream",
     "text": [
      "Epoch: 19 | Loss: 0.161520 | Train accuracy: 0.790625 | Test accuracy: 0.762500\n"
     ]
    },
    {
     "name": "stderr",
     "output_type": "stream",
     "text": [
      "5it [00:26,  5.39s/it]\n"
     ]
    },
    {
     "name": "stdout",
     "output_type": "stream",
     "text": [
      "Epoch: 20 | Loss: 0.160867 | Train accuracy: 0.790625 | Test accuracy: 0.762500\n"
     ]
    }
   ],
   "source": [
    "# Generate training and test data\n",
    "X_data, y_data = labels(visibilities, mask)\n",
    "indices = []\n",
    "for i in range(0, len(X_data)):\n",
    "    indices.append(i)\n",
    "random.shuffle(indices)\n",
    "\n",
    "for i in range(0, len(X_data)):\n",
    "    X_data[i] = X_data[indices[i]]\n",
    "    y_data[i] = y_data[indices[i]]\n",
    "\n",
    "index = int(0.8*len(X_data))\n",
    "X_train, y_train = X_data[:index], y_data[:index]\n",
    "X_test, y_test = X_data[index:], y_data[index:]\n",
    "\n",
    "X_train = pnp.hstack((X_train, pnp.zeros((X_train.shape[0], 1), requires_grad=False)))\n",
    "X_test = pnp.hstack((X_test, pnp.zeros((X_test.shape[0], 1), requires_grad=False)))\n",
    "\n",
    "\n",
    "# Train using Adam optimizer and evaluate the classifier\n",
    "num_layers = 2\n",
    "learning_rate = 1e-3\n",
    "epochs = 20\n",
    "batch_size = 64\n",
    "\n",
    "opt = AdamOptimizer(learning_rate, beta1=0.9, beta2=0.999)\n",
    "\n",
    "# initialize random weights\n",
    "params = pnp.random.uniform(size=(num_layers, 3), requires_grad=True)\n",
    "\n",
    "predicted_train, fidel_train = test(params, X_train, y_train, state_labels)\n",
    "accuracy_train = accuracy_score(y_train, predicted_train)\n",
    "\n",
    "predicted_test, fidel_test = test(params, X_test, y_test, state_labels)\n",
    "accuracy_test = accuracy_score(y_test, predicted_test)\n",
    "\n",
    "# save predictions with random weights for comparison\n",
    "initial_predictions = predicted_test\n",
    "\n",
    "loss = cost(params, X_test, y_test, state_labels)\n",
    "\n",
    "print(\n",
    "    \"Epoch: {:2d} | Cost: {:3f} | Train accuracy: {:3f} | Test Accuracy: {:3f}\".format(\n",
    "        0, loss, accuracy_train, accuracy_test\n",
    "    )\n",
    ")\n",
    "\n",
    "for it in range(epochs):\n",
    "    for Xbatch, ybatch in tqdm(iterate_minibatches(X_train, y_train, batch_size=batch_size)):\n",
    "        params, _, _, _ = opt.step(cost, params, Xbatch, ybatch, state_labels)\n",
    "\n",
    "    predicted_train, fidel_train = test(params, X_train, y_train, state_labels)\n",
    "    accuracy_train = accuracy_score(y_train, predicted_train)\n",
    "    loss = cost(params, X_train, y_train, state_labels)\n",
    "\n",
    "    predicted_test, fidel_test = test(params, X_test, y_test, state_labels)\n",
    "    accuracy_test = accuracy_score(y_test, predicted_test)\n",
    "    res = [it + 1, loss, accuracy_train, accuracy_test]\n",
    "    print(\n",
    "        \"Epoch: {:2d} | Loss: {:3f} | Train accuracy: {:3f} | Test accuracy: {:3f}\".format(\n",
    "            *res\n",
    "        )\n",
    "    )"
   ]
  },
  {
   "cell_type": "markdown",
   "id": "33430798",
   "metadata": {},
   "source": [
    "### Results"
   ]
  },
  {
   "cell_type": "code",
   "execution_count": 10,
   "id": "97633f29",
   "metadata": {},
   "outputs": [
    {
     "name": "stdout",
     "output_type": "stream",
     "text": [
      "Cost: 0.160867 | Train accuracy 0.790625 | Test Accuracy : 0.762500\n",
      "Learned weights\n",
      "Layer 0: [0.51936576 0.13161656 0.170541  ]\n",
      "Layer 1: [0.22135465 0.89281752 0.26019894]\n"
     ]
    },
    {
     "data": {
      "image/png": "[encoded data removed]",
      "text/plain": [
       "<Figure size 1080x360 with 3 Axes>"
      ]
     },
     "metadata": {
      "needs_background": "light"
     },
     "output_type": "display_data"
    },
    {
     "name": "stdout",
     "output_type": "stream",
     "text": [
      "[ 0  0  0  0  0  0  0  0  0  0  0  0  0  0  0  0  0  0  0  0  0  0  0  0\n",
      "  0  0  0  0  0  0  0 -1  0  0  0  0  0  0  0  0  0  0  0  0  0  0  0  0\n",
      "  0  0  0  0  0  0  0  0 -1  0  0  0  0  0  0  0  0  0  0  0  0  0  0  0\n",
      "  0  0  0  0  0  0  0  0]\n"
     ]
    }
   ],
   "source": [
    "print(\n",
    "    \"Cost: {:3f} | Train accuracy {:3f} | Test Accuracy : {:3f}\".format(\n",
    "        loss, accuracy_train, accuracy_test\n",
    "    )\n",
    ")\n",
    "\n",
    "print(\"Learned weights\")\n",
    "for i in range(num_layers):\n",
    "    print(\"Layer {}: {}\".format(i, params[i]))\n",
    "\n",
    "fig, axs = plt.subplots(1, 3, figsize=(15,5))\n",
    "reds = initial_predictions == 0\n",
    "blues = initial_predictions == 1\n",
    "axs[0].scatter(X_test[reds, 0], X_test[reds, 1], c=\"red\", s=20, edgecolor=\"k\")\n",
    "axs[0].scatter(X_test[blues, 0], X_test[blues, 1], c=\"blue\", s=20, edgecolor=\"k\")\n",
    "reds = predicted_test == 0\n",
    "blues = predicted_test == 1\n",
    "axs[1].scatter(X_test[reds, 0], X_test[reds, 1], c=\"red\", s=20, edgecolor=\"k\")\n",
    "axs[1].scatter(X_test[blues, 0], X_test[blues, 1], c=\"blue\", s=20, edgecolor=\"k\")\n",
    "reds = y_test == 0\n",
    "blues = y_test == 1\n",
    "axs[2].scatter(X_test[reds, 0], X_test[reds, 1], c=\"red\", s=20, edgecolor=\"k\")\n",
    "axs[2].scatter(X_test[blues, 0], X_test[blues, 1], c=\"blue\", s=20, edgecolor=\"k\")\n",
    "\n",
    "axs[0].set_title(\"Predictions with random weights\")\n",
    "axs[1].set_title(\"Predictions after training\")\n",
    "axs[2].set_title(\"True test data\")\n",
    "\n",
    "for ax in axs.flat:\n",
    "    ax.set(xlabel='Re', ylabel='Img')\n",
    "\n",
    "plt.tight_layout()\n",
    "plt.show()\n",
    "\n",
    "print(predicted_test - initial_predictions)"
   ]
  },
  {
   "cell_type": "code",
   "execution_count": null,
   "id": "1a90f8fb",
   "metadata": {},
   "outputs": [],
   "source": []
  }
 ],
 "metadata": {
  "kernelspec": {
   "display_name": "Python 3",
   "language": "python",
   "name": "python3"
  },
  "language_info": {
   "codemirror_mode": {
    "name": "ipython",
    "version": 3
   },
   "file_extension": ".py",
   "mimetype": "text/x-python",
   "name": "python",
   "nbconvert_exporter": "python",
   "pygments_lexer": "ipython3",
   "version": "3.8.8"
  }
 },
 "nbformat": 4,
 "nbformat_minor": 5
}
