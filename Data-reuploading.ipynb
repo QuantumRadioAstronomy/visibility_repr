{
 "cells": [
  {
   "cell_type": "markdown",
   "id": "b080fbe7",
   "metadata": {},
   "source": [
    "# Data-reuploading (simulator)\n",
    "\n",
    "Main steps:\n",
    "\n",
    "* initialize an image of the sky (frequency domain)\n",
    "* apply 2D FT --> visibilities (Fourier domain)\n",
    "* encode visibilities data onto a single qubit using data-reuploading for the source-finding problem (non-conventional domain)\n",
    "* training + testing phases\n",
    "\n",
    "Data-reuploading:\n",
    "\n",
    "* [paper](https://arxiv.org/abs/1907.02085)\n",
    "* [PennyLane documentation](https://pennylane.ai/qml/demos/tutorial_data_reuploading_classifier.html)\n",
    "* [tutorial](https://github.com/NLESC-quantum/quantum_comp/blob/main/pulsar_search/ml/reupload/tutorial_data_reuploading_classifier.ipynb)"
   ]
  },
  {
   "cell_type": "code",
   "execution_count": 1,
   "id": "486618fa",
   "metadata": {},
   "outputs": [],
   "source": [
    "import numpy as np\n",
    "import matplotlib.pyplot as plt\n",
    "import random\n",
    "from tqdm import tqdm\n",
    "\n",
    "import pennylane as qml\n",
    "from pennylane import numpy as pnp\n",
    "from pennylane.optimize import AdamOptimizer, GradientDescentOptimizer"
   ]
  },
  {
   "cell_type": "markdown",
   "id": "411d56a3",
   "metadata": {},
   "source": [
    "## 1) Generating an artificial image of the sky (frequency domain)"
   ]
  },
  {
   "cell_type": "code",
   "execution_count": 2,
   "id": "c166b680",
   "metadata": {},
   "outputs": [
    {
     "name": "stdout",
     "output_type": "stream",
     "text": [
      "[[ 1.17908511e-03+1.9842575e-03j -2.38590152e-03-3.2841151e-03j\n",
      "   2.91776669e-04+3.6827378e-02j -3.75027745e-03-3.8390656e-03j\n",
      "   4.10104913e-05+9.2715528e-03j -2.67230021e-03+1.4001465e-02j\n",
      "  -7.10515538e-03-2.1613729e-03j  4.24113218e-03+1.1798178e-02j\n",
      "  -2.46255612e-03+7.6721599e-03j -1.77612156e-03-1.3476885e-02j]\n",
      " [ 2.08000131e-02-2.1519988e-04j  4.30447769e+00+7.9142921e+01j\n",
      "   7.10928802e+01+3.1332308e+01j  5.15289154e+01+4.6007206e+01j\n",
      "   4.85529671e+01+4.2693806e+01j  4.16689692e-03+1.8239170e-02j\n",
      "   5.89660378e+01+5.3789173e+01j  3.99856472e+00+5.7299446e+01j\n",
      "  -4.14212048e-03+4.7916113e-03j  1.49532761e-02-1.3054410e-03j]\n",
      " [ 1.48887634e-02+4.8401755e-05j  9.88164215e+01+9.4320259e+01j\n",
      "   1.50321255e+01+3.2453487e+01j  2.67924023e+01+7.0609398e+01j\n",
      "   6.15927887e+01+6.7365257e+01j -6.89893030e-03-1.2000210e-02j\n",
      "   7.45345001e+01+3.9218445e+01j  9.38759613e+01+8.9221252e+01j\n",
      "  -2.06324403e-04-7.1922671e-03j -8.49158689e-03-5.7907235e-03j]\n",
      " [ 9.85857620e+01+9.1843681e+01j  6.81872559e+01+9.7415642e+01j\n",
      "  -1.74979568e-02-2.2191810e-03j  4.46165539e-03-3.5433911e-03j\n",
      "  -1.74216647e-02+1.2953809e-03j  5.25525026e-03+6.5123988e-03j\n",
      "  -8.73395801e-03-5.0369292e-03j -7.57472264e-03-1.4582001e-02j\n",
      "  -4.52196691e-03+3.9532552e-03j -1.91579554e-02+5.8840518e-03j]\n",
      " [ 7.34904327e+01+4.2192207e+01j  9.98063889e+01+1.5684547e+01j\n",
      "   1.21503379e-02-4.7719101e-03j  3.08216251e-02+2.4539437e-03j\n",
      "  -8.37908499e-03+7.7206590e-03j  2.36202570e-04+1.6626937e-02j\n",
      "  -6.66527404e-03+7.4681343e-04j  2.21419465e-02+1.2598820e-02j\n",
      "  -1.63177564e-03-1.3138763e-02j -3.09262704e-03+8.3951261e-03j]\n",
      " [-7.77703198e-03+1.9062483e-03j  1.35324029e-02+3.4019717e-03j\n",
      "  -6.31481968e-03-4.2496664e-03j -3.34837288e-03-2.3094630e-02j\n",
      "   2.69014492e+01+1.4179032e+01j  4.79358521e+01+1.9960806e+01j\n",
      "  -2.19116220e-04-4.1366112e-03j -2.35502166e-03+1.2059186e-02j\n",
      "   2.35907850e-03+9.5926663e-03j -1.28237838e-02-1.1484671e-03j]\n",
      " [ 6.20217342e-03+9.8312451e-03j -1.19062117e-03+1.7516760e-02j\n",
      "  -2.73095770e-03+2.8648314e-03j  4.22745590e+01+1.2075807e+01j\n",
      "   6.08478050e+01+9.0668190e+01j  2.53188210e+01+7.4257118e+01j\n",
      "  -2.83243740e-03+1.8601045e-02j -2.24726927e-02+2.1955236e-03j\n",
      "   2.67203692e-02+1.2088312e-02j  8.47568084e-03-1.0019109e-02j]\n",
      " [ 1.01774826e+01+3.4421028e+01j  9.96901321e+01+9.8435097e+01j\n",
      "   8.33408814e-03+8.4425852e-04j  1.43487682e+01+1.1254964e+01j\n",
      "   1.02685223e+01+4.0611679e+01j  7.01366043e+01+7.8800758e+01j\n",
      "   6.76195929e-03-1.0731753e-02j  1.89801306e-02-9.0608345e-03j\n",
      "  -1.05821695e-02+4.6285361e-04j  3.74471024e-03-6.3814446e-03j]\n",
      " [ 3.19931946e+01+7.8833290e+01j  4.21354294e+01+3.3630691e+00j\n",
      "   1.77537035e-02+7.1186563e-03j -9.37304273e-03+9.6616950e-03j\n",
      "  -6.33535068e-03-3.8980873e-04j -3.49744136e-04+4.6353471e-03j\n",
      "  -1.97496520e-05+1.2148992e-02j  5.09784743e-03-2.5712030e-03j\n",
      "  -1.06321322e-02-1.1653753e-02j -1.35891316e-02+5.0771749e-03j]\n",
      " [ 6.65656338e-03-3.8908306e-03j -3.99556430e-03-1.3670292e-02j\n",
      "  -3.06346221e-03-1.4672467e-02j -1.10405209e-02-1.0705194e-02j\n",
      "  -5.96692367e-03+1.0237179e-03j -1.38126519e-02-4.4392473e-03j\n",
      "   4.58626263e-03+1.4400892e-03j  9.99415945e-03-1.0602126e-02j\n",
      "   6.18071482e-03-5.7125260e-04j -8.69176874e-04-1.0031102e-02j]]\n"
     ]
    }
   ],
   "source": [
    "#image of the sky filled with double precision complex floats ('complex64')\n",
    "#pixels are set to low complex random values (image background/noise) \n",
    "#few pixels are set to larger complex random values in a specified ellipse area (image source/subject)\n",
    "n = 10 #20\n",
    "sky_image = np.zeros((n, n), dtype='complex64')\n",
    "mask = np.zeros((n, n), dtype='bool')\n",
    "number_of_stars = np.random.randint(3, 11)\n",
    "radius = np.random.randint(1, 3)\n",
    "\n",
    "for i in range(0, number_of_stars):\n",
    "    index_i = np.random.randint(0, sky_image.shape[0]-radius)\n",
    "    index_j = np.random.randint(0, sky_image.shape[1]-radius)\n",
    "    for j in range(0, radius):\n",
    "        for k in range(0, radius):\n",
    "            sky_image[index_i+j][index_j+k] = complex(np.random.rand()*100, np.random.rand()*100)\n",
    "            mask[index_i+j][index_j+k] = True\n",
    "            \n",
    "sky_image.real += np.random.randn(n,n)/100\n",
    "sky_image.imag += np.random.randn(n,n)/100\n",
    "\n",
    "print(sky_image)"
   ]
  },
  {
   "cell_type": "code",
   "execution_count": 3,
   "id": "b49ff65a",
   "metadata": {},
   "outputs": [
    {
     "data": {
      "image/png": "[encoded data removed]",
      "text/plain": [
       "<Figure size 432x288 with 2 Axes>"
      ]
     },
     "metadata": {
      "needs_background": "light"
     },
     "output_type": "display_data"
    }
   ],
   "source": [
    "modulus = np.absolute(sky_image)\n",
    "plt.imshow(modulus, cmap='Blues')\n",
    "plt.colorbar();"
   ]
  },
  {
   "cell_type": "markdown",
   "id": "02146dab",
   "metadata": {},
   "source": [
    "## 2) Applying a 2D FT (Fourier domain)"
   ]
  },
  {
   "cell_type": "code",
   "execution_count": 4,
   "id": "b1bfe4f7",
   "metadata": {},
   "outputs": [
    {
     "name": "stdout",
     "output_type": "stream",
     "text": [
      "[[ 1.43118127e+03+1507.5085j    4.61473145e+02 -366.14252j\n",
      "   5.88963013e+02  +14.082269j  6.57906555e+02 -149.2934j\n",
      "  -8.83777008e+01 -219.7518j   -1.47110031e+02 -188.17102j\n",
      "  -2.19991043e+02  +84.628746j -3.22752228e+02 +633.40094j\n",
      "   7.65545959e+01 +715.34283j  -2.94959320e+02 +441.39404j ]\n",
      " [ 2.34112381e+02 -378.69736j   7.19406986e+00  -56.98009j\n",
      "  -5.83141296e+02 -533.32684j   1.40709442e+02  +11.182268j\n",
      "  -2.70856781e+02  +27.890572j  6.31073532e+01 -226.30411j\n",
      "  -3.65365631e+02  -46.731647j  3.62041901e+02 -250.57918j\n",
      "  -4.51742279e+02  +88.491j     7.68023834e+01  -91.66323j ]\n",
      " [ 2.16395874e+02 -928.9374j   -8.86283997e+02  +77.34463j\n",
      "  -3.38476624e+02 +312.3326j   -3.05144836e+02  -92.71022j\n",
      "  -1.54954849e+02 +309.4055j   -7.16358795e+01 +131.93721j\n",
      "  -1.15503822e+02  +14.714549j -2.92671261e+01 -130.78899j\n",
      "  -8.46076889e+01 -199.42894j  -3.44284424e+02 +383.64734j ]\n",
      " [-7.19246292e+01 -193.1565j    3.03376373e+02  -63.40107j\n",
      "   5.11986427e+01  +93.490746j  1.31523727e+02  -33.926785j\n",
      "   1.73189972e+02 -118.869316j -5.27558022e+01  -46.32417j\n",
      "   1.58164581e+02 +231.87766j  -1.13752716e+02  -51.733738j\n",
      "   3.38838409e+02 +308.06903j   4.57287018e+02  +20.802937j]\n",
      " [-2.23968567e+02  +84.24732j   4.94038963e+01 +247.59117j\n",
      "   4.67151520e+02  +31.286716j  1.75440689e+02  -99.861824j\n",
      "   2.19546036e+02  -74.10319j   8.28658981e+01 -356.8058j\n",
      "   8.68309631e+01 -111.42957j  -1.75978119e+02  -64.78075j\n",
      "  -1.62299976e+01  +39.796906j  2.23007019e+02 -116.60084j ]\n",
      " [ 6.18908081e+01  -86.700745j  7.10685611e-01  -83.15053j\n",
      "  -3.09270660e+02 -175.9031j    1.25884155e+02  -40.245434j\n",
      "  -3.28786804e+02  +83.13105j  -7.58777390e+01 +170.63715j\n",
      "  -3.58757401e+01  +80.61231j   2.84226990e+02 +298.1982j\n",
      "   1.31862610e+02  -49.772728j  1.12465416e+02 -249.05766j ]\n",
      " [ 3.79936600e+00 -324.3659j   -1.19660721e+02 +302.96127j\n",
      "  -2.20274933e+02  -54.11057j  -3.34114929e+02  -76.41657j\n",
      "  -4.95832748e+01 +230.61386j  -3.94568207e+02 +285.79163j\n",
      "  -6.47248001e+01 +191.60107j   3.12663765e+01 +208.8001j\n",
      "   1.28874847e+02 +121.155945j -1.88845169e+02 +119.50557j ]\n",
      " [-1.57366959e+02  +41.871876j  2.76110016e+02 +177.29279j\n",
      "   2.78477325e+02 +479.74075j  -3.47090340e+01 -347.1593j\n",
      "   2.67780334e+02  +25.671007j -8.79614944e+01  -17.670008j\n",
      "  -4.95728226e+01 +137.15685j  -1.31766418e+02 -152.28773j\n",
      "   2.57022400e+01 +175.9323j   -6.56705475e+01 +360.92828j ]\n",
      " [-1.05337817e+03 -167.48781j   1.88155716e+02 -498.0413j\n",
      "  -2.83370728e+02  -54.169136j -3.24549805e+02 +212.02293j\n",
      "   1.62222046e+02 -124.485405j  4.25232849e+02  +98.64054j\n",
      "   4.86216766e+02 -215.8797j    2.30921280e+02 -596.6399j\n",
      "   2.43870422e+02 -683.10004j   2.14986938e+02 -906.05725j ]\n",
      " [-4.40885376e+02 +446.30585j  -2.80169769e+02 +262.33667j\n",
      "   3.48959229e+02 -113.70719j  -2.32768631e+02 +615.9734j\n",
      "   6.94584045e+01 -138.95442j   2.58685913e+02 +148.7525j\n",
      "   1.20325523e+02 -366.298j    -1.35015106e+02 +106.16194j\n",
      "  -3.93410645e+02 -516.79126j  -1.90991226e+02  +36.889008j]]\n"
     ]
    }
   ],
   "source": [
    "visibilities = np.fft.fft2(sky_image).astype('complex64')\n",
    "print(visibilities)"
   ]
  },
  {
   "cell_type": "code",
   "execution_count": 5,
   "id": "89293e90",
   "metadata": {},
   "outputs": [
    {
     "data": {
      "image/png": "[encoded data removed]",
      "text/plain": [
       "<Figure size 432x288 with 2 Axes>"
      ]
     },
     "metadata": {
      "needs_background": "light"
     },
     "output_type": "display_data"
    }
   ],
   "source": [
    "modulus = np.absolute(visibilities)\n",
    "plt.imshow(modulus, cmap='Blues')\n",
    "plt.colorbar();"
   ]
  },
  {
   "cell_type": "markdown",
   "id": "6430946f",
   "metadata": {},
   "source": [
    "## 3) Source-finding classification"
   ]
  },
  {
   "cell_type": "markdown",
   "id": "dadf682b",
   "metadata": {},
   "source": [
    "### Training labels"
   ]
  },
  {
   "cell_type": "code",
   "execution_count": 6,
   "id": "cf1fc3e0",
   "metadata": {},
   "outputs": [
    {
     "data": {
      "image/png": "[encoded data removed]",
      "text/plain": [
       "<Figure size 432x288 with 1 Axes>"
      ]
     },
     "metadata": {
      "needs_background": "light"
     },
     "output_type": "display_data"
    },
    {
     "data": {
      "image/png": "[encoded data removed]",
      "text/plain": [
       "<Figure size 432x288 with 1 Axes>"
      ]
     },
     "metadata": {
      "needs_background": "light"
     },
     "output_type": "display_data"
    },
    {
     "data": {
      "image/png": "[encoded data removed]",
      "text/plain": [
       "<Figure size 432x288 with 1 Axes>"
      ]
     },
     "metadata": {
      "needs_background": "light"
     },
     "output_type": "display_data"
    }
   ],
   "source": [
    "def labels(data, mask):\n",
    "    \n",
    "    Xvals, yvals = [], []\n",
    "    \n",
    "    for i in range(mask.shape[0]):\n",
    "        for j in range(mask.shape[1]):\n",
    "            if mask[i][j] == True:\n",
    "                label = 1\n",
    "            else:\n",
    "                label = 0\n",
    "        \n",
    "            yvals.append(label)\n",
    "            Xvals.append((data[i][j].real, data[i][j].imag))\n",
    "        \n",
    "    return pnp.array(Xvals, requires_grad=False), pnp.array(yvals, requires_grad=False)\n",
    "\n",
    "\n",
    "def plot_data(x, y, ax=None):\n",
    "    \n",
    "    reds = y == 0\n",
    "    blues = y == 1\n",
    "    plt.scatter(x[reds, 0], x[reds, 1], c=\"red\", s=20, edgecolor=\"k\")\n",
    "    plt.gca().set_xlabel(\"Re\")\n",
    "    plt.gca().set_ylabel(\"Img\")\n",
    "    plt.title('Noise')\n",
    "    plt.show()\n",
    "    \n",
    "    plt.scatter(x[blues, 0], x[blues, 1], c=\"blue\", s=20, edgecolor=\"k\")\n",
    "    plt.gca().set_xlabel(\"Re\")\n",
    "    plt.gca().set_ylabel(\"Img\")\n",
    "    plt.title('Source')\n",
    "    plt.show()\n",
    "    \n",
    "    plt.scatter(x[reds, 0], x[reds, 1], c=\"red\", s=20, edgecolor=\"k\")\n",
    "    plt.scatter(x[blues, 0], x[blues, 1], c=\"blue\", s=20, edgecolor=\"k\")\n",
    "    plt.gca().set_xlabel(\"Re\")\n",
    "    plt.gca().set_ylabel(\"Img\")\n",
    "    plt.title('Noise and Source')\n",
    "    plt.show()\n",
    "    \n",
    "Xdata, ydata = labels(visibilities, mask)\n",
    "plot_data(Xdata, ydata)\n",
    "\n",
    "\n",
    "# Define output labels as quantum state vectors\n",
    "def density_matrix(state):\n",
    "    \n",
    "    return state * pnp.conj(state).T\n",
    "\n",
    "\n",
    "label_0 = [[1], [0]]\n",
    "label_1 = [[0], [1]]\n",
    "state_labels = pnp.array([label_0, label_1], requires_grad=False)"
   ]
  },
  {
   "cell_type": "markdown",
   "id": "93ae5c8d",
   "metadata": {},
   "source": [
    "### Simple classifier with data reloading and fidelity loss"
   ]
  },
  {
   "cell_type": "code",
   "execution_count": 7,
   "id": "bdd700ee",
   "metadata": {},
   "outputs": [],
   "source": [
    "dev = qml.device(\"lightning.qubit\", wires=1)\n",
    "# Install any pennylane-plugin to run on some particular backend\n",
    "# https://docs.pennylane.ai/projects/qiskit/en/latest/\n",
    "# https://docs.pennylane.ai/en/stable/introduction/interfaces.html\n",
    "\n",
    "\n",
    "@qml.qnode(dev)\n",
    "def qcircuit(params, x, y):\n",
    "    \"\"\"A variational quantum circuit representing the Universal classifier.\n",
    "\n",
    "    Args:\n",
    "        params (array[float]): array of parameters\n",
    "        x (array[float]): single input vector\n",
    "        y (array[float]): single output state density matrix\n",
    "\n",
    "    Returns:\n",
    "        float: fidelity between output state and input\n",
    "    \"\"\"\n",
    "    for p in params:\n",
    "        qml.Rot(*x, wires=0)\n",
    "        qml.Rot(*p, wires=0)\n",
    "    return qml.expval(qml.Hermitian(y, wires=[0]))\n",
    "\n",
    "\n",
    "def cost(params, x, y, state_labels=None):\n",
    "    \"\"\"Cost function to be minimized.\n",
    "\n",
    "    Args:\n",
    "        params (array[float]): array of parameters\n",
    "        x (array[float]): 2-d array of input vectors\n",
    "        y (array[float]): 1-d array of targets\n",
    "        state_labels (array[float]): array of state representations for labels\n",
    "\n",
    "    Returns:\n",
    "        float: loss value to be minimized\n",
    "    \"\"\"\n",
    "    # Compute prediction for each input in data batch\n",
    "    loss = 0.0\n",
    "    dm_labels = [density_matrix(s) for s in state_labels]\n",
    "    for i in range(len(x)):\n",
    "        f = qcircuit(params, x[i], dm_labels[y[i]])\n",
    "        loss = loss + (1 - f) ** 2\n",
    "    return loss / len(x)"
   ]
  },
  {
   "cell_type": "markdown",
   "id": "0193c4c5",
   "metadata": {},
   "source": [
    "### Utility functions for testing and creating batches"
   ]
  },
  {
   "cell_type": "code",
   "execution_count": 8,
   "id": "0cc01f42",
   "metadata": {},
   "outputs": [],
   "source": [
    "def test(params, x, y, state_labels=None):\n",
    "    \"\"\"\n",
    "    Tests on a given set of data.\n",
    "\n",
    "    Args:\n",
    "        params (array[float]): array of parameters\n",
    "        x (array[float]): 2-d array of input vectors\n",
    "        y (array[float]): 1-d array of targets\n",
    "        state_labels (array[float]): 1-d array of state representations for labels\n",
    "\n",
    "    Returns:\n",
    "        predicted (array([int]): predicted labels for test data\n",
    "        output_states (array[float]): output quantum states from the circuit\n",
    "    \"\"\"\n",
    "    fidelity_values = []\n",
    "    dm_labels = [density_matrix(s) for s in state_labels]\n",
    "    predicted = []\n",
    "\n",
    "    for i in range(len(x)):\n",
    "        fidel_function = lambda y: qcircuit(params, x[i], y)\n",
    "        fidelities = [fidel_function(dm) for dm in dm_labels]\n",
    "        best_fidel = np.argmax(fidelities)\n",
    "\n",
    "        predicted.append(best_fidel)\n",
    "        fidelity_values.append(fidelities)\n",
    "\n",
    "    return pnp.array(predicted), pnp.array(fidelity_values)\n",
    "\n",
    "\n",
    "def accuracy_score(y_true, y_pred):\n",
    "    \"\"\"Accuracy score.\n",
    "\n",
    "    Args:\n",
    "        y_true (array[float]): 1-d array of targets\n",
    "        y_predicted (array[float]): 1-d array of predictions\n",
    "        state_labels (array[float]): 1-d array of state representations for labels\n",
    "\n",
    "    Returns:\n",
    "        score (float): the fraction of correctly classified samples\n",
    "    \"\"\"\n",
    "    score = y_true == y_pred\n",
    "    return score.sum() / len(y_true)\n",
    "\n",
    "\n",
    "def iterate_minibatches(inputs, targets, batch_size):\n",
    "    \"\"\"\n",
    "    A generator for batches of the input data\n",
    "\n",
    "    Args:\n",
    "        inputs (array[float]): input data\n",
    "        targets (array[float]): targets\n",
    "\n",
    "    Returns:\n",
    "        inputs (array[float]): one batch of input data of length `batch_size`\n",
    "        targets (array[float]): one batch of targets of length `batch_size`\n",
    "    \"\"\"\n",
    "    for start_idx in range(0, inputs.shape[0] - batch_size + 1, batch_size):\n",
    "        idxs = slice(start_idx, start_idx + batch_size)\n",
    "        yield inputs[idxs], targets[idxs]"
   ]
  },
  {
   "cell_type": "markdown",
   "id": "62bb8482",
   "metadata": {},
   "source": [
    "### Train a quantum classifier on the visibilities"
   ]
  },
  {
   "cell_type": "code",
   "execution_count": 9,
   "id": "b0fed5a7",
   "metadata": {},
   "outputs": [
    {
     "name": "stderr",
     "output_type": "stream",
     "text": [
      "\r",
      "0it [00:00, ?it/s]"
     ]
    },
    {
     "name": "stdout",
     "output_type": "stream",
     "text": [
      "Epoch:  0 | Cost: 0.308496 | Train accuracy: 0.550000 | Test Accuracy: 0.550000\n"
     ]
    },
    {
     "name": "stderr",
     "output_type": "stream",
     "text": [
      "2it [00:07,  3.79s/it]\n",
      "0it [00:00, ?it/s]"
     ]
    },
    {
     "name": "stdout",
     "output_type": "stream",
     "text": [
      "Epoch:  1 | Loss: 0.282363 | Train accuracy: 0.587500 | Test accuracy: 0.550000\n"
     ]
    },
    {
     "name": "stderr",
     "output_type": "stream",
     "text": [
      "2it [00:09,  4.69s/it]\n",
      "0it [00:00, ?it/s]"
     ]
    },
    {
     "name": "stdout",
     "output_type": "stream",
     "text": [
      "Epoch:  2 | Loss: 0.184614 | Train accuracy: 0.687500 | Test accuracy: 0.700000\n"
     ]
    },
    {
     "name": "stderr",
     "output_type": "stream",
     "text": [
      "2it [00:09,  4.67s/it]\n",
      "0it [00:00, ?it/s]"
     ]
    },
    {
     "name": "stdout",
     "output_type": "stream",
     "text": [
      "Epoch:  3 | Loss: 0.209300 | Train accuracy: 0.687500 | Test accuracy: 0.750000\n"
     ]
    },
    {
     "name": "stderr",
     "output_type": "stream",
     "text": [
      "2it [00:08,  4.24s/it]\n",
      "0it [00:00, ?it/s]"
     ]
    },
    {
     "name": "stdout",
     "output_type": "stream",
     "text": [
      "Epoch:  4 | Loss: 0.206739 | Train accuracy: 0.750000 | Test accuracy: 0.750000\n"
     ]
    },
    {
     "name": "stderr",
     "output_type": "stream",
     "text": [
      "2it [00:09,  4.68s/it]\n",
      "0it [00:00, ?it/s]"
     ]
    },
    {
     "name": "stdout",
     "output_type": "stream",
     "text": [
      "Epoch:  5 | Loss: 0.211563 | Train accuracy: 0.675000 | Test accuracy: 0.700000\n"
     ]
    },
    {
     "name": "stderr",
     "output_type": "stream",
     "text": [
      "2it [00:09,  4.70s/it]\n",
      "0it [00:00, ?it/s]"
     ]
    },
    {
     "name": "stdout",
     "output_type": "stream",
     "text": [
      "Epoch:  6 | Loss: 0.188643 | Train accuracy: 0.775000 | Test accuracy: 0.750000\n"
     ]
    },
    {
     "name": "stderr",
     "output_type": "stream",
     "text": [
      "2it [00:09,  4.69s/it]\n",
      "0it [00:00, ?it/s]"
     ]
    },
    {
     "name": "stdout",
     "output_type": "stream",
     "text": [
      "Epoch:  7 | Loss: 0.179596 | Train accuracy: 0.737500 | Test accuracy: 0.850000\n"
     ]
    },
    {
     "name": "stderr",
     "output_type": "stream",
     "text": [
      "2it [00:09,  4.72s/it]\n",
      "0it [00:00, ?it/s]"
     ]
    },
    {
     "name": "stdout",
     "output_type": "stream",
     "text": [
      "Epoch:  8 | Loss: 0.176775 | Train accuracy: 0.725000 | Test accuracy: 0.700000\n"
     ]
    },
    {
     "name": "stderr",
     "output_type": "stream",
     "text": [
      "2it [00:09,  4.72s/it]\n",
      "0it [00:00, ?it/s]"
     ]
    },
    {
     "name": "stdout",
     "output_type": "stream",
     "text": [
      "Epoch:  9 | Loss: 0.171243 | Train accuracy: 0.787500 | Test accuracy: 0.750000\n"
     ]
    },
    {
     "name": "stderr",
     "output_type": "stream",
     "text": [
      "2it [00:09,  4.67s/it]\n"
     ]
    },
    {
     "name": "stdout",
     "output_type": "stream",
     "text": [
      "Epoch: 10 | Loss: 0.175968 | Train accuracy: 0.737500 | Test accuracy: 0.700000\n"
     ]
    }
   ],
   "source": [
    "# Generate training and test data\n",
    "X_data, y_data = labels(visibilities, mask)\n",
    "indices = []\n",
    "for i in range(0, len(X_data)):\n",
    "    indices.append(i)\n",
    "random.shuffle(indices)\n",
    "\n",
    "for i in range(0, len(X_data)):\n",
    "    X_data[i] = X_data[indices[i]]\n",
    "    y_data[i] = y_data[indices[i]]\n",
    "\n",
    "index = int(0.8*len(X_data))\n",
    "X_train, y_train = X_data[:index], y_data[:index]\n",
    "X_test, y_test = X_data[index:], y_data[index:]\n",
    "\n",
    "X_train = pnp.hstack((X_train, pnp.zeros((X_train.shape[0], 1), requires_grad=False)))\n",
    "X_test = pnp.hstack((X_test, pnp.zeros((X_test.shape[0], 1), requires_grad=False)))\n",
    "\n",
    "\n",
    "# Train using Adam optimizer and evaluate the classifier\n",
    "num_layers = 3 #2\n",
    "learning_rate = 0.6 #1e-3\n",
    "epochs = 10 #25\n",
    "batch_size = 32 #64\n",
    "\n",
    "opt = AdamOptimizer(learning_rate, beta1=0.9, beta2=0.999)\n",
    "\n",
    "# initialize random weights\n",
    "params = pnp.random.uniform(size=(num_layers, 3), requires_grad=True)\n",
    "\n",
    "predicted_train, fidel_train = test(params, X_train, y_train, state_labels)\n",
    "accuracy_train = accuracy_score(y_train, predicted_train)\n",
    "\n",
    "predicted_test, fidel_test = test(params, X_test, y_test, state_labels)\n",
    "accuracy_test = accuracy_score(y_test, predicted_test)\n",
    "\n",
    "# save predictions with random weights for comparison\n",
    "initial_predictions = predicted_test\n",
    "\n",
    "loss = cost(params, X_test, y_test, state_labels)\n",
    "\n",
    "print(\n",
    "    \"Epoch: {:2d} | Cost: {:3f} | Train accuracy: {:3f} | Test Accuracy: {:3f}\".format(\n",
    "        0, loss, accuracy_train, accuracy_test\n",
    "    )\n",
    ")\n",
    "\n",
    "for it in range(epochs):\n",
    "    for Xbatch, ybatch in tqdm(iterate_minibatches(X_train, y_train, batch_size=batch_size)):\n",
    "        params, _, _, _ = opt.step(cost, params, Xbatch, ybatch, state_labels)\n",
    "\n",
    "    predicted_train, fidel_train = test(params, X_train, y_train, state_labels)\n",
    "    accuracy_train = accuracy_score(y_train, predicted_train)\n",
    "    loss = cost(params, X_train, y_train, state_labels)\n",
    "\n",
    "    predicted_test, fidel_test = test(params, X_test, y_test, state_labels)\n",
    "    accuracy_test = accuracy_score(y_test, predicted_test)\n",
    "    res = [it + 1, loss, accuracy_train, accuracy_test]\n",
    "    print(\n",
    "        \"Epoch: {:2d} | Loss: {:3f} | Train accuracy: {:3f} | Test accuracy: {:3f}\".format(\n",
    "            *res\n",
    "        )\n",
    "    )"
   ]
  },
  {
   "cell_type": "markdown",
   "id": "33430798",
   "metadata": {},
   "source": [
    "### Results"
   ]
  },
  {
   "cell_type": "code",
   "execution_count": 10,
   "id": "97633f29",
   "metadata": {},
   "outputs": [
    {
     "name": "stdout",
     "output_type": "stream",
     "text": [
      "Cost: 0.175968 | Train accuracy 0.737500 | Test Accuracy : 0.700000\n",
      "Learned weights\n",
      "Layer 0: [ 3.49108757 -1.53866215  0.77942975]\n",
      "Layer 1: [ 3.46174209e+00 -8.68232873e-04 -2.34385941e+00]\n",
      "Layer 2: [ 0.08941187 -0.32248852  0.66859347]\n"
     ]
    },
    {
     "data": {
      "image/png": "[encoded data removed]",
      "text/plain": [
       "<Figure size 1080x360 with 3 Axes>"
      ]
     },
     "metadata": {
      "needs_background": "light"
     },
     "output_type": "display_data"
    },
    {
     "name": "stdout",
     "output_type": "stream",
     "text": [
      "[-1  1  1  1  1 -1  0  0  0 -1  0 -1  1  0  0  0  1  1  0  0]\n"
     ]
    }
   ],
   "source": [
    "print(\n",
    "    \"Cost: {:3f} | Train accuracy {:3f} | Test Accuracy : {:3f}\".format(\n",
    "        loss, accuracy_train, accuracy_test\n",
    "    )\n",
    ")\n",
    "\n",
    "print(\"Learned weights\")\n",
    "for i in range(num_layers):\n",
    "    print(\"Layer {}: {}\".format(i, params[i]))\n",
    "\n",
    "fig, axs = plt.subplots(1, 3, figsize=(15,5))\n",
    "reds = initial_predictions == 0\n",
    "blues = initial_predictions == 1\n",
    "axs[0].scatter(X_test[reds, 0], X_test[reds, 1], c=\"red\", s=20, edgecolor=\"k\")\n",
    "axs[0].scatter(X_test[blues, 0], X_test[blues, 1], c=\"blue\", s=20, edgecolor=\"k\")\n",
    "reds = predicted_test == 0\n",
    "blues = predicted_test == 1\n",
    "axs[1].scatter(X_test[reds, 0], X_test[reds, 1], c=\"red\", s=20, edgecolor=\"k\")\n",
    "axs[1].scatter(X_test[blues, 0], X_test[blues, 1], c=\"blue\", s=20, edgecolor=\"k\")\n",
    "reds = y_test == 0\n",
    "blues = y_test == 1\n",
    "axs[2].scatter(X_test[reds, 0], X_test[reds, 1], c=\"red\", s=20, edgecolor=\"k\")\n",
    "axs[2].scatter(X_test[blues, 0], X_test[blues, 1], c=\"blue\", s=20, edgecolor=\"k\")\n",
    "\n",
    "axs[0].set_title(\"Predictions with random weights\")\n",
    "axs[1].set_title(\"Predictions after training\")\n",
    "axs[2].set_title(\"True test data\")\n",
    "\n",
    "for ax in axs.flat:\n",
    "    ax.set(xlabel='Re', ylabel='Img')\n",
    "\n",
    "plt.tight_layout()\n",
    "plt.show()\n",
    "\n",
    "print(predicted_test - initial_predictions)"
   ]
  },
  {
   "cell_type": "code",
   "execution_count": null,
   "id": "1a90f8fb",
   "metadata": {},
   "outputs": [],
   "source": []
  }
 ],
 "metadata": {
  "kernelspec": {
   "display_name": "Python 3",
   "language": "python",
   "name": "python3"
  },
  "language_info": {
   "codemirror_mode": {
    "name": "ipython",
    "version": 3
   },
   "file_extension": ".py",
   "mimetype": "text/x-python",
   "name": "python",
   "nbconvert_exporter": "python",
   "pygments_lexer": "ipython3",
   "version": "3.8.8"
  }
 },
 "nbformat": 4,
 "nbformat_minor": 5
}
