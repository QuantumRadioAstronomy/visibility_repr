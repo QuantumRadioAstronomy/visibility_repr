{
 "cells": [
  {
   "cell_type": "markdown",
   "id": "b080fbe7",
   "metadata": {},
   "source": [
    "# Data-reuploading"
   ]
  },
  {
   "cell_type": "markdown",
   "id": "26e089aa",
   "metadata": {},
   "source": [
    "*Comments:*\n",
    "\n",
    "The idea was to convert our data representation problem to a classification task in order to be able to use the single-qubit structure allowed with data re-uploads. Fourier points are encoded sequantially onto that qubit x times (x being the number of layers). Then, each data re-upload induce a rotation of the qubit in the Bloch sphere with respect to parameters that we want to optimize. The distance between one of the computational bases (acting as labels here) and the final output vector should be minimized. "
   ]
  },
  {
   "cell_type": "markdown",
   "id": "bb0497a1",
   "metadata": {},
   "source": [
    "Having an image of the sky, the evident classification task is to determine whether a pixel belongs to a source or not. The model is trained on a 10x10 image randomly generated where 80% of the pixels are dedicated to training, and the remaining points to testing."
   ]
  },
  {
   "cell_type": "markdown",
   "id": "90ad757b",
   "metadata": {},
   "source": [
    "Unfortunately, when applying a Fourier transform (FT) to the initial image, the latter the pixels's intensities and spatial information is lost. Hence, it is not possible to learn the boundaries that we were initially interested in. The results below show a poor behaviour from our model. "
   ]
  },
  {
   "cell_type": "markdown",
   "id": "25226203",
   "metadata": {},
   "source": [
    "Other ways to load data into quantum computers have therfore been explored."
   ]
  },
  {
   "cell_type": "markdown",
   "id": "efd0b5de",
   "metadata": {},
   "source": [
    "*Data re-uploading:*\n",
    "\n",
    "* from [paper](https://arxiv.org/abs/1907.02085)\n",
    "* there is a documentation provided by [PennyLane](https://pennylane.ai/qml/demos/tutorial_data_reuploading_classifier.html)\n",
    "* suggest to follow this nice [tutorial](https://github.com/NLESC-quantum/quantum_comp/blob/main/pulsar_search/ml/reupload/tutorial_data_reuploading_classifier.ipynb) for the pulsars' detection"
   ]
  },
  {
   "cell_type": "code",
   "execution_count": 1,
   "id": "486618fa",
   "metadata": {},
   "outputs": [],
   "source": [
    "import numpy as np\n",
    "import matplotlib.pyplot as plt\n",
    "import random\n",
    "from tqdm import tqdm\n",
    "\n",
    "import pennylane as qml\n",
    "from pennylane import numpy as pnp\n",
    "from pennylane.optimize import AdamOptimizer, GradientDescentOptimizer"
   ]
  },
  {
   "cell_type": "code",
   "execution_count": 2,
   "id": "c166b680",
   "metadata": {},
   "outputs": [],
   "source": [
    "# image of the sky filled with double precision complex floats (single precision for reals/imaginaries)\n",
    "# few pixels are set to relatively large complex random values in random spots (image sources)\n",
    "# relatively small complex values are added (white noise from background radiations) \n",
    "\n",
    "n = 10 #number of antennas\n",
    "\n",
    "sky_image = np.zeros((n, n), dtype='complex64')\n",
    "mask = np.zeros((n, n), dtype='bool')\n",
    "stars = np.random.randint(1, 7) #random number of sources\n",
    "radius = 1 \n",
    "\n",
    "for i in range(0, stars):\n",
    "    index_i = np.random.randint(0, n-radius)\n",
    "    index_j = np.random.randint(0, n-radius)\n",
    "    for j in range(0, radius):\n",
    "        for k in range(0, radius):\n",
    "            sky_image[index_i+j][index_j+k] = complex(np.random.rand()*100, np.random.rand()*100)\n",
    "            mask[index_i+j][index_j+k] = True\n",
    "            \n",
    "sky_image.real += np.random.randn(n,n)/100\n",
    "sky_image.imag += np.random.randn(n,n)/100"
   ]
  },
  {
   "cell_type": "code",
   "execution_count": 3,
   "id": "b1bfe4f7",
   "metadata": {},
   "outputs": [],
   "source": [
    "visibilities = np.fft.fft2(sky_image).astype('complex64')"
   ]
  },
  {
   "cell_type": "markdown",
   "id": "dadf682b",
   "metadata": {},
   "source": [
    "### Training labels"
   ]
  },
  {
   "cell_type": "code",
   "execution_count": 4,
   "id": "cf1fc3e0",
   "metadata": {},
   "outputs": [
    {
     "data": {
      "image/png": "[encoded data removed]",
      "text/plain": [
       "<Figure size 432x288 with 1 Axes>"
      ]
     },
     "metadata": {
      "needs_background": "light"
     },
     "output_type": "display_data"
    },
    {
     "data": {
      "image/png": "[encoded data removed]",
      "text/plain": [
       "<Figure size 432x288 with 1 Axes>"
      ]
     },
     "metadata": {
      "needs_background": "light"
     },
     "output_type": "display_data"
    },
    {
     "data": {
      "image/png": "[encoded data removed]",
      "text/plain": [
       "<Figure size 432x288 with 1 Axes>"
      ]
     },
     "metadata": {
      "needs_background": "light"
     },
     "output_type": "display_data"
    }
   ],
   "source": [
    "def labels(data, mask):\n",
    "    \n",
    "    Xvals, yvals = [], []\n",
    "    \n",
    "    for i in range(mask.shape[0]):\n",
    "        for j in range(mask.shape[1]):\n",
    "            if mask[i][j] == True:\n",
    "                label = 1\n",
    "            else:\n",
    "                label = 0\n",
    "        \n",
    "            yvals.append(label)\n",
    "            Xvals.append((data[i][j].real, data[i][j].imag))\n",
    "        \n",
    "    return pnp.array(Xvals, requires_grad=False), pnp.array(yvals, requires_grad=False)\n",
    "\n",
    "\n",
    "def plot_data(x, y, ax=None):\n",
    "    \n",
    "    reds = y == 0\n",
    "    blues = y == 1\n",
    "    plt.scatter(x[reds, 0], x[reds, 1], c=\"red\", s=20, edgecolor=\"k\")\n",
    "    plt.gca().set_xlabel(\"Re\")\n",
    "    plt.gca().set_ylabel(\"Img\")\n",
    "    plt.title('Noise')\n",
    "    plt.show()\n",
    "    \n",
    "    plt.scatter(x[blues, 0], x[blues, 1], c=\"blue\", s=20, edgecolor=\"k\")\n",
    "    plt.gca().set_xlabel(\"Re\")\n",
    "    plt.gca().set_ylabel(\"Img\")\n",
    "    plt.title('Source')\n",
    "    plt.show()\n",
    "    \n",
    "    plt.scatter(x[reds, 0], x[reds, 1], c=\"red\", s=20, edgecolor=\"k\")\n",
    "    plt.scatter(x[blues, 0], x[blues, 1], c=\"blue\", s=20, edgecolor=\"k\")\n",
    "    plt.gca().set_xlabel(\"Re\")\n",
    "    plt.gca().set_ylabel(\"Img\")\n",
    "    plt.title('Noise and Source')\n",
    "    plt.show()\n",
    "    \n",
    "Xdata, ydata = labels(visibilities, mask)\n",
    "plot_data(Xdata, ydata)\n",
    "\n",
    "\n",
    "# Define output labels as quantum state vectors\n",
    "def density_matrix(state):\n",
    "    \n",
    "    return state * pnp.conj(state).T\n",
    "\n",
    "\n",
    "label_0 = [[1], [0]]\n",
    "label_1 = [[0], [1]]\n",
    "state_labels = pnp.array([label_0, label_1], requires_grad=False)"
   ]
  },
  {
   "cell_type": "markdown",
   "id": "93ae5c8d",
   "metadata": {},
   "source": [
    "### Simple classifier with data reloading and fidelity loss"
   ]
  },
  {
   "cell_type": "code",
   "execution_count": 5,
   "id": "bdd700ee",
   "metadata": {},
   "outputs": [],
   "source": [
    "dev = qml.device(\"lightning.qubit\", wires=1)\n",
    "\n",
    "@qml.qnode(dev)\n",
    "def qcircuit(params, x, y):\n",
    "    \"\"\"A variational quantum circuit representing the Universal classifier.\n",
    "\n",
    "    Args:\n",
    "        params (array[float]): array of parameters\n",
    "        x (array[float]): single input vector\n",
    "        y (array[float]): single output state density matrix\n",
    "\n",
    "    Returns:\n",
    "        float: fidelity between output state and input\n",
    "    \"\"\"\n",
    "    for p in params:\n",
    "        qml.Rot(*x, wires=0)\n",
    "        qml.Rot(*p, wires=0)\n",
    "    return qml.expval(qml.Hermitian(y, wires=[0]))\n",
    "\n",
    "\n",
    "def cost(params, x, y, state_labels=None):\n",
    "    \"\"\"Cost function to be minimized.\n",
    "\n",
    "    Args:\n",
    "        params (array[float]): array of parameters\n",
    "        x (array[float]): 2-d array of input vectors\n",
    "        y (array[float]): 1-d array of targets\n",
    "        state_labels (array[float]): array of state representations for labels\n",
    "\n",
    "    Returns:\n",
    "        float: loss value to be minimized\n",
    "    \"\"\"\n",
    "    # Compute prediction for each input in data batch\n",
    "    loss = 0.0\n",
    "    dm_labels = [density_matrix(s) for s in state_labels]\n",
    "    for i in range(len(x)):\n",
    "        f = qcircuit(params, x[i], dm_labels[y[i]])\n",
    "        loss = loss + (1 - f) ** 2\n",
    "    return loss / len(x)"
   ]
  },
  {
   "cell_type": "markdown",
   "id": "0193c4c5",
   "metadata": {},
   "source": [
    "### Utility functions for testing and creating batches"
   ]
  },
  {
   "cell_type": "code",
   "execution_count": 6,
   "id": "0cc01f42",
   "metadata": {},
   "outputs": [],
   "source": [
    "def test(params, x, y, state_labels=None):\n",
    "    \"\"\"\n",
    "    Tests on a given set of data.\n",
    "\n",
    "    Args:\n",
    "        params (array[float]): array of parameters\n",
    "        x (array[float]): 2-d array of input vectors\n",
    "        y (array[float]): 1-d array of targets\n",
    "        state_labels (array[float]): 1-d array of state representations for labels\n",
    "\n",
    "    Returns:\n",
    "        predicted (array([int]): predicted labels for test data\n",
    "        output_states (array[float]): output quantum states from the circuit\n",
    "    \"\"\"\n",
    "    fidelity_values = []\n",
    "    dm_labels = [density_matrix(s) for s in state_labels]\n",
    "    predicted = []\n",
    "\n",
    "    for i in range(len(x)):\n",
    "        fidel_function = lambda y: qcircuit(params, x[i], y)\n",
    "        fidelities = [fidel_function(dm) for dm in dm_labels]\n",
    "        best_fidel = np.argmax(fidelities)\n",
    "\n",
    "        predicted.append(best_fidel)\n",
    "        fidelity_values.append(fidelities)\n",
    "\n",
    "    return pnp.array(predicted), pnp.array(fidelity_values)\n",
    "\n",
    "\n",
    "def accuracy_score(y_true, y_pred):\n",
    "    \"\"\"Accuracy score.\n",
    "\n",
    "    Args:\n",
    "        y_true (array[float]): 1-d array of targets\n",
    "        y_predicted (array[float]): 1-d array of predictions\n",
    "        state_labels (array[float]): 1-d array of state representations for labels\n",
    "\n",
    "    Returns:\n",
    "        score (float): the fraction of correctly classified samples\n",
    "    \"\"\"\n",
    "    score = y_true == y_pred\n",
    "    return score.sum() / len(y_true)\n",
    "\n",
    "\n",
    "def iterate_minibatches(inputs, targets, batch_size):\n",
    "    \"\"\"\n",
    "    A generator for batches of the input data\n",
    "\n",
    "    Args:\n",
    "        inputs (array[float]): input data\n",
    "        targets (array[float]): targets\n",
    "\n",
    "    Returns:\n",
    "        inputs (array[float]): one batch of input data of length `batch_size`\n",
    "        targets (array[float]): one batch of targets of length `batch_size`\n",
    "    \"\"\"\n",
    "    for start_idx in range(0, inputs.shape[0] - batch_size + 1, batch_size):\n",
    "        idxs = slice(start_idx, start_idx + batch_size)\n",
    "        yield inputs[idxs], targets[idxs]"
   ]
  },
  {
   "cell_type": "markdown",
   "id": "62bb8482",
   "metadata": {},
   "source": [
    "### Train a quantum classifier on the visibilities"
   ]
  },
  {
   "cell_type": "code",
   "execution_count": 7,
   "id": "b0fed5a7",
   "metadata": {},
   "outputs": [
    {
     "name": "stderr",
     "output_type": "stream",
     "text": [
      "\r",
      "0it [00:00, ?it/s]"
     ]
    },
    {
     "name": "stdout",
     "output_type": "stream",
     "text": [
      "Epoch:  0 | Cost: 0.273016 | Train accuracy: 0.437500 | Test Accuracy: 0.650000\n"
     ]
    },
    {
     "name": "stderr",
     "output_type": "stream",
     "text": [
      "2it [00:05,  2.57s/it]\n",
      "0it [00:00, ?it/s]"
     ]
    },
    {
     "name": "stdout",
     "output_type": "stream",
     "text": [
      "Epoch:  1 | Loss: 0.361440 | Train accuracy: 0.437500 | Test accuracy: 0.650000\n"
     ]
    },
    {
     "name": "stderr",
     "output_type": "stream",
     "text": [
      "2it [00:09,  4.81s/it]\n",
      "0it [00:00, ?it/s]"
     ]
    },
    {
     "name": "stdout",
     "output_type": "stream",
     "text": [
      "Epoch:  2 | Loss: 0.359716 | Train accuracy: 0.437500 | Test accuracy: 0.650000\n"
     ]
    },
    {
     "name": "stderr",
     "output_type": "stream",
     "text": [
      "2it [00:09,  4.60s/it]\n",
      "0it [00:00, ?it/s]"
     ]
    },
    {
     "name": "stdout",
     "output_type": "stream",
     "text": [
      "Epoch:  3 | Loss: 0.358004 | Train accuracy: 0.437500 | Test accuracy: 0.650000\n"
     ]
    },
    {
     "name": "stderr",
     "output_type": "stream",
     "text": [
      "2it [00:09,  4.93s/it]\n",
      "0it [00:00, ?it/s]"
     ]
    },
    {
     "name": "stdout",
     "output_type": "stream",
     "text": [
      "Epoch:  4 | Loss: 0.356302 | Train accuracy: 0.437500 | Test accuracy: 0.650000\n"
     ]
    },
    {
     "name": "stderr",
     "output_type": "stream",
     "text": [
      "2it [00:09,  4.56s/it]\n",
      "0it [00:00, ?it/s]"
     ]
    },
    {
     "name": "stdout",
     "output_type": "stream",
     "text": [
      "Epoch:  5 | Loss: 0.354611 | Train accuracy: 0.437500 | Test accuracy: 0.650000\n"
     ]
    },
    {
     "name": "stderr",
     "output_type": "stream",
     "text": [
      "2it [00:09,  4.72s/it]\n",
      "0it [00:00, ?it/s]"
     ]
    },
    {
     "name": "stdout",
     "output_type": "stream",
     "text": [
      "Epoch:  6 | Loss: 0.352933 | Train accuracy: 0.437500 | Test accuracy: 0.650000\n"
     ]
    },
    {
     "name": "stderr",
     "output_type": "stream",
     "text": [
      "2it [00:09,  4.90s/it]\n",
      "0it [00:00, ?it/s]"
     ]
    },
    {
     "name": "stdout",
     "output_type": "stream",
     "text": [
      "Epoch:  7 | Loss: 0.351266 | Train accuracy: 0.475000 | Test accuracy: 0.650000\n"
     ]
    },
    {
     "name": "stderr",
     "output_type": "stream",
     "text": [
      "2it [00:08,  4.31s/it]\n",
      "0it [00:00, ?it/s]"
     ]
    },
    {
     "name": "stdout",
     "output_type": "stream",
     "text": [
      "Epoch:  8 | Loss: 0.349612 | Train accuracy: 0.475000 | Test accuracy: 0.650000\n"
     ]
    },
    {
     "name": "stderr",
     "output_type": "stream",
     "text": [
      "2it [00:08,  4.26s/it]\n",
      "0it [00:00, ?it/s]"
     ]
    },
    {
     "name": "stdout",
     "output_type": "stream",
     "text": [
      "Epoch:  9 | Loss: 0.347970 | Train accuracy: 0.475000 | Test accuracy: 0.650000\n"
     ]
    },
    {
     "name": "stderr",
     "output_type": "stream",
     "text": [
      "2it [00:08,  4.14s/it]\n"
     ]
    },
    {
     "name": "stdout",
     "output_type": "stream",
     "text": [
      "Epoch: 10 | Loss: 0.346342 | Train accuracy: 0.475000 | Test accuracy: 0.650000\n"
     ]
    }
   ],
   "source": [
    "# Generate training and test data\n",
    "X_data, y_data = labels(visibilities, mask)\n",
    "indices = []\n",
    "for i in range(0, len(X_data)):\n",
    "    indices.append(i)\n",
    "random.shuffle(indices)\n",
    "\n",
    "for i in range(0, len(X_data)):\n",
    "    X_data[i] = X_data[indices[i]]\n",
    "    y_data[i] = y_data[indices[i]]\n",
    "\n",
    "index = int(0.8*len(X_data))\n",
    "X_train, y_train = X_data[:index], y_data[:index]\n",
    "X_test, y_test = X_data[index:], y_data[index:]\n",
    "\n",
    "X_train = pnp.hstack((X_train, pnp.zeros((X_train.shape[0], 1), requires_grad=False)))\n",
    "X_test = pnp.hstack((X_test, pnp.zeros((X_test.shape[0], 1), requires_grad=False)))\n",
    "\n",
    "\n",
    "# Train using Adam optimizer and evaluate the classifier\n",
    "num_layers = 3 #2\n",
    "learning_rate = 1e-3 #0.6\n",
    "epochs = 10 #25\n",
    "batch_size = 32 #64\n",
    "\n",
    "opt = AdamOptimizer(learning_rate, beta1=0.9, beta2=0.999)\n",
    "\n",
    "# initialize random weights\n",
    "params = pnp.random.uniform(size=(num_layers, 3), requires_grad=True)\n",
    "\n",
    "predicted_train, fidel_train = test(params, X_train, y_train, state_labels)\n",
    "accuracy_train = accuracy_score(y_train, predicted_train)\n",
    "\n",
    "predicted_test, fidel_test = test(params, X_test, y_test, state_labels)\n",
    "accuracy_test = accuracy_score(y_test, predicted_test)\n",
    "\n",
    "# save predictions with random weights for comparison\n",
    "initial_predictions = predicted_test\n",
    "\n",
    "loss = cost(params, X_test, y_test, state_labels)\n",
    "\n",
    "print(\n",
    "    \"Epoch: {:2d} | Cost: {:3f} | Train accuracy: {:3f} | Test Accuracy: {:3f}\".format(\n",
    "        0, loss, accuracy_train, accuracy_test\n",
    "    )\n",
    ")\n",
    "\n",
    "for it in range(epochs):\n",
    "    for Xbatch, ybatch in tqdm(iterate_minibatches(X_train, y_train, batch_size=batch_size)):\n",
    "        params, _, _, _ = opt.step(cost, params, Xbatch, ybatch, state_labels)\n",
    "\n",
    "    predicted_train, fidel_train = test(params, X_train, y_train, state_labels)\n",
    "    accuracy_train = accuracy_score(y_train, predicted_train)\n",
    "    loss = cost(params, X_train, y_train, state_labels)\n",
    "\n",
    "    predicted_test, fidel_test = test(params, X_test, y_test, state_labels)\n",
    "    accuracy_test = accuracy_score(y_test, predicted_test)\n",
    "    res = [it + 1, loss, accuracy_train, accuracy_test]\n",
    "    print(\n",
    "        \"Epoch: {:2d} | Loss: {:3f} | Train accuracy: {:3f} | Test accuracy: {:3f}\".format(\n",
    "            *res\n",
    "        )\n",
    "    )"
   ]
  },
  {
   "cell_type": "markdown",
   "id": "33430798",
   "metadata": {},
   "source": [
    "### Results"
   ]
  },
  {
   "cell_type": "code",
   "execution_count": 8,
   "id": "97633f29",
   "metadata": {},
   "outputs": [
    {
     "name": "stdout",
     "output_type": "stream",
     "text": [
      "Cost: 0.346342 | Train accuracy 0.475000 | Test Accuracy : 0.650000\n",
      "Learned weights\n",
      "Layer 0: [0.62559053 0.0632605  0.84631213]\n",
      "Layer 1: [0.20549881 0.82082719 0.07372456]\n",
      "Layer 2: [1.00719484 0.18406292 0.37688035]\n"
     ]
    },
    {
     "data": {
      "image/png": "[encoded data removed]",
      "text/plain": [
       "<Figure size 1080x360 with 3 Axes>"
      ]
     },
     "metadata": {
      "needs_background": "light"
     },
     "output_type": "display_data"
    }
   ],
   "source": [
    "print(\n",
    "    \"Cost: {:3f} | Train accuracy {:3f} | Test Accuracy : {:3f}\".format(\n",
    "        loss, accuracy_train, accuracy_test\n",
    "    )\n",
    ")\n",
    "\n",
    "print(\"Learned weights\")\n",
    "for i in range(num_layers):\n",
    "    print(\"Layer {}: {}\".format(i, params[i]))\n",
    "\n",
    "fig, axs = plt.subplots(1, 3, figsize=(15,5))\n",
    "reds = initial_predictions == 0\n",
    "blues = initial_predictions == 1\n",
    "axs[0].scatter(X_test[reds, 0], X_test[reds, 1], c=\"red\", s=20, edgecolor=\"k\")\n",
    "axs[0].scatter(X_test[blues, 0], X_test[blues, 1], c=\"blue\", s=20, edgecolor=\"k\")\n",
    "reds = predicted_test == 0\n",
    "blues = predicted_test == 1\n",
    "axs[1].scatter(X_test[reds, 0], X_test[reds, 1], c=\"red\", s=20, edgecolor=\"k\")\n",
    "axs[1].scatter(X_test[blues, 0], X_test[blues, 1], c=\"blue\", s=20, edgecolor=\"k\")\n",
    "reds = y_test == 0\n",
    "blues = y_test == 1\n",
    "axs[2].scatter(X_test[reds, 0], X_test[reds, 1], c=\"red\", s=20, edgecolor=\"k\")\n",
    "axs[2].scatter(X_test[blues, 0], X_test[blues, 1], c=\"blue\", s=20, edgecolor=\"k\")\n",
    "\n",
    "axs[0].set_title(\"Predictions with random weights\")\n",
    "axs[1].set_title(\"Predictions after training\")\n",
    "axs[2].set_title(\"True test data\")\n",
    "\n",
    "for ax in axs.flat:\n",
    "    ax.set(xlabel='Re', ylabel='Img')\n",
    "\n",
    "plt.tight_layout()\n",
    "plt.show()"
   ]
  },
  {
   "cell_type": "code",
   "execution_count": null,
   "id": "1a90f8fb",
   "metadata": {},
   "outputs": [],
   "source": []
  }
 ],
 "metadata": {
  "kernelspec": {
   "display_name": "Python 3",
   "language": "python",
   "name": "python3"
  },
  "language_info": {
   "codemirror_mode": {
    "name": "ipython",
    "version": 3
   },
   "file_extension": ".py",
   "mimetype": "text/x-python",
   "name": "python",
   "nbconvert_exporter": "python",
   "pygments_lexer": "ipython3",
   "version": "3.8.8"
  }
 },
 "nbformat": 4,
 "nbformat_minor": 5
}
