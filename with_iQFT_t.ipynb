{
 "cells": [
  {
   "cell_type": "code",
   "execution_count": 1,
   "id": "04ee6ebe",
   "metadata": {},
   "outputs": [],
   "source": [
    "import numpy as np\n",
    "import math\n",
    "from scipy.fft import fft2, ifft2\n",
    "\n",
    "import matplotlib.pyplot as plt\n",
    "from skimage import io\n",
    "from skimage.transform import resize\n",
    "from skimage import color\n",
    "import h5py\n",
    "\n",
    "from qiskit import QuantumCircuit, QuantumRegister, ClassicalRegister, Aer, execute\n",
    "from qiskit.visualization import plot_histogram\n",
    "from qiskit.circuit.library import QFT\n",
    "from qiskit.visualization import array_to_latex\n",
    "\n",
    "import pennylane as qml\n",
    "from pennylane import numpy as pnp\n",
    "\n",
    "import warnings\n",
    "warnings.filterwarnings('ignore')"
   ]
  },
  {
   "cell_type": "code",
   "execution_count": 2,
   "id": "9af37941",
   "metadata": {},
   "outputs": [
    {
     "name": "stdout",
     "output_type": "stream",
     "text": [
      "[[ 8.94869048e-03  5.51733507e-04  1.26555583e-02 -5.22435515e-03\n",
      "   2.36714747e-03 -1.58424635e-03 -1.19502240e-02 -5.18211118e-03]\n",
      " [ 7.55955527e-03  7.76165260e-04 -1.00022337e-02  4.98467304e-03\n",
      "  -1.11882544e-02  2.64295412e-03  1.88512878e-02  4.01294052e-03]\n",
      " [ 1.67342922e-02 -2.24641038e-03  6.52786421e+01  8.19077052e-03\n",
      "  -1.86348149e-02  9.51429819e-03 -1.70694213e-04 -3.13341062e-03]\n",
      " [ 8.44227380e-04 -9.05362298e-03  1.22566267e-03 -6.82634071e-03\n",
      "  -1.70397593e-02 -2.20778059e-02 -1.06990541e-04  1.37140884e-02]\n",
      " [-1.31126491e-02  2.66961512e-02  4.05574804e-03  1.71052365e-02\n",
      "   5.90714651e-04 -3.96357892e-03  3.58439234e-03  1.24684548e-02]\n",
      " [ 1.62040907e-02  1.26867539e-03  1.49619525e-03 -1.71795841e-02\n",
      "   1.06349009e-02  1.18643555e-03 -1.41053215e-02 -1.38880405e-03]\n",
      " [-2.78920360e-02 -1.23949391e-03  3.68237641e-03 -1.73454431e-02\n",
      "   1.77361404e-02  2.48727702e-03 -8.76546918e-04  1.79081210e-02]\n",
      " [-8.02178705e-03 -5.64802560e-04  1.94589947e-03  1.55562961e-02\n",
      "   1.08516220e-02  1.76107361e-02  2.30447086e-03 -2.50872335e-02]]\n"
     ]
    }
   ],
   "source": [
    "n = 8\n",
    "#sky_image = np.zeros((n, n), dtype='complex64')\n",
    "sky_image = np.zeros((n, n), dtype='float64') #cannot with float32 --> cannot with complex64?\n",
    "#sky_image = np.zeros((n, n), dtype='complex128')\n",
    "mask = np.zeros((n, n), dtype='bool')\n",
    "number_of_stars = np.random.randint(1, 6)\n",
    "radius = 1 \n",
    "\n",
    "for i in range(0, number_of_stars):\n",
    "    index_i = np.random.randint(0, sky_image.shape[0]-radius)\n",
    "    index_j = np.random.randint(0, sky_image.shape[1]-radius)\n",
    "    for j in range(0, radius):\n",
    "        for k in range(0, radius):\n",
    "            sky_image[index_i+j][index_j+k] = np.random.rand()*100 #complex(np.random.rand()*100, np.random.rand()*100)\n",
    "            mask[index_i+j][index_j+k] = True\n",
    "            \n",
    "#sky_image.real += np.random.randn(n,n)/100\n",
    "#sky_image.imag += np.random.randn(n,n)/100\n",
    "sky_image += np.random.randn(n,n)/100\n",
    "\n",
    "print(sky_image)"
   ]
  },
  {
   "cell_type": "code",
   "execution_count": 3,
   "id": "c34711ec",
   "metadata": {},
   "outputs": [
    {
     "data": {
      "image/png": "[encoded data removed]",
      "text/plain": [
       "<Figure size 432x288 with 2 Axes>"
      ]
     },
     "metadata": {
      "needs_background": "light"
     },
     "output_type": "display_data"
    }
   ],
   "source": [
    "modulus = np.absolute(sky_image)\n",
    "plt.imshow(modulus, cmap='Reds')\n",
    "plt.colorbar();"
   ]
  },
  {
   "cell_type": "code",
   "execution_count": 4,
   "id": "08b6f95d",
   "metadata": {},
   "outputs": [],
   "source": [
    "#visibilities = np.fft.fft2(sky_image).astype('complex64')\n",
    "#print(visibilities)"
   ]
  },
  {
   "cell_type": "code",
   "execution_count": 5,
   "id": "ebc6146c",
   "metadata": {},
   "outputs": [],
   "source": [
    "#modulus = np.absolute(visibilities)\n",
    "#plt.imshow(modulus, cmap='Blues')\n",
    "#plt.colorbar();"
   ]
  },
  {
   "cell_type": "code",
   "execution_count": 6,
   "id": "aa7a59e8",
   "metadata": {},
   "outputs": [],
   "source": [
    "#sanity = np.fft.ifft2(visibilities).astype('complex64')\n",
    "\n",
    "##test1_real = ((sky_image.real - sanity.real)**2).mean()\n",
    "#test1_imag = ((sky_image.imag - sanity.imag)**2).mean()\n",
    " \n",
    "#print('Reals MSE: '+ str(test1_real))\n",
    "#print('Imaginaries MSE: '+ str(test1_imag))"
   ]
  },
  {
   "cell_type": "code",
   "execution_count": 7,
   "id": "9e5a4b53",
   "metadata": {},
   "outputs": [],
   "source": [
    "def qpie_circuit(im): #for square image 2^n * 2^n\n",
    "\n",
    "    n = int(np.log2(len(im)))\n",
    "\n",
    "    vals = im.flatten()\n",
    "    vals = vals/np.linalg.norm(vals) #normalize coefficients\n",
    "\n",
    "    qc = QuantumCircuit(2*n)\n",
    "\n",
    "    qc.initialize(vals)\n",
    "\n",
    "    return qc"
   ]
  },
  {
   "cell_type": "code",
   "execution_count": 8,
   "id": "0fbcdfb0",
   "metadata": {},
   "outputs": [
    {
     "data": {
      "image/png": "[encoded data removed]",
      "text/plain": [
       "<Figure size 1170.2x385.28 with 1 Axes>"
      ]
     },
     "execution_count": 8,
     "metadata": {},
     "output_type": "execute_result"
    }
   ],
   "source": [
    "qc = qpie_circuit(sky_image)\n",
    "qc.draw('mpl')"
   ]
  },
  {
   "cell_type": "code",
   "execution_count": 9,
   "id": "8ec19de3",
   "metadata": {},
   "outputs": [],
   "source": [
    "def decode_out(qc,norm,fourier=False,shots_mult=10):\n",
    "    \n",
    "    n = qc.num_qubits\n",
    "    shots = shots_mult * 2**20 #number of shots desired\n",
    "\n",
    "    backend = Aer.get_backend('qasm_simulator')\n",
    "    results = execute(qc, backend=backend, shots=shots).result()\n",
    "    answer = results.get_counts()\n",
    "\n",
    "    outim = np.zeros((int(2**(n/2)), int(2**(n/2))))\n",
    "\n",
    "    b = 0\n",
    "    for i,j in np.ndindex(outim.shape):\n",
    "\n",
    "        bit = format(b, '0' + str(n) + 'b')\n",
    "        p_i = answer.get(bit,0)/shots\n",
    "        \n",
    "        if fourier:\n",
    "            pix_val = np.sqrt(p_i) * norm * 2**(n/2)\n",
    "        else:\n",
    "            pix_val = np.sqrt(p_i) * norm\n",
    "            \n",
    "        outim[i,j] = (pix_val)\n",
    "\n",
    "        b+=1\n",
    "    \n",
    "    return outim"
   ]
  },
  {
   "cell_type": "code",
   "execution_count": 10,
   "id": "b2776879",
   "metadata": {},
   "outputs": [
    {
     "data": {
      "text/plain": [
       "<matplotlib.image.AxesImage at 0x2cefad4c8b0>"
      ]
     },
     "execution_count": 10,
     "metadata": {},
     "output_type": "execute_result"
    },
    {
     "data": {
      "image/png": "[encoded data removed]",
      "text/plain": [
       "<Figure size 432x288 with 1 Axes>"
      ]
     },
     "metadata": {
      "needs_background": "light"
     },
     "output_type": "display_data"
    }
   ],
   "source": [
    "qc.measure_all() #we don't forget to add measurement\n",
    "\n",
    "norm = (np.linalg.norm(sky_image.flatten()))\n",
    "imout = decode_out(qc,norm)\n",
    "plt.imshow(imout,cmap='gray')"
   ]
  },
  {
   "cell_type": "code",
   "execution_count": 11,
   "id": "87b44e0f",
   "metadata": {},
   "outputs": [],
   "source": [
    "def MSE(im1,im2):\n",
    "\n",
    "    im = (im1-im2)**2\n",
    "    s = np.sum(im.flatten())/(len(im1**2))\n",
    "\n",
    "    return s"
   ]
  },
  {
   "cell_type": "code",
   "execution_count": 12,
   "id": "f8577177",
   "metadata": {},
   "outputs": [
    {
     "data": {
      "text/plain": [
       "0.0022050459323603813"
      ]
     },
     "execution_count": 12,
     "metadata": {},
     "output_type": "execute_result"
    }
   ],
   "source": [
    "MSE(sky_image,imout)"
   ]
  },
  {
   "cell_type": "code",
   "execution_count": 13,
   "id": "6794ecba",
   "metadata": {},
   "outputs": [
    {
     "ename": "NameError",
     "evalue": "name 'visibilities' is not defined",
     "output_type": "error",
     "traceback": [
      "\u001b[1;31m---------------------------------------------------------------------------\u001b[0m",
      "\u001b[1;31mNameError\u001b[0m                                 Traceback (most recent call last)",
      "\u001b[1;32m<ipython-input-13-321ff4e280ef>\u001b[0m in \u001b[0;36m<module>\u001b[1;34m\u001b[0m\n\u001b[0;32m      1\u001b[0m \u001b[0mn_n\u001b[0m \u001b[1;33m=\u001b[0m \u001b[0mn\u001b[0m \u001b[1;33m*\u001b[0m \u001b[0mn\u001b[0m\u001b[1;33m\u001b[0m\u001b[1;33m\u001b[0m\u001b[0m\n\u001b[1;32m----> 2\u001b[1;33m \u001b[0minp\u001b[0m \u001b[1;33m=\u001b[0m \u001b[0mvisibilities\u001b[0m\u001b[1;33m.\u001b[0m\u001b[0mflatten\u001b[0m\u001b[1;33m(\u001b[0m\u001b[1;33m)\u001b[0m\u001b[1;33m\u001b[0m\u001b[1;33m\u001b[0m\u001b[0m\n\u001b[0m\u001b[0;32m      3\u001b[0m \u001b[0mnorm\u001b[0m \u001b[1;33m=\u001b[0m \u001b[0mnp\u001b[0m\u001b[1;33m.\u001b[0m\u001b[0mlinalg\u001b[0m\u001b[1;33m.\u001b[0m\u001b[0mnorm\u001b[0m\u001b[1;33m(\u001b[0m\u001b[0minp\u001b[0m\u001b[1;33m)\u001b[0m\u001b[1;33m\u001b[0m\u001b[1;33m\u001b[0m\u001b[0m\n\u001b[0;32m      4\u001b[0m \u001b[0minp\u001b[0m \u001b[1;33m=\u001b[0m \u001b[0minp\u001b[0m \u001b[1;33m/\u001b[0m \u001b[0mnorm\u001b[0m\u001b[1;33m\u001b[0m\u001b[1;33m\u001b[0m\u001b[0m\n\u001b[0;32m      5\u001b[0m \u001b[1;33m\u001b[0m\u001b[0m\n",
      "\u001b[1;31mNameError\u001b[0m: name 'visibilities' is not defined"
     ]
    }
   ],
   "source": [
    "n_n = n * n\n",
    "inp = visibilities.flatten()\n",
    "norm = np.linalg.norm(inp)\n",
    "inp = inp / norm\n",
    "\n",
    "#norm = qml.math.sum(qml.math.abs(inp) ** 2)\n",
    "#normalized_data = inp / qml.math.sqrt(norm)\n",
    "\n",
    "wires = range(math.ceil(math.log2(n_n)))\n",
    "print( 'Wires: ' + str(wires) )\n",
    "amp_dev = qml.device('default.qubit', wires)\n",
    "\n",
    "\n",
    "@qml.qnode(amp_dev)\n",
    "def amp_encoding(data):\n",
    "    qml.AmplitudeEmbedding(data, wires, normalize=False, pad_with=0.)\n",
    "    wires1 = range( math.ceil(math.ceil(math.log2(n_n)) / 2) )\n",
    "    wires2 = range( math.ceil(math.ceil(math.log2(n_n)) / 2), math.ceil(math.log2(n_n)))\n",
    "    #qml.adjoint(qml.QFT)(wires=wires)\n",
    "    #qml.adjoint(qml.QFT)(wires=wires2)\n",
    "    return qml.state()\n",
    "\n",
    "readout = amp_encoding(inp).astype('complex64')\n",
    "#qml.draw_mpl(amp_encoding)(inp)\n",
    "\n",
    "readout.numpy()\n",
    "#readout = readout*qml.math.sqrt(norm)\n",
    "readout = readout * norm\n",
    "readout = readout[:(n_n)]\n",
    "print(readout)\n",
    "readout = np.array(readout).reshape(n , n)"
   ]
  },
  {
   "cell_type": "code",
   "execution_count": null,
   "id": "e18b327f",
   "metadata": {},
   "outputs": [],
   "source": [
    "#fidelity = readout\n",
    "fidelity = np.fft.ifft2(readout).astype('complex64')\n",
    "\n",
    "test2_real = ((sky_image.real - fidelity.real)**2).mean()\n",
    "test2_imag = ((sky_image.imag - fidelity.imag)**2).mean()\n",
    "\n",
    "print('Reals MSE: '+ str(test2_real))\n",
    "print('Imaginaries MSE: '+ str(test2_imag))"
   ]
  },
  {
   "cell_type": "code",
   "execution_count": null,
   "id": "fc3de505",
   "metadata": {},
   "outputs": [],
   "source": [
    "fig, axs = plt.subplots(1, 2, figsize=(15,5))\n",
    "modulus1 = np.absolute(fidelity)\n",
    "modulus2 = np.absolute(sky_image)\n",
    "\n",
    "axs[0].imshow(modulus1, cmap='Reds')\n",
    "axs[1].imshow(modulus2, cmap='Reds')\n",
    "\n",
    "axs[0].set_title(\"Reconstructed image\")\n",
    "axs[1].set_title(\"Original image\")\n",
    "\n",
    "for ax in axs.flat:\n",
    "    ax.set(xlabel='n', ylabel='n')"
   ]
  },
  {
   "cell_type": "code",
   "execution_count": null,
   "id": "0f7fab4d",
   "metadata": {},
   "outputs": [],
   "source": []
  }
 ],
 "metadata": {
  "kernelspec": {
   "display_name": "Python 3",
   "language": "python",
   "name": "python3"
  },
  "language_info": {
   "codemirror_mode": {
    "name": "ipython",
    "version": 3
   },
   "file_extension": ".py",
   "mimetype": "text/x-python",
   "name": "python",
   "nbconvert_exporter": "python",
   "pygments_lexer": "ipython3",
   "version": "3.8.8"
  }
 },
 "nbformat": 4,
 "nbformat_minor": 5
}
