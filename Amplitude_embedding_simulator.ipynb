{
 "cells": [
  {
   "cell_type": "markdown",
   "id": "b4824755",
   "metadata": {},
   "source": [
    "# Amplitude embedding (simulator)\n",
    "\n",
    "Main steps:\n",
    "\n",
    "* initialize an image of the sky (frequency domain)\n",
    "* apply 2D FT --> visibilities (Fourier domain)\n",
    "* encode visibilities data into qubits using amplitude embedding (non-conventional domain)\n",
    "* measure qubits on simulator --> expected outcomes (back to conventional domain)\n",
    "* apply 2D IFT --> fidelity computation"
   ]
  },
  {
   "cell_type": "code",
   "execution_count": 2,
   "id": "04ee6ebe",
   "metadata": {},
   "outputs": [],
   "source": [
    "import numpy as np\n",
    "import math\n",
    "import sys\n",
    "\n",
    "import pennylane as qml\n",
    "from pennylane import numpy as pnp"
   ]
  },
  {
   "cell_type": "markdown",
   "id": "3bd5e888",
   "metadata": {},
   "source": [
    "## 1) Generating an artificial image of the sky (frequency domain)"
   ]
  },
  {
   "cell_type": "code",
   "execution_count": 4,
   "id": "9af37941",
   "metadata": {},
   "outputs": [
    {
     "name": "stdout",
     "output_type": "stream",
     "text": [
      "[[7.2362640e+01+7.3188263e+01j 7.2362640e+01+7.3188263e+01j\n",
      "  9.5202513e-03+7.7680424e-03j 7.2362640e+01+7.3188263e+01j]\n",
      " [7.2362640e+01+7.3188263e+01j 3.4098811e-03+6.7873118e-03j\n",
      "  7.2286343e-03+7.8209024e-03j 2.3322478e-03+4.6570646e-03j]\n",
      " [5.7000727e-03+2.0873714e-03j 9.6580572e-03+4.4698892e-03j\n",
      "  3.8421343e-03+6.2812346e-06j 2.3990057e-03+8.6915903e-03j]\n",
      " [7.2362640e+01+7.3188263e+01j 9.0144193e-03+5.5422657e-03j\n",
      "  5.2610035e-03+2.9907073e-03j 9.8879309e-03+4.6035522e-03j]]\n"
     ]
    }
   ],
   "source": [
    "#image of the sky filled with double precision complex floats ('complex64')\n",
    "#pixels are set to low complex random values (image background/noise) \n",
    "#few pixels are set to larger complex random values in a specified ellipse area (image source/subject)\n",
    "\n",
    "n = 4\n",
    "image = np.zeros((n, n), dtype='complex64')\n",
    "image.real = np.random.rand(n , n) / 100\n",
    "image.imag = np.random.rand(n , n) / 100\n",
    "\n",
    "h, w = image.shape\n",
    "mask = circular_mask(h, w, radius=h/2)\n",
    "sky_image = image.copy()\n",
    "sky_image[~mask] = complex(np.random.rand() * 100, np.random.rand() * 100)\n",
    "print(sky_image)"
   ]
  },
  {
   "cell_type": "markdown",
   "id": "749432b8",
   "metadata": {},
   "source": [
    "## 2) Applying a 2D FT (Fourier domain)"
   ]
  },
  {
   "cell_type": "code",
   "execution_count": 5,
   "id": "08b6f95d",
   "metadata": {},
   "outputs": [
    {
     "name": "stdout",
     "output_type": "stream",
     "text": [
      "[[ 361.88147 +365.99673j   217.06662 +219.54083j    72.35749  +73.17419j\n",
      "   217.06892 +219.55576j ]\n",
      " [ 217.08197 +219.5685j     72.3487   +73.18645j   -72.34708  -73.184555j\n",
      "    72.34416  +73.17432j ]\n",
      " [  72.35663  +73.17889j   -72.365105 -73.19019j  -217.06876 -219.55731j\n",
      "   -72.350525 -73.17609j ]\n",
      " [ 217.06972 +219.54611j    72.36227  +73.1849j    -72.35413  -73.1543j\n",
      "    72.34992  +73.168j   ]]\n"
     ]
    }
   ],
   "source": [
    "visibilities = np.fft.fft2(sky_image).astype('complex64')\n",
    "print(visibilities)"
   ]
  },
  {
   "cell_type": "markdown",
   "id": "8558fbb3",
   "metadata": {},
   "source": [
    "#### Sanity check"
   ]
  },
  {
   "cell_type": "code",
   "execution_count": 6,
   "id": "aa7a59e8",
   "metadata": {},
   "outputs": [
    {
     "name": "stdout",
     "output_type": "stream",
     "text": [
      "[[7.2362640e+01+7.3188263e+01j 7.2362640e+01+7.3188263e+01j\n",
      "  9.5214844e-03+7.7676773e-03j 7.2362640e+01+7.3188263e+01j]\n",
      " [7.2362640e+01+7.3188263e+01j 3.4108162e-03+6.7868233e-03j\n",
      "  7.2283745e-03+7.8196526e-03j 2.3331642e-03+4.6563148e-03j]\n",
      " [5.7010651e-03+2.0866394e-03j 9.6578598e-03+4.4698715e-03j\n",
      "  3.8433075e-03+5.7220459e-06j 2.4003983e-03+8.6908340e-03j]\n",
      " [7.2362640e+01+7.3188263e+01j 9.0155602e-03+5.5413246e-03j\n",
      "  5.2609444e-03+2.9902458e-03j 9.8891258e-03+4.6029091e-03j]]\n",
      "\n",
      "Reals MSE: 6.483969e-13\n",
      "Imaginaries MSE: 3.3931107e-13\n"
     ]
    }
   ],
   "source": [
    "img = np.fft.ifft2(visibilities).astype('complex64')\n",
    "print(img)\n",
    "test_real = ((sky_image.real - img.real)**2).mean()\n",
    "test_imag = ((sky_image.imag - img.imag)**2).mean()\n",
    "\n",
    "print()\n",
    " \n",
    "print('Reals MSE: '+ str(test_real))\n",
    "print('Imaginaries MSE: ' + str(test_imag))"
   ]
  },
  {
   "cell_type": "markdown",
   "id": "ada93768",
   "metadata": {},
   "source": [
    "## 3) Data encoding: amplitude embedding (non-conventional domain)"
   ]
  },
  {
   "cell_type": "code",
   "execution_count": 9,
   "id": "49aa4a9c",
   "metadata": {
    "scrolled": true
   },
   "outputs": [
    {
     "name": "stdout",
     "output_type": "stream",
     "text": [
      "[ 0.39311033+0.39758071j  0.23579857+0.23848629j  0.07860164+0.07948881j\n",
      "  0.23580107+0.2385025j   0.23581524+0.23851635j  0.07859209+0.07950213j\n",
      " -0.07859033-0.07950008j  0.07858716+0.07948896j  0.0786007 +0.07949392j\n",
      " -0.07860991-0.0795062j  -0.23580088-0.23850419j -0.07859407-0.07949088j\n",
      "  0.23580192+0.23849203j  0.07860683+0.07950045j -0.07859799-0.07946721j\n",
      "  0.07859342+0.07948209j]\n",
      "\n",
      "[[ 361.88147 +365.99673j   217.06664 +219.54083j    72.35749  +73.17419j\n",
      "   217.06894 +219.55576j ]\n",
      " [ 217.08197 +219.56851j    72.3487   +73.18645j   -72.34708  -73.184555j\n",
      "    72.34416  +73.17432j ]\n",
      " [  72.35663  +73.17889j   -72.365105 -73.19019j  -217.06876 -219.55731j\n",
      "   -72.350525 -73.17609j ]\n",
      " [ 217.06972 +219.54611j    72.36227  +73.1849j    -72.35413  -73.1543j\n",
      "    72.34992  +73.168j   ]]\n"
     ]
    }
   ],
   "source": [
    "# Amplitude embedding encodes a normalized 2^n-dimensional feature vector into the state of n qbits (uses log2(n) qbits for n classical data)\n",
    "n = visibilities.shape[0]*visibilities.shape[1]\n",
    "data = visibilities.flatten()\n",
    "\n",
    "#normalization to prepare a qstate with measurement probabilites summing up to 1 (SUM (amplitudes²) = 1)\n",
    "norm = qml.math.sum(qml.math.abs(data) ** 2)\n",
    "normalized_data = data / qml.math.sqrt(norm)\n",
    "\n",
    "wires = range(int(math.log2(n))) # set the number of qbits (no padding needed if outputs an integer=integer.0)\n",
    "amp_dev = qml.device('default.qubit', wires)\n",
    "\n",
    "@qml.qnode(amp_dev)\n",
    "def amp_encoding(data):\n",
    "    qml.AmplitudeEmbedding(data, wires) # normalize = True\n",
    "    return qml.state() #qml.expval(qml.PauliZ(wires=wires))\n",
    "\n",
    "results = amp_encoding(normalized_data).astype('complex64')\n",
    "print(results)\n",
    "\n",
    "print()\n",
    "\n",
    "results = results*qml.math.sqrt(norm) # denormalization of the measurements outcomes\n",
    "results = np.array(results).reshape(sky_image.shape[0] , sky_image.shape[1])\n",
    "print(results)"
   ]
  },
  {
   "cell_type": "markdown",
   "id": "59f8ac30",
   "metadata": {},
   "source": [
    "## 4) Applying 2D IFT (fidelity test)"
   ]
  },
  {
   "cell_type": "code",
   "execution_count": 10,
   "id": "e18b327f",
   "metadata": {},
   "outputs": [
    {
     "name": "stdout",
     "output_type": "stream",
     "text": [
      "[[7.2362640e+01+7.3188263e+01j 7.2362640e+01+7.3188263e+01j\n",
      "  9.5195770e-03+7.7686310e-03j 7.2362640e+01+7.3188263e+01j]\n",
      " [7.2362640e+01+7.3188263e+01j 3.4098625e-03+6.7868233e-03j\n",
      "  7.2255135e-03+7.8196526e-03j 2.3322105e-03+4.6563148e-03j]\n",
      " [5.7029724e-03+2.0856857e-03j 9.6578598e-03+4.4689178e-03j\n",
      "  3.8414001e-03+4.7683716e-06j 2.4003983e-03+8.6898804e-03j]\n",
      " [7.2362640e+01+7.3188263e+01j 9.0165138e-03+5.5413246e-03j\n",
      "  5.2599907e-03+2.9902458e-03j 9.8900795e-03+4.6029091e-03j]]\n",
      "\n",
      "Reals MSE: 1.9469138e-12\n",
      "Imaginaries MSE: 8.2619095e-13\n"
     ]
    }
   ],
   "source": [
    "img = np.fft.ifft2(results).astype('complex64')\n",
    "print(img)\n",
    "test_real = ((sky_image.real - img.real)**2).mean()\n",
    "test_imag = ((sky_image.imag - img.imag)**2).mean()\n",
    "\n",
    "print()\n",
    "\n",
    "print('Reals MSE: '+ str(test_real))\n",
    "print('Imaginaries MSE: ' + str(test_imag))"
   ]
  },
  {
   "cell_type": "markdown",
   "id": "9fadfdd6",
   "metadata": {},
   "source": [
    "## Utils"
   ]
  },
  {
   "cell_type": "markdown",
   "id": "617273aa",
   "metadata": {},
   "source": [
    "### Quantum"
   ]
  },
  {
   "cell_type": "markdown",
   "id": "416ad687",
   "metadata": {},
   "source": [
    "### Classical"
   ]
  },
  {
   "cell_type": "code",
   "execution_count": 3,
   "id": "b1c860bb",
   "metadata": {},
   "outputs": [],
   "source": [
    "#creates a circular mask over a 2D array\n",
    "def circular_mask(h, w, center=None, radius=None):\n",
    "    if center is None: #image center\n",
    "        center = (int(w/2), int(h/2))\n",
    "    if radius is None: #smallest distance between center and image bounderies\n",
    "        radius = min(center[0], center[1], w-center[0], h-center[1])\n",
    "        \n",
    "    Y, X = np.ogrid[:h, :w]\n",
    "    dist_from_center = np.sqrt((X - center[0])**2 + (Y-center[1])**2)\n",
    "    mask = dist_from_center <= radius\n",
    "    \n",
    "    return mask"
   ]
  },
  {
   "cell_type": "code",
   "execution_count": null,
   "id": "fc3de505",
   "metadata": {},
   "outputs": [],
   "source": []
  }
 ],
 "metadata": {
  "kernelspec": {
   "display_name": "Python 3",
   "language": "python",
   "name": "python3"
  },
  "language_info": {
   "codemirror_mode": {
    "name": "ipython",
    "version": 3
   },
   "file_extension": ".py",
   "mimetype": "text/x-python",
   "name": "python",
   "nbconvert_exporter": "python",
   "pygments_lexer": "ipython3",
   "version": "3.8.8"
  }
 },
 "nbformat": 4,
 "nbformat_minor": 5
}
