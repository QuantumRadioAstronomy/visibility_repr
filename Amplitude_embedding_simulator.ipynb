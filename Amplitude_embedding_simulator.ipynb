{
 "cells": [
  {
   "cell_type": "markdown",
   "id": "b4824755",
   "metadata": {},
   "source": [
    "# Amplitude embedding (simulator)\n",
    "\n",
    "Main steps:\n",
    "\n",
    "* initialize an image of the sky (frequency domain)\n",
    "* apply 2D FT --> visibilities (Fourier domain)\n",
    "* encode visibilities data into qubits using amplitude embedding (non-conventional domain)\n",
    "* measure qubits on simulator --> expected outcomes (back to conventional domain)\n",
    "* apply 2D IFT --> fidelity computation"
   ]
  },
  {
   "cell_type": "code",
   "execution_count": 67,
   "id": "04ee6ebe",
   "metadata": {},
   "outputs": [],
   "source": [
    "import numpy as np\n",
    "import math\n",
    "import sys\n",
    "\n",
    "import pennylane as qml\n",
    "from pennylane import numpy as pnp"
   ]
  },
  {
   "cell_type": "markdown",
   "id": "3bd5e888",
   "metadata": {},
   "source": [
    "## 1) Generating an artificial image of the sky (frequency domain)"
   ]
  },
  {
   "cell_type": "code",
   "execution_count": 68,
   "id": "9af37941",
   "metadata": {},
   "outputs": [
    {
     "name": "stdout",
     "output_type": "stream",
     "text": [
      "[[3.9988861e+00+6.3125386e+00j 3.9988861e+00+6.3125386e+00j\n",
      "  5.5041946e-03+3.4709403e-03j 3.9988861e+00+6.3125386e+00j]\n",
      " [3.9988861e+00+6.3125386e+00j 1.4900982e-03+1.7262183e-03j\n",
      "  9.8942043e-03+6.3721329e-04j 9.0795523e-03+3.5714540e-03j]\n",
      " [8.6654015e-03+4.8104352e-03j 7.8281984e-03+5.5479975e-03j\n",
      "  2.0459113e-03+9.2881862e-03j 5.8600237e-03+6.3649914e-03j]\n",
      " [3.9988861e+00+6.3125386e+00j 4.9103093e-03+3.3015772e-03j\n",
      "  6.7689535e-03+8.2479315e-03j 4.9895532e-03+4.2807129e-03j]]\n"
     ]
    }
   ],
   "source": [
    "#image of the sky filled with double precision complex floats ('complex64')\n",
    "#pixels are set to low complex random values (image background/noise) \n",
    "#few pixels are set to larger complex random values in a specified ellipse area (image source/subject)\n",
    "\n",
    "n = 4\n",
    "image = np.zeros((n, n), dtype='complex64')\n",
    "image.real = np.random.rand(n , n) / 100\n",
    "image.imag = np.random.rand(n , n) / 100\n",
    "\n",
    "h, w = image.shape\n",
    "mask = circular_mask(h, w, radius=h/2)\n",
    "sky_image = image.copy()\n",
    "sky_image[~mask] = complex(np.random.rand() * 100, np.random.rand() * 100)\n",
    "print(sky_image)"
   ]
  },
  {
   "cell_type": "markdown",
   "id": "749432b8",
   "metadata": {},
   "source": [
    "## 2) Applying a 2D FT (Fourier domain)"
   ]
  },
  {
   "cell_type": "code",
   "execution_count": 69,
   "id": "08b6f95d",
   "metadata": {},
   "outputs": [
    {
     "name": "stdout",
     "output_type": "stream",
     "text": [
      "[[ 20.061466 +31.613941j   11.977469 +18.926483j    3.997607  +6.3142004j\n",
      "   11.984752 +18.915081j ]\n",
      " [ 11.967868 +18.91128j     4.0027003 +6.3195047j  -3.995731  -6.313709j\n",
      "    3.9860458 +6.3138366j]\n",
      " [  3.9916573 +6.320256j   -3.9791002 -6.321239j  -11.990325 -18.927965j\n",
      "   -3.983115  -6.301965j ]\n",
      " [ 11.9876585+18.91887j     3.9724586 +6.3115225j  -3.9850788 -6.308798j\n",
      "    3.9858449 +6.309318j ]]\n"
     ]
    }
   ],
   "source": [
    "visibilities = np.fft.fft2(sky_image).astype('complex64')\n",
    "print(visibilities)"
   ]
  },
  {
   "cell_type": "markdown",
   "id": "8558fbb3",
   "metadata": {},
   "source": [
    "#### Sanity check"
   ]
  },
  {
   "cell_type": "code",
   "execution_count": 70,
   "id": "aa7a59e8",
   "metadata": {},
   "outputs": [
    {
     "name": "stdout",
     "output_type": "stream",
     "text": [
      "[[3.9988861e+00+6.3125386e+00j 3.9988861e+00+6.3125386e+00j\n",
      "  5.5041462e-03+3.4709275e-03j 3.9988861e+00+6.3125386e+00j]\n",
      " [3.9988861e+00+6.3125386e+00j 1.4900416e-03+1.7262697e-03j\n",
      "  9.8942220e-03+6.3727796e-04j 9.0796202e-03+3.5713613e-03j]\n",
      " [8.6653382e-03+4.8104227e-03j 7.8280866e-03+5.5480748e-03j\n",
      "  2.0457953e-03+9.2881620e-03j 5.8600605e-03+6.3650459e-03j]\n",
      " [3.9988861e+00+6.3125386e+00j 4.9100965e-03+3.3015311e-03j\n",
      "  6.7688525e-03+8.2479864e-03j 4.9894899e-03+4.2806864e-03j]]\n",
      "\n",
      "Reals MSE: 6.3305243e-15\n",
      "Imaginaries MSE: 1.9448658e-15\n"
     ]
    }
   ],
   "source": [
    "img = np.fft.ifft2(visibilities).astype('complex64')\n",
    "print(img)\n",
    "test_real = ((sky_image.real - img.real)**2).mean()\n",
    "test_imag = ((sky_image.imag - img.imag)**2).mean()\n",
    "\n",
    "print()\n",
    " \n",
    "print('Reals MSE: '+ str(test_real))\n",
    "print('Imaginaries MSE: ' + str(test_imag))"
   ]
  },
  {
   "cell_type": "markdown",
   "id": "ada93768",
   "metadata": {},
   "source": [
    "## 3) Data encoding: amplitude embedding (non-conventional domain)"
   ]
  },
  {
   "cell_type": "code",
   "execution_count": 71,
   "id": "49aa4a9c",
   "metadata": {
    "scrolled": true
   },
   "outputs": [
    {
     "name": "stdout",
     "output_type": "stream",
     "text": [
      "[ 0.30015621+0.47300234j  0.17920484+0.28317478j  0.05981151+0.09447198j\n",
      "  0.17931379+0.28300419j  0.17906117+0.2829473j   0.05988771+0.09455134j\n",
      " -0.05978344-0.09446462j  0.05963853+0.09446654j  0.05972249+0.09456258j\n",
      " -0.05953461-0.09457729j -0.17939718-0.28319696j -0.05959468-0.09428892j\n",
      "  0.17935728+0.28306088j  0.05943524+0.09443191j -0.05962406-0.09439114j\n",
      "  0.05963552+0.09439893j]\n",
      "\n",
      "[[ 20.061466 +31.613941j   11.977469 +18.926483j    3.997607  +6.3142004j\n",
      "   11.984752 +18.915081j ]\n",
      " [ 11.967868 +18.91128j     4.0027003 +6.3195047j  -3.995731  -6.313709j\n",
      "    3.9860458 +6.3138366j]\n",
      " [  3.9916573 +6.320256j   -3.9791002 -6.321239j  -11.990325 -18.927965j\n",
      "   -3.983115  -6.301965j ]\n",
      " [ 11.9876585+18.91887j     3.9724586 +6.3115225j  -3.9850786 -6.308798j\n",
      "    3.9858449 +6.309318j ]]\n"
     ]
    }
   ],
   "source": [
    "# Amplitude embedding encodes a normalized 2^n-dimensional feature vector into the state of n qbits (uses log2(n) qbits for n classical data)\n",
    "n = visibilities.shape[0]*visibilities.shape[1]\n",
    "data = visibilities.flatten()\n",
    "\n",
    "#normalization to prepare a qstate with measurement probabilites summing up to 1 (SUM (amplitudes²) = 1)\n",
    "norm = qml.math.sum(qml.math.abs(data) ** 2)\n",
    "normalized_data = data / qml.math.sqrt(norm)\n",
    "\n",
    "wires = range(int(math.log2(n))) # set the number of qbits (no padding needed if outputs an integer=integer.0)\n",
    "amp_dev = qml.device('default.qubit', wires)\n",
    "\n",
    "@qml.qnode(amp_dev)\n",
    "def amp_encoding(data):\n",
    "    qml.AmplitudeEmbedding(data, wires) # normalize = True\n",
    "    return qml.state() #qml.expval(qml.PauliZ(wires=wires))\n",
    "\n",
    "results = amp_encoding(normalized_data).astype('complex64')\n",
    "print(results)\n",
    "\n",
    "print()\n",
    "\n",
    "results = results*qml.math.sqrt(norm) # denormalization of the measurements outcomes\n",
    "results = np.array(results).reshape(sky_image.shape[0] , sky_image.shape[1])\n",
    "print(results)"
   ]
  },
  {
   "cell_type": "markdown",
   "id": "59f8ac30",
   "metadata": {},
   "source": [
    "## 4) Applying 2D IFT (fidelity test)"
   ]
  },
  {
   "cell_type": "code",
   "execution_count": 72,
   "id": "e18b327f",
   "metadata": {},
   "outputs": [
    {
     "name": "stdout",
     "output_type": "stream",
     "text": [
      "[[3.9988861e+00+6.3125386e+00j 3.9988861e+00+6.3125386e+00j\n",
      "  5.5041611e-03+3.4709275e-03j 3.9988861e+00+6.3125386e+00j]\n",
      " [3.9988861e+00+6.3125386e+00j 1.4900416e-03+1.7262846e-03j\n",
      "  9.8942220e-03+6.3726306e-04j 9.0796202e-03+3.5713762e-03j]\n",
      " [8.6653233e-03+4.8104227e-03j 7.8281015e-03+5.5480748e-03j\n",
      "  2.0457804e-03+9.2881620e-03j 5.8600754e-03+6.3650459e-03j]\n",
      " [3.9988861e+00+6.3125386e+00j 4.9100965e-03+3.3015162e-03j\n",
      "  6.7688525e-03+8.2480013e-03j 4.9894899e-03+4.2806715e-03j]]\n",
      "\n",
      "Reals MSE: 6.5039967e-15\n",
      "Imaginaries MSE: 2.0685733e-15\n"
     ]
    }
   ],
   "source": [
    "img = np.fft.ifft2(results).astype('complex64')\n",
    "print(img)\n",
    "test_real = ((sky_image.real - img.real)**2).mean()\n",
    "test_imag = ((sky_image.imag - img.imag)**2).mean()\n",
    "\n",
    "print()\n",
    "\n",
    "print('Reals MSE: '+ str(test_real))\n",
    "print('Imaginaries MSE: ' + str(test_imag))"
   ]
  },
  {
   "cell_type": "markdown",
   "id": "9fadfdd6",
   "metadata": {},
   "source": [
    "## Utils"
   ]
  },
  {
   "cell_type": "markdown",
   "id": "617273aa",
   "metadata": {},
   "source": [
    "### Quantum"
   ]
  },
  {
   "cell_type": "markdown",
   "id": "416ad687",
   "metadata": {},
   "source": [
    "### Classical"
   ]
  },
  {
   "cell_type": "code",
   "execution_count": 73,
   "id": "b1c860bb",
   "metadata": {},
   "outputs": [],
   "source": [
    "#creates a circular mask over a 2D array\n",
    "def circular_mask(h, w, center=None, radius=None):\n",
    "    if center is None: #image center\n",
    "        center = (int(w/2), int(h/2))\n",
    "    if radius is None: #smallest distance between center and image bounderies\n",
    "        radius = min(center[0], center[1], w-center[0], h-center[1])\n",
    "        \n",
    "    Y, X = np.ogrid[:h, :w]\n",
    "    dist_from_center = np.sqrt((X - center[0])**2 + (Y-center[1])**2)\n",
    "    mask = dist_from_center <= radius\n",
    "    \n",
    "    return mask"
   ]
  },
  {
   "cell_type": "code",
   "execution_count": null,
   "id": "fc3de505",
   "metadata": {},
   "outputs": [],
   "source": []
  }
 ],
 "metadata": {
  "kernelspec": {
   "display_name": "Python 3",
   "language": "python",
   "name": "python3"
  },
  "language_info": {
   "codemirror_mode": {
    "name": "ipython",
    "version": 3
   },
   "file_extension": ".py",
   "mimetype": "text/x-python",
   "name": "python",
   "nbconvert_exporter": "python",
   "pygments_lexer": "ipython3",
   "version": "3.8.8"
  }
 },
 "nbformat": 4,
 "nbformat_minor": 5
}
