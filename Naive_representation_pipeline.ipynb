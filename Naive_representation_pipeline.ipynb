{
 "cells": [
  {
   "cell_type": "markdown",
   "id": "2a6105cd",
   "metadata": {},
   "source": [
    "# Naive representation pipeline\n",
    "\n",
    "Main steps:\n",
    "\n",
    "* input: image of the sky (frequency domain)\n",
    "* apply 2D Fourier transform --> visibilities (Fourier domain)\n",
    "* encode classical visibilities data into qbits (non-conventional domain)\n",
    "* measure qbits (back to conventional domain)\n",
    "* apply 2D Inverse Fourier transform --> original image?"
   ]
  },
  {
   "cell_type": "code",
   "execution_count": 46,
   "id": "ad6cbc81",
   "metadata": {},
   "outputs": [],
   "source": [
    "import numpy as np\n",
    "import sys\n",
    "import qiskit\n",
    "from qiskit import *\n",
    "from qiskit.visualization import plot_histogram\n",
    "import struct"
   ]
  },
  {
   "cell_type": "markdown",
   "id": "d6af5b75",
   "metadata": {},
   "source": [
    "## Generating an artificial image of the sky"
   ]
  },
  {
   "cell_type": "code",
   "execution_count": 47,
   "id": "517eeac8",
   "metadata": {},
   "outputs": [
    {
     "name": "stdout",
     "output_type": "stream",
     "text": [
      "[[1.16195438e-03+2.97003258e-03j 9.71314411e-04+1.16207750e-03j\n",
      "  4.49647779e-03+4.23586972e-03j 9.65850907e-03+5.21884115e-03j]\n",
      " [6.18517190e-03+2.54055661e-03j 1.00585221e+04+1.00324746e+04j\n",
      "  1.00921342e+04+1.00643031e+04j 6.99787129e-03+7.78623404e-03j]\n",
      " [6.89846435e-03+6.91549800e-03j 1.00816718e+04+1.00960228e+04j\n",
      "  1.00453892e+04+1.00377905e+04j 3.82782106e-03+2.48224924e-03j]\n",
      " [5.57713909e-03+1.39341030e-03j 6.42264351e-03+5.14206165e-03j\n",
      "  7.86788081e-03+9.41347893e-03j 2.23740100e-03+3.22370594e-03j]]\n"
     ]
    }
   ],
   "source": [
    "n = 4\n",
    "#setting very low complex random values (image background) - single precision complex floats\n",
    "image = np.zeros((n, n), dtype=complex)\n",
    "image.real = np.random.rand(n , n) / 100\n",
    "image.imag = np.random.rand(n , n) / 100\n",
    "\n",
    "#setting few larger complex random values in a specific area (image source/subject)\n",
    "source_middle = int(n/2)\n",
    "source_radius = int(n/4)\n",
    "image[source_middle-source_radius:source_middle+source_radius, source_middle-source_radius:source_middle+source_radius].real = ((np.random.rand(int(n/2), int(n/2)) +100) * 100)\n",
    "image[source_middle-source_radius:source_middle+source_radius, source_middle-source_radius:source_middle+source_radius].imag = ((np.random.rand(int(n/2), int(n/2)) +100) * 100)\n",
    "\n",
    "print(image)"
   ]
  },
  {
   "cell_type": "markdown",
   "id": "37d98bdc",
   "metadata": {},
   "source": [
    "## Applying 2D Fourier transform (visibilities)"
   ]
  },
  {
   "cell_type": "code",
   "execution_count": 48,
   "id": "77e72e60",
   "metadata": {},
   "outputs": [
    {
     "name": "stdout",
     "output_type": "stream",
     "text": [
      "[[ 4.02777796e+04+4.02306435e+04j -9.03084355e+00-4.02422720e+04j\n",
      "  -2.66849571e+00-2.64013921e+01j -4.02660009e+04+3.80851505e+01j]\n",
      " [-3.02865766e+01-4.02844565e+04j -2.01734489e+04+2.01791198e+04j\n",
      "   6.80954151e+01+2.46221763e+01j  2.01356217e+04+2.00806963e+04j]\n",
      " [-2.36035262e+01+3.70291201e+01j  1.10292225e+02+3.38362077e+00j\n",
      "  -6.99006757e+01-9.00527008e+01j -1.68028310e+01+4.96637661e+01j]\n",
      " [-4.02238243e+04+1.68381774e+01j  2.00721579e+04+2.00597983e+04j\n",
      "   4.45387083e+00+9.18352164e+01j  2.01471850e+04-2.01684850e+04j]]\n"
     ]
    }
   ],
   "source": [
    "visibilities = np.fft.fft2(image)\n",
    "print(visibilities)"
   ]
  },
  {
   "cell_type": "markdown",
   "id": "54b17cf9",
   "metadata": {},
   "source": [
    "### Sanity check"
   ]
  },
  {
   "cell_type": "code",
   "execution_count": 61,
   "id": "6f6306ea",
   "metadata": {},
   "outputs": [
    {
     "name": "stdout",
     "output_type": "stream",
     "text": [
      "[[1.16195438e-03+2.97003258e-03j 9.71314412e-04+1.16207750e-03j\n",
      "  4.49647780e-03+4.23586972e-03j 9.65850907e-03+5.21884115e-03j]\n",
      " [6.18517189e-03+2.54055661e-03j 1.00585221e+04+1.00324746e+04j\n",
      "  1.00921342e+04+1.00643031e+04j 6.99787129e-03+7.78623404e-03j]\n",
      " [6.89846435e-03+6.91549800e-03j 1.00816718e+04+1.00960228e+04j\n",
      "  1.00453892e+04+1.00377905e+04j 3.82782106e-03+2.48224924e-03j]\n",
      " [5.57713909e-03+1.39341030e-03j 6.42264351e-03+5.14206165e-03j\n",
      "  7.86788081e-03+9.41347894e-03j 2.23740100e-03+3.22370594e-03j]]\n",
      "\n",
      "6.027991610064458e-25\n",
      "1.1511156345466998e-24\n"
     ]
    }
   ],
   "source": [
    "img = np.fft.ifft2(visibilities)\n",
    "print(img)\n",
    "test_real = ((image.real - img.real)**2).mean()\n",
    "test_imag = ((image.imag - img.imag)**2).mean()\n",
    "\n",
    "print()\n",
    " \n",
    "print(test_real)\n",
    "print(test_imag)"
   ]
  },
  {
   "cell_type": "markdown",
   "id": "56a9e4a5",
   "metadata": {},
   "source": [
    "## Classical data encoding/decoding"
   ]
  },
  {
   "cell_type": "code",
   "execution_count": 66,
   "id": "3a57bccb",
   "metadata": {},
   "outputs": [
    {
     "name": "stdout",
     "output_type": "stream",
     "text": [
      "[[ 4.02777812e+04+4.02306445e+04j -9.03084373e+00-4.02422734e+04j\n",
      "  -2.66849566e+00-2.64013920e+01j -4.02660000e+04+3.80851517e+01j]\n",
      " [-3.02865772e+01-4.02844570e+04j -2.01734492e+04+2.01791191e+04j\n",
      "   6.80954132e+01+2.46221771e+01j  2.01356211e+04+2.00806953e+04j]\n",
      " [-2.36035271e+01+3.70291214e+01j  1.10292229e+02+3.38362074e+00j\n",
      "  -6.99006729e+01-9.00527039e+01j -1.68028316e+01+4.96637650e+01j]\n",
      " [-4.02238242e+04+1.68381767e+01j  2.00721582e+04+2.00597988e+04j\n",
      "   4.45387077e+00+9.18352127e+01j  2.01471855e+04-2.01684844e+04j]]\n"
     ]
    }
   ],
   "source": [
    "number_of_entries = visibilities.shape[0] * visibilities.shape[1]\n",
    "number_of_bits_real = 32 #since single precision complex floats\n",
    "number_of_bits_imag = 32\n",
    "number_of_bits = number_of_bits_real + number_of_bits_imag\n",
    "off_set = 0\n",
    "\n",
    "qc = QuantumCircuit(number_of_entries*number_of_bits) #n bits encoded into n qbits (circuit family #1)\n",
    "for i in range(0, visibilities.shape[0]):\n",
    "    for j in range(0, visibilities.shape[1]):\n",
    "            binary_real = float_to_bin_real(visibilities[i, j].real)\n",
    "            binary_imag = float_to_bin_imag(visibilities[i, j].imag)\n",
    "            binary = binary_real+binary_imag\n",
    "            off_set = encoding2(qc, binary, off_set)\n",
    "\n",
    "#measurement\n",
    "qc.measure_all()\n",
    "backend = Aer.get_backend('aer_simulator')\n",
    "job = backend.run(qc, shots=1, memory=True)\n",
    "output = job.result().get_memory()[0]\n",
    "out = reverse(output)\n",
    "\n",
    "#readout\n",
    "chunks_real = []\n",
    "chunks_imag = []\n",
    "for i in range(0, number_of_entries):\n",
    "    chunks_real.append(out[number_of_bits*i:(number_of_bits*i)+number_of_bits_real]) #real parts represented every 64 bits starting from the first one\n",
    "    chunks_imag.append(out[(number_of_bits*i)+number_of_bits_imag:(number_of_bits*i)+number_of_bits_imag+number_of_bits_imag]) #imaginary parts represented every 64 bits starting after the first occurence of a real part  \n",
    "readout = []\n",
    "for i in range(0, len(chunks_real)):\n",
    "    readout.append(complex(bin_to_float_real(chunks_real[i]), bin_to_float_imag(chunks_imag[i]))) \n",
    "\n",
    "#reshaping the readout vector into a nxn matrix\n",
    "readout = np.array(readout).reshape(n , n)\n",
    "print(readout)"
   ]
  },
  {
   "cell_type": "markdown",
   "id": "2f5fd4fd",
   "metadata": {},
   "source": [
    "## Applying 2D Inverse Fourier transform (+ fidelity test)"
   ]
  },
  {
   "cell_type": "code",
   "execution_count": 67,
   "id": "6aa9775a",
   "metadata": {},
   "outputs": [
    {
     "name": "stdout",
     "output_type": "stream",
     "text": [
      "[[1.32629275e-03+2.88113952e-03j 1.15710497e-03+1.12903118e-03j\n",
      "  4.55400348e-03+4.38037515e-03j 9.69433784e-03+5.30898571e-03j]\n",
      " [6.55981898e-03+2.39744782e-03j 1.00585223e+04+1.00324746e+04j\n",
      "  1.00921341e+04+1.00643033e+04j 7.08490610e-03+7.92038441e-03j]\n",
      " [7.06216693e-03+6.95094466e-03j 1.00816720e+04+1.00960229e+04j\n",
      "  1.00453892e+04+1.00377907e+04j 3.82542610e-03+2.63249874e-03j]\n",
      " [5.52937388e-03+1.48382783e-03j 6.61897659e-03+5.16998768e-03j\n",
      "  8.05947185e-03+9.45839286e-03j 2.18445063e-03+3.32987309e-03j]]\n",
      "\n",
      "2.5575246394798197e-08\n",
      "1.3372947278057183e-08\n"
     ]
    }
   ],
   "source": [
    "img = np.fft.ifft2(readout)\n",
    "print(img)\n",
    "test_real = ((image.real - img.real)**2).mean()\n",
    "test_imag = ((image.imag - img.imag)**2).mean()\n",
    "\n",
    "print()\n",
    "\n",
    "print(test_real)\n",
    "print(test_imag)"
   ]
  },
  {
   "cell_type": "markdown",
   "id": "728a6fdf",
   "metadata": {},
   "source": [
    "## Utils"
   ]
  },
  {
   "cell_type": "markdown",
   "id": "051da409",
   "metadata": {},
   "source": [
    "### Quantum"
   ]
  },
  {
   "cell_type": "code",
   "execution_count": 68,
   "id": "ce856250",
   "metadata": {},
   "outputs": [],
   "source": [
    "def encoding2(qc, binary, off_set):\n",
    "    \n",
    "    for i in range(0, len(binary)):\n",
    "        qc.reset(off_set+i)\n",
    "\n",
    "        if binary[i]=='1':\n",
    "            qc.x(off_set+i)\n",
    "    \n",
    "    off_set += len(binary)\n",
    "\n",
    "    return off_set"
   ]
  },
  {
   "cell_type": "markdown",
   "id": "5d0bb1e7",
   "metadata": {},
   "source": [
    "### Classical"
   ]
  },
  {
   "cell_type": "code",
   "execution_count": 69,
   "id": "253aa61f",
   "metadata": {},
   "outputs": [],
   "source": [
    "#float to binary / binary to float\n",
    "def float_to_bin_real(num):\n",
    "    return format(struct.unpack('!I', struct.pack('!f', num))[0], '032b')\n",
    "def float_to_bin_imag(num):\n",
    "    return format(struct.unpack('!I', struct.pack('!f', num))[0], '032b')\n",
    "\n",
    "def bin_to_float_real(binary):\n",
    "    return struct.unpack('!f',struct.pack('!I', int(binary, 2)))[0]\n",
    "def bin_to_float_imag(binary):\n",
    "    return struct.unpack('!f',struct.pack('!I', int(binary, 2)))[0]\n",
    "\n",
    "#reverse a string (for the measurement step readout)\n",
    "def reverse(string):\n",
    "    string = string[::-1]\n",
    "    return string"
   ]
  },
  {
   "cell_type": "code",
   "execution_count": null,
   "id": "89814280",
   "metadata": {},
   "outputs": [],
   "source": []
  }
 ],
 "metadata": {
  "kernelspec": {
   "display_name": "Python 3",
   "language": "python",
   "name": "python3"
  },
  "language_info": {
   "codemirror_mode": {
    "name": "ipython",
    "version": 3
   },
   "file_extension": ".py",
   "mimetype": "text/x-python",
   "name": "python",
   "nbconvert_exporter": "python",
   "pygments_lexer": "ipython3",
   "version": "3.8.8"
  }
 },
 "nbformat": 4,
 "nbformat_minor": 5
}
