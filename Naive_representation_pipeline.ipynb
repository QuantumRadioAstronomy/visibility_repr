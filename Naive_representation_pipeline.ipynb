{
 "cells": [
  {
   "cell_type": "markdown",
   "id": "2a6105cd",
   "metadata": {},
   "source": [
    "# Naive representation pipeline\n",
    "\n",
    "Main steps:\n",
    "\n",
    "* input: image of the sky (frequency domain)\n",
    "* apply 2D Fourier transform --> visibilities (Fourier domain)\n",
    "* encode classical visibilities data into qbits (non-conventional domain)\n",
    "* measure qbits (back to conventional domain)\n",
    "* apply 2D Inverse Fourier transform --> original image?"
   ]
  },
  {
   "cell_type": "code",
   "execution_count": 10,
   "id": "ad6cbc81",
   "metadata": {},
   "outputs": [],
   "source": [
    "import numpy as np\n",
    "import sys\n",
    "import struct\n",
    "\n",
    "import qiskit\n",
    "from qiskit import *\n",
    "from qiskit.visualization import plot_histogram\n",
    "\n",
    "import pennylane as qml\n",
    "from pennylane.optimize import AdamOptimizer, GradientDescentOptimizer"
   ]
  },
  {
   "cell_type": "markdown",
   "id": "d6af5b75",
   "metadata": {},
   "source": [
    "## Generating an artificial image of the sky"
   ]
  },
  {
   "cell_type": "code",
   "execution_count": 11,
   "id": "517eeac8",
   "metadata": {},
   "outputs": [
    {
     "name": "stdout",
     "output_type": "stream",
     "text": [
      "[[4.41553215e+01+9.37772404e+01j 4.41553215e+01+9.37772404e+01j\n",
      "  5.78722914e-03+6.81361413e-03j 4.41553215e+01+9.37772404e+01j]\n",
      " [4.41553215e+01+9.37772404e+01j 7.36448987e-03+5.17846301e-03j\n",
      "  7.10335715e-03+4.92891279e-03j 9.62911201e-03+8.98273493e-03j]\n",
      " [1.80833179e-03+6.01629661e-03j 5.13319494e-03+1.34600094e-03j\n",
      "  5.27209078e-03+2.69728243e-03j 8.69603582e-03+5.97537684e-03j]\n",
      " [4.41553215e+01+9.37772404e+01j 2.35026649e-03+5.10027464e-03j\n",
      "  9.43633908e-03+8.33385268e-04j 7.88972659e-03+9.25953112e-03j]]\n"
     ]
    }
   ],
   "source": [
    "#image of the sky filled with single precision complex floats\n",
    "#pixels are set to low complex random values (image background) \n",
    "#few pixels are set to larger complex random values in a specified ellipse area (image source/subject)\n",
    "\n",
    "n = 4\n",
    "image = np.zeros((n, n), dtype=complex)\n",
    "image.real = np.random.rand(n , n) / 100\n",
    "image.imag = np.random.rand(n , n) / 100\n",
    "\n",
    "h, w = image.shape\n",
    "mask = circular_mask(h, w, radius=h/2)\n",
    "sky_image = image.copy()\n",
    "sky_image[~mask] = complex(np.random.rand() * 100, np.random.rand() * 100)\n",
    "print(sky_image)"
   ]
  },
  {
   "cell_type": "markdown",
   "id": "37d98bdc",
   "metadata": {},
   "source": [
    "## Applying 2D Fourier transform (visibilities)"
   ]
  },
  {
   "cell_type": "code",
   "execution_count": 12,
   "id": "77e72e60",
   "metadata": {},
   "outputs": [
    {
     "name": "stdout",
     "output_type": "stream",
     "text": [
      "[[ 220.8470775 +468.94333406j  132.42758081+281.33383134j\n",
      "    44.14366599 +93.76268755j  132.45276661+281.31109749j]\n",
      " [ 132.45473889+281.31807934j   44.15025701 +93.760857j\n",
      "   -44.13849129 -93.76273243j   44.14754793 +93.76869265j]\n",
      " [  44.13824506 +93.76580571j  -44.1446986  -93.77921398j\n",
      "  -132.45623208-281.30075679j  -44.15136691 -93.7707315j ]\n",
      " [ 132.44694505+281.3269206j    44.16499774 +93.76623293j\n",
      "   -44.14707956 -93.78090561j   44.14918931 +93.77264865j]]\n"
     ]
    }
   ],
   "source": [
    "visibilities = np.fft.fft2(sky_image)\n",
    "print(visibilities)"
   ]
  },
  {
   "cell_type": "markdown",
   "id": "54b17cf9",
   "metadata": {},
   "source": [
    "### Sanity check"
   ]
  },
  {
   "cell_type": "code",
   "execution_count": 13,
   "id": "6f6306ea",
   "metadata": {},
   "outputs": [
    {
     "name": "stdout",
     "output_type": "stream",
     "text": [
      "[[4.41553215e+01+9.37772404e+01j 4.41553215e+01+9.37772404e+01j\n",
      "  5.78722914e-03+6.81361413e-03j 4.41553215e+01+9.37772404e+01j]\n",
      " [4.41553215e+01+9.37772404e+01j 7.36448987e-03+5.17846301e-03j\n",
      "  7.10335715e-03+4.92891279e-03j 9.62911201e-03+8.98273493e-03j]\n",
      " [1.80833179e-03+6.01629661e-03j 5.13319494e-03+1.34600094e-03j\n",
      "  5.27209078e-03+2.69728243e-03j 8.69603582e-03+5.97537684e-03j]\n",
      " [4.41553215e+01+9.37772404e+01j 2.35026649e-03+5.10027464e-03j\n",
      "  9.43633908e-03+8.33385268e-04j 7.88972659e-03+9.25953112e-03j]]\n",
      "\n",
      "Reals MSE: 1.315378298764437e-29\n",
      "Imaginaries MSE: 5.577287105625867e-29\n"
     ]
    }
   ],
   "source": [
    "img = np.fft.ifft2(visibilities)\n",
    "print(img)\n",
    "test_real = ((sky_image.real - img.real)**2).mean()\n",
    "test_imag = ((sky_image.imag - img.imag)**2).mean()\n",
    "\n",
    "print()\n",
    " \n",
    "print('Reals MSE: '+ str(test_real))\n",
    "print('Imaginaries MSE: ' + str(test_imag))"
   ]
  },
  {
   "cell_type": "markdown",
   "id": "56a9e4a5",
   "metadata": {},
   "source": [
    "## Classical data encoding/decoding"
   ]
  },
  {
   "cell_type": "code",
   "execution_count": 14,
   "id": "3a57bccb",
   "metadata": {},
   "outputs": [
    {
     "name": "stdout",
     "output_type": "stream",
     "text": [
      "[[ 220.84707642+468.94332886j  132.42758179+281.33383179j\n",
      "    44.14366531 +93.76268768j  132.45277405+281.31109619j]\n",
      " [ 132.45474243+281.31808472j   44.15025711 +93.76085663j\n",
      "   -44.13849258 -93.76273346j   44.14754868 +93.76869202j]\n",
      " [  44.13824463 +93.76580811j  -44.1446991  -93.77921295j\n",
      "  -132.45623779-281.30075073j  -44.15136719 -93.77072906j]\n",
      " [ 132.44694519+281.32693481j   44.1649971  +93.76623535j\n",
      "   -44.14707947 -93.78090668j   44.149189   +93.77265167j]]\n"
     ]
    }
   ],
   "source": [
    "number_of_entries = visibilities.shape[0] * visibilities.shape[1]\n",
    "number_of_bits_real = 32 #since single precision complex floats\n",
    "number_of_bits_imag = 32\n",
    "number_of_bits = number_of_bits_real + number_of_bits_imag\n",
    "off_set = 0\n",
    "\n",
    "qc = QuantumCircuit(number_of_entries*number_of_bits) #n bits encoded into n qbits (circuit family #1)\n",
    "for i in range(0, visibilities.shape[0]):\n",
    "    for j in range(0, visibilities.shape[1]):\n",
    "            binary_real = float_to_bin_real(visibilities[i, j].real)\n",
    "            binary_imag = float_to_bin_imag(visibilities[i, j].imag)\n",
    "            binary = binary_real+binary_imag\n",
    "            off_set = encoding2(qc, binary, off_set)\n",
    "\n",
    "#measurement\n",
    "qc.measure_all()\n",
    "backend = Aer.get_backend('aer_simulator')\n",
    "job = backend.run(qc, shots=1, memory=True)\n",
    "output = job.result().get_memory()[0]\n",
    "out = reverse(output)\n",
    "\n",
    "#readout\n",
    "chunks_real = []\n",
    "chunks_imag = []\n",
    "for i in range(0, number_of_entries):\n",
    "    chunks_real.append(out[number_of_bits*i:(number_of_bits*i)+number_of_bits_real]) #real parts represented every 64 bits starting from the first one\n",
    "    chunks_imag.append(out[(number_of_bits*i)+number_of_bits_imag:(number_of_bits*i)+number_of_bits_imag+number_of_bits_imag]) #imaginary parts represented every 64 bits starting after the first occurence of a real part  \n",
    "readout = []\n",
    "for i in range(0, len(chunks_real)):\n",
    "    readout.append(complex(bin_to_float_real(chunks_real[i]), bin_to_float_imag(chunks_imag[i]))) \n",
    "\n",
    "#reshaping the readout vector into a nxn matrix\n",
    "readout = np.array(readout).reshape(n , n)\n",
    "print(readout)"
   ]
  },
  {
   "cell_type": "markdown",
   "id": "2f5fd4fd",
   "metadata": {},
   "source": [
    "## Applying 2D Inverse Fourier transform (+ fidelity test)"
   ]
  },
  {
   "cell_type": "code",
   "execution_count": 15,
   "id": "6aa9775a",
   "metadata": {},
   "outputs": [
    {
     "name": "stdout",
     "output_type": "stream",
     "text": [
      "[[4.41553216e+01+9.37772422e+01j 4.41553221e+01+9.37772408e+01j\n",
      "  5.78641891e-03+6.81447983e-03j 4.41553221e+01+9.37772417e+01j]\n",
      " [4.41553233e+01+9.37772396e+01j 7.36451149e-03+5.17821312e-03j\n",
      "  7.10320473e-03+4.92835045e-03j 9.62948799e-03+8.98337364e-03j]\n",
      " [1.80816650e-03+6.01530075e-03j 5.13315201e-03+1.34372711e-03j\n",
      "  5.27095795e-03+2.69651413e-03j 8.69607925e-03+5.97381592e-03j]\n",
      " [4.41553214e+01+9.37772391e+01j 2.34913826e-03+5.09953499e-03j\n",
      "  9.43589211e-03+8.32796097e-04j 7.88903236e-03+9.25946236e-03j]]\n",
      "\n",
      "Reals MSE: 5.069035062015934e-13\n",
      "Imaginaries MSE: 1.1865125739449887e-12\n"
     ]
    }
   ],
   "source": [
    "img = np.fft.ifft2(readout)\n",
    "print(img)\n",
    "test_real = ((sky_image.real - img.real)**2).mean()\n",
    "test_imag = ((sky_image.imag - img.imag)**2).mean()\n",
    "\n",
    "print()\n",
    "\n",
    "print('Reals MSE: '+ str(test_real))\n",
    "print('Imaginaries MSE: ' + str(test_imag))"
   ]
  },
  {
   "cell_type": "markdown",
   "id": "728a6fdf",
   "metadata": {},
   "source": [
    "## Utils"
   ]
  },
  {
   "cell_type": "markdown",
   "id": "051da409",
   "metadata": {},
   "source": [
    "### Quantum"
   ]
  },
  {
   "cell_type": "code",
   "execution_count": 16,
   "id": "ce856250",
   "metadata": {},
   "outputs": [],
   "source": [
    "def encoding2(qc, binary, off_set):\n",
    "    \n",
    "    for i in range(0, len(binary)):\n",
    "        qc.reset(off_set+i)\n",
    "\n",
    "        if binary[i]=='1':\n",
    "            qc.x(off_set+i)\n",
    "    \n",
    "    off_set += len(binary)\n",
    "\n",
    "    return off_set"
   ]
  },
  {
   "cell_type": "markdown",
   "id": "5d0bb1e7",
   "metadata": {},
   "source": [
    "### Classical"
   ]
  },
  {
   "cell_type": "code",
   "execution_count": 17,
   "id": "253aa61f",
   "metadata": {},
   "outputs": [],
   "source": [
    "#float to binary / binary to float\n",
    "def float_to_bin_real(num):\n",
    "    return format(struct.unpack('!I', struct.pack('!f', num))[0], '032b')\n",
    "def float_to_bin_imag(num):\n",
    "    return format(struct.unpack('!I', struct.pack('!f', num))[0], '032b')\n",
    "\n",
    "def bin_to_float_real(binary):\n",
    "    return struct.unpack('!f',struct.pack('!I', int(binary, 2)))[0]\n",
    "def bin_to_float_imag(binary):\n",
    "    return struct.unpack('!f',struct.pack('!I', int(binary, 2)))[0]\n",
    "\n",
    "#reverse a string (for the measurement step readout)\n",
    "def reverse(string):\n",
    "    string = string[::-1]\n",
    "    return string\n",
    "\n",
    "#creates a circular mask over a 2D array\n",
    "def circular_mask(h, w, center=None, radius=None):\n",
    "    if center is None: #image center\n",
    "        center = (int(w/2), int(h/2))\n",
    "    if radius is None: #smallest distance between center and image bounderies\n",
    "        radius = min(center[0], center[1], w-center[0], h-center[1])\n",
    "        \n",
    "    Y, X = np.ogrid[:h, :w]\n",
    "    dist_from_center = np.sqrt((X - center[0])**2 + (Y-center[1])**2)\n",
    "    mask = dist_from_center <= radius\n",
    "    \n",
    "    return mask"
   ]
  },
  {
   "cell_type": "code",
   "execution_count": null,
   "id": "16cce23f",
   "metadata": {},
   "outputs": [],
   "source": []
  }
 ],
 "metadata": {
  "kernelspec": {
   "display_name": "Python 3",
   "language": "python",
   "name": "python3"
  },
  "language_info": {
   "codemirror_mode": {
    "name": "ipython",
    "version": 3
   },
   "file_extension": ".py",
   "mimetype": "text/x-python",
   "name": "python",
   "nbconvert_exporter": "python",
   "pygments_lexer": "ipython3",
   "version": "3.8.8"
  }
 },
 "nbformat": 4,
 "nbformat_minor": 5
}
