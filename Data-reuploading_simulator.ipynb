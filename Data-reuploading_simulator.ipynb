{
 "cells": [
  {
   "cell_type": "markdown",
   "id": "2f4f69af",
   "metadata": {},
   "source": [
    "# Data-reuploading (simulator)\n",
    "\n",
    "Main steps:\n",
    "\n",
    "* initialize an image of the sky (frequency domain)\n",
    "* apply 2D FT --> visibilities (Fourier domain)\n",
    "* encode visibilities data onto a single qubit using data-reuploading for the source-finding problem (non-conventional domain)\n",
    "* training + testing phases\n",
    "\n",
    "Data-reuploading:\n",
    "\n",
    "* [paper](https://arxiv.org/abs/1907.02085)\n",
    "* [PennyLane documentation](https://pennylane.ai/qml/demos/tutorial_data_reuploading_classifier.html)\n",
    "* [tutorial](https://github.com/NLESC-quantum/quantum_comp/blob/main/pulsar_search/ml/reupload/tutorial_data_reuploading_classifier.ipynb)"
   ]
  },
  {
   "cell_type": "code",
   "execution_count": 1,
   "id": "486618fa",
   "metadata": {},
   "outputs": [],
   "source": [
    "import numpy as np\n",
    "import matplotlib.pyplot as plt\n",
    "import random\n",
    "from tqdm import tqdm\n",
    "\n",
    "import pennylane as qml\n",
    "from pennylane import numpy as pnp\n",
    "from pennylane.optimize import AdamOptimizer, GradientDescentOptimizer"
   ]
  },
  {
   "cell_type": "markdown",
   "id": "411d56a3",
   "metadata": {},
   "source": [
    "## 1) Generating an artificial image of the sky (frequency domain)"
   ]
  },
  {
   "cell_type": "code",
   "execution_count": 2,
   "id": "c166b680",
   "metadata": {},
   "outputs": [
    {
     "name": "stdout",
     "output_type": "stream",
     "text": [
      "[[-1.39007866e-02-1.4056873e-02j -2.52042967e-03-5.8649452e-03j\n",
      "  -1.07495263e-02-2.2875983e-03j -1.51889808e-02+8.1646089e-03j\n",
      "   8.88956990e-03+5.2100988e-03j -5.43225044e-03-2.0594308e-03j\n",
      "  -8.92363489e-03+4.4837389e-03j  6.78306352e-03-3.8949321e-03j\n",
      "   1.48276752e-02+6.9471211e-03j  1.17477207e-02+4.0924549e-03j]\n",
      " [ 5.18598862e+01+5.4083229e+01j -2.60457140e-03-2.0570334e-02j\n",
      "   9.70048888e-04-3.5170957e-03j  1.14045525e-02+6.5402291e-03j\n",
      "  -4.67568776e-03+8.3964097e-04j  1.51781151e-02-9.7487802e-03j\n",
      "   3.36505403e-03+8.7484568e-03j -6.90808473e-03+1.3444545e-03j\n",
      "   4.58371315e+01+3.9906521e+01j -8.27468559e-03+3.9258057e-06j]\n",
      " [ 4.53263242e-03-2.5679823e-03j -1.08058313e-02+1.4629643e-02j\n",
      "   2.43316335e-03+8.2822591e-03j  1.78762048e-03-2.9369630e-02j\n",
      "  -9.77590866e-03+6.1124703e-03j -2.45293207e-03+1.2455495e-02j\n",
      "   1.33855091e-02-1.7389989e-02j -2.57388782e-03+8.7039797e-03j\n",
      "   1.32587962e-02-1.2117226e-03j  2.08694092e-03-2.4572946e-03j]\n",
      " [ 1.14558237e-02-3.1491611e-03j  9.08929761e-03-1.0912696e-02j\n",
      "  -1.36861706e-03-5.5491901e-03j -6.19130488e-03+1.1839798e-02j\n",
      "   3.31720524e-03+2.2306836e-04j  8.34390428e-03+1.1523479e-02j\n",
      "   6.52931366e+01+3.6113247e+01j -5.29193087e-03-1.3172407e-02j\n",
      "   3.05562513e-03-5.4631154e-03j  7.66511541e-03-2.3452966e-03j]\n",
      " [ 1.17581291e-02-2.0005163e-02j  1.80391711e-03-7.5549856e-03j\n",
      "   3.67714577e+01+3.8791977e+01j  9.48728900e-03+4.7149197e-03j\n",
      "   3.26279696e-04+2.3752900e-03j  1.05173793e-02-2.6104936e-02j\n",
      "   2.21744995e-03+8.9131249e-03j  1.69231801e-03-3.3146739e-02j\n",
      "  -1.48258742e-03+4.0248050e-03j  1.46064144e-02-7.5567979e-03j]\n",
      " [-3.56146856e-03-1.2025316e-02j -1.35902334e-02-5.0181411e-03j\n",
      "   1.24160768e-02-5.7901330e-03j -2.65253615e-03-1.4746788e-02j\n",
      "   1.76735185e-02+1.7433308e-02j  9.42236481e+01+6.8102005e+01j\n",
      "   6.64774748e-03+6.3962233e-03j -5.03661251e-03-8.2065957e-03j\n",
      "   2.20767618e-03-7.0105875e-03j  4.01069829e-03-1.8497733e-04j]\n",
      " [-6.90101227e-03+3.3395048e-03j -1.74106676e-02+5.7562306e-03j\n",
      "  -1.21189188e-02-9.6463272e-03j -1.19067077e-02-3.6712822e-03j\n",
      "   1.42696789e-02-1.8119541e-03j  2.54464931e+01+6.2907883e+01j\n",
      "   7.16762291e-03-2.0429291e-02j  5.45309467e-06-6.4405343e-03j\n",
      "   1.57978781e-03+8.2102958e-03j  9.32522304e-03+7.9003563e-03j]\n",
      " [-1.34458821e-02-1.8363429e-02j -1.40406284e-03+7.6953013e-04j\n",
      "  -8.67824536e-03-2.7363093e-03j -1.53640276e-02-1.8890103e-02j\n",
      "  -7.48009467e-03-1.1085415e-02j  9.04324185e-03-7.5068390e-03j\n",
      "   1.80057148e-04+4.0924554e-03j -4.98164026e-03+6.2928912e-03j\n",
      "  -1.13722067e-02-9.4454149e-03j -2.27235141e-03-1.0004882e-02j]\n",
      " [-2.93899071e-03+1.7300421e-02j -1.96707458e-03-8.7079806e-03j\n",
      "   1.57283173e+01+3.9074718e+01j  8.66246130e-03-7.3451595e-03j\n",
      "   1.71000825e-03-6.1020808e-04j  4.45347792e-03-6.6235843e-03j\n",
      "  -2.96404939e-02+3.1997747e-04j  2.77583185e-03-6.4011514e-03j\n",
      "  -1.17155388e-02+9.8349694e-03j  2.57151132e-03+9.1808429e-04j]\n",
      " [ 7.40378676e-03-2.2302992e-03j  7.52296625e-03+1.1427787e-02j\n",
      "  -1.66287366e-02-6.4343675e-03j -2.56987847e-02+8.6909728e-03j\n",
      "  -2.78944848e-03+1.8402195e-02j -1.63833913e-03+8.7932348e-03j\n",
      "  -2.02373918e-02+1.4330326e-02j -1.40058324e-02-9.6306121e-03j\n",
      "   7.49358954e-03+1.4925469e-03j  3.82518256e-03+8.0167819e-03j]]\n"
     ]
    }
   ],
   "source": [
    "#image of the sky filled with double precision complex floats ('complex64')\n",
    "#pixels are set to low complex random values (image background/noise) \n",
    "#few pixels are set to larger complex random values in a specified ellipse area (image source/subject)\n",
    "n = 10 #20\n",
    "sky_image = np.zeros((n, n), dtype='complex64')\n",
    "mask = np.zeros((n, n), dtype='bool')\n",
    "number_of_stars = np.random.randint(3, 11)\n",
    "radius = np.random.randint(1, 3)\n",
    "\n",
    "for i in range(0, number_of_stars):\n",
    "    index_i = np.random.randint(0, sky_image.shape[0]-radius)\n",
    "    index_j = np.random.randint(0, sky_image.shape[1]-radius)\n",
    "    for j in range(0, radius):\n",
    "        for k in range(0, radius):\n",
    "            sky_image[index_i+j][index_j+k] = complex(np.random.rand()*100, np.random.rand()*100)\n",
    "            mask[index_i+j][index_j+k] = True\n",
    "            \n",
    "sky_image.real += np.random.randn(n,n)/100\n",
    "sky_image.imag += np.random.randn(n,n)/100\n",
    "\n",
    "print(sky_image)"
   ]
  },
  {
   "cell_type": "code",
   "execution_count": 3,
   "id": "b49ff65a",
   "metadata": {},
   "outputs": [
    {
     "data": {
      "image/png": "[encoded data removed]",
      "text/plain": [
       "<Figure size 432x288 with 2 Axes>"
      ]
     },
     "metadata": {
      "needs_background": "light"
     },
     "output_type": "display_data"
    }
   ],
   "source": [
    "modulus = np.absolute(sky_image)\n",
    "plt.imshow(modulus, cmap='Blues')\n",
    "plt.colorbar();"
   ]
  },
  {
   "cell_type": "markdown",
   "id": "02146dab",
   "metadata": {},
   "source": [
    "## 2) Applying a 2D FT (Fourier domain)"
   ]
  },
  {
   "cell_type": "code",
   "execution_count": 4,
   "id": "b1bfe4f7",
   "metadata": {},
   "outputs": [
    {
     "name": "stdout",
     "output_type": "stream",
     "text": [
      "[[ 335.11246  +338.8085j     -75.384285  -37.69165j\n",
      "   168.8279    +35.127598j  -183.93771   -95.11939j\n",
      "   134.24843  +160.14731j     95.81573   +77.07986j\n",
      "   163.93584  +224.1482j     -70.63284  -227.12161j\n",
      "    55.68761  +166.87881j   -105.13021  -101.942924j ]\n",
      " [ -42.705822 -184.68138j    233.92854  +273.37305j\n",
      "  -179.03516   -51.519657j   300.75916   +66.13191j\n",
      "   -96.24927  -141.14206j    260.93552   +23.332642j\n",
      "   -69.51486   +65.396614j   124.4998   +156.61148j\n",
      "    -2.812455 -141.91974j    207.40302   +66.96931j  ]\n",
      " [ 146.21426   +33.281162j    10.44936   -40.96497j\n",
      "   255.24872  +176.03557j   -151.5042   -224.84688j\n",
      "   238.77113   -42.949596j  -177.61844   -93.50204j\n",
      "   334.1806    +85.31471j    -68.47733   +49.44274j\n",
      "   172.39368   -98.08497j    -85.13635  -169.73022j  ]\n",
      " [   2.9404151-142.79298j    134.11377  -147.5871j\n",
      "  -108.04333   -23.256384j    65.17066  +126.69625j\n",
      "   -63.671658 -167.83466j    295.5812    -93.68621j\n",
      "  -158.341    -196.67824j    184.4783    +25.697577j\n",
      "  -227.22809   +77.73763j    228.79222  -118.914j    ]\n",
      " [ 130.858    -194.85884j    -98.20962   -28.39676j\n",
      "   115.794235  -83.106445j   -63.26518   +19.603172j\n",
      "   -25.34804   -82.08708j    -90.348305 -199.28445j\n",
      "   123.20965   -23.895649j  -105.41006   -87.868484j\n",
      "   157.75372   +24.016912j  -246.48752   -86.631134j ]\n",
      " [-179.2074    -57.448414j   205.03493  -139.62029j\n",
      "  -111.46389   -96.81215j    -43.386353  -95.102196j\n",
      "  -198.99815  +113.64832j    -41.768845  -46.991833j\n",
      "    67.45935  -150.23433j     26.225597  -86.5626j\n",
      "  -181.14084  -105.56827j    -61.446285 +124.05724j  ]\n",
      " [-151.08353   +60.876293j  -192.45448  -143.02925j\n",
      "    96.731834  +67.73159j    -91.63688    +1.4727173j\n",
      "     5.9590154 -21.344645j  -224.35161    -3.5492532j\n",
      "  -119.160675  -78.69302j     23.33984    +3.5605605j\n",
      "   -18.363556  +66.00282j    -67.187515  -85.86188j  ]\n",
      " [-133.15097    +6.4141674j -136.67804  +182.29916j\n",
      "     8.123356 -153.43767j     86.08404  +122.41322j\n",
      "  -187.91356   -67.68349j    -80.43089  +151.95691j\n",
      "  -189.99365   +36.63013j     61.039967   -7.4559274j\n",
      "    33.34067   -23.320045j  -135.00566   +77.83259j  ]\n",
      " [  10.035302 +102.260796j  -115.64603   -90.5199j\n",
      "  -165.73854  +145.00682j     19.05584   -41.80815j\n",
      "   117.26676  +326.65298j    -74.37858  -121.11906j\n",
      "   -31.240744 +133.14777j   -250.09363   -78.53509j\n",
      "   103.724785 +181.42897j     32.738064 +103.21336j  ]\n",
      " [-119.15739   +38.148018j    34.84729  +172.35754j\n",
      "   -80.80183   -15.651894j    62.341946 +120.15844j\n",
      "    75.79398   -77.450455j    36.511776 +305.76202j\n",
      "  -120.95531   -95.48812j     74.92044  +252.45686j\n",
      "   -93.258675 -147.70737j    231.51646  +190.36475j  ]]\n"
     ]
    }
   ],
   "source": [
    "visibilities = np.fft.fft2(sky_image).astype('complex64')\n",
    "print(visibilities)"
   ]
  },
  {
   "cell_type": "code",
   "execution_count": 5,
   "id": "89293e90",
   "metadata": {},
   "outputs": [
    {
     "data": {
      "image/png": "[encoded data removed]",
      "text/plain": [
       "<Figure size 432x288 with 2 Axes>"
      ]
     },
     "metadata": {
      "needs_background": "light"
     },
     "output_type": "display_data"
    }
   ],
   "source": [
    "modulus = np.absolute(visibilities)\n",
    "plt.imshow(modulus, cmap='Blues')\n",
    "plt.colorbar();"
   ]
  },
  {
   "cell_type": "markdown",
   "id": "6430946f",
   "metadata": {},
   "source": [
    "## 3) Source-finding classification"
   ]
  },
  {
   "cell_type": "markdown",
   "id": "dadf682b",
   "metadata": {},
   "source": [
    "### Training labels"
   ]
  },
  {
   "cell_type": "code",
   "execution_count": 6,
   "id": "cf1fc3e0",
   "metadata": {},
   "outputs": [
    {
     "data": {
      "image/png": "[encoded data removed]",
      "text/plain": [
       "<Figure size 432x288 with 1 Axes>"
      ]
     },
     "metadata": {
      "needs_background": "light"
     },
     "output_type": "display_data"
    },
    {
     "data": {
      "image/png": "[encoded data removed]",
      "text/plain": [
       "<Figure size 432x288 with 1 Axes>"
      ]
     },
     "metadata": {
      "needs_background": "light"
     },
     "output_type": "display_data"
    },
    {
     "data": {
      "image/png": "[encoded data removed]",
      "text/plain": [
       "<Figure size 432x288 with 1 Axes>"
      ]
     },
     "metadata": {
      "needs_background": "light"
     },
     "output_type": "display_data"
    }
   ],
   "source": [
    "def labels(data, mask):\n",
    "    \n",
    "    Xvals, yvals = [], []\n",
    "    \n",
    "    for i in range(mask.shape[0]):\n",
    "        for j in range(mask.shape[1]):\n",
    "            if mask[i][j] == True:\n",
    "                label = 1\n",
    "            else:\n",
    "                label = 0\n",
    "        \n",
    "            yvals.append(label)\n",
    "            Xvals.append((data[i][j].real, data[i][j].imag))\n",
    "        \n",
    "    return pnp.array(Xvals, requires_grad=False), pnp.array(yvals, requires_grad=False)\n",
    "\n",
    "\n",
    "def plot_data(x, y, ax=None):\n",
    "    \n",
    "    reds = y == 0\n",
    "    blues = y == 1\n",
    "    plt.scatter(x[reds, 0], x[reds, 1], c=\"red\", s=20, edgecolor=\"k\")\n",
    "    plt.gca().set_xlabel(\"Re\")\n",
    "    plt.gca().set_ylabel(\"Img\")\n",
    "    plt.title('Noise')\n",
    "    plt.show()\n",
    "    \n",
    "    plt.scatter(x[blues, 0], x[blues, 1], c=\"blue\", s=20, edgecolor=\"k\")\n",
    "    plt.gca().set_xlabel(\"Re\")\n",
    "    plt.gca().set_ylabel(\"Img\")\n",
    "    plt.title('Source')\n",
    "    plt.show()\n",
    "    \n",
    "    plt.scatter(x[reds, 0], x[reds, 1], c=\"red\", s=20, edgecolor=\"k\")\n",
    "    plt.scatter(x[blues, 0], x[blues, 1], c=\"blue\", s=20, edgecolor=\"k\")\n",
    "    plt.gca().set_xlabel(\"Re\")\n",
    "    plt.gca().set_ylabel(\"Img\")\n",
    "    plt.title('Noise and Source')\n",
    "    plt.show()\n",
    "    \n",
    "Xdata, ydata = labels(visibilities, mask)\n",
    "plot_data(Xdata, ydata)\n",
    "\n",
    "\n",
    "# Define output labels as quantum state vectors\n",
    "def density_matrix(state):\n",
    "    \n",
    "    return state * pnp.conj(state).T\n",
    "\n",
    "\n",
    "label_0 = [[1], [0]]\n",
    "label_1 = [[0], [1]]\n",
    "state_labels = pnp.array([label_0, label_1], requires_grad=False)"
   ]
  },
  {
   "cell_type": "markdown",
   "id": "93ae5c8d",
   "metadata": {},
   "source": [
    "### Simple classifier with data reloading and fidelity loss"
   ]
  },
  {
   "cell_type": "code",
   "execution_count": 7,
   "id": "bdd700ee",
   "metadata": {},
   "outputs": [],
   "source": [
    "dev = qml.device(\"lightning.qubit\", wires=1)\n",
    "# Install any pennylane-plugin to run on some particular backend\n",
    "# https://docs.pennylane.ai/projects/qiskit/en/latest/\n",
    "# https://docs.pennylane.ai/en/stable/introduction/interfaces.html\n",
    "\n",
    "\n",
    "@qml.qnode(dev)\n",
    "def qcircuit(params, x, y):\n",
    "    \"\"\"A variational quantum circuit representing the Universal classifier.\n",
    "\n",
    "    Args:\n",
    "        params (array[float]): array of parameters\n",
    "        x (array[float]): single input vector\n",
    "        y (array[float]): single output state density matrix\n",
    "\n",
    "    Returns:\n",
    "        float: fidelity between output state and input\n",
    "    \"\"\"\n",
    "    for p in params:\n",
    "        qml.Rot(*x, wires=0)\n",
    "        qml.Rot(*p, wires=0)\n",
    "    return qml.expval(qml.Hermitian(y, wires=[0]))\n",
    "\n",
    "\n",
    "def cost(params, x, y, state_labels=None):\n",
    "    \"\"\"Cost function to be minimized.\n",
    "\n",
    "    Args:\n",
    "        params (array[float]): array of parameters\n",
    "        x (array[float]): 2-d array of input vectors\n",
    "        y (array[float]): 1-d array of targets\n",
    "        state_labels (array[float]): array of state representations for labels\n",
    "\n",
    "    Returns:\n",
    "        float: loss value to be minimized\n",
    "    \"\"\"\n",
    "    # Compute prediction for each input in data batch\n",
    "    loss = 0.0\n",
    "    dm_labels = [density_matrix(s) for s in state_labels]\n",
    "    for i in range(len(x)):\n",
    "        f = qcircuit(params, x[i], dm_labels[y[i]])\n",
    "        loss = loss + (1 - f) ** 2\n",
    "    return loss / len(x)"
   ]
  },
  {
   "cell_type": "markdown",
   "id": "0193c4c5",
   "metadata": {},
   "source": [
    "### Utility functions for testing and creating batches"
   ]
  },
  {
   "cell_type": "code",
   "execution_count": 8,
   "id": "0cc01f42",
   "metadata": {},
   "outputs": [],
   "source": [
    "def test(params, x, y, state_labels=None):\n",
    "    \"\"\"\n",
    "    Tests on a given set of data.\n",
    "\n",
    "    Args:\n",
    "        params (array[float]): array of parameters\n",
    "        x (array[float]): 2-d array of input vectors\n",
    "        y (array[float]): 1-d array of targets\n",
    "        state_labels (array[float]): 1-d array of state representations for labels\n",
    "\n",
    "    Returns:\n",
    "        predicted (array([int]): predicted labels for test data\n",
    "        output_states (array[float]): output quantum states from the circuit\n",
    "    \"\"\"\n",
    "    fidelity_values = []\n",
    "    dm_labels = [density_matrix(s) for s in state_labels]\n",
    "    predicted = []\n",
    "\n",
    "    for i in range(len(x)):\n",
    "        fidel_function = lambda y: qcircuit(params, x[i], y)\n",
    "        fidelities = [fidel_function(dm) for dm in dm_labels]\n",
    "        best_fidel = np.argmax(fidelities)\n",
    "\n",
    "        predicted.append(best_fidel)\n",
    "        fidelity_values.append(fidelities)\n",
    "\n",
    "    return pnp.array(predicted), pnp.array(fidelity_values)\n",
    "\n",
    "\n",
    "def accuracy_score(y_true, y_pred):\n",
    "    \"\"\"Accuracy score.\n",
    "\n",
    "    Args:\n",
    "        y_true (array[float]): 1-d array of targets\n",
    "        y_predicted (array[float]): 1-d array of predictions\n",
    "        state_labels (array[float]): 1-d array of state representations for labels\n",
    "\n",
    "    Returns:\n",
    "        score (float): the fraction of correctly classified samples\n",
    "    \"\"\"\n",
    "    score = y_true == y_pred\n",
    "    return score.sum() / len(y_true)\n",
    "\n",
    "\n",
    "def iterate_minibatches(inputs, targets, batch_size):\n",
    "    \"\"\"\n",
    "    A generator for batches of the input data\n",
    "\n",
    "    Args:\n",
    "        inputs (array[float]): input data\n",
    "        targets (array[float]): targets\n",
    "\n",
    "    Returns:\n",
    "        inputs (array[float]): one batch of input data of length `batch_size`\n",
    "        targets (array[float]): one batch of targets of length `batch_size`\n",
    "    \"\"\"\n",
    "    for start_idx in range(0, inputs.shape[0] - batch_size + 1, batch_size):\n",
    "        idxs = slice(start_idx, start_idx + batch_size)\n",
    "        yield inputs[idxs], targets[idxs]"
   ]
  },
  {
   "cell_type": "markdown",
   "id": "62bb8482",
   "metadata": {},
   "source": [
    "### Train a quantum classifier on the visibilities"
   ]
  },
  {
   "cell_type": "code",
   "execution_count": 9,
   "id": "b0fed5a7",
   "metadata": {},
   "outputs": [
    {
     "name": "stderr",
     "output_type": "stream",
     "text": [
      "\r",
      "0it [00:00, ?it/s]"
     ]
    },
    {
     "name": "stdout",
     "output_type": "stream",
     "text": [
      "Epoch:  0 | Cost: 0.435313 | Train accuracy: 0.612500 | Test Accuracy: 0.350000\n"
     ]
    },
    {
     "name": "stderr",
     "output_type": "stream",
     "text": [
      "2it [00:07,  3.90s/it]\n",
      "0it [00:00, ?it/s]"
     ]
    },
    {
     "name": "stdout",
     "output_type": "stream",
     "text": [
      "Epoch:  1 | Loss: 0.232343 | Train accuracy: 0.675000 | Test accuracy: 0.500000\n"
     ]
    },
    {
     "name": "stderr",
     "output_type": "stream",
     "text": [
      "2it [00:08,  4.21s/it]\n",
      "0it [00:00, ?it/s]"
     ]
    },
    {
     "name": "stdout",
     "output_type": "stream",
     "text": [
      "Epoch:  2 | Loss: 0.203925 | Train accuracy: 0.687500 | Test accuracy: 0.750000\n"
     ]
    },
    {
     "name": "stderr",
     "output_type": "stream",
     "text": [
      "2it [00:09,  4.64s/it]\n",
      "0it [00:00, ?it/s]"
     ]
    },
    {
     "name": "stdout",
     "output_type": "stream",
     "text": [
      "Epoch:  3 | Loss: 0.190055 | Train accuracy: 0.762500 | Test accuracy: 0.700000\n"
     ]
    },
    {
     "name": "stderr",
     "output_type": "stream",
     "text": [
      "2it [00:09,  4.74s/it]\n",
      "0it [00:00, ?it/s]"
     ]
    },
    {
     "name": "stdout",
     "output_type": "stream",
     "text": [
      "Epoch:  4 | Loss: 0.165593 | Train accuracy: 0.775000 | Test accuracy: 0.700000\n"
     ]
    },
    {
     "name": "stderr",
     "output_type": "stream",
     "text": [
      "2it [00:09,  4.66s/it]\n",
      "0it [00:00, ?it/s]"
     ]
    },
    {
     "name": "stdout",
     "output_type": "stream",
     "text": [
      "Epoch:  5 | Loss: 0.130936 | Train accuracy: 0.850000 | Test accuracy: 0.900000\n"
     ]
    },
    {
     "name": "stderr",
     "output_type": "stream",
     "text": [
      "2it [00:09,  4.67s/it]\n",
      "0it [00:00, ?it/s]"
     ]
    },
    {
     "name": "stdout",
     "output_type": "stream",
     "text": [
      "Epoch:  6 | Loss: 0.111119 | Train accuracy: 0.887500 | Test accuracy: 0.900000\n"
     ]
    },
    {
     "name": "stderr",
     "output_type": "stream",
     "text": [
      "2it [00:09,  4.72s/it]\n",
      "0it [00:00, ?it/s]"
     ]
    },
    {
     "name": "stdout",
     "output_type": "stream",
     "text": [
      "Epoch:  7 | Loss: 0.173798 | Train accuracy: 0.787500 | Test accuracy: 0.800000\n"
     ]
    },
    {
     "name": "stderr",
     "output_type": "stream",
     "text": [
      "2it [00:09,  4.59s/it]\n",
      "0it [00:00, ?it/s]"
     ]
    },
    {
     "name": "stdout",
     "output_type": "stream",
     "text": [
      "Epoch:  8 | Loss: 0.168550 | Train accuracy: 0.825000 | Test accuracy: 0.800000\n"
     ]
    },
    {
     "name": "stderr",
     "output_type": "stream",
     "text": [
      "2it [00:09,  4.68s/it]\n",
      "0it [00:00, ?it/s]"
     ]
    },
    {
     "name": "stdout",
     "output_type": "stream",
     "text": [
      "Epoch:  9 | Loss: 0.140293 | Train accuracy: 0.850000 | Test accuracy: 0.850000\n"
     ]
    },
    {
     "name": "stderr",
     "output_type": "stream",
     "text": [
      "2it [00:09,  4.62s/it]\n"
     ]
    },
    {
     "name": "stdout",
     "output_type": "stream",
     "text": [
      "Epoch: 10 | Loss: 0.115814 | Train accuracy: 0.850000 | Test accuracy: 0.800000\n"
     ]
    }
   ],
   "source": [
    "# Generate training and test data\n",
    "X_data, y_data = labels(visibilities, mask)\n",
    "indices = []\n",
    "for i in range(0, len(X_data)):\n",
    "    indices.append(i)\n",
    "random.shuffle(indices)\n",
    "\n",
    "for i in range(0, len(X_data)):\n",
    "    X_data[i] = X_data[indices[i]]\n",
    "    y_data[i] = y_data[indices[i]]\n",
    "\n",
    "index = int(0.8*len(X_data))\n",
    "X_train, y_train = X_data[:index], y_data[:index]\n",
    "X_test, y_test = X_data[index:], y_data[index:]\n",
    "\n",
    "X_train = pnp.hstack((X_train, pnp.zeros((X_train.shape[0], 1), requires_grad=False)))\n",
    "X_test = pnp.hstack((X_test, pnp.zeros((X_test.shape[0], 1), requires_grad=False)))\n",
    "\n",
    "\n",
    "# Train using Adam optimizer and evaluate the classifier\n",
    "num_layers = 3 #2\n",
    "learning_rate = 0.6 #1e-3\n",
    "epochs = 10 #25\n",
    "batch_size = 32 #64\n",
    "\n",
    "opt = AdamOptimizer(learning_rate, beta1=0.9, beta2=0.999)\n",
    "\n",
    "# initialize random weights\n",
    "params = pnp.random.uniform(size=(num_layers, 3), requires_grad=True)\n",
    "\n",
    "predicted_train, fidel_train = test(params, X_train, y_train, state_labels)\n",
    "accuracy_train = accuracy_score(y_train, predicted_train)\n",
    "\n",
    "predicted_test, fidel_test = test(params, X_test, y_test, state_labels)\n",
    "accuracy_test = accuracy_score(y_test, predicted_test)\n",
    "\n",
    "# save predictions with random weights for comparison\n",
    "initial_predictions = predicted_test\n",
    "\n",
    "loss = cost(params, X_test, y_test, state_labels)\n",
    "\n",
    "print(\n",
    "    \"Epoch: {:2d} | Cost: {:3f} | Train accuracy: {:3f} | Test Accuracy: {:3f}\".format(\n",
    "        0, loss, accuracy_train, accuracy_test\n",
    "    )\n",
    ")\n",
    "\n",
    "for it in range(epochs):\n",
    "    for Xbatch, ybatch in tqdm(iterate_minibatches(X_train, y_train, batch_size=batch_size)):\n",
    "        params, _, _, _ = opt.step(cost, params, Xbatch, ybatch, state_labels)\n",
    "\n",
    "    predicted_train, fidel_train = test(params, X_train, y_train, state_labels)\n",
    "    accuracy_train = accuracy_score(y_train, predicted_train)\n",
    "    loss = cost(params, X_train, y_train, state_labels)\n",
    "\n",
    "    predicted_test, fidel_test = test(params, X_test, y_test, state_labels)\n",
    "    accuracy_test = accuracy_score(y_test, predicted_test)\n",
    "    res = [it + 1, loss, accuracy_train, accuracy_test]\n",
    "    print(\n",
    "        \"Epoch: {:2d} | Loss: {:3f} | Train accuracy: {:3f} | Test accuracy: {:3f}\".format(\n",
    "            *res\n",
    "        )\n",
    "    )"
   ]
  },
  {
   "cell_type": "markdown",
   "id": "33430798",
   "metadata": {},
   "source": [
    "### Results"
   ]
  },
  {
   "cell_type": "code",
   "execution_count": 10,
   "id": "97633f29",
   "metadata": {},
   "outputs": [
    {
     "name": "stdout",
     "output_type": "stream",
     "text": [
      "Cost: 0.115814 | Train accuracy 0.850000 | Test Accuracy : 0.800000\n",
      "Learned weights\n",
      "Layer 0: [1.29839057 1.21410316 0.71728815]\n",
      "Layer 1: [-1.36982237 -1.59332016  0.30517808]\n",
      "Layer 2: [-1.54871743  1.52503766  0.36998065]\n"
     ]
    },
    {
     "data": {
      "image/png": "[encoded data removed]",
      "text/plain": [
       "<Figure size 1080x360 with 3 Axes>"
      ]
     },
     "metadata": {
      "needs_background": "light"
     },
     "output_type": "display_data"
    },
    {
     "name": "stdout",
     "output_type": "stream",
     "text": [
      "[-1 -1 -1 -1  1  0  1  0  0  0 -1  0 -1 -1 -1 -1 -1 -1  1 -1]\n"
     ]
    }
   ],
   "source": [
    "print(\n",
    "    \"Cost: {:3f} | Train accuracy {:3f} | Test Accuracy : {:3f}\".format(\n",
    "        loss, accuracy_train, accuracy_test\n",
    "    )\n",
    ")\n",
    "\n",
    "print(\"Learned weights\")\n",
    "for i in range(num_layers):\n",
    "    print(\"Layer {}: {}\".format(i, params[i]))\n",
    "\n",
    "fig, axs = plt.subplots(1, 3, figsize=(15,5))\n",
    "reds = initial_predictions == 0\n",
    "blues = initial_predictions == 1\n",
    "axs[0].scatter(X_test[reds, 0], X_test[reds, 1], c=\"red\", s=20, edgecolor=\"k\")\n",
    "axs[0].scatter(X_test[blues, 0], X_test[blues, 1], c=\"blue\", s=20, edgecolor=\"k\")\n",
    "reds = predicted_test == 0\n",
    "blues = predicted_test == 1\n",
    "axs[1].scatter(X_test[reds, 0], X_test[reds, 1], c=\"red\", s=20, edgecolor=\"k\")\n",
    "axs[1].scatter(X_test[blues, 0], X_test[blues, 1], c=\"blue\", s=20, edgecolor=\"k\")\n",
    "reds = y_test == 0\n",
    "blues = y_test == 1\n",
    "axs[2].scatter(X_test[reds, 0], X_test[reds, 1], c=\"red\", s=20, edgecolor=\"k\")\n",
    "axs[2].scatter(X_test[blues, 0], X_test[blues, 1], c=\"blue\", s=20, edgecolor=\"k\")\n",
    "\n",
    "axs[0].set_title(\"Predictions with random weights\")\n",
    "axs[1].set_title(\"Predictions after training\")\n",
    "axs[2].set_title(\"True test data\")\n",
    "\n",
    "for ax in axs.flat:\n",
    "    ax.set(xlabel='Re', ylabel='Img')\n",
    "\n",
    "plt.tight_layout()\n",
    "plt.show()\n",
    "\n",
    "print(predicted_test - initial_predictions)"
   ]
  },
  {
   "cell_type": "code",
   "execution_count": null,
   "id": "1a90f8fb",
   "metadata": {},
   "outputs": [],
   "source": []
  }
 ],
 "metadata": {
  "kernelspec": {
   "display_name": "Python 3",
   "language": "python",
   "name": "python3"
  },
  "language_info": {
   "codemirror_mode": {
    "name": "ipython",
    "version": 3
   },
   "file_extension": ".py",
   "mimetype": "text/x-python",
   "name": "python",
   "nbconvert_exporter": "python",
   "pygments_lexer": "ipython3",
   "version": "3.8.8"
  }
 },
 "nbformat": 4,
 "nbformat_minor": 5
}
