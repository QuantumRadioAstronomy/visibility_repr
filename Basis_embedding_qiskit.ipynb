{
 "cells": [
  {
   "cell_type": "markdown",
   "id": "2a6105cd",
   "metadata": {},
   "source": [
    "# Basis embedding (qiskit)\n",
    "\n",
    "Main steps:\n",
    "\n",
    "* initialize an image of the sky (frequency domain)\n",
    "* apply 2D FT --> visibilities (Fourier domain)\n",
    "* encode visibilities data into qubits using basis (bit-string) embedding (non-conventional domain)\n",
    "* measure all qubits (back to conventional domain)\n",
    "* apply 2D IFT --> fidelity computation\n",
    "\n",
    "Basis embedding:\n",
    "\n",
    "* circuit family #1 (CX: controlled X) from https://arxiv.org/abs/1803.01958"
   ]
  },
  {
   "cell_type": "code",
   "execution_count": 1,
   "id": "ad6cbc81",
   "metadata": {},
   "outputs": [],
   "source": [
    "import numpy as np\n",
    "import matplotlib.pyplot as plt\n",
    "import struct\n",
    "\n",
    "import qiskit\n",
    "from qiskit import *"
   ]
  },
  {
   "cell_type": "markdown",
   "id": "728a6fdf",
   "metadata": {},
   "source": [
    "### Prerequisites"
   ]
  },
  {
   "cell_type": "code",
   "execution_count": 2,
   "id": "253aa61f",
   "metadata": {},
   "outputs": [],
   "source": [
    "# float to binary \n",
    "def float_to_bin_real(num):\n",
    "    return format(struct.unpack('!I', struct.pack('!f', num))[0], '032b')\n",
    "def float_to_bin_imag(num):\n",
    "    return format(struct.unpack('!I', struct.pack('!f', num))[0], '032b')\n",
    "\n",
    "# binary to float\n",
    "def bin_to_float_real(binary):\n",
    "    return struct.unpack('!f',struct.pack('!I', int(binary, 2)))[0]\n",
    "def bin_to_float_imag(binary):\n",
    "    return struct.unpack('!f',struct.pack('!I', int(binary, 2)))[0]\n",
    "\n",
    "# reverse a string (for the measurement step readout)\n",
    "def reverse(string):\n",
    "    string = string[::-1]\n",
    "    return string"
   ]
  },
  {
   "cell_type": "markdown",
   "id": "d6af5b75",
   "metadata": {},
   "source": [
    "## 1) Generating an artificial image of the sky (frequency domain)"
   ]
  },
  {
   "cell_type": "code",
   "execution_count": 3,
   "id": "21863931",
   "metadata": {},
   "outputs": [
    {
     "name": "stdout",
     "output_type": "stream",
     "text": [
      "[[ 8.69317912e-03-1.2369599e-02j  1.05563337e-02+1.1215195e-02j\n",
      "   1.65619422e-03-7.6693838e-04j  1.63226649e-02-3.7084147e-03j\n",
      "  -8.43662675e-03+1.7704438e-02j -5.74846112e-04-2.1636568e-02j\n",
      "   9.22625139e-03-8.3098989e-03j -8.22359882e-03+2.4669843e-03j\n",
      "   9.41192359e-03-7.1601686e-03j -7.24234199e-03-1.7329959e-02j]\n",
      " [ 4.62051528e-03-3.5328357e-03j -8.72016605e-03+5.4520327e-03j\n",
      "  -3.90144368e-03-1.0922149e-02j  1.01212133e-02-4.1611912e-03j\n",
      "  -4.32031549e-04-7.6828385e-04j  1.42688844e-02+1.3719331e-02j\n",
      "   2.87875123e-02-6.1033098e-03j  3.30901868e-03+3.7454464e-03j\n",
      "   7.92620773e+01+8.0803284e+01j  4.89175227e-03-5.5425898e-03j]\n",
      " [-1.48982629e-02-6.2418263e-03j  1.39005166e-02+1.2396429e-02j\n",
      "   6.63036248e-03+6.1830641e-03j -7.31441006e-03-1.2411638e-02j\n",
      "  -6.92010112e-03-5.8091024e-04j  1.08755017e-02-1.7804258e-02j\n",
      "   1.42023275e-02+4.7824481e-03j -5.49209723e-03-3.5980782e-03j\n",
      "   1.19630741e-02-1.8699704e-02j  6.94300933e-03+1.1803995e-02j]\n",
      " [ 7.97659438e-03+9.3240775e-03j -6.09915238e-03-6.8648607e-03j\n",
      "  -3.36803030e-03+1.0634177e-02j  4.27989429e-03-7.4519664e-03j\n",
      "  -1.66521687e-02+2.0183173e-03j -3.22732405e-04-7.3070126e-03j\n",
      "  -1.29836044e-04-1.1662539e-03j -2.98951427e-03-1.2004988e-03j\n",
      "   1.10385602e-03-8.8181570e-03j  2.83395848e-03+1.1987579e-02j]\n",
      " [ 1.98754179e-03+6.6976743e-03j -1.62603203e-02+4.1690213e-03j\n",
      "   5.67295309e-03+6.7316205e-03j  5.37114983e+01+7.9928993e+01j\n",
      "   7.12399092e-03-1.2124093e-03j  2.00998597e-02-2.9783379e-03j\n",
      "   8.60115141e-03-1.7992887e-03j  1.93838438e-03+5.9208637e-03j\n",
      "   3.78621789e-03+1.2021192e-03j  1.54443074e-03-1.7611261e-02j]\n",
      " [-4.25283751e-03+5.0691525e-03j -1.93294473e-02+6.5892385e-03j\n",
      "  -9.25881602e-03-1.4617365e-02j  2.60613888e-04+6.6499058e-03j\n",
      "   2.31513963e-03-7.0486874e-03j  9.95977409e-03+7.4271085e-03j\n",
      "   6.33375440e-03-1.0506776e-03j  5.89359645e-03+6.6813286e-03j\n",
      "   9.58350021e-03-7.8797649e-04j  1.26982462e-02+2.5429543e-02j]\n",
      " [ 6.06790709e-04-3.6801130e-02j -1.78329542e-03-1.0701911e-02j\n",
      "   7.14080200e+01+7.1300362e+01j  2.70645577e-03+1.5894122e-03j\n",
      "  -3.69806006e-03+6.9172219e-03j -1.55967614e-03+6.5732831e-03j\n",
      "  -1.09286625e-02-1.6263077e-03j  1.17339566e-02+3.5413501e-03j\n",
      "   4.23103292e-03+4.1301721e-03j  9.52479616e-03+1.2828633e-02j]\n",
      " [ 2.24779602e-02+5.7377229e-03j  3.44451214e-03+1.9765953e-02j\n",
      "   3.03172916e-02-3.4373123e-03j  9.43619944e-03+1.4296536e-04j\n",
      "   3.70343798e-03-5.5156732e-03j  9.25630738e-04-8.1989476e-03j\n",
      "   7.00827641e-03+9.7427843e-03j -5.13400277e-03+2.7471717e-02j\n",
      "  -6.31468557e-03-1.2752190e-03j  2.20803334e-03-1.7456290e-03j]\n",
      " [ 1.56531092e-02-7.2409697e-03j -5.38544077e-03-1.4884641e-02j\n",
      "   1.98382828e-02+2.7505269e-03j -7.46031757e-03+1.2718330e-02j\n",
      "  -8.95551872e-03+2.6430003e-03j  1.20059969e-02+8.4415507e-03j\n",
      "   6.72749523e-03+6.9394014e-03j -3.00597539e-03-1.2347460e-03j\n",
      "   1.49209313e-02-1.1920087e-02j -9.39554907e-03+2.1724536e-03j]\n",
      " [ 1.69952400e-02-9.4964951e-03j  9.31601785e-03+3.8847765e-03j\n",
      "   5.56390174e-03+1.0889542e-02j -6.74778596e-03-7.7662482e-03j\n",
      "  -9.36813373e-03-1.0919042e-02j -1.19761229e-02+1.2150765e-02j\n",
      "  -1.54064817e-03-8.7270541e-03j -1.35412598e-02+4.0000747e-03j\n",
      "   1.13119474e-02-1.2284978e-03j  3.31090507e-03-4.5144716e-03j]]\n"
     ]
    }
   ],
   "source": [
    "#image of the sky filled with double precision complex floats ('complex64')\n",
    "#pixels are set to low complex random values (image background/noise) \n",
    "#few pixels are set to larger complex random values in a specified ellipse area (image source/subject)\n",
    "n = 10 #20\n",
    "sky_image = np.zeros((n, n), dtype='complex64')\n",
    "mask = np.zeros((n, n), dtype='bool')\n",
    "number_of_stars = np.random.randint(3, 11)\n",
    "radius = np.random.randint(1, 3)\n",
    "\n",
    "for i in range(0, number_of_stars):\n",
    "    index_i = np.random.randint(0, sky_image.shape[0]-radius)\n",
    "    index_j = np.random.randint(0, sky_image.shape[1]-radius)\n",
    "    for j in range(0, radius):\n",
    "        for k in range(0, radius):\n",
    "            sky_image[index_i+j][index_j+k] = complex(np.random.rand()*100, np.random.rand()*100)\n",
    "            mask[index_i+j][index_j+k] = True\n",
    "            \n",
    "sky_image.real += np.random.randn(n,n)/100\n",
    "sky_image.imag += np.random.randn(n,n)/100\n",
    "\n",
    "print(sky_image)"
   ]
  },
  {
   "cell_type": "code",
   "execution_count": 4,
   "id": "bd84db7e",
   "metadata": {},
   "outputs": [
    {
     "data": {
      "image/png": "[encoded data removed]",
      "text/plain": [
       "<Figure size 432x288 with 2 Axes>"
      ]
     },
     "metadata": {
      "needs_background": "light"
     },
     "output_type": "display_data"
    }
   ],
   "source": [
    "modulus = np.absolute(sky_image)\n",
    "plt.imshow(modulus, cmap='Blues')\n",
    "plt.colorbar();"
   ]
  },
  {
   "cell_type": "markdown",
   "id": "37d98bdc",
   "metadata": {},
   "source": [
    "## 2) Applying 2D FT (Fourier domain)"
   ]
  },
  {
   "cell_type": "code",
   "execution_count": 5,
   "id": "77e72e60",
   "metadata": {},
   "outputs": [
    {
     "name": "stdout",
     "output_type": "stream",
     "text": [
      "[[ 204.64833  +2.32014877e+02j   96.96855  -2.12646523e+01j\n",
      "  -217.8174   -1.51605820e+02j -119.88192  -3.12672615e+01j\n",
      "   148.2283   +1.29759407e+01j   97.09182  +7.20123215e+01j\n",
      "   -21.667604 +1.30237015e+02j  -37.148926 -8.55106735e+01j\n",
      "  -112.82381  -2.23914352e+02j  -36.99874  +6.58340607e+01j]\n",
      " [  15.444371 -9.32251587e+01j -121.4244   +2.28300507e+02j\n",
      "    23.915113 +2.01527847e+02j   70.14037  -2.02463684e+02j\n",
      "   -54.049137 -2.33138794e+02j    8.572702 +9.94688568e+01j\n",
      "    63.512375 +1.75665024e+02j  -83.73372  +4.17994347e+01j\n",
      "   -48.787766 -5.08197975e+01j  126.936005 -1.66745590e+02j]\n",
      " [ 131.7793   -2.06124210e+01j  153.75237  +1.43704462e+01j\n",
      "  -148.58112  -1.14923258e+01j -249.8223   +9.74384384e+01j\n",
      "   108.42662  +3.92977028e+01j  250.48666  -1.72038681e+02j\n",
      "   -27.22043  -5.18214951e+01j -155.6259   +1.80858688e+02j\n",
      "   -64.69987  +4.46845093e+01j    0.9992072-1.20678764e+02j]\n",
      " [  99.28738  -3.69272385e+01j  129.3629   +1.01939650e+01j\n",
      "    47.131424 +1.41687637e+02j  -26.419643 -1.61797104e+01j\n",
      "  -175.30206  -1.92907364e+02j  -86.00484  +1.60019398e+01j\n",
      "   236.83368  +1.70024078e+02j  165.94092  -9.62541103e+00j\n",
      "  -207.65436  -8.23947372e+01j -182.42099  -2.96430402e-02j]\n",
      " [-122.947296 -2.44625046e+02j   -1.8823699+3.01830235e+01j\n",
      "   126.13244  +1.44529846e+02j  -34.719677 +9.18618393e+01j\n",
      "   -81.15034  +1.09346828e+01j   57.94931  -1.78481522e+02j\n",
      "     5.2452564-1.62476379e+02j  -59.142906 +1.97114059e+02j\n",
      "    72.75509  +2.51499832e+02j   37.509457 -1.40331299e+02j]\n",
      " [  45.873814 +7.02916183e+01j  201.72162  -2.22117844e+02j\n",
      "     5.2467294-1.14097801e+02j  -86.68872  +1.92404282e+02j\n",
      "   -54.4727   +1.13853096e+02j  -61.593494 -8.93095551e+01j\n",
      "    82.84758  -7.05480423e+01j  186.09395  -4.77050171e+01j\n",
      "   -79.53435  -4.01366912e-02j -239.85217  +1.66638809e+02j]\n",
      " [-207.7484   -1.30758148e+02j -154.94601  +4.41437578e+00j\n",
      "   226.39977  +1.00684731e+02j  228.55872  -4.07674713e+01j\n",
      "  -158.66745  -3.24728355e+01j -214.82571  +6.17075653e+01j\n",
      "    30.211607 -4.83606339e+01j  119.080414 -5.88177643e+01j\n",
      "   109.71219  +1.10867455e+02j   22.36589  +3.38553505e+01j]\n",
      " [ -70.9347   +8.04184799e+01j   -4.5727897-1.47606384e+02j\n",
      "   -43.778336 -2.12291443e+02j  -26.712831 +1.35248581e+02j\n",
      "   141.65512  +2.63281860e+02j   47.922302 -7.10533371e+01j\n",
      "  -185.55432  -2.13575089e+02j  -50.901646 -1.98400669e+01j\n",
      "   158.39174  +8.22784042e+01j   34.35295  +1.03303009e+02j]\n",
      " [  -5.5039716+1.63952972e+02j  -93.9508   -2.74817505e+01j\n",
      "    13.788525 -8.20381699e+01j  176.05316  -1.16977554e+02j\n",
      "   -16.77761  -3.12087574e+01j -190.67732  +2.16534698e+02j\n",
      "    13.53962  +1.32424866e+02j  132.66245  -2.33652679e+02j\n",
      "    -4.916111 -1.83255798e+02j  -23.979023 +1.61257950e+02j]\n",
      " [ -89.58494  -2.09288788e+01j -204.58401  +1.30794357e+02j\n",
      "   -32.400387 -1.73076725e+01j   70.07131  -1.09005379e+02j\n",
      "   142.1118   +4.84738808e+01j   91.175705 +4.53386154e+01j\n",
      "  -197.5359   -6.14486237e+01j -217.68138  +3.54767189e+01j\n",
      "   177.39807  +5.09862671e+01j  260.88693  -1.02996849e+02j]]\n"
     ]
    }
   ],
   "source": [
    "visibilities = np.fft.fft2(sky_image).astype('complex64')\n",
    "print(visibilities)"
   ]
  },
  {
   "cell_type": "code",
   "execution_count": 6,
   "id": "3570e801",
   "metadata": {},
   "outputs": [
    {
     "data": {
      "image/png": "[encoded data removed]",
      "text/plain": [
       "<Figure size 432x288 with 2 Axes>"
      ]
     },
     "metadata": {
      "needs_background": "light"
     },
     "output_type": "display_data"
    }
   ],
   "source": [
    "modulus = np.absolute(visibilities)\n",
    "plt.imshow(modulus, cmap='Blues')\n",
    "plt.colorbar();"
   ]
  },
  {
   "cell_type": "markdown",
   "id": "54b17cf9",
   "metadata": {},
   "source": [
    "### Sanity check"
   ]
  },
  {
   "cell_type": "code",
   "execution_count": 7,
   "id": "6f6306ea",
   "metadata": {},
   "outputs": [
    {
     "name": "stdout",
     "output_type": "stream",
     "text": [
      "Reals MSE: 8.964522e-14\n",
      "Imaginaries MSE: 1.0395972e-13\n"
     ]
    }
   ],
   "source": [
    "img = np.fft.ifft2(visibilities).astype('complex64')\n",
    "\n",
    "test_real = ((sky_image.real - img.real)**2).mean()\n",
    "test_imag = ((sky_image.imag - img.imag)**2).mean()\n",
    " \n",
    "print('Reals MSE: '+ str(test_real))\n",
    "print('Imaginaries MSE: '+ str(test_imag))"
   ]
  },
  {
   "cell_type": "markdown",
   "id": "56a9e4a5",
   "metadata": {},
   "source": [
    "## 3) Data encoding: basis embedding (non-conventional domain)"
   ]
  },
  {
   "cell_type": "code",
   "execution_count": 8,
   "id": "ce856250",
   "metadata": {},
   "outputs": [],
   "source": [
    "# encoding binary data onto qubits\n",
    "def encoding2(qc, binary, off_set):\n",
    "    \n",
    "    for i in range(0, len(binary)):\n",
    "        qc.reset(off_set+i) # set quantum state |0> by default for all qubits\n",
    "\n",
    "        if binary[i]=='1':\n",
    "            qc.x(off_set+i) # act as a CX (controlled X gate)\n",
    "    \n",
    "    off_set += len(binary)\n",
    "\n",
    "    return off_set"
   ]
  },
  {
   "cell_type": "code",
   "execution_count": 9,
   "id": "3a57bccb",
   "metadata": {},
   "outputs": [
    {
     "name": "stdout",
     "output_type": "stream",
     "text": [
      "[[ 204.64833  +2.32014877e+02j   96.96855  -2.12646523e+01j\n",
      "  -217.8174   -1.51605820e+02j -119.88192  -3.12672615e+01j\n",
      "   148.2283   +1.29759407e+01j   97.09182  +7.20123215e+01j\n",
      "   -21.667604 +1.30237015e+02j  -37.148926 -8.55106735e+01j\n",
      "  -112.82381  -2.23914352e+02j  -36.99874  +6.58340607e+01j]\n",
      " [  15.444371 -9.32251587e+01j -121.4244   +2.28300507e+02j\n",
      "    23.915113 +2.01527847e+02j   70.14037  -2.02463684e+02j\n",
      "   -54.049137 -2.33138794e+02j    8.572702 +9.94688568e+01j\n",
      "    63.512375 +1.75665024e+02j  -83.73372  +4.17994347e+01j\n",
      "   -48.787766 -5.08197975e+01j  126.936005 -1.66745590e+02j]\n",
      " [ 131.7793   -2.06124210e+01j  153.75237  +1.43704462e+01j\n",
      "  -148.58112  -1.14923258e+01j -249.8223   +9.74384384e+01j\n",
      "   108.42662  +3.92977028e+01j  250.48666  -1.72038681e+02j\n",
      "   -27.22043  -5.18214951e+01j -155.6259   +1.80858688e+02j\n",
      "   -64.69987  +4.46845093e+01j    0.9992072-1.20678764e+02j]\n",
      " [  99.28738  -3.69272385e+01j  129.3629   +1.01939650e+01j\n",
      "    47.131424 +1.41687637e+02j  -26.419643 -1.61797104e+01j\n",
      "  -175.30206  -1.92907364e+02j  -86.00484  +1.60019398e+01j\n",
      "   236.83368  +1.70024078e+02j  165.94092  -9.62541103e+00j\n",
      "  -207.65436  -8.23947372e+01j -182.42099  -2.96430402e-02j]\n",
      " [-122.947296 -2.44625046e+02j   -1.8823699+3.01830235e+01j\n",
      "   126.13244  +1.44529846e+02j  -34.719677 +9.18618393e+01j\n",
      "   -81.15034  +1.09346828e+01j   57.94931  -1.78481522e+02j\n",
      "     5.2452564-1.62476379e+02j  -59.142906 +1.97114059e+02j\n",
      "    72.75509  +2.51499832e+02j   37.509457 -1.40331299e+02j]\n",
      " [  45.873814 +7.02916183e+01j  201.72162  -2.22117844e+02j\n",
      "     5.2467294-1.14097801e+02j  -86.68872  +1.92404282e+02j\n",
      "   -54.4727   +1.13853096e+02j  -61.593494 -8.93095551e+01j\n",
      "    82.84758  -7.05480423e+01j  186.09395  -4.77050171e+01j\n",
      "   -79.53435  -4.01366912e-02j -239.85217  +1.66638809e+02j]\n",
      " [-207.7484   -1.30758148e+02j -154.94601  +4.41437578e+00j\n",
      "   226.39977  +1.00684731e+02j  228.55872  -4.07674713e+01j\n",
      "  -158.66745  -3.24728355e+01j -214.82571  +6.17075653e+01j\n",
      "    30.211607 -4.83606339e+01j  119.080414 -5.88177643e+01j\n",
      "   109.71219  +1.10867455e+02j   22.36589  +3.38553505e+01j]\n",
      " [ -70.9347   +8.04184799e+01j   -4.5727897-1.47606384e+02j\n",
      "   -43.778336 -2.12291443e+02j  -26.712831 +1.35248581e+02j\n",
      "   141.65512  +2.63281860e+02j   47.922302 -7.10533371e+01j\n",
      "  -185.55432  -2.13575089e+02j  -50.901646 -1.98400669e+01j\n",
      "   158.39174  +8.22784042e+01j   34.35295  +1.03303009e+02j]\n",
      " [  -5.5039716+1.63952972e+02j  -93.9508   -2.74817505e+01j\n",
      "    13.788525 -8.20381699e+01j  176.05316  -1.16977554e+02j\n",
      "   -16.77761  -3.12087574e+01j -190.67732  +2.16534698e+02j\n",
      "    13.53962  +1.32424866e+02j  132.66245  -2.33652679e+02j\n",
      "    -4.916111 -1.83255798e+02j  -23.979023 +1.61257950e+02j]\n",
      " [ -89.58494  -2.09288788e+01j -204.58401  +1.30794357e+02j\n",
      "   -32.400387 -1.73076725e+01j   70.07131  -1.09005379e+02j\n",
      "   142.1118   +4.84738808e+01j   91.175705 +4.53386154e+01j\n",
      "  -197.5359   -6.14486237e+01j -217.68138  +3.54767189e+01j\n",
      "   177.39807  +5.09862671e+01j  260.88693  -1.02996849e+02j]]\n"
     ]
    }
   ],
   "source": [
    "number_of_entries = visibilities.shape[0] * visibilities.shape[1]\n",
    "number_of_bits_real = 32\n",
    "number_of_bits_imag = 32\n",
    "number_of_bits = number_of_bits_real + number_of_bits_imag\n",
    "off_set = 0\n",
    "\n",
    "# encoding (n bits encoded onto n qubits)\n",
    "qc = QuantumCircuit(number_of_entries*number_of_bits)\n",
    "for i in range(0, visibilities.shape[0]):\n",
    "    for j in range(0, visibilities.shape[1]):\n",
    "            binary_real = float_to_bin_real(visibilities[i, j].real)\n",
    "            binary_imag = float_to_bin_imag(visibilities[i, j].imag)\n",
    "            binary = binary_real+binary_imag\n",
    "            off_set = encoding2(qc, binary, off_set)\n",
    "\n",
    "# measurement\n",
    "qc.measure_all()\n",
    "backend = Aer.get_backend('aer_simulator') # Qiskit's staple simulator (CHOICE MOTIVATION?)\n",
    "job = backend.run(qc, shots=1, memory=True) \n",
    "output = job.result().get_memory()[0]\n",
    "out = reverse(output)\n",
    "\n",
    "# readout\n",
    "chunks_real = []\n",
    "chunks_imag = []\n",
    "for i in range(0, number_of_entries):\n",
    "    chunks_real.append(out[number_of_bits*i:(number_of_bits*i)+number_of_bits_real]) # real parts represented every 64 bits starting from the first one\n",
    "    chunks_imag.append(out[(number_of_bits*i)+number_of_bits_imag:(number_of_bits*i)+number_of_bits_imag+number_of_bits_imag]) # imaginary parts represented every 64 bits starting after the first occurence of a real part \n",
    "\n",
    "readout = []\n",
    "for i in range(0, len(chunks_real)):\n",
    "    readout.append(complex(bin_to_float_real(chunks_real[i]), bin_to_float_imag(chunks_imag[i]))) \n",
    "\n",
    "readout = np.array(readout).reshape(n , n).astype('complex64')\n",
    "print(readout)"
   ]
  },
  {
   "cell_type": "markdown",
   "id": "2f5fd4fd",
   "metadata": {},
   "source": [
    "## 4) Applying 2D IFT (fidelity test)"
   ]
  },
  {
   "cell_type": "code",
   "execution_count": 10,
   "id": "6aa9775a",
   "metadata": {},
   "outputs": [
    {
     "name": "stdout",
     "output_type": "stream",
     "text": [
      "Reals MSE: 8.964522e-14\n",
      "Imaginaries MSE: 1.0395972e-13\n"
     ]
    }
   ],
   "source": [
    "img = np.fft.ifft2(readout).astype('complex64')\n",
    "\n",
    "test_real = ((sky_image.real - img.real)**2).mean()\n",
    "test_imag = ((sky_image.imag - img.imag)**2).mean()\n",
    "\n",
    "print('Reals MSE: '+ str(test_real))\n",
    "print('Imaginaries MSE: '+ str(test_imag))"
   ]
  },
  {
   "cell_type": "code",
   "execution_count": 11,
   "id": "16cce23f",
   "metadata": {},
   "outputs": [
    {
     "data": {
      "image/png": "[encoded data removed]",
      "text/plain": [
       "<Figure size 1080x360 with 2 Axes>"
      ]
     },
     "metadata": {
      "needs_background": "light"
     },
     "output_type": "display_data"
    }
   ],
   "source": [
    "fig, axs = plt.subplots(1, 2, figsize=(15,5))\n",
    "modulus1 = np.absolute(img)\n",
    "modulus2 = np.absolute(sky_image)\n",
    "\n",
    "axs[0].imshow(modulus1, cmap='Blues')\n",
    "axs[1].imshow(modulus2, cmap='Blues')\n",
    "\n",
    "axs[0].set_title(\"Reconstructed image\")\n",
    "axs[1].set_title(\"Original image\")\n",
    "\n",
    "for ax in axs.flat:\n",
    "    ax.set(xlabel='n', ylabel='n')"
   ]
  },
  {
   "cell_type": "code",
   "execution_count": null,
   "id": "6e7a063f",
   "metadata": {},
   "outputs": [],
   "source": []
  }
 ],
 "metadata": {
  "kernelspec": {
   "display_name": "Python 3",
   "language": "python",
   "name": "python3"
  },
  "language_info": {
   "codemirror_mode": {
    "name": "ipython",
    "version": 3
   },
   "file_extension": ".py",
   "mimetype": "text/x-python",
   "name": "python",
   "nbconvert_exporter": "python",
   "pygments_lexer": "ipython3",
   "version": "3.8.8"
  }
 },
 "nbformat": 4,
 "nbformat_minor": 5
}
