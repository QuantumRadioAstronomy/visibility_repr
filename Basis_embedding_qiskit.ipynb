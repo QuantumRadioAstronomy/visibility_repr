{
 "cells": [
  {
   "cell_type": "markdown",
   "id": "2a6105cd",
   "metadata": {},
   "source": [
    "# Basis embedding (qiskit)\n",
    "\n",
    "Main steps:\n",
    "\n",
    "* initialize an image of the sky (frequency domain)\n",
    "* apply 2D FT --> visibilities (Fourier domain)\n",
    "* encode visibilities data into qubits using basis (bit-string) embedding (non-conventional domain)\n",
    "* measure all qubits (back to conventional domain)\n",
    "* apply 2D IFT --> fidelity computation\n",
    "\n",
    "Basis embedding:\n",
    "\n",
    "* circuit family #1 (CX: controlled X) from https://arxiv.org/abs/1803.01958"
   ]
  },
  {
   "cell_type": "code",
   "execution_count": 1,
   "id": "ad6cbc81",
   "metadata": {},
   "outputs": [],
   "source": [
    "import numpy as np\n",
    "import sys\n",
    "import struct\n",
    "\n",
    "import qiskit\n",
    "from qiskit import *"
   ]
  },
  {
   "cell_type": "markdown",
   "id": "d6af5b75",
   "metadata": {},
   "source": [
    "## 1) Generating an artificial image of the sky (frequency domain)"
   ]
  },
  {
   "cell_type": "code",
   "execution_count": 7,
   "id": "517eeac8",
   "metadata": {},
   "outputs": [
    {
     "name": "stdout",
     "output_type": "stream",
     "text": [
      "[[7.3625244e+01+3.1068075e+00j 7.3625244e+01+3.1068075e+00j\n",
      "  3.9959638e-03+2.1518418e-03j 7.3625244e+01+3.1068075e+00j]\n",
      " [7.3625244e+01+3.1068075e+00j 8.3883945e-03+9.2822807e-03j\n",
      "  2.4771481e-03+7.1984343e-03j 2.4212468e-03+9.1671692e-03j]\n",
      " [3.9249356e-03+7.0469594e-03j 7.7609192e-03+6.2272507e-03j\n",
      "  9.5778070e-03+5.7845335e-03j 8.6811781e-03+2.8921108e-04j]\n",
      " [7.3625244e+01+3.1068075e+00j 7.0066270e-03+5.4293363e-03j\n",
      "  9.6708834e-03+3.7672250e-03j 8.5114939e-03+8.1445714e-03j]]\n"
     ]
    }
   ],
   "source": [
    "#image of the sky filled with double precision complex floats (32 bits per real/imaginary parts)\n",
    "#pixels are set to low complex random values (image background/noise) \n",
    "#few pixels are set to larger complex random values in a specified ellipse area (image source/subject)\n",
    "\n",
    "n = 4\n",
    "image = np.zeros((n, n), dtype='complex64')\n",
    "image.real = np.random.rand(n , n) / 100\n",
    "image.imag = np.random.rand(n , n) / 100\n",
    "\n",
    "h, w = image.shape\n",
    "mask = circular_mask(h, w, radius=h/2)\n",
    "sky_image = image.copy()\n",
    "sky_image[~mask] = complex(np.random.rand() * 100, np.random.rand() * 100)\n",
    "print(sky_image)"
   ]
  },
  {
   "cell_type": "markdown",
   "id": "37d98bdc",
   "metadata": {},
   "source": [
    "## 2) Applying 2D FT (Fourier domain)"
   ]
  },
  {
   "cell_type": "code",
   "execution_count": 8,
   "id": "77e72e60",
   "metadata": {},
   "outputs": [
    {
     "name": "stdout",
     "output_type": "stream",
     "text": [
      "[[ 368.19864 +15.598526j   220.85727  +9.305025j    73.61212  +3.0942166j\n",
      "   220.8506   +9.312109j ]\n",
      " [ 220.8581   +9.315128j    73.61006  +3.092449j   -73.61975  -3.1084855j\n",
      "    73.63688  +3.09995j  ]\n",
      " [  73.62071  +3.0853183j  -73.614204 -3.0913486j -220.86049  -9.290897j\n",
      "   -73.63129  -3.1021137j]\n",
      " [ 220.84148  +9.291324j    73.63187  +3.112497j   -73.61687  -3.113456j\n",
      "    73.6288   +3.108677j ]]\n"
     ]
    }
   ],
   "source": [
    "visibilities = np.fft.fft2(sky_image).astype('complex64')\n",
    "print(visibilities)"
   ]
  },
  {
   "cell_type": "markdown",
   "id": "54b17cf9",
   "metadata": {},
   "source": [
    "#### Sanity check"
   ]
  },
  {
   "cell_type": "code",
   "execution_count": 11,
   "id": "6f6306ea",
   "metadata": {},
   "outputs": [
    {
     "name": "stdout",
     "output_type": "stream",
     "text": [
      "[[9.4894485e+01+3.5098068e+01j 9.4894485e+01+3.5098068e+01j\n",
      "  4.9633980e-03+5.6192875e-03j 9.4894485e+01+3.5098068e+01j]\n",
      " [9.4894485e+01+3.5098068e+01j 1.8856525e-03+9.6702576e-04j\n",
      "  1.2784004e-03+1.7983913e-03j 1.8317699e-03+5.7935715e-03j]\n",
      " [1.4638901e-04+7.1732998e-03j 5.5611134e-03+4.3263435e-03j\n",
      "  7.3819160e-03+8.8655949e-03j 7.7009201e-05+6.7801476e-03j]\n",
      " [9.4894485e+01+3.5098068e+01j 1.0037422e-04+9.1590881e-03j\n",
      "  7.0385933e-03+8.9814663e-03j 9.8922253e-03+6.3028336e-03j]]\n",
      "\n",
      "Reals MSE: 6.079587e-13\n",
      "Imaginaries MSE: 2.539201e-13\n"
     ]
    }
   ],
   "source": [
    "img = np.fft.ifft2(visibilities).astype('complex64')\n",
    "\n",
    "print(img)\n",
    "\n",
    "test_real = ((sky_image.real - img.real)**2).mean()\n",
    "test_imag = ((sky_image.imag - img.imag)**2).mean()\n",
    "\n",
    "print()\n",
    " \n",
    "print('Reals MSE: '+ str(test_real))\n",
    "print('Imaginaries MSE: ' + str(test_imag))"
   ]
  },
  {
   "cell_type": "markdown",
   "id": "56a9e4a5",
   "metadata": {},
   "source": [
    "## 3) Data ecnoding: basis embedding (non-conventional domain)"
   ]
  },
  {
   "cell_type": "code",
   "execution_count": 12,
   "id": "3a57bccb",
   "metadata": {},
   "outputs": [
    {
     "name": "stdout",
     "output_type": "stream",
     "text": [
      "[[ 474.51257 +175.5561j    284.6585  +105.280365j   94.89594  +35.097176j\n",
      "   284.66736 +105.27186j ]\n",
      " [ 284.65936 +105.28471j    94.896545 +35.101547j  -94.88989  -35.097897j\n",
      "    94.91133  +35.075214j]\n",
      " [  94.89059  +35.09783j   -94.89885  -35.10982j  -284.6712  -105.27221j\n",
      "   -94.89788  -35.079376j]\n",
      " [ 284.69113 +105.26064j    94.90187  +35.097702j  -94.89293  -35.096867j\n",
      "    94.87727  +35.1021j  ]]\n"
     ]
    }
   ],
   "source": [
    "number_of_entries = visibilities.shape[0] * visibilities.shape[1]\n",
    "number_of_bits_real = 32 #since single precision complex floats\n",
    "number_of_bits_imag = 32\n",
    "number_of_bits = number_of_bits_real + number_of_bits_imag\n",
    "off_set = 0\n",
    "\n",
    "qc = QuantumCircuit(number_of_entries*number_of_bits) #n bits encoded into n qbits (circuit family #1)\n",
    "for i in range(0, visibilities.shape[0]):\n",
    "    for j in range(0, visibilities.shape[1]):\n",
    "            binary_real = float_to_bin_real(visibilities[i, j].real)\n",
    "            binary_imag = float_to_bin_imag(visibilities[i, j].imag)\n",
    "            binary = binary_real+binary_imag\n",
    "            off_set = encoding2(qc, binary, off_set)\n",
    "\n",
    "#measurement\n",
    "qc.measure_all()\n",
    "backend = Aer.get_backend('aer_simulator')\n",
    "job = backend.run(qc, shots=1, memory=True)\n",
    "output = job.result().get_memory()[0]\n",
    "out = reverse(output)\n",
    "\n",
    "#readout\n",
    "chunks_real = []\n",
    "chunks_imag = []\n",
    "for i in range(0, number_of_entries):\n",
    "    chunks_real.append(out[number_of_bits*i:(number_of_bits*i)+number_of_bits_real]) #real parts represented every 64 bits starting from the first one\n",
    "    chunks_imag.append(out[(number_of_bits*i)+number_of_bits_imag:(number_of_bits*i)+number_of_bits_imag+number_of_bits_imag]) #imaginary parts represented every 64 bits starting after the first occurence of a real part \n",
    "\n",
    "readout = []\n",
    "for i in range(0, len(chunks_real)):\n",
    "    readout.append(complex(bin_to_float_real(chunks_real[i]), bin_to_float_imag(chunks_imag[i]))) \n",
    "\n",
    "#reshaping the readout vector into a nxn matrix\n",
    "readout = np.array(readout).reshape(n , n).astype('complex64')\n",
    "print(readout)"
   ]
  },
  {
   "cell_type": "markdown",
   "id": "2f5fd4fd",
   "metadata": {},
   "source": [
    "## 4) Applying 2D IFT (fidelity test)"
   ]
  },
  {
   "cell_type": "code",
   "execution_count": 13,
   "id": "6aa9775a",
   "metadata": {},
   "outputs": [
    {
     "name": "stdout",
     "output_type": "stream",
     "text": [
      "[[9.4894485e+01+3.5098068e+01j 9.4894485e+01+3.5098068e+01j\n",
      "  4.9633980e-03+5.6192875e-03j 9.4894485e+01+3.5098068e+01j]\n",
      " [9.4894485e+01+3.5098068e+01j 1.8856525e-03+9.6702576e-04j\n",
      "  1.2784004e-03+1.7983913e-03j 1.8317699e-03+5.7935715e-03j]\n",
      " [1.4638901e-04+7.1732998e-03j 5.5611134e-03+4.3263435e-03j\n",
      "  7.3819160e-03+8.8655949e-03j 7.7009201e-05+6.7801476e-03j]\n",
      " [9.4894485e+01+3.5098068e+01j 1.0037422e-04+9.1590881e-03j\n",
      "  7.0385933e-03+8.9814663e-03j 9.8922253e-03+6.3028336e-03j]]\n",
      "\n",
      "Reals MSE: 6.079587e-13\n",
      "Imaginaries MSE: 2.539201e-13\n"
     ]
    }
   ],
   "source": [
    "img = np.fft.ifft2(readout).astype('complex64')\n",
    "print(img)\n",
    "test_real = ((sky_image.real - img.real)**2).mean()\n",
    "test_imag = ((sky_image.imag - img.imag)**2).mean()\n",
    "\n",
    "print()\n",
    "\n",
    "print('Reals MSE: '+ str(test_real))\n",
    "print('Imaginaries MSE: ' + str(test_imag))"
   ]
  },
  {
   "cell_type": "markdown",
   "id": "728a6fdf",
   "metadata": {},
   "source": [
    "## Utils"
   ]
  },
  {
   "cell_type": "markdown",
   "id": "051da409",
   "metadata": {},
   "source": [
    "### Quantum"
   ]
  },
  {
   "cell_type": "code",
   "execution_count": 3,
   "id": "ce856250",
   "metadata": {},
   "outputs": [],
   "source": [
    "def encoding2(qc, binary, off_set):\n",
    "    \n",
    "    for i in range(0, len(binary)):\n",
    "        qc.reset(off_set+i)\n",
    "\n",
    "        if binary[i]=='1':\n",
    "            qc.x(off_set+i)\n",
    "    \n",
    "    off_set += len(binary)\n",
    "\n",
    "    return off_set"
   ]
  },
  {
   "cell_type": "markdown",
   "id": "5d0bb1e7",
   "metadata": {},
   "source": [
    "### Classical"
   ]
  },
  {
   "cell_type": "code",
   "execution_count": 2,
   "id": "253aa61f",
   "metadata": {},
   "outputs": [],
   "source": [
    "#float to binary \n",
    "def float_to_bin_real(num):\n",
    "    return format(struct.unpack('!I', struct.pack('!f', num))[0], '032b')\n",
    "def float_to_bin_imag(num):\n",
    "    return format(struct.unpack('!I', struct.pack('!f', num))[0], '032b')\n",
    "\n",
    "# binary to float\n",
    "def bin_to_float_real(binary):\n",
    "    return struct.unpack('!f',struct.pack('!I', int(binary, 2)))[0]\n",
    "def bin_to_float_imag(binary):\n",
    "    return struct.unpack('!f',struct.pack('!I', int(binary, 2)))[0]\n",
    "\n",
    "#reverse a string (for the measurement step readout)\n",
    "def reverse(string):\n",
    "    string = string[::-1]\n",
    "    return string\n",
    "\n",
    "#creates a circular mask over a 2D array\n",
    "def circular_mask(h, w, center=None, radius=None):\n",
    "    if center is None: #image center\n",
    "        \n",
    "        center = (int(w/2), int(h/2))\n",
    "    if radius is None: #smallest distance between center and image bounderies\n",
    "        radius = min(center[0], center[1], w-center[0], h-center[1])\n",
    "        \n",
    "    Y, X = np.ogrid[:h, :w]\n",
    "    dist_from_center = np.sqrt((X - center[0])**2 + (Y-center[1])**2)\n",
    "    mask = dist_from_center <= radius\n",
    "    \n",
    "    return mask"
   ]
  },
  {
   "cell_type": "code",
   "execution_count": null,
   "id": "16cce23f",
   "metadata": {},
   "outputs": [],
   "source": []
  }
 ],
 "metadata": {
  "kernelspec": {
   "display_name": "Python 3",
   "language": "python",
   "name": "python3"
  },
  "language_info": {
   "codemirror_mode": {
    "name": "ipython",
    "version": 3
   },
   "file_extension": ".py",
   "mimetype": "text/x-python",
   "name": "python",
   "nbconvert_exporter": "python",
   "pygments_lexer": "ipython3",
   "version": "3.8.8"
  }
 },
 "nbformat": 4,
 "nbformat_minor": 5
}
