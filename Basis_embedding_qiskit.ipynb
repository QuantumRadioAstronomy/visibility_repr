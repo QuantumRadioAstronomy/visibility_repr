{
 "cells": [
  {
   "cell_type": "markdown",
   "id": "2a6105cd",
   "metadata": {},
   "source": [
    "# Basis embedding (qiskit)\n",
    "\n",
    "Main steps:\n",
    "\n",
    "* initialize an image of the sky (frequency domain)\n",
    "* apply 2D FT --> visibilities (Fourier domain)\n",
    "* encode visibilities data into qubits using basis (bit-string) embedding (non-conventional domain)\n",
    "* measure all qubits (back to conventional domain)\n",
    "* apply 2D IFT --> fidelity computation\n",
    "\n",
    "Basis embedding:\n",
    "\n",
    "* circuit family #1 (CX: controlled X) from https://arxiv.org/abs/1803.01958"
   ]
  },
  {
   "cell_type": "code",
   "execution_count": 1,
   "id": "ad6cbc81",
   "metadata": {},
   "outputs": [],
   "source": [
    "import numpy as np\n",
    "import matplotlib.pyplot as plt\n",
    "import struct\n",
    "\n",
    "import qiskit\n",
    "from qiskit import *"
   ]
  },
  {
   "cell_type": "markdown",
   "id": "728a6fdf",
   "metadata": {},
   "source": [
    "### Prerequisites"
   ]
  },
  {
   "cell_type": "code",
   "execution_count": 2,
   "id": "253aa61f",
   "metadata": {},
   "outputs": [],
   "source": [
    "# float to binary \n",
    "def float_to_bin_real(num):\n",
    "    return format(struct.unpack('!I', struct.pack('!f', num))[0], '032b')\n",
    "def float_to_bin_imag(num):\n",
    "    return format(struct.unpack('!I', struct.pack('!f', num))[0], '032b')\n",
    "\n",
    "# binary to float\n",
    "def bin_to_float_real(binary):\n",
    "    return struct.unpack('!f',struct.pack('!I', int(binary, 2)))[0]\n",
    "def bin_to_float_imag(binary):\n",
    "    return struct.unpack('!f',struct.pack('!I', int(binary, 2)))[0]\n",
    "\n",
    "# reverse a string (for the measurement step readout)\n",
    "def reverse(string):\n",
    "    string = string[::-1]\n",
    "    return string\n",
    "\n",
    "# create a circular mask over a 2D array\n",
    "def circular_mask(h, w, center=None, radius=None):\n",
    "    if center is None: # image center\n",
    "        center = (int(w/2), int(h/2))\n",
    "    if radius is None: # smallest distance between center and image bounderies\n",
    "        radius = min(center[0], center[1], w-center[0], h-center[1])\n",
    "        \n",
    "    Y, X = np.ogrid[:h, :w]\n",
    "    dist_from_center = np.sqrt((X - center[0])**2 + (Y-center[1])**2)\n",
    "    mask = dist_from_center <= radius\n",
    "    \n",
    "    return mask"
   ]
  },
  {
   "cell_type": "markdown",
   "id": "d6af5b75",
   "metadata": {},
   "source": [
    "## 1) Generating an artificial image of the sky (frequency domain)"
   ]
  },
  {
   "cell_type": "code",
   "execution_count": 3,
   "id": "517eeac8",
   "metadata": {},
   "outputs": [
    {
     "name": "stdout",
     "output_type": "stream",
     "text": [
      "[[-0.19130635+3.7630601e-03j  0.06325716-2.2609744e-03j\n",
      "   0.05022297-3.6334696e-03j -0.10512353-7.3323734e-03j]\n",
      " [-0.07270001-5.5904631e-03j  0.13957345+1.6081851e-02j\n",
      "   1.6243469 +3.6783142e+00j -0.02391716-5.6233036e-04j]\n",
      " [-0.10946719+1.0671265e-02j  1.6243469 +3.6783142e+00j\n",
      "   1.6243469 +3.6783142e+00j  1.6243469 +3.6783142e+00j]\n",
      " [-0.04967388-6.8838606e-03j  0.02770452+4.2798626e-03j\n",
      "   1.6243469 +3.6783142e+00j  0.06249365-1.8927811e-03j]]\n"
     ]
    }
   ],
   "source": [
    "# image of the sky filled with double precision complex floats (32 bits per real/imaginary parts)\n",
    "# pixels are set to low complex random values (image background/noise) \n",
    "# few pixels are set to larger complex random values in a specified ellipse area (image source/subject)\n",
    "\n",
    "n = 4\n",
    "image = np.zeros((n, n), dtype='complex64')\n",
    "image.real = np.random.randn(n , n)/10\n",
    "image.imag = np.random.randn(n , n)/100\n",
    "\n",
    "h, w = image.shape\n",
    "mask = circular_mask(h, w, radius=h/3)\n",
    "sky_image = image.copy()\n",
    "sky_image[mask] = complex(np.random.rand()*10, np.random.rand()*10)\n",
    "print(sky_image)"
   ]
  },
  {
   "cell_type": "code",
   "execution_count": 4,
   "id": "1338bc56",
   "metadata": {},
   "outputs": [
    {
     "data": {
      "image/png": "[encoded data removed]",
      "text/plain": [
       "<Figure size 432x288 with 2 Axes>"
      ]
     },
     "metadata": {
      "needs_background": "light"
     },
     "output_type": "display_data"
    }
   ],
   "source": [
    "modulus = np.absolute(sky_image)\n",
    "plt.imshow(modulus, cmap='Blues')\n",
    "plt.colorbar();"
   ]
  },
  {
   "cell_type": "markdown",
   "id": "37d98bdc",
   "metadata": {},
   "source": [
    "## 2) Applying 2D FT (Fourier domain)"
   ]
  },
  {
   "cell_type": "code",
   "execution_count": 5,
   "id": "77e72e60",
   "metadata": {},
   "outputs": [
    {
     "name": "stdout",
     "output_type": "stream",
     "text": [
      "[[ 7.912798 +18.39821j   -5.318523 -11.326431j   1.0874343 +3.6683276j\n",
      "  -5.374299 -10.732267j ]\n",
      " [-4.9320974-11.057509j   1.3003697 +3.5192134j  1.622758  +3.72585j\n",
      "   1.6867864 +3.8769178j]\n",
      " [ 1.2484493 +3.6740894j  1.3779788 +3.669177j  -4.753496 -10.984167j\n",
      "   1.4134697 +3.7485356j]\n",
      " [-4.960949 -11.052646j   1.6943425 +3.4941041j  1.6464361 +3.6288817j\n",
      "   1.2876402 +3.8099225j]]\n"
     ]
    }
   ],
   "source": [
    "visibilities = np.fft.fft2(sky_image).astype('complex64')\n",
    "print(visibilities)"
   ]
  },
  {
   "cell_type": "code",
   "execution_count": 6,
   "id": "f18358c7",
   "metadata": {},
   "outputs": [
    {
     "data": {
      "image/png": "[encoded data removed]",
      "text/plain": [
       "<Figure size 432x288 with 2 Axes>"
      ]
     },
     "metadata": {
      "needs_background": "light"
     },
     "output_type": "display_data"
    }
   ],
   "source": [
    "modulus = np.absolute(visibilities)\n",
    "plt.imshow(modulus, cmap='Blues')\n",
    "plt.colorbar();"
   ]
  },
  {
   "cell_type": "markdown",
   "id": "54b17cf9",
   "metadata": {},
   "source": [
    "### Sanity check"
   ]
  },
  {
   "cell_type": "code",
   "execution_count": 7,
   "id": "6f6306ea",
   "metadata": {},
   "outputs": [
    {
     "name": "stdout",
     "output_type": "stream",
     "text": [
      "\n",
      "Reals MSE: 8.45244e-16\n",
      "Imaginaries MSE: 1.0625495e-15\n"
     ]
    }
   ],
   "source": [
    "img = np.fft.ifft2(visibilities).astype('complex64')\n",
    "\n",
    "test_real = ((sky_image.real - img.real)**2).mean()\n",
    "test_imag = ((sky_image.imag - img.imag)**2).mean()\n",
    "\n",
    "print()\n",
    " \n",
    "print('Reals MSE: '+ str(test_real))\n",
    "print('Imaginaries MSE: '+ str(test_imag))"
   ]
  },
  {
   "cell_type": "markdown",
   "id": "56a9e4a5",
   "metadata": {},
   "source": [
    "## 3) Data encoding: basis embedding (non-conventional domain)"
   ]
  },
  {
   "cell_type": "code",
   "execution_count": 8,
   "id": "ce856250",
   "metadata": {},
   "outputs": [],
   "source": [
    "# encoding binary data onto qubits\n",
    "def encoding2(qc, binary, off_set):\n",
    "    \n",
    "    for i in range(0, len(binary)):\n",
    "        qc.reset(off_set+i) # set quantum state |0> by default for all qubits\n",
    "\n",
    "        if binary[i]=='1':\n",
    "            qc.x(off_set+i) # act as a CX (controlled X gate)\n",
    "    \n",
    "    off_set += len(binary)\n",
    "\n",
    "    return off_set"
   ]
  },
  {
   "cell_type": "code",
   "execution_count": 9,
   "id": "3a57bccb",
   "metadata": {},
   "outputs": [
    {
     "name": "stdout",
     "output_type": "stream",
     "text": [
      "[[ 7.912798 +18.39821j   -5.318523 -11.326431j   1.0874343 +3.6683276j\n",
      "  -5.374299 -10.732267j ]\n",
      " [-4.9320974-11.057509j   1.3003697 +3.5192134j  1.622758  +3.72585j\n",
      "   1.6867864 +3.8769178j]\n",
      " [ 1.2484493 +3.6740894j  1.3779788 +3.669177j  -4.753496 -10.984167j\n",
      "   1.4134697 +3.7485356j]\n",
      " [-4.960949 -11.052646j   1.6943425 +3.4941041j  1.6464361 +3.6288817j\n",
      "   1.2876402 +3.8099225j]]\n"
     ]
    }
   ],
   "source": [
    "number_of_entries = visibilities.shape[0] * visibilities.shape[1]\n",
    "number_of_bits_real = 32\n",
    "number_of_bits_imag = 32\n",
    "number_of_bits = number_of_bits_real + number_of_bits_imag\n",
    "off_set = 0\n",
    "\n",
    "# encoding (n bits encoded onto n qubits)\n",
    "qc = QuantumCircuit(number_of_entries*number_of_bits)\n",
    "for i in range(0, visibilities.shape[0]):\n",
    "    for j in range(0, visibilities.shape[1]):\n",
    "            binary_real = float_to_bin_real(visibilities[i, j].real)\n",
    "            binary_imag = float_to_bin_imag(visibilities[i, j].imag)\n",
    "            binary = binary_real+binary_imag\n",
    "            off_set = encoding2(qc, binary, off_set)\n",
    "\n",
    "# measurement\n",
    "qc.measure_all()\n",
    "backend = Aer.get_backend('aer_simulator') # Qiskit's staple simulator (CHOICE MOTIVATION?)\n",
    "job = backend.run(qc, shots=1, memory=True) \n",
    "output = job.result().get_memory()[0]\n",
    "out = reverse(output)\n",
    "\n",
    "# readout\n",
    "chunks_real = []\n",
    "chunks_imag = []\n",
    "for i in range(0, number_of_entries):\n",
    "    chunks_real.append(out[number_of_bits*i:(number_of_bits*i)+number_of_bits_real]) # real parts represented every 64 bits starting from the first one\n",
    "    chunks_imag.append(out[(number_of_bits*i)+number_of_bits_imag:(number_of_bits*i)+number_of_bits_imag+number_of_bits_imag]) # imaginary parts represented every 64 bits starting after the first occurence of a real part \n",
    "\n",
    "readout = []\n",
    "for i in range(0, len(chunks_real)):\n",
    "    readout.append(complex(bin_to_float_real(chunks_real[i]), bin_to_float_imag(chunks_imag[i]))) \n",
    "\n",
    "readout = np.array(readout).reshape(n , n).astype('complex64')\n",
    "print(readout)"
   ]
  },
  {
   "cell_type": "markdown",
   "id": "2f5fd4fd",
   "metadata": {},
   "source": [
    "## 4) Applying 2D IFT (fidelity test)"
   ]
  },
  {
   "cell_type": "code",
   "execution_count": 10,
   "id": "6aa9775a",
   "metadata": {},
   "outputs": [
    {
     "name": "stdout",
     "output_type": "stream",
     "text": [
      "\n",
      "Reals MSE: 8.45244e-16\n",
      "Imaginaries MSE: 1.0625495e-15\n"
     ]
    }
   ],
   "source": [
    "img = np.fft.ifft2(readout).astype('complex64')\n",
    "\n",
    "test_real = ((sky_image.real - img.real)**2).mean()\n",
    "test_imag = ((sky_image.imag - img.imag)**2).mean()\n",
    "\n",
    "print()\n",
    "\n",
    "print('Reals MSE: '+ str(test_real))\n",
    "print('Imaginaries MSE: '+ str(test_imag))"
   ]
  },
  {
   "cell_type": "code",
   "execution_count": 11,
   "id": "16cce23f",
   "metadata": {},
   "outputs": [
    {
     "data": {
      "image/png": "[encoded data removed]",
      "text/plain": [
       "<Figure size 1080x360 with 2 Axes>"
      ]
     },
     "metadata": {
      "needs_background": "light"
     },
     "output_type": "display_data"
    }
   ],
   "source": [
    "fig, axs = plt.subplots(1, 2, figsize=(15,5))\n",
    "modulus1 = np.absolute(img)\n",
    "modulus2 = np.absolute(sky_image)\n",
    "\n",
    "axs[0].imshow(modulus1, cmap='Blues')\n",
    "axs[1].imshow(modulus2, cmap='Blues')\n",
    "\n",
    "axs[0].set_title(\"Reconstructed image\")\n",
    "axs[1].set_title(\"Original image\")\n",
    "\n",
    "for ax in axs.flat:\n",
    "    ax.set(xlabel='n', ylabel='n')"
   ]
  },
  {
   "cell_type": "code",
   "execution_count": null,
   "id": "ad361609",
   "metadata": {},
   "outputs": [],
   "source": []
  }
 ],
 "metadata": {
  "kernelspec": {
   "display_name": "Python 3",
   "language": "python",
   "name": "python3"
  },
  "language_info": {
   "codemirror_mode": {
    "name": "ipython",
    "version": 3
   },
   "file_extension": ".py",
   "mimetype": "text/x-python",
   "name": "python",
   "nbconvert_exporter": "python",
   "pygments_lexer": "ipython3",
   "version": "3.8.8"
  }
 },
 "nbformat": 4,
 "nbformat_minor": 5
}
