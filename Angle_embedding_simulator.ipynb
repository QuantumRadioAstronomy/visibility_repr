{
 "cells": [
  {
   "cell_type": "markdown",
   "id": "b4824755",
   "metadata": {},
   "source": [
    "# Angle embedding (simulator)\n",
    "\n",
    "Main steps:\n",
    "\n",
    "* initialize an image of the sky (frequency domain)\n",
    "* apply 2D FT --> visibilities (Fourier domain)\n",
    "* encode visibilities data into qubits using amplitude embedding (non-conventional domain)\n",
    "* measure qubits on simulator --> expected outcomes (back to conventional domain)\n",
    "* apply 2D IFT --> fidelity computation\n",
    "\n",
    "Amplitude embedding:\n",
    "\n",
    "* from https://docs.pennylane.ai/en/stable/code/api/pennylane.AmplitudeEmbedding.html\n",
    "* literature: https://hillside.net/plop/2020/papers/weigold.pdf"
   ]
  },
  {
   "cell_type": "code",
   "execution_count": 1,
   "id": "04ee6ebe",
   "metadata": {},
   "outputs": [],
   "source": [
    "import numpy as np\n",
    "import matplotlib.pyplot as plt\n",
    "import math\n",
    "\n",
    "import pennylane as qml\n",
    "from pennylane import numpy as pnp"
   ]
  },
  {
   "cell_type": "markdown",
   "id": "3bd5e888",
   "metadata": {},
   "source": [
    "## 1) Generating an artificial image of the sky (frequency domain)"
   ]
  },
  {
   "cell_type": "code",
   "execution_count": 2,
   "id": "9af37941",
   "metadata": {},
   "outputs": [
    {
     "name": "stdout",
     "output_type": "stream",
     "text": [
      "[[ 3.0727668e-03+2.4729563e-02j  9.7829914e-03+7.2282455e-03j\n",
      "  -1.5235436e-02+4.7353577e-04j -3.5854240e-03-3.8214719e-03j]\n",
      " [ 9.5737269e-03-1.1221851e-03j  2.0996485e+01+3.5195980e+01j\n",
      "   7.5435471e+01+5.1665092e+01j  1.1194140e-02+1.8410742e-02j]\n",
      " [ 8.0911247e+01+7.6932320e+01j  5.3387798e+01+9.0824654e+01j\n",
      "  -1.5735783e-02+2.2172980e-02j -7.8497957e-03+1.7782558e-03j]\n",
      " [ 3.1245071e-03+1.9622833e-02j -2.0798245e-02+4.6899463e-03j\n",
      "   2.6236109e-02-2.8212091e-03j -1.5718659e-02+1.7959690e-02j]]\n"
     ]
    }
   ],
   "source": [
    "#image of the sky filled with double precision complex floats ('complex64')\n",
    "#pixels are set to low complex random values (image background/noise) \n",
    "#few pixels are set to larger complex random values in a specified ellipse area (image source/subject)\n",
    "n = 4 #20\n",
    "sky_image = np.zeros((n, n), dtype='complex64')\n",
    "mask = np.zeros((n, n), dtype='bool')\n",
    "number_of_stars = np.random.randint(3, 11)\n",
    "radius = 1 #np.random.randint(1, 3)\n",
    "\n",
    "for i in range(0, number_of_stars):\n",
    "    index_i = np.random.randint(0, sky_image.shape[0]-radius)\n",
    "    index_j = np.random.randint(0, sky_image.shape[1]-radius)\n",
    "    for j in range(0, radius):\n",
    "        for k in range(0, radius):\n",
    "            sky_image[index_i+j][index_j+k] = complex(np.random.rand()*100, np.random.rand()*100)\n",
    "            mask[index_i+j][index_j+k] = True\n",
    "            \n",
    "sky_image.real += np.random.randn(n,n)/100\n",
    "sky_image.imag += np.random.randn(n,n)/100\n",
    "\n",
    "print(sky_image)"
   ]
  },
  {
   "cell_type": "code",
   "execution_count": 3,
   "id": "c34711ec",
   "metadata": {},
   "outputs": [
    {
     "data": {
      "image/png": "[encoded data removed]",
      "text/plain": [
       "<Figure size 432x288 with 2 Axes>"
      ]
     },
     "metadata": {
      "needs_background": "light"
     },
     "output_type": "display_data"
    }
   ],
   "source": [
    "modulus = np.absolute(sky_image)\n",
    "plt.imshow(modulus, cmap='Blues')\n",
    "plt.colorbar();"
   ]
  },
  {
   "cell_type": "markdown",
   "id": "749432b8",
   "metadata": {},
   "source": [
    "## 2) Applying a 2D FT (Fourier domain)"
   ]
  },
  {
   "cell_type": "code",
   "execution_count": 4,
   "id": "08b6f95d",
   "metadata": {},
   "outputs": [
    {
     "name": "stdout",
     "output_type": "stream",
     "text": [
      "[[ 230.71506 +254.72734j    131.4945   -49.098595j\n",
      "    82.00044   +2.5935886j -120.501945 +99.67986j  ]\n",
      " [ -47.442516-264.2122j    -244.39954  +16.708336j\n",
      "   -11.078496 -40.477753j   -20.795137 -19.674545j ]\n",
      " [  37.82393  +80.89172j    212.06392  +96.14937j\n",
      "   -27.00604  -30.293875j   100.72467 +161.00697j  ]\n",
      " [-221.12033  -71.292435j   -99.04147  -63.715557j\n",
      "   -43.98935  +68.26522j     40.60144 -240.8618j   ]]\n"
     ]
    }
   ],
   "source": [
    "visibilities = np.fft.fft2(sky_image).astype('complex64')\n",
    "print(visibilities)"
   ]
  },
  {
   "cell_type": "code",
   "execution_count": 5,
   "id": "ebc6146c",
   "metadata": {},
   "outputs": [
    {
     "data": {
      "image/png": "[encoded data removed]",
      "text/plain": [
       "<Figure size 432x288 with 2 Axes>"
      ]
     },
     "metadata": {
      "needs_background": "light"
     },
     "output_type": "display_data"
    }
   ],
   "source": [
    "modulus = np.absolute(visibilities)\n",
    "plt.imshow(modulus, cmap='Blues')\n",
    "plt.colorbar();"
   ]
  },
  {
   "cell_type": "markdown",
   "id": "8558fbb3",
   "metadata": {},
   "source": [
    "### Sanity check"
   ]
  },
  {
   "cell_type": "code",
   "execution_count": 6,
   "id": "aa7a59e8",
   "metadata": {},
   "outputs": [
    {
     "name": "stdout",
     "output_type": "stream",
     "text": [
      "Reals MSE: 5.3714325e-13\n",
      "Imaginaries MSE: 5.2831036e-13\n"
     ]
    }
   ],
   "source": [
    "img = np.fft.ifft2(visibilities).astype('complex64')\n",
    "\n",
    "test_real = ((sky_image.real - img.real)**2).mean()\n",
    "test_imag = ((sky_image.imag - img.imag)**2).mean()\n",
    " \n",
    "print('Reals MSE: '+ str(test_real))\n",
    "print('Imaginaries MSE: '+ str(test_imag))"
   ]
  },
  {
   "cell_type": "markdown",
   "id": "ada93768",
   "metadata": {},
   "source": [
    "## 3) Data encoding: amplitude embedding (non-conventional domain)"
   ]
  },
  {
   "cell_type": "code",
   "execution_count": 15,
   "id": "b1f34cb3",
   "metadata": {},
   "outputs": [
    {
     "ename": "MemoryError",
     "evalue": "Unable to allocate 32.0 GiB for an array with shape (4294967296,) and data type float64",
     "output_type": "error",
     "traceback": [
      "\u001b[1;31m---------------------------------------------------------------------------\u001b[0m",
      "\u001b[1;31mMemoryError\u001b[0m                               Traceback (most recent call last)",
      "\u001b[1;32m<ipython-input-15-9fbb0de54002>\u001b[0m in \u001b[0;36m<module>\u001b[1;34m\u001b[0m\n\u001b[1;32m----> 1\u001b[1;33m \u001b[0mnp\u001b[0m\u001b[1;33m.\u001b[0m\u001b[0mzeros\u001b[0m\u001b[1;33m(\u001b[0m\u001b[1;36m2\u001b[0m\u001b[1;33m**\u001b[0m\u001b[1;36m32\u001b[0m\u001b[1;33m)\u001b[0m\u001b[1;33m\u001b[0m\u001b[1;33m\u001b[0m\u001b[0m\n\u001b[0m",
      "\u001b[1;31mMemoryError\u001b[0m: Unable to allocate 32.0 GiB for an array with shape (4294967296,) and data type float64"
     ]
    }
   ],
   "source": [
    "np.zeros(2**32)"
   ]
  },
  {
   "cell_type": "code",
   "execution_count": 13,
   "id": "49aa4a9c",
   "metadata": {
    "scrolled": true
   },
   "outputs": [
    {
     "name": "stdout",
     "output_type": "stream",
     "text": [
      "[230.71506, 131.4945, 82.00044, -120.501945, -47.442516, -244.39954, -11.078496, -20.795137, 37.82393, 212.06392, -27.00604, 100.72467, -221.12033, -99.04147, -43.98935, 40.60144, 254.72734, -49.098595, 2.5935886, 99.67986, -264.2122, 16.708336, -40.477753, -19.674545, 80.89172, 96.14937, -30.293875, 161.00697, -71.292435, -63.715557, 68.26522, -240.8618]\n"
     ]
    },
    {
     "ename": "MemoryError",
     "evalue": "Unable to allocate 64.0 GiB for an array with shape (4294967296,) and data type complex128",
     "output_type": "error",
     "traceback": [
      "\u001b[1;31m---------------------------------------------------------------------------\u001b[0m",
      "\u001b[1;31mMemoryError\u001b[0m                               Traceback (most recent call last)",
      "\u001b[1;32m<ipython-input-13-254ccead8b6c>\u001b[0m in \u001b[0;36m<module>\u001b[1;34m\u001b[0m\n\u001b[0;32m     14\u001b[0m \u001b[0mprint\u001b[0m\u001b[1;33m(\u001b[0m\u001b[0mdatas\u001b[0m\u001b[1;33m)\u001b[0m\u001b[1;33m\u001b[0m\u001b[1;33m\u001b[0m\u001b[0m\n\u001b[0;32m     15\u001b[0m \u001b[0mwires\u001b[0m \u001b[1;33m=\u001b[0m \u001b[0mrange\u001b[0m\u001b[1;33m(\u001b[0m\u001b[0mlen\u001b[0m\u001b[1;33m(\u001b[0m\u001b[0mdatas\u001b[0m\u001b[1;33m)\u001b[0m\u001b[1;33m)\u001b[0m \u001b[1;31m# set the number of qubits (no padding needed if outputs an integer=integer.0)\u001b[0m\u001b[1;33m\u001b[0m\u001b[1;33m\u001b[0m\u001b[0m\n\u001b[1;32m---> 16\u001b[1;33m \u001b[0mang_dev\u001b[0m \u001b[1;33m=\u001b[0m \u001b[0mqml\u001b[0m\u001b[1;33m.\u001b[0m\u001b[0mdevice\u001b[0m\u001b[1;33m(\u001b[0m\u001b[1;34m'default.qubit'\u001b[0m\u001b[1;33m,\u001b[0m \u001b[0mwires\u001b[0m\u001b[1;33m)\u001b[0m\u001b[1;33m\u001b[0m\u001b[1;33m\u001b[0m\u001b[0m\n\u001b[0m\u001b[0;32m     17\u001b[0m \u001b[1;33m\u001b[0m\u001b[0m\n\u001b[0;32m     18\u001b[0m \u001b[1;31m# encoding\u001b[0m\u001b[1;33m\u001b[0m\u001b[1;33m\u001b[0m\u001b[1;33m\u001b[0m\u001b[0m\n",
      "\u001b[1;32m~\\anaconda3\\lib\\site-packages\\pennylane\\__init__.py\u001b[0m in \u001b[0;36mdevice\u001b[1;34m(name, *args, **kwargs)\u001b[0m\n\u001b[0;32m    324\u001b[0m \u001b[1;33m\u001b[0m\u001b[0m\n\u001b[0;32m    325\u001b[0m         \u001b[1;31m# Construct the device\u001b[0m\u001b[1;33m\u001b[0m\u001b[1;33m\u001b[0m\u001b[1;33m\u001b[0m\u001b[0m\n\u001b[1;32m--> 326\u001b[1;33m         \u001b[0mdev\u001b[0m \u001b[1;33m=\u001b[0m \u001b[0mplugin_device_class\u001b[0m\u001b[1;33m(\u001b[0m\u001b[1;33m*\u001b[0m\u001b[0margs\u001b[0m\u001b[1;33m,\u001b[0m \u001b[1;33m**\u001b[0m\u001b[0moptions\u001b[0m\u001b[1;33m)\u001b[0m\u001b[1;33m\u001b[0m\u001b[1;33m\u001b[0m\u001b[0m\n\u001b[0m\u001b[0;32m    327\u001b[0m \u001b[1;33m\u001b[0m\u001b[0m\n\u001b[0;32m    328\u001b[0m         \u001b[1;31m# Once the device is constructed, we set its custom expansion function if\u001b[0m\u001b[1;33m\u001b[0m\u001b[1;33m\u001b[0m\u001b[1;33m\u001b[0m\u001b[0m\n",
      "\u001b[1;32m~\\anaconda3\\lib\\site-packages\\pennylane\\devices\\default_qubit.py\u001b[0m in \u001b[0;36m__init__\u001b[1;34m(self, wires, r_dtype, c_dtype, shots, analytic)\u001b[0m\n\u001b[0;32m    182\u001b[0m         \u001b[1;31m# Create the initial state. Internally, we store the\u001b[0m\u001b[1;33m\u001b[0m\u001b[1;33m\u001b[0m\u001b[1;33m\u001b[0m\u001b[0m\n\u001b[0;32m    183\u001b[0m         \u001b[1;31m# state as an array of dimension [2]*wires.\u001b[0m\u001b[1;33m\u001b[0m\u001b[1;33m\u001b[0m\u001b[1;33m\u001b[0m\u001b[0m\n\u001b[1;32m--> 184\u001b[1;33m         \u001b[0mself\u001b[0m\u001b[1;33m.\u001b[0m\u001b[0m_state\u001b[0m \u001b[1;33m=\u001b[0m \u001b[0mself\u001b[0m\u001b[1;33m.\u001b[0m\u001b[0m_create_basis_state\u001b[0m\u001b[1;33m(\u001b[0m\u001b[1;36m0\u001b[0m\u001b[1;33m)\u001b[0m\u001b[1;33m\u001b[0m\u001b[1;33m\u001b[0m\u001b[0m\n\u001b[0m\u001b[0;32m    185\u001b[0m         \u001b[0mself\u001b[0m\u001b[1;33m.\u001b[0m\u001b[0m_pre_rotated_state\u001b[0m \u001b[1;33m=\u001b[0m \u001b[0mself\u001b[0m\u001b[1;33m.\u001b[0m\u001b[0m_state\u001b[0m\u001b[1;33m\u001b[0m\u001b[1;33m\u001b[0m\u001b[0m\n\u001b[0;32m    186\u001b[0m \u001b[1;33m\u001b[0m\u001b[0m\n",
      "\u001b[1;32m~\\anaconda3\\lib\\site-packages\\pennylane\\devices\\default_qubit.py\u001b[0m in \u001b[0;36m_create_basis_state\u001b[1;34m(self, index)\u001b[0m\n\u001b[0;32m    674\u001b[0m         \u001b[0mNote\u001b[0m\u001b[1;33m:\u001b[0m \u001b[0mThis\u001b[0m \u001b[0mfunction\u001b[0m \u001b[0mdoes\u001b[0m \u001b[1;32mnot\u001b[0m \u001b[0msupport\u001b[0m \u001b[0mbroadcasted\u001b[0m \u001b[0minputs\u001b[0m \u001b[0myet\u001b[0m\u001b[1;33m.\u001b[0m\u001b[1;33m\u001b[0m\u001b[1;33m\u001b[0m\u001b[0m\n\u001b[0;32m    675\u001b[0m         \"\"\"\n\u001b[1;32m--> 676\u001b[1;33m         \u001b[0mstate\u001b[0m \u001b[1;33m=\u001b[0m \u001b[0mnp\u001b[0m\u001b[1;33m.\u001b[0m\u001b[0mzeros\u001b[0m\u001b[1;33m(\u001b[0m\u001b[1;36m2\u001b[0m\u001b[1;33m**\u001b[0m\u001b[0mself\u001b[0m\u001b[1;33m.\u001b[0m\u001b[0mnum_wires\u001b[0m\u001b[1;33m,\u001b[0m \u001b[0mdtype\u001b[0m\u001b[1;33m=\u001b[0m\u001b[0mnp\u001b[0m\u001b[1;33m.\u001b[0m\u001b[0mcomplex128\u001b[0m\u001b[1;33m)\u001b[0m\u001b[1;33m\u001b[0m\u001b[1;33m\u001b[0m\u001b[0m\n\u001b[0m\u001b[0;32m    677\u001b[0m         \u001b[0mstate\u001b[0m\u001b[1;33m[\u001b[0m\u001b[0mindex\u001b[0m\u001b[1;33m]\u001b[0m \u001b[1;33m=\u001b[0m \u001b[1;36m1\u001b[0m\u001b[1;33m\u001b[0m\u001b[1;33m\u001b[0m\u001b[0m\n\u001b[0;32m    678\u001b[0m         \u001b[0mstate\u001b[0m \u001b[1;33m=\u001b[0m \u001b[0mself\u001b[0m\u001b[1;33m.\u001b[0m\u001b[0m_asarray\u001b[0m\u001b[1;33m(\u001b[0m\u001b[0mstate\u001b[0m\u001b[1;33m,\u001b[0m \u001b[0mdtype\u001b[0m\u001b[1;33m=\u001b[0m\u001b[0mself\u001b[0m\u001b[1;33m.\u001b[0m\u001b[0mC_DTYPE\u001b[0m\u001b[1;33m)\u001b[0m\u001b[1;33m\u001b[0m\u001b[1;33m\u001b[0m\u001b[0m\n",
      "\u001b[1;31mMemoryError\u001b[0m: Unable to allocate 64.0 GiB for an array with shape (4294967296,) and data type complex128"
     ]
    }
   ],
   "source": [
    "# Amplitude embedding encodes a normalized 2^n-dimensional feature vector into the state of n qubits\n",
    "# --> uses log2(n) qubits for n classical data\n",
    "from pennylane.templates.embeddings import AngleEmbedding\n",
    "\n",
    "n = visibilities.shape[0]*visibilities.shape[1]\n",
    "data = visibilities.flatten()\n",
    "\n",
    "data_real = []\n",
    "data_imag = []\n",
    "for i in range(0, len(data)):\n",
    "    data_real.append(data[i].real)\n",
    "    data_imag.append(data[i].imag)\n",
    "datas = data_real + data_imag\n",
    "print(datas)\n",
    "wires = range(len(datas)) # set the number of qubits (no padding needed if outputs an integer=integer.0)\n",
    "ang_dev = qml.device('default.qubit', wires)\n",
    "\n",
    "# encoding\n",
    "@qml.qnode(ang_dev)\n",
    "def ang_encoding(data):\n",
    "    AngleEmbedding(features=data, wires=wires, rotation='Z')\n",
    "    return qml.state\n",
    "\n",
    "readout = ang_encoding(datas).astype('complex64')\n",
    "#qml.draw_mpl(ang_encoding)(datas);\n",
    "#readout = np.array(readout).reshape(sky_image.shape[0], sky_image.shape[1])\n",
    "print(readout)"
   ]
  },
  {
   "cell_type": "markdown",
   "id": "59f8ac30",
   "metadata": {},
   "source": [
    "## 4) Applying 2D IFT (fidelity test)"
   ]
  },
  {
   "cell_type": "code",
   "execution_count": null,
   "id": "e18b327f",
   "metadata": {},
   "outputs": [],
   "source": [
    "img = np.fft.ifft2(readout).astype('complex64')\n",
    "\n",
    "test_real = ((sky_image.real - img.real)**2).mean()\n",
    "test_imag = ((sky_image.imag - img.imag)**2).mean()\n",
    "\n",
    "print('Reals MSE: '+ str(test_real))\n",
    "print('Imaginaries MSE: '+ str(test_imag))"
   ]
  },
  {
   "cell_type": "code",
   "execution_count": null,
   "id": "fc3de505",
   "metadata": {},
   "outputs": [],
   "source": [
    "fig, axs = plt.subplots(1, 2, figsize=(15,5))\n",
    "modulus1 = np.absolute(img)\n",
    "modulus2 = np.absolute(sky_image)\n",
    "\n",
    "axs[0].imshow(modulus1, cmap='Blues')\n",
    "axs[1].imshow(modulus2, cmap='Blues')\n",
    "\n",
    "axs[0].set_title(\"Reconstructed image\")\n",
    "axs[1].set_title(\"Original image\")\n",
    "\n",
    "for ax in axs.flat:\n",
    "    ax.set(xlabel='n', ylabel='n')"
   ]
  },
  {
   "cell_type": "code",
   "execution_count": null,
   "id": "0f7fab4d",
   "metadata": {},
   "outputs": [],
   "source": []
  }
 ],
 "metadata": {
  "kernelspec": {
   "display_name": "Python 3",
   "language": "python",
   "name": "python3"
  },
  "language_info": {
   "codemirror_mode": {
    "name": "ipython",
    "version": 3
   },
   "file_extension": ".py",
   "mimetype": "text/x-python",
   "name": "python",
   "nbconvert_exporter": "python",
   "pygments_lexer": "ipython3",
   "version": "3.8.8"
  }
 },
 "nbformat": 4,
 "nbformat_minor": 5
}
