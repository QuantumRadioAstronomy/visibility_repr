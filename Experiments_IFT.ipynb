{
 "cells": [
  {
   "cell_type": "code",
   "execution_count": 11,
   "id": "416042c0",
   "metadata": {},
   "outputs": [],
   "source": [
    "import numpy as np\n",
    "import matplotlib.pyplot as plt\n",
    "import struct\n",
    "import math\n",
    "from statistics import mean, stdev\n",
    "\n",
    "import qiskit\n",
    "from qiskit import *\n",
    "\n",
    "import pennylane as qml\n",
    "from pennylane import numpy as pnp\n",
    "\n",
    "import warnings\n",
    "warnings.filterwarnings('ignore')\n",
    "from tqdm import tqdm"
   ]
  },
  {
   "cell_type": "code",
   "execution_count": 15,
   "id": "4b78d291",
   "metadata": {},
   "outputs": [
    {
     "name": "stderr",
     "output_type": "stream",
     "text": [
      "100%|████████████████████████████████████████████████████████████████████████████████████| 2/2 [00:03<00:00,  1.60s/it]"
     ]
    },
    {
     "name": "stdout",
     "output_type": "stream",
     "text": [
      "Binary MSEs: [5.503049e-14, 3.83518e-14]\n",
      "\n",
      "Amplitude MSEs: [7.929514e-13, 5.4626937e-14]\n",
      "\n",
      "Binary mean: \u001b[1m4.6691146e-14\u001b[0m\n",
      "Binary std: \u001b[1m8.339346e-15\u001b[0m\n",
      "Amplitude mean: \u001b[1m4.2378918e-13\u001b[0m\n",
      "Amplitude std: \u001b[1m3.6916225e-13\u001b[0m\n"
     ]
    },
    {
     "name": "stderr",
     "output_type": "stream",
     "text": [
      "\n"
     ]
    }
   ],
   "source": [
    "iterations = 2\n",
    "img_size = 10\n",
    "binary_MSE = []\n",
    "amplitude_MSE = []\n",
    "\n",
    "for i in tqdm(range(0, iterations)):\n",
    "    \n",
    "    initial, visibilities = generate_img(img_size) \n",
    "    \n",
    "    # BINARY\n",
    "    binary_readout = binary(visibilities)\n",
    "    \n",
    "    # AMPLITUDE\n",
    "    n_n = img_size*img_size\n",
    "    inp = visibilities.flatten()\n",
    "    norm = qml.math.sum(qml.math.abs(inp) ** 2)\n",
    "    number_of_qbits = math.ceil(math.log2(n_n))\n",
    "    wires = range(number_of_qbits)\n",
    "    amp_dev = qml.device('default.qubit', wires)\n",
    "    @qml.qnode(amp_dev)\n",
    "    def amp_encoding(data):\n",
    "        qml.AmplitudeEmbedding(data, wires, normalize=True, pad_with=0.)\n",
    "        return qml.state()\n",
    "    readout = amp_encoding(inp).astype('complex64')\n",
    "    readout.numpy()\n",
    "    readout = readout*qml.math.sqrt(norm) \n",
    "    readout = readout[:n_n] \n",
    "    readout = np.array(readout).reshape(img_size , img_size)\n",
    "    amplitude_readout = np.fft.ifft2(readout).astype('complex64')\n",
    "    \n",
    "    binary_mse = MSE(initial, binary_readout)\n",
    "    amplitude_mse = MSE(initial, amplitude_readout)\n",
    "    \n",
    "    binary_MSE.append(binary_mse)\n",
    "    amplitude_MSE.append(amplitude_mse)\n",
    "\n",
    "print('Binary MSEs: '+ str(binary_MSE))\n",
    "print()\n",
    "print('Amplitude MSEs: '+ str(amplitude_MSE))\n",
    "print()\n",
    "\n",
    "binary_mean = mean(binary_MSE)\n",
    "print('Binary mean: '+ '\\033[1m' + str(binary_mean) + '\\033[0m')\n",
    "binary_std = np.std(binary_MSE)\n",
    "print('Binary std: '+ '\\033[1m' + str(binary_std) + '\\033[0m')\n",
    "amplitude_mean = mean(amplitude_MSE)\n",
    "print('Amplitude mean: '+ '\\033[1m' + str(amplitude_mean) + '\\033[0m')\n",
    "amplitude_std = np.std(amplitude_MSE)\n",
    "print('Amplitude std: '+ '\\033[1m' + str(amplitude_std) + '\\033[0m')"
   ]
  },
  {
   "cell_type": "code",
   "execution_count": 3,
   "id": "1a7a6653",
   "metadata": {},
   "outputs": [],
   "source": [
    "# float to binary \n",
    "def float_to_bin_real(num):\n",
    "    return format(struct.unpack('!I', struct.pack('!f', num))[0], '032b')\n",
    "def float_to_bin_imag(num):\n",
    "    return format(struct.unpack('!I', struct.pack('!f', num))[0], '032b')\n",
    "\n",
    "# binary to float\n",
    "def bin_to_float_real(binary):\n",
    "    return struct.unpack('!f',struct.pack('!I', int(binary, 2)))[0]\n",
    "def bin_to_float_imag(binary):\n",
    "    return struct.unpack('!f',struct.pack('!I', int(binary, 2)))[0]\n",
    "\n",
    "# reverse a string (for the measurement step readout)\n",
    "def reverse(string):\n",
    "    string = string[::-1]\n",
    "    return string"
   ]
  },
  {
   "cell_type": "code",
   "execution_count": 4,
   "id": "35c4df90",
   "metadata": {},
   "outputs": [],
   "source": [
    "def generate_img(n):\n",
    "\n",
    "    sky_image = np.zeros((n, n), dtype='complex64')\n",
    "    mask = np.zeros((n, n), dtype='bool')\n",
    "    stars = np.random.randint(1, 7) \n",
    "    radius = 1 \n",
    "\n",
    "    for i in range(0, stars):\n",
    "        index_i = np.random.randint(0, n-radius)\n",
    "        index_j = np.random.randint(0, n-radius)\n",
    "        for j in range(0, radius):\n",
    "            for k in range(0, radius):\n",
    "                sky_image[index_i+j][index_j+k] = complex(np.random.rand()*100, np.random.rand()*100)\n",
    "                mask[index_i+j][index_j+k] = True\n",
    "            \n",
    "    sky_image.real += np.random.randn(n,n)/100\n",
    "    sky_image.imag += np.random.randn(n,n)/100\n",
    "    \n",
    "    visibilities = np.fft.fft2(sky_image).astype('complex64')\n",
    "    \n",
    "    return sky_image, visibilities"
   ]
  },
  {
   "cell_type": "code",
   "execution_count": 5,
   "id": "bfb65987",
   "metadata": {},
   "outputs": [],
   "source": [
    "def binary_encode(qc, binary, off_set):\n",
    "    \n",
    "    for i in range(0, len(binary)):\n",
    "        qc.reset(off_set+i) \n",
    "\n",
    "        if binary[i]=='1':\n",
    "            qc.x(off_set+i) \n",
    "    \n",
    "    off_set += len(binary)\n",
    "\n",
    "    return off_set"
   ]
  },
  {
   "cell_type": "code",
   "execution_count": 6,
   "id": "10a80907",
   "metadata": {},
   "outputs": [],
   "source": [
    "def binary(img):\n",
    "    \n",
    "    number_of_pixels = img.shape[0]*img.shape[1]\n",
    "    number_of_bits_real = 32\n",
    "    number_of_bits_imag = 32\n",
    "    number_of_bits = number_of_bits_real + number_of_bits_imag\n",
    "    number_of_qbits = number_of_pixels*number_of_bits\n",
    "    off_set = 0\n",
    "\n",
    "    qc = QuantumCircuit(number_of_qbits)\n",
    "    for i in range(0, img.shape[0]):\n",
    "        for j in range(0, img.shape[1]):\n",
    "                binary_real = float_to_bin_real(img[i, j].real)\n",
    "                binary_imag = float_to_bin_imag(img[i, j].imag)\n",
    "                binary = binary_real+binary_imag\n",
    "                off_set = binary_encode(qc, binary, off_set)\n",
    "                \n",
    "    qc.measure_all()\n",
    "    backend = Aer.get_backend('aer_simulator') \n",
    "    job = backend.run(qc, shots=1, memory=True) \n",
    "    output = job.result().get_memory()[0]\n",
    "    out = reverse(output)\n",
    "    \n",
    "    chunks_real = []\n",
    "    chunks_imag = []\n",
    "    for i in range(0, number_of_pixels):\n",
    "        chunks_real.append(out[number_of_bits*i:(number_of_bits*i)+number_of_bits_real]) \n",
    "        chunks_imag.append(out[(number_of_bits*i)+number_of_bits_imag:(number_of_bits*i)+number_of_bits_imag+number_of_bits_imag]) \n",
    "\n",
    "    readout = []\n",
    "    for i in range(0, len(chunks_real)):\n",
    "        readout.append(complex(bin_to_float_real(chunks_real[i]), bin_to_float_imag(chunks_imag[i]))) \n",
    "\n",
    "    readout = np.array(readout).reshape(img.shape[0] , img.shape[1]).astype('complex64')\n",
    "    readout = np.fft.ifft2(readout).astype('complex64') #IFT\n",
    "    \n",
    "    return readout"
   ]
  },
  {
   "cell_type": "code",
   "execution_count": 8,
   "id": "24c5b3e7",
   "metadata": {},
   "outputs": [],
   "source": [
    "def MSE(img1, img2):\n",
    "    diff_real = (img1.real - img2.real)\n",
    "    diff_imag = (img1.imag - img2.imag)\n",
    "    diff_sum = diff_real + diff_imag\n",
    "    \n",
    "    mse = (diff_sum**2).mean()\n",
    "    \n",
    "    return mse"
   ]
  },
  {
   "cell_type": "code",
   "execution_count": null,
   "id": "beb502d0",
   "metadata": {},
   "outputs": [],
   "source": []
  }
 ],
 "metadata": {
  "kernelspec": {
   "display_name": "Python 3",
   "language": "python",
   "name": "python3"
  },
  "language_info": {
   "codemirror_mode": {
    "name": "ipython",
    "version": 3
   },
   "file_extension": ".py",
   "mimetype": "text/x-python",
   "name": "python",
   "nbconvert_exporter": "python",
   "pygments_lexer": "ipython3",
   "version": "3.8.8"
  }
 },
 "nbformat": 4,
 "nbformat_minor": 5
}
