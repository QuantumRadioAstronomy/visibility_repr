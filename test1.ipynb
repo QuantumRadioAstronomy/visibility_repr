{
 "cells": [
  {
   "cell_type": "markdown",
   "id": "2a6105cd",
   "metadata": {},
   "source": [
    "# Naive representation"
   ]
  },
  {
   "cell_type": "code",
   "execution_count": 1,
   "id": "ad6cbc81",
   "metadata": {},
   "outputs": [],
   "source": [
    "import numpy as np\n",
    "import matplotlib.pyplot as plt\n",
    "import struct\n",
    "\n",
    "import qiskit\n",
    "from qiskit import *"
   ]
  },
  {
   "cell_type": "code",
   "execution_count": 2,
   "id": "253aa61f",
   "metadata": {},
   "outputs": [],
   "source": [
    "# float to binary \n",
    "def float_to_bin_real(num):\n",
    "    return format(struct.unpack('!I', struct.pack('!f', num))[0], '032b')\n",
    "def float_to_bin_imag(num):\n",
    "    return format(struct.unpack('!I', struct.pack('!f', num))[0], '032b')\n",
    "\n",
    "# binary to float\n",
    "def bin_to_float_real(binary):\n",
    "    return struct.unpack('!f',struct.pack('!I', int(binary, 2)))[0]\n",
    "def bin_to_float_imag(binary):\n",
    "    return struct.unpack('!f',struct.pack('!I', int(binary, 2)))[0]\n",
    "\n",
    "# reverse a string (for the measurement step readout)\n",
    "def reverse(string):\n",
    "    string = string[::-1]\n",
    "    return string"
   ]
  },
  {
   "cell_type": "code",
   "execution_count": 3,
   "id": "21863931",
   "metadata": {},
   "outputs": [
    {
     "name": "stdout",
     "output_type": "stream",
     "text": [
      "[[-8.42038728e-03-3.4719571e-03j -1.56501345e-02-1.0030005e-02j\n",
      "   4.70301835e-03+1.7563745e-02j  7.50475144e-03+5.9869722e-03j\n",
      "  -1.11386389e-03+1.0112015e-02j  4.89772072e+01+6.8351700e+01j\n",
      "  -5.32045867e-03+6.6767600e-03j  5.31000862e+01+3.3378910e+01j\n",
      "  -1.49340499e-02-6.6317711e-03j  6.70281099e-03+4.6691499e-03j]\n",
      " [-1.20808072e-02-8.6756879e-03j -2.56932853e-03+7.6537058e-03j\n",
      "   3.10590933e-03-7.9441937e-03j  1.45057477e-02-1.4319804e-02j\n",
      "   4.47067199e-03+7.9433661e-04j -7.75601948e-03+1.2967494e-02j\n",
      "   1.78958476e-02-5.9367707e-03j  5.28550148e+01+7.8082436e+01j\n",
      "  -6.70897728e-03+7.8240794e-04j  8.11430253e-03-4.4714776e-03j]\n",
      " [-1.79636676e-03+1.7225474e-02j  6.11728709e-03+2.7127494e-03j\n",
      "   1.59805138e-02+4.0253997e-03j -4.34439303e-03+1.8911358e-02j\n",
      "   1.04391379e-02+2.1270229e-02j  1.27908252e-02+2.5063157e-02j\n",
      "  -6.28213771e-03-1.5821099e-02j -4.32560360e-03-1.1278733e-02j\n",
      "  -9.08388174e-04-9.7265147e-04j -1.35913352e-02-2.7944758e-03j]\n",
      " [-9.71257500e-03+4.9396167e-03j -3.88273643e-03-3.1219246e-03j\n",
      "   4.49097808e-03+9.4944723e-03j  5.27280150e-03-1.4174704e-03j\n",
      "  -1.30442798e-03-2.5628053e-03j -1.71601009e-02-1.6740587e-02j\n",
      "   1.07018799e-02+1.2877537e-02j  1.43245645e-02-4.7388980e-03j\n",
      "  -3.17537552e-03+9.7367670e-03j -1.26905227e-03+1.8244529e-02j]\n",
      " [ 1.28925024e-02+8.2706446e-03j  4.19967994e-03-1.1817844e-02j\n",
      "  -6.11123163e-03-5.6752432e-03j -9.53907147e-04+1.2677041e-02j\n",
      "  -1.86495215e-03-2.5853231e-03j  3.98368156e-03-1.3417095e-02j\n",
      "   2.12247088e-03-6.8372802e-04j  5.43345790e-03+1.0670611e-02j\n",
      "   3.24296253e-03+4.2163921e-03j -6.22698432e-03+2.9638401e-05j]\n",
      " [-6.05763076e-03-1.0653990e-02j  1.77147016e-02+5.2182986e-03j\n",
      "  -8.82994756e-03+9.4222324e-03j  1.17592840e-03-5.5108196e-03j\n",
      "   2.49648243e-02-5.3565879e-03j  7.76256574e-03+1.0091066e-02j\n",
      "  -1.04626752e-02+7.4325800e-03j -2.20152480e-03+1.5442244e-03j\n",
      "  -1.31563167e-03-5.1663566e-04j  6.32546004e-03-7.9173045e-03j]\n",
      " [-6.20194292e-03+2.5716217e-03j -1.13153097e-03+6.3978801e-03j\n",
      "  -2.11510947e-03+2.7886191e-03j -5.94896264e-03-7.6025757e-03j\n",
      "  -7.83130294e-04+2.0122277e-03j  1.81905702e-02-2.1152282e-02j\n",
      "   3.35670896e-02+3.9927228e-03j -1.19828954e-02+1.5376953e-03j\n",
      "   5.47679596e+01+1.0532219e+01j  3.03546316e-03-4.0388452e-03j]\n",
      " [ 1.28188310e-02+2.6390820e-03j -1.78644899e-02-2.6267825e-03j\n",
      "  -9.26391501e-03-9.0753194e-03j  1.83901545e-02-1.2734967e-02j\n",
      "  -4.76414151e-03+2.3280889e-02j -8.05456657e-03-5.6432020e-03j\n",
      "   1.64056104e-03+1.0224933e-02j -1.19498614e-02-4.6439767e-03j\n",
      "  -1.04357898e-02-1.6047742e-02j -4.86363657e-03+7.2043145e-04j]\n",
      " [ 4.06379020e-03+1.8960675e-02j  9.49073563e+01+1.1834674e+00j\n",
      "  -9.43590142e-03-3.9449376e-03j  2.07018182e-02-1.8367573e-04j\n",
      "   1.37591418e-02+3.5590380e-03j  1.47452829e-02+1.1189821e-02j\n",
      "   5.01545472e-03-1.1317711e-02j  1.48805343e-02+1.0114049e-02j\n",
      "  -3.15914005e-02-4.8842472e-03j  9.58220474e-03-1.7387317e-02j]\n",
      " [-1.50600951e-02+2.0783639e-03j -1.11846384e-02-1.8678563e-02j\n",
      "   6.70236256e-03-1.5730614e-02j  3.61441099e-03-3.0121501e-03j\n",
      "  -2.86307130e-02+4.7756648e-03j  7.49570644e-03+5.0596087e-03j\n",
      "   2.84110033e-03-6.0384301e-04j -3.03476606e-03-7.8249834e-03j\n",
      "   1.39789411e-03+4.0646261e-03j  1.00479089e-02+8.7755942e-04j]]\n"
     ]
    }
   ],
   "source": [
    "# image of the sky filled with double precision complex floats (single precision for reals/imaginaries)\n",
    "# few pixels are set to relatively large complex random values in random spots (image sources)\n",
    "# relatively small complex values are added (white noise from background radiations) \n",
    "\n",
    "n = 10 #number of antennas\n",
    "\n",
    "sky_image = np.zeros((n, n), dtype='complex64')\n",
    "mask = np.zeros((n, n), dtype='bool')\n",
    "stars = np.random.randint(1, 11) #random number of sources\n",
    "radius = 1 #np.random.randint(1, 3) #with random radius\n",
    "\n",
    "for i in range(0, stars):\n",
    "    index_i = np.random.randint(0, sky_image.shape[0]-radius)\n",
    "    index_j = np.random.randint(0, sky_image.shape[1]-radius)\n",
    "    for j in range(0, radius):\n",
    "        for k in range(0, radius):\n",
    "            sky_image[index_i+j][index_j+k] = complex(np.random.rand()*100, np.random.rand()*100)\n",
    "            mask[index_i+j][index_j+k] = True\n",
    "            \n",
    "sky_image.real += np.random.randn(n,n)/100\n",
    "sky_image.imag += np.random.randn(n,n)/100\n",
    "\n",
    "print(sky_image)"
   ]
  },
  {
   "cell_type": "code",
   "execution_count": 4,
   "id": "bd84db7e",
   "metadata": {},
   "outputs": [
    {
     "data": {
      "image/png": "[encoded data removed]",
      "text/plain": [
       "<Figure size 432x288 with 2 Axes>"
      ]
     },
     "metadata": {
      "needs_background": "light"
     },
     "output_type": "display_data"
    }
   ],
   "source": [
    "modulus = np.absolute(sky_image)\n",
    "plt.imshow(modulus, cmap='Reds') \n",
    "cbar = plt.colorbar()"
   ]
  },
  {
   "cell_type": "code",
   "execution_count": 5,
   "id": "77e72e60",
   "metadata": {},
   "outputs": [
    {
     "name": "stdout",
     "output_type": "stream",
     "text": [
      "[[ 304.6664   +191.57466j    -103.47078    -1.6341577j\n",
      "     8.702567 -150.25797j      36.030293 -171.59529j\n",
      "   -73.52852   +98.01088j    -195.18623  -170.33682j\n",
      "   117.15636  +112.201614j   -109.69166  +197.57698j\n",
      "  -112.09858   +90.435814j    127.12458  -195.63689j   ]\n",
      " [ 168.47235  +248.11469j    -117.03143   +62.122017j\n",
      "    94.37214  -115.38894j     236.28897  -142.8212j\n",
      "    67.925255 +188.96501j    -269.54865  -200.9207j\n",
      "    40.88668  -143.61885j     -40.723328  +17.762104j\n",
      "  -126.92141  +164.15836j     -54.044846  -78.2131j    ]\n",
      " [ 142.13449   +81.51722j     -76.030525 +166.48203j\n",
      "   -27.770205 +123.86627j      96.941795  -66.65501j\n",
      "   143.13542  +167.76767j     -88.299835 -179.39078j\n",
      "   185.42438  -145.42645j      41.59298   -13.2657385j\n",
      "  -198.11638  +113.77307j    -219.44377  -249.09521j   ]\n",
      " [  90.68127   +25.893509j   -189.78084   +72.512146j\n",
      "  -180.55846   +50.25158j      13.174866 -125.77508j\n",
      "   205.28075  +262.27948j     -76.98833   +84.89893j\n",
      "    88.784836  -25.206202j    104.53341  -131.96332j\n",
      "    40.56449   +28.037535j    -95.65569  -241.41112j   ]\n",
      " [  97.51332  -123.10437j      -9.5485325-135.53215j\n",
      "   -53.64977   +38.319992j   -127.24057   -96.692955j\n",
      "    -3.7646382+181.7332j     -173.83092   +41.77631j\n",
      "    63.61053   +37.897808j    163.17235   -17.267776j\n",
      "   141.00159  +207.1942j      -97.28441  -134.11136j   ]\n",
      " [ 198.98404   +35.47296j      77.89765   -53.78223j\n",
      "     2.5620842 +38.03848j    -141.36873  -235.93536j\n",
      "    42.47836   -50.620514j    -89.35676   -14.312888j\n",
      "   -63.953552 +164.55031j    -103.51381    +9.357259j\n",
      "    65.305374 +154.56316j      11.271644  -46.798874j  ]\n",
      " [  -8.882175 +184.1175j       -1.2493097 -86.79274j\n",
      "   200.45932   +40.751465j     55.257977  -90.78684j\n",
      "    74.058716   +0.33417484j  -92.180374 -136.64595j\n",
      "   -74.91754    +4.9120812j  -146.28879  -138.12302j\n",
      "    54.287502 +111.59818j     -60.449734 +110.34149j   ]\n",
      " [ -39.13657  +133.88564j     -69.61882   -21.873182j\n",
      "   149.26053  +188.20648j     -18.773333  +82.6185j\n",
      "    37.53651   +11.357161j     93.0955   -231.45647j\n",
      "   179.27177   +42.942524j   -135.48419   -77.47184j\n",
      "   -82.260414  -34.974243j   -113.75188   -92.96348j   ]\n",
      " [ -25.032858 +174.69118j    -295.3563    -83.74494j\n",
      "     0.6468425  -1.8539718j     6.85447   +62.714596j\n",
      "    28.009813 +198.11624j      38.830284  -63.953186j\n",
      "   194.37837  +131.05606j     -76.83904   -79.68403j\n",
      "    46.837307 -160.53491j      81.59986  -177.34451j   ]\n",
      " [  91.10737   +65.39186j    -187.06226  -199.75856j\n",
      "    62.179478 -110.526924j    -21.370266  +59.664047j\n",
      "  -184.97156  +233.92865j    -167.54405  -146.72833j\n",
      "   240.9824   +101.99637j      47.214    +131.37949j\n",
      "    35.34332   +51.021694j     83.845985 -186.48944j   ]]\n"
     ]
    }
   ],
   "source": [
    "visibilities = np.fft.fft2(sky_image).astype('complex64')\n",
    "print(visibilities)"
   ]
  },
  {
   "cell_type": "code",
   "execution_count": 6,
   "id": "3570e801",
   "metadata": {},
   "outputs": [
    {
     "data": {
      "image/png": "[encoded data removed]",
      "text/plain": [
       "<Figure size 432x288 with 2 Axes>"
      ]
     },
     "metadata": {
      "needs_background": "light"
     },
     "output_type": "display_data"
    }
   ],
   "source": [
    "modulus = np.absolute(visibilities)\n",
    "plt.imshow(modulus, cmap='Blues')\n",
    "plt.colorbar();"
   ]
  },
  {
   "cell_type": "code",
   "execution_count": 7,
   "id": "6f6306ea",
   "metadata": {},
   "outputs": [
    {
     "name": "stdout",
     "output_type": "stream",
     "text": [
      "Reals MSE: 7.87772e-14\n",
      "Imaginaries MSE: 1.2075306e-13\n"
     ]
    }
   ],
   "source": [
    "sanity = np.fft.ifft2(visibilities).astype('complex64')\n",
    "\n",
    "test1_real = ((sky_image.real - sanity.real)**2).mean()\n",
    "test1_imag = ((sky_image.imag - sanity.imag)**2).mean()\n",
    " \n",
    "print('Reals MSE: '+ str(test1_real))\n",
    "print('Imaginaries MSE: '+ str(test1_imag))"
   ]
  },
  {
   "cell_type": "code",
   "execution_count": 8,
   "id": "5d00d3fc",
   "metadata": {},
   "outputs": [],
   "source": [
    "from numpy import pi\n",
    "# importing Qiskit\n",
    "from qiskit import QuantumCircuit, transpile, Aer, IBMQ\n",
    "from qiskit.providers.ibmq import least_busy\n",
    "from qiskit.tools.monitor import job_monitor\n",
    "from qiskit.visualization import plot_histogram, plot_bloch_multivector"
   ]
  },
  {
   "cell_type": "code",
   "execution_count": 9,
   "id": "ce856250",
   "metadata": {},
   "outputs": [],
   "source": [
    "# encoding binary data onto qubits\n",
    "def binary_encode(qc, binary, off_set):\n",
    "    \n",
    "    for i in range(0, len(binary)):\n",
    "        qc.reset(off_set+i) # set quantum state |0> by default for all qubits\n",
    "\n",
    "        if binary[i]=='1':\n",
    "            qc.x(off_set+i) # act as a CX (controlled X gate)\n",
    "    \n",
    "    off_set += len(binary)\n",
    "\n",
    "    return off_set"
   ]
  },
  {
   "cell_type": "code",
   "execution_count": 10,
   "id": "8f61f4e5",
   "metadata": {},
   "outputs": [],
   "source": [
    "number_of_entries = visibilities.shape[0] * visibilities.shape[1]\n",
    "number_of_bits_real = 32\n",
    "number_of_bits_imag = 32\n",
    "number_of_bits = number_of_bits_real + number_of_bits_imag\n",
    "off_set = 0\n",
    "\n",
    "# encoding (n bits encoded onto n qubits)\n",
    "qc = QuantumCircuit(number_of_entries*number_of_bits)\n",
    "for i in range(0, visibilities.shape[0]):\n",
    "    for j in range(0, visibilities.shape[1]):\n",
    "            binary_real = float_to_bin_real(visibilities[i, j].real)\n",
    "            binary_imag = float_to_bin_imag(visibilities[i, j].imag)\n",
    "            binary = binary_real+binary_imag\n",
    "            off_set = binary_encode(qc, binary, off_set)"
   ]
  },
  {
   "cell_type": "code",
   "execution_count": 11,
   "id": "f87021fd",
   "metadata": {},
   "outputs": [],
   "source": [
    "#RUNNING THIS CELL OUTPUTS MEMORY ISSUE\n",
    "\n",
    "#sim = Aer.get_backend(\"aer_simulator_matrix_product_state\")\n",
    "#qc_init = qc.copy()\n",
    "#qc_init.save_statevector()\n",
    "#statevector = sim.run(qc_init).result().get_statevector()\n",
    "#plot_bloch_multivector(statevector)"
   ]
  },
  {
   "cell_type": "code",
   "execution_count": 12,
   "id": "d4b2d35f",
   "metadata": {},
   "outputs": [
    {
     "name": "stdout",
     "output_type": "stream",
     "text": [
      "[[ 304.6664   +191.57466j    -103.47078    -1.6341577j\n",
      "     8.702567 -150.25797j      36.030293 -171.59529j\n",
      "   -73.52852   +98.01088j    -195.18623  -170.33682j\n",
      "   117.15636  +112.201614j   -109.69166  +197.57698j\n",
      "  -112.09858   +90.435814j    127.12458  -195.63689j   ]\n",
      " [ 168.47235  +248.11469j    -117.03143   +62.122017j\n",
      "    94.37214  -115.38894j     236.28897  -142.8212j\n",
      "    67.925255 +188.96501j    -269.54865  -200.9207j\n",
      "    40.88668  -143.61885j     -40.723328  +17.762104j\n",
      "  -126.92141  +164.15836j     -54.044846  -78.2131j    ]\n",
      " [ 142.13449   +81.51722j     -76.030525 +166.48203j\n",
      "   -27.770205 +123.86627j      96.941795  -66.65501j\n",
      "   143.13542  +167.76767j     -88.299835 -179.39078j\n",
      "   185.42438  -145.42645j      41.59298   -13.2657385j\n",
      "  -198.11638  +113.77307j    -219.44377  -249.09521j   ]\n",
      " [  90.68127   +25.893509j   -189.78084   +72.512146j\n",
      "  -180.55846   +50.25158j      13.174866 -125.77508j\n",
      "   205.28075  +262.27948j     -76.98833   +84.89893j\n",
      "    88.784836  -25.206202j    104.53341  -131.96332j\n",
      "    40.56449   +28.037535j    -95.65569  -241.41112j   ]\n",
      " [  97.51332  -123.10437j      -9.5485325-135.53215j\n",
      "   -53.64977   +38.319992j   -127.24057   -96.692955j\n",
      "    -3.7646382+181.7332j     -173.83092   +41.77631j\n",
      "    63.61053   +37.897808j    163.17235   -17.267776j\n",
      "   141.00159  +207.1942j      -97.28441  -134.11136j   ]\n",
      " [ 198.98404   +35.47296j      77.89765   -53.78223j\n",
      "     2.5620842 +38.03848j    -141.36873  -235.93536j\n",
      "    42.47836   -50.620514j    -89.35676   -14.312888j\n",
      "   -63.953552 +164.55031j    -103.51381    +9.357259j\n",
      "    65.305374 +154.56316j      11.271644  -46.798874j  ]\n",
      " [  -8.882175 +184.1175j       -1.2493097 -86.79274j\n",
      "   200.45932   +40.751465j     55.257977  -90.78684j\n",
      "    74.058716   +0.33417484j  -92.180374 -136.64595j\n",
      "   -74.91754    +4.9120812j  -146.28879  -138.12302j\n",
      "    54.287502 +111.59818j     -60.449734 +110.34149j   ]\n",
      " [ -39.13657  +133.88564j     -69.61882   -21.873182j\n",
      "   149.26053  +188.20648j     -18.773333  +82.6185j\n",
      "    37.53651   +11.357161j     93.0955   -231.45647j\n",
      "   179.27177   +42.942524j   -135.48419   -77.47184j\n",
      "   -82.260414  -34.974243j   -113.75188   -92.96348j   ]\n",
      " [ -25.032858 +174.69118j    -295.3563    -83.74494j\n",
      "     0.6468425  -1.8539718j     6.85447   +62.714596j\n",
      "    28.009813 +198.11624j      38.830284  -63.953186j\n",
      "   194.37837  +131.05606j     -76.83904   -79.68403j\n",
      "    46.837307 -160.53491j      81.59986  -177.34451j   ]\n",
      " [  91.10737   +65.39186j    -187.06226  -199.75856j\n",
      "    62.179478 -110.526924j    -21.370266  +59.664047j\n",
      "  -184.97156  +233.92865j    -167.54405  -146.72833j\n",
      "   240.9824   +101.99637j      47.214    +131.37949j\n",
      "    35.34332   +51.021694j     83.845985 -186.48944j   ]]\n"
     ]
    }
   ],
   "source": [
    "# measurement\n",
    "qc.measure_all()\n",
    "backend = Aer.get_backend('aer_simulator') # Qiskit's staple simulator (CHOICE MOTIVATION?)\n",
    "job = backend.run(qc, shots=1, memory=True) \n",
    "output = job.result().get_memory()[0]\n",
    "out = reverse(output)\n",
    "\n",
    "# readout\n",
    "chunks_real = []\n",
    "chunks_imag = []\n",
    "for i in range(0, number_of_entries):\n",
    "    chunks_real.append(out[number_of_bits*i:(number_of_bits*i)+number_of_bits_real]) # real parts represented every 64 bits starting from the first one\n",
    "    chunks_imag.append(out[(number_of_bits*i)+number_of_bits_imag:(number_of_bits*i)+number_of_bits_imag+number_of_bits_imag]) # imaginary parts represented every 64 bits starting after the first occurence of a real part \n",
    "\n",
    "readout = []\n",
    "for i in range(0, len(chunks_real)):\n",
    "    readout.append(complex(bin_to_float_real(chunks_real[i]), bin_to_float_imag(chunks_imag[i]))) \n",
    "\n",
    "readout = np.array(readout).reshape(n , n).astype('complex64')\n",
    "print(readout)"
   ]
  },
  {
   "cell_type": "code",
   "execution_count": 13,
   "id": "6aa9775a",
   "metadata": {},
   "outputs": [],
   "source": [
    "fidelity = np.fft.ifft2(readout).astype('complex64')"
   ]
  },
  {
   "cell_type": "code",
   "execution_count": 14,
   "id": "ea5b9246",
   "metadata": {},
   "outputs": [
    {
     "name": "stdout",
     "output_type": "stream",
     "text": [
      "Reals MSE: 7.87772e-14\n",
      "Imaginaries MSE: 1.2075306e-13\n"
     ]
    }
   ],
   "source": [
    "test2_real = ((sky_image.real - fidelity.real)**2).mean()\n",
    "test2_imag = ((sky_image.imag - fidelity.imag)**2).mean()\n",
    "\n",
    "print('Reals MSE: '+ str(test2_real))\n",
    "print('Imaginaries MSE: '+ str(test2_imag))"
   ]
  },
  {
   "cell_type": "code",
   "execution_count": 15,
   "id": "16cce23f",
   "metadata": {},
   "outputs": [
    {
     "data": {
      "image/png": "[encoded data removed]",
      "text/plain": [
       "<Figure size 1080x360 with 2 Axes>"
      ]
     },
     "metadata": {
      "needs_background": "light"
     },
     "output_type": "display_data"
    }
   ],
   "source": [
    "fig, axs = plt.subplots(1, 2, figsize=(15,5))\n",
    "modulus1 = np.absolute(sky_image)\n",
    "modulus2 = np.absolute(fidelity)\n",
    "\n",
    "axs[0].imshow(modulus1, cmap='Reds')\n",
    "axs[1].imshow(modulus2, cmap='Reds')\n",
    "\n",
    "axs[0].set_title(\"Original image\")\n",
    "axs[1].set_title(\"Reconstructed image\")\n",
    "\n",
    "for ax in axs.flat:\n",
    "    ax.set(xlabel=n, ylabel=n)"
   ]
  },
  {
   "cell_type": "code",
   "execution_count": null,
   "id": "6e7a063f",
   "metadata": {},
   "outputs": [],
   "source": []
  }
 ],
 "metadata": {
  "kernelspec": {
   "display_name": "Python 3",
   "language": "python",
   "name": "python3"
  },
  "language_info": {
   "codemirror_mode": {
    "name": "ipython",
    "version": 3
   },
   "file_extension": ".py",
   "mimetype": "text/x-python",
   "name": "python",
   "nbconvert_exporter": "python",
   "pygments_lexer": "ipython3",
   "version": "3.8.8"
  }
 },
 "nbformat": 4,
 "nbformat_minor": 5
}
