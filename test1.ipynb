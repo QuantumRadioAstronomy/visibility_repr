{
 "cells": [
  {
   "cell_type": "markdown",
   "id": "2a6105cd",
   "metadata": {},
   "source": [
    "# Naive representation"
   ]
  },
  {
   "cell_type": "code",
   "execution_count": 1,
   "id": "ad6cbc81",
   "metadata": {},
   "outputs": [],
   "source": [
    "import numpy as np\n",
    "import matplotlib.pyplot as plt\n",
    "import struct\n",
    "\n",
    "import qiskit\n",
    "from qiskit import *"
   ]
  },
  {
   "cell_type": "code",
   "execution_count": 2,
   "id": "253aa61f",
   "metadata": {},
   "outputs": [],
   "source": [
    "# float to binary \n",
    "def float_to_bin_real(num):\n",
    "    return format(struct.unpack('!I', struct.pack('!f', num))[0], '032b')\n",
    "def float_to_bin_imag(num):\n",
    "    return format(struct.unpack('!I', struct.pack('!f', num))[0], '032b')\n",
    "\n",
    "# binary to float\n",
    "def bin_to_float_real(binary):\n",
    "    return struct.unpack('!f',struct.pack('!I', int(binary, 2)))[0]\n",
    "def bin_to_float_imag(binary):\n",
    "    return struct.unpack('!f',struct.pack('!I', int(binary, 2)))[0]\n",
    "\n",
    "# reverse a string (for the measurement step readout)\n",
    "def reverse(string):\n",
    "    string = string[::-1]\n",
    "    return string"
   ]
  },
  {
   "cell_type": "code",
   "execution_count": 3,
   "id": "21863931",
   "metadata": {},
   "outputs": [
    {
     "name": "stdout",
     "output_type": "stream",
     "text": [
      "[[-3.18169594e-03-1.19474754e-02j  1.09435162e-02+1.60256727e-03j\n",
      "  -5.45061892e-03-1.26525965e-02j  2.45730858e-03+1.63127836e-02j\n",
      "  -1.28980232e-02+2.03223535e-04j  3.42020392e-03-1.59825608e-02j\n",
      "   3.32846958e-03+1.28770259e-03j -6.43779337e-03-6.15656283e-03j\n",
      "   2.62335408e-03+1.69234145e-02j  2.35921051e-03+3.39170801e-03j]\n",
      " [ 3.64806363e-03-2.45511881e-03j  8.08300078e-03-4.00494179e-03j\n",
      "  -3.27044018e-02+2.12964555e-03j  1.77258682e-02+5.02958009e-03j\n",
      "  -6.30282098e-03-4.13167430e-03j  1.11780101e-02+6.64098375e-03j\n",
      "   1.62357907e-03-1.95498541e-02j -5.29548805e-03-9.56331939e-03j\n",
      "   5.15987165e-04-5.87528711e-03j  1.04164323e-02-4.60362015e-03j]\n",
      " [-1.07528269e-03-2.79984716e-02j -1.75878014e-02+8.29511788e-03j\n",
      "  -5.24870679e-03-1.52787063e-02j  7.65036279e-03-4.45918785e-03j\n",
      "   1.06047979e-02+1.12391366e-02j  6.34754822e-03-1.63190868e-02j\n",
      "  -7.62624666e-03+1.52122471e-02j -5.68759278e-04+3.86673934e-03j\n",
      "   8.25465366e-04-4.46110824e-03j  1.49513141e-03-1.12384213e-02j]\n",
      " [ 7.46113300e+00+1.12954140e+01j  1.19757010e-02+1.45984546e-03j\n",
      "  -7.30942842e-03-1.09026283e-02j -5.23876678e-03-1.22300535e-02j\n",
      "  -1.27598448e-02+1.20926751e-02j  7.44642105e+01+8.22888947e+01j\n",
      "   1.45362392e-02+2.24895077e-03j  9.76366107e-04-2.44215154e-03j\n",
      "   1.45058539e-02-2.43378617e-03j -8.13306030e-03+7.48032145e-03j]\n",
      " [-1.49355177e-02+2.22125906e-03j  4.74661728e-03+4.62753791e-03j\n",
      "  -5.41181909e-03-5.35211572e-03j -8.23505968e-03-6.70854747e-03j\n",
      "   1.30665861e-02+1.17548537e-02j  8.38360672e+01+9.67535305e+00j\n",
      "   3.29464744e-03-5.07416436e-03j -3.81459272e-03-8.19633715e-04j\n",
      "  -8.19300301e-03-1.92170162e-04j  3.74184200e-03+5.37340064e-03j]\n",
      " [-9.62975156e-03-1.66309252e-02j  9.01928730e-03-1.82971172e-02j\n",
      "  -1.37423882e-02+1.65448729e-02j  6.75032847e-03-7.51669845e-03j\n",
      "  -2.81049730e-03+1.38579225e-02j -1.24160238e-02+1.09269954e-02j\n",
      "  -7.30110286e-03-1.89613737e-02j  1.75046455e-02-2.67586880e-03j\n",
      "  -5.74485585e-03+1.91117276e-03j -2.89183320e-03-5.22465452e-05j]\n",
      " [-6.69110240e-03-9.99489494e-05j -6.22031803e-05-2.00928841e-03j\n",
      "   3.37190763e-03+9.16939601e-03j -1.79107357e-02+1.78540742e-03j\n",
      "  -1.66797452e-03-7.88842328e-03j  6.25985325e-04-1.05870171e-02j\n",
      "  -5.28701441e-03-1.11721838e-02j  1.78602263e-02-1.05958688e-03j\n",
      "  -1.80670328e-03+7.66474614e-03j -9.94005706e-03+1.96526686e-04j]\n",
      " [ 2.35293340e-02+4.23988374e-03j  4.88907855e-04-2.42954008e-02j\n",
      "   1.03182970e-02-1.44319385e-02j  2.09340942e-03+1.08741894e-02j\n",
      "   5.68712549e-03-1.04789957e-02j -2.39877077e-03+1.17393117e-02j\n",
      "  -2.08891439e-03+3.09250294e-03j  5.48760314e-03-1.96203962e-02j\n",
      "  -5.84076159e-03-8.13902915e-03j -2.20028739e-02-3.51396296e-03j]\n",
      " [ 8.04455578e-03-5.60341496e-03j  1.65856199e-03-5.80800872e-04j\n",
      "  -1.05111739e-02+9.02625266e-03j  3.62210977e-03-1.49117189e-03j\n",
      "  -1.46751488e-02+5.34288352e-03j  7.26616196e-03+3.03025660e-03j\n",
      "   4.68140328e-03+1.39450971e-02j  6.70578843e-03+5.01223700e-03j\n",
      "   1.75283907e-03-4.23239963e-03j  9.63990483e-03+1.29382371e-03j]\n",
      " [ 5.13796508e-03-1.18827280e-02j -1.82269365e-02+5.48985600e-03j\n",
      "   6.04378467e-04-8.05478357e-03j -2.21384000e-02+5.71658416e-03j\n",
      "  -6.23887219e-03+1.76153902e-03j  1.18096825e-02+7.21911620e-03j\n",
      "   8.97715986e-03-6.66204287e-05j  9.19840066e-04-1.00474581e-02j\n",
      "  -2.39560474e-02+3.43481358e-03j  2.79224780e-03+1.30027337e-02j]]\n"
     ]
    }
   ],
   "source": [
    "# image of the sky filled with double precision complex floats (single precision for reals/imaginaries)\n",
    "# few pixels are set to relatively large complex random values in random spots (image sources)\n",
    "# relatively small complex values are added (white noise from background radiations) \n",
    "\n",
    "n = 10 #number of antennas\n",
    "\n",
    "sky_image = np.zeros((n, n), dtype='complex64')\n",
    "mask = np.zeros((n, n), dtype='bool')\n",
    "stars = np.random.randint(1, 11) #random number of sources\n",
    "radius = 1 #np.random.randint(1, 3) #with random radius\n",
    "\n",
    "for i in range(0, stars):\n",
    "    index_i = np.random.randint(0, sky_image.shape[0]-radius)\n",
    "    index_j = np.random.randint(0, sky_image.shape[1]-radius)\n",
    "    for j in range(0, radius):\n",
    "        for k in range(0, radius):\n",
    "            sky_image[index_i+j][index_j+k] = complex(np.random.rand()*100, np.random.rand()*100)\n",
    "            mask[index_i+j][index_j+k] = True\n",
    "            \n",
    "sky_image.real += np.random.randn(n,n)/100\n",
    "sky_image.imag += np.random.randn(n,n)/100\n",
    "\n",
    "print(sky_image)"
   ]
  },
  {
   "cell_type": "code",
   "execution_count": 4,
   "id": "bd84db7e",
   "metadata": {},
   "outputs": [
    {
     "data": {
      "image/png": "[encoded data removed]",
      "text/plain": [
       "<Figure size 432x288 with 2 Axes>"
      ]
     },
     "metadata": {
      "needs_background": "light"
     },
     "output_type": "display_data"
    }
   ],
   "source": [
    "modulus = np.absolute(sky_image)\n",
    "plt.imshow(modulus, cmap='Reds') \n",
    "cbar = plt.colorbar()"
   ]
  },
  {
   "cell_type": "code",
   "execution_count": 5,
   "id": "77e72e60",
   "metadata": {},
   "outputs": [
    {
     "name": "stdout",
     "output_type": "stream",
     "text": [
      "[[ 165.70546  +1.03123108e+02j -150.86089  -8.06634521e+01j\n",
      "   165.7076   +1.03169441e+02j -150.77031  -8.07686081e+01j\n",
      "   165.80954  +1.03135445e+02j -150.98402  -8.06935730e+01j\n",
      "   165.7554   +1.03201653e+02j -150.77716  -8.07012711e+01j\n",
      "   165.98245  +1.03301216e+02j -150.90828  -8.08513870e+01j]\n",
      " [   1.5360181-1.63934921e+02j   15.335668 +1.42824783e+02j\n",
      "     1.76193  -1.63914520e+02j   15.299611 +1.42831665e+02j\n",
      "     1.5162002-1.63965851e+02j   15.276565 +1.42744247e+02j\n",
      "     1.4887967-1.63891357e+02j   15.348066 +1.42832367e+02j\n",
      "     1.5599085-1.63988312e+02j   15.321934 +1.42762024e+02j]\n",
      " [-104.78258  +5.51518898e+01j   79.241394 -6.46501694e+01j\n",
      "  -104.68988  +5.51013870e+01j   79.198456 -6.47743454e+01j\n",
      "  -104.63423  +5.51392097e+01j   79.11505  -6.46612091e+01j\n",
      "  -104.537056 +5.51742668e+01j   79.26607  -6.48046112e+01j\n",
      "  -104.61995  +5.51411057e+01j   79.23446  -6.45788193e+01j]\n",
      " [  46.395878 +4.70411606e+01j  -47.65997  -2.01045284e+01j\n",
      "    46.43515  +4.70592194e+01j  -47.671745 -2.00580940e+01j\n",
      "    46.47105  +4.71824875e+01j  -47.455135 -1.99897499e+01j\n",
      "    46.475403 +4.71991348e+01j  -47.58345  -2.00517254e+01j\n",
      "    46.428207 +4.72235832e+01j  -47.49356  -1.99597168e+01j]\n",
      " [  40.921574 -7.60679722e+00j  -14.518466 +1.64908677e-01j\n",
      "    40.643356 -7.60784912e+00j  -14.719358 +3.35661769e-01j\n",
      "    40.746147 -7.56128979e+00j  -14.697786 +5.09899795e-01j\n",
      "    40.98183  -7.56219006e+00j  -14.693048 +4.00670052e-01j\n",
      "    40.771805 -7.54077148e+00j  -14.669665 +2.32571214e-01j]\n",
      " [   1.9125077-8.38335800e+01j  -16.90452  +6.13618813e+01j\n",
      "     1.9780029-8.39703064e+01j  -16.86641  +6.14042435e+01j\n",
      "     1.9209245-8.40022202e+01j  -16.846214 +6.13721848e+01j\n",
      "     1.8252511-8.41063004e+01j  -16.994835 +6.13978271e+01j\n",
      "     1.7617439-8.40977859e+01j  -16.803028 +6.13529282e+01j]\n",
      " [-125.852844 +4.97519913e+01j  108.8232   -2.85894623e+01j\n",
      "  -125.86069  +4.96797867e+01j  109.001175 -2.85874958e+01j\n",
      "  -125.721176 +4.95167656e+01j  108.90219  -2.86237869e+01j\n",
      "  -125.969444 +4.98235741e+01j  109.00814  -2.85718060e+01j\n",
      "  -125.921684 +4.96634407e+01j  109.07711  -2.85736885e+01j]\n",
      " [ 138.02643  +1.10337761e+02j -112.587585 -1.00667114e+02j\n",
      "   137.83182  +1.10238052e+02j -112.7309   -1.00723763e+02j\n",
      "   138.11055  +1.10211288e+02j -112.52351  -1.00862434e+02j\n",
      "   137.69307  +1.10325249e+02j -112.6805   -1.00605606e+02j\n",
      "   138.05429  +1.10455200e+02j -112.60286  -1.00679070e+02j]\n",
      " [  23.887896 -2.00559753e+02j  -22.564747 +1.73675842e+02j\n",
      "    23.75655  -2.00740433e+02j  -22.569447 +1.73505798e+02j\n",
      "    23.691284 -2.00456909e+02j  -22.763018 +1.73513580e+02j\n",
      "    23.65535  -2.00539459e+02j  -22.758982 +1.73576736e+02j\n",
      "    24.02811  -2.00739655e+02j  -22.70746  +1.73589951e+02j]\n",
      " [-187.7787   +9.04589539e+01j  161.73402  -8.32650833e+01j\n",
      "  -187.80745  +9.04730301e+01j  161.69734  -8.30104141e+01j\n",
      "  -187.4683   +9.02066727e+01j  161.69267  -8.33626862e+01j\n",
      "  -187.90831  +9.03954697e+01j  161.70523  -8.34729385e+01j\n",
      "  -187.66325  +9.03422394e+01j  161.7584   -8.32813873e+01j]]\n"
     ]
    }
   ],
   "source": [
    "visibilities = np.fft.fft2(sky_image).astype('complex64')\n",
    "print(visibilities)"
   ]
  },
  {
   "cell_type": "code",
   "execution_count": 6,
   "id": "3570e801",
   "metadata": {},
   "outputs": [
    {
     "data": {
      "image/png": "[encoded data removed]",
      "text/plain": [
       "<Figure size 432x288 with 2 Axes>"
      ]
     },
     "metadata": {
      "needs_background": "light"
     },
     "output_type": "display_data"
    }
   ],
   "source": [
    "modulus = np.absolute(visibilities)\n",
    "plt.imshow(modulus, cmap='Blues')\n",
    "plt.colorbar();"
   ]
  },
  {
   "cell_type": "code",
   "execution_count": 7,
   "id": "6f6306ea",
   "metadata": {},
   "outputs": [
    {
     "name": "stdout",
     "output_type": "stream",
     "text": [
      "Reals MSE: 5.428828e-14\n",
      "Imaginaries MSE: 6.739504e-14\n"
     ]
    }
   ],
   "source": [
    "sanity = np.fft.ifft2(visibilities).astype('complex64')\n",
    "\n",
    "test1_real = ((sky_image.real - sanity.real)**2).mean()\n",
    "test1_imag = ((sky_image.imag - sanity.imag)**2).mean()\n",
    " \n",
    "print('Reals MSE: '+ str(test1_real))\n",
    "print('Imaginaries MSE: '+ str(test1_imag))"
   ]
  },
  {
   "cell_type": "code",
   "execution_count": 8,
   "id": "5d00d3fc",
   "metadata": {},
   "outputs": [],
   "source": [
    "from numpy import pi\n",
    "# importing Qiskit\n",
    "from qiskit import QuantumCircuit, transpile, Aer, IBMQ\n",
    "from qiskit.providers.ibmq import least_busy\n",
    "from qiskit.tools.monitor import job_monitor\n",
    "from qiskit.visualization import plot_histogram, plot_bloch_multivector"
   ]
  },
  {
   "cell_type": "code",
   "execution_count": 9,
   "id": "ce856250",
   "metadata": {},
   "outputs": [],
   "source": [
    "# encoding binary data onto qubits\n",
    "def binary_encode(qc, binary, off_set):\n",
    "    \n",
    "    for i in range(0, len(binary)):\n",
    "        qc.reset(off_set+i) # set quantum state |0> by default for all qubits\n",
    "\n",
    "        if binary[i]=='1':\n",
    "            qc.x(off_set+i) # act as a CX (controlled X gate)\n",
    "    \n",
    "    off_set += len(binary)\n",
    "\n",
    "    return off_set"
   ]
  },
  {
   "cell_type": "code",
   "execution_count": 10,
   "id": "8f61f4e5",
   "metadata": {},
   "outputs": [],
   "source": [
    "number_of_entries = visibilities.shape[0] * visibilities.shape[1]\n",
    "number_of_bits_real = 32\n",
    "number_of_bits_imag = 32\n",
    "number_of_bits = number_of_bits_real + number_of_bits_imag\n",
    "off_set = 0\n",
    "\n",
    "# encoding (n bits encoded onto n qubits)\n",
    "qc = QuantumCircuit(number_of_entries*number_of_bits)\n",
    "for i in range(0, visibilities.shape[0]):\n",
    "    for j in range(0, visibilities.shape[1]):\n",
    "            binary_real = float_to_bin_real(visibilities[i, j].real)\n",
    "            binary_imag = float_to_bin_imag(visibilities[i, j].imag)\n",
    "            binary = binary_real+binary_imag\n",
    "            off_set = binary_encode(qc, binary, off_set)"
   ]
  },
  {
   "cell_type": "code",
   "execution_count": 11,
   "id": "f87021fd",
   "metadata": {},
   "outputs": [
    {
     "name": "stderr",
     "output_type": "stream",
     "text": [
      "Simulation failed and returned the following error message:\n",
      "ERROR: a circuit requires more memory than max_memory_mb.\n"
     ]
    },
    {
     "ename": "QiskitError",
     "evalue": "'ERROR: a circuit requires more memory than max_memory_mb. ,  EMPTY'",
     "output_type": "error",
     "traceback": [
      "\u001b[1;31m---------------------------------------------------------------------------\u001b[0m",
      "\u001b[1;31mQiskitError\u001b[0m                               Traceback (most recent call last)",
      "\u001b[1;32m<ipython-input-11-14b3ee24ee69>\u001b[0m in \u001b[0;36m<module>\u001b[1;34m\u001b[0m\n\u001b[0;32m      4\u001b[0m \u001b[0mqc_init\u001b[0m \u001b[1;33m=\u001b[0m \u001b[0mqc\u001b[0m\u001b[1;33m.\u001b[0m\u001b[0mcopy\u001b[0m\u001b[1;33m(\u001b[0m\u001b[1;33m)\u001b[0m\u001b[1;33m\u001b[0m\u001b[1;33m\u001b[0m\u001b[0m\n\u001b[0;32m      5\u001b[0m \u001b[0mqc_init\u001b[0m\u001b[1;33m.\u001b[0m\u001b[0msave_statevector\u001b[0m\u001b[1;33m(\u001b[0m\u001b[1;33m)\u001b[0m\u001b[1;33m\u001b[0m\u001b[1;33m\u001b[0m\u001b[0m\n\u001b[1;32m----> 6\u001b[1;33m \u001b[0mstatevector\u001b[0m \u001b[1;33m=\u001b[0m \u001b[0msim\u001b[0m\u001b[1;33m.\u001b[0m\u001b[0mrun\u001b[0m\u001b[1;33m(\u001b[0m\u001b[0mqc_init\u001b[0m\u001b[1;33m)\u001b[0m\u001b[1;33m.\u001b[0m\u001b[0mresult\u001b[0m\u001b[1;33m(\u001b[0m\u001b[1;33m)\u001b[0m\u001b[1;33m.\u001b[0m\u001b[0mget_statevector\u001b[0m\u001b[1;33m(\u001b[0m\u001b[1;33m)\u001b[0m\u001b[1;33m\u001b[0m\u001b[1;33m\u001b[0m\u001b[0m\n\u001b[0m\u001b[0;32m      7\u001b[0m \u001b[0mplot_bloch_multivector\u001b[0m\u001b[1;33m(\u001b[0m\u001b[0mstatevector\u001b[0m\u001b[1;33m)\u001b[0m\u001b[1;33m\u001b[0m\u001b[1;33m\u001b[0m\u001b[0m\n",
      "\u001b[1;32m~\\anaconda3\\lib\\site-packages\\qiskit\\result\\result.py\u001b[0m in \u001b[0;36mget_statevector\u001b[1;34m(self, experiment, decimals)\u001b[0m\n\u001b[0;32m    312\u001b[0m         \u001b[1;32mtry\u001b[0m\u001b[1;33m:\u001b[0m\u001b[1;33m\u001b[0m\u001b[1;33m\u001b[0m\u001b[0m\n\u001b[0;32m    313\u001b[0m             return postprocess.format_statevector(\n\u001b[1;32m--> 314\u001b[1;33m                 \u001b[0mself\u001b[0m\u001b[1;33m.\u001b[0m\u001b[0mdata\u001b[0m\u001b[1;33m(\u001b[0m\u001b[0mexperiment\u001b[0m\u001b[1;33m)\u001b[0m\u001b[1;33m[\u001b[0m\u001b[1;34m\"statevector\"\u001b[0m\u001b[1;33m]\u001b[0m\u001b[1;33m,\u001b[0m \u001b[0mdecimals\u001b[0m\u001b[1;33m=\u001b[0m\u001b[0mdecimals\u001b[0m\u001b[1;33m\u001b[0m\u001b[1;33m\u001b[0m\u001b[0m\n\u001b[0m\u001b[0;32m    315\u001b[0m             )\n\u001b[0;32m    316\u001b[0m         \u001b[1;32mexcept\u001b[0m \u001b[0mKeyError\u001b[0m \u001b[1;32mas\u001b[0m \u001b[0mex\u001b[0m\u001b[1;33m:\u001b[0m\u001b[1;33m\u001b[0m\u001b[1;33m\u001b[0m\u001b[0m\n",
      "\u001b[1;32m~\\anaconda3\\lib\\site-packages\\qiskit\\result\\result.py\u001b[0m in \u001b[0;36mdata\u001b[1;34m(self, experiment)\u001b[0m\n\u001b[0;32m    185\u001b[0m         \"\"\"\n\u001b[0;32m    186\u001b[0m         \u001b[1;32mtry\u001b[0m\u001b[1;33m:\u001b[0m\u001b[1;33m\u001b[0m\u001b[1;33m\u001b[0m\u001b[0m\n\u001b[1;32m--> 187\u001b[1;33m             \u001b[1;32mreturn\u001b[0m \u001b[0mself\u001b[0m\u001b[1;33m.\u001b[0m\u001b[0m_get_experiment\u001b[0m\u001b[1;33m(\u001b[0m\u001b[0mexperiment\u001b[0m\u001b[1;33m)\u001b[0m\u001b[1;33m.\u001b[0m\u001b[0mdata\u001b[0m\u001b[1;33m.\u001b[0m\u001b[0mto_dict\u001b[0m\u001b[1;33m(\u001b[0m\u001b[1;33m)\u001b[0m\u001b[1;33m\u001b[0m\u001b[1;33m\u001b[0m\u001b[0m\n\u001b[0m\u001b[0;32m    188\u001b[0m         \u001b[1;32mexcept\u001b[0m \u001b[1;33m(\u001b[0m\u001b[0mKeyError\u001b[0m\u001b[1;33m,\u001b[0m \u001b[0mTypeError\u001b[0m\u001b[1;33m)\u001b[0m \u001b[1;32mas\u001b[0m \u001b[0mex\u001b[0m\u001b[1;33m:\u001b[0m\u001b[1;33m\u001b[0m\u001b[1;33m\u001b[0m\u001b[0m\n\u001b[0;32m    189\u001b[0m             \u001b[1;32mraise\u001b[0m \u001b[0mQiskitError\u001b[0m\u001b[1;33m(\u001b[0m\u001b[1;34mf'No data for experiment \"{repr(experiment)}\"'\u001b[0m\u001b[1;33m)\u001b[0m \u001b[1;32mfrom\u001b[0m \u001b[0mex\u001b[0m\u001b[1;33m\u001b[0m\u001b[1;33m\u001b[0m\u001b[0m\n",
      "\u001b[1;32m~\\anaconda3\\lib\\site-packages\\qiskit\\result\\result.py\u001b[0m in \u001b[0;36m_get_experiment\u001b[1;34m(self, key)\u001b[0m\n\u001b[0;32m    395\u001b[0m         \u001b[0mresult_status\u001b[0m \u001b[1;33m=\u001b[0m \u001b[0mgetattr\u001b[0m\u001b[1;33m(\u001b[0m\u001b[0mself\u001b[0m\u001b[1;33m,\u001b[0m \u001b[1;34m\"status\"\u001b[0m\u001b[1;33m,\u001b[0m \u001b[1;34m\"Result was not successful\"\u001b[0m\u001b[1;33m)\u001b[0m\u001b[1;33m\u001b[0m\u001b[1;33m\u001b[0m\u001b[0m\n\u001b[0;32m    396\u001b[0m         \u001b[0mexp_status\u001b[0m \u001b[1;33m=\u001b[0m \u001b[0mgetattr\u001b[0m\u001b[1;33m(\u001b[0m\u001b[0mexp\u001b[0m\u001b[1;33m,\u001b[0m \u001b[1;34m\"status\"\u001b[0m\u001b[1;33m,\u001b[0m \u001b[1;34m\"Experiment was not successful\"\u001b[0m\u001b[1;33m)\u001b[0m\u001b[1;33m\u001b[0m\u001b[1;33m\u001b[0m\u001b[0m\n\u001b[1;32m--> 397\u001b[1;33m         \u001b[1;32mraise\u001b[0m \u001b[0mQiskitError\u001b[0m\u001b[1;33m(\u001b[0m\u001b[0mresult_status\u001b[0m\u001b[1;33m,\u001b[0m \u001b[1;34m\", \"\u001b[0m\u001b[1;33m,\u001b[0m \u001b[0mexp_status\u001b[0m\u001b[1;33m)\u001b[0m\u001b[1;33m\u001b[0m\u001b[1;33m\u001b[0m\u001b[0m\n\u001b[0m",
      "\u001b[1;31mQiskitError\u001b[0m: 'ERROR: a circuit requires more memory than max_memory_mb. ,  EMPTY'"
     ]
    }
   ],
   "source": [
    "#RUNNING THIS CELL OUTPUTS MEMORY ISSUE\n",
    "\n",
    "sim = Aer.get_backend(\"aer_simulator_matrix_product_state\")\n",
    "qc_init = qc.copy()\n",
    "qc_init.save_statevector()\n",
    "statevector = sim.run(qc_init).result().get_statevector()\n",
    "plot_bloch_multivector(statevector)"
   ]
  },
  {
   "cell_type": "code",
   "execution_count": null,
   "id": "d4b2d35f",
   "metadata": {},
   "outputs": [],
   "source": [
    "# measurement\n",
    "#qc.measure_all()\n",
    "#backend = Aer.get_backend('aer_simulator') # Qiskit's staple simulator (CHOICE MOTIVATION?)\n",
    "#job = backend.run(qc, shots=1, memory=True) \n",
    "#output = job.result().get_memory()[0]\n",
    "#out = reverse(output)\n",
    "\n",
    "# readout\n",
    "chunks_real = []\n",
    "chunks_imag = []\n",
    "for i in range(0, number_of_entries):\n",
    "    chunks_real.append(out[number_of_bits*i:(number_of_bits*i)+number_of_bits_real]) # real parts represented every 64 bits starting from the first one\n",
    "    chunks_imag.append(out[(number_of_bits*i)+number_of_bits_imag:(number_of_bits*i)+number_of_bits_imag+number_of_bits_imag]) # imaginary parts represented every 64 bits starting after the first occurence of a real part \n",
    "\n",
    "readout = []\n",
    "for i in range(0, len(chunks_real)):\n",
    "    readout.append(complex(bin_to_float_real(chunks_real[i]), bin_to_float_imag(chunks_imag[i]))) \n",
    "\n",
    "readout = np.array(readout).reshape(n , n).astype('complex64')\n",
    "print(readout)"
   ]
  },
  {
   "cell_type": "code",
   "execution_count": null,
   "id": "6aa9775a",
   "metadata": {},
   "outputs": [],
   "source": [
    "fidelity = np.fft.ifft2(readout).astype('complex64')"
   ]
  },
  {
   "cell_type": "code",
   "execution_count": null,
   "id": "ea5b9246",
   "metadata": {},
   "outputs": [],
   "source": [
    "test2_real = ((sky_image.real - fidelity.real)**2).mean()\n",
    "test2_imag = ((sky_image.imag - fidelity.imag)**2).mean()\n",
    "\n",
    "print('Reals MSE: '+ str(test2_real))\n",
    "print('Imaginaries MSE: '+ str(test2_imag))"
   ]
  },
  {
   "cell_type": "code",
   "execution_count": null,
   "id": "16cce23f",
   "metadata": {},
   "outputs": [],
   "source": [
    "fig, axs = plt.subplots(1, 2, figsize=(15,5))\n",
    "modulus1 = np.absolute(sky_image)\n",
    "modulus2 = np.absolute(fidelity)\n",
    "\n",
    "axs[0].imshow(modulus1, cmap='Reds')\n",
    "axs[1].imshow(modulus2, cmap='Reds')\n",
    "\n",
    "axs[0].set_title(\"Original image\")\n",
    "axs[1].set_title(\"Reconstructed image\")\n",
    "\n",
    "for ax in axs.flat:\n",
    "    ax.set(xlabel=n, ylabel=n)"
   ]
  },
  {
   "cell_type": "code",
   "execution_count": null,
   "id": "6e7a063f",
   "metadata": {},
   "outputs": [],
   "source": []
  }
 ],
 "metadata": {
  "kernelspec": {
   "display_name": "Python 3",
   "language": "python",
   "name": "python3"
  },
  "language_info": {
   "codemirror_mode": {
    "name": "ipython",
    "version": 3
   },
   "file_extension": ".py",
   "mimetype": "text/x-python",
   "name": "python",
   "nbconvert_exporter": "python",
   "pygments_lexer": "ipython3",
   "version": "3.8.8"
  }
 },
 "nbformat": 4,
 "nbformat_minor": 5
}
