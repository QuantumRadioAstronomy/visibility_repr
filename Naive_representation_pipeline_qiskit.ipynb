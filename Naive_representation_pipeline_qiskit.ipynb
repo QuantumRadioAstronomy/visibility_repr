{
 "cells": [
  {
   "cell_type": "markdown",
   "id": "2a6105cd",
   "metadata": {},
   "source": [
    "# Naive representation pipeline (qiskit)\n",
    "\n",
    "Main steps:\n",
    "\n",
    "* input: image of the sky (frequency domain)\n",
    "* apply 2D Fourier transform --> visibilities (Fourier domain)\n",
    "* encode classical visibilities data into qbits (non-conventional domain)\n",
    "* measure qbits (back to conventional domain)\n",
    "* apply 2D Inverse Fourier transform --> original image?"
   ]
  },
  {
   "cell_type": "code",
   "execution_count": 13,
   "id": "ad6cbc81",
   "metadata": {},
   "outputs": [],
   "source": [
    "import numpy as np\n",
    "import sys\n",
    "import struct\n",
    "\n",
    "import qiskit\n",
    "from qiskit import *\n",
    "from qiskit.visualization import plot_histogram"
   ]
  },
  {
   "cell_type": "markdown",
   "id": "d6af5b75",
   "metadata": {},
   "source": [
    "## Generating an artificial image of the sky"
   ]
  },
  {
   "cell_type": "code",
   "execution_count": 14,
   "id": "517eeac8",
   "metadata": {},
   "outputs": [
    {
     "name": "stdout",
     "output_type": "stream",
     "text": [
      "[[8.26709309e+01+9.19763280e+01j 8.26709309e+01+9.19763280e+01j\n",
      "  7.46427237e-04+6.53659050e-04j 8.26709309e+01+9.19763280e+01j]\n",
      " [8.26709309e+01+9.19763280e+01j 4.74646735e-03+2.21801908e-03j\n",
      "  4.38225442e-03+1.40960349e-03j 3.83196031e-03+5.21136416e-03j]\n",
      " [5.93187216e-03+4.65450823e-03j 3.41186895e-03+9.12407671e-03j\n",
      "  6.21762685e-03+3.49640151e-03j 6.11048626e-03+8.50189677e-04j]\n",
      " [8.26709309e+01+9.19763280e+01j 6.11428477e-03+8.86249623e-04j\n",
      "  6.58547689e-03+1.72597654e-03j 9.67159414e-03+4.16688724e-03j]]\n"
     ]
    }
   ],
   "source": [
    "#image of the sky filled with single precision complex floats\n",
    "#pixels are set to low complex random values (image background) \n",
    "#few pixels are set to larger complex random values in a specified ellipse area (image source/subject)\n",
    "\n",
    "n = 4\n",
    "image = np.zeros((n, n), dtype=complex)\n",
    "image.real = np.random.rand(n , n) / 100\n",
    "image.imag = np.random.rand(n , n) / 100\n",
    "\n",
    "h, w = image.shape\n",
    "mask = circular_mask(h, w, radius=h/2)\n",
    "sky_image = image.copy()\n",
    "sky_image[~mask] = complex(np.random.rand() * 100, np.random.rand() * 100)\n",
    "print(sky_image)"
   ]
  },
  {
   "cell_type": "markdown",
   "id": "37d98bdc",
   "metadata": {},
   "source": [
    "## Applying 2D Fourier transform (visibilities)"
   ]
  },
  {
   "cell_type": "code",
   "execution_count": 15,
   "id": "77e72e60",
   "metadata": {},
   "outputs": [
    {
     "name": "stdout",
     "output_type": "stream",
     "text": [
      "[[ 413.41240507+459.91603682j  248.00279284+275.93169422j\n",
      "    82.66090795 +91.96581134j  247.99879303+275.92101138j]\n",
      " [ 247.99392729+275.92092309j   82.65804095 +91.96932708j\n",
      "   -82.67550429 -91.97885519j   82.68353235 +91.9752989j ]\n",
      " [  82.65801719 +91.97948871j  -82.64644753 -91.97263213j\n",
      "  -247.9960227 -275.92080669j  -82.67554327 -91.97274376j]\n",
      " [ 247.98980755+275.90210174j   82.66635183 +91.97430811j\n",
      "   -82.67011905 -91.96884673j   82.67395597 +91.97913076j]]\n"
     ]
    }
   ],
   "source": [
    "visibilities = np.fft.fft2(sky_image)\n",
    "print(visibilities)"
   ]
  },
  {
   "cell_type": "markdown",
   "id": "54b17cf9",
   "metadata": {},
   "source": [
    "### Sanity check"
   ]
  },
  {
   "cell_type": "code",
   "execution_count": 16,
   "id": "6f6306ea",
   "metadata": {},
   "outputs": [
    {
     "name": "stdout",
     "output_type": "stream",
     "text": [
      "[[8.26709309e+01+9.19763280e+01j 8.26709309e+01+9.19763280e+01j\n",
      "  7.46427237e-04+6.53659050e-04j 8.26709309e+01+9.19763280e+01j]\n",
      " [8.26709309e+01+9.19763280e+01j 4.74646735e-03+2.21801908e-03j\n",
      "  4.38225442e-03+1.40960349e-03j 3.83196031e-03+5.21136416e-03j]\n",
      " [5.93187216e-03+4.65450823e-03j 3.41186895e-03+9.12407671e-03j\n",
      "  6.21762685e-03+3.49640151e-03j 6.11048626e-03+8.50189677e-04j]\n",
      " [8.26709309e+01+9.19763280e+01j 6.11428477e-03+8.86249623e-04j\n",
      "  6.58547689e-03+1.72597654e-03j 9.67159414e-03+4.16688724e-03j]]\n",
      "\n",
      "Reals MSE: 8.596881362735092e-30\n",
      "Imaginaries MSE: 1.543105620712343e-29\n"
     ]
    }
   ],
   "source": [
    "img = np.fft.ifft2(visibilities)\n",
    "print(img)\n",
    "test_real = ((sky_image.real - img.real)**2).mean()\n",
    "test_imag = ((sky_image.imag - img.imag)**2).mean()\n",
    "\n",
    "print()\n",
    " \n",
    "print('Reals MSE: '+ str(test_real))\n",
    "print('Imaginaries MSE: ' + str(test_imag))"
   ]
  },
  {
   "cell_type": "markdown",
   "id": "56a9e4a5",
   "metadata": {},
   "source": [
    "## Classical data encoding/decoding"
   ]
  },
  {
   "cell_type": "code",
   "execution_count": 17,
   "id": "3a57bccb",
   "metadata": {},
   "outputs": [
    {
     "name": "stdout",
     "output_type": "stream",
     "text": [
      "[[ 413.41241455+459.91604614j  248.00279236+275.93170166j\n",
      "    82.66091156 +91.96581268j  247.99879456+275.92102051j]\n",
      " [ 247.993927  +275.92092896j   82.65804291 +91.96932983j\n",
      "   -82.67550659 -91.97885895j   82.68353271 +91.97529602j]\n",
      " [  82.65802002 +91.97949219j  -82.64644623 -91.97263336j\n",
      "  -247.99601746-275.92080688j  -82.67554474 -91.97274017j]\n",
      " [ 247.98980713+275.90209961j   82.66635132 +91.97431183j\n",
      "   -82.67012024 -91.96884918j   82.67395782 +91.97913361j]]\n"
     ]
    }
   ],
   "source": [
    "number_of_entries = visibilities.shape[0] * visibilities.shape[1]\n",
    "number_of_bits_real = 32 #since single precision complex floats\n",
    "number_of_bits_imag = 32\n",
    "number_of_bits = number_of_bits_real + number_of_bits_imag\n",
    "off_set = 0\n",
    "\n",
    "qc = QuantumCircuit(number_of_entries*number_of_bits) #n bits encoded into n qbits (circuit family #1)\n",
    "for i in range(0, visibilities.shape[0]):\n",
    "    for j in range(0, visibilities.shape[1]):\n",
    "            binary_real = float_to_bin_real(visibilities[i, j].real)\n",
    "            binary_imag = float_to_bin_imag(visibilities[i, j].imag)\n",
    "            binary = binary_real+binary_imag\n",
    "            off_set = encoding2(qc, binary, off_set)\n",
    "\n",
    "#measurement\n",
    "qc.measure_all()\n",
    "backend = Aer.get_backend('aer_simulator')\n",
    "job = backend.run(qc, shots=1, memory=True)\n",
    "output = job.result().get_memory()[0]\n",
    "out = reverse(output)\n",
    "\n",
    "#readout\n",
    "chunks_real = []\n",
    "chunks_imag = []\n",
    "for i in range(0, number_of_entries):\n",
    "    chunks_real.append(out[number_of_bits*i:(number_of_bits*i)+number_of_bits_real]) #real parts represented every 64 bits starting from the first one\n",
    "    chunks_imag.append(out[(number_of_bits*i)+number_of_bits_imag:(number_of_bits*i)+number_of_bits_imag+number_of_bits_imag]) #imaginary parts represented every 64 bits starting after the first occurence of a real part  \n",
    "readout = []\n",
    "for i in range(0, len(chunks_real)):\n",
    "    readout.append(complex(bin_to_float_real(chunks_real[i]), bin_to_float_imag(chunks_imag[i]))) \n",
    "\n",
    "#reshaping the readout vector into a nxn matrix\n",
    "readout = np.array(readout).reshape(n , n)\n",
    "print(readout)"
   ]
  },
  {
   "cell_type": "markdown",
   "id": "2f5fd4fd",
   "metadata": {},
   "source": [
    "## Applying 2D Inverse Fourier transform (+ fidelity test)"
   ]
  },
  {
   "cell_type": "code",
   "execution_count": 18,
   "id": "6aa9775a",
   "metadata": {},
   "outputs": [
    {
     "name": "stdout",
     "output_type": "stream",
     "text": [
      "[[8.26709323e+01+9.19763303e+01j 8.26709313e+01+9.19763293e+01j\n",
      "  7.47203827e-04+6.52790070e-04j 8.26709313e+01+9.19763293e+01j]\n",
      " [8.26709313e+01+9.19763293e+01j 4.74596024e-03+2.21776962e-03j\n",
      "  4.38165665e-03+1.40905380e-03j 3.83234024e-03+5.21230698e-03j]\n",
      " [5.93328476e-03+4.65631485e-03j 3.41272354e-03+9.12427902e-03j\n",
      "  6.21938705e-03+3.49664688e-03j 6.10971451e-03+8.50200653e-04j]\n",
      " [8.26709313e+01+9.19763293e+01j 6.11543655e-03+8.86440277e-04j\n",
      "  6.58655167e-03+1.72567368e-03j 9.67264175e-03+4.16707993e-03j]]\n",
      "\n",
      "Reals MSE: 8.608877671981738e-13\n",
      "Imaginaries MSE: 1.1331686939524147e-12\n"
     ]
    }
   ],
   "source": [
    "img = np.fft.ifft2(readout)\n",
    "print(img)\n",
    "test_real = ((sky_image.real - img.real)**2).mean()\n",
    "test_imag = ((sky_image.imag - img.imag)**2).mean()\n",
    "\n",
    "print()\n",
    "\n",
    "print('Reals MSE: '+ str(test_real))\n",
    "print('Imaginaries MSE: ' + str(test_imag))"
   ]
  },
  {
   "cell_type": "markdown",
   "id": "728a6fdf",
   "metadata": {},
   "source": [
    "## Utils"
   ]
  },
  {
   "cell_type": "markdown",
   "id": "051da409",
   "metadata": {},
   "source": [
    "### Quantum"
   ]
  },
  {
   "cell_type": "code",
   "execution_count": 19,
   "id": "ce856250",
   "metadata": {},
   "outputs": [],
   "source": [
    "def encoding2(qc, binary, off_set):\n",
    "    \n",
    "    for i in range(0, len(binary)):\n",
    "        qc.reset(off_set+i)\n",
    "\n",
    "        if binary[i]=='1':\n",
    "            qc.x(off_set+i)\n",
    "    \n",
    "    off_set += len(binary)\n",
    "\n",
    "    return off_set"
   ]
  },
  {
   "cell_type": "markdown",
   "id": "5d0bb1e7",
   "metadata": {},
   "source": [
    "### Classical"
   ]
  },
  {
   "cell_type": "code",
   "execution_count": 20,
   "id": "253aa61f",
   "metadata": {},
   "outputs": [],
   "source": [
    "#float to binary / binary to float\n",
    "def float_to_bin_real(num):\n",
    "    return format(struct.unpack('!I', struct.pack('!f', num))[0], '032b')\n",
    "def float_to_bin_imag(num):\n",
    "    return format(struct.unpack('!I', struct.pack('!f', num))[0], '032b')\n",
    "\n",
    "def bin_to_float_real(binary):\n",
    "    return struct.unpack('!f',struct.pack('!I', int(binary, 2)))[0]\n",
    "def bin_to_float_imag(binary):\n",
    "    return struct.unpack('!f',struct.pack('!I', int(binary, 2)))[0]\n",
    "\n",
    "#reverse a string (for the measurement step readout)\n",
    "def reverse(string):\n",
    "    string = string[::-1]\n",
    "    return string\n",
    "\n",
    "#creates a circular mask over a 2D array\n",
    "def circular_mask(h, w, center=None, radius=None):\n",
    "    if center is None: #image center\n",
    "        center = (int(w/2), int(h/2))\n",
    "    if radius is None: #smallest distance between center and image bounderies\n",
    "        radius = min(center[0], center[1], w-center[0], h-center[1])\n",
    "        \n",
    "    Y, X = np.ogrid[:h, :w]\n",
    "    dist_from_center = np.sqrt((X - center[0])**2 + (Y-center[1])**2)\n",
    "    mask = dist_from_center <= radius\n",
    "    \n",
    "    return mask"
   ]
  },
  {
   "cell_type": "code",
   "execution_count": null,
   "id": "16cce23f",
   "metadata": {},
   "outputs": [],
   "source": []
  }
 ],
 "metadata": {
  "kernelspec": {
   "display_name": "Python 3",
   "language": "python",
   "name": "python3"
  },
  "language_info": {
   "codemirror_mode": {
    "name": "ipython",
    "version": 3
   },
   "file_extension": ".py",
   "mimetype": "text/x-python",
   "name": "python",
   "nbconvert_exporter": "python",
   "pygments_lexer": "ipython3",
   "version": "3.8.8"
  }
 },
 "nbformat": 4,
 "nbformat_minor": 5
}
