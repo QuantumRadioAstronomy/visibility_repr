{
 "cells": [
  {
   "cell_type": "markdown",
   "id": "2a6105cd",
   "metadata": {},
   "source": [
    "# Naive representation pipeline (qiskit)\n",
    "\n",
    "Main steps:\n",
    "\n",
    "* input: image of the sky (frequency domain)\n",
    "* apply 2D Fourier transform --> visibilities (Fourier domain)\n",
    "* encode classical visibilities data into qbits (non-conventional domain)\n",
    "* measure qbits (back to conventional domain)\n",
    "* apply 2D Inverse Fourier transform --> original image?"
   ]
  },
  {
   "cell_type": "code",
   "execution_count": 22,
   "id": "ad6cbc81",
   "metadata": {},
   "outputs": [],
   "source": [
    "import numpy as np\n",
    "import sys\n",
    "import struct\n",
    "\n",
    "import qiskit\n",
    "from qiskit import *\n",
    "from qiskit.visualization import plot_histogram"
   ]
  },
  {
   "cell_type": "markdown",
   "id": "d6af5b75",
   "metadata": {},
   "source": [
    "## Generating an artificial image of the sky"
   ]
  },
  {
   "cell_type": "code",
   "execution_count": 30,
   "id": "517eeac8",
   "metadata": {},
   "outputs": [
    {
     "name": "stdout",
     "output_type": "stream",
     "text": [
      "[[1.1381033e+01+7.4026764e+01j 1.1381033e+01+7.4026764e+01j\n",
      "  5.5577266e-03+6.7168823e-04j 1.1381033e+01+7.4026764e+01j]\n",
      " [1.1381033e+01+7.4026764e+01j 9.0924306e-03+2.2347141e-03j\n",
      "  8.4902812e-03+7.9622259e-03j 3.3545624e-03+1.1026422e-03j]\n",
      " [6.5371674e-03+8.7434370e-03j 1.8683868e-03+7.2393091e-03j\n",
      "  3.6867277e-03+1.2568048e-03j 6.8683354e-03+3.4162225e-03j]\n",
      " [1.1381033e+01+7.4026764e+01j 7.8385286e-03+2.8767535e-03j\n",
      "  5.7907579e-03+5.6034480e-03j 2.4548810e-04+1.8364440e-04j]]\n"
     ]
    }
   ],
   "source": [
    "#image of the sky filled with single precision complex floats\n",
    "#pixels are set to low complex random values (image background) \n",
    "#few pixels are set to larger complex random values in a specified ellipse area (image source/subject)\n",
    "\n",
    "n = 4\n",
    "image = np.zeros((n, n), dtype='complex64')\n",
    "image.real = np.random.rand(n , n) / 100\n",
    "image.imag = np.random.rand(n , n) / 100\n",
    "\n",
    "h, w = image.shape\n",
    "mask = circular_mask(h, w, radius=h/2)\n",
    "sky_image = image.copy()\n",
    "sky_image[~mask] = complex(np.random.rand() * 100, np.random.rand() * 100)\n",
    "print(sky_image)"
   ]
  },
  {
   "cell_type": "markdown",
   "id": "37d98bdc",
   "metadata": {},
   "source": [
    "## Applying 2D Fourier transform (visibilities)"
   ]
  },
  {
   "cell_type": "code",
   "execution_count": 33,
   "id": "77e72e60",
   "metadata": {},
   "outputs": [
    {
     "name": "stdout",
     "output_type": "stream",
     "text": [
      "[[ 56.964497+370.1751j    34.13376 +222.06522j   11.381828 +74.03395j\n",
      "   34.11846 +222.08188j ]\n",
      " [ 34.13233 +222.05324j   11.368299 +74.01787j  -11.374881 -74.02377j\n",
      "   11.372234 +74.02474j ]\n",
      " [ 11.370739 +74.02813j  -11.369461 -73.98805j  -34.129803-222.08745j\n",
      "  -11.369457 -74.02471j ]\n",
      " [ 34.12706 +222.06737j   11.369306 +74.009346j -11.379045 -74.0271j\n",
      "   11.380662 +74.02247j ]]\n"
     ]
    }
   ],
   "source": [
    "visibilities = np.fft.fft2(sky_image).astype('complex64')\n",
    "print(visibilities)"
   ]
  },
  {
   "cell_type": "markdown",
   "id": "54b17cf9",
   "metadata": {},
   "source": [
    "### Sanity check"
   ]
  },
  {
   "cell_type": "code",
   "execution_count": 43,
   "id": "6f6306ea",
   "metadata": {},
   "outputs": [
    {
     "name": "stdout",
     "output_type": "stream",
     "text": [
      "[[1.1381033e+01+7.4026764e+01j 1.1381033e+01+7.4026764e+01j\n",
      "  5.5578351e-03+6.6995621e-04j 1.1381033e+01+7.4026764e+01j]\n",
      " [1.1381033e+01+7.4026764e+01j 9.0927482e-03+2.2338629e-03j\n",
      "  8.4905624e-03+7.9619288e-03j 3.3550858e-03+1.1023283e-03j]\n",
      " [6.5372586e-03+8.7447166e-03j 1.8687248e-03+7.2402358e-03j\n",
      "  3.6870837e-03+1.2564659e-03j 6.8678856e-03+3.4170747e-03j]\n",
      " [1.1381033e+01+7.4026764e+01j 7.8383088e-03+2.8764009e-03j\n",
      "  5.7907104e-03+5.6031346e-03j 2.4551153e-04+1.8274784e-04j]]\n",
      "\n",
      "Reals MSE: 6.0531455e-14\n",
      "Imaginaries MSE: 5.17173e-13\n"
     ]
    }
   ],
   "source": [
    "img = np.fft.ifft2(visibilities).astype('complex64')\n",
    "\n",
    "print(img)\n",
    "\n",
    "test_real = ((sky_image.real - img.real)**2).mean()\n",
    "test_imag = ((sky_image.imag - img.imag)**2).mean()\n",
    "\n",
    "print()\n",
    " \n",
    "print('Reals MSE: '+ str(test_real))\n",
    "print('Imaginaries MSE: ' + str(test_imag))"
   ]
  },
  {
   "cell_type": "markdown",
   "id": "56a9e4a5",
   "metadata": {},
   "source": [
    "## Classical data encoding/decoding"
   ]
  },
  {
   "cell_type": "code",
   "execution_count": 55,
   "id": "3a57bccb",
   "metadata": {},
   "outputs": [
    {
     "name": "stdout",
     "output_type": "stream",
     "text": [
      "[[ 56.964497+370.1751j    34.13376 +222.06522j   11.381828 +74.03395j\n",
      "   34.11846 +222.08188j ]\n",
      " [ 34.13233 +222.05324j   11.368299 +74.01787j  -11.374881 -74.02377j\n",
      "   11.372234 +74.02474j ]\n",
      " [ 11.370739 +74.02813j  -11.369461 -73.98805j  -34.129803-222.08745j\n",
      "  -11.369457 -74.02471j ]\n",
      " [ 34.12706 +222.06737j   11.369306 +74.009346j -11.379045 -74.0271j\n",
      "   11.380662 +74.02247j ]]\n"
     ]
    }
   ],
   "source": [
    "number_of_entries = visibilities.shape[0] * visibilities.shape[1]\n",
    "number_of_bits_real = 32 #since single precision complex floats\n",
    "number_of_bits_imag = 32\n",
    "number_of_bits = number_of_bits_real + number_of_bits_imag\n",
    "off_set = 0\n",
    "\n",
    "qc = QuantumCircuit(number_of_entries*number_of_bits) #n bits encoded into n qbits (circuit family #1)\n",
    "for i in range(0, visibilities.shape[0]):\n",
    "    for j in range(0, visibilities.shape[1]):\n",
    "            binary_real = float_to_bin_real(visibilities[i, j].real)\n",
    "            binary_imag = float_to_bin_imag(visibilities[i, j].imag)\n",
    "            binary = binary_real+binary_imag\n",
    "            off_set = encoding2(qc, binary, off_set)\n",
    "\n",
    "#measurement\n",
    "qc.measure_all()\n",
    "backend = Aer.get_backend('aer_simulator')\n",
    "job = backend.run(qc, shots=1, memory=True)\n",
    "output = job.result().get_memory()[0]\n",
    "out = reverse(output)\n",
    "\n",
    "#readout\n",
    "chunks_real = []\n",
    "chunks_imag = []\n",
    "for i in range(0, number_of_entries):\n",
    "    chunks_real.append(out[number_of_bits*i:(number_of_bits*i)+number_of_bits_real]) #real parts represented every 64 bits starting from the first one\n",
    "    chunks_imag.append(out[(number_of_bits*i)+number_of_bits_imag:(number_of_bits*i)+number_of_bits_imag+number_of_bits_imag]) #imaginary parts represented every 64 bits starting after the first occurence of a real part \n",
    "\n",
    "readout = []\n",
    "for i in range(0, len(chunks_real)):\n",
    "    readout.append(complex(bin_to_float_real(chunks_real[i]), bin_to_float_imag(chunks_imag[i]))) \n",
    "\n",
    "#reshaping the readout vector into a nxn matrix\n",
    "readout = np.array(readout).reshape(n , n).astype('complex64')\n",
    "print(readout)"
   ]
  },
  {
   "cell_type": "markdown",
   "id": "2f5fd4fd",
   "metadata": {},
   "source": [
    "## Applying 2D Inverse Fourier transform (+ fidelity test)"
   ]
  },
  {
   "cell_type": "code",
   "execution_count": 60,
   "id": "6aa9775a",
   "metadata": {},
   "outputs": [
    {
     "name": "stdout",
     "output_type": "stream",
     "text": [
      "[[1.1381033e+01+7.4026764e+01j 1.1381033e+01+7.4026764e+01j\n",
      "  5.5578351e-03+6.6995621e-04j 1.1381033e+01+7.4026764e+01j]\n",
      " [1.1381033e+01+7.4026764e+01j 9.0927482e-03+2.2338629e-03j\n",
      "  8.4905624e-03+7.9619288e-03j 3.3550858e-03+1.1023283e-03j]\n",
      " [6.5372586e-03+8.7447166e-03j 1.8687248e-03+7.2402358e-03j\n",
      "  3.6870837e-03+1.2564659e-03j 6.8678856e-03+3.4170747e-03j]\n",
      " [1.1381033e+01+7.4026764e+01j 7.8383088e-03+2.8764009e-03j\n",
      "  5.7907104e-03+5.6031346e-03j 2.4551153e-04+1.8274784e-04j]]\n",
      "\n",
      "Reals MSE: 6.0531455e-14\n",
      "Imaginaries MSE: 5.17173e-13\n"
     ]
    }
   ],
   "source": [
    "img = np.fft.ifft2(readout).astype('complex64')\n",
    "print(img)\n",
    "test_real = ((sky_image.real - img.real)**2).mean()\n",
    "test_imag = ((sky_image.imag - img.imag)**2).mean()\n",
    "\n",
    "print()\n",
    "\n",
    "print('Reals MSE: '+ str(test_real))\n",
    "print('Imaginaries MSE: ' + str(test_imag))"
   ]
  },
  {
   "cell_type": "markdown",
   "id": "728a6fdf",
   "metadata": {},
   "source": [
    "## Utils"
   ]
  },
  {
   "cell_type": "markdown",
   "id": "051da409",
   "metadata": {},
   "source": [
    "### Quantum"
   ]
  },
  {
   "cell_type": "code",
   "execution_count": 7,
   "id": "ce856250",
   "metadata": {},
   "outputs": [],
   "source": [
    "def encoding2(qc, binary, off_set):\n",
    "    \n",
    "    for i in range(0, len(binary)):\n",
    "        qc.reset(off_set+i)\n",
    "\n",
    "        if binary[i]=='1':\n",
    "            qc.x(off_set+i)\n",
    "    \n",
    "    off_set += len(binary)\n",
    "\n",
    "    return off_set"
   ]
  },
  {
   "cell_type": "markdown",
   "id": "5d0bb1e7",
   "metadata": {},
   "source": [
    "### Classical"
   ]
  },
  {
   "cell_type": "code",
   "execution_count": 2,
   "id": "253aa61f",
   "metadata": {},
   "outputs": [],
   "source": [
    "#float to binary / binary to float\n",
    "def float_to_bin_real(num):\n",
    "    return format(struct.unpack('!I', struct.pack('!f', num))[0], '032b')\n",
    "def float_to_bin_imag(num):\n",
    "    return format(struct.unpack('!I', struct.pack('!f', num))[0], '032b')\n",
    "\n",
    "def bin_to_float_real(binary):\n",
    "    return struct.unpack('!f',struct.pack('!I', int(binary, 2)))[0]\n",
    "def bin_to_float_imag(binary):\n",
    "    return struct.unpack('!f',struct.pack('!I', int(binary, 2)))[0]\n",
    "\n",
    "#reverse a string (for the measurement step readout)\n",
    "def reverse(string):\n",
    "    string = string[::-1]\n",
    "    return string\n",
    "\n",
    "#creates a circular mask over a 2D array\n",
    "def circular_mask(h, w, center=None, radius=None):\n",
    "    if center is None: #image center\n",
    "        center = (int(w/2), int(h/2))\n",
    "    if radius is None: #smallest distance between center and image bounderies\n",
    "        radius = min(center[0], center[1], w-center[0], h-center[1])\n",
    "        \n",
    "    Y, X = np.ogrid[:h, :w]\n",
    "    dist_from_center = np.sqrt((X - center[0])**2 + (Y-center[1])**2)\n",
    "    mask = dist_from_center <= radius\n",
    "    \n",
    "    return mask"
   ]
  },
  {
   "cell_type": "code",
   "execution_count": null,
   "id": "16cce23f",
   "metadata": {},
   "outputs": [],
   "source": []
  }
 ],
 "metadata": {
  "kernelspec": {
   "display_name": "Python 3",
   "language": "python",
   "name": "python3"
  },
  "language_info": {
   "codemirror_mode": {
    "name": "ipython",
    "version": 3
   },
   "file_extension": ".py",
   "mimetype": "text/x-python",
   "name": "python",
   "nbconvert_exporter": "python",
   "pygments_lexer": "ipython3",
   "version": "3.8.8"
  }
 },
 "nbformat": 4,
 "nbformat_minor": 5
}
